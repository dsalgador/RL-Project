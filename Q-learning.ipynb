{
 "cells": [
  {
   "cell_type": "code",
   "execution_count": 1,
   "metadata": {
    "collapsed": true
   },
   "outputs": [],
   "source": [
    "import model\n",
    "import numpy as np\n",
    "import random\n",
    "from utils import simple_graph\n",
    "import tank\n",
    "import truck\n",
    "\n",
    "\n",
    "import matplotlib.pyplot as plt\n",
    "from matplotlib import animation, rc\n",
    "from IPython.display import HTML"
   ]
  },
  {
   "cell_type": "code",
   "execution_count": 2,
   "metadata": {
    "collapsed": true
   },
   "outputs": [],
   "source": [
    "\n",
    "def initialize_system():\n",
    "    # Tanks' information\n",
    "    global n\n",
    "    n=5\n",
    "    tank_ids = list(range(1,n+1))\n",
    "    tank_max_loads =  np.array([100., 100., 200., 300., 400.])\n",
    "    tank_current_loads =  np.array([50., 60., 120., 150., 300.])\n",
    "    tank_consumption_rates =  np.array([10.] * n)\n",
    "    \n",
    "    global n_discrete_load_levels\n",
    "    n_discrete_load_levels = np.array([5,5,10,10,10])\n",
    "\n",
    "    # Trucks' information\n",
    "    global k\n",
    "    k=2\n",
    "    truck_ids = list(range(k))\n",
    "    truck_max_loads = np.array([20., 50.])\n",
    "    truck_current_loads = truck_max_loads.copy()\n",
    "    truck_current_positions =  np.array([0] * k)\n",
    "    #truck_fractions_deliverable =  np.array([1.] * k) # we for now we only allow to deliver all the content of the truck\n",
    "    truck_fractions_deliverable =  np.array([ np.array([0.5, 1.]), \n",
    "                                              np.array([0.5, 1.])\n",
    "                                            ]) # we for now we only allow to deliver all the content of the truck\n",
    "    global n_discrete_load_levels_trucks\n",
    "    n_discrete_load_levels_trucks = np.array([2,2])\n",
    "\n",
    "    # System's information\n",
    "    def simple_graph(n: int):    \n",
    "        A = np.zeros((n,n))\n",
    "        A[0,0:n] = 1\n",
    "        A = A.astype(int)\n",
    "        return(A)\n",
    "\n",
    "    graph = simple_graph(n+1)\n",
    "    tanks = [tank.Tank( tank_id, current_load, max_load, consumption_rate, n_lvls) \n",
    "             for  tank_id, current_load, max_load, consumption_rate, n_lvls in \n",
    "             zip( tank_ids, tank_current_loads, tank_max_loads, tank_consumption_rates, n_discrete_load_levels)]\n",
    "    trucks = [truck.Truck( truck_id, current_load, max_load, current_position, load_fractions_deliverable, n_lvls) \n",
    "             for  truck_id, current_load, max_load, current_position, load_fractions_deliverable, n_lvls in \n",
    "             zip(truck_ids, truck_current_loads, truck_max_loads, truck_current_positions, \n",
    "                 truck_fractions_deliverable, n_discrete_load_levels_trucks)]\n",
    "\n",
    "    def simple_weights(n: int, w: float):    \n",
    "        W = np.full((n,n), np.inf)\n",
    "        W[0,:] = w\n",
    "        return(W)\n",
    "    w =  np.array([0, 20., 10., 30., 50.5, 45.])\n",
    "\n",
    "    weights_matrix = simple_weights(n+1, w)\n",
    "    \n",
    "    return(tanks, trucks, graph, weights_matrix)\n",
    "\n",
    "\n"
   ]
  },
  {
   "cell_type": "code",
   "execution_count": 3,
   "metadata": {
    "collapsed": true
   },
   "outputs": [],
   "source": [
    "tanks, trucks, graph, weights_matrix = initialize_system()\n",
    "toy_system = model.System(tanks = tanks, trucks = trucks, adjacency_matrix = graph, weights_matrix = weights_matrix)"
   ]
  },
  {
   "cell_type": "code",
   "execution_count": 4,
   "metadata": {},
   "outputs": [
    {
     "name": "stdout",
     "output_type": "stream",
     "text": [
      "Final rewards:  -95.5\n",
      "Final rewards:  -inf\n",
      "Final rewards:  -inf\n",
      "Final rewards:  -inf\n",
      "Final rewards:  -inf\n",
      "Final rewards:  -inf\n",
      "Final rewards:  -inf\n",
      "Final rewards:  -inf\n",
      "Final rewards:  -inf\n",
      "Final rewards:  -inf\n",
      "Final rewards:  -inf\n",
      "Final rewards:  -inf\n",
      "Final rewards:  -inf\n",
      "Final rewards:  -inf\n",
      "Final rewards:  -inf\n",
      "Final rewards:  -inf\n",
      "Final rewards:  -inf\n",
      "Final rewards:  -inf\n",
      "Final rewards:  -inf\n",
      "Final rewards:  -inf\n",
      "Final rewards:  -inf\n",
      "Final rewards:  -inf\n",
      "Final rewards:  -inf\n",
      "Final rewards:  -inf\n",
      "Final rewards:  -inf\n",
      "Final rewards:  -inf\n",
      "Final rewards:  -inf\n",
      "Final rewards:  -inf\n",
      "Final rewards:  -inf\n",
      "Final rewards:  -inf\n",
      "Final rewards:  -inf\n",
      "Final rewards:  -inf\n",
      "Final rewards:  -inf\n",
      "Final rewards:  -inf\n",
      "Final rewards:  -inf\n",
      "Final rewards:  -inf\n",
      "Final rewards:  -inf\n",
      "Final rewards:  -inf\n",
      "Final rewards:  -inf\n",
      "Final rewards:  -inf\n",
      "Final rewards:  -inf\n",
      "Final rewards:  -inf\n",
      "Final rewards:  -inf\n",
      "Final rewards:  -inf\n",
      "Final rewards:  -inf\n",
      "Final rewards:  -inf\n",
      "Final rewards:  -inf\n",
      "Final rewards:  -inf\n",
      "Final rewards:  -inf\n",
      "Final rewards:  -inf\n"
     ]
    },
    {
     "data": {
      "image/png": "[encoded data removed]",
      "text/plain": [
       "<matplotlib.figure.Figure at 0x7f9896e10940>"
      ]
     },
     "metadata": {},
     "output_type": "display_data"
    }
   ],
   "source": [
    "# Simulation\n",
    "%matplotlib inline\n",
    "\n",
    "seed = None \n",
    "\n",
    "iterations = 50\n",
    "visualization_steps = []\n",
    "rewards_list = []\n",
    "\n",
    "for it in range(iterations):\n",
    "    rewards = toy_system.random_action(seed);\n",
    "    rewards_list.append(rewards)\n",
    "    #print(toy_system.state())\n",
    "    print(\"Final rewards: \", rewards);\n",
    "    toy_system.reset_trucks_positions();\n",
    "    visualization_steps.append(toy_system.visualize());"
   ]
  },
  {
   "cell_type": "code",
   "execution_count": 5,
   "metadata": {},
   "outputs": [
    {
     "data": {
      "text/plain": [
       "[40.0, 50.0, 120.0, 140.0, 315.0]"
      ]
     },
     "execution_count": 5,
     "metadata": {},
     "output_type": "execute_result"
    }
   ],
   "source": [
    "visualization_steps[0][2]"
   ]
  },
  {
   "cell_type": "code",
   "execution_count": 6,
   "metadata": {},
   "outputs": [
    {
     "data": {
      "text/plain": [
       "array([1, 2, 3, 4, 5])"
      ]
     },
     "execution_count": 6,
     "metadata": {},
     "output_type": "execute_result"
    }
   ],
   "source": [
    "visualization_steps[0][0]+1"
   ]
  },
  {
   "cell_type": "code",
   "execution_count": 7,
   "metadata": {
    "collapsed": true
   },
   "outputs": [],
   "source": [
    "visualization_steps;"
   ]
  },
  {
   "cell_type": "code",
   "execution_count": null,
   "metadata": {
    "collapsed": true
   },
   "outputs": [],
   "source": []
  },
  {
   "cell_type": "code",
   "execution_count": 8,
   "metadata": {
    "collapsed": true
   },
   "outputs": [],
   "source": [
    "def create_system_animation(visualization_steps, n_iterations, skip = 1):\n",
    "    \n",
    "    def barlist(n, visualization_steps = visualization_steps): \n",
    "        return visualization_steps[n][2]\n",
    "\n",
    "    fig=plt.figure()\n",
    "\n",
    "    N=int(n_iterations/skip) #Number of frames\n",
    "    x=visualization_steps[0][0]+1\n",
    "\n",
    "    plt.bar(x,visualization_steps[0][1], color = 'black')\n",
    "    barcollection = plt.bar(x,barlist(0), color = 'blue')\n",
    "\n",
    "    def animate(i):\n",
    "        y=barlist(i+1)\n",
    "        for i, b in enumerate(barcollection):\n",
    "            b.set_height(y[i])\n",
    "\n",
    "    anim=animation.FuncAnimation(fig,animate,repeat=False,blit=False,frames=N-1,\n",
    "                                 interval=100)\n",
    "    return(anim)\n",
    "    #anim.save('mymovie.mp4',writer=animation.FFMpegWriter(fps=10))\n",
    "    #plt.show()"
   ]
  },
  {
   "cell_type": "code",
   "execution_count": 9,
   "metadata": {
    "collapsed": true
   },
   "outputs": [],
   "source": [
    "#toy_system.visualize_step(visualization_steps[2]);"
   ]
  },
  {
   "cell_type": "code",
   "execution_count": 10,
   "metadata": {},
   "outputs": [
    {
     "data": {
      "text/plain": [
       "[<matplotlib.lines.Line2D at 0x7f988eb87d68>]"
      ]
     },
     "execution_count": 10,
     "metadata": {},
     "output_type": "execute_result"
    },
    {
     "data": {
      "image/png": "[encoded data removed]",
      "text/plain": [
       "<matplotlib.figure.Figure at 0x7f988ef87b00>"
      ]
     },
     "metadata": {},
     "output_type": "display_data"
    }
   ],
   "source": [
    "%matplotlib inline\n",
    "plt.plot(range(iterations),rewards_list)"
   ]
  },
  {
   "cell_type": "code",
   "execution_count": 11,
   "metadata": {},
   "outputs": [
    {
     "data": {
      "text/plain": [
       "3600000"
      ]
     },
     "execution_count": 11,
     "metadata": {},
     "output_type": "execute_result"
    }
   ],
   "source": [
    "toy_system.n_states()"
   ]
  },
  {
   "cell_type": "code",
   "execution_count": 12,
   "metadata": {},
   "outputs": [
    {
     "data": {
      "text/plain": [
       "3600000"
      ]
     },
     "execution_count": 12,
     "metadata": {},
     "output_type": "execute_result"
    }
   ],
   "source": [
    "n_s = ((n+1)**k)\n",
    "a = np.prod(n_discrete_load_levels)\n",
    "b = np.prod(n_discrete_load_levels_trucks)\n",
    "n_s = n_s *a *b\n",
    "n_s"
   ]
  },
  {
   "cell_type": "code",
   "execution_count": null,
   "metadata": {
    "collapsed": true
   },
   "outputs": [],
   "source": []
  },
  {
   "cell_type": "code",
   "execution_count": null,
   "metadata": {
    "collapsed": true
   },
   "outputs": [],
   "source": []
  },
  {
   "cell_type": "code",
   "execution_count": null,
   "metadata": {
    "collapsed": true
   },
   "outputs": [],
   "source": []
  },
  {
   "cell_type": "code",
   "execution_count": null,
   "metadata": {
    "collapsed": true
   },
   "outputs": [],
   "source": [
    "\n"
   ]
  },
  {
   "cell_type": "code",
   "execution_count": null,
   "metadata": {
    "collapsed": true
   },
   "outputs": [],
   "source": []
  },
  {
   "cell_type": "code",
   "execution_count": null,
   "metadata": {
    "collapsed": true
   },
   "outputs": [],
   "source": []
  },
  {
   "cell_type": "code",
   "execution_count": null,
   "metadata": {
    "collapsed": true
   },
   "outputs": [],
   "source": []
  },
  {
   "cell_type": "markdown",
   "metadata": {},
   "source": [
    "# Small system to apply Q-learning algorithm\n"
   ]
  },
  {
   "cell_type": "code",
   "execution_count": 13,
   "metadata": {},
   "outputs": [
    {
     "name": "stdout",
     "output_type": "stream",
     "text": [
      "[[ inf  inf  inf  inf  inf  inf]\n",
      " [ inf  inf  inf  inf  inf  inf]\n",
      " [ inf  inf  inf  inf  inf  inf]\n",
      " [ inf  inf  inf  inf  inf  inf]\n",
      " [ inf  inf  inf  inf  inf  inf]\n",
      " [  0.  20.  20.  20.  20.  20.]]\n"
     ]
    },
    {
     "data": {
      "text/plain": [
       "1474560"
      ]
     },
     "execution_count": 13,
     "metadata": {},
     "output_type": "execute_result"
    }
   ],
   "source": [
    "def initialize_test_system():\n",
    "    \n",
    "    # Tanks' information\n",
    "    global n\n",
    "    n = 5 \n",
    "    tank_ids = list(range(1,n+1))\n",
    "    tank_max_loads =  np.array([100., 100., 200., 300., 400.])\n",
    "    #tank_current_loads =  np.array([50., 60., 120., 150., 300.])\n",
    "    tank_current_loads = tank_max_loads.copy()\n",
    "    tank_consumption_rates =  np.array([5.] * n)\n",
    "    \n",
    "    global n_discrete_load_levels\n",
    "    n_discrete_load_levels = np.array([4,4,4,4,4])\n",
    "\n",
    "    # Trucks' information\n",
    "    global k\n",
    "    k = 2\n",
    "    truck_ids = list(range(k))\n",
    "    truck_max_loads = np.array([20., 50.])\n",
    "    truck_current_loads = truck_max_loads.copy()\n",
    "    truck_current_positions =  np.array([5] * k)\n",
    "    #truck_fractions_deliverable =  np.array([1.] * k) # we for now we only allow to deliver all the content of the truck\n",
    "    truck_fractions_deliverable =  np.array([ np.array([0.5, 1.]), \n",
    "                                              np.array([0.5, 1.])\n",
    "                                            ]) # we for now we only allow to deliver all the content of the truck\n",
    "    global n_discrete_load_levels_trucks\n",
    "    n_discrete_load_levels_trucks = np.array([2,2])\n",
    "\n",
    "    # System's information\n",
    "    def simple_graph(n: int):    \n",
    "        A = np.zeros((n,n))\n",
    "        A[(n-1),0:n] = 1\n",
    "        A = A.astype(int)\n",
    "        return(A)\n",
    "\n",
    "    graph = simple_graph(n+1)\n",
    "    tanks = [tank.Tank( tank_id, current_load, max_load, consumption_rate, n_lvls) \n",
    "             for  tank_id, current_load, max_load, consumption_rate, n_lvls in \n",
    "             zip( tank_ids, tank_current_loads, tank_max_loads, tank_consumption_rates, n_discrete_load_levels)]\n",
    "    trucks = [truck.Truck( truck_id, current_load, max_load, current_position, load_fractions_deliverable, n_lvls) \n",
    "             for  truck_id, current_load, max_load, current_position, load_fractions_deliverable, n_lvls in \n",
    "             zip(truck_ids, truck_current_loads, truck_max_loads, truck_current_positions, \n",
    "                 truck_fractions_deliverable, n_discrete_load_levels_trucks)]\n",
    "\n",
    "    def simple_weights(n: int, w: float):    \n",
    "        W = np.full((n,n), np.inf)\n",
    "        W[(n-1),:] = w\n",
    "        return(W)\n",
    "    #w =  np.array([0, 20., 10., 30., 50.5, 45.])\n",
    "    w =  np.array([0., 20., 20., 20., 20., 20.])\n",
    "\n",
    "    weights_matrix = simple_weights(n+1, w)\n",
    "    \n",
    "    return(tanks, trucks, graph, weights_matrix)\n",
    "\n",
    "tanks, trucks, graph, weights_matrix = initialize_test_system()\n",
    "toy_system = model.System(tanks = tanks, trucks = trucks, adjacency_matrix = graph, weights_matrix = weights_matrix)\n",
    "\n",
    "print(toy_system.weights)\n",
    "\n",
    "a_s_dim = toy_system.states_dim * toy_system.actions_dim\n",
    "a_s_dim"
   ]
  },
  {
   "cell_type": "code",
   "execution_count": 14,
   "metadata": {},
   "outputs": [
    {
     "data": {
      "text/plain": [
       "array([1, 1, 1, 1, 1, 1])"
      ]
     },
     "execution_count": 14,
     "metadata": {},
     "output_type": "execute_result"
    }
   ],
   "source": [
    "toy_system.graph[5]"
   ]
  },
  {
   "cell_type": "code",
   "execution_count": 15,
   "metadata": {},
   "outputs": [
    {
     "name": "stdout",
     "output_type": "stream",
     "text": [
      "Final rewards:  -inf\n"
     ]
    },
    {
     "data": {
      "text/plain": [
       "[[4, 0], [1, 1]]"
      ]
     },
     "execution_count": 15,
     "metadata": {},
     "output_type": "execute_result"
    }
   ],
   "source": [
    "toy_system.discrete_state()\n",
    "\n",
    "\n",
    "\n",
    "rewards = toy_system.random_action(seed);\n",
    "rewards_list.append(rewards)\n",
    "#prnt(toy_system.state())\n",
    "print(\"Final rewards: \", rewards);\n",
    "toy_system.reset_trucks_positions();\n",
    "\n",
    "toy_system.da"
   ]
  },
  {
   "cell_type": "code",
   "execution_count": 16,
   "metadata": {},
   "outputs": [
    {
     "data": {
      "text/plain": [
       "[[5, 5], [1, 1], [3, 3, 3, 3, 3]]"
      ]
     },
     "execution_count": 16,
     "metadata": {},
     "output_type": "execute_result"
    }
   ],
   "source": [
    "toy_system.ds"
   ]
  },
  {
   "cell_type": "code",
   "execution_count": null,
   "metadata": {
    "collapsed": true
   },
   "outputs": [],
   "source": []
  },
  {
   "cell_type": "code",
   "execution_count": 17,
   "metadata": {
    "collapsed": true
   },
   "outputs": [],
   "source": [
    "a = [[3, 4], [1, 1], [0, 0, 1, 0, 1]]\n",
    "aa= ''.join(str(''.join(str(y) for y in x)) for x in a)"
   ]
  },
  {
   "cell_type": "code",
   "execution_count": 18,
   "metadata": {},
   "outputs": [
    {
     "name": "stdout",
     "output_type": "stream",
     "text": [
      "[[5, 5], [1, 1], [3, 3, 3, 3, 3]]\n",
      "[[4, 0], [1, 1]]\n"
     ]
    }
   ],
   "source": [
    "print(toy_system.ds)\n",
    "print(toy_system.da)"
   ]
  },
  {
   "cell_type": "code",
   "execution_count": 19,
   "metadata": {},
   "outputs": [
    {
     "data": {
      "text/plain": [
       "'5511333334011'"
      ]
     },
     "execution_count": 19,
     "metadata": {},
     "output_type": "execute_result"
    }
   ],
   "source": [
    "sa_new = toy_system.state_action_to_string()\n",
    "sa_new"
   ]
  },
  {
   "cell_type": "code",
   "execution_count": 20,
   "metadata": {
    "collapsed": true
   },
   "outputs": [],
   "source": [
    "new_dict = {}\n",
    "new_dict[sa_new] = {\"qval\": 1}"
   ]
  },
  {
   "cell_type": "code",
   "execution_count": 21,
   "metadata": {},
   "outputs": [
    {
     "data": {
      "text/plain": [
       "1"
      ]
     },
     "execution_count": 21,
     "metadata": {},
     "output_type": "execute_result"
    }
   ],
   "source": [
    "new_dict[sa_new]['qval']"
   ]
  },
  {
   "cell_type": "markdown",
   "metadata": {},
   "source": [
    "## Off-policy algorithm (Train)"
   ]
  },
  {
   "cell_type": "code",
   "execution_count": 22,
   "metadata": {
    "collapsed": true
   },
   "outputs": [],
   "source": [
    "learning_rate0 = 0.05\n",
    "learning_rate_decay = 0.1\n",
    "n_iterations = 2*10**6\n",
    "discount_rate = 0.8\n",
    "\n",
    "tanks, trucks, graph, weights_matrix = initialize_test_system()\n",
    "toy_system = model.System(tanks = tanks, trucks = trucks, adjacency_matrix = graph, weights_matrix = weights_matrix)\n",
    "\n",
    "Q = {}\n",
    "\n",
    "def is_key(dic, key):\n",
    "    if key in dic:\n",
    "        return(True)\n",
    "    else: return(False)\n",
    "\n",
    "is_key(new_dict, sa_new)\n",
    "\n",
    "state_length = 2*k + n"
   ]
  },
  {
   "cell_type": "code",
   "execution_count": 23,
   "metadata": {
    "collapsed": true
   },
   "outputs": [],
   "source": [
    "import pickle\n",
    "\n",
    "def save_obj(obj, name ):\n",
    "    with open('obj/'+ name + '.pkl', 'wb') as f:\n",
    "        pickle.dump(obj, f, pickle.HIGHEST_PROTOCOL)\n",
    "\n",
    "def load_obj(name ):\n",
    "    with open('obj/' + name + '.pkl', 'rb') as f:\n",
    "        return pickle.load(f)"
   ]
  },
  {
   "cell_type": "code",
   "execution_count": null,
   "metadata": {
    "collapsed": true
   },
   "outputs": [],
   "source": []
  },
  {
   "cell_type": "code",
   "execution_count": 24,
   "metadata": {},
   "outputs": [],
   "source": [
    "# \"Train zone\". Q-values are being converging to the optimal, theoretically\n",
    "\n",
    "train = False\n",
    "if train:\n",
    "\n",
    "    visualization_steps = []\n",
    "    rewards_list = []\n",
    "\n",
    "    verbose = False\n",
    "    verbose_info = True\n",
    "\n",
    "    for iteration in range(n_iterations):\n",
    "        toy_system.update_state() \n",
    "\n",
    "        if verbose: print(\"System state before, \", toy_system.ds)\n",
    "\n",
    "        reward = toy_system.random_action(seed = None, verbose = verbose)\n",
    "        sa_current = toy_system.state_action_to_string()\n",
    "\n",
    "        if is_key(Q, sa_current) == False:\n",
    "            Q[sa_current] = 0\n",
    "\n",
    "        learning_rate = learning_rate0 / (1+iteration*learning_rate_decay)\n",
    "\n",
    "        Q_max = max([Q[key] for key in Q.keys() if key.startswith(sa_current[0:state_length])])\n",
    "        \n",
    "        if Q[sa_current] != -np.inf:\n",
    "            Q[sa_current] = ( (1-learning_rate) * Q[sa_current] \n",
    "                             + learning_rate* (reward + discount_rate * Q_max)\n",
    "                            )\n",
    "        if verbose:\n",
    "            print(\"System state after, \", toy_system.ds)\n",
    "            print(\"System action after, \", toy_system.da)\n",
    "            print(\"sa current, \", sa_current)\n",
    "\n",
    "        toy_system.reset_trucks_positions();\n",
    "        toy_system.reset_trucks_loads();\n",
    "\n",
    "        if iteration % 10000 == 0:\n",
    "            print(\"Iteration \", iteration)\n",
    "            if verbose_info:\n",
    "                print(\"s, a\", toy_system.s, toy_system.a)\n",
    "                print(\"ds, da\", toy_system.ds, toy_system.da)\n",
    "                \n",
    "            #Save visualization and rewards\n",
    "            rewards_list.append(rewards);\n",
    "            visualization_steps.append(toy_system.visualize());    \n",
    "\n",
    "            save_obj(Q, \"Q-dict-test-\" + f\"{iteration}\")   \n",
    "            save_obj(visualization_steps, \"vis/vis-train-test-\" + f\"{iteration}\")   \n",
    "            save_obj(rewards_list, \"rewards/rew-train-test-\" + f\"{iteration}\")   \n",
    "\n",
    "\n",
    "\n",
    "\n",
    "    save_obj(Q, \"Q-dict-test-\" + f\"{iteration}\")   \n",
    "    save_obj(visualization_steps, \"vis-train-test-\" + f\"{iteration}\")   \n",
    "    save_obj(rewards_list, \"rew-train-test-\" + f\"{iteration}\")   \n"
   ]
  },
  {
   "cell_type": "code",
   "execution_count": 25,
   "metadata": {},
   "outputs": [
    {
     "data": {
      "text/plain": [
       "inf"
      ]
     },
     "execution_count": 25,
     "metadata": {},
     "output_type": "execute_result"
    }
   ],
   "source": [
    "(0.1)*np.inf\n",
    "#[key for key in list(Q) if key.startswith('5')]"
   ]
  },
  {
   "cell_type": "code",
   "execution_count": 26,
   "metadata": {
    "collapsed": true
   },
   "outputs": [],
   "source": [
    "# Optimal policy using the Q values trained previously:\n",
    "# Q = load_obj(\"Q-dict-test-\"+f'{n_iterations-1}')\n",
    "# #print(Q.keys())\n",
    "\n",
    "# rewards_l = load_obj('rewards/rew-train-test'+f'{n_iterations}')\n",
    "# vis_l = load_obj('vis/vis-train-test-'+f'{n_iterations}')\n",
    "\n",
    "# anim = create_system_animation(vis_l, n_iterations)\n",
    "# HTML(anim.to_html5_video())"
   ]
  },
  {
   "cell_type": "code",
   "execution_count": 27,
   "metadata": {
    "collapsed": true
   },
   "outputs": [],
   "source": [
    "\n",
    "\n",
    "new_keys = new_dict.keys()"
   ]
  },
  {
   "cell_type": "code",
   "execution_count": 28,
   "metadata": {
    "collapsed": true
   },
   "outputs": [],
   "source": [
    "#[Q[key] for key in new_keys if key.startswith(sa_new[0:2])]"
   ]
  },
  {
   "cell_type": "code",
   "execution_count": 29,
   "metadata": {},
   "outputs": [
    {
     "data": {
      "text/plain": [
       "[[5, 5], [1, 1], [3, 3, 3, 3, 3]]"
      ]
     },
     "execution_count": 29,
     "metadata": {},
     "output_type": "execute_result"
    }
   ],
   "source": [
    "toy_system.ds"
   ]
  },
  {
   "cell_type": "code",
   "execution_count": 30,
   "metadata": {
    "collapsed": true
   },
   "outputs": [],
   "source": [
    "toy_system.da"
   ]
  },
  {
   "cell_type": "code",
   "execution_count": 31,
   "metadata": {},
   "outputs": [
    {
     "data": {
      "text/plain": [
       "3"
      ]
     },
     "execution_count": 31,
     "metadata": {},
     "output_type": "execute_result"
    }
   ],
   "source": [
    "max([1,2,3])"
   ]
  },
  {
   "cell_type": "code",
   "execution_count": 32,
   "metadata": {},
   "outputs": [
    {
     "data": {
      "text/plain": [
       "[1, 2, 3]"
      ]
     },
     "execution_count": 32,
     "metadata": {},
     "output_type": "execute_result"
    }
   ],
   "source": [
    "[1,2,3][0:3]"
   ]
  },
  {
   "cell_type": "code",
   "execution_count": 33,
   "metadata": {
    "collapsed": true
   },
   "outputs": [],
   "source": [
    "#Q['3311-1-1']"
   ]
  },
  {
   "cell_type": "code",
   "execution_count": 34,
   "metadata": {
    "collapsed": true
   },
   "outputs": [],
   "source": [
    "test_toy_system = model.System(tanks = tanks, trucks = trucks, adjacency_matrix = graph, weights_matrix = weights_matrix)\n"
   ]
  },
  {
   "cell_type": "markdown",
   "metadata": {},
   "source": [
    "### To do\n",
    "\n",
    "1. Función que permita aplicar una acción al sistema usando el código de números enteros (como en las keys de los dicts)\n",
    "\n",
    "2. Hacer una simulación que vaya aplicando, en cada estado, la accion con mayor Q-value en el diccionario Q.\n",
    "\n",
    "3. Visualizar como evoluciona el sistema con la optimal policy estimada con alguna random"
   ]
  },
  {
   "cell_type": "code",
   "execution_count": 35,
   "metadata": {},
   "outputs": [
    {
     "data": {
      "text/plain": [
       "5"
      ]
     },
     "execution_count": 35,
     "metadata": {},
     "output_type": "execute_result"
    }
   ],
   "source": [
    "test_toy_system.n"
   ]
  },
  {
   "cell_type": "code",
   "execution_count": 36,
   "metadata": {
    "collapsed": true
   },
   "outputs": [],
   "source": [
    "a = '1234'"
   ]
  },
  {
   "cell_type": "code",
   "execution_count": 37,
   "metadata": {},
   "outputs": [
    {
     "name": "stdout",
     "output_type": "stream",
     "text": [
      "1\n",
      "2\n",
      "3\n",
      "4\n"
     ]
    }
   ],
   "source": [
    "for element in a: \n",
    "    print(element)"
   ]
  },
  {
   "cell_type": "code",
   "execution_count": 38,
   "metadata": {},
   "outputs": [
    {
     "data": {
      "text/plain": [
       "'12'"
      ]
     },
     "execution_count": 38,
     "metadata": {},
     "output_type": "execute_result"
    }
   ],
   "source": [
    "a[0:2]"
   ]
  },
  {
   "cell_type": "markdown",
   "metadata": {},
   "source": [
    "### Testing deterministic_action function from System class"
   ]
  },
  {
   "cell_type": "code",
   "execution_count": 39,
   "metadata": {},
   "outputs": [
    {
     "data": {
      "text/plain": [
       "[[5, 5], [1, 1], [3, 3, 3, 3, 3]]"
      ]
     },
     "execution_count": 39,
     "metadata": {},
     "output_type": "execute_result"
    }
   ],
   "source": [
    "tanks, trucks, graph, weights_matrix = initialize_test_system()\n",
    "test_toy_system = model.System(tanks = tanks, trucks = trucks, adjacency_matrix = graph, weights_matrix = weights_matrix)\n",
    "test_toy_system.ds"
   ]
  },
  {
   "cell_type": "code",
   "execution_count": 40,
   "metadata": {
    "collapsed": true
   },
   "outputs": [],
   "source": [
    "# Test example:\n",
    "# System state before,  [[0, 0], [1, 1], [0, 0, 1, 0, 1]]\n",
    "# System state after,  [[0, 0], [1, 1], [0, 0, 1, 0, 1]]\n",
    "# System action after,  [[3, 0], [0, 1]]\n",
    "# sa current,  0011001013001\n",
    "\n",
    "s0 = '001100101'\n",
    "a0 = '3001'"
   ]
  },
  {
   "cell_type": "code",
   "execution_count": 41,
   "metadata": {},
   "outputs": [
    {
     "data": {
      "text/plain": [
       "1"
      ]
     },
     "execution_count": 41,
     "metadata": {},
     "output_type": "execute_result"
    }
   ],
   "source": [
    "int('1')"
   ]
  },
  {
   "cell_type": "code",
   "execution_count": 42,
   "metadata": {},
   "outputs": [
    {
     "data": {
      "text/plain": [
       "[[0, 0], [1, 1], [0, 0, 1, 0, 1]]"
      ]
     },
     "execution_count": 42,
     "metadata": {},
     "output_type": "execute_result"
    }
   ],
   "source": [
    "test_toy_system.set_discrete_state(s0)\n",
    "test_toy_system.ds"
   ]
  },
  {
   "cell_type": "code",
   "execution_count": 43,
   "metadata": {},
   "outputs": [
    {
     "data": {
      "text/plain": [
       "-80.0"
      ]
     },
     "execution_count": 43,
     "metadata": {},
     "output_type": "execute_result"
    }
   ],
   "source": [
    "test_toy_system.deterministic_action(a0)"
   ]
  },
  {
   "cell_type": "code",
   "execution_count": 44,
   "metadata": {
    "collapsed": true
   },
   "outputs": [],
   "source": [
    "toy_system.update_state() \n"
   ]
  },
  {
   "cell_type": "code",
   "execution_count": 45,
   "metadata": {},
   "outputs": [
    {
     "data": {
      "text/plain": [
       "[[3, 0], [0, 1]]"
      ]
     },
     "execution_count": 45,
     "metadata": {},
     "output_type": "execute_result"
    }
   ],
   "source": [
    "test_toy_system.da"
   ]
  },
  {
   "cell_type": "code",
   "execution_count": 46,
   "metadata": {},
   "outputs": [
    {
     "data": {
      "text/plain": [
       "[[0, 0], [1, 1], [0, 0, 1, 0, 1]]"
      ]
     },
     "execution_count": 46,
     "metadata": {},
     "output_type": "execute_result"
    }
   ],
   "source": [
    "\n",
    "test_toy_system.ds"
   ]
  },
  {
   "cell_type": "code",
   "execution_count": 47,
   "metadata": {},
   "outputs": [
    {
     "data": {
      "text/plain": [
       "55.55555555555556"
      ]
     },
     "execution_count": 47,
     "metadata": {},
     "output_type": "execute_result"
    }
   ],
   "source": [
    "200000/3600"
   ]
  },
  {
   "cell_type": "markdown",
   "metadata": {},
   "source": [
    "### Visualize simulation of 900 train steps"
   ]
  },
  {
   "cell_type": "code",
   "execution_count": 48,
   "metadata": {
    "collapsed": true
   },
   "outputs": [],
   "source": [
    "verbose_vis = False\n",
    "\n",
    "if verbose_vis:\n",
    "\n",
    "    n_iterations = 900\n",
    "\n",
    "    Q = load_obj(\"Q-dict-test-\"+f'{n_iterations}')\n",
    "    #print(Q.keys())\n",
    "\n",
    "    rewards_l = load_obj('rewards/rew-train-test-'+f'{n_iterations}')\n",
    "    vis_l = load_obj('vis/vis-train-test-'+f'{n_iterations}')\n",
    "\n",
    "    anim = create_system_animation(vis_l, n_iterations)\n",
    "    HTML(anim.to_html5_video())"
   ]
  },
  {
   "cell_type": "code",
   "execution_count": 49,
   "metadata": {
    "collapsed": true,
    "scrolled": true
   },
   "outputs": [],
   "source": [
    "#each 9 frames\n",
    "if verbose_vis:\n",
    "    anim = create_system_animation(vis_l, n_iterations, 9)\n",
    "    HTML(anim.to_html5_video())"
   ]
  },
  {
   "cell_type": "markdown",
   "metadata": {},
   "source": [
    "## Off-policy algorithm (Optimal policy from the trained Q-values)"
   ]
  },
  {
   "cell_type": "code",
   "execution_count": 50,
   "metadata": {},
   "outputs": [
    {
     "name": "stdout",
     "output_type": "stream",
     "text": [
      "551133333\n",
      "[[5, 5], [1, 1], [3, 3, 3, 3, 3]]\n",
      "551133333\n",
      "[[3, 0], [0, 1]]\n",
      "3001\n",
      "5511333333001\n"
     ]
    }
   ],
   "source": [
    "# Initialize system\n",
    "tanks, trucks, graph, weights_matrix = initialize_test_system()\n",
    "\n",
    "# Load trained Q-values\n",
    "n_iterations = 900\n",
    "Q = load_obj(\"Q-dict-test-\"+f'{n_iterations}')\n",
    "\n",
    "test_toy_system = model.System(tanks = tanks, trucks = trucks, adjacency_matrix = graph, weights_matrix = weights_matrix)\n",
    "a0 = '3001'\n",
    "s0 = test_toy_system.state_to_string()\n",
    "print(s0)\n",
    "test_toy_system.deterministic_action(a0)\n",
    "\n",
    "print(test_toy_system.ds)\n",
    "print(test_toy_system.state_to_string())\n",
    "print(test_toy_system.da)\n",
    "print(test_toy_system.action_to_string())\n",
    "\n",
    "print(test_toy_system.state_action_to_string())"
   ]
  },
  {
   "cell_type": "code",
   "execution_count": 51,
   "metadata": {},
   "outputs": [
    {
     "data": {
      "text/plain": [
       "-0.066500000000000004"
      ]
     },
     "execution_count": 51,
     "metadata": {},
     "output_type": "execute_result"
    }
   ],
   "source": [
    "# Way to access to the keys of the dictionary Q\n",
    "key_index = 0\n",
    "i = list(Q)[key_index]\n",
    "#Q value:\n",
    "Q[i]"
   ]
  },
  {
   "cell_type": "code",
   "execution_count": 52,
   "metadata": {},
   "outputs": [
    {
     "data": {
      "text/plain": [
       "[]"
      ]
     },
     "execution_count": 52,
     "metadata": {},
     "output_type": "execute_result"
    }
   ],
   "source": [
    "s0_keys = [key for key in list(Q) if key.startswith(s0)][1:10]\n",
    "s0_keys"
   ]
  },
  {
   "cell_type": "code",
   "execution_count": 53,
   "metadata": {},
   "outputs": [
    {
     "name": "stdout",
     "output_type": "stream",
     "text": [
      "[]\n"
     ]
    },
    {
     "ename": "ValueError",
     "evalue": "max() arg is an empty sequence",
     "output_type": "error",
     "traceback": [
      "\u001b[0;31m---------------------------------------------------------------------------\u001b[0m",
      "\u001b[0;31mValueError\u001b[0m                                Traceback (most recent call last)",
      "\u001b[0;32m<ipython-input-53-4b358c5cc78b>\u001b[0m in \u001b[0;36m<module>\u001b[0;34m()\u001b[0m\n\u001b[1;32m      1\u001b[0m \u001b[0ms0_q\u001b[0m \u001b[0;34m=\u001b[0m \u001b[0;34m[\u001b[0m\u001b[0mQ\u001b[0m\u001b[0;34m[\u001b[0m\u001b[0ms0_key\u001b[0m\u001b[0;34m]\u001b[0m \u001b[0;32mfor\u001b[0m \u001b[0ms0_key\u001b[0m \u001b[0;32min\u001b[0m \u001b[0ms0_keys\u001b[0m\u001b[0;34m]\u001b[0m\u001b[0;34m\u001b[0m\u001b[0m\n\u001b[1;32m      2\u001b[0m \u001b[0mprint\u001b[0m\u001b[0;34m(\u001b[0m\u001b[0ms0_q\u001b[0m\u001b[0;34m)\u001b[0m\u001b[0;34m\u001b[0m\u001b[0m\n\u001b[0;32m----> 3\u001b[0;31m \u001b[0mprint\u001b[0m\u001b[0;34m(\u001b[0m\u001b[0ms0_q\u001b[0m \u001b[0;34m==\u001b[0m \u001b[0mmax\u001b[0m\u001b[0;34m(\u001b[0m\u001b[0ms0_q\u001b[0m\u001b[0;34m)\u001b[0m\u001b[0;34m)\u001b[0m\u001b[0;34m\u001b[0m\u001b[0m\n\u001b[0m\u001b[1;32m      4\u001b[0m \u001b[0moptimal_key_index\u001b[0m \u001b[0;34m=\u001b[0m \u001b[0mnp\u001b[0m\u001b[0;34m.\u001b[0m\u001b[0mwhere\u001b[0m\u001b[0;34m(\u001b[0m\u001b[0mnp\u001b[0m\u001b[0;34m.\u001b[0m\u001b[0misin\u001b[0m\u001b[0;34m(\u001b[0m\u001b[0ms0_q\u001b[0m\u001b[0;34m,\u001b[0m \u001b[0mmax\u001b[0m\u001b[0;34m(\u001b[0m\u001b[0ms0_q\u001b[0m\u001b[0;34m)\u001b[0m\u001b[0;34m)\u001b[0m\u001b[0;34m)\u001b[0m\u001b[0;34m[\u001b[0m\u001b[0;36m0\u001b[0m\u001b[0;34m]\u001b[0m\u001b[0;34m[\u001b[0m\u001b[0;36m0\u001b[0m\u001b[0;34m]\u001b[0m\u001b[0;34m\u001b[0m\u001b[0m\n\u001b[1;32m      5\u001b[0m \u001b[0moptimal_key\u001b[0m \u001b[0;34m=\u001b[0m \u001b[0ms0_keys\u001b[0m\u001b[0;34m[\u001b[0m\u001b[0moptimal_key_index\u001b[0m\u001b[0;34m]\u001b[0m\u001b[0;34m\u001b[0m\u001b[0m\n",
      "\u001b[0;31mValueError\u001b[0m: max() arg is an empty sequence"
     ]
    }
   ],
   "source": [
    "s0_q = [Q[s0_key] for s0_key in s0_keys]\n",
    "print(s0_q)\n",
    "print(s0_q == max(s0_q))\n",
    "optimal_key_index = np.where(np.isin(s0_q, max(s0_q)))[0][0]\n",
    "optimal_key = s0_keys[optimal_key_index]\n",
    "print(optimal_key)\n",
    "\n",
    "optimal_action = optimal_key[toy_system.state_length:]\n"
   ]
  },
  {
   "cell_type": "code",
   "execution_count": 54,
   "metadata": {
    "collapsed": true
   },
   "outputs": [],
   "source": [
    "# Given a state, returns the action that has the highest Q-value.\n",
    "\n",
    "def optimal_policy(state, Q):\n",
    "    \"\"\"\n",
    "    state must be in the string-integers code\n",
    "    \"\"\"\n",
    "    state_keys = [key for key in list(Q) if key.startswith(s0)]\n",
    "    if len(state_keys) == 0:\n",
    "        return(None)\n",
    "    \n",
    "    state_q = [Q[state_key] for state_key in state_keys]\n",
    "    \n",
    "    #print(\"state_q \", state_q[1:min(10,len(state_q))])\n",
    "    \n",
    "    max_q = max(state_q)\n",
    "    #print(\"max_q\", max_q)\n",
    "    optimal_key_index = np.where(np.isin(state_q, max_q ))[0][0]\n",
    "   #print(\"optimal_key_index\", optimal_key_index)\n",
    "    optimal_key = state_keys[optimal_key_index]\n",
    "    #print(\"optimal_key\", optimal_key)\n",
    "    \n",
    "    optimal_action = optimal_key[toy_system.state_length:]\n",
    "    \n",
    "    return(optimal_action)\n",
    "    "
   ]
  },
  {
   "cell_type": "code",
   "execution_count": 55,
   "metadata": {
    "collapsed": true
   },
   "outputs": [],
   "source": [
    "optimal_policy(s0, Q)"
   ]
  },
  {
   "cell_type": "markdown",
   "metadata": {},
   "source": [
    "### Test optimal policy with a small simulation"
   ]
  },
  {
   "cell_type": "code",
   "execution_count": 59,
   "metadata": {
    "collapsed": true
   },
   "outputs": [],
   "source": [
    "# Initialize system\n",
    "tanks, trucks, graph, weights_matrix = initialize_test_system()\n",
    "\n",
    "# Load trained Q-values\n",
    "n_iterations = 1999999\n",
    "Q = load_obj(\"Q-dict-test-\"+f'{n_iterations}')\n",
    "\n",
    "\n",
    "# 20k\n",
    "#Q = load_obj(\"Q-dict-test-20k\")\n",
    "#n_iterations = 20000\n",
    "\n",
    "sim_iterations = 1000\n",
    "test_toy_system = model.System(tanks = tanks, trucks = trucks, adjacency_matrix = graph, weights_matrix = weights_matrix)"
   ]
  },
  {
   "cell_type": "code",
   "execution_count": null,
   "metadata": {},
   "outputs": [
    {
     "name": "stdout",
     "output_type": "stream",
     "text": [
      "0 -85.0 2210\n",
      "1 -85.0 2210\n",
      "2 -85.0 2210\n",
      "3 -85.0 2210\n",
      "4 -85.0 2210\n",
      "5 -85.0 2210\n",
      "6 -85.0 2210\n",
      "7 -85.0 2210\n",
      "8 -85.0 2210\n",
      "9 -85.0 2210\n",
      "10 -80.0 0101\n",
      "11 -85.0 2210\n",
      "12 -70.0 0011\n",
      "13 -85.0 2210\n",
      "14 -85.0 2210\n",
      "15 -85.0 2210\n",
      "16 -85.0 2210\n",
      "17 -85.0 2210\n",
      "18 -85.0 2210\n",
      "19 -85.0 2210\n",
      "20 -40.0 5500\n",
      "21 -40.0 5500\n",
      "22 -50.0 1500\n",
      "23 -50.0 1500\n",
      "24 -50.0 1500\n",
      "25 -60.0 3510\n",
      "26 -inf 1500\n",
      "27 -30.0 0500\n",
      "28 -inf 1500\n",
      "Random action is performed, because the current state is unknown for the trained Q\n",
      "Random action is performed, because the current state is unknown for the trained Q\n",
      "31 -90.0 2011\n",
      "32 -85.0 2210\n",
      "33 -40.0 5500\n",
      "34 -50.0 1500\n",
      "35 -50.0 1500\n",
      "36 -50.0 1500\n",
      "37 -50.0 1500\n",
      "38 -inf 1500\n",
      "39 -30.0 0500\n",
      "Random action is performed, because the current state is unknown for the trained Q\n",
      "Random action is performed, because the current state is unknown for the trained Q\n",
      "42 -85.0 3310\n",
      "43 -40.0 5500\n",
      "44 -inf 5500\n",
      "45 -inf 0500\n",
      "Random action is performed, because the current state is unknown for the trained Q\n",
      "47 -inf 0500\n",
      "48 -75.0 2100\n",
      "49 -inf 5500\n",
      "Random action is performed, because the current state is unknown for the trained Q\n",
      "Random action is performed, because the current state is unknown for the trained Q\n",
      "Random action is performed, because the current state is unknown for the trained Q\n",
      "53 -75.0 2100\n",
      "54 -55.0 0100\n",
      "Random action is performed, because the current state is unknown for the trained Q\n",
      "56 -75.0 4400\n",
      "57 -55.0 0100\n",
      "58 -110.0 2211\n",
      "59 -45.0 0010\n",
      "60 -85.0 3310\n",
      "61 -85.0 3310\n",
      "62 -40.0 5500\n",
      "63 -40.0 5500\n",
      "64 -inf 5500\n",
      "65 -inf 5401\n",
      "66 -75.0 2100\n",
      "67 -85.0 2210\n",
      "68 -85.0 2210\n",
      "69 -55.0 1000\n",
      "70 -85.0 2210\n",
      "71 -inf 2210\n",
      "72 -inf 5401\n",
      "73 -75.0 2100\n",
      "74 -55.0 1000\n",
      "75 -85.0 2210\n",
      "76 -40.0 5500\n",
      "77 -40.0 5500\n",
      "78 -inf 5500\n",
      "79 -65.0 1010\n",
      "80 -40.0 5500\n",
      "81 -40.0 5500\n",
      "Random action is performed, because the current state is unknown for the trained Q\n",
      "Random action is performed, because the current state is unknown for the trained Q\n",
      "Random action is performed, because the current state is unknown for the trained Q\n",
      "Random action is performed, because the current state is unknown for the trained Q\n",
      "Random action is performed, because the current state is unknown for the trained Q\n",
      "Random action is performed, because the current state is unknown for the trained Q\n",
      "88 -inf 2400\n",
      "Random action is performed, because the current state is unknown for the trained Q\n",
      "Random action is performed, because the current state is unknown for the trained Q\n",
      "Random action is performed, because the current state is unknown for the trained Q\n",
      "92 -inf 2400\n",
      "Random action is performed, because the current state is unknown for the trained Q\n",
      "94 -inf 0011\n",
      "95 -65.0 0110\n",
      "96 -85.0 3310\n",
      "97 -40.0 5500\n",
      "98 -40.0 5500\n",
      "99 -inf 5500\n",
      "Random action is performed, because the current state is unknown for the trained Q\n",
      "101 -75.0 2100\n",
      "102 -55.0 0100\n",
      "103 -85.0 1310\n",
      "104 -85.0 1310\n",
      "105 -45.0 0010\n",
      "106 -85.0 4410\n",
      "107 -55.0 0300\n",
      "108 -110.0 2211\n",
      "109 -85.0 2210\n",
      "110 -85.0 2210\n",
      "111 -85.0 2210\n",
      "112 -45.0 0010\n",
      "113 -85.0 3310\n",
      "114 -85.0 3310\n",
      "115 -40.0 5500\n",
      "116 -40.0 5500\n",
      "117 -inf 5500\n",
      "118 -inf 5401\n",
      "119 -75.0 2100\n",
      "120 -85.0 2210\n",
      "121 -85.0 2210\n",
      "122 -55.0 1000\n",
      "123 -85.0 2210\n",
      "124 -inf 2210\n",
      "125 -inf 5401\n",
      "126 -75.0 2100\n",
      "127 -55.0 1000\n",
      "128 -85.0 2210\n",
      "129 -40.0 5500\n",
      "130 -40.0 5500\n",
      "131 -inf 5500\n",
      "132 -65.0 1010\n",
      "133 -40.0 5500\n",
      "134 -40.0 5500\n",
      "Random action is performed, because the current state is unknown for the trained Q\n",
      "Random action is performed, because the current state is unknown for the trained Q\n",
      "Random action is performed, because the current state is unknown for the trained Q\n",
      "138 -40.0 5500\n",
      "139 -40.0 5500\n",
      "Random action is performed, because the current state is unknown for the trained Q\n",
      "Random action is performed, because the current state is unknown for the trained Q\n",
      "Random action is performed, because the current state is unknown for the trained Q\n",
      "143 -inf 5500\n",
      "Random action is performed, because the current state is unknown for the trained Q\n",
      "Random action is performed, because the current state is unknown for the trained Q\n",
      "Random action is performed, because the current state is unknown for the trained Q\n",
      "Random action is performed, because the current state is unknown for the trained Q\n",
      "Random action is performed, because the current state is unknown for the trained Q\n",
      "Random action is performed, because the current state is unknown for the trained Q\n",
      "Random action is performed, because the current state is unknown for the trained Q\n",
      "151 -90.0 1011\n",
      "152 -90.0 1011\n",
      "153 -90.0 1011\n",
      "Random action is performed, because the current state is unknown for the trained Q\n",
      "Random action is performed, because the current state is unknown for the trained Q\n",
      "156 -90.0 1011\n",
      "157 -90.0 1011\n",
      "158 -90.0 1011\n",
      "Random action is performed, because the current state is unknown for the trained Q\n",
      "Random action is performed, because the current state is unknown for the trained Q\n",
      "Random action is performed, because the current state is unknown for the trained Q\n",
      "162 -90.0 1011\n",
      "163 -90.0 1011\n",
      "164 -90.0 1011\n",
      "165 -inf 1011\n",
      "Random action is performed, because the current state is unknown for the trained Q\n",
      "Random action is performed, because the current state is unknown for the trained Q\n",
      "Random action is performed, because the current state is unknown for the trained Q\n",
      "Random action is performed, because the current state is unknown for the trained Q\n",
      "Random action is performed, because the current state is unknown for the trained Q\n",
      "Random action is performed, because the current state is unknown for the trained Q\n",
      "Random action is performed, because the current state is unknown for the trained Q\n",
      "Random action is performed, because the current state is unknown for the trained Q\n",
      "Random action is performed, because the current state is unknown for the trained Q\n",
      "Random action is performed, because the current state is unknown for the trained Q\n",
      "Random action is performed, because the current state is unknown for the trained Q\n",
      "Random action is performed, because the current state is unknown for the trained Q\n",
      "Random action is performed, because the current state is unknown for the trained Q\n",
      "179 -40.0 5500\n",
      "180 -40.0 5500\n",
      "181 -40.0 5500\n",
      "Random action is performed, because the current state is unknown for the trained Q\n",
      "183 -inf 1500\n",
      "Random action is performed, because the current state is unknown for the trained Q\n",
      "Random action is performed, because the current state is unknown for the trained Q\n",
      "Random action is performed, because the current state is unknown for the trained Q\n",
      "187 -100.0 3201\n",
      "188 -inf 0000\n",
      "Random action is performed, because the current state is unknown for the trained Q\n",
      "Random action is performed, because the current state is unknown for the trained Q\n",
      "Random action is performed, because the current state is unknown for the trained Q\n",
      "Random action is performed, because the current state is unknown for the trained Q\n",
      "Random action is performed, because the current state is unknown for the trained Q\n",
      "Random action is performed, because the current state is unknown for the trained Q\n",
      "Random action is performed, because the current state is unknown for the trained Q\n",
      "Random action is performed, because the current state is unknown for the trained Q\n",
      "Random action is performed, because the current state is unknown for the trained Q\n",
      "Random action is performed, because the current state is unknown for the trained Q\n",
      "Random action is performed, because the current state is unknown for the trained Q\n",
      "Random action is performed, because the current state is unknown for the trained Q\n",
      "Random action is performed, because the current state is unknown for the trained Q\n",
      "Random action is performed, because the current state is unknown for the trained Q\n",
      "Random action is performed, because the current state is unknown for the trained Q\n",
      "Random action is performed, because the current state is unknown for the trained Q\n",
      "Random action is performed, because the current state is unknown for the trained Q\n",
      "Random action is performed, because the current state is unknown for the trained Q\n",
      "Random action is performed, because the current state is unknown for the trained Q\n",
      "Random action is performed, because the current state is unknown for the trained Q\n",
      "Random action is performed, because the current state is unknown for the trained Q\n",
      "Random action is performed, because the current state is unknown for the trained Q\n",
      "Random action is performed, because the current state is unknown for the trained Q\n",
      "Random action is performed, because the current state is unknown for the trained Q\n"
     ]
    },
    {
     "name": "stdout",
     "output_type": "stream",
     "text": [
      "Random action is performed, because the current state is unknown for the trained Q\n",
      "Random action is performed, because the current state is unknown for the trained Q\n",
      "Random action is performed, because the current state is unknown for the trained Q\n",
      "Random action is performed, because the current state is unknown for the trained Q\n",
      "Random action is performed, because the current state is unknown for the trained Q\n",
      "Random action is performed, because the current state is unknown for the trained Q\n",
      "Random action is performed, because the current state is unknown for the trained Q\n",
      "Random action is performed, because the current state is unknown for the trained Q\n",
      "Random action is performed, because the current state is unknown for the trained Q\n",
      "Random action is performed, because the current state is unknown for the trained Q\n",
      "Random action is performed, because the current state is unknown for the trained Q\n",
      "Random action is performed, because the current state is unknown for the trained Q\n",
      "Random action is performed, because the current state is unknown for the trained Q\n",
      "Random action is performed, because the current state is unknown for the trained Q\n",
      "Random action is performed, because the current state is unknown for the trained Q\n",
      "Random action is performed, because the current state is unknown for the trained Q\n",
      "Random action is performed, because the current state is unknown for the trained Q\n",
      "Random action is performed, because the current state is unknown for the trained Q\n",
      "Random action is performed, because the current state is unknown for the trained Q\n",
      "Random action is performed, because the current state is unknown for the trained Q\n",
      "Random action is performed, because the current state is unknown for the trained Q\n",
      "Random action is performed, because the current state is unknown for the trained Q\n",
      "Random action is performed, because the current state is unknown for the trained Q\n",
      "Random action is performed, because the current state is unknown for the trained Q\n",
      "237 -inf 2200\n",
      "Random action is performed, because the current state is unknown for the trained Q\n",
      "239 -inf 1510\n",
      "Random action is performed, because the current state is unknown for the trained Q\n",
      "Random action is performed, because the current state is unknown for the trained Q\n",
      "Random action is performed, because the current state is unknown for the trained Q\n",
      "243 -inf 2200\n",
      "Random action is performed, because the current state is unknown for the trained Q\n",
      "Random action is performed, because the current state is unknown for the trained Q\n",
      "Random action is performed, because the current state is unknown for the trained Q\n",
      "247 -inf 1510\n",
      "Random action is performed, because the current state is unknown for the trained Q\n",
      "Random action is performed, because the current state is unknown for the trained Q\n",
      "Random action is performed, because the current state is unknown for the trained Q\n",
      "Random action is performed, because the current state is unknown for the trained Q\n",
      "Random action is performed, because the current state is unknown for the trained Q\n",
      "Random action is performed, because the current state is unknown for the trained Q\n",
      "Random action is performed, because the current state is unknown for the trained Q\n",
      "Random action is performed, because the current state is unknown for the trained Q\n",
      "Random action is performed, because the current state is unknown for the trained Q\n",
      "Random action is performed, because the current state is unknown for the trained Q\n",
      "Random action is performed, because the current state is unknown for the trained Q\n",
      "Random action is performed, because the current state is unknown for the trained Q\n",
      "Random action is performed, because the current state is unknown for the trained Q\n",
      "Random action is performed, because the current state is unknown for the trained Q\n",
      "Random action is performed, because the current state is unknown for the trained Q\n",
      "Random action is performed, because the current state is unknown for the trained Q\n",
      "Random action is performed, because the current state is unknown for the trained Q\n",
      "Random action is performed, because the current state is unknown for the trained Q\n",
      "Random action is performed, because the current state is unknown for the trained Q\n",
      "Random action is performed, because the current state is unknown for the trained Q\n",
      "Random action is performed, because the current state is unknown for the trained Q\n",
      "Random action is performed, because the current state is unknown for the trained Q\n",
      "Random action is performed, because the current state is unknown for the trained Q\n",
      "Random action is performed, because the current state is unknown for the trained Q\n",
      "Random action is performed, because the current state is unknown for the trained Q\n",
      "Random action is performed, because the current state is unknown for the trained Q\n",
      "Random action is performed, because the current state is unknown for the trained Q\n",
      "Random action is performed, because the current state is unknown for the trained Q\n",
      "Random action is performed, because the current state is unknown for the trained Q\n",
      "Random action is performed, because the current state is unknown for the trained Q\n",
      "Random action is performed, because the current state is unknown for the trained Q\n",
      "Random action is performed, because the current state is unknown for the trained Q\n",
      "280 -40.0 5500\n",
      "281 -40.0 5500\n",
      "282 -40.0 5500\n",
      "283 -75.0 2400\n",
      "284 -inf 2400\n",
      "Random action is performed, because the current state is unknown for the trained Q\n",
      "Random action is performed, because the current state is unknown for the trained Q\n",
      "Random action is performed, because the current state is unknown for the trained Q\n",
      "Random action is performed, because the current state is unknown for the trained Q\n",
      "289 -110.0 3111\n",
      "290 -40.0 5500\n",
      "291 -40.0 5500\n",
      "Random action is performed, because the current state is unknown for the trained Q\n",
      "Random action is performed, because the current state is unknown for the trained Q\n",
      "Random action is performed, because the current state is unknown for the trained Q\n",
      "Random action is performed, because the current state is unknown for the trained Q\n",
      "Random action is performed, because the current state is unknown for the trained Q\n",
      "Random action is performed, because the current state is unknown for the trained Q\n",
      "Random action is performed, because the current state is unknown for the trained Q\n",
      "Random action is performed, because the current state is unknown for the trained Q\n",
      "Random action is performed, because the current state is unknown for the trained Q\n",
      "Random action is performed, because the current state is unknown for the trained Q\n",
      "Random action is performed, because the current state is unknown for the trained Q\n",
      "303 -inf 5401\n",
      "304 -110.0 3111\n",
      "305 -55.0 1000\n",
      "306 -85.0 2210\n",
      "307 -85.0 2210\n",
      "Random action is performed, because the current state is unknown for the trained Q\n",
      "Random action is performed, because the current state is unknown for the trained Q\n",
      "Random action is performed, because the current state is unknown for the trained Q\n",
      "Random action is performed, because the current state is unknown for the trained Q\n",
      "312 -40.0 5500\n",
      "313 -40.0 5500\n",
      "314 -40.0 5500\n",
      "315 -inf 5500\n",
      "316 -inf 5401\n",
      "317 -inf 1400\n",
      "318 -65.0 1010\n",
      "319 -85.0 3310\n",
      "320 -55.0 0100\n",
      "321 -85.0 1310\n",
      "322 -85.0 1310\n",
      "323 -55.0 4000\n",
      "324 -45.0 0010\n",
      "325 -75.0 2200\n",
      "326 -75.0 2200\n",
      "327 -60.0 1510\n",
      "328 -55.0 0200\n",
      "329 -60.0 1510\n",
      "330 -55.0 0200\n",
      "331 -55.0 0200\n",
      "332 -55.0 0200\n",
      "333 -60.0 1510\n",
      "334 -55.0 0200\n",
      "335 -55.0 0200\n",
      "336 -55.0 0200\n",
      "337 -55.0 0300\n",
      "338 -60.0 1510\n",
      "339 -55.0 0200\n",
      "340 -55.0 0200\n",
      "341 -60.0 1510\n",
      "342 -90.0 1011\n",
      "343 -90.0 1011\n",
      "344 -inf 1011\n",
      "Random action is performed, because the current state is unknown for the trained Q\n",
      "346 -90.0 1011\n",
      "347 -90.0 1011\n",
      "348 -90.0 1011\n",
      "349 -90.0 1011\n",
      "Random action is performed, because the current state is unknown for the trained Q\n",
      "Random action is performed, because the current state is unknown for the trained Q\n",
      "Random action is performed, because the current state is unknown for the trained Q\n",
      "Random action is performed, because the current state is unknown for the trained Q\n",
      "354 -30.0 0500\n",
      "355 -40.0 5500\n",
      "356 -75.0 1400\n",
      "357 -30.0 0500\n",
      "358 -75.0 1400\n",
      "359 -30.0 0500\n",
      "360 -75.0 1400\n",
      "Random action is performed, because the current state is unknown for the trained Q\n"
     ]
    },
    {
     "name": "stdout",
     "output_type": "stream",
     "text": [
      "Random action is performed, because the current state is unknown for the trained Q\n",
      "Random action is performed, because the current state is unknown for the trained Q\n",
      "364 -30.0 0500\n",
      "365 -40.0 5500\n",
      "Random action is performed, because the current state is unknown for the trained Q\n",
      "367 -30.0 0500\n",
      "368 -30.0 0500\n",
      "Random action is performed, because the current state is unknown for the trained Q\n",
      "370 -75.0 1400\n",
      "371 -110.0 4111\n",
      "372 -110.0 4111\n",
      "373 -55.0 0300\n",
      "374 -55.0 0300\n",
      "375 -45.0 0010\n",
      "Random action is performed, because the current state is unknown for the trained Q\n",
      "377 -75.0 3300\n",
      "378 -85.0 3310\n",
      "379 -85.0 3310\n",
      "380 -inf 4000\n",
      "381 -85.0 2310\n",
      "382 -60.0 1510\n",
      "383 -60.0 4510\n",
      "384 -inf 3310\n",
      "385 -75.0 2200\n",
      "386 -30.0 0500\n",
      "387 -30.0 0500\n",
      "388 -60.0 1510\n",
      "389 -55.0 4000\n",
      "390 -60.0 1510\n",
      "391 -inf 4510\n",
      "392 -inf 4500\n",
      "393 -85.0 2310\n",
      "394 -30.0 0500\n",
      "395 -inf 1510\n",
      "396 -inf 1510\n",
      "397 -inf 1510\n",
      "398 -inf 3500\n",
      "399 -inf 3500\n",
      "400 -inf 3500\n",
      "Random action is performed, because the current state is unknown for the trained Q\n",
      "402 -100.0 2201\n",
      "403 -75.0 3300\n",
      "404 -65.0 5100\n",
      "405 -inf 1500\n",
      "406 -inf 1500\n",
      "407 -inf 1500\n",
      "408 -inf 1210\n",
      "409 -inf 1500\n",
      "410 -inf 1500\n",
      "411 -inf 1500\n",
      "412 -inf 1500\n",
      "413 -inf 1210\n",
      "414 -inf 1500\n",
      "415 -inf 1500\n",
      "416 -inf 1500\n",
      "Random action is performed, because the current state is unknown for the trained Q\n",
      "Random action is performed, because the current state is unknown for the trained Q\n",
      "Random action is performed, because the current state is unknown for the trained Q\n",
      "Random action is performed, because the current state is unknown for the trained Q\n",
      "Random action is performed, because the current state is unknown for the trained Q\n",
      "Random action is performed, because the current state is unknown for the trained Q\n",
      "Random action is performed, because the current state is unknown for the trained Q\n",
      "Random action is performed, because the current state is unknown for the trained Q\n",
      "Random action is performed, because the current state is unknown for the trained Q\n",
      "Random action is performed, because the current state is unknown for the trained Q\n",
      "Random action is performed, because the current state is unknown for the trained Q\n",
      "Random action is performed, because the current state is unknown for the trained Q\n",
      "Random action is performed, because the current state is unknown for the trained Q\n",
      "Random action is performed, because the current state is unknown for the trained Q\n",
      "431 -75.0 2200\n",
      "432 -50.0 3500\n",
      "433 -inf 3500\n",
      "Random action is performed, because the current state is unknown for the trained Q\n",
      "Random action is performed, because the current state is unknown for the trained Q\n",
      "436 -55.0 4000\n",
      "437 -60.0 1510\n",
      "438 -50.0 3500\n",
      "439 -60.0 4510\n",
      "Random action is performed, because the current state is unknown for the trained Q\n",
      "Random action is performed, because the current state is unknown for the trained Q\n",
      "442 -inf 3500\n",
      "443 -inf 3500\n",
      "444 -inf 3500\n",
      "445 -inf 3510\n",
      "Random action is performed, because the current state is unknown for the trained Q\n",
      "Random action is performed, because the current state is unknown for the trained Q\n",
      "Random action is performed, because the current state is unknown for the trained Q\n",
      "449 -inf 3510\n",
      "450 -inf 1210\n",
      "451 -inf 1500\n",
      "452 -inf 1500\n",
      "453 -inf 1500\n",
      "454 -inf 1210\n",
      "455 -inf 1500\n",
      "456 -inf 1500\n",
      "457 -inf 1500\n",
      "458 -inf 1500\n",
      "459 -inf 1210\n",
      "460 -inf 1500\n",
      "461 -inf 1500\n",
      "Random action is performed, because the current state is unknown for the trained Q\n",
      "Random action is performed, because the current state is unknown for the trained Q\n",
      "Random action is performed, because the current state is unknown for the trained Q\n",
      "Random action is performed, because the current state is unknown for the trained Q\n",
      "Random action is performed, because the current state is unknown for the trained Q\n",
      "Random action is performed, because the current state is unknown for the trained Q\n",
      "Random action is performed, because the current state is unknown for the trained Q\n",
      "Random action is performed, because the current state is unknown for the trained Q\n",
      "Random action is performed, because the current state is unknown for the trained Q\n",
      "Random action is performed, because the current state is unknown for the trained Q\n",
      "Random action is performed, because the current state is unknown for the trained Q\n",
      "Random action is performed, because the current state is unknown for the trained Q\n",
      "474 -65.0 5100\n",
      "475 -80.0 2001\n",
      "476 -55.0 4000\n",
      "477 -85.0 4410\n",
      "478 -110.0 2211\n",
      "479 -85.0 2210\n",
      "480 -60.0 1510\n",
      "481 -50.0 1500\n",
      "482 -50.0 1500\n",
      "483 -50.0 1500\n",
      "484 -50.0 1500\n",
      "485 -50.0 1500\n",
      "486 -55.0 4000\n",
      "487 -50.0 1500\n",
      "488 -50.0 2500\n",
      "489 -50.0 2500\n",
      "490 -50.0 2500\n",
      "Random action is performed, because the current state is unknown for the trained Q\n",
      "Random action is performed, because the current state is unknown for the trained Q\n",
      "493 -100.0 3301\n",
      "494 -40.0 0510\n",
      "495 -60.0 1510\n",
      "496 -60.0 1510\n",
      "497 -50.0 1500\n",
      "498 -50.0 1500\n",
      "499 -55.0 4000\n",
      "Random action is performed, because the current state is unknown for the trained Q\n",
      "Random action is performed, because the current state is unknown for the trained Q\n",
      "502 -40.0 5500\n",
      "503 -60.0 4510\n",
      "504 -60.0 4510\n",
      "505 -60.0 4510\n",
      "506 -75.0 1400\n",
      "507 -85.0 1110\n",
      "508 -30.0 0500\n",
      "509 -110.0 4111\n",
      "510 -55.0 0300\n",
      "511 -55.0 0300\n",
      "512 -110.0 4111\n",
      "513 -55.0 0300\n",
      "514 -45.0 0010\n",
      "515 -60.0 1510\n",
      "Random action is performed, because the current state is unknown for the trained Q\n",
      "Random action is performed, because the current state is unknown for the trained Q\n",
      "518 -inf 1510\n",
      "519 -60.0 2510\n",
      "520 -55.0 0300\n",
      "521 -110.0 4111\n",
      "522 -inf 0300\n",
      "523 -55.0 0200\n",
      "524 -75.0 3300\n",
      "525 -30.0 0500\n",
      "526 -60.0 4510\n",
      "527 -inf 0010\n",
      "528 -85.0 2310\n",
      "529 -60.0 4510\n",
      "530 -85.0 3310\n",
      "531 -75.0 2100\n",
      "532 -45.0 0010\n",
      "533 -inf 4510\n",
      "534 -85.0 2310\n",
      "535 -85.0 3310\n",
      "536 -75.0 2100\n",
      "537 -55.0 4000\n",
      "538 -85.0 3310\n",
      "539 -inf 4510\n",
      "540 -85.0 2310\n",
      "541 -75.0 2100\n",
      "542 -45.0 0010\n",
      "543 -60.0 4510\n",
      "544 -85.0 3310\n",
      "545 -inf 3310\n",
      "546 -100.0 1201\n",
      "547 -55.0 4000\n",
      "548 -75.0 2100\n",
      "549 -60.0 4510\n",
      "550 -85.0 3310\n",
      "551 -85.0 3310\n",
      "552 -45.0 0010\n",
      "553 -60.0 1510\n",
      "554 -60.0 4510\n",
      "555 -85.0 3310\n",
      "556 -85.0 3310\n",
      "557 -inf 0500\n",
      "558 -inf 3001\n",
      "559 -inf 3001\n",
      "560 -inf 3001\n",
      "561 -inf 3001\n",
      "562 -inf 0500\n",
      "563 -inf 0500\n",
      "564 -inf 0500\n",
      "565 -inf 0500\n",
      "566 -inf 0500\n",
      "567 -inf 0500\n",
      "568 -inf 0500\n",
      "569 -inf 0500\n",
      "570 -inf 0500\n",
      "571 -inf 0500\n",
      "572 -inf 0500\n",
      "573 -inf 0500\n",
      "574 -inf 0500\n",
      "575 -inf 0500\n",
      "Random action is performed, because the current state is unknown for the trained Q\n",
      "577 -inf 0500\n",
      "578 -inf 0500\n",
      "Random action is performed, because the current state is unknown for the trained Q\n",
      "Random action is performed, because the current state is unknown for the trained Q\n",
      "Random action is performed, because the current state is unknown for the trained Q\n",
      "Random action is performed, because the current state is unknown for the trained Q\n",
      "Random action is performed, because the current state is unknown for the trained Q\n",
      "Random action is performed, because the current state is unknown for the trained Q\n",
      "Random action is performed, because the current state is unknown for the trained Q\n",
      "Random action is performed, because the current state is unknown for the trained Q\n",
      "Random action is performed, because the current state is unknown for the trained Q\n",
      "Random action is performed, because the current state is unknown for the trained Q\n",
      "Random action is performed, because the current state is unknown for the trained Q\n",
      "590 -75.0 2200\n",
      "Random action is performed, because the current state is unknown for the trained Q\n",
      "592 -100.0 3301\n",
      "593 -40.0 0510\n",
      "594 -40.0 5500\n",
      "595 -40.0 5500\n",
      "596 -40.0 5500\n",
      "597 -40.0 5500\n",
      "Random action is performed, because the current state is unknown for the trained Q\n",
      "Random action is performed, because the current state is unknown for the trained Q\n",
      "Random action is performed, because the current state is unknown for the trained Q\n",
      "601 -65.0 5100\n",
      "602 -inf 2001\n",
      "Random action is performed, because the current state is unknown for the trained Q\n",
      "Random action is performed, because the current state is unknown for the trained Q\n",
      "Random action is performed, because the current state is unknown for the trained Q\n",
      "606 -60.0 1510\n",
      "607 -55.0 0200\n",
      "608 -55.0 0200\n",
      "609 -55.0 0200\n",
      "610 -60.0 1510\n",
      "611 -55.0 0200\n",
      "612 -inf 0200\n",
      "Random action is performed, because the current state is unknown for the trained Q\n",
      "614 -60.0 1510\n",
      "615 -90.0 1011\n",
      "616 -90.0 1011\n",
      "617 -inf 1011\n",
      "Random action is performed, because the current state is unknown for the trained Q\n"
     ]
    },
    {
     "name": "stdout",
     "output_type": "stream",
     "text": [
      "619 -90.0 1011\n",
      "620 -90.0 1011\n",
      "621 -90.0 1011\n",
      "Random action is performed, because the current state is unknown for the trained Q\n",
      "Random action is performed, because the current state is unknown for the trained Q\n",
      "Random action is performed, because the current state is unknown for the trained Q\n",
      "Random action is performed, because the current state is unknown for the trained Q\n",
      "Random action is performed, because the current state is unknown for the trained Q\n",
      "Random action is performed, because the current state is unknown for the trained Q\n",
      "Random action is performed, because the current state is unknown for the trained Q\n",
      "Random action is performed, because the current state is unknown for the trained Q\n",
      "630 -50.0 1500\n",
      "631 -50.0 1500\n",
      "632 -50.0 1500\n",
      "633 -55.0 4000\n",
      "634 -55.0 4000\n",
      "635 -85.0 4410\n",
      "636 -85.0 4410\n",
      "637 -75.0 2200\n",
      "638 -40.0 0510\n",
      "639 -55.0 0300\n",
      "640 -60.0 1510\n",
      "641 -75.0 2200\n",
      "642 -60.0 1510\n",
      "643 -55.0 0200\n",
      "644 -90.0 1011\n",
      "645 -90.0 1011\n",
      "646 -90.0 1011\n",
      "647 -90.0 1011\n",
      "648 -90.0 1011\n",
      "649 -90.0 1011\n",
      "650 -90.0 1011\n",
      "651 -90.0 1011\n",
      "652 -90.0 1011\n",
      "Random action is performed, because the current state is unknown for the trained Q\n",
      "654 -90.0 1011\n",
      "655 -inf 1011\n",
      "Random action is performed, because the current state is unknown for the trained Q\n",
      "Random action is performed, because the current state is unknown for the trained Q\n",
      "Random action is performed, because the current state is unknown for the trained Q\n",
      "Random action is performed, because the current state is unknown for the trained Q\n",
      "660 -55.0 0300\n",
      "661 -55.0 0300\n",
      "662 -60.0 1510\n",
      "663 -55.0 0200\n",
      "664 -55.0 0300\n",
      "665 -60.0 1510\n",
      "666 -55.0 0200\n",
      "667 -55.0 0200\n",
      "668 -60.0 1510\n",
      "669 -90.0 1011\n",
      "670 -90.0 1011\n",
      "671 -inf 1011\n",
      "Random action is performed, because the current state is unknown for the trained Q\n",
      "Random action is performed, because the current state is unknown for the trained Q\n",
      "Random action is performed, because the current state is unknown for the trained Q\n",
      "Random action is performed, because the current state is unknown for the trained Q\n",
      "676 -inf 1500\n",
      "Random action is performed, because the current state is unknown for the trained Q\n",
      "Random action is performed, because the current state is unknown for the trained Q\n",
      "Random action is performed, because the current state is unknown for the trained Q\n",
      "Random action is performed, because the current state is unknown for the trained Q\n",
      "Random action is performed, because the current state is unknown for the trained Q\n",
      "Random action is performed, because the current state is unknown for the trained Q\n",
      "Random action is performed, because the current state is unknown for the trained Q\n",
      "684 -50.0 1500\n",
      "685 -50.0 1500\n",
      "686 -55.0 4000\n",
      "687 -50.0 2500\n",
      "688 -inf 2500\n",
      "Random action is performed, because the current state is unknown for the trained Q\n",
      "Random action is performed, because the current state is unknown for the trained Q\n",
      "Random action is performed, because the current state is unknown for the trained Q\n",
      "692 -inf 0300\n",
      "Random action is performed, because the current state is unknown for the trained Q\n",
      "Random action is performed, because the current state is unknown for the trained Q\n",
      "Random action is performed, because the current state is unknown for the trained Q\n",
      "696 -85.0 4410\n",
      "697 -55.0 4000\n",
      "698 -85.0 4410\n",
      "699 -75.0 2200\n",
      "700 -75.0 2200\n",
      "701 -60.0 1510\n",
      "702 -50.0 2500\n",
      "703 -100.0 3301\n",
      "704 -40.0 0510\n",
      "705 -60.0 1510\n",
      "706 -50.0 1500\n",
      "707 -50.0 1500\n",
      "708 -50.0 1500\n",
      "709 -55.0 4000\n",
      "710 -85.0 4410\n",
      "711 -55.0 4000\n",
      "712 -85.0 4410\n",
      "713 -110.0 2211\n",
      "714 -85.0 3410\n",
      "715 -85.0 2210\n",
      "716 -45.0 0010\n",
      "717 -85.0 2210\n",
      "718 -40.0 5500\n",
      "719 -40.0 5500\n",
      "720 -40.0 5500\n",
      "721 -40.0 5500\n",
      "722 -inf 5500\n",
      "723 -110.0 3111\n",
      "724 -100.0 3301\n",
      "725 -40.0 0510\n",
      "726 -40.0 0510\n",
      "727 -75.0 2200\n",
      "728 -40.0 5500\n",
      "729 -40.0 5500\n",
      "730 -40.0 5500\n",
      "731 -40.0 5500\n",
      "732 -inf 5500\n",
      "733 -inf 5401\n",
      "Random action is performed, because the current state is unknown for the trained Q\n",
      "Random action is performed, because the current state is unknown for the trained Q\n",
      "Random action is performed, because the current state is unknown for the trained Q\n",
      "Random action is performed, because the current state is unknown for the trained Q\n",
      "738 -90.0 0111\n",
      "739 -60.0 1510\n",
      "740 -60.0 1510\n",
      "741 -55.0 0200\n",
      "742 -55.0 0200\n",
      "743 -60.0 1510\n",
      "744 -90.0 1011\n",
      "745 -90.0 1011\n",
      "746 -90.0 1011\n",
      "747 -90.0 1011\n",
      "748 -90.0 1011\n",
      "749 -90.0 1011\n",
      "750 -90.0 1011\n",
      "751 -90.0 1011\n",
      "Random action is performed, because the current state is unknown for the trained Q\n",
      "Random action is performed, because the current state is unknown for the trained Q\n",
      "Random action is performed, because the current state is unknown for the trained Q\n",
      "Random action is performed, because the current state is unknown for the trained Q\n",
      "Random action is performed, because the current state is unknown for the trained Q\n",
      "Random action is performed, because the current state is unknown for the trained Q\n",
      "Random action is performed, because the current state is unknown for the trained Q\n",
      "Random action is performed, because the current state is unknown for the trained Q\n",
      "Random action is performed, because the current state is unknown for the trained Q\n",
      "Random action is performed, because the current state is unknown for the trained Q\n",
      "Random action is performed, because the current state is unknown for the trained Q\n",
      "Random action is performed, because the current state is unknown for the trained Q\n",
      "Random action is performed, because the current state is unknown for the trained Q\n",
      "Random action is performed, because the current state is unknown for the trained Q\n",
      "Random action is performed, because the current state is unknown for the trained Q\n",
      "Random action is performed, because the current state is unknown for the trained Q\n",
      "Random action is performed, because the current state is unknown for the trained Q\n",
      "769 -30.0 0500\n",
      "770 -60.0 1510\n",
      "Random action is performed, because the current state is unknown for the trained Q\n",
      "Random action is performed, because the current state is unknown for the trained Q\n",
      "773 -50.0 3500\n",
      "774 -40.0 5500\n",
      "775 -inf 5500\n",
      "Random action is performed, because the current state is unknown for the trained Q\n",
      "Random action is performed, because the current state is unknown for the trained Q\n",
      "Random action is performed, because the current state is unknown for the trained Q\n",
      "779 -110.0 4111\n",
      "780 -inf 4111\n",
      "Random action is performed, because the current state is unknown for the trained Q\n",
      "782 -60.0 2510\n",
      "783 -40.0 5500\n",
      "784 -inf 5500\n",
      "785 -inf 3300\n",
      "786 -inf 3300\n",
      "787 -inf 3300\n",
      "788 -inf 5200\n",
      "789 -inf 0000\n",
      "Random action is performed, because the current state is unknown for the trained Q\n",
      "Random action is performed, because the current state is unknown for the trained Q\n",
      "792 -80.0 0201\n",
      "793 -40.0 5500\n",
      "794 -inf 5500\n",
      "795 -inf 0500\n",
      "796 -inf 0500\n",
      "797 -inf 0500\n",
      "798 -inf 0500\n",
      "Random action is performed, because the current state is unknown for the trained Q\n",
      "Random action is performed, because the current state is unknown for the trained Q\n",
      "801 -inf 4410\n",
      "802 -inf 4410\n",
      "803 -inf 1200\n",
      "804 -85.0 1310\n",
      "805 -inf 0200\n",
      "806 -110.0 2111\n",
      "807 -70.0 0011\n",
      "808 -60.0 4510\n",
      "809 -85.0 1110\n",
      "810 -85.0 4410\n",
      "811 -85.0 4410\n",
      "812 -45.0 0010\n",
      "813 -85.0 4410\n",
      "814 -75.0 3300\n",
      "815 -75.0 3300\n",
      "816 -85.0 3310\n",
      "817 -45.0 0010\n",
      "818 -85.0 3310\n",
      "819 -75.0 2100\n",
      "820 -85.0 3310\n",
      "821 -85.0 3310\n",
      "822 -45.0 0010\n",
      "823 -85.0 3310\n",
      "824 -75.0 2100\n",
      "825 -85.0 3310\n",
      "826 -85.0 3310\n",
      "827 -inf 0010\n",
      "828 -85.0 2310\n",
      "829 -75.0 2100\n",
      "830 -85.0 3310\n",
      "831 -85.0 3310\n",
      "832 -45.0 0010\n",
      "833 -inf 4510\n",
      "834 -100.0 1201\n",
      "835 -85.0 3310\n",
      "836 -75.0 2100\n",
      "837 -55.0 4000\n",
      "838 -85.0 3310\n",
      "839 -60.0 4510\n",
      "840 -85.0 3310\n",
      "841 -75.0 2100\n",
      "842 -45.0 0010\n",
      "843 -60.0 4510\n",
      "844 -85.0 3310\n",
      "845 -85.0 3310\n",
      "846 -75.0 2100\n",
      "847 -55.0 4000\n",
      "848 -85.0 3310\n",
      "849 -inf 4510\n",
      "850 -85.0 2310\n",
      "851 -75.0 2100\n",
      "852 -45.0 0010\n",
      "853 -60.0 4510\n",
      "854 -85.0 3310\n",
      "855 -inf 3310\n",
      "856 -100.0 1201\n",
      "857 -55.0 4000\n",
      "858 -75.0 2100\n",
      "859 -60.0 4510\n",
      "860 -85.0 3310\n",
      "861 -85.0 3310\n",
      "862 -45.0 0010\n",
      "863 -60.0 1510\n",
      "864 -60.0 4510\n",
      "865 -85.0 3310\n",
      "866 -85.0 3310\n",
      "867 -inf 0500\n",
      "868 -inf 3001\n",
      "869 -inf 3001\n",
      "870 -inf 3001\n",
      "871 -inf 3001\n",
      "872 -inf 0500\n",
      "873 -inf 0500\n",
      "874 -inf 0500\n",
      "875 -inf 0500\n",
      "876 -inf 0500\n",
      "877 -inf 0500\n",
      "878 -inf 0500\n",
      "879 -inf 0500\n",
      "880 -inf 0500\n",
      "881 -inf 0500\n",
      "882 -inf 0500\n",
      "883 -inf 0500\n",
      "884 -inf 0500\n",
      "885 -inf 0500\n",
      "Random action is performed, because the current state is unknown for the trained Q\n"
     ]
    },
    {
     "name": "stdout",
     "output_type": "stream",
     "text": [
      "Random action is performed, because the current state is unknown for the trained Q\n",
      "Random action is performed, because the current state is unknown for the trained Q\n"
     ]
    }
   ],
   "source": [
    "test = True\n",
    "visualization_steps = []\n",
    "rewards_list = []\n",
    "\n",
    "\n",
    "if test:\n",
    "    for i in range(sim_iterations):\n",
    "        #print(\"state\", test_toy_system.s, test_toy_system.ds)\n",
    "        test_toy_system.update_state()\n",
    "        visualization_steps.append(test_toy_system.visualize());\n",
    "    \n",
    "        s0 = test_toy_system.state_to_string()\n",
    "        best_action = optimal_policy(s0, Q)\n",
    "        #print(\"best_action\", best_action)\n",
    "        \n",
    "        if best_action == None:\n",
    "            print(\"Random action is performed, because the current state is unknown for the trained Q\")\n",
    "            test_toy_system.random_action()\n",
    "        \n",
    "        else:\n",
    "            reward = test_toy_system.deterministic_action(best_action)\n",
    "            print(i,reward, best_action)\n",
    "        \n",
    "        test_toy_system.reset_trucks_positions();\n",
    "        test_toy_system.reset_trucks_loads();\n",
    "\n",
    "        \n",
    "        \n",
    "        #Save visualization and rewards\n",
    "        rewards_list.append(reward);\n"
   ]
  },
  {
   "cell_type": "code",
   "execution_count": 58,
   "metadata": {},
   "outputs": [
    {
     "data": {
      "text/html": [
       "<video width=\"432\" height=\"288\" controls autoplay>\n",
       "  <source type=\"video/mp4\" src=\"data:video/mp4;base64,AAAAHGZ0eXBNNFYgAAACAGlzb21pc28yYXZjMQAAAAhmcmVlAABBoW1kYXQAAAKuBgX//6rcRem9\n",
       "5tlIt5Ys2CDZI+7veDI2NCAtIGNvcmUgMTUyIHIyODU0IGU5YTU5MDMgLSBILjI2NC9NUEVHLTQg\n",
       "QVZDIGNvZGVjIC0gQ29weWxlZnQgMjAwMy0yMDE3IC0gaHR0cDovL3d3dy52aWRlb2xhbi5vcmcv\n",
       "eDI2NC5odG1sIC0gb3B0aW9uczogY2FiYWM9MSByZWY9MyBkZWJsb2NrPTE6MDowIGFuYWx5c2U9\n",
       "MHgzOjB4MTEzIG1lPWhleCBzdWJtZT03IHBzeT0xIHBzeV9yZD0xLjAwOjAuMDAgbWl4ZWRfcmVm\n",
       "PTEgbWVfcmFuZ2U9MTYgY2hyb21hX21lPTEgdHJlbGxpcz0xIDh4OGRjdD0xIGNxbT0wIGRlYWR6\n",
       "b25lPTIxLDExIGZhc3RfcHNraXA9MSBjaHJvbWFfcXBfb2Zmc2V0PS0yIHRocmVhZHM9OSBsb29r\n",
       "YWhlYWRfdGhyZWFkcz0xIHNsaWNlZF90aHJlYWRzPTAgbnI9MCBkZWNpbWF0ZT0xIGludGVybGFj\n",
       "ZWQ9MCBibHVyYXlfY29tcGF0PTAgY29uc3RyYWluZWRfaW50cmE9MCBiZnJhbWVzPTMgYl9weXJh\n",
       "bWlkPTIgYl9hZGFwdD0xIGJfYmlhcz0wIGRpcmVjdD0xIHdlaWdodGI9MSBvcGVuX2dvcD0wIHdl\n",
       "aWdodHA9MiBrZXlpbnQ9MjUwIGtleWludF9taW49MTAgc2NlbmVjdXQ9NDAgaW50cmFfcmVmcmVz\n",
       "aD0wIHJjX2xvb2thaGVhZD00MCByYz1jcmYgbWJ0cmVlPTEgY3JmPTIzLjAgcWNvbXA9MC42MCBx\n",
       "cG1pbj0wIHFwbWF4PTY5IHFwc3RlcD00IGlwX3JhdGlvPTEuNDAgYXE9MToxLjAwAIAAAAuPZYiE\n",
       "AD///vdonwKbWkN6gOSVxSXbT4H/q2dwfI/pAwAAAwAArqxz6KZIGF3rxgACj2n8FdriBdSZvlGv\n",
       "PP2+buc/m0uY0srIcuWZxkApdEwGe4r6gKTlLv31CyK+xLp96ezsZW6LD0v98oncPAo5RS0X9vxD\n",
       "E6L0v6GynuxWq7/dP/KpmpaYuyU8ductQxDIBiP3Vuk8UhJQQU0HDFHItFi9Ef1U5Mgf3C+BrKAk\n",
       "r2OBlDMr7Z4QDhUM+77/T0zNZfOhyh+HfMEelNRP1rZydp/4Jq40ap+9GLhlzgxaKssqrVrrMO9q\n",
       "CwnjFbstzzJ3EUMzTcuCy+HLACLhe8zoABeRWiMvzB8Byad889Q2p1fG+YuvysP6Ocv3jc2bImDP\n",
       "Dj8ohJnizzXWw+IOou7Uha2dKsKSNjsMte3vCOubZatJtct4xdrOLwFWcHM6ari1UrfFU+anst9Q\n",
       "ULMqMkaO2j4Pn8xSOABppEMi5ImWz3k6fxWe0IVP+T7Bk8uI2FpQXj6378buyfjW9kgYMHrHb3xo\n",
       "gD7hXxvs89hDMMR6AuR4VmkMSBIcndblhxuuLJzXWSwlzjqRZEYltg/ua7I7muUa1CIMD+b2TcTR\n",
       "mnOeF7Ksp24/HpR7SAdUAgFQQHCxmI4w2g3lynik7Uj7rVlCXi8jI1w1vfrkfsWn0bf63UOV+a2k\n",
       "18wbdr1aspWM6Aybx8xgda0QG2utjo+2teaNhNq/xAAHmBiCd3r92zSy2bWmMWSEw7//OIysysNG\n",
       "bDa7vEnswpSW1GQciCB9bS51b33+KURtN4Ul0fs2xRSfD+5heKgiPKRV89wFDB5Nr5Gw1ZzXlPbw\n",
       "NVpAAFl3sa15r+GX+Me1z8MdH8zFJuz1lgTH9sVHk+OVl+GQ0XJI/bVhuH1387qgiZhNDBxH2W9F\n",
       "32ohA43R/Wqi0FoO/m/4W7o0X/3p5UcHVgq311uEpboRVaYPhdUGZSQACHDI3r7S8sFRqQOFo9vF\n",
       "7naGrhNSA1jrnlsj4DQ1hfZG+0tnjGB5Yy1qvFDMVs7XXPSEGQtq16eXmpNrJoO1xJX1UPQ9TBCD\n",
       "pcfCdST4mmjAax0WU/9fVsP9xmw8UvM2lb1cYbq18xKbhrs638n3Y35OhzCg00YptjH7Bxgi/uhH\n",
       "uSjmma8uPjz707LI7FcB3TWOzyDsUv8H0kuBIfKUvPwYlqO8LRb4Iwfi7QyKC7NHYdHNOZTIi+K3\n",
       "J8oleOIVjhyU5lLwH7zSKolY5oqyOEZOJ8yD6vWBx2pDqEkQBvQGPBvYkLYfJzWc73TWisw7YQLl\n",
       "xs7ILejGP8a0WOgahhEUgKWp/omiXk6SI0weWAyAdlzgBq6NKGbuarnm44bzpVcY2A0cijROq9ua\n",
       "x21HDL0C6P2+ATD2thyutN6StqyMKSmYfc0xOr8NyrDAbk53qnqVqAiomzvecmiI/VYNhv/uKkhc\n",
       "wHdZPK41KjZuARfNGAFRO9yUBj1nCG97lFtOAxydtrC7NL4Wo1kxt0hAzckhFQHMlO1l5ODdtzP3\n",
       "GrqNpMUQos0QPICqHdJ5az//zsayn67xoiMilFO5y2rqAAAy+K4Z+4HFgyxlRxOyr2OBTBf+h2z6\n",
       "rpLWRSKX8yB7w4Onj3mcpufIvyyMMgHdyArFecRVUjhVXt7RYQ1oOevH5O6wXzvOvs/6/rNJ8yaZ\n",
       "DI51387NJ5rAvpVw6LRoZt0xPKjZP8TZzxKo2syq9srkeZNBknUD4kQ5XK9tFuNWT4+m8eA6byv4\n",
       "HUS4Kjt68ZKqDkOtHO/j0H5824AACtYKUHT7YhM3zLJVMuL+maXX5auBZXMElOUoTx7WthKx/9xB\n",
       "t51YNmcM4MJ8E60mOEagcw5OCdYes6pDO0wtpY8jbRor3d8DWLImu0HkuNe+NvpI8VrrAb/dHPvg\n",
       "SxGeY8nmVKWAGbP4vPBTd7MiJ/3Lk+a3R4NJcBM/0htnvl79LumptlYS/TPJ0Ilh1F4WAxvw7qUr\n",
       "27qZEKkwqi1lmSK2du4yfJ41gRiL8GyahJmBjhLVr7I8H0MehPk7NxkeOWizJkuVjho6tXpO7xO5\n",
       "ojOY3cNqG/GyAd6qP4XfmhhCiw/8MAyYM/YvN9hKL35v0a21iMEXMiLCBf3WCIOfxVMzWC88WA+f\n",
       "BoToDeWO3M4p6Y3FzjDioloOyTiohQUHhlR2uTkE4Yo33Bjd1lsRdi6RPLQ71pjV080FnTLDL6+/\n",
       "Imqr4cdjoxLSIDYeWeRURKXGY1fHQNnGAQ2Et2ZSZQdI/sFVk37sSfUuwykYe6ikvZduwHdHHUSm\n",
       "XRw9lGno8dgiFLx+r/X/8nOKtts/X+jdQ97SbDD+Fmx1hKDDR7ZjoJoRo87+uFpSKf+M6fhN7ODK\n",
       "qUOxfC7QIxibL9RBoj/ZZ2Vp+MY+OsfcRp+ATMrsTzkPkA9afsL03ANM85m4F9KbBW8Si6113Iz1\n",
       "CUojQDABjnddRVV3vzo6nIAGgwVh28fawx0j5DgNP7J20pNe9b1b4UGlZnGPU2Xe8+2U0Mh+gW2z\n",
       "sBNGDUgL3OEN8S1TkYU3TFUkSHN5M9oxqdhBkZwIMXdlHZuOprpUNCboU6n0ZtvPUgtX+fTqXOn/\n",
       "pHo8c9oe91XwO+G/1pZI2LX0Gf2CcJLu9GQQnBBZQxS7MsrJa3AIhQWGnMgjxrFVrT0W0mpRgEmO\n",
       "QnGeL2gUidO/sV5O5KdOSf//0JRJ0UPf3NKa264jAX8Tr7v/+Ti+nr6u2Ck2kxPZfatMTzJsc3id\n",
       "T96iKcoSVcNtE8nIpp/1/in42J2uvr7UjMsFDMh37xhezA7WCkVFxkOffGgRVW4LGO2YFbaRcLc1\n",
       "M9xxq1PGTodk7qzLrg6tkaDIhB5p+tvOzduHG+PIBP74iU1RbTOMX/EjZLvjGieYrd2tN66HK96p\n",
       "CM/fQ8dlatCoUR8jy99cad9nzacqiskCJYuGiVHucvzV3rIu+DUoDhrvvZXSI8HS4yMR/1/nCfeO\n",
       "hnaUf+ppgKlTGIMNPOO0CCx3IC/Dd1KasXGyNYyjh9s7cIz5n7qyxyQbTD/zfi09NKXZY4nBgToO\n",
       "9F//cE3Y32r/tfg4wMWG4UBk7kLSygnWE6LEjLgnXxfakPve/wNkrGc33LMnQfOgXbZKy0veYSlT\n",
       "w2pFaaoh/92wgb0LWVHa2GqAAV+0Vs0tpj/koXdr1HlfQaUrADrs496THPWffENsTRiXJh8tEp6A\n",
       "GoFxucFIR3QTvUSb+0W7EXgAIz+nCLYbyQAddlhM76qvyJh0iXZhl1IWodGhHUA8dBuADZllJZbg\n",
       "qJTgPOAbdFKCJquNy+iCmXw2i3Yi8ABEPw+q2G+Te1QZCg8jFyBFdfw1rLUFDjqyj+5RkCqzo3a6\n",
       "hW4Rmv8h6h/KcH0WkkjHVH582y9dG7FQGuIAuz0aoQBzo609qRkl3tAQV5Gi0CHBlT5psE7U/tdF\n",
       "65Sy3gVCV+X3CxexiO20XKR2AXQAAJtWf/bTFeKJjxj2jrltWdwQ+km4AuO8HW+HWp161IExvtPM\n",
       "/OiPch2glKIEq2mJh2caGYoUu4zJKZxU47k+5s9EVqvIPyYg8p4Pll41cierclXoPrCyk8FaYimK\n",
       "Dx28UpGqcmkVKqv4+oMYRkOaHH/6IxVnfJYKnUgnxYnnEMsDKx7EIv+f3NKv2pwH0KgLvYpih0x5\n",
       "XEAOQkKTcGbsrgFCNuNh6Gaoa3oJo+PHi1Bxqm3PybReqAOeRpDfJsoWiB+j5ovlpExpBsFT8Y5e\n",
       "/weYBSHZtrvr5PeNC0u2GX5qNzb4VI19vQyu/72FW0wKnMl1ImHp/X5W+KPcBSi4g7W0z9h6dTuh\n",
       "J9UkKBev5RkTMal8DHnRJQ/Ls5xWLR11QQN0WjrJNqbfys6Pbg8j5g/+6oxStua0UYhJGvS7lfh/\n",
       "/KfDyzjh8zCNtaIpg1QNYbyS5faICRsxKu0TejdyHQw+VT0ATsKItk/qeO46wAAfUQAAApdBmiFs\n",
       "Q//+qZYAkC+AgFqNXaKZvQcrW5ULMaGkhvEnUDhD5a0FNLBOjamPzqiSLrWaP9N/53NDNIM5u4Vy\n",
       "e9QGj1VtRi1uWn4FAbEuverx1vgjxkLn/DUtyiN7S0icsaS/2oOwsWe3SDWhZD70UZEjHNAiMmiK\n",
       "TdxtTqmNf1om9+xJR3eqv5XZmEGz8/OhGG4CVa2k8Hi7uJhLBnjsVYPf+ngRoj0zApmqteqiloAr\n",
       "jrxkwOPraV0ANimCKoPVesyqqL85WHu3qyRTikfPF/MUjsra1LjjGgdHvdgZYdvoG3V+fhSbuou3\n",
       "EQtgtJGz3wALDLNNB3vUKVTa1w83GPEkSnizzl5LSRiS5cmx7SSK4hClb0hv+67CO+LVvDku9eji\n",
       "w/4PUmxoWf/V+HTsjToXyArFsotSnnnnTqn4PtY2kk5tWzMcQMUFgwHVIwouO8YR12Vv0IH90c9N\n",
       "KxYgNece8jOJ6hmgY7aQpp0PFcBMfv4ADJxqBz2UajvOvafGhcxJ5RzafeUwepQNMza9EBxiOVaP\n",
       "xhd7J8yk5nKFMs2Y0EQpwDp/t+9VfRhYAavTXNojAUfByvGeDIJo/UDxovUIJ3IwPfBTELZ+fz+h\n",
       "Lt9wUabGHvpCPO7x179OAd6dHzNbciaMfSkJ7cStfNapBzU7DFgIeiFjCYvAzkdbkHjJAFWzroIi\n",
       "GJ5596raW6O3eDOxnLb/OJSs69O7wAsXq8/9XjF+Fe9XCMX4bs1xq9mT9/aJ5bNTmK5cBfQ534tX\n",
       "tD9ibyNNPE8ubm2SWYElluFBLPBi3XXZiONgsGh3o5Epjqhv6EVvwdNnG1Brhy44quEA5CzJjB8k\n",
       "JiBcbEWEQ+1nwfzVKZPNUak2919A+VudBvjNzZpBrbAAAAEwQZpCPCGTKYQ///6plgBIE0LSmvCA\n",
       "DZs0P1rtWhtGuqLehAdUT869Y7nd9U/I2GGmJx3S29VvL3wgg6WKqmoRMXekGj8i5u2lexH+DZoG\n",
       "T1K3ZLEUKUCswGROl9XEgNU9b/3lFSvX3JYEj9PRRl8P9GmmqqbmfK9CfE1By87J6dsARU4S19DY\n",
       "AFDadoqKavZt6ySZxLaIACwOFvdiI/nGXhlCxlFP+C4BAxnmv/9APW7Y0mcNzs/77uQl9QCcpFH/\n",
       "MwNvO1ZEPclmfLDyCTm9Ld8pvbYAPWvesZZRHEs35Cdy/+Dt5jWnQlFczWAjBJNkUxKC90KGy6oQ\n",
       "IhlsoXlrFoXpdqZzDQM9+WEIAblGfBnrZqeaL1wuH+Lw5Sxsvz9KUG854ElvedaNi7eZfrofcQAA\n",
       "AKFBmmNJ4Q8mUwIf//6plgBIE2tEkAIPyw82OXDFsABeJtGzBB7L7sJC5SOvhqVYR/Cb0MVOMfWo\n",
       "w8y7QVKA78i0BiPhNtAoAR/NyGIbQ8SxpHtWYecdetZzu63UmjWnLwjq5/+RgOmkKv7s4Rq5/rIl\n",
       "wmU+yUFZmViVmly6S8j1YcGo10bY1EQQL7apmAj82dbXuPVnCtk9OWSdqg3B4FriHgAAAH5BmoRJ\n",
       "4Q8mUwIf//6plgBIE0KjoANxU1ba3XH+AK0NZxXee+rOk2Cpg0i9USv/1dY0DisBRLrI8ZS6osSN\n",
       "yB4nRYwl7+g2PWMnZ3dV12D9aB6utUa98gHR4uB9k3VOYalzoRqPWVIyZFHbP6S8T195rm5r1Jkm\n",
       "GL8t1svrDCsAAACYQZqlSeEPJlMCH//+qZYAjP1kGcnNcATf9NjrzZnQFDq5a/k/t+UPrtqpYBvJ\n",
       "M2Z53NXG183gtR/Evo8iHZwm2v/aj9LWHdiWCyWgnvRKd0AQsjFWWPgFmSBHSV1/+9ZqW5jssiCw\n",
       "8eI9KsKjG3lhx1jiOe0YT6VUxNH3MRscMlp0RPDzEOvnPG52ziks85IaaHiMZZRWGIEAAACJQZrG\n",
       "SeEPJlMCH//+qZYASB7GbNAATap5jT5brRI4mh2/+hKV6q0pYZ/T574OT+Wa/WWXDBGnFUmZUYQ4\n",
       "bdNzvLLID9pZlewgD+AqnBXR/Ki1hr7SmdyBF9Bkbdrx/Ust/kgApYSsO36auB7r6EBb9MKWmC/Q\n",
       "24lpVBuTkdDOD+OZ8Ew7+H/D7/MAAACBQZrnSeEPJlMCCH/+qlUAJAszXr81KALjL6ez/H/lw1/I\n",
       "9PpBxn53+Jp6VOkBRGbeNK0I7quomVPkLt7oHdl6kwTiCT9UoB43/2of4r2cmbcvheElU7baIgS0\n",
       "WamVZUVnpFqmKwMJiO3jwgyUzqYc9T3AoFXxbojsBB8PF5s25rIfAAAAiUGbCEnhDyZTAgh//qpV\n",
       "ABIDc8G/fmdlTx7vyYLBMbOWdFBW3Gm40nO25FJ2bDNzw6JgJmoom8ILYuw7NOlJM5NZ2l/CV/tW\n",
       "t/FZMk05b7UtnFPjYnkLVi6QjCRb+EUMZOaa/JirVUjPFlV4QDPhlmiuCvxfeGddNRZOPt35m/NH\n",
       "zUF7Pqlu24XAAAAAxEGbK0nhDyZTAh///qmWACQJrc3tzkGsGlbF9rBu3zqJL4RKj0ROYY/j4BOK\n",
       "cVV9+jrqE69wLqFnfLxOPhX6PFVXyNoDrP3otSe+lqMn53yqoNrjOpez7f3ImKZAh1sbs3fQDKLL\n",
       "C9ZMJxm8W5VT+D//33BOakr1JR+Nd8w3xKcH1rWDSPYDGlpGCmcN4fLNGt9bJUjAApLE091D0a3H\n",
       "naFt9LqriaNaZS6yvMNK6nMcBVCu7L6OjlW++pY7i5D2iqOeFsAAAABrQZ9JRRE8N/8AGcObuNIA\n",
       "Qd4VIdzJp35IjUJVbsZD+YhO0UxKZdH9ZzPW79yGjx+Gm6HLRSvfG3OBtPyNCY5S+plLppV3pkeo\n",
       "JRQkd00MsYPhSBTGaDff83QDM5PAAPP7Df6WoeIwTjWAmYEAAACQAZ9qakN/ABpgAqUXhhJqAEqe\n",
       "Z+/iM62rPypC68T853RNz7aAp3eVr8fpbt7/mJaetXjrReNgjgWWbLPpQs8hFAtICEn2jZj1fniL\n",
       "hnoJn5cBTUd8q5L1P7o/ECQnrhdoX5wgsiEfNp/YlsjGtr0AIazC0vTDKltFq/2s3zL69EUQrncw\n",
       "V2KGrNRpCrf9x4mYAAABB0GbbEmoQWiZTAh///6plgAkCaFYJACCZMwfLTRohhqUeRzXYiP4YI+O\n",
       "vYmjSJXqrAQJ6bMjeHxNE7wqaYlmStg70bvi9wAHMWFwDvGY95nalqxDgKshOKPbfphKV8qInPZj\n",
       "Bmy9kUx/usyQxlLbWjb1QfgqCJgU3PGCC5P8FKY5+ATQSfona6QmaCAPiENc8/l9i5aV96LMr2Gb\n",
       "WVmkbkdn8G9p03uZFlcPllF+T//1PATzp8AAd3sp5pSd34Y0ptLHJEzMM96RksJpX653WF/Wll1n\n",
       "FquGPh4UPnbIjd4hyj/grpwGFX5PlPjnk4YT4YihTySxtqZNFBtPfsY0rbVkkSiQl6NuAAAAl0Gb\n",
       "jUnhClJlMCH//qmWACQ+xOQFE/rJOGQJQzomyy4cb1sn5XP+0045Y3C3bUziDr89wmMAcIIvHjS5\n",
       "y+RIjMpjW1CboDbuCwOjPCKtJ877w6AYvMg9umq9V83gsdIRWG3EtvY5P2aDK//+bTll5tnpwvrs\n",
       "zRV0DB37Ra/8TtijUmiyWXOwKMxh3QFYfMfOP1ZgZjLykz8AAABRQZuuSeEOiZTAh//+qZYAJAd3\n",
       "wATbdKSfGcc317K95FBnAoTpVdBGoW6chjBMGTzzKE7iFv4Tb5bUkmKp7USbFIbU0HW58wXcdERH\n",
       "l2gx7mfBAAAASUGbz0nhDyZTAh///qmWABIE2ty4RDWTyqcho7a+D0efOwEUJst5rdX2EiEjZksJ\n",
       "K0ETqtgBOK3dXz/Ff9hS/l3hOOhkN4dIKLEAAABCQZvwSeEPJlMCH//+qZYAEgZZXlziEVMS4fFg\n",
       "9UygOuw3tqfCCCX+2VwZCG1UkAIPWw4JET1AFgi6cSwPb8KARUOAAAAAUkGaEUnhDyZTAh///qmW\n",
       "ABIF9yDOCBsROHxYPpEVAB85MIUGdgkx5IRKNCEuFxNGpiqrCd2r1WNrzqAx0M2WVcGwBmvd/BA/\n",
       "0i6dDw4ZiIAAa4AAAABwQZoySeEPJlMCCH/+qlUABKE5biSjM1TYQDyBdln5/Stm/H2+5L0vM0N4\n",
       "fIAOSQO6QFEZtq5mNaPCe4+AEZhZZtUHtEALXxzqIKG9pXSS4rmI69eHcnypvYL/FX1wSlw6FaQq\n",
       "RnrsMa+/okOyhgD6gQAAAMlBmlRJ4Q8mUwURPD///qmWABIfkvOdfUviVMqr8uu1PaHsAcCZ1cwl\n",
       "oArehgONfrt6FfRGOfqE6ElEF3MnTiH6lpXylnLPgjBeNeSMx/R/btqcWtK7fcslq1BEwKbnjBBc\n",
       "n+ClMc/UBEuu8LddfFHBFB7xZx3QU8N2HWltUvc3MtgqG52RA9N9KH/f+6Tjeg1EmPG1C+DpK6qL\n",
       "m2sX8qVr5GoaYF1yTUaZjVTpaidasIJNvmagA2jqD+rFZEbJ+P/dtSdJIZCOTm4AAABmAZ5zakN/\n",
       "AAzgApa4KVguDoS9/jHCGSsf6x0Y0Rqt9vVBXEuwhcASmk7oBiO69ZZtH8qJLzACp1DrxgiCigVb\n",
       "JtbJhHii0u3f4itm57eSKJ2Whv4nti32oAUKuOZaOZKFwv2azYisAAAAVEGadUnhDyZTAgh//qpV\n",
       "AAJQvvQ2c5R8FK3KNQhhVAD6cYqosZBb/NJYMqH+PbNPI8//5aUrX0wG+poomYtPrrxoxqqn8Gm6\n",
       "L9lhCSf0QqF6cU06bwAAAGlBmpZJ4Q8mUwIIf/6qVQACUtvqIir6+w2kvxoqPYFWDyZVlgAESDI0\n",
       "xqze+cjT3C5bR1Rg7XC7EeHteHoZcb8Obp1Zqk1RSbfoABYXsO1T7zvIhwIUfBnm688ndVG+HmRu\n",
       "WgBnLGpUzgIAAABjQZq3SeEPJlMCCH/+qlUAAlCbwF9x74UsL8LyHr7ED/bEpAEEZR5uhcNAEyjf\n",
       "PGKy5hraLB88kmM8sB1PT/0//wbnTJbdUDa3JhAovtE9hbZsM719Q1NkHz8w83F3mTWj45tbAAAA\n",
       "YUGa2UnhDyZTBRE8Ef/+tSqAAVT6DG2+yyAWqBq8zkdevZc3E4UtMWNB4hUHm382HCuEHjMn28Q5\n",
       "oKnqabFOQCmn6C7czXdeFIflM3ZdBmIII/JkGbMkt1THHxK91jmz7p0AAABxAZ74akN/AAc/ufpT\n",
       "0vOwS1DlnRQLLfTVauJVJIMAWUmNps5+Mb62pdO3Sl8/x+bz9EpYURYeppUbtrI/Yfsjh99erplP\n",
       "GP5GGxOKkKSXd5pkU0bzoQCKzL0ZTnCDyqG1EoEB5CcaC1h3G5tLUAY1eDAAAACKQZr9SeEPJlMC\n",
       "CH/+qlUABKD5pAojV5fLyryljRD9TssBi+Rx/vL5R37SHj5OwIuWCOhA62vHcLm1lMwF4rLhqWe7\n",
       "zhr/3fWAXzWitoMHZp11eV6pSCk5qE1hF6NxEEmmqmCffMRbkeoWvBBf9p1uej/OhdKpYjLCs80D\n",
       "mlsK9FOWm92wV4M08EspAAAAg0GfG0URPDv/ADnKQNS1rnQz6zYcWfpGCWSxbN3oHkmGs0IvdXrA\n",
       "VMWQSpSZboZFeZIDtG6pvckdBKqhb/LJk6sc5nAfi4AWDi5EvDSgLjl/jm+dGuEzjEIQ0IEKhzIS\n",
       "ZNZ6a9MNAFB/ud6CqUKdp8mzuN1mngvxLIau63ijM2W0/dxwAAAAYwGfOnRDfwBUDvytFt2lT5BW\n",
       "icaJsLNSGi2G5kuoCmJq6Jstw5q3jEPOeaqnuTfEO4KeVBW0VpNAz1/cDBPZY/z7Vv8sCqXOrq8H\n",
       "gGGOMa5TL0tjZUhmmQB0J3ruK0wf/JEbuQAAAH4BnzxqQ38AVB6HLsy9MhTNL3ykijjn1q3HjkJU\n",
       "Nras9CAJse3falff0ADrwvW6j7wFeJs0rlQ/BMK+uEe76DW70y/cuMjOjbrCcI/XrBR1c4Dz1YA/\n",
       "GJW90bRsSUjT2ChvATwwWkBoqsx4NzAWJyuiyF9HGcuAZGLdcAwMu6EAAADMQZs/SahBaJlMFPD/\n",
       "/qmWACQJsVgRQAmF+t6LraSGuMDC3+Hpx5rM50Unsh2AZnzYOPXxvJwuK/VA/N19I/O49XDA8nwM\n",
       "lwXZ7ZEf5fc8Oj+ulHpTuKdEPGETSAUfTMbg5w6073ZwksbqhbPa38oQIBDLUXefFMVN97hy854u\n",
       "dsQgLS5hgkah4D0plQX+yFe3RDeLuXd7ZYJb7+CyXI+w6zT6ux/WW6bJcWeoDmTB6hq4yrNoO6qZ\n",
       "Je55xSRxIJQx8oIl6tBdht+tEu3QAAAAUQGfXmpDfwBUJglYAy9+RQX0nmWAAXFs/dyoCXxI4OoY\n",
       "a4i6wn5o4ae1UJ/Q9yd/xEN87/CWOGqG0rOPXqu1NOIatbq2kBoB76cmOwrLRIrU4AAAAM1Bm0BJ\n",
       "4QpSZTAgh//+qlUACUL8FPOTMh8FKKdD464QlgALDr72PjPFUkURnqZSfr//cwCIbPdJw0G4D/Ap\n",
       "1qbknbiCb34k45ehPdHsw8UL1gl/USBTtn/rAE/3s+LArgPr4fJZjZg9ZT+APaRccHetz1bD7sT7\n",
       "xPCzWRWuxQPDCsnQy06+E3BPXOTMxe9b1c5Y4dhM9bcsSoa0uxCepw7R++lHuFSNIfMcnWTG5yV3\n",
       "YN6pT7xUw4+RWSLphZsLsDNhWT3rBfptCGaRKSRfAAAAy0GbYknhDomUwU0TD//+qZYAJAmnZTya\n",
       "8nzPvN8EQTai4/WwUkDW7ysgALDoYDjX67ehX0Rjn6hOhImY1RDe1KyY+gf+Uf+0k5fa/mYGlt7K\n",
       "4LWcJldYPx6L1wIDJUWoW9LAYTR6Ukt0QSksI6FpSyPXxKqHQZjTR/pLfdNFvCXRPOHxQFHnXOjU\n",
       "fes3MKXAr2eRlLsKn5kjPblFwXrDSY7SoBrhzmn28UvRunddGijV7LEBE9krBZc6TTE5boC7iFQH\n",
       "+ijudYaiFCsHAAAASgGfgWpDfwAZwAUtcFKwXB0Je/xjhDJbqH4LKCSRwP3837lvvaBjaT4gGyA/\n",
       "PW8AAZC2js5fnKsqmzK3shUz5ZkyuBdyvmGTyEaZAAAAYkGbg0nhDyZTAgh//qpVAAShOW4kpEHB\n",
       "8W8DHJ9f3+DYH43uAIH7zWuCWpPM+wmu26TZRQ+BvsDMpcwL/7V9SXflPD5ABFlpHtn6Nae5ojsc\n",
       "qqemopgOTMW2DkJtjyvlEf4gAAAAXEGbpEnhDyZTAgh//qpVAAShllfudAATjYy4Hx+3y3F05QE3\n",
       "gr6yI4iwZHwB+Q7Cd9KGemPcbrXRfijbaxWq5UjwP35GOyj21rHGuNXAz4j4eV9WecpxmCrlD6SR\n",
       "AAAApEGbx0nhDyZTAgh//qpVAAShN384ACAvWT19rceVjXXYJcOphWRAYAGtfmO+arzz8XNuEjiY\n",
       "WJJadp4dW2/cttw0mMytqAHSuxL9KcIXX+VNVzTH5z3V+JQYuvwW0CMMuaYMNRDXzeniTb6Pd6Q2\n",
       "LGwb0tkEEWie2DPXIKSyUemhqQOGqPiEboAnh/NU3vvnuV9a05MSiepa+FsZfVzIms3rSInBAAAA\n",
       "TkGf5UURPDf/AAzgAoeGUpAAVS5F2K6jl03C8PbTFJNjbggVGz+r+Bj0tHtaSk8olqYpkJ6c4LpW\n",
       "JBT9YgvOWwaPQgn+0JpNN83txYmJkQAAAE8BngZqQ38ADOKaUFU78WPDwVIq+t9sL4KVguDoAK7S\n",
       "cE7kZ42dcIolZQnlWeGOM/r5nSl9O46HLOsJVh6exGrFnOhxPxaNGPA+zJrn1iVtAAAAWUGaCEmo\n",
       "QWiZTAgh//6qVQAEoTluJKQEWosZJoTJeE9Sbsl1FK2ThVeoyhRh9AGG6V74ZSCPdgDbNkpstncQ\n",
       "Ag+jpNEQVfQqZv51CQ3rvXGAKLpeda6TdFdNAAAArkGaK0nhClJlMCH//qmWABIfmJbeJof4pmlu\n",
       "e/YofKYu3xMY/RiCAIZQJgbUnm4kWeLaIR8LX/Dc/+neG+kXS3csRh20PXFSumkZ6JVdh3/+inEf\n",
       "E5nLh21OO5AbIKjl9nb1LMLbN0CnytvE1N4iz9NT9/DD1fK/F9hteE3Jm37Ld3/zKrGTJL9mKLwj\n",
       "0jS6pe5D4tXbkiATrAJaz6AjzCv6LAzOdfVxgVIOwxTxgAAAAGxBnklFNEw3/wAM3/QEAU+oky/J\n",
       "eibCzUhqFEYNEuGM8lIW6HSIkGTY14Ufl328ey+BngB0EjYy8BKMsnlfM6cIBB0Fhqs1404WlzHV\n",
       "FJygh/rCxZs3bh33RXOwTEbTckZSjvG6SGZ8VfJRRi8AAACVAZ5qakN/AAyTp2GgUcc+tXAuehKh\n",
       "tbVrK8xhIRczFnGs+cryzvGJ7lDNp3ARU/h+cbJCoFErzvc8prhd50zjDZvfYbQqqbJ8GwW7P1qI\n",
       "EusqJLy32lfCgrfVzMb8xKFKtTOl1W7JTUWmaPDXvN97joL4szOlt9R2JJioeqsphTNuOcIO1GrJ\n",
       "vQ6XqFCksPNKNOcwT/AAAACKQZpsSahBaJlMCH///qmWAAkLbx7daZdUh1xiE+MJaNAqg9LE0TQa\n",
       "Ib7u/1roqq2j2giV/yLSzBasb2BZY2szh9OThzCU+2a0g/zwYziOusAAAAMBDkfO2l68w9aSG8Mp\n",
       "YmTdqWG9kesz5T3c/mKXeO1+ZuY9mCec6SjdD+ozLC2yVqbBj85BU+lwAAAAZ0GajUnhClJlMCCH\n",
       "//6qVQACUJvAX3JHoVuF+F6d4l4lCybO1cYNq5RSwH7ZyNE26AAQv9fXqertbQJU4BbBPByn6igg\n",
       "I12oaJOtUJUSoMRlKJ1aAmZR4bmNbUHLqxekp86nrbkk3oEAAACtQZqvSeEOiZTBTRMP//6plgAJ\n",
       "D/bUAKTS5hbRhytYFTg5n+YaMX6BZodsJdegnrZ3ZXN8Cv2fAHR+v+S3G/+SfQaKNcRPKHaNGD9I\n",
       "4O7fReO256wUyEe0w300xoGxT1LLHf+okCpSI2slQlakCaVjY8xxoljQ8XWtvwcq9twJUGJZ1Q7F\n",
       "RsWDAAnEbpN1U30YUGfaAR1OhnMtjJAAOeh56ltn2p9LyjRHKAfieOEAAABvAZ7OakN/AAZwXef5\n",
       "BPVd6aGD/ZD6aPnlSwFjwy12dSUq7gyKdqs6z03yHR1ZokyyVUnhjRBSTFkiBbzp9ozttMAgiicE\n",
       "+argHUs5d8tD3pRh2+DgZa6ZBY+fSMiXarqrOc8ccE+fGrCpxE/HNPd1AAAA50Ga0EnhDyZTAh//\n",
       "/qmWAAkPyXnOvqbCaFiYkoASjV9X5+6dUeQLsfrelIQYFlVY9VtesUGKnAg3WS1yej7vXyMlIEo8\n",
       "2/nMJn7W6+N0KB5rzBeCj/xbWbFhtbxQXd/CEfxWTaJFXqmG9Qsg2Ac9G/3Jgs3gUcK9B7lWrEaU\n",
       "A9SOBPwCKR4c0D/JP6kn59O3Kdf9CkoYSHiLHLE6iNlfvt4pURTHR8KwXIVRL+Zuf0/kcPkYrobA\n",
       "mPw1KK6UujpK8/fYd73jy1EQgruovoLhoFoVKApb6wPPAKkxXi75jKe1NyGwQpc4sAAAAG5BmvFJ\n",
       "4Q8mUwIIf/6qVQACI/NAleg1US/PdgAN7mITmb7HCzrtSx9Bnh0DsQhMj46lTxnnzhiWjjCxlVw9\n",
       "29O5ezm/nTovy0Qji/5y3eHw7Hy7BvIVIJSm6o6N66IcPJ01KuqOXxqhiKNTadDZgAAAAGNBmxJJ\n",
       "4Q8mUwIIf/6qVQABKGWVVmD52Mp5qJeergojgt+Oe0gn3/tQBEpIhNyPI6SOf/30olpREjg3tMDn\n",
       "58YxrNewfZ963ML9Y7oYpiBvOX8kv1SdyiRClz57L2OuYz+6NH0AAABlQZszSeEPJlMCCH/+qlUA\n",
       "AShN4C8CNO7VpNSSq4AAW6RZByMyuPsxAm8jBfemNnvLz754V2U8mU510V03Awk+5N6JHj52KV5r\n",
       "GLJB+tta6chD8bHIyqyqD+mKM62vVHl2QsX17aQAAABxQZtVSeEPJlMFETwQ//6qVQABKF96GznK\n",
       "PgpqwOLrAA4lYiq2KIzNF+/Bsy1ayCUgE5q95lQmvM3iDWY4Od948RyCaIegKE9sXbVSeJlE9lME\n",
       "Klfmc5AnyYGgtR+Mu8rmMiwYd4FjnCh5KAohLSPf3ycAAABXAZ90akN/AAM4LWBBe6SEbPp6NG+W\n",
       "AXvdZzIUzhgAt9dJOL5qfpxXeHtsXFx4F3xEDh0f+JSDVCN83YxPH7t4Np9tRU9DU99nCTr963U9\n",
       "H5udPzd3UvW5AAAA0EGbeEnhDyZTAgh//qpVAAEoWXYFfEK9WGigCgWA7xoYXPQDmml8+YAsOvvY\n",
       "/0eqki8fzXL8zf/7mARDZ7pOGg3Af4FOtZUk7cQV98gdEByou4qR98+WP9xIFNif9ACf72e7YEru\n",
       "/ix3nlzItcdNh5aZxNWlKC4Gq3XxI6iOIcBT8vwVVmAajRwgkd8oTnS2Ju5iyXa4oOY7m6s4MfMB\n",
       "h7DRfdONfc3jmniO9NSEhz2rYgP9X9acOkwFVEhYX9Gk7xOuu/SXsQr1W37pGcAuN5wAAABfQZ+W\n",
       "RRE8N/8AAzhdJvtQgnGFIMGOVKcpUOpxfGpQ/6LCl/6kJxt4CevjRYp0uZRIhZhR23AEXUJSvz1D\n",
       "6Zi/f//Rkq8D1bUIDlvekg/34umUhhevFsJyo1dXsBOlxDEAAABxAZ+3akN/AAM4LV4aAB1thnnE\n",
       "AXIZ85R5zPeba+FtWTVrWg2rfHsClwER6kE38XBr4EEh7SHLVjVw+g4RnVYHN+N1FvFu1+bVBmRT\n",
       "dPMQodPFuTxQrmxDzY7Y1RnNWySnPkZrfK9y+wLHk+nZx7ij+Q8AAAEVQZu6SahBaJlMFPBD//6q\n",
       "VQACloB5PQAh6ZFZxQbnw+MwfH/8qAOzLQAUy/PQKUUDgEWAylIOwzjctI927746/eP//nCErjbp\n",
       "cUOsIbkd/ijvN6EUs0lU3VEP7R8JEeL3r5yNEzpOqPRymk+3btTPEESXT93KIf4MP0XuhqWeTCsh\n",
       "yQUX3lo2Fk32Tc1yuVIYVSE8OMqtNI/Vgi8th+6p/kQ2aVQ9ZX7RDdj7Y8fLN/cZQmuTjrbyLazG\n",
       "4bH0hqhtpi/ggBwCkGXXLFKX+v0fJXWYtvRuHyLEHVeyWOJpOXmRp9zwTvmZVv0sqt2MSCh/vflT\n",
       "ev4qiRlWJnTcC+pSsxdZHqJyw2qTUAncjNwPRPLx99gpoAAAAH8Bn9lqQ38AB0ChAc56NcY3gT0p\n",
       "hRxz61cG12prAeDDNhO2U/omrklbztJqm3uoUTqpjqxtWVZ/WT5d684qNWKxllzt2lelmmgEOkuA\n",
       "YvuHCuvBzydVUMJthyWjGsWpVkd+DS62IygrpBsw4gc25ceWzXHHR7xaJfceoUqFnuGTAAAAjUGb\n",
       "20nhClJlMCCP//61KoABS5SOHIADQE6L88iRjaPUB8tLlQ8fttnEJ/nV63CAaJ4CfP/hkSE5u/tH\n",
       "j3//AZd/Yh76QVZH3Ivs3b3DaaW0cHl5IilHX1XhoNSu7MXsHUuMZXfl4J59iadlXq0AzqQWTPlP\n",
       "I5aOkvbBEM0B1pXwMC+w/bRLjUWW6OxpWAAAAKNBm/9J4Q6JlMCCP/61KoABSfSXHcZ7f8x7aiAw\n",
       "SAEvJYGCkhF1JrFYJdvyEnkzjiezcYWD0fz8DU1Cqrd//1z9uij8/wi4WtjNg07EcxGQ6VN3E4jN\n",
       "+aFsB2a7eVIdhy6THi07WEsfDg0A9oq5k3sWbFgW024JTvZHHqg1YJpZDbQoGVcLkH03fk9EGQxv\n",
       "MYikRrV1inKasiGHKQ/ABBjJ+halAAAAbUGeHUURPDv/ADnKQNS1ryIYRSnIOzjBgEyvqETHfMAL\n",
       "iU5gPsz4PlWY9XGYuaxlHH7aUTxXoG2R0VR2FIbZ2PbcBSH1Tq8UPkzLysEjccQOdlP1O/GcvC3P\n",
       "tP1w8NgGjC14Bm3k2M9l0k6Z5yUAAABMAZ48dEN/AFQO/K0XDO/ye7/rm874O7AAXggKxyDJNtQC\n",
       "VGjhq9oDNH2zxe+PDwI/eNQy4aKZeOWcu9ktgUYFyYaXAVHW1iwLiaAyoAAAAF8Bnj5qQ38AVB6H\n",
       "LszMhUr7A2cBAELACVx8O+BU4Wgh9d0B/Oz8yN1YzfR6VwbtemcOuU9Zt6eorgYsk21Ykyq6AESo\n",
       "H4unDi3tdlQ5ZpIL/pUmDkTH8i+qPkop/3w5IAAAAG1BmiNJqEFomUwIIf/+qlUAAUvIif+GPdkC\n",
       "Hvt9bV5xlwfkdj8ETAZ9+qxrDh/mzrii+1lseGLVRFRGb+29JTqQnsfy4134uohnip+lUIKKSqFx\n",
       "qa0KN5stsYF42lZXop1d8yrovgMi8lxOdt6RAAAAX0GeQUURLDv/ADpkam4C1CIsKRS8RzkwWAEr\n",
       "QJGSDgzK71hBlniodeQWQY7cYbCbzjYPbEMSK7yiLIRIVHuFFZVAT1QuyDOrIoQy24CFb4t89OjV\n",
       "BWTg7r1PYMF5wrUgAAAAhgGeYHRDfwBUDvytFwzwBaeS7nQFgBKvyXSEVZB39rrMEW0cpasa/F2n\n",
       "n7BtbJRPFyrxTu4a3kQids+cifhIAYL0RIRP+I/MYhsxizr4/nNJDXpODn8Y9CRZNN5uHEGhoQZt\n",
       "SbIIkr3WJInjeQGDJvu3ccwZqDZEoD+5SyKxqhz0qDf3ZPHBAAAAUgGeYmpDfwBUHocuzMyFSvtK\n",
       "0/gpZTCjjn1q2GznqhtbVa/oiuAlV/8X4n79kmUhnk00sygKZVYbq07SNOd8M2QSnz6XyoQmGXw4\n",
       "jZWkwcpkHpAAAACYQZplSahBbJlMFEwQ//6qVQABKflbsVTDGRoT6z946b7/2mAATaiUuMZpgLUa\n",
       "JsisqR9241P03EKyxNEr3SQTkOtAIBUI0xjTfXz3vQXjxIM5CmXzLRR2ghDz/co0kMlN0UeglN3L\n",
       "3UWwxUTu86f2vOVovabTNPxD9saV5mmjV3QGOzGgn5VpmBpjqWYIgBtr2P/lH4qDpMEAAABVAZ6E\n",
       "akN/AFQmCVgDMyFdM3MFvACdApOXdLACu7h3v/SV9ESEGGmEQPlcY0chYR9WBIsEWy/NHoc6BovW\n",
       "czdvZM+ki6C4Wmg3d5M8eybHu5Bezb5NSQAAAE1BmoZJ4QpSZTAgh//+qlUAAKUA1Whl4M3kGhhi\n",
       "bpDXhFF+wjcQ+AIH7zFVRTahPd2T7TxkP3wIBbm6teWQBIO4Oompm4uCdwJ4jHo4IQAAAHlBmqdJ\n",
       "4Q6JlMCCP/61KoAAUo1+HIACsz5iQf40uVESeQFFCGQsKEx8ty8KIUmJO4p1MO9W4BEDX+bHubkC\n",
       "1aLgPKhH5CbkJGXKjgRoQhbX/M13ZtlB7RrqWv7OiyxWBYrDvOAMCIZF9ow4Kwz1MLklpAI0OTwV\n",
       "828nAAAAhkGay0nhDyZTAgj//rUqgAClGyX9FbKGQIsv9ypzzExe6iW8EJizzFZ0Cb/17Y3gAcbY\n",
       "F9D6PWaZX9hC9YJiV/yToGKwQUDb1SIP+IgPJhOl+aD9PDPwRP69Pec8Qh7Uq19Y/yciPziXjWf2\n",
       "nUQzZdbr6dVoIr05IugQ0pajTYn74YzHAbaIAAAArkGe6UURPDv/ADnKQNS1ryG50yuDso8yABOS\n",
       "eVcGTFKSwW1aJwVBVl+Hb8qQHxk1J/6fKP1yLMuIRPB/P/lK5cQozeQe50J7hkI+naGJC6DUZ1sa\n",
       "TdCB1X434HVgpDkjNfYn8hi+GpRiJ+glSSvU/r8Ek/C8Sa/r/QOoTaNruQWVv7NtTk7Ka232Ed0A\n",
       "2eq08JYV345XEM7ZDdD31r/CYOP4KnFj3lrFXo0z6WHCRgAAAGcBnwh0Q38AVA78rRcM8AWoSBLD\n",
       "3N5fsSM40TYWakNLI9ERhA7yfAVIUgCpNgABVfig6gAvVXa0ILeCQyvN2YUbYYgZDrIiY+ja8ZK0\n",
       "aUBZiyqQbsOEClqGEaowTGV75f1IdbMjDqJbAAAAagGfCmpDfwBUHocuzMyFSvtfjx/ohYJ/20FQ\n",
       "bY0TYWakNJ+PzJcMZ5QiAMJ1YB4mQOhX+d4oTrtx6xRPnTGL0cYwORgUVi7PwDusQDxRLP243cbm\n",
       "KMD2sDAOM8MAxhqw5+GzwBsA17tI6rQAAABRQZsPSahBaJlMCCH//qpVAAFKG6jjoKFBlmQ3kMgB\n",
       "Mp4HQ0gHP839PIT6Kp4teFyNcol0rU9TY5+HJg74Rf2n5UYu4HR7Ic/v3pVil7MKInbsAAAAckGf\n",
       "LUURLDv/ADpkam4C1CIsKRR0f5/Nwxs7dgORSBO7HwAAAwOJSXz4DUFxc6g9QFADx5DbicRffpk4\n",
       "qDgzlhbz61bbVFSRlWhS4PAdEOeg/FCaIshSkdcAs/Ph43s3buJE35ucdr+NEqbqnQVv5WCHgQAA\n",
       "AGQBn0x0Q38AVA78rRcM8AWnU+NgT0phRxz61bDdz1Q2tqtceLcLoArTJRlbSziA1ddmDL+5ulB/\n",
       "Qq68+MJHpYxO69UHDZj9jLLmR49BUm0QM7G7N6mfP4QqMm4oyiexWpj1kMIfAAAAdAGfTmpDfwBU\n",
       "HocuzMyFSvwoAXBjZM4ALHuHfAHlb991E4Htkvlgh7AFcMEShZ5CKBONDqGlDvdosIcrqTlNinsY\n",
       "C+NOhIsimfNQ4AZfgj6ZR92uVUUnzCo0VMbhhUMDhBR653uIhiEDri9XhUULLomHXYVTAAAArkGb\n",
       "UEmoQWyZTAgj//61KoAAUo2Zd2UbzU6qZ5xDwAF8DVIzb28hIR0zkGPF/nYF52HRWZwqVRA52/XL\n",
       "x0tGnqOyTo6+ZVA7+9GC8pB5mACOvGCUewEiA9fcv9Q629OIwekTpTHw4bFtOxRRFNyE3VlYHf81\n",
       "i9Aug4RpYhk0LFQgBk+6QiCRsNdhEGXQ6w1NfT5ZS6/kdVdcY+5Fw7FYLOQw8iv5oYRZM526fvgB\n",
       "3QAAAIlBm3JJ4QpSZTBRUsEf/rUqgABSfSXHcZ7f9NHjrVkwAtoOidti1mr/sAJ3VA6bZh2p1H4u\n",
       "JYoMS1onA0s1Cy8Hi/z/D8FaJJhhG2PcFzdAseDnO6i9RMgKPZXuyUcMFizUr84o9FRwbNzESwUY\n",
       "8oaGnUt9Ol36GlN1fMWUZWb9J0kG4LL783i6QAAAAGgBn5FqQ38AAcU1wwymiAFp6E0cofoEpIz5\n",
       "YA4twLsRfwvB70bb1HhSJxJqSKUqmKDXY6vI/4NXFTEQ9RvRrpJEFexkbdbSA/KYnXOEOTmVx4/9\n",
       "Ej7zar7c2MFLXsHqFrXGy1TXrp0sQQAAAFNBm5ZJ4Q6JlMCCP/61KoAAUo2QisgAKzP9CCbWuVES\n",
       "wjM3XqRDRXK+Kpxcqw+GpszgUofyljeW7VnGEV/bL6IA9RrZbSyQHrkMTxJxb2QLfQv/wAAAALJB\n",
       "n7RFFTw7/wA5ykDUta8hudMrlZI8v3YoZiE5QA8Y8xMgbABWUQoMODN24+SXvowr+7O4AzttI9a0\n",
       "BL5v26nHNyj5LlnQ75R1t34Oqob9Q1njPE4secZNtqyz3A/r2R0FrP9rB9clC0VD3WLs1bqFP0/X\n",
       "/W//H2HiWvsFXr4BPedvarTIv+IX3A6rQ3gvOAkT32lXjjkjiAosUqTLShwoATXxGsl6sIvixrwP\n",
       "pw9DxbtqAAAAagGf03RDfwBUDvytFwzwBaugGDY6HRACVx8O+BJ3gciI64FRHIL1Jp1RNk3gQgvV\n",
       "XiT647gd4POLMbnSLBvgmx1sCCb5sWhaUwM7oD4N/ZU7L1eQO1MEnw8FksiA1uHkRU9x6ZoTeFfO\n",
       "v0EAAABMAZ/VakN/AFQehy7MzIVK/Cffk86ELaJhc6VNpT4ALHuHfBbMzQSY5K1Pi1/FHOlLVpXo\n",
       "/Y1rqqQVyGNw5RcWFJcx+y0En7SZnBVv/QAAAMJBm9pJqEFomUwIIf/+qlUAAJQyy+jkCuFjKeVu\n",
       "l310ABwOso/NaXRQ+K1ePejHlNNooKsN1+mqWcoMle70gLOuv/4J+shHp72hDsO3yU18iCOGwHjo\n",
       "5//5cyKte1up933S4LyvjVMIjw0YYKEyff8YwsJghNlHZ0u65tMsukZEbikqrGIln3B3YpTxoSnz\n",
       "0g1rux9Ta1rB3uZ1xvr0dZs0vj3HyDcKC1ozNkMIRCb7AsahQrck+Ifu/hET/9A6zYT3qwAAAGRB\n",
       "n/hFESw7/wA6ZGpuAtQiLCkYEpfx/KDdhE3LHAhp85+eAhSzNdMnkqc42ZmhVodErGHhdi1pDfhs\n",
       "zaaF6mLCOKHE6K9xaUDS6jW1swU0DZiKGKwBqdeqB4Hhj+H9EE22AcA5AAAAaQGeF3RDfwBUDvyt\n",
       "FwzwBaugGQdfp9HbFqWwSYEgAI21in711QO9bjd2d3vsqBdxJIkatVq4S3Ln81VKYApCrkjO/QaW\n",
       "nMOSoSa12mKpVvAMk4NRqCu6P1/6NfkNpA1AYSpvHXBHylguCQAAAHcBnhlqQ38AVB6HLszMhUr8\n",
       "J9+TzoQtomFzpxGADeGFAb3NT+vRwwy0VDpKVTnTGeIaHJAx9W9NR0YkV6rrQ6fKctRf9bLgnjy4\n",
       "yJ8Nu0ji4SafwpHmLjLZ4ry0NLbC2hwp1qlvw+E+ryYsotebLnhR5Hx7JtTpgQAAAEpBmhxJqEFs\n",
       "mUwUTBD//qpVAACUMs24fN9aDerdLL4itySMWiChcPKGfwAl80vQBEASXWZvh2KKxQaie0fj2LgW\n",
       "x+3iSglRR9fk4AAAAFABnjtqQ38AVCYJWAMzIV0zcAeJ4AThQ+UCiqCKXwAXHfGQbmidNQNF7RrU\n",
       "o2ggIFbPzRiNlFpset3nYCNJxydMQTKgo4tLJ2RhSny2uE8U0QAAAFZBmj5J4QpSZTBSwQ/+qlUA\n",
       "AJQvvitnm+PgpRQpAl/ue0NeMathuxa3Yor0p8fXJlt51TKfEIu4AsC4u8Oi6wmE1Qa+e/5SKmwB\n",
       "ygUHxz/9Bdz2Bg4AFwAAAFYBnl1qQ38AAcUJkCRpY9u09KB6TrIa+/0+4KU+tsckmDQtxHhnej0p\n",
       "JGhaggzgu00q23ZxPm4RndrndNcdorltw1eZ3rciCYcTmUeIQMEZdiD6T3pB0AAAAF9BmkJJ4Q6J\n",
       "lMCG//6nhAAIt/dIgr3u/igRv/OD1uvYY0fVwbgXU8a+9vUe4CJN/b/f6iJqmb845UV4o4fp/QzW\n",
       "6aqO5W07usO7UtDCu9PAHYFcIXksWez5KlsPbdsWOAAAAHVBnmBFFTw7/wA5ykDUta8hudMrmQ8I\n",
       "ocahOWW+fv+aopvOts+ANx5bNWx15H0oANlBDjpIVwzQZ9Du1cvAvXTiym+3oSQa66qX8OJU+/+i\n",
       "O6zxuQr4CV5DNTLkWoLT/tE2+dk2HN/rIhv+pMMmbdom4q2o62EAAABVAZ6fdEN/AFQO/K0XDPAF\n",
       "q6AZB1+n0dsWUb92NuVY0E8fW2OSU8uK/ptYpk4FnhDmCdAQ1Pt4evats8hBhtdtRJfmGmdHTiqF\n",
       "jpgEokTeKB4FuiW5WwAAAHcBnoFqQ38AVB6HLszMhUr8i547Y0TYq6yJhUHoiMWmUHhKu8gIAHF7\n",
       "fKODCP8gQYEhWnzUMwyL/ohlEd4yy+E2HkfWYXaEnq6mqy0O5ODjMw+sN7MGmer19VlUDihxVzbh\n",
       "ncxd4l/aoQxmgCbfdcdqVHY4LLaL4QAABwJtb292AAAAbG12aGQAAAAAAAAAAAAAAAAAAAPoAAAm\n",
       "rAABAAABAAAAAAAAAAAAAAAAAQAAAAAAAAAAAAAAAAAAAAEAAAAAAAAAAAAAAAAAAEAAAAAAAAAA\n",
       "AAAAAAAAAAAAAAAAAAAAAAAAAAAAAAACAAAGLHRyYWsAAABcdGtoZAAAAAMAAAAAAAAAAAAAAAEA\n",
       "AAAAAAAmrAAAAAAAAAAAAAAAAAAAAAAAAQAAAAAAAAAAAAAAAAAAAAEAAAAAAAAAAAAAAAAAAEAA\n",
       "AAABsAAAASAAAAAAACRlZHRzAAAAHGVsc3QAAAAAAAAAAQAAJqwAAAgAAAEAAAAABaRtZGlhAAAA\n",
       "IG1kaGQAAAAAAAAAAAAAAAAAACgAAAGMAFXEAAAAAAAtaGRscgAAAAAAAAAAdmlkZQAAAAAAAAAA\n",
       "AAAAAFZpZGVvSGFuZGxlcgAAAAVPbWluZgAAABR2bWhkAAAAAQAAAAAAAAAAAAAAJGRpbmYAAAAc\n",
       "ZHJlZgAAAAAAAAABAAAADHVybCAAAAABAAAFD3N0YmwAAACzc3RzZAAAAAAAAAABAAAAo2F2YzEA\n",
       "AAAAAAAAAQAAAAAAAAAAAAAAAAAAAAABsAEgAEgAAABIAAAAAAAAAAEAAAAAAAAAAAAAAAAAAAAA\n",
       "AAAAAAAAAAAAAAAAAAAAAAAY//8AAAAxYXZjQwFkABX/4QAYZ2QAFazZQbCWhAAAAwAEAAADAFA8\n",
       "WLZYAQAGaOvjyyLAAAAAHHV1aWRraEDyXyRPxbo5pRvPAyPzAAAAAAAAABhzdHRzAAAAAAAAAAEA\n",
       "AABjAAAEAAAAABRzdHNzAAAAAAAAAAEAAAABAAACWGN0dHMAAAAAAAAASQAAAAkAAAgAAAAAAQAA\n",
       "EAAAAAACAAAEAAAAAAcAAAgAAAAAAQAADAAAAAABAAAEAAAAAAMAAAgAAAAAAQAADAAAAAABAAAE\n",
       "AAAAAAEAABQAAAAAAQAACAAAAAABAAAAAAAAAAEAAAQAAAAAAQAADAAAAAABAAAEAAAAAAEAAAgA\n",
       "AAAAAQAADAAAAAABAAAEAAAAAAIAAAgAAAAAAQAAEAAAAAACAAAEAAAAAAEAAAgAAAAAAQAAEAAA\n",
       "AAACAAAEAAAAAAIAAAgAAAAAAQAADAAAAAABAAAEAAAAAAQAAAgAAAAAAQAADAAAAAABAAAEAAAA\n",
       "AAEAABAAAAAAAgAABAAAAAABAAAMAAAAAAEAAAQAAAAAAQAACAAAAAABAAAUAAAAAAEAAAgAAAAA\n",
       "AQAAAAAAAAABAAAEAAAAAAEAABQAAAAAAQAACAAAAAABAAAAAAAAAAEAAAQAAAAAAQAADAAAAAAB\n",
       "AAAEAAAAAAIAAAgAAAAAAQAAFAAAAAABAAAIAAAAAAEAAAAAAAAAAQAABAAAAAABAAAUAAAAAAEA\n",
       "AAgAAAAAAQAAAAAAAAABAAAEAAAAAAEAAAgAAAAAAQAADAAAAAABAAAEAAAAAAEAABQAAAAAAQAA\n",
       "CAAAAAABAAAAAAAAAAEAAAQAAAAAAQAAFAAAAAABAAAIAAAAAAEAAAAAAAAAAQAABAAAAAABAAAM\n",
       "AAAAAAEAAAQAAAAAAQAADAAAAAABAAAEAAAAAAEAABQAAAAAAQAACAAAAAABAAAAAAAAAAEAAAQA\n",
       "AAAAHHN0c2MAAAAAAAAAAQAAAAEAAABjAAAAAQAAAaBzdHN6AAAAAAAAAAAAAABjAAAORQAAApsA\n",
       "AAE0AAAApQAAAIIAAACcAAAAjQAAAIUAAACNAAAAyAAAAG8AAACUAAABCwAAAJsAAABVAAAATQAA\n",
       "AEYAAABWAAAAdAAAAM0AAABqAAAAWAAAAG0AAABnAAAAZQAAAHUAAACOAAAAhwAAAGcAAACCAAAA\n",
       "0AAAAFUAAADRAAAAzwAAAE4AAABmAAAAYAAAAKgAAABSAAAAUwAAAF0AAACyAAAAcAAAAJkAAACO\n",
       "AAAAawAAALEAAABzAAAA6wAAAHIAAABnAAAAaQAAAHUAAABbAAAA1AAAAGMAAAB1AAABGQAAAIMA\n",
       "AACRAAAApwAAAHEAAABQAAAAYwAAAHEAAABjAAAAigAAAFYAAACcAAAAWQAAAFEAAAB9AAAAigAA\n",
       "ALIAAABrAAAAbgAAAFUAAAB2AAAAaAAAAHgAAACyAAAAjQAAAGwAAABXAAAAtgAAAG4AAABQAAAA\n",
       "xgAAAGgAAABtAAAAewAAAE4AAABUAAAAWgAAAFoAAABjAAAAeQAAAFkAAAB7AAAAFHN0Y28AAAAA\n",
       "AAAAAQAAACwAAABidWR0YQAAAFptZXRhAAAAAAAAACFoZGxyAAAAAAAAAABtZGlyYXBwbAAAAAAA\n",
       "AAAAAAAAAC1pbHN0AAAAJal0b28AAAAdZGF0YQAAAAEAAAAATGF2ZjU3LjgzLjEwMA==\n",
       "\">\n",
       "  Your browser does not support the video tag.\n",
       "</video>"
      ],
      "text/plain": [
       "<IPython.core.display.HTML object>"
      ]
     },
     "execution_count": 58,
     "metadata": {},
     "output_type": "execute_result"
    },
    {
     "data": {
      "image/png": "[encoded data removed]",
      "text/plain": [
       "<matplotlib.figure.Figure at 0x7f988ea28da0>"
      ]
     },
     "metadata": {},
     "output_type": "display_data"
    }
   ],
   "source": [
    "rewards_l = rewards_list\n",
    "vis_l = visualization_steps\n",
    "\n",
    "anim = create_system_animation(vis_l, sim_iterations,1)\n",
    "HTML(anim.to_html5_video())"
   ]
  },
  {
   "cell_type": "code",
   "execution_count": null,
   "metadata": {
    "collapsed": true
   },
   "outputs": [],
   "source": [
    "max(-np.inf,-10)"
   ]
  },
  {
   "cell_type": "code",
   "execution_count": null,
   "metadata": {
    "collapsed": true
   },
   "outputs": [],
   "source": [
    "Q['001101101'+ '0010']\n"
   ]
  },
  {
   "cell_type": "code",
   "execution_count": null,
   "metadata": {
    "collapsed": true
   },
   "outputs": [],
   "source": [
    "plt.plot([i for i in range(len(rewards_list))],rewards_list)\n",
    "plt.show()"
   ]
  },
  {
   "cell_type": "code",
   "execution_count": null,
   "metadata": {
    "collapsed": true
   },
   "outputs": [],
   "source": [
    "Q\n"
   ]
  },
  {
   "cell_type": "code",
   "execution_count": null,
   "metadata": {
    "collapsed": true
   },
   "outputs": [],
   "source": [
    "a = -np.inf"
   ]
  },
  {
   "cell_type": "code",
   "execution_count": null,
   "metadata": {
    "collapsed": true
   },
   "outputs": [],
   "source": [
    "a == -np.inf"
   ]
  },
  {
   "cell_type": "code",
   "execution_count": null,
   "metadata": {
    "collapsed": true
   },
   "outputs": [],
   "source": [
    "len([key for key in list(Q) if key.startswith(s0)])"
   ]
  },
  {
   "cell_type": "code",
   "execution_count": null,
   "metadata": {
    "collapsed": true
   },
   "outputs": [],
   "source": [
    "list(Q)"
   ]
  },
  {
   "cell_type": "code",
   "execution_count": null,
   "metadata": {
    "collapsed": true
   },
   "outputs": [],
   "source": [
    "np.linspace(0,3,3)"
   ]
  },
  {
   "cell_type": "code",
   "execution_count": null,
   "metadata": {
    "collapsed": true,
    "scrolled": false
   },
   "outputs": [],
   "source": [
    "#list(Q)"
   ]
  },
  {
   "cell_type": "code",
   "execution_count": null,
   "metadata": {
    "collapsed": true
   },
   "outputs": [],
   "source": [
    "old_position = 5\n",
    "possible_positions_index = np.isin(test_toy_system.graph[old_position], 1)\n",
    "possible_positions = np.where(possible_positions_index)\n",
    "possible_positions"
   ]
  },
  {
   "cell_type": "code",
   "execution_count": null,
   "metadata": {
    "collapsed": true
   },
   "outputs": [],
   "source": [
    "new_position = random.randrange(len(possible_positions_index)-1 )\n",
    "new_position\n",
    "len(possible_positions_index)-1"
   ]
  },
  {
   "cell_type": "code",
   "execution_count": null,
   "metadata": {
    "collapsed": true
   },
   "outputs": [],
   "source": []
  },
  {
   "cell_type": "code",
   "execution_count": null,
   "metadata": {
    "collapsed": true
   },
   "outputs": [],
   "source": [
    "1474560/(n+1)**k"
   ]
  },
  {
   "cell_type": "code",
   "execution_count": null,
   "metadata": {
    "collapsed": true
   },
   "outputs": [],
   "source": [
    " 2*10**6"
   ]
  }
 ],
 "metadata": {
  "kernelspec": {
   "display_name": "Python 3",
   "language": "python",
   "name": "python3"
  },
  "language_info": {
   "codemirror_mode": {
    "name": "ipython",
    "version": 3
   },
   "file_extension": ".py",
   "mimetype": "text/x-python",
   "name": "python",
   "nbconvert_exporter": "python",
   "pygments_lexer": "ipython3",
   "version": "3.6.3"
  },
  "toc": {
   "nav_menu": {},
   "number_sections": true,
   "sideBar": true,
   "skip_h1_title": false,
   "title_cell": "Table of Contents",
   "title_sidebar": "Contents",
   "toc_cell": false,
   "toc_position": {},
   "toc_section_display": true,
   "toc_window_display": false
  }
 },
 "nbformat": 4,
 "nbformat_minor": 2
}
