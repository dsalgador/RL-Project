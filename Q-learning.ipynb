{
 "cells": [
  {
   "cell_type": "code",
   "execution_count": 1,
   "metadata": {
    "collapsed": true
   },
   "outputs": [],
   "source": [
    "import model\n",
    "import numpy as np\n",
    "import random\n",
    "from utils import simple_graph\n",
    "import tank\n",
    "import truck\n",
    "\n",
    "\n",
    "import matplotlib.pyplot as plt\n",
    "from matplotlib import animation, rc\n",
    "from IPython.display import HTML"
   ]
  },
  {
   "cell_type": "code",
   "execution_count": 2,
   "metadata": {},
   "outputs": [],
   "source": [
    "# Tanks' information\n",
    "n = 5 \n",
    "tank_ids = list(range(1,n+1))\n",
    "tank_max_loads =  np.array([100., 100., 200., 300., 400.])\n",
    "tank_current_loads =  np.array([50., 60., 120., 150., 300.])\n",
    "tank_consumption_rates =  np.array([10.] * n)\n",
    "\n",
    "n_discrete_load_levels = np.array([5,5,10,10,10])\n",
    "\n",
    "# Trucks' information\n",
    "k = 2\n",
    "truck_ids = list(range(k))\n",
    "truck_max_loads = np.array([20., 50.])\n",
    "truck_current_loads = truck_max_loads.copy()\n",
    "truck_current_positions =  np.array([0] * k)\n",
    "#truck_fractions_deliverable =  np.array([1.] * k) # we for now we only allow to deliver all the content of the truck\n",
    "truck_fractions_deliverable =  np.array([ np.array([0.5, 1.]), \n",
    "                                          np.array([0.5, 1.])\n",
    "                                        ]) # we for now we only allow to deliver all the content of the truck\n",
    "n_discrete_load_levels_trucks = np.array([2,2])\n",
    "\n",
    "# System's information\n",
    "def simple_graph(n: int):    \n",
    "    A = np.zeros((n,n))\n",
    "    A[0,0:n] = 1\n",
    "    A = A.astype(int)\n",
    "    return(A)\n",
    "\n",
    "graph = simple_graph(n+1)\n",
    "tanks = [tank.Tank( tank_id, current_load, max_load, consumption_rate, n_lvls) \n",
    "         for  tank_id, current_load, max_load, consumption_rate, n_lvls in \n",
    "         zip( tank_ids, tank_current_loads, tank_max_loads, tank_consumption_rates, n_discrete_load_levels)]\n",
    "trucks = [truck.Truck( truck_id, current_load, max_load, current_position, load_fractions_deliverable, n_lvls) \n",
    "         for  truck_id, current_load, max_load, current_position, load_fractions_deliverable, n_lvls in \n",
    "         zip(truck_ids, truck_current_loads, truck_max_loads, truck_current_positions, \n",
    "             truck_fractions_deliverable, n_discrete_load_levels_trucks)]\n",
    "\n",
    "def simple_weights(n: int, w: float):    \n",
    "    W = np.full((n,n), np.inf)\n",
    "    W[0,:] = w\n",
    "    return(W)\n",
    "w =  np.array([0, 20., 10., 30., 50.5, 45.])\n",
    "\n",
    "weights_matrix = simple_weights(n+1, w)\n",
    "\n",
    "\n"
   ]
  },
  {
   "cell_type": "code",
   "execution_count": 3,
   "metadata": {},
   "outputs": [],
   "source": [
    "toy_system = model.System(tanks = tanks, trucks = trucks, adjacency_matrix = graph, weights_matrix = weights_matrix)"
   ]
  },
  {
   "cell_type": "code",
   "execution_count": 4,
   "metadata": {},
   "outputs": [
    {
     "name": "stdout",
     "output_type": "stream",
     "text": [
      "self.trucks [<truck.Truck object at 0x7fefcd29fcc0>, <truck.Truck object at 0x7fefcd29fcf8>]\n",
      "Final rewards:  -130.5\n",
      "self.trucks [<truck.Truck object at 0x7fefcd29fcc0>, <truck.Truck object at 0x7fefcd29fcf8>]\n",
      "Final rewards:  -75.0\n",
      "self.trucks [<truck.Truck object at 0x7fefcd29fcc0>, <truck.Truck object at 0x7fefcd29fcf8>]\n",
      "Final rewards:  -100.0\n",
      "self.trucks [<truck.Truck object at 0x7fefcd29fcc0>, <truck.Truck object at 0x7fefcd29fcf8>]\n",
      "Final rewards:  -55.0\n",
      "self.trucks [<truck.Truck object at 0x7fefcd29fcc0>, <truck.Truck object at 0x7fefcd29fcf8>]\n",
      "Final rewards:  -85.0\n",
      "self.trucks [<truck.Truck object at 0x7fefcd29fcc0>, <truck.Truck object at 0x7fefcd29fcf8>]\n",
      "Final rewards:  -75.0\n",
      "self.trucks [<truck.Truck object at 0x7fefcd29fcc0>, <truck.Truck object at 0x7fefcd29fcf8>]\n",
      "Final rewards:  -85.0\n",
      "self.trucks [<truck.Truck object at 0x7fefcd29fcc0>, <truck.Truck object at 0x7fefcd29fcf8>]\n",
      "Final rewards:  -35.0\n",
      "self.trucks [<truck.Truck object at 0x7fefcd29fcc0>, <truck.Truck object at 0x7fefcd29fcf8>]\n",
      "Final rewards:  -120.5\n",
      "self.trucks [<truck.Truck object at 0x7fefcd29fcc0>, <truck.Truck object at 0x7fefcd29fcf8>]\n",
      "Final rewards:  -75.0\n",
      "self.trucks [<truck.Truck object at 0x7fefcd29fcc0>, <truck.Truck object at 0x7fefcd29fcf8>]\n",
      "Final rewards:  -90.0\n",
      "self.trucks [<truck.Truck object at 0x7fefcd29fcc0>, <truck.Truck object at 0x7fefcd29fcf8>]\n",
      "Final rewards:  -85.0\n",
      "self.trucks [<truck.Truck object at 0x7fefcd29fcc0>, <truck.Truck object at 0x7fefcd29fcf8>]\n",
      "Final rewards:  -171.0\n",
      "self.trucks [<truck.Truck object at 0x7fefcd29fcc0>, <truck.Truck object at 0x7fefcd29fcf8>]\n",
      "Final rewards:  -95.0\n",
      "self.trucks [<truck.Truck object at 0x7fefcd29fcc0>, <truck.Truck object at 0x7fefcd29fcf8>]\n",
      "Final rewards:  -95.0\n",
      "self.trucks [<truck.Truck object at 0x7fefcd29fcc0>, <truck.Truck object at 0x7fefcd29fcf8>]\n",
      "Final rewards:  -146.0\n",
      "self.trucks [<truck.Truck object at 0x7fefcd29fcc0>, <truck.Truck object at 0x7fefcd29fcf8>]\n",
      "Final rewards:  -110.5\n",
      "self.trucks [<truck.Truck object at 0x7fefcd29fcc0>, <truck.Truck object at 0x7fefcd29fcf8>]\n",
      "Final rewards:  -120.5\n",
      "self.trucks [<truck.Truck object at 0x7fefcd29fcc0>, <truck.Truck object at 0x7fefcd29fcf8>]\n",
      "Final rewards:  -95.5\n",
      "self.trucks [<truck.Truck object at 0x7fefcd29fcc0>, <truck.Truck object at 0x7fefcd29fcf8>]\n",
      "Final rewards:  -inf\n",
      "self.trucks [<truck.Truck object at 0x7fefcd29fcc0>, <truck.Truck object at 0x7fefcd29fcf8>]\n",
      "Final rewards:  -75.0\n",
      "self.trucks [<truck.Truck object at 0x7fefcd29fcc0>, <truck.Truck object at 0x7fefcd29fcf8>]\n",
      "Final rewards:  -110.0\n",
      "self.trucks [<truck.Truck object at 0x7fefcd29fcc0>, <truck.Truck object at 0x7fefcd29fcf8>]\n",
      "Final rewards:  -75.0\n",
      "self.trucks [<truck.Truck object at 0x7fefcd29fcc0>, <truck.Truck object at 0x7fefcd29fcf8>]\n",
      "Final rewards:  -120.0\n",
      "self.trucks [<truck.Truck object at 0x7fefcd29fcc0>, <truck.Truck object at 0x7fefcd29fcf8>]\n",
      "Final rewards:  -110.0\n",
      "self.trucks [<truck.Truck object at 0x7fefcd29fcc0>, <truck.Truck object at 0x7fefcd29fcf8>]\n",
      "Final rewards:  -60.0\n",
      "self.trucks [<truck.Truck object at 0x7fefcd29fcc0>, <truck.Truck object at 0x7fefcd29fcf8>]\n",
      "Final rewards:  -45.0\n",
      "self.trucks [<truck.Truck object at 0x7fefcd29fcc0>, <truck.Truck object at 0x7fefcd29fcf8>]\n",
      "Final rewards:  -120.0\n",
      "self.trucks [<truck.Truck object at 0x7fefcd29fcc0>, <truck.Truck object at 0x7fefcd29fcf8>]\n",
      "Final rewards:  -105.5\n",
      "self.trucks [<truck.Truck object at 0x7fefcd29fcc0>, <truck.Truck object at 0x7fefcd29fcf8>]\n",
      "Final rewards:  -140.5\n",
      "self.trucks [<truck.Truck object at 0x7fefcd29fcc0>, <truck.Truck object at 0x7fefcd29fcf8>]\n",
      "Final rewards:  -90.0\n",
      "self.trucks [<truck.Truck object at 0x7fefcd29fcc0>, <truck.Truck object at 0x7fefcd29fcf8>]\n",
      "Final rewards:  -95.0\n",
      "self.trucks [<truck.Truck object at 0x7fefcd29fcc0>, <truck.Truck object at 0x7fefcd29fcf8>]\n",
      "Final rewards:  -60.0\n",
      "self.trucks [<truck.Truck object at 0x7fefcd29fcc0>, <truck.Truck object at 0x7fefcd29fcf8>]\n",
      "Final rewards:  -95.5\n",
      "self.trucks [<truck.Truck object at 0x7fefcd29fcc0>, <truck.Truck object at 0x7fefcd29fcf8>]\n",
      "Final rewards:  -125.5\n",
      "self.trucks [<truck.Truck object at 0x7fefcd29fcc0>, <truck.Truck object at 0x7fefcd29fcf8>]\n",
      "Final rewards:  -55.0\n",
      "self.trucks [<truck.Truck object at 0x7fefcd29fcc0>, <truck.Truck object at 0x7fefcd29fcf8>]\n",
      "Final rewards:  -85.0\n",
      "self.trucks [<truck.Truck object at 0x7fefcd29fcc0>, <truck.Truck object at 0x7fefcd29fcf8>]\n",
      "Final rewards:  -130.5\n",
      "self.trucks [<truck.Truck object at 0x7fefcd29fcc0>, <truck.Truck object at 0x7fefcd29fcf8>]\n",
      "Final rewards:  -100.0\n",
      "self.trucks [<truck.Truck object at 0x7fefcd29fcc0>, <truck.Truck object at 0x7fefcd29fcf8>]\n",
      "Final rewards:  -inf\n",
      "self.trucks [<truck.Truck object at 0x7fefcd29fcc0>, <truck.Truck object at 0x7fefcd29fcf8>]\n",
      "Final rewards:  -inf\n",
      "self.trucks [<truck.Truck object at 0x7fefcd29fcc0>, <truck.Truck object at 0x7fefcd29fcf8>]\n",
      "Final rewards:  -inf\n",
      "self.trucks [<truck.Truck object at 0x7fefcd29fcc0>, <truck.Truck object at 0x7fefcd29fcf8>]\n",
      "Final rewards:  -inf\n",
      "self.trucks [<truck.Truck object at 0x7fefcd29fcc0>, <truck.Truck object at 0x7fefcd29fcf8>]\n",
      "Final rewards:  -inf\n",
      "self.trucks [<truck.Truck object at 0x7fefcd29fcc0>, <truck.Truck object at 0x7fefcd29fcf8>]\n",
      "Final rewards:  -inf\n",
      "self.trucks [<truck.Truck object at 0x7fefcd29fcc0>, <truck.Truck object at 0x7fefcd29fcf8>]\n",
      "Final rewards:  -inf\n",
      "self.trucks [<truck.Truck object at 0x7fefcd29fcc0>, <truck.Truck object at 0x7fefcd29fcf8>]\n",
      "Final rewards:  -inf\n",
      "self.trucks [<truck.Truck object at 0x7fefcd29fcc0>, <truck.Truck object at 0x7fefcd29fcf8>]\n",
      "Final rewards:  -inf\n",
      "self.trucks [<truck.Truck object at 0x7fefcd29fcc0>, <truck.Truck object at 0x7fefcd29fcf8>]\n",
      "Final rewards:  -inf\n",
      "self.trucks [<truck.Truck object at 0x7fefcd29fcc0>, <truck.Truck object at 0x7fefcd29fcf8>]\n",
      "Final rewards:  -inf\n"
     ]
    },
    {
     "data": {
      "image/png": "[encoded data removed]",
      "text/plain": [
       "<matplotlib.figure.Figure at 0x7fefcd29f5f8>"
      ]
     },
     "metadata": {},
     "output_type": "display_data"
    }
   ],
   "source": [
    "# Simulation\n",
    "%matplotlib inline\n",
    "\n",
    "seed = None \n",
    "\n",
    "iterations = 50\n",
    "visualization_steps = []\n",
    "rewards_list = []\n",
    "\n",
    "for it in range(iterations):\n",
    "    rewards = toy_system.random_action(seed);\n",
    "    rewards_list.append(rewards)\n",
    "    #print(toy_system.state())\n",
    "    print(\"Final rewards: \", rewards);\n",
    "    toy_system.reset_trucks_positions();\n",
    "    visualization_steps.append(toy_system.visualize());"
   ]
  },
  {
   "cell_type": "code",
   "execution_count": 5,
   "metadata": {},
   "outputs": [
    {
     "data": {
      "text/plain": [
       "[40.0, 50.0, 130.0, 140.0, 340.0]"
      ]
     },
     "execution_count": 5,
     "metadata": {},
     "output_type": "execute_result"
    }
   ],
   "source": [
    "visualization_steps[0][2]"
   ]
  },
  {
   "cell_type": "code",
   "execution_count": 6,
   "metadata": {},
   "outputs": [
    {
     "data": {
      "text/plain": [
       "array([1, 2, 3, 4, 5])"
      ]
     },
     "execution_count": 6,
     "metadata": {},
     "output_type": "execute_result"
    }
   ],
   "source": [
    "visualization_steps[0][0]+1"
   ]
  },
  {
   "cell_type": "code",
   "execution_count": 7,
   "metadata": {},
   "outputs": [],
   "source": [
    "visualization_steps;"
   ]
  },
  {
   "cell_type": "code",
   "execution_count": null,
   "metadata": {},
   "outputs": [],
   "source": []
  },
  {
   "cell_type": "code",
   "execution_count": 8,
   "metadata": {},
   "outputs": [
    {
     "data": {
      "text/html": [
       "<video width=\"432\" height=\"288\" controls autoplay>\n",
       "  <source type=\"video/mp4\" src=\"data:video/mp4;base64,AAAAHGZ0eXBNNFYgAAACAGlzb21pc28yYXZjMQAAAAhmcmVlAAAtLG1kYXQAAAKuBgX//6rcRem9\n",
       "5tlIt5Ys2CDZI+7veDI2NCAtIGNvcmUgMTUyIHIyODU0IGU5YTU5MDMgLSBILjI2NC9NUEVHLTQg\n",
       "QVZDIGNvZGVjIC0gQ29weWxlZnQgMjAwMy0yMDE3IC0gaHR0cDovL3d3dy52aWRlb2xhbi5vcmcv\n",
       "eDI2NC5odG1sIC0gb3B0aW9uczogY2FiYWM9MSByZWY9MyBkZWJsb2NrPTE6MDowIGFuYWx5c2U9\n",
       "MHgzOjB4MTEzIG1lPWhleCBzdWJtZT03IHBzeT0xIHBzeV9yZD0xLjAwOjAuMDAgbWl4ZWRfcmVm\n",
       "PTEgbWVfcmFuZ2U9MTYgY2hyb21hX21lPTEgdHJlbGxpcz0xIDh4OGRjdD0xIGNxbT0wIGRlYWR6\n",
       "b25lPTIxLDExIGZhc3RfcHNraXA9MSBjaHJvbWFfcXBfb2Zmc2V0PS0yIHRocmVhZHM9OSBsb29r\n",
       "YWhlYWRfdGhyZWFkcz0xIHNsaWNlZF90aHJlYWRzPTAgbnI9MCBkZWNpbWF0ZT0xIGludGVybGFj\n",
       "ZWQ9MCBibHVyYXlfY29tcGF0PTAgY29uc3RyYWluZWRfaW50cmE9MCBiZnJhbWVzPTMgYl9weXJh\n",
       "bWlkPTIgYl9hZGFwdD0xIGJfYmlhcz0wIGRpcmVjdD0xIHdlaWdodGI9MSBvcGVuX2dvcD0wIHdl\n",
       "aWdodHA9MiBrZXlpbnQ9MjUwIGtleWludF9taW49MTAgc2NlbmVjdXQ9NDAgaW50cmFfcmVmcmVz\n",
       "aD0wIHJjX2xvb2thaGVhZD00MCByYz1jcmYgbWJ0cmVlPTEgY3JmPTIzLjAgcWNvbXA9MC42MCBx\n",
       "cG1pbj0wIHFwbWF4PTY5IHFwc3RlcD00IGlwX3JhdGlvPTEuNDAgYXE9MToxLjAwAIAAAAviZYiE\n",
       "ABH//veIHzLLafk613IR560urR9Q7kZxXqS9/iAAAAMAFpyZQ/thx05aw0AARbX/wWH/EBLod4Q+\n",
       "dEX5hVkiZFWhw4guhBIDt9yUTxsLJ774e8gT8VEGjMGlSAA508C9IAwN3ed798oncPAo5aVLV65U\n",
       "jE6L0v6H/sDF813+6f+VTOhVkJFh47c5ahiGQDdf8rdJ4pCSggpoPIMuRaLF6I/rL93nt8BmcL+j\n",
       "aUnNkaSud46QdR1DvV0mXkwbBvzReBw/X/r6Vx+KrRcWLheW+lzQyq25uZY9BxAPrSMa6tkT6Kyb\n",
       "WoLCeMVuy3PMncRQyjzbKN7HkDHZEZfmD4Dk07556eYKz6mwznY6XZGUaOW/Io1Z4T/b6/aQAZqE\n",
       "8u2DA1JF1F4r0MJBBQPXjuUcdnWbQ1y3jF2s4vAVZwv0pquLVSt8VT5qeIav/nZPeFRo7cG+LnH0\n",
       "FMAowjqqjvxFRgNmRjVSK1/JYkIfFtiW2D+5rsjubByZ8IgwP5vZNxNFU7j4QqWPxjUxXdLtxPJZ\n",
       "2E1UHO+xeCfuXW4/8+mOyxC3I8ICG/H0SWa2Yi6sQ/7y6u6XuMbxf9pib5g3ddCfpLIzoEi0JXxp\n",
       "1rRAba6+AbExDLpjUpr/EdAZv+9cuS7FruvhRxEuwpITDv/84jK0WX0ZsNru8SezClJbTDssCofR\n",
       "Xw7XcniD5LN2tmyHXzLdPK27MdTHrmcojMdTv49GeHbVC9ZpuZkCuopTkcz4Ap54eY1QwAyFfEBB\n",
       "n3R/bP44X2toDt6GMGP1qg+CsawNpzXtC6pRAtaZTj7w2r0hg4jO5gG4APwFpzaOeqYY/TgqI+Lq\n",
       "ej79dnZBGymJm7MNPPyEXdLTbWYP8JT/Sf6AEmY1N/uYR6pHVjh/iOEs7vvPI7jYS6w9nw7Bx42E\n",
       "rsbqST15MD6xZj2nax+88p/eM3OtDTiN+h6+Z2A3nhHeRZhekWQWC4EjRc6VPaPwtkxmRtSrFJgg\n",
       "zDq4TpLYyPUegTN91C8aJ9QX+u8/64gusdro5vw059TFsRdq24eVZ/0ItsbgQAxlHXLHtFwULo16\n",
       "zeuSZuzqbjEDt9oRS2S8zl1XYdVGBntiwJR6qpMVujsVH29moyWbrfix5ZZ5OjCQGuMF7SocWwKJ\n",
       "LMXPnSe14BXF71nmm0AAsbd8g84G3Js0gAzWzlYsk9Idx0BibFy2TtlPgVanfIWN4Of/rOSg/ZLr\n",
       "1/fvYiD9C7pdG+kDZ+f/m0uChRxod7mnxhzaqSLYq+Q/3oUbwpYsWP2XVf3yXDCAWeiKaKYQiIMc\n",
       "fjnw1zgR+kq+yaFOCtn+tyz1zePkl0Zt/yq/8nHYofde/qFP4FJYOLxFNC6SmgYsAirrStFDXenh\n",
       "zEWwmVOuwRrhpJcqyltHenzjzl6RfEAnbhffnhN+UlknyIeAE06uY9UtFXEBjxc8thkUxsP698rq\n",
       "IpLWPsbDM4upvZ8m66E/QvRn0T6XQl8uv1MPbdgDijr3WfaXicJ6dOkzD6T3t8omSbCvMEOl2Cgm\n",
       "JLuES/m6LS8Y/ip6kzfQAu7kAAB6YRjLcgP82RHENJhw9cwbgy1oHPyqMkfY8CdQUJW/gvlulWvC\n",
       "3lIyyQ48CCtkGFvPd2YT9xr7VRtN/r+s0oBZYAMBeu/nZpPNYF9KuHRaNDNumJ5UbJ/ibOeJVG1m\n",
       "VXtlXr5QJiVQPR0bYEuE6oMZGuhPivWFnAh98Lit8gAbovZpJRf5CLrEwfwjmAAER6XulnquDuxi\n",
       "AtYYKplxfhlPxaNpugeUVjYww5DsRTGqjexZsKHn3Sh+nsYcNsciYrav+SsAelPH/ibyC2yxgy4n\n",
       "xs+N54rQlo9msOAqd7b86aYMX156plKzygUkmI6TgRdM+IfUvBt6aRT0z8hLNzhLVr7I8H0Ss64c\n",
       "+bjI8ctFmTJdJBwxq1ek7vE7miM5jdxL6rGKPasFTJxg+DWkfF5Pfivnp7ZxYb+C/afIs/PEdTOi\n",
       "RpbwGk0DPB76C3hc4IBj0Sy2FNvzuQr6TrM9w2pBtUUT+tSpGKn5TIjbtEnNcFoDu6DmWwFuw1M3\n",
       "t4v6nqcf8P36gN7V8vpZCxPgB/zJJW2E+MgsYp0bJTGM10KPFsdAfDWisHH/W/bPRQK+o7z0r8bE\n",
       "sMKv5p+POg7fHgod7m8LU5dmQi3vMM0Zh4vjb2B8Zj2WmUzJQOW0j77zOjo9cYP9HKqBY95nhK2R\n",
       "9tYpFqVJ/ZnyASjpYysKJLeKL8giBtTeMARgBb/kTFMOsDK+1hYMdjinEux1OnV5UXEdwyLHIj8J\n",
       "hVtIyFh0cFD6OoeTWOYXxjbIFrGYeHwkRBLTlMcO8bl1cDsqQokFJuA5w39Cdf+3R3jB8jkQOwCz\n",
       "m4qDuWc5nZFPkpCXvaTYYfws2OsEwwQul3VgmhGjzv64ToDp/4zp+E3s4MIksldoYuRRjE2X6iDG\n",
       "7mkKsrT8Yx8dY+4iiVkmZXYnnIfIB60n/If2/iZ5zNwMDzH0E0iufzl+OXPF3SZLib31Aw/70pSq\n",
       "LFaYeBDt9D40xlwjNVvWeiOaEs71myFcTixsV5nLeSZuyb8w/GCuHFLb76wxNfc63mxH+9/8O4Rd\n",
       "PR2p5/Px7I+eDucqox4+Q7yM839JhNDyt/bD0oey52J7+HtjpspgTflygWfiGxAt/rAoLRmMT5iE\n",
       "s/wpfJdZ/0XniQSA4EEtzD8LFILtZUBLDYLxfxeFls105BdqcwvpgPvClEp27GBpae5IyljGQUqk\n",
       "j3/d22zzt1y5xj2uzF5t9HHDyl+BZadhnWXWQilPTxCg+HB7KN9C+GNL+bxIbc74m/CM1utpn3Hw\n",
       "XL+lQtdXVLfEyTPtk9iHOMy7W0cY7uTeWEayAUqnH5ldeEPhFJpRDRCKdLW3Bh7aQooVWLgOgs+3\n",
       "dg6HuflyTtTuvo3KBep4g2iZ8QHymGr0HmYJ6VP2LF1zKyfPjKT6vDq18NpwEOKTRyZ9nsAjSiUb\n",
       "WXxq5Al/iuM1CsdrRuu1fpwXl5blOLdvS97gmb4wFkKdUvPF3CLH1l9RFoskt3l35vz7/gI90g/y\n",
       "QKNf/CwTduoEupHvEoRIUZ9qkhUFLaqvGXSbOHihfptGkU8aeF3caqJMVfvX6fo8XbqHtgVxIwvt\n",
       "uldU8si/beI0XadekRpmdEUHS8w7/hBiRfXVxoDZXoWZXr3O0uz6yfepbbkOXTItGQMRh2zHuxS4\n",
       "RPpTj4eKohCxgMqbP/lmh5Tshkse5i0uamd0sJ4c4odgr+bm6emqfYMAGUAubM9LFo7uIjFrqV8i\n",
       "2yilUG5UBrJx/Zyu5YbEJLJQXXCxTMLJTfnjDZipJnSX4Ji640dkkxySGGyu/gT2Yh6AJJqEcfBZ\n",
       "81xJdCXZ4tGc5J7APwZDBkzeZZUJAFgNl9X1v2JjFNYkafsU/BxTuL69PPreg3n3oMQNqNFv3rqE\n",
       "zV2JOV8VvOeGRVUvo3frg9hJwLRekGqYfFdHlibOBx3MvWTrpQObpSe6jyC6gQwKYgC7PRqg/1XB\n",
       "tS30iqQe9HPE5UsCzBSnxxOt0TTVmT7eJCFcbLEWGXZb6RIvDFqtuAFVi60ErP+96in7HPGPaOuW\n",
       "1Z3BD6OSy5cd4Ot8OtTr8HiRY32nmfnb5uQ7QVIHKVtRa/srq2IU3ApdxmSUziwK8ux2W9LiZvGZ\n",
       "r+aAUCQSIOa4QfBbKvQfWFlJ4K1U/NcE4K2pgilEdM4aEDr4n2omuZ5M3HLC0ja8mabdo++YLiTR\n",
       "l3AEWDemXOvrWj67ujMCTY1EapyBEtweNEco4gzPMxYhhQS30LpFpO06LiINtTDeQitZ7/QI361w\n",
       "MKoBOtu+FtiLBMiB+1KSY8AiY0g2Cp+Mcu+YsAwpDs2132b1BkDRxweCuvsA6dZZt3uwmcKOEB5K\n",
       "JgVOZLopmHp/X5W+KPcBSi3VdKrQZkWXM2D/wh5CgXr+UZEzGpfBBn0FwOsXx6M6vjl3EmM+/uTb\n",
       "LQ5YNNGPbg8j5g+zUy+PHelcGqdC81xdyvw//lPh5Zxw+X7TGiLz9RGDKu8kerRK/Kk5i4AxucrI\n",
       "zzuAk6VFPj8LF9WNteAAAB3xAAAB/0GaI2xBH/61KoAShkPAA5Z89AxBesuXv9W9cmM/8vuz4OJF\n",
       "IFR9HXRPT/VKulHxjR9cKxJpKrx2oqMgFFYd6/oY/xQBVwRBP961JcLxN25iLKYb3+WlHeb+yeTO\n",
       "4sz/qP31rOoPn1TLq1U/Ts0VFZ+K8sA6njwDaluEBMMlo0f0f88TjXkJxVYECWD4vlxCUphIqa3F\n",
       "1Gk6BdGb8IHQM96sHNAuGTX8Nj1KLlsKnpBC41ly5UDCmVaQtprwjKR9SUzntqU+0wjbztKmcTMg\n",
       "SiJ81PVV8Z8o7Qn9HvBf5k7hDavaVJY60dMVReJucWPwklYfEMXQCtpCmNLirKYg9J7jXBMzAZgA\n",
       "4r1VGQ/2HehFBLx0K3f1OvpPPI2FF44M9QxH7U9IGslCA6vQ/voQV01cfIaaaEnw0W5HdPnqgu0P\n",
       "4M9MWiodUblZTzQWqyd2yd06YYS0z/1aLAY/7uP2j/f+xjdxBwSEgwvfrLFvuIDgG+ynpXnAQn/Y\n",
       "XMaWVMSsE+ZM/tNRJv/28WobITXgaHjKr9wTI1EUr7UFcPNh555EWv4T4HlbAm5kn/a0zG7NoEbY\n",
       "y6RoqAHkIjQgObHG13urgfm46RNs0TBr1/D1QJi3SThx8EBlVx+IXARPtLq4suD+SME5+//CbxIr\n",
       "Rga+9W+nfYEI6VpmxgHSFqcl6iAAAAChQZ5BeIb/AGbRsrgBCdDQDYBG0bav2shuRwviXPKSKOVX\n",
       "bWsRRyEqJZXDtq25BOUcAOV7ZXQllUbzNIL3aA57EjhI6gzk5+YJYjRTm/2eibiHZ67TmrExHtNp\n",
       "U64ZlNnWSkXFw5R8+V0tTbFfcFurVfW8w3zuLm+Sn0Rx0j8zkg5CWaqz7t9FNpj0/e3xQRcnj+/H\n",
       "TQzWIO73WitOQ/48j+MAAACtAZ5iakN/AGbLuT1pXN0GoBP+J/3mwMse17G5ZZLtnnqcmJ3n+Mp2\n",
       "YJo9X9DlAHUbHLhcDK1Ygmp44e45dzNaRgA3cM+Kie+5tlJPXUL6jqPE0G/YKJ5ZGecdvxgZZM/w\n",
       "vNB6x4x6OwwRF385wbRW89/J8nZc2nO4pxLhJvXncwCMxmBPy0Y7wsF8RzCREIkOGM8HTbO9I65B\n",
       "60RvUAgDFYDrWI92B63+ZYfG1YAAAADBQZpmSahBaJlMCCP//rUqgBKD3RAAvqa8TAkFdF5AAyb1\n",
       "6/73Q98ebpTE+ANyFSXdC20/oQCECRjS4in375NwW/S8vTbR084aDsD7Tpc6yq5IgLaLcay+s0KP\n",
       "iA+okFf6H/uymn+jHVyklCehXHg6Zq9GYEO536sxyWJtS+EKiceALccmh+ll+cfhhXKD8ftnE/5X\n",
       "tAzIpFijZEyOrQZs96DOcb1N0Pd2vc+Q7XHFim4qlinGzKEJbRoiboHhj7KFRQAAAIxBnoRFESw3\n",
       "/wBmwEKJArmmJCOH0LN+kikRyWqdqMUchKm7N614bl52tY0dU20ea4x/67YNi9Yb8GFtSOS7gAah\n",
       "Iqz31Q9CWh0xVvBaxmIJRV9BFDcIO6AS7XLttclkxf8aiUy0KGMeqrc8P1WhJRYst94DZRtlQScx\n",
       "YpwUe1d7pMpv8Js/+//CN0yPWQAAAL0BnqVqQ38AVB6HLszLd0NXZtnXACsol0gPhyqpZqNxgOob\n",
       "W/3oWIEcrI66/0Zx5yk9x+OxSkOGoIPi2VTAwIrBhSHD3PFmawmxYNjtI/4TSs9duZ7H60J3JKmQ\n",
       "BlzvaZKxndtlZfQm/TUnH+FRvXlAhEWJNxFEhnqnxyeAPYl7WosAmPBe8QwOQen2yBnMY9gA5pN1\n",
       "5kMQfZqlUlWDtShavmVJ4dxfgc5e1CDur3AHNqrw0oEj2pX70MIoycMAAAC3QZqqSahBbJlMCCH/\n",
       "/qpVAAJQnB1YchUMAG5CQZnsHuvYvLHKeB16hNzIfPFm4n2a5aXBxhTTD+UpBdzqWc81C1tV28io\n",
       "Va8GCDIDlfFN/isubP1B1ibxeD1bhu12Lb/vyDvNsvFs1dSRrX22V2XPTyDnQYiYsjQ/rZrznR0j\n",
       "9Hs7fAlq+FaabKWiLn4VyVFm4sUtY0WviisEDUfui2X7PgphDsalqrPwueSRNLpqPxOIWx1SWqyh\n",
       "AAAAw0GeyEUVLDv/ADpkam4C1KX+ATCfxqBGaVwjjQN2vvs2By/3UeHEjETSa9eh1dt5y5Kxx2IT\n",
       "8XK6x6KylgOQxphsmx35jiPb+lBQrjBqxFzCfK5ZvYq78tagOl+612UInj2b7oEJIzHWJkyXAyHE\n",
       "Fs/yZ8IJMAvNobvxQR+y6/dUEfABfEDHDItXtoem5mRxRG2oV6QQM4ZUv2rQ20d2qqgM9xQFqo9F\n",
       "CJseR+/J7MxqVC9sXJNBRKOML7OMja3zzNitgAAAAJgBnud0Q38AVA78rRccLKjo2ADcCLPrH355\n",
       "w6XquQpPc1N58rBrad3KpDosaQ3K1G5QJsZYUxGiynX/4a3u5hawRCWDmPlVD9bYRyaxzqYgACod\n",
       "iiiQ4oUcWFq1BPH0q+tEOk6SSY/PbPE5+MbIa0KogllIp+4+int9YS7vEmIlZNcWE/DIu7CB7wnb\n",
       "8i0RYXcbv618ZywS3gAAAIMBnulqQ38AVB6HLszSoBx9JFHHPrVuEnISobW1Z4CyvCUAHIng7IDk\n",
       "g7Zwg6dYWFkPy2i5+Rfi0dVRcUDbRVkFmpvMINlxx+aOLMFbuOyjmTa/8LarWu6FoNou3mvMChCW\n",
       "u9/krGLHzhjc58lm25YlMMo9FLayIEL7tu5u9QsJy1IxgwAAAMJBmutJqEFsmUwIIf/+qlUACU6W\n",
       "v/H+ch4AImhfZSGBRqDsDJyPOkFWE7mkcwEUawbcX3AYjlHdoiGtb/85axhXQ9gWD8yg1RcHFCDz\n",
       "WrwE+1CVC+XM8OdyKry33ypRd7Z+jm3qHrzS1dDJ0LxR3/zfpaXYyW0949AfQ8ra/d1+NcUDbK74\n",
       "PYXLMD9cGcagTXLeq/XgaGQpmMtiUW79stFDSEy5VsGVhg2PbpqGMslYrlLkw4MpJC25ACYDVTfD\n",
       "S0RMVgAAAJFBmwxJ4QpSZTAgj//+tSqABKEbEKyAofpITvdLrwzcbhAIu2MG1ny3s3sZWyghLdI3\n",
       "wwCPUe7HARnqPMO3U+gtOP2DRIv/ffvmgmqF/TJh//CB+DjS9WAFuLNSmr+UUkuD1ZC87MhL1GWj\n",
       "mJfrETikBO7vsZ2tP1yy/+tPg6QBAUZwSFQt3+qNfq+XJ9g7AjNMAAAAk0GbL0nhDomUwII//rUq\n",
       "gASh6i+tQAG9Rle5qMj03C93mPUsXwmrh5EjJQQmmjmXfVwbe9bmR58w0xYuS230S+8u4eQwG/Me\n",
       "HilHoI0ztUZAesPdMoWf+W/d67Ry63/NRn6guuCsr3u+u/w9c3ss65ix1N4ORSBu16NiuNvuvqsE\n",
       "LsKwahtoUUs/gNbReJyiHHRSQwAAAJBBn01FETw3/wBUIissgXxH9UQjLCIpFJW6qAfRO+U3i3PM\n",
       "20kspsJdNQAcieDqdkRwa3TQ/XCdwFFKS0OxoT/IgdiWx87y4T3ix4G/zkW1AIkEnWwveQB1xAnC\n",
       "W3+OMbt6/9j5z+TL2RxGNABwPMpaRQVotY1P3xA/5WcEHU+Qlif9dg30aZHE4KM0VCSB5n0AAACa\n",
       "AZ9uakN/AFQehy7M4jFW+BCugglrGFeJcFz0XOAFXYKJvl5PLmjvZZ56LYqD6CQI0J8hM+97pcCO\n",
       "2iReL1cf4KvYvZOXIBg9AIAhwBuQN3H0a7OqJsGCIRdmOgWF/GbKS2S2pV1n+3IWguD76CyXDux3\n",
       "yMrVRVa9MLXmFmXomRXFhy87leeIJZwunrVlKfdgAn/Zq1KldnBGwQAAAOtBm3NJqEFomUwII//+\n",
       "tSqABKa6lsqt0MYJdfdJpOeaQ43GsZNmAgAFvy4vARjyumIAXlornH5Z30QrSZpRIeHmAtmlNOfO\n",
       "URg8C0DHGU74aMz/C2ZOfLd30ge8Bi6Du1HNSTyVszD3T+IyXncMP8veB36OreQJWaELcTIGKVvI\n",
       "dz0CIMLc0fDBCu6KZB34D6FsIEpYlDDlXv6uhQ8F7PDp7XvoiVHChVkxhDKCdQCEaxcWSYspcGbY\n",
       "4Q+4X8OwrLFeVJP0NNbbihUOP89gn6RlifP8PDOWJjJw+mIFmC5v2tGDI2u95wROanhJAAAAdEGf\n",
       "kUURLDv/ADpkam4ClC+9eIAMp3YFcgeXPvMMo3sro4sPVoLIDNK70P850Yo+O/BpEGvyQ4EaKpZd\n",
       "pOYjSpQ0iOOdgeWZFEBd++5S0hmyrMfVqPITDrxQ5bcqdpIl53vMrMKqSMQABlLZ5LtWgL4LRkoo\n",
       "AAAAlQGfsHRDfwBUDvyLxChLIzh/AEeJTuFTkliHk83bs6xJcwTPT6G0q8/CyXEhymU2uOsP0/84\n",
       "XQVL5HRby6Mt12vrjLnFUqyW7VtMqobJbfxbXkPN5oK6iM8VxUjKX6AG/jeSw10in4AGusl+Ayd+\n",
       "frx7bit22N9+OwsGYUMH4VDUjU5RjceA+yLa2Ei+FO76axEw8IjBAAAAkgGfsmpDfwBUHocWPcBP\n",
       "nB+VVPzXMpimqqcy6vgAcPlUBLZUuo4fBHRVBLmXCHGdniVZlLTYldp8FR1WvS2zMZCHS/qopiQr\n",
       "ZHSkXCZod0Gzi9IZz+vNKFz1JhGsywKIKdA67hcMC0rmMe4pgL5TUJdDwdusbh6Zd9A+4r2geJlW\n",
       "NYXR/VjiZW9Dh/CSf4o/CgqAAAABh0Gbt0moQWyZTAgh//6qVQAJT80BDq+ut0E8f5oXNBtvqjtb\n",
       "wb33BXURAAPx8BJLLCOO74FiYLtQUat03LSMca8kq3RP/ueDyG6XS1pIdnYFd06SrPbQYszW9mYP\n",
       "7koNOjpyWb+7KU7wgX66StBAmGg43F112LXAA9r+QnH/1fy7awZ35YX7/oOe4lA8o9gbqchRZ7gJ\n",
       "GrtVdIzoIrnpwoCMVgKxcv2grYVtNkv7tFmFPowv38KiTNzXb3MejLX9PRkAyTNeueva56nRzvrE\n",
       "k70rznVzEl5rK7szTc43bDx9ILaIbT/yduV6jjAJhF80nUCYv8fVRvVvohRZNrXuRy1bTFXt4VRI\n",
       "DClzucaBr3kdlJVPVP+HdjyNhZl2MjOcP/69lXDjN+Oh2ZJ2Yn98ybMxXi2kqjTa/C07sZWkUzV3\n",
       "lfroIVztfSmNLJzcqnCuQJ+MLUzsjPvIn9jbeu40qFnkYbX+UKWFQrd73ha1D0x7FSMYsuuBdugl\n",
       "Nu1ygs8qg8tFdhsrKIAAAAB5QZ/VRRUsO/8AOmRqDMatEkwxscrgY5jMkPRKiQS3Qoj1E4KmsAw5\n",
       "Cf3y/thhKb/RAiXc+l0FB+jnxWPxgVP2CGi+aszVkDs5wAjI/K8r1E08blUuPcBqzl+SY1Uk2Hbn\n",
       "2g4H0giWKik4MW8WNd5+DacYq5rewlq9oQAAAJMBn/R0Q38AVA76KdkuyhABynglVpCE96kW8MoT\n",
       "bhrJ2LebQrHFE3y8uqmr70KrTzCSea/rJCHG4kZgMvGni24Ec3NOv7eDqboB8R0QO54MWwLykY01\n",
       "Y46wGv/hjPsTHCAXws9S6cH5BRj2MQn+YrltHp4gQafNqjSdw1moxhYx1+iV20Y6A4039OmC29BB\n",
       "hwZHYsYAAACLAZ/2akN/AFQehWBsHRYKVguDoOF/jHBwtWkomP/KYB+EyO8oXETryiFMhJPCcdvx\n",
       "h2oA3c7LUJJ9XmEwQhkTDRGKQQKv2ITrpdfmZHly4D56u3MCI2pQ9BXARN+FtwyK5X+P6tUM7sMk\n",
       "t7ztBwfKyqWgqNG+dLd4JesV7Y5A2WyMyT7SuZYwBcaDTwAAAKhBm/tJqEFsmUwIIf/+qlUABKF+\n",
       "E40gADil4VKkL2IEYa4omPrrwRZPl3BJfKO/aQ8vXsCKboj2Mp0VFCIA7VGzN4hYIvIJAOCT67Wt\n",
       "nKeHwaWYbO/IF4FxHDGlOMiZD8njpLgAuYdNNqsv5ev1EBCM4c81C2j0j/7i+BDa/WRAWpNCDY9a\n",
       "8wJDg6bBmRc8WgV5oZ+qbIP5VYkVEhXR0HQOuOyEd0DbqEEAAABWQZ4ZRRUsO/8AOmRp+HGQeLqK\n",
       "dGVywO98RInV7+Y4GYmFHUMPzazD9G4YNkvGzu6AEcAAEBUl8+A1EcgB7enWAl+3VYhVEcfjwYmx\n",
       "0qCAF2Syj5GqM+4AAAB2AZ44dEN/AFQO+Z7snc1EU8pHciREJXIU4UAit8mKBG/80bbnqhtbVa73\n",
       "tdIc1ugCtMk5tTFpdUHXpbONtRopuiR0vOWQNzZEXPnobcOGwiHAaAAAAwHXUqmvh2R9JReYlaqj\n",
       "3J5F/PfyjGjynZdwbvRXjJr+6wAAAJoBnjpqQ38AVB6E/gNzjUjopGlEnc7qODVK4p+BBsMnMHPt\n",
       "goAHIng6nY2h93PAYtHcXD+jPrOnflB2FiGpxbsjTZS51OAkZoyCGwEok/alFisNPDLuvGg6HgXP\n",
       "Af/M55x5ZRxAwvss6AMPwbNFre12KOVuDBmAkj2M4bVwWG4s69QyBWGpwvKWq48IMY0OpHzeGqVH\n",
       "QvaB1JGJAAAAkUGaPEmoQWyZTAgh//6qVQAJS0T/5xAAKfVxCAUbM/dXx/w9OdS0y/LhUdlNKzxH\n",
       "5pHotfZ6r/UhQwZVDI3tBxunxjo3P6Q8RgC7wE6jiGQZRH1KpEctN5r7VMlDtrsyATFZlI42wO8r\n",
       "sw8C4PqxX3lN69WJ6OEPERY+2+7wYfxciI0VGhPLf2JTQxJHrb6VxB8AAAB7QZpdSeEKUmUwIIf/\n",
       "/qpVAAlCyGAGIjTXC0p+y4w8wTPisdEWBJF9hv6ycZotpLA1oekzR9zsJJTHmnP1Sw5mH93E4PSi\n",
       "2ysnFbauzRC5Qoaz8P/uK/aNBiATMU3d2JAYfcpBrq0/PkOUdRl/7DAAcmrJ56/NX7lp5X1hAAAA\n",
       "dkGaYEnhDomUwIIf/qpVAAkPyHHrHbPYUZ385AB/MzDlJb/6bfl8BTxoUMGqX/+BeePKY4Kohoad\n",
       "8t+gRqXUtJYacQMi3RU1qrEaBg2SSHGcwixqZ6MH1IvIfV9BVdZagox2MAj9IzcEUydUFS4DeG2B\n",
       "ea8EwYAAAACcQZ6eRRE8N/8AVCIqiIuvzgKOOfWrd7QGJqdfVpVmb9LwlACB6Tls65OM4zixEaER\n",
       "qzcmwO1PdpvyFo64z8glSd7zbTEIxsvFQwelZMi9jvjQC2VDyvQHIQme4xHO97KdJrqFn9WRnd95\n",
       "PnlHWXmwcOeaytvt/5HlkXXXztsIu1LgBF1Ydf5NIWUa4MC9AYnnOK3G+jKWUiZWJooeAAAAZgGe\n",
       "v2pDfwBUHoUAT27pYXBsbpmuh2gAcQsSQsrtj5eMy3+oR2N7NIp3SJSMvNTINtaQ7yj/U8NoLTyI\n",
       "LhUkMj2cU7SaaJ4n0sLiIAAAIfPAyiGsfjiQKvC6W96LeIzcGCN95gPO9QAAAFhBmqJJqEFomUwU\n",
       "8EP//qpVAAkDHc07dMDTlWAANzHKJpkgpl9dMiCg+Qti1l4Le42LL1M/83jcmWrwuM16y9HDrbZD\n",
       "MezMdnHMgviMl+/ctFYvHdKqyCwQAAAAdwGewWpDfwBUJghwQTaEAALY/z+OU31em6w7DRj8pjUY\n",
       "XOE6FZMTWuoelRmQ9WlOgdv/ez8AhGmIlwd9xo4k3kHvkydnK5tUvNJcxuretPVSVdvxm6DIhKfg\n",
       "jwefv220ty0qAgJWOa+WyCOxcfnsN16MM7gPA/3FAAABJkGaxknhClJlMCH//qmWACMLNvMTXsJW\n",
       "OTSgm4qNmbrajWWbR7jrej/VwlywAENIQNc11lZVrKWQVMRkbgt9+1aizzKxLz3qiSRCGkiCRscM\n",
       "XIb/DiOnMRW4xZpOaNhMYyWp2KcMTJn/yHBAvwmqlakpwTvtIqGP/mLVLWqnnb6wln+gND9tL5M3\n",
       "6BFbLEOElVnipF1QyjK2vLLz5C5rcoZLC9ufa1MZhRvsxlrXkTOi+AwB6sd93FUcWbSMTFax4QIA\n",
       "1YgPDXfqwSVRhhkwQt/ebcE81qvp/QUIwlpDoTYTnmLUNdSVTnionBoR5W7+74Ix7/psaSM60f/W\n",
       "tl/+kcWfxkhB7wZWspdxqGmWgete7maXKggCnBk5cNjybZlhnur7DyLCQAAAAKVBnuRFNEw7/wA6\n",
       "Yhwv19RBJKsZRy67G7AAMhVb4Zh1BnEUa28ognQpGxZJjdALoPFC/t62USre3c7N2Wo6XuP21kxq\n",
       "F/+L7xvmAE+hMJAkjHViBwoaZPGr2AXqssw2OdZasTpL7LoYY9CSufTXqSeV2zj6pRGMGJcBC8m5\n",
       "5TWCQp3bRnvBsyVMAzvkzKMCCAkXgj8ssHjWKpgiqn8orHMakMFG0EEAAABwAZ8DdEN/AFQO+iIu\n",
       "wecCj1Hcf/rtVbXDT90f+uMvcrffQGAByJ4O2dbkanlGStQCsQuOsyED+KLAueoEFh8jJJuNY/Pg\n",
       "7NKZJmtS5LHqdZmFLd3fTbsI9gd7eKJmzas3Gz6Jj5suk88vMpQQ7hqZMQAAAIIBnwVqQ38AVB6F\n",
       "XAe1NMVHpiIsTieex2H+koAHImCIsXvVKsDdYSHBfj5SCUXnc5zm1jnUdilDTKrX10grdUejF5wk\n",
       "kIehu4MhS/hvkxZQHSb2P2xA8UE211MeNqzUYLGg2aQV62BwUqAqULrc3Sxbwcj7I3itr68VxhxJ\n",
       "7kF4XJ0XAAAA7EGbB0moQWiZTAh///6plgASH2bUCq6n0hDEWJk2+TsXoOyVObec1arHLRHrEugV\n",
       "ZDBTDMnJwzVFpY8eAcO3XFyPZQLtlVz7IczDUi5xD9ISGbLXwKqt7ohJfJTx1iS0inJG5JNvtteI\n",
       "nDP/CUj55oLg7HJct7jpbVW2byTVXgByb2u7T4EvfAgqgHE3N1Qp8ugNlSQW1k5JT0I88RWFJ/P8\n",
       "xBLxTeCqXNM4QUx04wgvXJaCHeS6OWCv2OfaC053/9rKLbzI35Q3mbofjrsMH2Z7bt6VQUkzcZJx\n",
       "HxJOnQ7QtO97i46Xk7MARL2BAAAAz0GbKEnhClJlMCCH//6qVQAEpd6uQAfb1k9gam/7w+taeDIJ\n",
       "BJ404rKQfjTfVTT+xN1U/a0IQ4L8va7wALlnBA57wwEYGl8V6eeRc1JeIFAIYm7CnsjJP+0aPYY7\n",
       "+Jb4gpls4xvxzTjQ8/X1T0WXXW36/tXmJDIYqO7xS7y4u2meIuLVYyE1QnfBBom9AU+uYs13pxY0\n",
       "1GhrWi3OiEl/5b6NVo2DnZExwTAturOH7fDG64fTv2vyHSjfYZwN5r4EpUbZcdp7fXFPZ1pq4eK/\n",
       "5gAAAF1Bm0lJ4Q6JlMCCH/6qVQAEoThekOac7evzBxMI+Jkls/ShjpaoTkkRNUlXsdMkWbHEXsDA\n",
       "w39i6FMhm0SrPq34S7H9MUkS3CFLDVUtvxMtN4CYbgv9VG17ivnTyugAAABRQZtsSeEPJlMCCH/+\n",
       "qlUABKGO5pqz91MqYksj4+TeA8ALVujJI1BKgnKrM3BBpMAU7Sno/NnqZVvHcffGryVJL/vl5m2X\n",
       "NMONjAl2QiakCWi/AAAAqUGfikURPDf/AA0u7puz5ZcGeEugAt8KJUyJ+/+SEKO8KukBPsIVfuh1\n",
       "am92NpRZLZ/FvDmRBdBWjIrwSXoa3CBdrWQWPT47ycntOW51QANKfB+Hf4EU1zIcpWgFo2TE9bjF\n",
       "vt5PqRyL6d845hlX4vKIICpdDz7akVCfCZ26Vye6TDK2O0lGxraMrwem7hiVlF6ruEuHXncfQeQ7\n",
       "XJ3Ke3JydQt0pHjB2nAAAABTAZ+rakN/AAzhz2ErJPNQ2ZjkcIfqsz2DBoALlSruzJzZ+TDK8adI\n",
       "H+SIxG/mCfwtDqfgPlJ97kwWYXbcWEau8TX8rniADLKFOfZ3Jr10YZrpe8AAAACiQZuwSahBaJlM\n",
       "CG///qeEACOn+NhoAHEEWfWPwKy1vI6XDXNVTlfrtb8H4cUHkwcWXbzrdu7Zy/1ffnFEqsvhp7Oh\n",
       "6qy68sQLZ8wfcAdeXfqhNi8mRyfaiAopHIRtnK+EWAq/yczP2MAHrVb311JVN3ioyDoikmdjhTu1\n",
       "utxrCVMM6v/ySD1soxTG2uyB+HJWFSRQf/jtTaMQVftf/Sqim0+ZAAAAb0GfzkURLDv/ADnKQJyE\n",
       "JY4+Um1WKoT9a4Juf3+j3Q4OWG4kjiRctdhquHQZFX3RIAhCDvM9eHD00sWtx0jKayBlANiBivlK\n",
       "8rInWh2J4ehURw1bpD/gOhULDGFirQhi6fEFbnM07bCuqVIjRmKe2wAAAEcBn+10Q38AVA75mxka\n",
       "sud18g8uab3vNvoDAA5EwRPOjVbjZRkrUArhicUmcLBajFC7rjytHZq/a7wRASDTdBf8oTA8tw+A\n",
       "PQAAAFEBn+9qQ38AVB6FAEE87Po+hsDJcK+o/j2Wl1twU/vUgAcQLlCbw32yHYBxUrWDNlP2AzK1\n",
       "bybO2K5CF6P4Ng3m/3bV0V5/SRhh4jGUQWYiAf4AAAUybW9vdgAAAGxtdmhkAAAAAAAAAAAAAAAA\n",
       "AAAD6AAAEyQAAQAAAQAAAAAAAAAAAAAAAAEAAAAAAAAAAAAAAAAAAAABAAAAAAAAAAAAAAAAAABA\n",
       "AAAAAAAAAAAAAAAAAAAAAAAAAAAAAAAAAAAAAAAAAgAABFx0cmFrAAAAXHRraGQAAAADAAAAAAAA\n",
       "AAAAAAABAAAAAAAAEyQAAAAAAAAAAAAAAAAAAAAAAAEAAAAAAAAAAAAAAAAAAAABAAAAAAAAAAAA\n",
       "AAAAAABAAAAAAbAAAAEgAAAAAAAkZWR0cwAAABxlbHN0AAAAAAAAAAEAABMkAAAIAAABAAAAAAPU\n",
       "bWRpYQAAACBtZGhkAAAAAAAAAAAAAAAAAAAoAAAAxABVxAAAAAAALWhkbHIAAAAAAAAAAHZpZGUA\n",
       "AAAAAAAAAAAAAABWaWRlb0hhbmRsZXIAAAADf21pbmYAAAAUdm1oZAAAAAEAAAAAAAAAAAAAACRk\n",
       "aW5mAAAAHGRyZWYAAAAAAAAAAQAAAAx1cmwgAAAAAQAAAz9zdGJsAAAAs3N0c2QAAAAAAAAAAQAA\n",
       "AKNhdmMxAAAAAAAAAAEAAAAAAAAAAAAAAAAAAAAAAbABIABIAAAASAAAAAAAAAABAAAAAAAAAAAA\n",
       "AAAAAAAAAAAAAAAAAAAAAAAAAAAAAAAAGP//AAAAMWF2Y0MBZAAV/+EAGGdkABWs2UGwloQAAAMA\n",
       "BAAAAwBQPFi2WAEABmjr48siwAAAABx1dWlka2hA8l8kT8W6OaUbzwMj8wAAAAAAAAAYc3R0cwAA\n",
       "AAAAAAABAAAAMQAABAAAAAAUc3RzcwAAAAAAAAABAAAAAQAAAVBjdHRzAAAAAAAAACgAAAABAAAI\n",
       "AAAAAAEAABAAAAAAAgAABAAAAAABAAAQAAAAAAIAAAQAAAAAAQAAFAAAAAABAAAIAAAAAAEAAAAA\n",
       "AAAAAQAABAAAAAACAAAIAAAAAAEAABAAAAAAAgAABAAAAAABAAAUAAAAAAEAAAgAAAAAAQAAAAAA\n",
       "AAABAAAEAAAAAAEAABQAAAAAAQAACAAAAAABAAAAAAAAAAEAAAQAAAAAAQAAFAAAAAABAAAIAAAA\n",
       "AAEAAAAAAAAAAQAABAAAAAACAAAIAAAAAAEAABAAAAAAAgAABAAAAAABAAAMAAAAAAEAAAQAAAAA\n",
       "AQAAFAAAAAABAAAIAAAAAAEAAAAAAAAAAQAABAAAAAADAAAIAAAAAAEAABAAAAAAAgAABAAAAAAB\n",
       "AAAUAAAAAAEAAAgAAAAAAQAAAAAAAAABAAAEAAAAABxzdHNjAAAAAAAAAAEAAAABAAAAMQAAAAEA\n",
       "AADYc3RzegAAAAAAAAAAAAAAMQAADpgAAAIDAAAApQAAALEAAADFAAAAkAAAAMEAAAC7AAAAxwAA\n",
       "AJwAAACHAAAAxgAAAJUAAACXAAAAlAAAAJ4AAADvAAAAeAAAAJkAAACWAAABiwAAAH0AAACXAAAA\n",
       "jwAAAKwAAABaAAAAegAAAJ4AAACVAAAAfwAAAHoAAACgAAAAagAAAFwAAAB7AAABKgAAAKkAAAB0\n",
       "AAAAhgAAAPAAAADTAAAAYQAAAFUAAACtAAAAVwAAAKYAAABzAAAASwAAAFUAAAAUc3RjbwAAAAAA\n",
       "AAABAAAALAAAAGJ1ZHRhAAAAWm1ldGEAAAAAAAAAIWhkbHIAAAAAAAAAAG1kaXJhcHBsAAAAAAAA\n",
       "AAAAAAAALWlsc3QAAAAlqXRvbwAAAB1kYXRhAAAAAQAAAABMYXZmNTcuODMuMTAw\n",
       "\">\n",
       "  Your browser does not support the video tag.\n",
       "</video>"
      ],
      "text/plain": [
       "<IPython.core.display.HTML object>"
      ]
     },
     "execution_count": 8,
     "metadata": {},
     "output_type": "execute_result"
    },
    {
     "data": {
      "image/png": "[encoded data removed]",
      "text/plain": [
       "<matplotlib.figure.Figure at 0x7fefc53f2a58>"
      ]
     },
     "metadata": {},
     "output_type": "display_data"
    }
   ],
   "source": [
    "def barlist(n): \n",
    "    return visualization_steps[n][2]\n",
    "\n",
    "fig=plt.figure()\n",
    "\n",
    "N=iterations #Number of frames\n",
    "x=visualization_steps[0][0]+1\n",
    "\n",
    "plt.bar(x,visualization_steps[0][1], color = 'black')\n",
    "barcollection = plt.bar(x,barlist(0), color = 'blue')\n",
    "\n",
    "def animate(i):\n",
    "    y=barlist(i+1)\n",
    "    for i, b in enumerate(barcollection):\n",
    "        b.set_height(y[i])\n",
    "\n",
    "anim=animation.FuncAnimation(fig,animate,repeat=False,blit=False,frames=N-1,\n",
    "                             interval=100)\n",
    "HTML(anim.to_html5_video())\n",
    "#anim.save('mymovie.mp4',writer=animation.FFMpegWriter(fps=10))\n",
    "#plt.show()"
   ]
  },
  {
   "cell_type": "code",
   "execution_count": 9,
   "metadata": {},
   "outputs": [],
   "source": [
    "#toy_system.visualize_step(visualization_steps[2]);"
   ]
  },
  {
   "cell_type": "code",
   "execution_count": 10,
   "metadata": {},
   "outputs": [
    {
     "data": {
      "text/plain": [
       "[<matplotlib.lines.Line2D at 0x7fefc4e72ef0>]"
      ]
     },
     "execution_count": 10,
     "metadata": {},
     "output_type": "execute_result"
    },
    {
     "data": {
      "image/png": "[encoded data removed]",
      "text/plain": [
       "<matplotlib.figure.Figure at 0x7fefcd26fbe0>"
      ]
     },
     "metadata": {},
     "output_type": "display_data"
    }
   ],
   "source": [
    "%matplotlib inline\n",
    "plt.plot(range(iterations),rewards_list)"
   ]
  },
  {
   "cell_type": "code",
   "execution_count": 11,
   "metadata": {},
   "outputs": [
    {
     "data": {
      "text/plain": [
       "3600000"
      ]
     },
     "execution_count": 11,
     "metadata": {},
     "output_type": "execute_result"
    }
   ],
   "source": [
    "toy_system.n_states()"
   ]
  },
  {
   "cell_type": "code",
   "execution_count": 12,
   "metadata": {},
   "outputs": [
    {
     "data": {
      "text/plain": [
       "3600000"
      ]
     },
     "execution_count": 12,
     "metadata": {},
     "output_type": "execute_result"
    }
   ],
   "source": [
    "n_s = ((n+1)**k)\n",
    "a = np.prod(n_discrete_load_levels)\n",
    "b = np.prod(n_discrete_load_levels_trucks)\n",
    "n_s = n_s *a *b\n",
    "n_s"
   ]
  },
  {
   "cell_type": "code",
   "execution_count": null,
   "metadata": {},
   "outputs": [],
   "source": []
  },
  {
   "cell_type": "code",
   "execution_count": null,
   "metadata": {},
   "outputs": [],
   "source": []
  },
  {
   "cell_type": "code",
   "execution_count": null,
   "metadata": {},
   "outputs": [],
   "source": []
  },
  {
   "cell_type": "code",
   "execution_count": null,
   "metadata": {},
   "outputs": [],
   "source": [
    "\n"
   ]
  },
  {
   "cell_type": "code",
   "execution_count": null,
   "metadata": {},
   "outputs": [],
   "source": []
  },
  {
   "cell_type": "code",
   "execution_count": null,
   "metadata": {},
   "outputs": [],
   "source": []
  },
  {
   "cell_type": "code",
   "execution_count": null,
   "metadata": {},
   "outputs": [],
   "source": []
  },
  {
   "cell_type": "markdown",
   "metadata": {},
   "source": [
    "# Small system to apply Q-learning algorithm\n"
   ]
  },
  {
   "cell_type": "code",
   "execution_count": 20,
   "metadata": {},
   "outputs": [
    {
     "data": {
      "text/plain": [
       "46080"
      ]
     },
     "execution_count": 20,
     "metadata": {},
     "output_type": "execute_result"
    }
   ],
   "source": [
    "# Tanks' information\n",
    "n = 5 \n",
    "tank_ids = list(range(1,n+1))\n",
    "tank_max_loads =  np.array([100., 100., 200., 300., 400.])\n",
    "tank_current_loads =  np.array([50., 60., 120., 150., 300.])\n",
    "tank_consumption_rates =  np.array([10.] * n)\n",
    "\n",
    "n_discrete_load_levels = np.array([2,2,2,2,2])\n",
    "\n",
    "# Trucks' information\n",
    "k = 2\n",
    "truck_ids = list(range(k))\n",
    "truck_max_loads = np.array([20., 50.])\n",
    "truck_current_loads = truck_max_loads.copy()\n",
    "truck_current_positions =  np.array([0] * k)\n",
    "#truck_fractions_deliverable =  np.array([1.] * k) # we for now we only allow to deliver all the content of the truck\n",
    "truck_fractions_deliverable =  np.array([ np.array([0.5, 1.]), \n",
    "                                          np.array([0.5, 1.])\n",
    "                                        ]) # we for now we only allow to deliver all the content of the truck\n",
    "n_discrete_load_levels_trucks = np.array([2,2])\n",
    "\n",
    "# System's information\n",
    "def simple_graph(n: int):    \n",
    "    A = np.zeros((n,n))\n",
    "    A[0,0:n] = 1\n",
    "    A = A.astype(int)\n",
    "    return(A)\n",
    "\n",
    "graph = simple_graph(n+1)\n",
    "tanks = [tank.Tank( tank_id, current_load, max_load, consumption_rate, n_lvls) \n",
    "         for  tank_id, current_load, max_load, consumption_rate, n_lvls in \n",
    "         zip( tank_ids, tank_current_loads, tank_max_loads, tank_consumption_rates, n_discrete_load_levels)]\n",
    "trucks = [truck.Truck( truck_id, current_load, max_load, current_position, load_fractions_deliverable, n_lvls) \n",
    "         for  truck_id, current_load, max_load, current_position, load_fractions_deliverable, n_lvls in \n",
    "         zip(truck_ids, truck_current_loads, truck_max_loads, truck_current_positions, \n",
    "             truck_fractions_deliverable, n_discrete_load_levels_trucks)]\n",
    "\n",
    "def simple_weights(n: int, w: float):    \n",
    "    W = np.full((n,n), np.inf)\n",
    "    W[0,:] = w\n",
    "    return(W)\n",
    "w =  np.array([0, 20., 10., 30., 50.5, 45.])\n",
    "\n",
    "weights_matrix = simple_weights(n+1, w)\n",
    "\n",
    "toy_system = model.System(tanks = tanks, trucks = trucks, adjacency_matrix = graph, weights_matrix = weights_matrix)\n",
    "\n",
    "a_s_dim = toy_system.states_dim * toy_system.actions_dim\n",
    "a_s_dim"
   ]
  },
  {
   "cell_type": "code",
   "execution_count": null,
   "metadata": {
    "collapsed": true
   },
   "outputs": [],
   "source": []
  }
 ],
 "metadata": {
  "kernelspec": {
   "display_name": "Python 3",
   "language": "python",
   "name": "python3"
  },
  "language_info": {
   "codemirror_mode": {
    "name": "ipython",
    "version": 3
   },
   "file_extension": ".py",
   "mimetype": "text/x-python",
   "name": "python",
   "nbconvert_exporter": "python",
   "pygments_lexer": "ipython3",
   "version": "3.6.3"
  },
  "toc": {
   "nav_menu": {},
   "number_sections": true,
   "sideBar": true,
   "skip_h1_title": false,
   "title_cell": "Table of Contents",
   "title_sidebar": "Contents",
   "toc_cell": false,
   "toc_position": {},
   "toc_section_display": true,
   "toc_window_display": false
  }
 },
 "nbformat": 4,
 "nbformat_minor": 2
}
