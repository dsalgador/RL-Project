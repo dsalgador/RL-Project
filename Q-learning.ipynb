{
 "cells": [
  {
   "cell_type": "code",
   "execution_count": 1,
   "metadata": {
    "collapsed": true
   },
   "outputs": [],
   "source": [
    "import model\n",
    "import numpy as np\n",
    "import random\n",
    "from utils import simple_graph\n",
    "import tank\n",
    "import truck\n",
    "\n",
    "\n",
    "import matplotlib.pyplot as plt\n",
    "from matplotlib import animation, rc\n",
    "from IPython.display import HTML"
   ]
  },
  {
   "cell_type": "code",
   "execution_count": 2,
   "metadata": {},
   "outputs": [],
   "source": [
    "# Tanks' information\n",
    "n = 5 \n",
    "tank_ids = list(range(1,n+1))\n",
    "tank_max_loads =  np.array([100., 100., 200., 300., 400.])\n",
    "tank_current_loads =  np.array([50., 60., 120., 150., 300.])\n",
    "tank_consumption_rates =  np.array([10.] * n)\n",
    "\n",
    "n_discrete_load_levels = np.array([5,5,10,10,10])\n",
    "\n",
    "# Trucks' information\n",
    "k = 2\n",
    "truck_ids = list(range(k))\n",
    "truck_max_loads = np.array([20., 50.])\n",
    "truck_current_loads = truck_max_loads.copy()\n",
    "truck_current_positions =  np.array([0] * k)\n",
    "#truck_fractions_deliverable =  np.array([1.] * k) # we for now we only allow to deliver all the content of the truck\n",
    "truck_fractions_deliverable =  np.array([ np.array([0.5, 1.]), \n",
    "                                          np.array([0.5, 1.])\n",
    "                                        ]) # we for now we only allow to deliver all the content of the truck\n",
    "n_discrete_load_levels_trucks = np.array([2,2])\n",
    "\n",
    "# System's information\n",
    "def simple_graph(n: int):    \n",
    "    A = np.zeros((n,n))\n",
    "    A[0,0:n] = 1\n",
    "    A = A.astype(int)\n",
    "    return(A)\n",
    "\n",
    "graph = simple_graph(n+1)\n",
    "tanks = [tank.Tank( tank_id, current_load, max_load, consumption_rate, n_lvls) \n",
    "         for  tank_id, current_load, max_load, consumption_rate, n_lvls in \n",
    "         zip( tank_ids, tank_current_loads, tank_max_loads, tank_consumption_rates, n_discrete_load_levels)]\n",
    "trucks = [truck.Truck( truck_id, current_load, max_load, current_position, load_fractions_deliverable, n_lvls) \n",
    "         for  truck_id, current_load, max_load, current_position, load_fractions_deliverable, n_lvls in \n",
    "         zip(truck_ids, truck_current_loads, truck_max_loads, truck_current_positions, \n",
    "             truck_fractions_deliverable, n_discrete_load_levels_trucks)]\n",
    "\n",
    "def simple_weights(n: int, w: float):    \n",
    "    W = np.full((n,n), np.inf)\n",
    "    W[0,:] = w\n",
    "    return(W)\n",
    "w =  np.array([0, 20., 10., 30., 50.5, 45.])\n",
    "\n",
    "weights_matrix = simple_weights(n+1, w)\n",
    "\n",
    "\n"
   ]
  },
  {
   "cell_type": "code",
   "execution_count": 3,
   "metadata": {},
   "outputs": [],
   "source": [
    "toy_system = model.System(tanks = tanks, trucks = trucks, adjacency_matrix = graph, weights_matrix = weights_matrix)"
   ]
  },
  {
   "cell_type": "code",
   "execution_count": 4,
   "metadata": {},
   "outputs": [
    {
     "name": "stdout",
     "output_type": "stream",
     "text": [
      "self.trucks [<truck.Truck object at 0x7fd4b320dc88>, <truck.Truck object at 0x7fd4b320dcc0>]\n",
      "Final rewards:  -85.0\n",
      "self.trucks [<truck.Truck object at 0x7fd4b320dc88>, <truck.Truck object at 0x7fd4b320dcc0>]\n",
      "Final rewards:  -85.0\n",
      "self.trucks [<truck.Truck object at 0x7fd4b320dc88>, <truck.Truck object at 0x7fd4b320dcc0>]\n",
      "Final rewards:  -125.5\n",
      "self.trucks [<truck.Truck object at 0x7fd4b320dc88>, <truck.Truck object at 0x7fd4b320dcc0>]\n",
      "Final rewards:  -95.0\n",
      "self.trucks [<truck.Truck object at 0x7fd4b320dc88>, <truck.Truck object at 0x7fd4b320dcc0>]\n",
      "Final rewards:  -110.5\n",
      "self.trucks [<truck.Truck object at 0x7fd4b320dc88>, <truck.Truck object at 0x7fd4b320dcc0>]\n",
      "Final rewards:  -105.0\n",
      "self.trucks [<truck.Truck object at 0x7fd4b320dc88>, <truck.Truck object at 0x7fd4b320dcc0>]\n",
      "Final rewards:  -inf\n",
      "self.trucks [<truck.Truck object at 0x7fd4b320dc88>, <truck.Truck object at 0x7fd4b320dcc0>]\n",
      "Final rewards:  -inf\n",
      "self.trucks [<truck.Truck object at 0x7fd4b320dc88>, <truck.Truck object at 0x7fd4b320dcc0>]\n",
      "Final rewards:  -110.0\n",
      "self.trucks [<truck.Truck object at 0x7fd4b320dc88>, <truck.Truck object at 0x7fd4b320dcc0>]\n",
      "Final rewards:  -95.5\n",
      "self.trucks [<truck.Truck object at 0x7fd4b320dc88>, <truck.Truck object at 0x7fd4b320dcc0>]\n",
      "Final rewards:  -75.0\n",
      "self.trucks [<truck.Truck object at 0x7fd4b320dc88>, <truck.Truck object at 0x7fd4b320dcc0>]\n",
      "Final rewards:  -75.0\n",
      "self.trucks [<truck.Truck object at 0x7fd4b320dc88>, <truck.Truck object at 0x7fd4b320dcc0>]\n",
      "Final rewards:  -inf\n",
      "self.trucks [<truck.Truck object at 0x7fd4b320dc88>, <truck.Truck object at 0x7fd4b320dcc0>]\n",
      "Final rewards:  -90.0\n",
      "self.trucks [<truck.Truck object at 0x7fd4b320dc88>, <truck.Truck object at 0x7fd4b320dcc0>]\n",
      "Final rewards:  -90.0\n",
      "self.trucks [<truck.Truck object at 0x7fd4b320dc88>, <truck.Truck object at 0x7fd4b320dcc0>]\n",
      "Final rewards:  -inf\n",
      "self.trucks [<truck.Truck object at 0x7fd4b320dc88>, <truck.Truck object at 0x7fd4b320dcc0>]\n",
      "Final rewards:  -70.0\n",
      "self.trucks [<truck.Truck object at 0x7fd4b320dc88>, <truck.Truck object at 0x7fd4b320dcc0>]\n",
      "Final rewards:  -105.5\n",
      "self.trucks [<truck.Truck object at 0x7fd4b320dc88>, <truck.Truck object at 0x7fd4b320dcc0>]\n",
      "Final rewards:  -65.0\n",
      "self.trucks [<truck.Truck object at 0x7fd4b320dc88>, <truck.Truck object at 0x7fd4b320dcc0>]\n",
      "Final rewards:  -95.0\n",
      "self.trucks [<truck.Truck object at 0x7fd4b320dc88>, <truck.Truck object at 0x7fd4b320dcc0>]\n",
      "Final rewards:  -115.5\n",
      "self.trucks [<truck.Truck object at 0x7fd4b320dc88>, <truck.Truck object at 0x7fd4b320dcc0>]\n",
      "Final rewards:  -130.5\n",
      "self.trucks [<truck.Truck object at 0x7fd4b320dc88>, <truck.Truck object at 0x7fd4b320dcc0>]\n",
      "Final rewards:  -85.0\n",
      "self.trucks [<truck.Truck object at 0x7fd4b320dc88>, <truck.Truck object at 0x7fd4b320dcc0>]\n",
      "Final rewards:  -95.5\n",
      "self.trucks [<truck.Truck object at 0x7fd4b320dc88>, <truck.Truck object at 0x7fd4b320dcc0>]\n",
      "Final rewards:  -85.0\n",
      "self.trucks [<truck.Truck object at 0x7fd4b320dc88>, <truck.Truck object at 0x7fd4b320dcc0>]\n",
      "Final rewards:  -inf\n",
      "self.trucks [<truck.Truck object at 0x7fd4b320dc88>, <truck.Truck object at 0x7fd4b320dcc0>]\n",
      "Final rewards:  -inf\n",
      "self.trucks [<truck.Truck object at 0x7fd4b320dc88>, <truck.Truck object at 0x7fd4b320dcc0>]\n",
      "Final rewards:  -90.0\n",
      "self.trucks [<truck.Truck object at 0x7fd4b320dc88>, <truck.Truck object at 0x7fd4b320dcc0>]\n",
      "Final rewards:  -80.0\n",
      "self.trucks [<truck.Truck object at 0x7fd4b320dc88>, <truck.Truck object at 0x7fd4b320dcc0>]\n",
      "Final rewards:  -inf\n",
      "self.trucks [<truck.Truck object at 0x7fd4b320dc88>, <truck.Truck object at 0x7fd4b320dcc0>]\n",
      "Final rewards:  -inf\n",
      "self.trucks [<truck.Truck object at 0x7fd4b320dc88>, <truck.Truck object at 0x7fd4b320dcc0>]\n",
      "Final rewards:  -inf\n",
      "self.trucks [<truck.Truck object at 0x7fd4b320dc88>, <truck.Truck object at 0x7fd4b320dcc0>]\n",
      "Final rewards:  -inf\n",
      "self.trucks [<truck.Truck object at 0x7fd4b320dc88>, <truck.Truck object at 0x7fd4b320dcc0>]\n",
      "Final rewards:  -inf\n",
      "self.trucks [<truck.Truck object at 0x7fd4b320dc88>, <truck.Truck object at 0x7fd4b320dcc0>]\n",
      "Final rewards:  -inf\n",
      "self.trucks [<truck.Truck object at 0x7fd4b320dc88>, <truck.Truck object at 0x7fd4b320dcc0>]\n",
      "Final rewards:  -inf\n",
      "self.trucks [<truck.Truck object at 0x7fd4b320dc88>, <truck.Truck object at 0x7fd4b320dcc0>]\n",
      "Final rewards:  -inf\n",
      "self.trucks [<truck.Truck object at 0x7fd4b320dc88>, <truck.Truck object at 0x7fd4b320dcc0>]\n",
      "Final rewards:  -inf\n",
      "self.trucks [<truck.Truck object at 0x7fd4b320dc88>, <truck.Truck object at 0x7fd4b320dcc0>]\n",
      "Final rewards:  -inf\n",
      "self.trucks [<truck.Truck object at 0x7fd4b320dc88>, <truck.Truck object at 0x7fd4b320dcc0>]\n",
      "Final rewards:  -inf\n",
      "self.trucks [<truck.Truck object at 0x7fd4b320dc88>, <truck.Truck object at 0x7fd4b320dcc0>]\n",
      "Final rewards:  -inf\n",
      "self.trucks [<truck.Truck object at 0x7fd4b320dc88>, <truck.Truck object at 0x7fd4b320dcc0>]\n",
      "Final rewards:  -inf\n",
      "self.trucks [<truck.Truck object at 0x7fd4b320dc88>, <truck.Truck object at 0x7fd4b320dcc0>]\n",
      "Final rewards:  -60.0\n",
      "self.trucks [<truck.Truck object at 0x7fd4b320dc88>, <truck.Truck object at 0x7fd4b320dcc0>]\n",
      "Final rewards:  -110.0\n",
      "self.trucks [<truck.Truck object at 0x7fd4b320dc88>, <truck.Truck object at 0x7fd4b320dcc0>]\n",
      "Final rewards:  -inf\n",
      "self.trucks [<truck.Truck object at 0x7fd4b320dc88>, <truck.Truck object at 0x7fd4b320dcc0>]\n",
      "Final rewards:  -inf\n",
      "self.trucks [<truck.Truck object at 0x7fd4b320dc88>, <truck.Truck object at 0x7fd4b320dcc0>]\n",
      "Final rewards:  -inf\n",
      "self.trucks [<truck.Truck object at 0x7fd4b320dc88>, <truck.Truck object at 0x7fd4b320dcc0>]\n",
      "Final rewards:  -inf\n",
      "self.trucks [<truck.Truck object at 0x7fd4b320dc88>, <truck.Truck object at 0x7fd4b320dcc0>]\n",
      "Final rewards:  -inf\n",
      "self.trucks [<truck.Truck object at 0x7fd4b320dc88>, <truck.Truck object at 0x7fd4b320dcc0>]\n",
      "Final rewards:  -inf\n"
     ]
    },
    {
     "data": {
      "image/png": "[encoded data removed]",
      "text/plain": [
       "<matplotlib.figure.Figure at 0x7fd4b35e0d68>"
      ]
     },
     "metadata": {},
     "output_type": "display_data"
    }
   ],
   "source": [
    "# Simulation\n",
    "%matplotlib inline\n",
    "\n",
    "seed = None \n",
    "\n",
    "iterations = 50\n",
    "visualization_steps = []\n",
    "rewards_list = []\n",
    "\n",
    "for it in range(iterations):\n",
    "    rewards = toy_system.random_action(seed);\n",
    "    rewards_list.append(rewards)\n",
    "    #print(toy_system.state())\n",
    "    print(\"Final rewards: \", rewards);\n",
    "    toy_system.reset_trucks_positions();\n",
    "    visualization_steps.append(toy_system.visualize());"
   ]
  },
  {
   "cell_type": "code",
   "execution_count": 5,
   "metadata": {},
   "outputs": [
    {
     "data": {
      "text/plain": [
       "[40.0, 50.0, 130.0, 165.0, 290.0]"
      ]
     },
     "execution_count": 5,
     "metadata": {},
     "output_type": "execute_result"
    }
   ],
   "source": [
    "visualization_steps[0][2]"
   ]
  },
  {
   "cell_type": "code",
   "execution_count": 6,
   "metadata": {},
   "outputs": [
    {
     "data": {
      "text/plain": [
       "array([1, 2, 3, 4, 5])"
      ]
     },
     "execution_count": 6,
     "metadata": {},
     "output_type": "execute_result"
    }
   ],
   "source": [
    "visualization_steps[0][0]+1"
   ]
  },
  {
   "cell_type": "code",
   "execution_count": 7,
   "metadata": {},
   "outputs": [],
   "source": [
    "visualization_steps;"
   ]
  },
  {
   "cell_type": "code",
   "execution_count": null,
   "metadata": {},
   "outputs": [],
   "source": []
  },
  {
   "cell_type": "code",
   "execution_count": 8,
   "metadata": {},
   "outputs": [
    {
     "data": {
      "text/html": [
       "<video width=\"432\" height=\"288\" controls autoplay>\n",
       "  <source type=\"video/mp4\" src=\"data:video/mp4;base64,AAAAHGZ0eXBNNFYgAAACAGlzb21pc28yYXZjMQAAAAhmcmVlAAAsfm1kYXQAAAKuBgX//6rcRem9\n",
       "5tlIt5Ys2CDZI+7veDI2NCAtIGNvcmUgMTUyIHIyODU0IGU5YTU5MDMgLSBILjI2NC9NUEVHLTQg\n",
       "QVZDIGNvZGVjIC0gQ29weWxlZnQgMjAwMy0yMDE3IC0gaHR0cDovL3d3dy52aWRlb2xhbi5vcmcv\n",
       "eDI2NC5odG1sIC0gb3B0aW9uczogY2FiYWM9MSByZWY9MyBkZWJsb2NrPTE6MDowIGFuYWx5c2U9\n",
       "MHgzOjB4MTEzIG1lPWhleCBzdWJtZT03IHBzeT0xIHBzeV9yZD0xLjAwOjAuMDAgbWl4ZWRfcmVm\n",
       "PTEgbWVfcmFuZ2U9MTYgY2hyb21hX21lPTEgdHJlbGxpcz0xIDh4OGRjdD0xIGNxbT0wIGRlYWR6\n",
       "b25lPTIxLDExIGZhc3RfcHNraXA9MSBjaHJvbWFfcXBfb2Zmc2V0PS0yIHRocmVhZHM9OSBsb29r\n",
       "YWhlYWRfdGhyZWFkcz0xIHNsaWNlZF90aHJlYWRzPTAgbnI9MCBkZWNpbWF0ZT0xIGludGVybGFj\n",
       "ZWQ9MCBibHVyYXlfY29tcGF0PTAgY29uc3RyYWluZWRfaW50cmE9MCBiZnJhbWVzPTMgYl9weXJh\n",
       "bWlkPTIgYl9hZGFwdD0xIGJfYmlhcz0wIGRpcmVjdD0xIHdlaWdodGI9MSBvcGVuX2dvcD0wIHdl\n",
       "aWdodHA9MiBrZXlpbnQ9MjUwIGtleWludF9taW49MTAgc2NlbmVjdXQ9NDAgaW50cmFfcmVmcmVz\n",
       "aD0wIHJjX2xvb2thaGVhZD00MCByYz1jcmYgbWJ0cmVlPTEgY3JmPTIzLjAgcWNvbXA9MC42MCBx\n",
       "cG1pbj0wIHFwbWF4PTY5IHFwc3RlcD00IGlwX3JhdGlvPTEuNDAgYXE9MToxLjAwAIAAAAvNZYiE\n",
       "ABH//veIHzLLafk613IR560urR9Q7kZxXqS9/iAAAAMAFpyZQ/thx05aw0AARbX/wWH/EBLod4Q+\n",
       "dEX5hVkiZFWhw4guhBIDt9yUTxsLJ774e8gT8VEGjMGlSAA508C9IAwN3ed798oncPAo5aVLV65U\n",
       "jE6L0v6H/sDF813+6f+VTOhVkJFh47c5ahiGQDdf8rdJ4pCSggpoPIMuRaLF6I/rL93nt8BmcL+j\n",
       "aUnNkaSud46QdR1DvV0mXkwbBvzReBw/X/r6Vx+KrRcWLheW+lzQyq25uZY9BxAPrSMa6tkT6Kyb\n",
       "WoLCeMVuy3PMncRQyjzbKN7HkDHZEZfmD4Dk07556eYKz6mwznY6XZGUaOW/Io1Z4T/b6/aQAZqE\n",
       "8u2DA1JF1F4r0MJBBQPXjuUcdnWbQ1y3jF2s4vAVZwv0pquLVSt8VT5qeIav/nZPeFRo7cG+LnH0\n",
       "FMAowjqqjvxFRgNmRjVSK1/JYkIfFtiW2D+5rsjubByZ8IgwP5vZNxNFU7j4QqWPxjUxXdLtxPJZ\n",
       "2E1UHO+xeCfuXW4/8+mOyxC3I8ICG/H0SWa2Yi6sQ/7y6u6XuMbxf9pib5g3ddCfpLIzoEi0JXxp\n",
       "1rRAba6+AbExDLpjUpr/EdAZv+9cuS7FruvhRxEuwpITDv/84jK0WX0ZsNru8SezClJbTDssCofR\n",
       "Xw7XcniD5LN2tmyHXzLdPK27MdTHrmcojMdTv49GeHbVC9ZpuZkCuopTkcz4Ap54eY1QwAj7e1dz\n",
       "MySXxysvwyGi5JH7asNyM0ynJiSvWtYwcR9lvRd9qIXgV0f1qotBaDv5v+Fu+j1/96eVHB1YKt9d\n",
       "c9KW6EVWmD4XVBmVJACYY46vWmgmqDhaPbxe52hq4UUgNY655bI+A0NYX4GR8mHpmtTLGWtV4oZi\n",
       "tnbA76QgyFtWvTy9ACwDUb2uJK/Ts6HqYIQdLj4TqTh6s0YDWOiyoALath/uM2Hizfm0rerjDdWv\n",
       "mMTcNdnW/k+x67J0OYUGmnmRvCrUCIwBFs9rHS+fip2fnZIjgALG3fIPOBtybntEW1bbxYSQl2UL\n",
       "jBhOZGZXWLrpzGKLPGnNvzfARVyd/+u5CHFs8Wo6peIuH4Or0ypoT1sTaMRf1FFvju2lOLq/MqCq\n",
       "5j64VTxF7PcjEeIH3MpabFUlnusnJ6UDZRKuMp5vY4xfIIBfb4i7gwjjr2YPUxwSjO/CxdDRE3+I\n",
       "UxIWuoJ7wgyrQNVxYGI1XPNxw3nAj8oZ5o5FGiavQUk4Q1KZCHNb3WkfjhSm9yurUSqniaMByPzR\n",
       "u4AK0ZXcZJZ8TfHsSepWoB9pWe0zk0RH6rBsN6hxZILmA7rJ5XGpS4ildafIwAqJ3tCkuhZwhve5\n",
       "RbTfCWnEyQuzS+FqNZMbYXoM3JIRUBzJTtZeuFDBPorVHJ4tyD/tRmzkQLzBDzoUaF4dVfF6Zqut\n",
       "AAEklFO5y2sPAAAM6YiCKyY8uJmVYBaHAF/7fzH7NDeY6HmdvFeto9kP/t5Z5/TqcIPJ0ZIHXWWw\n",
       "uAJmXqIlQGpclatS6fGq8rPcI+NpLLa1rnKiYQYszirKlgKq9vaLCCZpx+n91Tbqi3ePHf6/rNKA\n",
       "WWADAXrv52aTzWBfSrh0WjQzbpieVGyf4mzniVRtZlV7ZXI8yaDJOoH0985iZ4I6oMZGtZGBpFuP\n",
       "KAfR1UeADSV2jZvTAsbKwjuOm89luAAArWenqMptJ5x+HSkN2A8UHIDX5auBZXMElOUPMUqVEUSs\n",
       "Aep+XfAbQO5ErxJuKkz1zl4JURh8+lN+o+k68TWXkf72/S3ma+deFoIRj/3UDyoanFulQdNZfGsh\n",
       "kgrgVzofxHGiqHO81GR536fOIXZhcz980aojDLVMmYT280kdsQfqH61mb+uff9dnL76pjL1LqT5r\n",
       "j1zu8RetEkX4NkkJoPRjhLVr7I8H0IWbVADdUFhp+qbNjsLlE0s56yIr/s0SeF9LuB9isYo9qwVM\n",
       "nF0qGpnb/ztpba1sXiW5/gv2n0FsyKs2rq3aKs3RxuZZB76C3hc4IBj0Sw+d8y78mwAw7l36RaPp\n",
       "cwVWt1qZWEMkRkZUG1q9Evm46dktlbjaTkbaNiaLnzdTlr5ppxDx5TdpbsrVYzZD5BbBM4tjoD4a\n",
       "0Vg4/7XV3DEitPAWPaSgoeRhV/NPw03sDBbZWuV7wtbG41yLe8wzRmHi+NsMN2b7b14Xlm0+Nj//\n",
       "vwD6fd6vKczZ8830rrg7B86b7/sfSa7PphbXN86hZlDdf/t+O6OD5dQMnCD0r+f40Zlx9WEee/KL\n",
       "LAm//UGQCJT2OLYvbvaF3192Xali5Cn7SOxhn89O3GZ+J8jICZ89Mr6Yxt5se7HlohH8Otzm72Ms\n",
       "+xU2zb34K4nnCDxXOiP7RcLG2cL4YQIj56XdWCaEaPO/rg8gXT/xnT8JvZwXP0sldoYuRRjE2X6i\n",
       "C1kYD1x3cXZkpQutSw7rBLMBRUppzmK+MePLxUUF5GKZuBe+b1aVPEqecvxy4PqSJkuJvKJcCdG2\n",
       "AvHXPFGvElh5jQDL2NYX9/e3wb0VVkCzhAzk6IDuFmpi047282TOKy49Axhdbq9OSPXOohwcXDST\n",
       "GD1Z6sS/jaXwTf6wGF2tRr1pBiMmxixJQZe22dI9PN8r6T5hTa92qe4y310JpyUkui4qgpmAkKRm\n",
       "DSxgKCXVx/hB8AqaDcuRJ12rQFIxnrLybMY97A77WEQsH7pzNKakHP1VN1qfnY1ETbdbWVT6zeaO\n",
       "GQUqkjW/dCTzzt1y5xj2tdQWB657pFlXCiadhnWXWQilPTxByXAHrfGFRdjF9rq7ujiXbm/CMweE\n",
       "WeuC1IWf0c9EugUiYPKTYD+VVIWHL0+7RkRRoBEfYF+AoXaxIcQhgpYlDffTKrXOgXCaQ9I3JtZz\n",
       "93RP3Xw1Um1fhJI1wJqlRvjLf+P7b7QIAy/WQ69B57Zl6tTk5NIT9j8y3L22KQgLRUR6OAeUN7LN\n",
       "AAa3mW4fISXvcEzK4OMjJHeybONbPH8mjQl0H8+X7D3iQ91YF/G7Aa7BFNRhiMcZJuTbz56BigOC\n",
       "PFD+vSkgMnZ8IXwq6wf1skP1uffw759N9OGR2IqfmwWGC3sF7g59dPtWWxGjAiGd6Ag10XP+2Pk2\n",
       "5YH+yo/LQpMOBUXunXZXrsimSITXvajYA2F8tfn/gybwaLMjFVBZDlfg3OukxsWqoEMxhV51tN9f\n",
       "uTvJepNS3u1z2WAfUkRiHgQAB4QF6KAXhuQjxetbsNRuwpusZNd5dunSu+DCQcyD0OPPAC29LdqT\n",
       "CZM9OWDnol/1Q1H03qxSykgzYPsWvjss+ezEIAAixIkIuZ9HWkcrBm7kuE5fStM0vZq9stJUU0OX\n",
       "9Omi7mCETXSP+ax94M1TxgiLYIVuoXTx7z8ngoU9mH+MaUztoy1/x3Xu0kzn/6cdFblkp/6v2BAS\n",
       "e11ErdUX3NTvVXmxh30VC6KRQxIG+xWnLz7ch23GhWaNUHqq7ez2pHYQStBe0+12ug+53y+BiFcl\n",
       "82bwHQJ2q2nzLpnJZLvpEi8MWq24AA9MSiTuiMy456mL60MCbw1fNJZ9Lt1GY+vKQa0AOFABrL4V\n",
       "rqCTGe5n+uEhczfwmE3pkaC9PdxmSUzgqj5p94/vcacsZ0UGKx4cZiZHiy84Qpaz0I2n/NDaJwQP\n",
       "M8+pPR2yt2lMyh7rFkhmiUXwjVf/4Q9pPlysvFr9MlBcvL56JSAreovTdMMUPKC7SL6W+A8aXaf9\n",
       "AcsGiIB8PfB6qmX06cFszo0G0KqZbO0H3y74lOx6cKE+Rf5oid+Zb9F9asc676omFGBKE+TWVo2f\n",
       "2GkaHfqWGQ/QvWlk9OR/3Ggt1JHQ5tYTds+J0nwCd3pkrzxepHGgMUhk0gw7KL9LM87zWe7xBTRW\n",
       "2fXq5rWOJ9lz9D6yJmNS+B2krUJQl01RqS+Mu4kxn39ybZU9ztuzo9uDyPmEAy1GiVbc1ooxCSMr\n",
       "q7lfh//KfDyzjh8t82oIon6iMGVd5I8q3g77Wy+B4A+BMy27VLYMrL1zlEcJQqKiqAAAAwMnAAAC\n",
       "SkGaJGxBH/61KoAShkPAA5Z89AxBesuXv9W9cmM/8vuz4OJFIFR9HXRPT/VKulHx4wlcKxHm1Tzm\n",
       "nCkAFFYd6/oLXxQBVwRBP961JcLxN25iLKYb3+WlHmtBi2E4/Is0t2U0//yW1ePU33vTyfmp8l6H\n",
       "QUiewpyoa//oPJ9AHrq9jcWf7eFhPL5yMjSJRC3IS56h/fCNCOxZLzF5o6AgiFwJtvTDNUkHH+Bo\n",
       "beiWgeij/xQCEfjz5PzfvwMw1Hq71MkCn0MAMgAidxrVki2fhIIx+dn3cXj3aWPS8a3YTuYJc0hS\n",
       "vhbKJ7/4g0oLdss+Sef4YbsBJs6JfAKEQQzptQO9woAOnwxHnqrOG5QsIHyRLW/WBI71qm10idi7\n",
       "1kXoFcptNOVVVrNaljvSJLXa22TQhnq7NMcIm/r7FdsjL34CCKxKU0M2cbm40FD4f6IPzQv3UJn/\n",
       "ykIJdSdVM/kzQtCiSo3ZzSHy2k2NlDUi/CBmY/pBkb3igC0I5Ngpc+JUPTAnHTwQQ4+Rw0RAgmbg\n",
       "BZuICaLwDiQ9cPGxTQrX/6G0jwa79WUYVUUE9mPft7Vtl7zrr7x+ETDQX0BtCAmCang8JwLtIk6M\n",
       "W9eEslUy56Q3FHB1qqdepOEeE/zjT/3myGQHusf/kyji9hGXqV5p/TTglYXTWKcdWah6KMcdxtQJ\n",
       "N/F+Lq+w8MScgZOvox7BNR6CYEbkPpY814wQZwVUi1I8+oBmrpgzauWctWUm+FxumMWgfkGsDcAP\n",
       "USwurCAcNTjAzzOLsFQm8MAAAADuQZ5CeId/AEgnXWwAhOkqFI5vs6IFrIeRTv9bWbIuj7RAQF2+\n",
       "HD+qCCS/nDPgsMbbDVwYCCKH+wJ96hdxivyu1s4l61QhOt1nzaYglzEnZ0bY8GnUE55v8fOefhay\n",
       "2nYadqgUcS9qY+KwrbVSTW2NihhWcC9CsFYEP/1oXPKMjg4PjVqQdzvnTv78FeR6v8NXig5j8Mbd\n",
       "dqP2IK4D/tWfgXvU6MSGKVNp+GAZbDEMC0i4IZ9hOZaAEvotLdZr+vhUjT3uF3Wu1R02hnqNgflA\n",
       "TCp9P1V1ELvoK2E8yB1uF0Fe/6DeBo98COZ03WtJaQAAALIBnmF0Q38AZrrTE3YsPQqybjjK0ee2\n",
       "HlpDq6NuKIAaxT0ZljSmlZguM+uxUzgmBfKHthrfihk7cvbXmHO0ywmvLxOgVjJnLMq7vuf2s98t\n",
       "YnnIYWRIBJdlernb0lSICm+BrOVpaLsw9dwCTkNPQVQnoFzEZZFizyUfaqvRQ2/BCHEV5fjc2vqr\n",
       "IELDY5RrefGfx3foEviCF7oQOYVZSoWxYDeNil6WFG9S4gbH+f+RUpjwAAAAoAGeY2pDfwBmy7k9\n",
       "aVzdBqARwSmCRejZ8y1H5Amws1IaQ36IjCB3ldz5+fxTxd05PGnT9JUFR7AOxZaeoe8ANCB9B4bA\n",
       "XAFggswf9cbiLoDfwbaqPNf3p6h1eYiIWbMtJuUjkJGSHpaOY33JGujSKPL34z3xpPjh40JUnnEM\n",
       "grHDrflaUgpU/n8kPooA/E/Xea5f0eutQIhwNiNCblScc8EAAAD+QZpoSahBaJlMCCP//rUqgBKD\n",
       "3RAAvuMDO8yZqiVF/8UpPX/e6HvjxoRBm8s0gqj/iTRm7cSw5c7x/vkiKMICQ3Znk4ahbeJNjjsQ\n",
       "rv9bIZce46zDZbsHkoBhT9w8Kp6WU+iLQ/e+2mi6w0RivENfM2aQS3YfP+wctnIxdh28qlWjwNNV\n",
       "ZAjKFOdqczNGae5R9p0TmNVXUlb9X15SWhwi59fHocu2UpfyGuCuyaN3VVOqL7VUbq/3sK2OSHB3\n",
       "HgX87bmVh2KWu2F3cWHo3DDI7AqmVnJxE4Mi8E4eQeZk7buew3hFnKg5S5IU619dqiqREI+pUtqP\n",
       "3Yf4qQonCtkAAACwQZ6GRREsO/8ASBynVvmuYLD9OGBeYpsERU1SePM3rsIDy7WRXjNvh0ylSmC9\n",
       "CO0i0rA4b/gqeY+F02/7De47bB9pYUDgAuC65PjHh/ZDr27wbi7ADZM5yhTeBlKZC+jylVm3D/bf\n",
       "cUczSLfF+IAi2dHnJDC2m1RhC+W9Ht2P3bjkuUZo2yJ3jbRXfBFU15rmHa6nHf+Xkcd6KtFQZcUw\n",
       "wfPh75PgiMT+9yVLlpFMSEEAAABgAZ6ldEN/AGa6zAO9j4p3PDt/uqU+YMasRCdQAI24+iQo1nVi\n",
       "5Ruy4Xq4yQhPWn3On6xvXtmFMTJ2X7DWfpx5O4uxHT1B1WgjfL1jmp1tyRoNeHMNMK8RgcAVBQJU\n",
       "302pAAAAaAGep2pDfwBUHocuzNLweykG2n9gT0phO5PYHG7T8s18FJZIXDBQL8rjfYclmrcsPX0b\n",
       "/xIMUPTwixeAg1uJNd5M4rl+RtKbncW+WITooVdRt2WPhM9J6Em1d+t/1l0sohpBqZ0aiHjIAAAB\n",
       "MEGarEmoQWyZTAgj//61KoACU/ZupRvcdywrrlHbAXhBmExLLnTNrDF6xrntCKdzi/Km1rAR3KkK\n",
       "SvDfoeq6if2QfTSdgENDqMHx//M4AMpxtW2OOfMlENsbHFDB/qh1n543+x8wWVpN0AHoK/CQuStq\n",
       "Ie2/K22HqIp711dpC3+edfJ/y+KnLUovGb1aU7ewt0/Mzd/N1ttdJLopsAtzGadSoDgoLA4lah82\n",
       "HRyE/rv+YZWwSNLy1GhAe3FCBQRnoEL9M5rXLE9xJV9T/0CuNAyCXMU630oR8wzCupx1QpxYqxMB\n",
       "54iYxbLajhV93WPWsdhcMTpnv1e7VGMflWyDa5S8EENvk+h3M1rq2Ezsbgee2h2SeqeCOrTFK7u0\n",
       "BP3orLz96s0WRUcHrOhAPEFQa/gAAACDQZ7KRRUsO/8AOmRqbgLUrf68wHsEDzFpcuACLYkjJBF4\n",
       "iGr0WN0joQ+OnuD3I4yoadyw7VWyzvm8l7n/Mg+s2PGKKKu7oBFZmHIeRLNqGEJy31uZD4oGslA5\n",
       "mjUCnVMWJ/K6uHy6IX8dI0kojIpPVSX0Oru1niGA/0+DVfQNhMaYu4EAAACSAZ7pdEN/AFQO/K0X\n",
       "HCnpQGfxQIU4MN3FothEoiADh8qgN7msd+bgkxI6Sc0tdF8ONtBZi+Lr/SNdMCdmEVo/jHPstuPh\n",
       "NWUZ4lNQtR/fHl/bwGeKQRvnjscFC6JRYx5wgrXApU46+QbZZsOYdq1RwcxRVENszDJJ4cqxUwxq\n",
       "QkQ2ioBFT2lBXobfk2UoX8BJuSAAAAClAZ7rakN/AFQehy7Mx7s7Vr/oMDJnIAF6sodbW6jpFrfS\n",
       "ZZIXBrT6gLlVgimpw2quNfwwULhNZdz1ilWBrHNdZDLb/5jGXgKaN+araZ8faz/fZc0Kj9LrXCY5\n",
       "erY6hLcoLv3S8ZhpFeyYnn6Pc9dSwYEDrXgbIUObc5Hh+IWS/KcbeoW4BA4AV+iAGwB9QF6Wseq+\n",
       "n3Qa3isVcv+gBySzLnDyW9+kAAAAu0Ga8EmoQWyZTAgj//61KoAAlDsUGoCFkP8QgAefu1coxYzM\n",
       "BVyMr6J245ZbhOY0s/TQdsqeCbn7qDDLWAmP92fdW7GBj1UhZm7esU96G29tYusaM6gjxmTTTKQK\n",
       "saesyuDFu//1rkTmLhfbArvAQuWo/QxwqntZWea6M3jw9Zu4XHJ48NCqZEeLB0aCV0Wddy/Xr9uF\n",
       "cZLIzWvSVZHXuuZZB63l7sQhybz6T48VRxNimEzlKaVaBn6o+QsAAACzQZ8ORRUsO/8AOmRqbgLT\n",
       "wskZnGj6ewAjdm4k3cPkbsmgN9SOO7LXC1zKvZdNUVbmNnhnBUzJsSscg4z9K2JNk2/+4Rj1aW8J\n",
       "+1388pr5HLiG9FaXGj7BMPEU7fiJD7mbToV5nRhB/zF37eXX2BbZpVo+8hUH2Njre3rFZd7wvLXl\n",
       "wX4/yWvLxaXXA7QskrC4bxNuFV2V0ZlbZmch9+cRhgcDj+FL93XmDAvlBQU1opOWz4EAAABqAZ8t\n",
       "dEN/AFQO/K0XAnEKHG4AOVsNVtGoyy5lcGyYVY3hIdgFxR4uq97QV9kaDn+YIkJ4yZJiDtKI0stv\n",
       "dbAzsbK6a7Ih2/7u2zimvNkQPCSJXfN/s5lsqx++82E93Q+A7cD66mwno2U4fQAAAIUBny9qQ38A\n",
       "VB6HLszIIYrfAfqPThocaADU+Ffvfnc+lEkxCC50vYRFhAA20L0rxpHaqSOxid8aqFSUj8KG5/Lx\n",
       "0j7Ass6jyr90txwF2VOvjXkgjxE4iWPxlKRJBWHijInIytTv3wcA/pZZM0X0ci44RIIaq43rh+FH\n",
       "0zTB11cJg1ABskfAAAAAvkGbNEmoQWyZTAgh//6qVQABS3cQssv9w8HXFq3l1NRoU2YK1hZNBtC1\n",
       "N2v+PeYkI7b3hBOhJaptv5itdppJZeiMkDdGYlCEHdF2hkoiNDHmRKNDFOonrpYMaxmvloaEPIXc\n",
       "v1fWSNb//2FPNvByAd9MX8z0l/CL3t4Xhx+5KPxQA5IMBXrWhRJspq1r0+4hjn+v4bvEGEqw3wo6\n",
       "xJK63zQLAUNiy/EkTZnzgbUeJstKySltLRIALCyGum9vDr4AAACOQZ9SRRUsO/8AOmRqbgLTwsjU\n",
       "HWF/ACPq0qP5qRSYcoG+pVEErCVdAI0JbzbBVikGYhvSjsNwz5aJJEX/cLWvTYo93EVI4P8XQVXH\n",
       "Tzy7glAgZIEC3PYcMxh+rNhtTjtrV2vUiuyT2A0XMM2Km7Yrh4yn5DZbC17Zq6g+VhzqixMEzBXU\n",
       "JQL/Ax7qFA2dYQAAAFoBn3F0Q38AVA78rRcCdMz6IE9KYUcc+tW5crtTWA8EzW6NZNQKrvPMkZDq\n",
       "rOICvj1yBV8D0s8n14eKm7nnIOkvVSZFE0ZjOB+oaWUxiVnqGg5JIVPSWPk4NSAAAACJAZ9zakN/\n",
       "AFQehy7MzD/FQ10QFPuwlAAN/qNo6GsuVsvsk5iYPMssWJIfYgA4h0GNWnwh6hN4ERWTLHRtkUcf\n",
       "2O9eaAFEWIB0Iqc99rUb/X1mnzq7A4Xv/+fPMcJV0CIO6/8pyqxDgfHXsjrrvCby84r5If4AdKg/\n",
       "KG0dSFDCejmgSC51M/HB/iAAAACdQZt2SahBbJlMFEwQ//6qVQACloAYuKy+s9ADjncI457KBueB\n",
       "MzPK7m1eFZ2Px9T5voD47M4AHEicbn/IiQBEH+0bYnGXD7VUiVrB/IRGlQJB0R/SjDuS+gWbokzn\n",
       "/y5ybB5uydwV1zX73RqR9Rq/Gq5uir7DYS9oEuIkjtH+C1DFOLUB+nxwxhfDqwxaqUH/S9BS1+Kr\n",
       "qTZ4kfiAOQAAAJwBn5VqQ38AVCYJWAMzD3ExZSRVcRwKrcF1UnhLopnnSyBPH1tjkk5aFuIsHCbX\n",
       "d5VPLXM7bYTw7KebeBa2+dUME8JX/13QdAjKfyet7OB4a2VXuZhievZ84qgqkwZYCGe0nY+EKlyg\n",
       "F4rb/MZjObEl5vLunoRLAhxeCZj3AcTWl3aPG3cW1myZwJgpo0/U6abevjCXAskU0gVDEbwAAAEb\n",
       "QZuXSeEKUmUwII///rUqgAFLqgRkZLgBuh4PbU3bYuv3E5OSilyWe2kFYVHA1PnkVSzMI0b2sH/q\n",
       "/+Cx9JR5b0wxHd+tcqH0FrKYsqMiWN0desJZW8TaiYobZ3VP3gRmionDHpMX1bfkr1T82a+D+y81\n",
       "AIP6H+gECO5IJi9KcKoqjw1xGdvbFq4DOPgy2bJkY2x+vs54keQfel1CUJ6tgy5qUJ6r/CrUcqa6\n",
       "eNZViWhNW29wpUukKzoiYkgJsnURfcVa+y0MKZMeMVw9Oa16EJtF7DuwW29/Hg0reqRfnAa7fGdz\n",
       "K1jUePIyw32ATqy8LthAAAIwov4mkr9wfLKjEPEm+I3HEVvQ6vKjJ57dS9uP92TqPPizEaKtgQAA\n",
       "AHNBm7pJ4Q6JlMCCP/61KoABSfSXHcZ7f9Dvj4jIR1zZ2XwAKOPCcxzmwi4KTTWeN4mXXw7Z/JD8\n",
       "tqYX5JAg3G2fDe8BhYfqqdE8FGq5wQarvreQwxT6BHD2VfTlZUO8bIn2aBPAcH9coFQblBewzSd1\n",
       "06IhAAAAs0Gf2EURPDf/AFQiKyyBeYer7Nco/ofqd/LIW2IiX29GdZGwJvnSSNx6mjABo3YO2URV\n",
       "gUjhjooAEDI/vukTXrJIlfz0KB4X3wSeDQLWjSgv+dxy1ctAfHEzPT17KAYB19N4E8YcqaI6U01G\n",
       "xMFOP9vOs3BXNKI8/pZub9j+9i8jNHfgfgrJMjPBoPmWtsiQlOZzVcxD9SIyQmcj8J0TdAzEFFCN\n",
       "w8fPUdTxN4RDBGoEg6sgAAAAhAGf+WpDfwBUHocuzMxDFb4D/TS8BFgfQokr/9Ilk/amTbecGzFs\n",
       "2r4NZLNVVSlNgufSvOZzx+5lP8lz0+gvlQADVPaAAv61HqNuX5jEJ6asaJWfHrSlFP0QytIoX6m0\n",
       "icPbpkmgQG015kMEmeQQutARFJ2iP86lGSzPpnE+rwP+SrdWnQAAAOdBm/xJqEFomUwU8Ef//rUq\n",
       "gACl/QYgdKAWqBqZLtK1zCBnKNz5gxT1mmvkND3dvnx1YCHxlQC/LfOZIa0h5noGbgM/9CGnoQ9I\n",
       "3Y9NGWpSXpoBGrKUHWHJXJNhQf8vKG51jazr7JiNxL5TkePt/0vDDlIPn1h9ESuJdEdq5tUAyy4A\n",
       "4jIARyqWqUnmA+aF9Hh+2r1rKQvNNk8GXmAbSfjYG620G3LPNd46GVtn1CInczwCfo1KC7d40SIc\n",
       "PTgIMvzRV+x4mMwT2rNdsycd5n6CSpXyaH1X/VkxH3HJfqAUIV8/5t1cG8AAAABVAZ4bakN/AFQm\n",
       "CVgDMgiEwuf7h6KWA/+NOJdt9NVq4lUkgxzV6fLsx2j2lF2In78lDmGKuzj1/uAtZf697gAAGT0U\n",
       "OYutm29fb1llUnZA3rLR7WswQQAAAMBBmgBJ4QpSZTAgh//+qlUAApPleQBEp4aTW/x2POY6Wckn\n",
       "PkshADNNtQLWMM9H37Y8YfjDxZgz/BY+kfAOG6ZvfbkfNIA2KKZUYE0jpAABMqGSnkdyd6p+bNeu\n",
       "/ZeagD/Z4PJO5BjapiJYY/tCZnNIwovv98H3bgzPV++uOKaqORJSAjO56sec+n4tVyvA1ORXkrE2\n",
       "MWjlvijlTfM36wiFmNA2jlz2sBorm4f5SZ01GX02ylgbSCtawHBplDjxp2EAAAB0QZ4+RTRMO/8A\n",
       "OmIcdIO14hIEvDcawaI2n8wNE78JZ4sUV+8kGKxhoUJ7PcTwIiKZMAHXTV26i3CdO7v8v/mh82qb\n",
       "5p8eTuYJMvEzmyqU5YQ3yYbKUqwaeGuzT7nMtjMJtC69yz884dhGJfhU6g5oNeCdkRAAAABsAZ5d\n",
       "dEN/AFQO/K0XDF/ye8BYuQMV0zBRn3hSl4e2N87CvT5dmO0gSbutkSnCRi7yFmCaSvdnDaN4j55k\n",
       "PoSTfEmwoWIHnPwI2Z92uzbj3vgD7SOUXAU8P+DE+I8zoyasrtW7dyzxqN+15yFpAAAAUgGeX2pD\n",
       "fwBUHocuzMxHJTjP0PTR9NwpxABrFPRnmXCznvDrc76VxfAxZRREpY7irnbv4tzs0XPtose5NL9x\n",
       "icSlgGBlRyRivzik8y7VOQPoDvkAAAA7QZpCSahBaJlMFPBH//61KoABSfSXHcZ7f8yMTgACGyAu\n",
       "JjQi6OVdL9e4d01PcHVRj9hTTRCfY3/0uE0AAACUAZ5hakN/AFQmCVgDMxpcL4jfpRlJ+te29cAN\n",
       "JJ6M1JxqPjqo57ndi4QsKFt6Nx8Rwk27kPZISyOU2VfDN6sDsu2bLmA7sb1Id0XLYSLwegesfWJP\n",
       "KUouiCF5MCMWLEjqb+Ga1I4Cd665ldP4IeyBYyhe+O7WL61cvMDR8y8Wb8ds0YyV89nsUnMFp8ox\n",
       "/Ze9jdpXTQAAAGVBmmVJ4QpSZTAgh//+qlUAAUoBBIC3sMAFw1k6SSh7rkPLHKdf633/jEzvhch2\n",
       "d5Jg4Db7L7OUiOBbxvQiYMgSeWY8ngdIZqa3JiTiUpWdgzyYRp2kJbtG+Imz3LR9F2nq2hd/MAAA\n",
       "AIxBnoNFNEw3/wBUIissgXmNLhtHugAtUbW4KaAqQoa4Rgz5HHyRmgL+tvJ/jjyVAw7Hl38PPIJN\n",
       "ve6WrB1FeY7oXf6tPJSr4s7sdIisM5B/QC9I6ZEhdGtOxP7gpMgCMvzqA2PhJA7r3yByFYiV8xvV\n",
       "CqBqgHj4qMl8xQNYV8IajXpKA2TJZ90WTpBOmQAAAFoBnqRqQ38AVB6HLszMQxmB2OdDPkvCAIsD\n",
       "6FElf/pAwIMTxM9DG241/P2utbp+A4o9DGLgqgNciCuiumGWgKKk+iPpprH/a9M4ZABWItyvML0I\n",
       "Y/OEoBV06BkAAAEWQZqpSahBaJlMCH///qmWAAUEXAruHHDLHWq+w9jnpkEAFdAjTQooFylszayg\n",
       "56Kn8PRG7kd7hxQtMCXJ28iZs0WfsE1Y5Z+6QiadAxbypOqwJDmj5uUljJfPo9RZyrpwMBcN/LFM\n",
       "0/tj+sYmzvc1XU1/FZDIzdnrgt4w2lRJUyQunLRz+ZYZxNjndflqNHA/RcmpFEJ/izn62VB8W/H2\n",
       "zEF2GZ22DeXDM3ePR44KCtgPDSy9WGzO7He0nsMXqdNsIFhVJNBd5DfmygcHIDxmAiCbXNVgf1yT\n",
       "8lioaPhVM8WrUOg7iFjw0sQkhfXobkq6pfXQz4+v4MLLyui97zV5ddZ0h6cxsBWXszLILHr6+3at\n",
       "BlJl9EkAAACqQZ7HRREsO/8AOmRqbgLUICyq1+wAZds29q9qM1/vhTHjDwXV3yixDqZUOIDatyQS\n",
       "uAXdqzuP3lKbdImW5vhX3LR12kR3Ly3a5qfgriXgX4q+sawtYOulrAS4OEcFaBBsHsuRJSJysIRl\n",
       "//e6Q0qqwPYxDRhb7vlqLHmRPoQbp9CEXex5ngqYhLlG7oHreWPJNXo8DhgzoVnfeYIibShvT4nQ\n",
       "AWzb7oeWbUEAAABkAZ7mdEN/AFQO/K0XDFhKXbcTty2uB/vx/tYmjaSm0yfUD0xnsfXwpo7G7IQA\n",
       "ciYIhLZIWhrmUmrJlkjQhHKUY8ORtFkUJq4NARB5O4wYb3ocr/B8LsUc2rloliXtrGUnmEhZQAAA\n",
       "AG4BnuhqQ38AVB6HLszMQxW+BDIQ/B20NNV80Q9uT6/vFQABcXWIhonnJJZTfk8DYoQWRFIJHT/r\n",
       "zKucX6Zp93rmrlwOMo5cGty4S2ZMAC/Ro0y5MwU5zEw9SSW1XPlhua6OS+rBuLwtsDY89xxntAAA\n",
       "AHJBmupJqEFsmUwIIf/+qlUAACUDNzys8B3MZKPMYP64DIavewNb51cs1xxNABSXBrJ9ljUyE3Ci\n",
       "F6hleO43H3LM9AdJ7kGkZ7FicnHb0132Ae8WkHKvRYAffNpW48zELDl4kqwosVVyslYYA44MGRgq\n",
       "PksAAACBQZsLSeEKUmUwIIf//qpVAAFKAUdgNEsMAGkzgzsMSQTlo8XJ3X+HVxZP8vTNL1YyuOHz\n",
       "nnnc//Hv6WagAMWw0FpabprsG57CtAxNO0Gy98gbdFmfqOXms5gtn/ZoZKlrlEh3V97rmTpYD9ig\n",
       "kp9yQyrvQC0WMuBoiCs34kg00lqgAAAAUUGbL0nhDomUwId//qmWAAUD45v1EL+IKRSWKkl75EUD\n",
       "gvPsLVR8FWZfeA7zaXDxRl9+m1x/sjq3yYawAeffGWg8WrP3JTTCqoFe9rqGV4tbwAAAAFJBn01F\n",
       "ETw7/wA6Yhx0g7XjRcYIQNINDgAvEn+Xz6zCqUUYclB5wivGsxEG5XEfRaD8iYS85fFZ+g+MxjZ9\n",
       "8EM65OZPgr4XK00RR4e5/jjkX+nbAAAAcgGfbHRDfwBUDvytFwzv7UcjY2YPIIqUAA3+o2joay5W\n",
       "y+yTmJg8yyxYkh9rGr4QLNuWJHX/ot76X07s4ePh8V7/GmuH2n0UReSVE7+s+Z4Ciss3yu5cuM8O\n",
       "lbW1M+NCiLfe6CB6CZgmiZ38LbcnnoEHpQAAAEwBn25qQ38AVB6HLszMhUr7Q5H5F/c3P8DwSkJK\n",
       "yGmAAtpL6KNuOn0LYvw3pptTLV6vN+RTr6/R2+tdCZxI8qcNkrCf4fnEJ5dCXuyBAAAAkUGbcEmo\n",
       "QWiZTAhv//6nhAAJ/7wmypwU+vkxQI3/nBfKvcn8ld+Txr723QysvXQUlST7ODFQ1oW/zzgIpnlP\n",
       "zfQ/X7IEUL/JxpU9kS7F9QfN81bpj8l9f9VJt81nNgcCq4ymShrihy7SC+11v9gkjuKn2PvL2bSM\n",
       "9iQjbeJVbf33nwX2CY1CnIzt8+cyOscHIVwAAAVibW9vdgAAAGxtdmhkAAAAAAAAAAAAAAAAAAAD\n",
       "6AAAEyQAAQAAAQAAAAAAAAAAAAAAAAEAAAAAAAAAAAAAAAAAAAABAAAAAAAAAAAAAAAAAABAAAAA\n",
       "AAAAAAAAAAAAAAAAAAAAAAAAAAAAAAAAAAAAAgAABIx0cmFrAAAAXHRraGQAAAADAAAAAAAAAAAA\n",
       "AAABAAAAAAAAEyQAAAAAAAAAAAAAAAAAAAAAAAEAAAAAAAAAAAAAAAAAAAABAAAAAAAAAAAAAAAA\n",
       "AABAAAAAAbAAAAEgAAAAAAAkZWR0cwAAABxlbHN0AAAAAAAAAAEAABMkAAAIAAABAAAAAAQEbWRp\n",
       "YQAAACBtZGhkAAAAAAAAAAAAAAAAAAAoAAAAxABVxAAAAAAALWhkbHIAAAAAAAAAAHZpZGUAAAAA\n",
       "AAAAAAAAAABWaWRlb0hhbmRsZXIAAAADr21pbmYAAAAUdm1oZAAAAAEAAAAAAAAAAAAAACRkaW5m\n",
       "AAAAHGRyZWYAAAAAAAAAAQAAAAx1cmwgAAAAAQAAA29zdGJsAAAAs3N0c2QAAAAAAAAAAQAAAKNh\n",
       "dmMxAAAAAAAAAAEAAAAAAAAAAAAAAAAAAAAAAbABIABIAAAASAAAAAAAAAABAAAAAAAAAAAAAAAA\n",
       "AAAAAAAAAAAAAAAAAAAAAAAAAAAAGP//AAAAMWF2Y0MBZAAV/+EAGGdkABWs2UGwloQAAAMABAAA\n",
       "AwBQPFi2WAEABmjr48siwAAAABx1dWlka2hA8l8kT8W6OaUbzwMj8wAAAAAAAAAYc3R0cwAAAAAA\n",
       "AAABAAAAMQAABAAAAAAUc3RzcwAAAAAAAAABAAAAAQAAAYBjdHRzAAAAAAAAAC4AAAABAAAIAAAA\n",
       "AAEAABQAAAAAAQAACAAAAAABAAAAAAAAAAEAAAQAAAAAAQAAFAAAAAABAAAIAAAAAAEAAAAAAAAA\n",
       "AQAABAAAAAABAAAUAAAAAAEAAAgAAAAAAQAAAAAAAAABAAAEAAAAAAEAABQAAAAAAQAACAAAAAAB\n",
       "AAAAAAAAAAEAAAQAAAAAAQAAFAAAAAABAAAIAAAAAAEAAAAAAAAAAQAABAAAAAABAAAMAAAAAAEA\n",
       "AAQAAAAAAQAACAAAAAABAAAQAAAAAAIAAAQAAAAAAQAADAAAAAABAAAEAAAAAAEAABQAAAAAAQAA\n",
       "CAAAAAABAAAAAAAAAAEAAAQAAAAAAQAADAAAAAABAAAEAAAAAAEAABAAAAAAAgAABAAAAAABAAAU\n",
       "AAAAAAEAAAgAAAAAAQAAAAAAAAABAAAEAAAAAAIAAAgAAAAAAQAAFAAAAAABAAAIAAAAAAEAAAAA\n",
       "AAAAAQAABAAAAAABAAAIAAAAABxzdHNjAAAAAAAAAAEAAAABAAAAMQAAAAEAAADYc3RzegAAAAAA\n",
       "AAAAAAAAMQAADoMAAAJOAAAA8gAAALYAAACkAAABAgAAALQAAABkAAAAbAAAATQAAACHAAAAlgAA\n",
       "AKkAAAC/AAAAtwAAAG4AAACJAAAAwgAAAJIAAABeAAAAjQAAAKEAAACgAAABHwAAAHcAAAC3AAAA\n",
       "iAAAAOsAAABZAAAAxAAAAHgAAABwAAAAVgAAAD8AAACYAAAAaQAAAJAAAABeAAABGgAAAK4AAABo\n",
       "AAAAcgAAAHYAAACFAAAAVQAAAFYAAAB2AAAAUAAAAJUAAAAUc3RjbwAAAAAAAAABAAAALAAAAGJ1\n",
       "ZHRhAAAAWm1ldGEAAAAAAAAAIWhkbHIAAAAAAAAAAG1kaXJhcHBsAAAAAAAAAAAAAAAALWlsc3QA\n",
       "AAAlqXRvbwAAAB1kYXRhAAAAAQAAAABMYXZmNTcuODMuMTAw\n",
       "\">\n",
       "  Your browser does not support the video tag.\n",
       "</video>"
      ],
      "text/plain": [
       "<IPython.core.display.HTML object>"
      ]
     },
     "execution_count": 8,
     "metadata": {},
     "output_type": "execute_result"
    },
    {
     "data": {
      "image/png": "[encoded data removed]",
      "text/plain": [
       "<matplotlib.figure.Figure at 0x7fd4ab30d748>"
      ]
     },
     "metadata": {},
     "output_type": "display_data"
    }
   ],
   "source": [
    "def barlist(n): \n",
    "    return visualization_steps[n][2]\n",
    "\n",
    "fig=plt.figure()\n",
    "\n",
    "N=iterations #Number of frames\n",
    "x=visualization_steps[0][0]+1\n",
    "\n",
    "plt.bar(x,visualization_steps[0][1], color = 'black')\n",
    "barcollection = plt.bar(x,barlist(0), color = 'blue')\n",
    "\n",
    "def animate(i):\n",
    "    y=barlist(i+1)\n",
    "    for i, b in enumerate(barcollection):\n",
    "        b.set_height(y[i])\n",
    "\n",
    "anim=animation.FuncAnimation(fig,animate,repeat=False,blit=False,frames=N-1,\n",
    "                             interval=100)\n",
    "HTML(anim.to_html5_video())\n",
    "#anim.save('mymovie.mp4',writer=animation.FFMpegWriter(fps=10))\n",
    "#plt.show()"
   ]
  },
  {
   "cell_type": "code",
   "execution_count": 9,
   "metadata": {},
   "outputs": [],
   "source": [
    "#toy_system.visualize_step(visualization_steps[2]);"
   ]
  },
  {
   "cell_type": "code",
   "execution_count": 10,
   "metadata": {},
   "outputs": [
    {
     "data": {
      "text/plain": [
       "[<matplotlib.lines.Line2D at 0x7fd4aae06eb8>]"
      ]
     },
     "execution_count": 10,
     "metadata": {},
     "output_type": "execute_result"
    },
    {
     "data": {
      "image/png": "[encoded data removed]",
      "text/plain": [
       "<matplotlib.figure.Figure at 0x7fd4ab332f28>"
      ]
     },
     "metadata": {},
     "output_type": "display_data"
    }
   ],
   "source": [
    "%matplotlib inline\n",
    "plt.plot(range(iterations),rewards_list)"
   ]
  },
  {
   "cell_type": "code",
   "execution_count": 11,
   "metadata": {},
   "outputs": [
    {
     "data": {
      "text/plain": [
       "3600000"
      ]
     },
     "execution_count": 11,
     "metadata": {},
     "output_type": "execute_result"
    }
   ],
   "source": [
    "toy_system.n_states()"
   ]
  },
  {
   "cell_type": "code",
   "execution_count": 12,
   "metadata": {},
   "outputs": [
    {
     "data": {
      "text/plain": [
       "3600000"
      ]
     },
     "execution_count": 12,
     "metadata": {},
     "output_type": "execute_result"
    }
   ],
   "source": [
    "n_s = ((n+1)**k)\n",
    "a = np.prod(n_discrete_load_levels)\n",
    "b = np.prod(n_discrete_load_levels_trucks)\n",
    "n_s = n_s *a *b\n",
    "n_s"
   ]
  },
  {
   "cell_type": "code",
   "execution_count": null,
   "metadata": {},
   "outputs": [],
   "source": []
  },
  {
   "cell_type": "code",
   "execution_count": null,
   "metadata": {},
   "outputs": [],
   "source": []
  },
  {
   "cell_type": "code",
   "execution_count": null,
   "metadata": {},
   "outputs": [],
   "source": []
  },
  {
   "cell_type": "code",
   "execution_count": null,
   "metadata": {},
   "outputs": [],
   "source": [
    "\n"
   ]
  },
  {
   "cell_type": "code",
   "execution_count": null,
   "metadata": {},
   "outputs": [],
   "source": []
  },
  {
   "cell_type": "code",
   "execution_count": null,
   "metadata": {},
   "outputs": [],
   "source": []
  },
  {
   "cell_type": "code",
   "execution_count": null,
   "metadata": {},
   "outputs": [],
   "source": []
  },
  {
   "cell_type": "markdown",
   "metadata": {},
   "source": [
    "# Small system to apply Q-learning algorithm\n"
   ]
  },
  {
   "cell_type": "code",
   "execution_count": 13,
   "metadata": {},
   "outputs": [
    {
     "data": {
      "text/plain": [
       "46080"
      ]
     },
     "execution_count": 13,
     "metadata": {},
     "output_type": "execute_result"
    }
   ],
   "source": [
    "# Tanks' information\n",
    "n = 5 \n",
    "tank_ids = list(range(1,n+1))\n",
    "tank_max_loads =  np.array([100., 100., 200., 300., 400.])\n",
    "tank_current_loads =  np.array([50., 60., 120., 150., 300.])\n",
    "tank_consumption_rates =  np.array([10.] * n)\n",
    "\n",
    "n_discrete_load_levels = np.array([2,2,2,2,2])\n",
    "\n",
    "# Trucks' information\n",
    "k = 2\n",
    "truck_ids = list(range(k))\n",
    "truck_max_loads = np.array([20., 50.])\n",
    "truck_current_loads = truck_max_loads.copy()\n",
    "truck_current_positions =  np.array([0] * k)\n",
    "#truck_fractions_deliverable =  np.array([1.] * k) # we for now we only allow to deliver all the content of the truck\n",
    "truck_fractions_deliverable =  np.array([ np.array([0.5, 1.]), \n",
    "                                          np.array([0.5, 1.])\n",
    "                                        ]) # we for now we only allow to deliver all the content of the truck\n",
    "n_discrete_load_levels_trucks = np.array([2,2])\n",
    "\n",
    "# System's information\n",
    "def simple_graph(n: int):    \n",
    "    A = np.zeros((n,n))\n",
    "    A[0,0:n] = 1\n",
    "    A = A.astype(int)\n",
    "    return(A)\n",
    "\n",
    "graph = simple_graph(n+1)\n",
    "tanks = [tank.Tank( tank_id, current_load, max_load, consumption_rate, n_lvls) \n",
    "         for  tank_id, current_load, max_load, consumption_rate, n_lvls in \n",
    "         zip( tank_ids, tank_current_loads, tank_max_loads, tank_consumption_rates, n_discrete_load_levels)]\n",
    "trucks = [truck.Truck( truck_id, current_load, max_load, current_position, load_fractions_deliverable, n_lvls) \n",
    "         for  truck_id, current_load, max_load, current_position, load_fractions_deliverable, n_lvls in \n",
    "         zip(truck_ids, truck_current_loads, truck_max_loads, truck_current_positions, \n",
    "             truck_fractions_deliverable, n_discrete_load_levels_trucks)]\n",
    "\n",
    "def simple_weights(n: int, w: float):    \n",
    "    W = np.full((n,n), np.inf)\n",
    "    W[0,:] = w\n",
    "    return(W)\n",
    "w =  np.array([0, 20., 10., 30., 50.5, 45.])\n",
    "\n",
    "weights_matrix = simple_weights(n+1, w)\n",
    "\n",
    "toy_system = model.System(tanks = tanks, trucks = trucks, adjacency_matrix = graph, weights_matrix = weights_matrix)\n",
    "\n",
    "a_s_dim = toy_system.states_dim * toy_system.actions_dim\n",
    "a_s_dim"
   ]
  },
  {
   "cell_type": "code",
   "execution_count": 17,
   "metadata": {},
   "outputs": [
    {
     "name": "stdout",
     "output_type": "stream",
     "text": [
      "self.trucks [<truck.Truck object at 0x7fd4aadce978>, <truck.Truck object at 0x7fd4aadce9b0>]\n",
      "Final rewards:  -140.5\n"
     ]
    },
    {
     "data": {
      "text/plain": [
       "[[3, 4], [10.0, 50.0]]"
      ]
     },
     "execution_count": 17,
     "metadata": {},
     "output_type": "execute_result"
    }
   ],
   "source": [
    "toy_system.discrete_state()\n",
    "\n",
    "\n",
    "\n",
    "rewards = toy_system.random_action(seed);\n",
    "rewards_list.append(rewards)\n",
    "#prnt(toy_system.state())\n",
    "print(\"Final rewards: \", rewards);\n",
    "toy_system.reset_trucks_positions();\n",
    "\n",
    "toy_system.a"
   ]
  },
  {
   "cell_type": "code",
   "execution_count": 18,
   "metadata": {},
   "outputs": [
    {
     "data": {
      "text/plain": [
       "[[3, 4], [0, 1]]"
      ]
     },
     "execution_count": 18,
     "metadata": {},
     "output_type": "execute_result"
    }
   ],
   "source": [
    "toy_system.da"
   ]
  },
  {
   "cell_type": "code",
   "execution_count": null,
   "metadata": {
    "collapsed": true
   },
   "outputs": [],
   "source": []
  }
 ],
 "metadata": {
  "kernelspec": {
   "display_name": "Python 3",
   "language": "python",
   "name": "python3"
  },
  "language_info": {
   "codemirror_mode": {
    "name": "ipython",
    "version": 3
   },
   "file_extension": ".py",
   "mimetype": "text/x-python",
   "name": "python",
   "nbconvert_exporter": "python",
   "pygments_lexer": "ipython3",
   "version": "3.6.3"
  },
  "toc": {
   "nav_menu": {},
   "number_sections": true,
   "sideBar": true,
   "skip_h1_title": false,
   "title_cell": "Table of Contents",
   "title_sidebar": "Contents",
   "toc_cell": false,
   "toc_position": {},
   "toc_section_display": true,
   "toc_window_display": false
  }
 },
 "nbformat": 4,
 "nbformat_minor": 2
}
