{
 "cells": [
  {
   "cell_type": "code",
   "execution_count": 1,
   "metadata": {},
   "outputs": [],
   "source": [
    "import model\n",
    "import numpy as np\n",
    "import random\n",
    "from utils import simple_graph\n",
    "import tank\n",
    "import truck\n",
    "\n",
    "\n",
    "import matplotlib.pyplot as plt\n",
    "from matplotlib import animation, rc\n",
    "from IPython.display import HTML"
   ]
  },
  {
   "cell_type": "code",
   "execution_count": 2,
   "metadata": {},
   "outputs": [],
   "source": [
    "\n",
    "def initialize_system():\n",
    "    # Tanks' information\n",
    "    global n\n",
    "    n=5\n",
    "    tank_ids = list(range(1,n+1))\n",
    "    tank_max_loads =  np.array([100., 100., 200., 300., 400.])\n",
    "    tank_current_loads =  np.array([50., 60., 120., 150., 300.])\n",
    "    tank_consumption_rates =  np.array([10.] * n)\n",
    "    \n",
    "    global n_discrete_load_levels\n",
    "    n_discrete_load_levels = np.array([5,5,10,10,10])\n",
    "\n",
    "    # Trucks' information\n",
    "    global k\n",
    "    k=2\n",
    "    truck_ids = list(range(k))\n",
    "    truck_max_loads = np.array([20., 50.])\n",
    "    truck_current_loads = truck_max_loads.copy()\n",
    "    truck_current_positions =  np.array([0] * k)\n",
    "    #truck_fractions_deliverable =  np.array([1.] * k) # we for now we only allow to deliver all the content of the truck\n",
    "    truck_fractions_deliverable =  np.array([ np.array([0.5, 1.]), \n",
    "                                              np.array([0.5, 1.])\n",
    "                                            ]) # we for now we only allow to deliver all the content of the truck\n",
    "    global n_discrete_load_levels_trucks\n",
    "    n_discrete_load_levels_trucks = np.array([2,2])\n",
    "\n",
    "    # System's information\n",
    "    def simple_graph(n: int):    \n",
    "        A = np.zeros((n,n))\n",
    "        A[0,0:n] = 1\n",
    "        A = A.astype(int)\n",
    "        return(A)\n",
    "\n",
    "    graph = simple_graph(n+1)\n",
    "    tanks = [tank.Tank( tank_id, current_load, max_load, consumption_rate, n_lvls) \n",
    "             for  tank_id, current_load, max_load, consumption_rate, n_lvls in \n",
    "             zip( tank_ids, tank_current_loads, tank_max_loads, tank_consumption_rates, n_discrete_load_levels)]\n",
    "    trucks = [truck.Truck( truck_id, current_load, max_load, current_position, load_fractions_deliverable, n_lvls) \n",
    "             for  truck_id, current_load, max_load, current_position, load_fractions_deliverable, n_lvls in \n",
    "             zip(truck_ids, truck_current_loads, truck_max_loads, truck_current_positions, \n",
    "                 truck_fractions_deliverable, n_discrete_load_levels_trucks)]\n",
    "\n",
    "    def simple_weights(n: int, w: float):    \n",
    "        W = np.full((n,n), np.inf)\n",
    "        W[0,:] = w\n",
    "        return(W)\n",
    "    w =  np.array([0, 20., 10., 30., 50.5, 45.])\n",
    "\n",
    "    weights_matrix = simple_weights(n+1, w)\n",
    "    \n",
    "    return(tanks, trucks, graph, weights_matrix)\n",
    "\n",
    "\n"
   ]
  },
  {
   "cell_type": "code",
   "execution_count": 3,
   "metadata": {},
   "outputs": [],
   "source": [
    "tanks, trucks, graph, weights_matrix = initialize_system()\n",
    "toy_system = model.System(tanks = tanks, trucks = trucks, adjacency_matrix = graph, weights_matrix = weights_matrix)"
   ]
  },
  {
   "cell_type": "code",
   "execution_count": 4,
   "metadata": {},
   "outputs": [
    {
     "name": "stdout",
     "output_type": "stream",
     "text": [
      "self.trucks [<truck.Truck object at 0x7f42faa16b00>, <truck.Truck object at 0x7f42faa16c88>]\n",
      "Final rewards:  -65.0\n",
      "self.trucks [<truck.Truck object at 0x7f42faa16b00>, <truck.Truck object at 0x7f42faa16c88>]\n",
      "Final rewards:  -65.0\n",
      "self.trucks [<truck.Truck object at 0x7f42faa16b00>, <truck.Truck object at 0x7f42faa16c88>]\n",
      "Final rewards:  -105.5\n",
      "self.trucks [<truck.Truck object at 0x7f42faa16b00>, <truck.Truck object at 0x7f42faa16c88>]\n",
      "Final rewards:  -inf\n",
      "self.trucks [<truck.Truck object at 0x7f42faa16b00>, <truck.Truck object at 0x7f42faa16c88>]\n",
      "Final rewards:  -inf\n",
      "self.trucks [<truck.Truck object at 0x7f42faa16b00>, <truck.Truck object at 0x7f42faa16c88>]\n",
      "Final rewards:  -inf\n",
      "self.trucks [<truck.Truck object at 0x7f42faa16b00>, <truck.Truck object at 0x7f42faa16c88>]\n",
      "Final rewards:  -inf\n",
      "self.trucks [<truck.Truck object at 0x7f42faa16b00>, <truck.Truck object at 0x7f42faa16c88>]\n",
      "Final rewards:  -inf\n",
      "self.trucks [<truck.Truck object at 0x7f42faa16b00>, <truck.Truck object at 0x7f42faa16c88>]\n",
      "Final rewards:  -inf\n",
      "self.trucks [<truck.Truck object at 0x7f42faa16b00>, <truck.Truck object at 0x7f42faa16c88>]\n",
      "Final rewards:  -inf\n",
      "self.trucks [<truck.Truck object at 0x7f42faa16b00>, <truck.Truck object at 0x7f42faa16c88>]\n",
      "Final rewards:  -inf\n",
      "self.trucks [<truck.Truck object at 0x7f42faa16b00>, <truck.Truck object at 0x7f42faa16c88>]\n",
      "Final rewards:  -inf\n",
      "self.trucks [<truck.Truck object at 0x7f42faa16b00>, <truck.Truck object at 0x7f42faa16c88>]\n",
      "Final rewards:  -inf\n",
      "self.trucks [<truck.Truck object at 0x7f42faa16b00>, <truck.Truck object at 0x7f42faa16c88>]\n",
      "Final rewards:  -inf\n",
      "self.trucks [<truck.Truck object at 0x7f42faa16b00>, <truck.Truck object at 0x7f42faa16c88>]\n",
      "Final rewards:  -inf\n",
      "self.trucks [<truck.Truck object at 0x7f42faa16b00>, <truck.Truck object at 0x7f42faa16c88>]\n",
      "Final rewards:  -inf\n",
      "self.trucks [<truck.Truck object at 0x7f42faa16b00>, <truck.Truck object at 0x7f42faa16c88>]\n",
      "Final rewards:  -inf\n",
      "self.trucks [<truck.Truck object at 0x7f42faa16b00>, <truck.Truck object at 0x7f42faa16c88>]\n",
      "Final rewards:  -inf\n",
      "self.trucks [<truck.Truck object at 0x7f42faa16b00>, <truck.Truck object at 0x7f42faa16c88>]\n",
      "Final rewards:  -inf\n",
      "self.trucks [<truck.Truck object at 0x7f42faa16b00>, <truck.Truck object at 0x7f42faa16c88>]\n",
      "Final rewards:  -inf\n",
      "self.trucks [<truck.Truck object at 0x7f42faa16b00>, <truck.Truck object at 0x7f42faa16c88>]\n",
      "Final rewards:  -inf\n",
      "self.trucks [<truck.Truck object at 0x7f42faa16b00>, <truck.Truck object at 0x7f42faa16c88>]\n",
      "Final rewards:  -inf\n",
      "self.trucks [<truck.Truck object at 0x7f42faa16b00>, <truck.Truck object at 0x7f42faa16c88>]\n",
      "Final rewards:  -110.5\n",
      "self.trucks [<truck.Truck object at 0x7f42faa16b00>, <truck.Truck object at 0x7f42faa16c88>]\n",
      "Final rewards:  -inf\n",
      "self.trucks [<truck.Truck object at 0x7f42faa16b00>, <truck.Truck object at 0x7f42faa16c88>]\n",
      "Final rewards:  -100.0\n",
      "self.trucks [<truck.Truck object at 0x7f42faa16b00>, <truck.Truck object at 0x7f42faa16c88>]\n",
      "Final rewards:  -120.0\n",
      "self.trucks [<truck.Truck object at 0x7f42faa16b00>, <truck.Truck object at 0x7f42faa16c88>]\n",
      "Final rewards:  -inf\n",
      "self.trucks [<truck.Truck object at 0x7f42faa16b00>, <truck.Truck object at 0x7f42faa16c88>]\n",
      "Final rewards:  -inf\n",
      "self.trucks [<truck.Truck object at 0x7f42faa16b00>, <truck.Truck object at 0x7f42faa16c88>]\n",
      "Final rewards:  -inf\n",
      "self.trucks [<truck.Truck object at 0x7f42faa16b00>, <truck.Truck object at 0x7f42faa16c88>]\n",
      "Final rewards:  -100.0\n",
      "self.trucks [<truck.Truck object at 0x7f42faa16b00>, <truck.Truck object at 0x7f42faa16c88>]\n",
      "Final rewards:  -115.5\n",
      "self.trucks [<truck.Truck object at 0x7f42faa16b00>, <truck.Truck object at 0x7f42faa16c88>]\n",
      "Final rewards:  -inf\n",
      "self.trucks [<truck.Truck object at 0x7f42faa16b00>, <truck.Truck object at 0x7f42faa16c88>]\n",
      "Final rewards:  -45.0\n",
      "self.trucks [<truck.Truck object at 0x7f42faa16b00>, <truck.Truck object at 0x7f42faa16c88>]\n",
      "Final rewards:  -55.0\n",
      "self.trucks [<truck.Truck object at 0x7f42faa16b00>, <truck.Truck object at 0x7f42faa16c88>]\n",
      "Final rewards:  -55.0\n",
      "self.trucks [<truck.Truck object at 0x7f42faa16b00>, <truck.Truck object at 0x7f42faa16c88>]\n",
      "Final rewards:  -150.5\n",
      "self.trucks [<truck.Truck object at 0x7f42faa16b00>, <truck.Truck object at 0x7f42faa16c88>]\n",
      "Final rewards:  -75.0\n",
      "self.trucks [<truck.Truck object at 0x7f42faa16b00>, <truck.Truck object at 0x7f42faa16c88>]\n",
      "Final rewards:  -105.5\n",
      "self.trucks [<truck.Truck object at 0x7f42faa16b00>, <truck.Truck object at 0x7f42faa16c88>]\n",
      "Final rewards:  -100.0\n",
      "self.trucks [<truck.Truck object at 0x7f42faa16b00>, <truck.Truck object at 0x7f42faa16c88>]\n",
      "Final rewards:  -inf\n",
      "self.trucks [<truck.Truck object at 0x7f42faa16b00>, <truck.Truck object at 0x7f42faa16c88>]\n",
      "Final rewards:  -inf\n",
      "self.trucks [<truck.Truck object at 0x7f42faa16b00>, <truck.Truck object at 0x7f42faa16c88>]\n",
      "Final rewards:  -inf\n",
      "self.trucks [<truck.Truck object at 0x7f42faa16b00>, <truck.Truck object at 0x7f42faa16c88>]\n",
      "Final rewards:  -inf\n",
      "self.trucks [<truck.Truck object at 0x7f42faa16b00>, <truck.Truck object at 0x7f42faa16c88>]\n",
      "Final rewards:  -inf\n",
      "self.trucks [<truck.Truck object at 0x7f42faa16b00>, <truck.Truck object at 0x7f42faa16c88>]\n",
      "Final rewards:  -inf\n",
      "self.trucks [<truck.Truck object at 0x7f42faa16b00>, <truck.Truck object at 0x7f42faa16c88>]\n",
      "Final rewards:  -inf\n",
      "self.trucks [<truck.Truck object at 0x7f42faa16b00>, <truck.Truck object at 0x7f42faa16c88>]\n",
      "Final rewards:  -inf\n",
      "self.trucks [<truck.Truck object at 0x7f42faa16b00>, <truck.Truck object at 0x7f42faa16c88>]\n",
      "Final rewards:  -inf\n",
      "self.trucks [<truck.Truck object at 0x7f42faa16b00>, <truck.Truck object at 0x7f42faa16c88>]\n",
      "Final rewards:  -inf\n",
      "self.trucks [<truck.Truck object at 0x7f42faa16b00>, <truck.Truck object at 0x7f42faa16c88>]\n",
      "Final rewards:  -inf\n"
     ]
    },
    {
     "data": {
      "image/png": "[encoded data removed]",
      "text/plain": [
       "<matplotlib.figure.Figure at 0x7f42fa9e5a58>"
      ]
     },
     "metadata": {},
     "output_type": "display_data"
    }
   ],
   "source": [
    "# Simulation\n",
    "%matplotlib inline\n",
    "\n",
    "seed = None \n",
    "\n",
    "iterations = 50\n",
    "visualization_steps = []\n",
    "rewards_list = []\n",
    "\n",
    "for it in range(iterations):\n",
    "    rewards = toy_system.random_action(seed);\n",
    "    rewards_list.append(rewards)\n",
    "    #print(toy_system.state())\n",
    "    print(\"Final rewards: \", rewards);\n",
    "    toy_system.reset_trucks_positions();\n",
    "    visualization_steps.append(toy_system.visualize());"
   ]
  },
  {
   "cell_type": "code",
   "execution_count": 5,
   "metadata": {},
   "outputs": [
    {
     "data": {
      "text/plain": [
       "[40.0, 50.0, 155.0, 140.0, 290.0]"
      ]
     },
     "execution_count": 5,
     "metadata": {},
     "output_type": "execute_result"
    }
   ],
   "source": [
    "visualization_steps[0][2]"
   ]
  },
  {
   "cell_type": "code",
   "execution_count": 6,
   "metadata": {},
   "outputs": [
    {
     "data": {
      "text/plain": [
       "array([1, 2, 3, 4, 5])"
      ]
     },
     "execution_count": 6,
     "metadata": {},
     "output_type": "execute_result"
    }
   ],
   "source": [
    "visualization_steps[0][0]+1"
   ]
  },
  {
   "cell_type": "code",
   "execution_count": 7,
   "metadata": {
    "collapsed": true
   },
   "outputs": [],
   "source": [
    "visualization_steps;"
   ]
  },
  {
   "cell_type": "code",
   "execution_count": null,
   "metadata": {
    "collapsed": true
   },
   "outputs": [],
   "source": []
  },
  {
   "cell_type": "code",
   "execution_count": 8,
   "metadata": {},
   "outputs": [],
   "source": [
    "def create_system_animation(visualization_steps, n_iterations, skip = 1):\n",
    "    \n",
    "    def barlist(n, visualization_steps = visualization_steps): \n",
    "        return visualization_steps[n][2]\n",
    "\n",
    "    fig=plt.figure()\n",
    "\n",
    "    N=int(n_iterations/skip) #Number of frames\n",
    "    x=visualization_steps[0][0]+1\n",
    "\n",
    "    plt.bar(x,visualization_steps[0][1], color = 'black')\n",
    "    barcollection = plt.bar(x,barlist(0), color = 'blue')\n",
    "\n",
    "    def animate(i):\n",
    "        y=barlist(i+1)\n",
    "        for i, b in enumerate(barcollection):\n",
    "            b.set_height(y[i])\n",
    "\n",
    "    anim=animation.FuncAnimation(fig,animate,repeat=False,blit=False,frames=N-1,\n",
    "                                 interval=100)\n",
    "    return(anim)\n",
    "    #anim.save('mymovie.mp4',writer=animation.FFMpegWriter(fps=10))\n",
    "    #plt.show()"
   ]
  },
  {
   "cell_type": "code",
   "execution_count": 9,
   "metadata": {
    "collapsed": true
   },
   "outputs": [],
   "source": [
    "#toy_system.visualize_step(visualization_steps[2]);"
   ]
  },
  {
   "cell_type": "code",
   "execution_count": 10,
   "metadata": {},
   "outputs": [
    {
     "data": {
      "text/plain": [
       "[<matplotlib.lines.Line2D at 0x7f42f26de080>]"
      ]
     },
     "execution_count": 10,
     "metadata": {},
     "output_type": "execute_result"
    },
    {
     "data": {
      "image/png": "[encoded data removed]",
      "text/plain": [
       "<matplotlib.figure.Figure at 0x7f42f2adf518>"
      ]
     },
     "metadata": {},
     "output_type": "display_data"
    }
   ],
   "source": [
    "%matplotlib inline\n",
    "plt.plot(range(iterations),rewards_list)"
   ]
  },
  {
   "cell_type": "code",
   "execution_count": 11,
   "metadata": {},
   "outputs": [
    {
     "data": {
      "text/plain": [
       "1679616"
      ]
     },
     "execution_count": 11,
     "metadata": {},
     "output_type": "execute_result"
    }
   ],
   "source": [
    "toy_system.n_states()"
   ]
  },
  {
   "cell_type": "code",
   "execution_count": 12,
   "metadata": {},
   "outputs": [
    {
     "data": {
      "text/plain": [
       "3600000"
      ]
     },
     "execution_count": 12,
     "metadata": {},
     "output_type": "execute_result"
    }
   ],
   "source": [
    "n_s = ((n+1)**k)\n",
    "a = np.prod(n_discrete_load_levels)\n",
    "b = np.prod(n_discrete_load_levels_trucks)\n",
    "n_s = n_s *a *b\n",
    "n_s"
   ]
  },
  {
   "cell_type": "code",
   "execution_count": null,
   "metadata": {
    "collapsed": true
   },
   "outputs": [],
   "source": []
  },
  {
   "cell_type": "code",
   "execution_count": null,
   "metadata": {
    "collapsed": true
   },
   "outputs": [],
   "source": []
  },
  {
   "cell_type": "code",
   "execution_count": null,
   "metadata": {
    "collapsed": true
   },
   "outputs": [],
   "source": []
  },
  {
   "cell_type": "code",
   "execution_count": null,
   "metadata": {
    "collapsed": true
   },
   "outputs": [],
   "source": [
    "\n"
   ]
  },
  {
   "cell_type": "code",
   "execution_count": null,
   "metadata": {
    "collapsed": true
   },
   "outputs": [],
   "source": []
  },
  {
   "cell_type": "code",
   "execution_count": null,
   "metadata": {
    "collapsed": true
   },
   "outputs": [],
   "source": []
  },
  {
   "cell_type": "code",
   "execution_count": null,
   "metadata": {
    "collapsed": true
   },
   "outputs": [],
   "source": []
  },
  {
   "cell_type": "markdown",
   "metadata": {},
   "source": [
    "# Small system to apply Q-learning algorithm\n"
   ]
  },
  {
   "cell_type": "code",
   "execution_count": 13,
   "metadata": {},
   "outputs": [
    {
     "data": {
      "text/plain": [
       "1440"
      ]
     },
     "execution_count": 13,
     "metadata": {},
     "output_type": "execute_result"
    }
   ],
   "source": [
    "def initialize_test_system():\n",
    "    \n",
    "    # Tanks' information\n",
    "    global n\n",
    "    n = 5 \n",
    "    tank_ids = list(range(1,n+1))\n",
    "    tank_max_loads =  np.array([100., 100., 200., 300., 400.])\n",
    "    tank_current_loads =  np.array([50., 60., 120., 150., 300.])\n",
    "    tank_consumption_rates =  np.array([10.] * n)\n",
    "    \n",
    "    global n_discrete_load_levels\n",
    "    n_discrete_load_levels = np.array([2,2,2,2,2])\n",
    "\n",
    "    # Trucks' information\n",
    "    global k\n",
    "    k = 2\n",
    "    truck_ids = list(range(k))\n",
    "    truck_max_loads = np.array([20., 50.])\n",
    "    truck_current_loads = truck_max_loads.copy()\n",
    "    truck_current_positions =  np.array([0] * k)\n",
    "    #truck_fractions_deliverable =  np.array([1.] * k) # we for now we only allow to deliver all the content of the truck\n",
    "    truck_fractions_deliverable =  np.array([ np.array([0.5, 1.]), \n",
    "                                              np.array([0.5, 1.])\n",
    "                                            ]) # we for now we only allow to deliver all the content of the truck\n",
    "    global n_discrete_load_levels_trucks\n",
    "    n_discrete_load_levels_trucks = np.array([2,2])\n",
    "\n",
    "    # System's information\n",
    "    def simple_graph(n: int):    \n",
    "        A = np.zeros((n,n))\n",
    "        A[0,0:n] = 1\n",
    "        A = A.astype(int)\n",
    "        return(A)\n",
    "\n",
    "    graph = simple_graph(n+1)\n",
    "    tanks = [tank.Tank( tank_id, current_load, max_load, consumption_rate, n_lvls) \n",
    "             for  tank_id, current_load, max_load, consumption_rate, n_lvls in \n",
    "             zip( tank_ids, tank_current_loads, tank_max_loads, tank_consumption_rates, n_discrete_load_levels)]\n",
    "    trucks = [truck.Truck( truck_id, current_load, max_load, current_position, load_fractions_deliverable, n_lvls) \n",
    "             for  truck_id, current_load, max_load, current_position, load_fractions_deliverable, n_lvls in \n",
    "             zip(truck_ids, truck_current_loads, truck_max_loads, truck_current_positions, \n",
    "                 truck_fractions_deliverable, n_discrete_load_levels_trucks)]\n",
    "\n",
    "    def simple_weights(n: int, w: float):    \n",
    "        W = np.full((n,n), np.inf)\n",
    "        W[0,:] = w\n",
    "        return(W)\n",
    "    #w =  np.array([0, 20., 10., 30., 50.5, 45.])\n",
    "    w =  np.array([0, 1.33, 1.33, 1.33, 1.33, 1.33])\n",
    "\n",
    "\n",
    "    weights_matrix = simple_weights(n+1, w)\n",
    "    \n",
    "    return(tanks, trucks, graph, weights_matrix)\n",
    "\n",
    "tanks, trucks, graph, weights_matrix = initialize_test_system()\n",
    "toy_system = model.System(tanks = tanks, trucks = trucks, adjacency_matrix = graph, weights_matrix = weights_matrix)\n",
    "\n",
    "a_s_dim = toy_system.states_dim * toy_system.actions_dim\n",
    "a_s_dim"
   ]
  },
  {
   "cell_type": "code",
   "execution_count": 14,
   "metadata": {},
   "outputs": [
    {
     "name": "stdout",
     "output_type": "stream",
     "text": [
      "self.trucks [<truck.Truck object at 0x7f42f2652f60>, <truck.Truck object at 0x7f42f2652f98>]\n",
      "Final rewards:  -inf\n"
     ]
    },
    {
     "data": {
      "text/plain": [
       "[[2, 3], [0, 0]]"
      ]
     },
     "execution_count": 14,
     "metadata": {},
     "output_type": "execute_result"
    }
   ],
   "source": [
    "toy_system.discrete_state()\n",
    "\n",
    "\n",
    "\n",
    "rewards = toy_system.random_action(seed);\n",
    "rewards_list.append(rewards)\n",
    "#prnt(toy_system.state())\n",
    "print(\"Final rewards: \", rewards);\n",
    "toy_system.reset_trucks_positions();\n",
    "\n",
    "toy_system.da"
   ]
  },
  {
   "cell_type": "code",
   "execution_count": 15,
   "metadata": {},
   "outputs": [
    {
     "data": {
      "text/plain": [
       "[[0, 0], [1, 1], [0, 1, 1, 0, 1]]"
      ]
     },
     "execution_count": 15,
     "metadata": {},
     "output_type": "execute_result"
    }
   ],
   "source": [
    "toy_system.ds"
   ]
  },
  {
   "cell_type": "code",
   "execution_count": null,
   "metadata": {
    "collapsed": true
   },
   "outputs": [],
   "source": []
  },
  {
   "cell_type": "code",
   "execution_count": 16,
   "metadata": {
    "collapsed": true
   },
   "outputs": [],
   "source": [
    "a = [[3, 4], [1, 1], [0, 0, 1, 0, 1]]\n",
    "aa= ''.join(str(''.join(str(y) for y in x)) for x in a)"
   ]
  },
  {
   "cell_type": "code",
   "execution_count": 17,
   "metadata": {},
   "outputs": [
    {
     "name": "stdout",
     "output_type": "stream",
     "text": [
      "[[0, 0], [1, 1], [0, 1, 1, 0, 1]]\n",
      "[[2, 3], [0, 0]]\n"
     ]
    }
   ],
   "source": [
    "print(toy_system.ds)\n",
    "print(toy_system.da)"
   ]
  },
  {
   "cell_type": "code",
   "execution_count": 18,
   "metadata": {},
   "outputs": [
    {
     "data": {
      "text/plain": [
       "'0011011012300'"
      ]
     },
     "execution_count": 18,
     "metadata": {},
     "output_type": "execute_result"
    }
   ],
   "source": [
    "sa_new = toy_system.state_action_to_string()\n",
    "sa_new"
   ]
  },
  {
   "cell_type": "code",
   "execution_count": 19,
   "metadata": {
    "collapsed": true
   },
   "outputs": [],
   "source": [
    "new_dict = {}\n",
    "new_dict[sa_new] = {\"qval\": 1}"
   ]
  },
  {
   "cell_type": "code",
   "execution_count": 20,
   "metadata": {},
   "outputs": [
    {
     "data": {
      "text/plain": [
       "1"
      ]
     },
     "execution_count": 20,
     "metadata": {},
     "output_type": "execute_result"
    }
   ],
   "source": [
    "new_dict[sa_new]['qval']"
   ]
  },
  {
   "cell_type": "markdown",
   "metadata": {},
   "source": [
    "## Off-policy algorithm (Train)"
   ]
  },
  {
   "cell_type": "code",
   "execution_count": 21,
   "metadata": {},
   "outputs": [],
   "source": [
    "learning_rate0 = 0.05\n",
    "learning_rate_decay = 0.1\n",
    "n_iterations = 1000\n",
    "discount_rate = 0.8\n",
    "\n",
    "tanks, trucks, graph, weights_matrix = initialize_test_system()\n",
    "toy_system = model.System(tanks = tanks, trucks = trucks, adjacency_matrix = graph, weights_matrix = weights_matrix)\n",
    "\n",
    "Q = {}\n",
    "\n",
    "def is_key(dic, key):\n",
    "    if key in dic:\n",
    "        return(True)\n",
    "    else: return(False)\n",
    "\n",
    "is_key(new_dict, sa_new)\n",
    "\n",
    "state_length = 2*k + n"
   ]
  },
  {
   "cell_type": "code",
   "execution_count": 22,
   "metadata": {
    "collapsed": true
   },
   "outputs": [],
   "source": [
    "import pickle\n",
    "\n",
    "def save_obj(obj, name ):\n",
    "    with open('obj/'+ name + '.pkl', 'wb') as f:\n",
    "        pickle.dump(obj, f, pickle.HIGHEST_PROTOCOL)\n",
    "\n",
    "def load_obj(name ):\n",
    "    with open('obj/' + name + '.pkl', 'rb') as f:\n",
    "        return pickle.load(f)"
   ]
  },
  {
   "cell_type": "code",
   "execution_count": null,
   "metadata": {
    "collapsed": true
   },
   "outputs": [],
   "source": []
  },
  {
   "cell_type": "code",
   "execution_count": 23,
   "metadata": {},
   "outputs": [],
   "source": [
    "# \"Train zone\". Q-values are being converging to the optimal, theoretically\n",
    "\n",
    "train = False\n",
    "if train:\n",
    "\n",
    "    visualization_steps = []\n",
    "    rewards_list = []\n",
    "\n",
    "    verbose = False\n",
    "    verbose_info = True\n",
    "\n",
    "    for iteration in range(n_iterations):\n",
    "        toy_system.update_state() \n",
    "\n",
    "        if verbose: print(\"System state before, \", toy_system.ds)\n",
    "\n",
    "        reward = toy_system.random_action()\n",
    "        sa_current = toy_system.state_action_to_string()\n",
    "\n",
    "        if is_key(Q, sa_current) == False:\n",
    "            Q[sa_current] = 0\n",
    "\n",
    "        learning_rate = learning_rate0 / (1+iteration*learning_rate_decay)\n",
    "\n",
    "        Q_max = max([Q[key] for key in Q.keys() if key.startswith(sa_current[0:state_length])])\n",
    "        \n",
    "        if Q[sa_current] != -np.inf:\n",
    "            Q[sa_current] = ( (1-learning_rate) * Q[sa_current] \n",
    "                             + learning_rate* (reward + discount_rate * Q_max)\n",
    "                            )\n",
    "        if verbose:\n",
    "            print(\"System state after, \", toy_system.ds)\n",
    "            print(\"System action after, \", toy_system.da)\n",
    "            print(\"sa current, \", sa_current)\n",
    "\n",
    "        toy_system.reset_trucks_positions();\n",
    "        toy_system.reset_trucks_loads();\n",
    "\n",
    "        #Save visualization and rewards\n",
    "        rewards_list.append(rewards);\n",
    "        visualization_steps.append(toy_system.visualize());\n",
    "\n",
    "        if iteration % 100 == 0:\n",
    "            print(\"Iteration \", iteration)\n",
    "            if verbose_info:\n",
    "                print(\"s, a\", toy_system.s, toy_system.a)\n",
    "                print(\"ds, da\", toy_system.ds, toy_system.da)\n",
    "\n",
    "            save_obj(Q, \"Q-dict-test-\" + f\"{iteration}\")   \n",
    "            save_obj(visualization_steps, \"vis/vis-train-test-\" + f\"{iteration}\")   \n",
    "            save_obj(rewards_list, \"rewards/rew-train-test-\" + f\"{iteration}\")   \n",
    "\n",
    "\n",
    "\n",
    "\n",
    "    save_obj(Q, \"Q-dict-test-\" + f\"{iteration}\")   \n",
    "    save_obj(visualization_steps, \"vis-train-test-\" + f\"{iteration}\")   \n",
    "    save_obj(rewards_list, \"rew-train-test-\" + f\"{iteration}\")   \n"
   ]
  },
  {
   "cell_type": "code",
   "execution_count": 24,
   "metadata": {},
   "outputs": [
    {
     "data": {
      "text/plain": [
       "inf"
      ]
     },
     "execution_count": 24,
     "metadata": {},
     "output_type": "execute_result"
    }
   ],
   "source": [
    "(0.1)*np.inf"
   ]
  },
  {
   "cell_type": "code",
   "execution_count": 25,
   "metadata": {},
   "outputs": [],
   "source": [
    "# Optimal policy using the Q values trained previously:\n",
    "# Q = load_obj(\"Q-dict-test-\"+f'{n_iterations-1}')\n",
    "# #print(Q.keys())\n",
    "\n",
    "# rewards_l = load_obj('rewards/rew-train-test'+f'{n_iterations}')\n",
    "# vis_l = load_obj('vis/vis-train-test-'+f'{n_iterations}')\n",
    "\n",
    "# anim = create_system_animation(vis_l, n_iterations)\n",
    "# HTML(anim.to_html5_video())"
   ]
  },
  {
   "cell_type": "code",
   "execution_count": 26,
   "metadata": {
    "collapsed": true
   },
   "outputs": [],
   "source": [
    "\n",
    "\n",
    "new_keys = new_dict.keys()"
   ]
  },
  {
   "cell_type": "code",
   "execution_count": 27,
   "metadata": {},
   "outputs": [],
   "source": [
    "#[Q[key] for key in new_keys if key.startswith(sa_new[0:2])]"
   ]
  },
  {
   "cell_type": "code",
   "execution_count": 28,
   "metadata": {},
   "outputs": [
    {
     "data": {
      "text/plain": [
       "[[0, 0], [1, 1], [0, 1, 1, 0, 1]]"
      ]
     },
     "execution_count": 28,
     "metadata": {},
     "output_type": "execute_result"
    }
   ],
   "source": [
    "toy_system.ds"
   ]
  },
  {
   "cell_type": "code",
   "execution_count": 29,
   "metadata": {},
   "outputs": [],
   "source": [
    "toy_system.da"
   ]
  },
  {
   "cell_type": "code",
   "execution_count": 30,
   "metadata": {},
   "outputs": [
    {
     "data": {
      "text/plain": [
       "3"
      ]
     },
     "execution_count": 30,
     "metadata": {},
     "output_type": "execute_result"
    }
   ],
   "source": [
    "max([1,2,3])"
   ]
  },
  {
   "cell_type": "code",
   "execution_count": 31,
   "metadata": {},
   "outputs": [
    {
     "data": {
      "text/plain": [
       "[1, 2, 3]"
      ]
     },
     "execution_count": 31,
     "metadata": {},
     "output_type": "execute_result"
    }
   ],
   "source": [
    "[1,2,3][0:3]"
   ]
  },
  {
   "cell_type": "code",
   "execution_count": 32,
   "metadata": {},
   "outputs": [],
   "source": [
    "#Q['3311-1-1']"
   ]
  },
  {
   "cell_type": "code",
   "execution_count": 33,
   "metadata": {},
   "outputs": [],
   "source": [
    "test_toy_system = model.System(tanks = tanks, trucks = trucks, adjacency_matrix = graph, weights_matrix = weights_matrix)\n"
   ]
  },
  {
   "cell_type": "markdown",
   "metadata": {},
   "source": [
    "### To do\n",
    "\n",
    "1. Función que permita aplicar una acción al sistema usando el código de números enteros (como en las keys de los dicts)\n",
    "\n",
    "2. Hacer una simulación que vaya aplicando, en cada estado, la accion con mayor Q-value en el diccionario Q.\n",
    "\n",
    "3. Visualizar como evoluciona el sistema con la optimal policy estimada con alguna random"
   ]
  },
  {
   "cell_type": "code",
   "execution_count": 34,
   "metadata": {},
   "outputs": [
    {
     "data": {
      "text/plain": [
       "5"
      ]
     },
     "execution_count": 34,
     "metadata": {},
     "output_type": "execute_result"
    }
   ],
   "source": [
    "test_toy_system.n"
   ]
  },
  {
   "cell_type": "code",
   "execution_count": 35,
   "metadata": {
    "collapsed": true
   },
   "outputs": [],
   "source": [
    "a = '1234'"
   ]
  },
  {
   "cell_type": "code",
   "execution_count": 36,
   "metadata": {},
   "outputs": [
    {
     "name": "stdout",
     "output_type": "stream",
     "text": [
      "1\n",
      "2\n",
      "3\n",
      "4\n"
     ]
    }
   ],
   "source": [
    "for element in a: \n",
    "    print(element)"
   ]
  },
  {
   "cell_type": "code",
   "execution_count": 37,
   "metadata": {},
   "outputs": [
    {
     "data": {
      "text/plain": [
       "'12'"
      ]
     },
     "execution_count": 37,
     "metadata": {},
     "output_type": "execute_result"
    }
   ],
   "source": [
    "a[0:2]"
   ]
  },
  {
   "cell_type": "markdown",
   "metadata": {},
   "source": [
    "### Testing deterministic_action function from System class"
   ]
  },
  {
   "cell_type": "code",
   "execution_count": 38,
   "metadata": {},
   "outputs": [
    {
     "data": {
      "text/plain": [
       "[[0, 0], [1, 1], [0, 1, 1, 0, 1]]"
      ]
     },
     "execution_count": 38,
     "metadata": {},
     "output_type": "execute_result"
    }
   ],
   "source": [
    "tanks, trucks, graph, weights_matrix = initialize_test_system()\n",
    "test_toy_system = model.System(tanks = tanks, trucks = trucks, adjacency_matrix = graph, weights_matrix = weights_matrix)\n",
    "test_toy_system.ds"
   ]
  },
  {
   "cell_type": "code",
   "execution_count": 39,
   "metadata": {
    "collapsed": true
   },
   "outputs": [],
   "source": [
    "# Test example:\n",
    "# System state before,  [[0, 0], [1, 1], [0, 0, 1, 0, 1]]\n",
    "# System state after,  [[0, 0], [1, 1], [0, 0, 1, 0, 1]]\n",
    "# System action after,  [[3, 0], [0, 1]]\n",
    "# sa current,  0011001013001\n",
    "\n",
    "s0 = '001100101'\n",
    "a0 = '3001'"
   ]
  },
  {
   "cell_type": "code",
   "execution_count": 40,
   "metadata": {},
   "outputs": [
    {
     "data": {
      "text/plain": [
       "1"
      ]
     },
     "execution_count": 40,
     "metadata": {},
     "output_type": "execute_result"
    }
   ],
   "source": [
    "int('1')"
   ]
  },
  {
   "cell_type": "code",
   "execution_count": 41,
   "metadata": {},
   "outputs": [
    {
     "data": {
      "text/plain": [
       "[[0, 0], [1, 1], [0, 0, 1, 0, 1]]"
      ]
     },
     "execution_count": 41,
     "metadata": {},
     "output_type": "execute_result"
    }
   ],
   "source": [
    "test_toy_system.set_discrete_state(s0)\n",
    "test_toy_system.ds"
   ]
  },
  {
   "cell_type": "code",
   "execution_count": 42,
   "metadata": {},
   "outputs": [
    {
     "data": {
      "text/plain": [
       "-inf"
      ]
     },
     "execution_count": 42,
     "metadata": {},
     "output_type": "execute_result"
    }
   ],
   "source": [
    "test_toy_system.deterministic_action(a0)"
   ]
  },
  {
   "cell_type": "code",
   "execution_count": 43,
   "metadata": {},
   "outputs": [],
   "source": [
    "toy_system.update_state() \n"
   ]
  },
  {
   "cell_type": "code",
   "execution_count": 44,
   "metadata": {},
   "outputs": [
    {
     "data": {
      "text/plain": [
       "[[3, 0], [0, 1]]"
      ]
     },
     "execution_count": 44,
     "metadata": {},
     "output_type": "execute_result"
    }
   ],
   "source": [
    "test_toy_system.da"
   ]
  },
  {
   "cell_type": "code",
   "execution_count": 45,
   "metadata": {},
   "outputs": [
    {
     "data": {
      "text/plain": [
       "[[0, 0], [1, 1], [0, 0, 1, 0, 1]]"
      ]
     },
     "execution_count": 45,
     "metadata": {},
     "output_type": "execute_result"
    }
   ],
   "source": [
    "\n",
    "test_toy_system.ds"
   ]
  },
  {
   "cell_type": "code",
   "execution_count": 46,
   "metadata": {},
   "outputs": [
    {
     "data": {
      "text/plain": [
       "55.55555555555556"
      ]
     },
     "execution_count": 46,
     "metadata": {},
     "output_type": "execute_result"
    }
   ],
   "source": [
    "200000/3600"
   ]
  },
  {
   "cell_type": "markdown",
   "metadata": {},
   "source": [
    "### Visualize simulation of 900 train steps"
   ]
  },
  {
   "cell_type": "code",
   "execution_count": 47,
   "metadata": {},
   "outputs": [],
   "source": [
    "verbose_vis = False\n",
    "\n",
    "if verbose_vis:\n",
    "\n",
    "    n_iterations = 900\n",
    "\n",
    "    Q = load_obj(\"Q-dict-test-\"+f'{n_iterations}')\n",
    "    #print(Q.keys())\n",
    "\n",
    "    rewards_l = load_obj('rewards/rew-train-test-'+f'{n_iterations}')\n",
    "    vis_l = load_obj('vis/vis-train-test-'+f'{n_iterations}')\n",
    "\n",
    "    anim = create_system_animation(vis_l, n_iterations)\n",
    "    HTML(anim.to_html5_video())"
   ]
  },
  {
   "cell_type": "code",
   "execution_count": 48,
   "metadata": {
    "scrolled": true
   },
   "outputs": [],
   "source": [
    "#each 9 frames\n",
    "if verbose_vis:\n",
    "    anim = create_system_animation(vis_l, n_iterations, 9)\n",
    "    HTML(anim.to_html5_video())"
   ]
  },
  {
   "cell_type": "markdown",
   "metadata": {},
   "source": [
    "## Off-policy algorithm (Optimal policy from the trained Q-values)"
   ]
  },
  {
   "cell_type": "code",
   "execution_count": 49,
   "metadata": {},
   "outputs": [
    {
     "name": "stdout",
     "output_type": "stream",
     "text": [
      "001101101\n",
      "[[0, 0], [1, 1], [0, 1, 1, 0, 1]]\n",
      "001101101\n",
      "[[3, 0], [0, 1]]\n",
      "3001\n",
      "0011011013001\n"
     ]
    }
   ],
   "source": [
    "# Initialize system\n",
    "tanks, trucks, graph, weights_matrix = initialize_test_system()\n",
    "\n",
    "# Load trained Q-values\n",
    "n_iterations = 900\n",
    "Q = load_obj(\"Q-dict-test-\"+f'{n_iterations}')\n",
    "\n",
    "test_toy_system = model.System(tanks = tanks, trucks = trucks, adjacency_matrix = graph, weights_matrix = weights_matrix)\n",
    "a0 = '3001'\n",
    "s0 = test_toy_system.state_to_string()\n",
    "print(s0)\n",
    "test_toy_system.deterministic_action(a0)\n",
    "\n",
    "print(test_toy_system.ds)\n",
    "print(test_toy_system.state_to_string())\n",
    "print(test_toy_system.da)\n",
    "print(test_toy_system.action_to_string())\n",
    "\n",
    "print(test_toy_system.state_action_to_string())"
   ]
  },
  {
   "cell_type": "code",
   "execution_count": 50,
   "metadata": {},
   "outputs": [
    {
     "data": {
      "text/plain": [
       "-inf"
      ]
     },
     "execution_count": 50,
     "metadata": {},
     "output_type": "execute_result"
    }
   ],
   "source": [
    "# Way to access to the keys of the dictionary Q\n",
    "key_index = 0\n",
    "i = list(Q)[key_index]\n",
    "#Q value:\n",
    "Q[i]"
   ]
  },
  {
   "cell_type": "code",
   "execution_count": 51,
   "metadata": {},
   "outputs": [
    {
     "data": {
      "text/plain": [
       "['0011011010300',\n",
       " '0011011013211',\n",
       " '0011011010200',\n",
       " '0011011014110',\n",
       " '0011011010210',\n",
       " '0011011011200',\n",
       " '0011011010100',\n",
       " '0011011012001',\n",
       " '0011011013200']"
      ]
     },
     "execution_count": 51,
     "metadata": {},
     "output_type": "execute_result"
    }
   ],
   "source": [
    "s0_keys = [key for key in list(Q) if key.startswith(s0)][1:10]\n",
    "s0_keys"
   ]
  },
  {
   "cell_type": "code",
   "execution_count": 52,
   "metadata": {},
   "outputs": [
    {
     "name": "stdout",
     "output_type": "stream",
     "text": [
      "[-inf, -inf, -inf, -inf, -inf, -inf, -inf, -inf, -inf]\n",
      "False\n",
      "0011011010300\n"
     ]
    }
   ],
   "source": [
    "s0_q = [Q[s0_key] for s0_key in s0_keys]\n",
    "print(s0_q)\n",
    "print(s0_q == max(s0_q))\n",
    "optimal_key_index = np.where(np.isin(s0_q, max(s0_q)))[0][0]\n",
    "optimal_key = s0_keys[optimal_key_index]\n",
    "print(optimal_key)\n",
    "\n",
    "optimal_action = optimal_key[toy_system.state_length:]\n"
   ]
  },
  {
   "cell_type": "code",
   "execution_count": 53,
   "metadata": {},
   "outputs": [],
   "source": [
    "# Given a state, returns the action that has the highest Q-value.\n",
    "\n",
    "def optimal_policy(state, Q):\n",
    "    \"\"\"\n",
    "    state must be in the string-integers code\n",
    "    \"\"\"\n",
    "    state_keys = [key for key in list(Q) if key.startswith(s0)]\n",
    "    if len(state_keys) == 0:\n",
    "        return(None)\n",
    "    \n",
    "    state_q = [Q[state_key] for state_key in state_keys]\n",
    "    \n",
    "    #print(\"state_q \", state_q[1:min(10,len(state_q))])\n",
    "    \n",
    "    max_q = max(state_q)\n",
    "    #print(\"max_q\", max_q)\n",
    "    optimal_key_index = np.where(np.isin(state_q, max_q ))[0][0]\n",
    "   #print(\"optimal_key_index\", optimal_key_index)\n",
    "    optimal_key = state_keys[optimal_key_index]\n",
    "    #print(\"optimal_key\", optimal_key)\n",
    "    \n",
    "    optimal_action = optimal_key[toy_system.state_length:]\n",
    "    \n",
    "    return(optimal_action)\n",
    "    "
   ]
  },
  {
   "cell_type": "code",
   "execution_count": 54,
   "metadata": {},
   "outputs": [
    {
     "data": {
      "text/plain": [
       "'1300'"
      ]
     },
     "execution_count": 54,
     "metadata": {},
     "output_type": "execute_result"
    }
   ],
   "source": [
    "optimal_policy(s0, Q)"
   ]
  },
  {
   "cell_type": "markdown",
   "metadata": {},
   "source": [
    "### Test optimal policy with a small simulation"
   ]
  },
  {
   "cell_type": "code",
   "execution_count": 62,
   "metadata": {},
   "outputs": [],
   "source": [
    "# Initialize system\n",
    "tanks, trucks, graph, weights_matrix = initialize_test_system()\n",
    "\n",
    "# Load trained Q-values\n",
    "n_iterations = 900\n",
    "Q = load_obj(\"Q-dict-test-\"+f'{n_iterations}')\n",
    "\n",
    "\n",
    "# 20k\n",
    "#Q = load_obj(\"Q-dict-test-20k\")\n",
    "#n_iterations = 20000\n",
    "\n",
    "sim_iterations = 100\n",
    "test_toy_system = model.System(tanks = tanks, trucks = trucks, adjacency_matrix = graph, weights_matrix = weights_matrix)"
   ]
  },
  {
   "cell_type": "code",
   "execution_count": 63,
   "metadata": {},
   "outputs": [
    {
     "name": "stdout",
     "output_type": "stream",
     "text": [
      "0 -inf\n",
      "1 -inf\n",
      "2 -inf\n",
      "3 -inf\n",
      "4 -inf\n",
      "5 -inf\n",
      "6 -inf\n",
      "7 -inf\n",
      "8 -inf\n",
      "9 -inf\n",
      "10 -inf\n",
      "11 -inf\n",
      "12 -inf\n",
      "13 -inf\n",
      "14 -inf\n",
      "15 -inf\n",
      "16 -inf\n",
      "17 -inf\n",
      "18 -inf\n",
      "19 -inf\n",
      "20 -inf\n",
      "21 -inf\n",
      "22 -inf\n",
      "23 -inf\n",
      "24 -inf\n",
      "25 -inf\n",
      "26 -inf\n",
      "27 -inf\n",
      "28 -inf\n",
      "29 -inf\n",
      "30 -inf\n",
      "31 -inf\n",
      "32 -inf\n",
      "33 -inf\n",
      "34 -inf\n",
      "35 -inf\n",
      "36 -inf\n",
      "37 -inf\n",
      "38 -inf\n",
      "39 -inf\n",
      "40 -inf\n",
      "41 -inf\n",
      "42 -inf\n",
      "43 -inf\n",
      "44 -inf\n",
      "45 -inf\n",
      "46 -inf\n",
      "47 -inf\n",
      "48 -inf\n",
      "49 -inf\n",
      "50 -inf\n",
      "51 -inf\n",
      "52 -inf\n",
      "53 -inf\n",
      "54 -inf\n",
      "55 -inf\n",
      "56 -inf\n",
      "57 -inf\n",
      "58 -inf\n",
      "59 -inf\n",
      "60 -inf\n",
      "61 -inf\n",
      "62 -inf\n",
      "63 -inf\n",
      "64 -inf\n",
      "65 -inf\n",
      "66 -inf\n",
      "67 -inf\n",
      "68 -inf\n",
      "69 -inf\n",
      "70 -inf\n",
      "71 -inf\n",
      "72 -inf\n",
      "73 -inf\n",
      "74 -inf\n",
      "75 -inf\n",
      "76 -inf\n",
      "77 -inf\n",
      "78 -inf\n",
      "79 -inf\n",
      "80 -inf\n",
      "81 -inf\n",
      "82 -inf\n",
      "83 -inf\n",
      "84 -inf\n",
      "85 -inf\n",
      "86 -inf\n",
      "87 -inf\n",
      "88 -inf\n",
      "89 -inf\n",
      "90 -inf\n",
      "91 -inf\n",
      "92 -inf\n",
      "93 -inf\n",
      "94 -inf\n",
      "95 -inf\n",
      "96 -inf\n",
      "97 -inf\n",
      "98 -inf\n",
      "99 -inf\n"
     ]
    },
    {
     "data": {
      "image/png": "[encoded data removed]",
      "text/plain": [
       "<matplotlib.figure.Figure at 0x7f42f1fac940>"
      ]
     },
     "metadata": {},
     "output_type": "display_data"
    }
   ],
   "source": [
    "test = True\n",
    "visualization_steps = []\n",
    "rewards_list = []\n",
    "\n",
    "\n",
    "if test:\n",
    "    for i in range(sim_iterations):\n",
    "        #print(\"state\", test_toy_system.s, test_toy_system.ds)\n",
    "        test_toy_system.update_state()\n",
    "        visualization_steps.append(test_toy_system.visualize());\n",
    "    \n",
    "        s0 = test_toy_system.state_to_string()\n",
    "        best_action = optimal_policy(s0, Q)\n",
    "        #print(\"best_action\", best_action)\n",
    "        \n",
    "        if best_action == None:\n",
    "            print(\"Random action is performed, because the current state is unknown for the trained Q\")\n",
    "            test_toy_system.random_action()\n",
    "        \n",
    "        else:\n",
    "            reward = test_toy_system.deterministic_action(best_action)\n",
    "            print(i,reward)\n",
    "        \n",
    "        test_toy_system.reset_trucks_positions();\n",
    "        test_toy_system.reset_trucks_loads();\n",
    "\n",
    "        \n",
    "        \n",
    "        #Save visualization and rewards\n",
    "        rewards_list.append(reward);\n"
   ]
  },
  {
   "cell_type": "code",
   "execution_count": 57,
   "metadata": {},
   "outputs": [
    {
     "data": {
      "text/html": [
       "<video width=\"432\" height=\"288\" controls autoplay>\n",
       "  <source type=\"video/mp4\" src=\"data:video/mp4;base64,AAAAHGZ0eXBNNFYgAAACAGlzb21pc28yYXZjMQAAAAhmcmVlAAAqGG1kYXQAAAKuBgX//6rcRem9\n",
       "5tlIt5Ys2CDZI+7veDI2NCAtIGNvcmUgMTUyIHIyODU0IGU5YTU5MDMgLSBILjI2NC9NUEVHLTQg\n",
       "QVZDIGNvZGVjIC0gQ29weWxlZnQgMjAwMy0yMDE3IC0gaHR0cDovL3d3dy52aWRlb2xhbi5vcmcv\n",
       "eDI2NC5odG1sIC0gb3B0aW9uczogY2FiYWM9MSByZWY9MyBkZWJsb2NrPTE6MDowIGFuYWx5c2U9\n",
       "MHgzOjB4MTEzIG1lPWhleCBzdWJtZT03IHBzeT0xIHBzeV9yZD0xLjAwOjAuMDAgbWl4ZWRfcmVm\n",
       "PTEgbWVfcmFuZ2U9MTYgY2hyb21hX21lPTEgdHJlbGxpcz0xIDh4OGRjdD0xIGNxbT0wIGRlYWR6\n",
       "b25lPTIxLDExIGZhc3RfcHNraXA9MSBjaHJvbWFfcXBfb2Zmc2V0PS0yIHRocmVhZHM9OSBsb29r\n",
       "YWhlYWRfdGhyZWFkcz0xIHNsaWNlZF90aHJlYWRzPTAgbnI9MCBkZWNpbWF0ZT0xIGludGVybGFj\n",
       "ZWQ9MCBibHVyYXlfY29tcGF0PTAgY29uc3RyYWluZWRfaW50cmE9MCBiZnJhbWVzPTMgYl9weXJh\n",
       "bWlkPTIgYl9hZGFwdD0xIGJfYmlhcz0wIGRpcmVjdD0xIHdlaWdodGI9MSBvcGVuX2dvcD0wIHdl\n",
       "aWdodHA9MiBrZXlpbnQ9MjUwIGtleWludF9taW49MTAgc2NlbmVjdXQ9NDAgaW50cmFfcmVmcmVz\n",
       "aD0wIHJjX2xvb2thaGVhZD00MCByYz1jcmYgbWJ0cmVlPTEgY3JmPTIzLjAgcWNvbXA9MC42MCBx\n",
       "cG1pbj0wIHFwbWF4PTY5IHFwc3RlcD00IGlwX3JhdGlvPTEuNDAgYXE9MToxLjAwAIAAAAvjZYiE\n",
       "ABH//veIHzLLafk613IR560urR9Q7kZxXqS9/iAAAAMAFpyZQ/thx05aw0AARbX/wWH/EBLod4Q+\n",
       "dEX5hVkiZFWhw4guhBIDt9yUTxsLJ774e8gT8VEGjMGlSAA508C9IAwN3ed798oncPAo5aVLV65U\n",
       "jE6L0v6H/sDF813+6f+VTOhVkJFh47c5ahiGQDdf8rdJ4pCSggpoPIMuRaLF6I/rL93nt8BmcL+j\n",
       "aUnNkaSud46QdR1DvV0mXkwbBvzReBw/X/r6Vx+KrRcWLheW+lzQyq25uZY9BxAPrSMa6tkT6Kyb\n",
       "WoLCeMVuy3PMncRQyjzbKN7HkDHZEZfmD4Dk07556eYKz6mwznY6XZGUaOW/Io1Z4T/b6/aQAZqE\n",
       "8u2DA1JF1F4r0MJBBQPXjuUcdnWbQ1y3jF2s4vAVZwv0pquLVSt8VT5qeIav/nZPeFRo7cG+LnH0\n",
       "FMAowjqqjvxFRgNmRjVSK1/JYkIfFtiW2D+5rsjubByZ8IgwP5vZNxNFU7j4QqWPxjUxXdLtxPJZ\n",
       "2E1UHO+xeCfuXW4/8+mOyxC3I8ICG/H0SWa2Yi6sQ/7y6u6XuMbxf9pib5g3ddCfpLIzoEi0JXxp\n",
       "1rRAba6+AbExDLpjUpr/EdAZv+9cuS7FruvhRxEuwpITDv/84jK0WX0ZsNru8SezClJbTDssCofR\n",
       "Xw7XcniD5LN2tmyHXzLdPK27MdTHrmcojMdTv49GeHbVC9ZpuZkCuopTkcz4Ap54eY1QwAj7e1dz\n",
       "MySXxysvwyGi5JH7asNyM0ynJiSvWtYwcR9lvRd9qIXgV0f1qotBaDv5v+Fu+j1/96eVHB1YKt9d\n",
       "c9KW6EVWmD4XVBmVJACYY46vWmgmqDhaPbxe52hq4UUgNY655bI+A0NYX4GR8mHpmtTLGWtV4oZi\n",
       "tnbA76QgyFtWvTy9ACwDUb2uJK/Ts6HqYIQdLj4TqTh6s0YDWOiyoALath/uM2Hizfm0rerjDdWv\n",
       "mMTcNdnW/k+x67J0OYUGmnmRvCrUCIwBFs9rHS+fip2fnZIjgALG3fIPOBtybntEW1bbxYSQl2UL\n",
       "jBhOZGZXWLrpzGKLPGpL1Rzjw8eHYWvsxhD1m5IEIdnNL0oN90I0P7xPsWMsbbopzgZ2OWLa8BTh\n",
       "J0M1wrmkWTPiVpKjHyK42ZcesgyjWrVK8LHQRtiRN7vGIpsEdFS6fuJpa7ULzjRY6BqGD7QfAfnf\n",
       "hYuhoib/EKYjtI+2eJGgAqSjOXlNVc83HDecMijGwGjkUaJv39zxO2o4ZegXRyfoCYe1sOV1jRFK\n",
       "6s9XWD80buACtKPb5WGA3JzvVPUrUA9flpe85NER+qwbDfk0RJC5gO6yeVxqUptE/OTT0U6e9cys\n",
       "Mz2f5rw4r5u3PUfEHovPEvhajWTG2GADNySEVAcyU7WXe5zxPP9YBPrrz4SQmo8/L7Ywa86FGheH\n",
       "VV54aO+7IAASSUU7nLcxsgAAn7jrz7efYGT8z1reddWdmHT6orun9AIBAefBTfP/bgadP94Kg/b9\n",
       "ezORKiFTO9sZX90g1pnxQ1XFDFV9TqGf+hB8H1aqZsiROd6CJo7fCPd4oZVUW7x47/XCsYzYoCrG\n",
       "RfbdsCujeN8GvIGl50kBg5krKe531i/VRhI6F1O/BSbm86Q0qI2xOzpvfOYmeCOqDGR5FTHJLJBG\n",
       "faN/XSYrNl8M/80hFXGZhroIVcKB1AAAAwA6dp6Qk5/D9eq/JhfZ+/sCvHYtRJzBNqu66WwbfPo9\n",
       "6LH9an6+lsXSBBimbFnLtgkOnuEl9aDvG2RUOCLd1hH3sgbghw2eP01RxZwilLB4j7U0JjZ30Qpl\n",
       "KzygUkmI6OIOojXu8RetEkX4Nk8kgDr7S+2p7dEe4Z5EwAN1QWGn6ps2OxHg91q1ek7vE7miM5jd\n",
       "wkdKMKWjevTO/G1ZlpXz+dtLbWwVGZZ38F+1E2DH0Y0/VM9K10UV50K7puu5oO6EbG+GHipBprJ0\n",
       "kAc3dgK1N1uzvzlbY8c8UMz2tWYM3+ZXZj13Srf4GhwgM1bUXpKIjqW3fvKfYMTAHhtuMqLQ1iv2\n",
       "PewGKKVaXwXH6xX9Hk5v9Ou/BCNpR4i+lkUzjqJfOk5O3APjrdUiOZZFYOP+2IzXPrhDNguWce2u\n",
       "Y2vtry0dbvHU0Nla5XvC1tcSraN7zDNGYeL423u8a12EEvJL+t78K58o00JrAdnlS+fyamFLRLl/\n",
       "WgJYon/j8OaxNiQHYuMghmSebsIJJ427WnszvTYlMujh4tQIRYEGDUKRlHrWu3+TcIusnI+dpOkf\n",
       "2i4WNs4Xwxd8/npd1YJoRo87+uFUiKf+M6fhN7ODJSUOxfC7QIxibL9RBnX/ZZ2Vp+MY+OsfcRu+\n",
       "ATMrsTzkPkA9agQL03ANM85m4FtEiVzyRXP5y/HLosN1MlxN5RLgTo3Dea0peyJ65n2bMAZH5m9u\n",
       "jBYdfaiUgmQ/bhBZrWCY+cPg2uorSBgJ042fLomkptv6o0jYvGFdp/R3S5zKUR5GOV/Q+ejAvJrf\n",
       "XWpP83R55zNVlrbPBoxlHrfI/HIxED7bVgvgZ43FMk6Hxub/Bb4mFCOmw7VksKwYB14UdXdGy8nV\n",
       "Igbn5aoNXxbYx9HksPMvYm6W+omWR7zmGmjAxNyPEDZ19fE1m7UGHKdFbBR8gdDbEIW9JL3mXM5i\n",
       "sKN1OwQG1EUIb4HWACNqEgjJasRfwohGjkuRGlRhk0qKCGP/H8rtWcaE8gCpQ2OaCAk2LOOMuFMW\n",
       "Iq2qiE8lxEktDMXg+tMhGCVDqn1m80cMgpVJGbfMF+wjt1y5xj2qB6LuQHLBTau8T/KR8y54r4pT\n",
       "08QW/j8PZRvoXwxe64OBU9EWC0Nwqxec7ncFqQs/o56Jdf//3QJF7rvsIJ5YDRjt2aUtHVWwvsNP\n",
       "z/7wUzBEX579QE0vh/TbwPgV1Iuhyb5pyu/AbsdxDzeCGZHzYsdw3v9rLSr4t0AzyEtwvr+SxvHN\n",
       "XK2ekL05/bTVU85p1DUDQZg10nf8ZmA0Ed5R7SLKm9i4vugiWLholR7nL81d6yLvg1KAwhF+OwrW\n",
       "YzmBxjhmYIySo93Y+cUMIc7kiyCEzIQMQzIozi0C21qtLJYD0nlv0i4Co/9Bl49dbc+NW/U9gYWg\n",
       "He152WLc6w9PTSl2XPcdjPzdO/8sFI8S00wMG4nvPhtEvQSkY93T0wTCPNbUARxWFGdIdX7wz7hZ\n",
       "Gpk7cIdrqFr+Xm5Cldc+ZgaheznPqHkGVT0BRkHb98c0rAffsyZKFBpKkL7hpbhP/sZpwx4HzTZ1\n",
       "eNzBO0xZiddOruXD/tTfSLr8ddWLXM35qXIIvkeVKomzM49mKYoXoRsAa9ZuAmQ15gQ0fwl0GYGO\n",
       "RkujcX5vgUX2/Y7oajRQjBSiTQyDyPTylj3TFZDKIeTqmc+NiOggrdD+a8Ww41Eb8o5aWHfayxnG\n",
       "9OtKKdzkVBK4akg1LutgsY4PVvYDno6fb5izXVdNVXOVn8VY+drGeInbSYMfa88KzRqg/VPntRiG\n",
       "x/Q25DjBPxw+evrnF1x3DKFgqdKRGMVcldi29LLmHYrcWq24Aon8duj9S9gHlR7xYOhlsuW1Z3BD\n",
       "5O/pksd4Ot8OtTrcLGQgrWnmfnRHuQ7QVYpimkg0MbkrajjDyUOe/eTVSk/PvH3aP2kpOigxWPDj\n",
       "MTI8VKa5nB4vnjhgfDIZnN/1nH1J6O2Vu0pmUPdYbpkugZ5byx/U1MtL1jfVPZpRULJAm8THmHwl\n",
       "olkiH+1w2MwP3R4BRW18D45IfUm+b0fB+vitKJR6fldHRvxTa60g9YzJSovEtw1aGfOrvtRfUrnn\n",
       "KUbvhiuW4uGDUu6hwb9Y2+IIanfMMJ5dKG3wbnGNC0VOCqVj5ns6qFv51p0c29NMwtqDLl/mF4LS\n",
       "scU+1nA9MOyi/SzPO81PnYioaK2z69XNZSI0LpdbfnrMUdn0zhUqPYYDSMoYlgUVIomXcSYz7+5N\n",
       "w9PcpSrqYUAAvlVsJukR470rg1Tmy064ZoLv7ciJGBJ9QuRhN5fSA0iMGVd5TNXRSpVYGuq/Y3o3\n",
       "ch3qnYZiLOZt4GTpdwAAAwATUQAAAg5BmiJsQR/+tSqAEoZDwAOWfPQMQXrLl7/VvXJjP/L7s+Di\n",
       "RSBUfR10T0/1SrpR8Y0fXCsSaSq8dqKjIBRWHev6GP8UAVcEQT/etSXC8TduYiymG9/lpR5rQYzx\n",
       "1P3bOoPxrQN0DYkWClLEmwGxONk+jyZgJ2VwnGZC+Ft8P/vboJSywhL6cPQmWSzCAg/4S4w+5Fkz\n",
       "A/8yJ82raVQ4IUccNIQDaVzImotsvYg0k9I6+yafjmEcoAP4h8+76n8w0bd8D44irwKKd/WElWCU\n",
       "afTykU7/E3oBzOfKuZJnsXElAsAsiXy+PqyAnNbUt5eizpCjgS9vo3EEyrJSfaFO9haHUtdJvMOl\n",
       "5Qyp7bmTbOAvWP6kcuJkIHBBSl2oqP+Bq3eaaTlBxhVK8flhTvlbHtkCV1WmdUqu4NYs4wUuBNYF\n",
       "j/lUJ/4f7+wHoTlLX9j2PAQ5+eoiRCjC9mxY/v2A9olZ1cuDws86OJZq4kS/QIkOizSXACXCYTXM\n",
       "M4q5yyyswNeE7tORuXEfZ8op6dYNObjl52UwEye4KCUYieAo7iJAZ8Mj4L2IJ9cBW4q6AL/J1sm9\n",
       "rfKl2PzxSGbtOe0R1SxYjY5qQ2h6rxZqrg/bg89z+Ss7Ct+SOWL8MHJ07ffLUg/lK5gfIYeo5D4v\n",
       "528X5EJmMYp9ZW5ervaw1fkuow1X3tYWEfSQOOe2n5OtY3tgAAAApQGeQXkN/wBm0bK4AObLC93K\n",
       "fpw98Z8FJvn2h70wHxuOS6apl0fp+MGro4ZnGEfTLu+AMRDIPrm5KG3pqVCQdYEsQxz2rE1LamZL\n",
       "F2DvWXrWE1Ni8OWn32CBlYTje94vB197Osjdwuoq0VmLgvX30CtpBk2nkOpwVQeFst3xS3Jlm250\n",
       "qhPxZjA089i3tpv0DsC1G5bGEFh/3NG4faCGs5fZpc2VIQAAATVBmkU8IZMphBH//rUqgBKD3RAA\n",
       "vx89AxBesuXv9W9cmM/8uHfIfZlA9jxoRBi0S8tp9EQ3c/xHWGUeCzxMJLFSXNALk2HDfLujk9iU\n",
       "g/1f2xegQ/AjfxzNLmO9qcPQmjG6zlSJNKUPs39QrwNGT4Qv3o33Wsr/18h/N0zY/s8LWmV/ZFY+\n",
       "ws2lRlYSCW4nLQftnFMrUBD4/q6bg/bWXhm5/8kfloG5wSkblDZOm2awJ3fJzR5rTecpcwY93+Wi\n",
       "KP/zfMpw3eUcuz2n1dX5nFcdUQ0FoDVuCzx4zvQDS3n7OdF0cfX9nFKSzz+lqnJmvXAzrgYJVa7C\n",
       "XhUd0MdKDX/jL+PP9hnfysbdnPMSV0nG1l61ujsnEsBZkXLdnzx8/r84qmw/WORD/cyI5r7QipaJ\n",
       "q13zobEAAACrQZ5jalPDfwBmwEKJArm6DTP868GWn5ApGINHKonnbQm5lVP3T9eCy5/7UYR6AFq2\n",
       "2t8qC6AU0+2dqmK+XRumzE3KDOnFbosDFSdxiJ6ydDvWR6fYSM+NHLOZHw81KKqkdOXf7QfhMdq9\n",
       "t/A6XHxzZ3UFdnQvS8836wA5Hzva9i4Q7tftNXvvK/ToKjDUmEfRYldYTjKePcJZf2aBsnNyblBn\n",
       "qLI5MMmGsOLpAAAAmAGehGpDfwBUHocuzMe8YLWDeLgxnwHGpsiMZ4xH5wXal3ufYmUMZMADjSWK\n",
       "gPFj4De6goUWzTtuf8eqnqipABKR6zEjmYlZEQyznwyoQ91tjjXTQkNYFNt5J+5mf//QKKWH2vjM\n",
       "qS3D3icvprzNqwHeYFviemTADQ7fttPve6MTlSiwIfAQ3AAdgLzK1Zud+nMHvhtqThChAAABPkGa\n",
       "iUmoQWiZTAgj//61KoAApPg0ik1cAH0g+78Lc/OHe/pOhQHrWNNL/YokoEPTR3PPUNjQn0aEZfVv\n",
       "le6//FZ+nz+sMmc2vBTJR+zF5ozlz0V88EJgf+5JF/9KTg/QfE4OVgK8GlN/krVrHdDSvv8g3V6n\n",
       "Mrw0Wc2emzGwhEuvdb1AdJWb9lFwYyGAK/bU38P8G5pgPPvdUnkCDzb0EHOvDkGksEZ7D7/ASHEm\n",
       "K8go0Q+nYiKyO4ouKDXVfRumo/M4dvB9Irim8AMwzmepoxWJwABp5gzD6v+CcSWUL9sj9/Rqrrb/\n",
       "JWTPmuz6XpmDY7IKn1uO4PEOM8pg+rAb75k3fPTVfFkD/L4NShR5gsdvFxJiFsJWFMYKW3j26gXW\n",
       "uMP8jLuy6QGDSECvt2b9yQ4351eR2HkOkMw361w6wQAAAH5BnqdFESw7/wA6ZGpuAtO41hWT+Q41\n",
       "Ccst8/f879JG0JVEAblnTFbZYc47KADV9tCV8FCIppmBRfWdLprq/ObgqqXQNg+55EsxijpIMVJC\n",
       "BFG9Zbid3Cl7ZC2QM10egcGc5CcnB6bOLa+wcOaPEO4bHgXMP4MxoLEbgJU990kAAAB2AZ7GdEN/\n",
       "AFQO/K0XAWp3afbGibFXWRMPVNzJdLJMR9OoW3OusJ1qOC/ACMdtb+ukAWFMmvOCb6PM2/UF29+6\n",
       "r4L0/4mSqz+GrWnSu31NNRP83oZGZj7TPMxpjV1YAuHfnENO4nvkeeL37WswKL6qcZFqlwe1YAAA\n",
       "AFgBnshqQ38AVB6HLszHvCEYm6Tphk6GQAC4cFRWMIFBumZ5TAS5GuWqdd5KfhEshuJa1JPUzOJ9\n",
       "5cv7aq0x9zxx8ArETQF+29jJ08qJErX8zMi6ARkdd4qIAAAA2EGazUmoQWyZTAgj//61KoAAlB59\n",
       "rqvityWAC12Z5zR7JFW1S/RmLeK7H8rplJFOqJ+lgbOiILTwr0fjgsxNeA6eBt//88rmeY/Fzq3J\n",
       "bX/uJ4s0glUIgtKgER69rdWCVH/8Qj254Qi62X62PyzHg8+lVqoRim+X8Y6jmYix3V3+gwT46U+V\n",
       "8AYTYYtVwYHZkj75r4F0agAq/s86Li+zLs/n//Fun18qSvRyHG8ZVNw5CJYpwwn4G9gxoRCEG+xa\n",
       "9f0qMJWC/IkuO/jxJ+lNPKk2y4DKbm1SsQAAAF5BnutFFSw7/wA6ZGpuAtO5wAdJdIEzldeb9YeS\n",
       "QVABcF5gzafXgqc5ZsMHhw6HCZVxXyjIijKfY7fZRsfVMuCr/rKyu7cB5MQVcYvLtcQwHxor7gjE\n",
       "HsHJlfkXR4IkAAAAXAGfCnRDfwBUDvytFwFqgP3s75O4NT90pPg3P7EBD+gAFtJTR2jhmJ7cm0Lh\n",
       "YHzgKhyJ9dS2nOOI1bQRuuOJEA57XvNhYTHYFK0V6G5Snl+t9n7N9Ob25RpiyV2YAAAATwGfDGpD\n",
       "fwBUHocuzMgiEvYb0Z8AGl4mjiWZNn0S79troeCeHrImdiZqRxNjEeQ7dUM3+AV1BocfwSA+QddK\n",
       "llz1K1TcfcEppz0PgOnS7ZkAAABsQZsRSahBbJlMCCP//rUqgACk7GHghnlo2oAScsrjv9vWsEOr\n",
       "fCyextlvBm9EqEt7nCK0nNAi0muGrn9TmUfZz8oGgGHOkMmgbzqd3A9KU4ZU3VysyR1ohFL+Wx/y\n",
       "9Mk1UyXp2P1zEvBV6tddAAAASkGfL0UVLDv/ADpkam4C08Lha36uALSduX3u1Z4TlWzUQACAwSMk\n",
       "5TUzPImPZLJ2Fo+a7eWFRw/lIsMdkviGwaFsmzSb9kwK2bOpAAAATAGfTnRDfwBUDvytFwJxChUM\n",
       "QsALT0Jo5GELIBAcEjYZzSKO3ckTzCuDI7UHA8hU06dsYoMSQjnX4Cc+FJoAS2t7YzBuhwD3hf/l\n",
       "/68AAABMAZ9QakN/AFQehy7MyCLysi2S4AHC4+d0UsDtt3z8ZXHAIrdQ/v6Y27X/dnK9fYcpyz1x\n",
       "YYovS2eTNfwgZ+3BO6h5jqStqQkN5fBhAwAAAEBBm1VJqEFsmUwII//+tSqAAFKNj3sR96qa0pbh\n",
       "GKACTwRLC5yj+wdGe5NKxXyGftTZzvSjfxrz3yg5bCikzhGBAAAAJkGfc0UVLDv/ADpkam4C06d+\n",
       "ljiAclvc4d3PqrRh0poB3OFXsWEVAAAANAGfknRDfwBUDvytFwJ12iyADZwAKp1tllWzJrI5d3eg\n",
       "ek90cp+VaMXxraEKn91h2WS8ELAAAAA9AZ+UakN/AFQehy7MyCITFhPWLwAaXiaOJZk2gn7wYGAY\n",
       "Yof1X/F2ZeH6WmccNTZqogrU5Ca3GOWxd9PLaQAAADZBm5lJqEFsmUwII//+tSqAAEoem0NQAH4F\n",
       "jZlto3iSovEiq/ag2pguJutw0bzo1Tc3+pAuKtQAAAAkQZ+3RRUsO/8AOmRqbgLTp36WOICDYQi8\n",
       "plYyEtw9/SEWbcWxAAAAKgGf1nRDfwBUDvytFwJ12hT4AsALVbPRmeZlzTXwgPEj6Bts8BOi/Hr5\n",
       "bQAAAC8Bn9hqQ38AVB6HLszIIhMKaCFgBarZ6Mzi4h7d9Dg8W14G7Cd7+P7njuOSCtpW0AAAAJhB\n",
       "m91JqEFsmUwII//+tSqAAUopHIAWweD21N22Lr9xOTkopclnugZptqBa0+eRVLMwjRvawf+r/4LH\n",
       "0j4XNxQi1Y0uVELYPzFlRkSxukADkyoZM9K/JXqn5s18H9l5qAP90u9NHLGVsuBy1MfDelek2R93\n",
       "IqUuY2L3OSc3jVRqe3Gi6Sd+Dd+3a6VRLcIqHj3dbgxpXpcIOQAAADtBn/tFFSw7/wA6ZGpuAtQd\n",
       "fqf4bAyGW3fWgIDbhBDSG4du1od3Cu4ehY8Axen2c95CSnSx31w54sVFVAAAADIBnhp0Q38AVA78\n",
       "rRcMaZmPIwG8MUEuABw95BY0Ivus/As/xLbsYuehBKADkO+Y9UA3oQAAAEQBnhxqQ38AVB6HLszM\n",
       "RyU4z9DcPt7ycANJJ6M/8R3h4pQLr/DGLDujzcIpwUdojN8hAG5BBtXGWg0mFo6isJyUtLhbQQAA\n",
       "ACBBmh9JqEFsmUwUTBH//rUqgAAlD1QUX5sCPVgfQFOHLAAAAE4Bnj5qQ38AVCYJWAMzD/FBDxAU\n",
       "62S91xaeMANJJ6M1JYDtFp0fuxB2ceSfCLg071PY+255osN/yrFTwWPRc+Oi9i3vgLWLDiRaMPMg\n",
       "yoAAAAA1QZojSeEKUmUwIIf//qpVAACUJwdKQADihBCVp3I+aUzY2QUWUVlGqZzHhRdifUo/4Byq\n",
       "+8EAAAA0QZ5BRTRMO/8AOmIcdIO1t8thrr5JrFfhh6AOKvQB0r3Gf2beG1BmgjCXc6l6/r87OIpV\n",
       "QAAAACMBnmB0Q38AVA78rRcMXIDUmoIGMdY15kOEnsOAkWakGTWQsQAAACYBnmJqQ38AVB6HLszM\n",
       "P8VabRAU62YMXCP0AMRWQnirzrpX/9mW0AAAAE5BmmRJqEFomUwII//+tSqAAUuUnZ1xADbheP24\n",
       "uvo2lKquog3JvfUoGtwVPfVI1KjNX/9iOSJkNGYwGug/SQ3lcYUGvkEj30vYhmA4GuMAAAA4QZqI\n",
       "SeEKUmUwII///rUqgAFLxNsqMQA2T5t1du7rHu8xeuMMQXss7uDzEvVTEnL75bT9o75kcnEAAAAu\n",
       "QZ6mRTRMO/8AOmIcdIO14hIEvDcHQH0m3oF+QXK//7AwCfoOCIiZnT3jgGhuSQAAAFEBnsV0Q38A\n",
       "VA78rRcMav8vABfWybA7U92miIK4z0SLzMv3ZmKdxpbDplfo7IHfhm7ZWStIgk2KS3Cf+K+riRdv\n",
       "iJnPN4g0CLjaxi1JszJyfcEAAABUAZ7HakN/AFQehy7MzEdF3XABfWybA7U92miIK4z0SLzMv3Zm\n",
       "KdxpbDpjAYM/v7v+NRP/RUiCTYpLcJ/4r6uJF2+ImdB2qNkZ5hrQDQ6SCJDcNy2gAAAAfUGazEmo\n",
       "QWiZTAgj//61KoABSfW+YgA3Q89TnA6bF1+47JyUWuSz20rPrI4Gp88iqWZhGje1q/9X/wWPpKPH\n",
       "cL2GrX3WuVEG9znMWVGQum6QANff1bOeOr9U/Nmvg/svNQCC9Br54gEC9lq1BbRXtfipK0ccixoZ\n",
       "8i1sCOTgAAAAKEGe6kURLDv/ADpkam4C1B1+p/huDoPBU4f2n4AhEv2kTGCJ1Rw8+KEAAAAfAZ8J\n",
       "dEN/AFQO/K0XDF/ye8ByxKSGCbmiH/mpCDy2gAAAADIBnwtqQ38AVB6HLszMRyU4z9DzXZ4lqarX\n",
       "hGsSWAncA5IE8fW2OSi+bABLivx/2aMhYAAAAFZBmxBJqEFsmUwII//+tSqAAUn0lx3Ge3/P783P\n",
       "QvXGRG3X/bAA54+fRqEHMb/P1GZmX9759QU6/Gq1TobymWmMGTKoiHOCyZWCsKiKolTfPPBDP2X0\n",
       "gQAAACdBny5FFSw7/wA6ZGpuAtQdwtb9jgDnxVl2kz8iwBjf/Iw/7ECoOI8AAAAtAZ9NdEN/AFQO\n",
       "/K0XDGWBIdTL5zmCX7YpAAW0lNHxHg6s+4w22y/Lt9WmmN6BAAAAJQGfT2pDfwBUHocuzMxFRpbu\n",
       "YZzlcLq+1WujxBAByoguocaA8b0AAAAyQZtTSahBbJlMCCP//rUqgAFJ7AvwADjsYk+NMytDS5UX\n",
       "TS/wCqzufRZzyujZqg/u8+AAAAAjQZ9xRRUsN/8AVCYJWAMzEMVvgQuvTdFM8145nr+zggKQwZkA\n",
       "AAAtAZ+SakN/AFQehy7MzEclOM/Q812eKn7Z/ABuENsxB80fqdjjBPGCsvoEsMb0AAAAOUGbl0mo\n",
       "QWyZTAgj//61KoABSfSXHcZ7f8/vzc9C9cZEbSYABK7PCVrYPmAfBBh4pv8pSRheeR0cHAAAADBB\n",
       "n7VFFSw7/wA6ZGpuAtQdfqf4bg6DwVOG+vc8XQqbCRAYBP0HBERMzp7d6C9NzMEAAAAgAZ/UdEN/\n",
       "AFQO/K0XDGmZjyMZXZ6pJT8xdK3Lh3vshYAAAAAiAZ/WakN/AFQehy7MzEclOM/Q812eJxqxYscT\n",
       "6/DZpLi5bQAAAC1Bm9tJqEFsmUwII//+tSqAAUn0lx3Gga2js5zfl8SWNkabTn7Q16ckJb6jd58A\n",
       "AAAuQZ/5RRUsO/8AOmRqbgLUHX6n+G4Og8FThoaw/UPswoANipQsNbMnnSnQWhB0QAAAAB8Bnhh0\n",
       "Q38AVA78rRcMX/J7wHLEpIYJuaIf+akIPLaBAAAAOQGeGmpDfwBUHocuzMxHJTjP0PNdniWpqtvN\n",
       "EARvYqtsuK3tS64LuczvH+Glr0t6D9Vx1aNEhRUxvQAAADdBmh9JqEFsmUwII//+tSqAAUn0lx3G\n",
       "e3/QKrRMRQ0AAdTM/vbGdj+V0xpkhoM/0YthTMQ3vd59AAAAJ0GePUUVLDv/ADpkam4C1B3C1v2O\n",
       "AOfFWXZ6Z8ryv1fEd4h/ArNG3QAAACkBnlx0Q38AVA78rRcMZYEh1MvnOYKDQAcAVKXfiCjHXwRF\n",
       "hACvQony2gAAAB8Bnl5qQ38AVB6HLszMRUaW7mGc5XC6vtWzwz6EqFltAAAAJEGaQkmoQWyZTAgj\n",
       "//61KoABSeow8aP/hVKPMSRhYGDaCju8+QAAACNBnmBFFSw3/wBUJglYAzMQxW+BC69N0UzzXjme\n",
       "v7OCApDBmAAAACoBnoFqQ38AVB6HLszMRyU4z9DzXZ4ne8m4UliAAuzsMXztYs9j03eX5bUAAAA6\n",
       "QZqGSahBbJlMCCP//rUqgAFJ9Jcdxnt/0Cq0TETvgAldnhK1sNzAPAfr27LRcBvYRgHcIXWxr7vP\n",
       "gAAAACNBnqRFFSw7/wA6ZGpuAtQdfqf4bg6DwVOH96lLS0AwUNYsqwAAAB8BnsN0Q38AVA78rRcM\n",
       "aZmPIxldnqklPzF0rctgOuW1AAAAIgGexWpDfwBUHocuzMxHJTjP0PNdnicasWLHE+vw2aS4uW0A\n",
       "AAAsQZrKSahBbJlMCCP//rUqgAFJ9Jcdxnt/0Cqz3dDNdtlLk08xfjKigOHu8+EAAAAuQZ7oRRUs\n",
       "O/8AOmRqbgLUHX6n+G4Og8FThoaw/UPswoANipQsNbMno8qICtC4EAAAAB8Bnwd0Q38AVA78rRcM\n",
       "X/J7wHLEpIYJuaIf+akIPLaAAAAANwGfCWpDfwBUHocuzMxHJTjP0PNdniWpqtvNEARvYqtsuK3N\n",
       "gJ3AFDneP8NLfgfAZl6dtgrDG9EAAAA3QZsOSahBbJlMCCP//rUqgAFJ9Jcdxnt/0Cq0TEUNAAHU\n",
       "zP72xnY/ldMaZIaDP9GLYUzEN73efAAAACdBnyxFFSw7/wA6ZGpuAtQdwtb9jgDnxVl2emfK8r9X\n",
       "xHeIfwKzRtwAAAApAZ9LdEN/AFQO/K0XDGWBIdTL5zmCg0AHAFSl34gox18ERYQAr0KJ8tsAAAAf\n",
       "AZ9NakN/AFQehy7MzEVGlu5hnOVwur7Vs8M+hKhZbQAAACRBm1FJqEFsmUwII//+tSqAAUnqMPGj\n",
       "/4VSjzEkYWBg2go7vPkAAAAjQZ9vRRUsN/8AVCYJWAMzEMVvgQuvTdFM8145nr+zggKQwZgAAAAq\n",
       "AZ+QakN/AFQehy7MzEclOM/Q812eJ3vJuFJYgALs7DF87WLPY9N3l+W0AAAAOkGblUmoQWyZTAgj\n",
       "//61KoABSfSXHcZ7f9AqtUM48jABK3JaRNCzut6IvxRcohhU7s+daLWgxxkRycEAAAAjQZ+zRRUs\n",
       "O/8AOmRqbgLUHX6n+G4Og8FTh/epS0tAMFDWLKsAAAAfAZ/SdEN/AFQO/K0XDGmZjyMZXZ6pJT8x\n",
       "dK3LYDrltAAAACIBn9RqQ38AVB6HLszMRyU4z9DzXZ4nGrFixxPr8NmkuLltAAAALEGb2UmoQWyZ\n",
       "TAgj//61KoABSfSXHcZ7f9Aqs93QzXbZS5NPMX4yooDh7vPgAAAAKEGf90UVLDv/ADpkam4C1B1+\n",
       "p/huDoPBU4aGsP2ES/pMI889OqNzMQ0AAAAfAZ4WdEN/AFQO/K0XDF/ye8ByxKSGCbmiH/mpCDy2\n",
       "gQAAADIBnhhqQ38AVB6HLszMRyU4z9DzXZ4lqarXhGsSWAncA5IE8fW2OSi+bABLivzetAGN6AAA\n",
       "ADlBmh1JqEFsmUwIIf/+qlUAApQ3Olx6y6nW5y90d5EAILSu3tSv7HUMr769nIp3GUIMFsQwJkih\n",
       "zk8AAAAoQZ47RRUsO/8AOmRqbgLUHcLW/Y4A58VZdnpnyvK/V8R33J3Aa7HQgAAAACMBnlp0Q38A\n",
       "VA78rRcMZYEh1MvnOYKDQAcAVKXp+w2Pw7mN6QAAAB8BnlxqQ38AVB6HLszMRUaW7mGc5XC6vtWz\n",
       "wz55/uQtAAAAI0GaQEmoQWyZTAh///6plgAKCEwREJNKB8s5IgyK+FvVE5ycAAAAI0GefkUVLDf/\n",
       "AFQmCVgDMxDFb4ELr03RTPNeOZ6/s4ICkMGYAAAAJAGen2pDfwBUHocuzMxHJTjP0PNdnid7ybhS\n",
       "WIAh0lXEBF+W0QAAACtBmoJJqEFsmUwUTDf//qeEABPhCvzj+eGAVHruyRmdNRbBQyTBBRzCJzk4\n",
       "AAAAIwGeoWpDfwBUJglYAzMRqpx63oYprc8ong9cGT3GZmgC4FSdAAAHqm1vb3YAAABsbXZoZAAA\n",
       "AAAAAAAAAAAAAAAAA+gAACasAAEAAAEAAAAAAAAAAAAAAAABAAAAAAAAAAAAAAAAAAAAAQAAAAAA\n",
       "AAAAAAAAAAAAQAAAAAAAAAAAAAAAAAAAAAAAAAAAAAAAAAAAAAAAAAIAAAbUdHJhawAAAFx0a2hk\n",
       "AAAAAwAAAAAAAAAAAAAAAQAAAAAAACasAAAAAAAAAAAAAAAAAAAAAAABAAAAAAAAAAAAAAAAAAAA\n",
       "AQAAAAAAAAAAAAAAAAAAQAAAAAGwAAABIAAAAAAAJGVkdHMAAAAcZWxzdAAAAAAAAAABAAAmrAAA\n",
       "CAAAAQAAAAAGTG1kaWEAAAAgbWRoZAAAAAAAAAAAAAAAAAAAKAAAAYwAVcQAAAAAAC1oZGxyAAAA\n",
       "AAAAAAB2aWRlAAAAAAAAAAAAAAAAVmlkZW9IYW5kbGVyAAAABfdtaW5mAAAAFHZtaGQAAAABAAAA\n",
       "AAAAAAAAAAAkZGluZgAAABxkcmVmAAAAAAAAAAEAAAAMdXJsIAAAAAEAAAW3c3RibAAAALNzdHNk\n",
       "AAAAAAAAAAEAAACjYXZjMQAAAAAAAAABAAAAAAAAAAAAAAAAAAAAAAGwASAASAAAAEgAAAAAAAAA\n",
       "AQAAAAAAAAAAAAAAAAAAAAAAAAAAAAAAAAAAAAAAAAAAABj//wAAADFhdmNDAWQAFf/hABhnZAAV\n",
       "rNlBsJaEAAADAAQAAAMAUDxYtlgBAAZo6+PLIsAAAAAcdXVpZGtoQPJfJE/FujmlG88DI/MAAAAA\n",
       "AAAAGHN0dHMAAAAAAAAAAQAAAGMAAAQAAAAAFHN0c3MAAAAAAAAAAQAAAAEAAAMAY3R0cwAAAAAA\n",
       "AABeAAAAAQAACAAAAAABAAAMAAAAAAEAAAQAAAAAAQAAEAAAAAACAAAEAAAAAAEAABQAAAAAAQAA\n",
       "CAAAAAABAAAAAAAAAAEAAAQAAAAAAQAAFAAAAAABAAAIAAAAAAEAAAAAAAAAAQAABAAAAAABAAAU\n",
       "AAAAAAEAAAgAAAAAAQAAAAAAAAABAAAEAAAAAAEAABQAAAAAAQAACAAAAAABAAAAAAAAAAEAAAQA\n",
       "AAAAAQAAFAAAAAABAAAIAAAAAAEAAAAAAAAAAQAABAAAAAABAAAUAAAAAAEAAAgAAAAAAQAAAAAA\n",
       "AAABAAAEAAAAAAEAAAwAAAAAAQAABAAAAAABAAAUAAAAAAEAAAgAAAAAAQAAAAAAAAABAAAEAAAA\n",
       "AAEAAAgAAAAAAQAAFAAAAAABAAAIAAAAAAEAAAAAAAAAAQAABAAAAAABAAAUAAAAAAEAAAgAAAAA\n",
       "AQAAAAAAAAABAAAEAAAAAAEAABQAAAAAAQAACAAAAAABAAAAAAAAAAEAAAQAAAAAAQAAEAAAAAAC\n",
       "AAAEAAAAAAEAABQAAAAAAQAACAAAAAABAAAAAAAAAAEAAAQAAAAAAQAAFAAAAAABAAAIAAAAAAEA\n",
       "AAAAAAAAAQAABAAAAAABAAAUAAAAAAEAAAgAAAAAAQAAAAAAAAABAAAEAAAAAAEAABAAAAAAAgAA\n",
       "BAAAAAABAAAUAAAAAAEAAAgAAAAAAQAAAAAAAAABAAAEAAAAAAEAABQAAAAAAQAACAAAAAABAAAA\n",
       "AAAAAAEAAAQAAAAAAQAAFAAAAAABAAAIAAAAAAEAAAAAAAAAAQAABAAAAAABAAAQAAAAAAIAAAQA\n",
       "AAAAAQAAFAAAAAABAAAIAAAAAAEAAAAAAAAAAQAABAAAAAABAAAUAAAAAAEAAAgAAAAAAQAAAAAA\n",
       "AAABAAAEAAAAAAEAABQAAAAAAQAACAAAAAABAAAAAAAAAAEAAAQAAAAAAQAAEAAAAAACAAAEAAAA\n",
       "AAEAAAwAAAAAAQAABAAAAAAcc3RzYwAAAAAAAAABAAAAAQAAAGMAAAABAAABoHN0c3oAAAAAAAAA\n",
       "AAAAAGMAAA6ZAAACEgAAAKkAAAE5AAAArwAAAJwAAAFCAAAAggAAAHoAAABcAAAA3AAAAGIAAABg\n",
       "AAAAUwAAAHAAAABOAAAAUAAAAFAAAABEAAAAKgAAADgAAABBAAAAOgAAACgAAAAuAAAAMwAAAJwA\n",
       "AAA/AAAANgAAAEgAAAAkAAAAUgAAADkAAAA4AAAAJwAAACoAAABSAAAAPAAAADIAAABVAAAAWAAA\n",
       "AIEAAAAsAAAAIwAAADYAAABaAAAAKwAAADEAAAApAAAANgAAACcAAAAxAAAAPQAAADQAAAAkAAAA\n",
       "JgAAADEAAAAyAAAAIwAAAD0AAAA7AAAAKwAAAC0AAAAjAAAAKAAAACcAAAAuAAAAPgAAACcAAAAj\n",
       "AAAAJgAAADAAAAAyAAAAIwAAADsAAAA7AAAAKwAAAC0AAAAjAAAAKAAAACcAAAAuAAAAPgAAACcA\n",
       "AAAjAAAAJgAAADAAAAAsAAAAIwAAADYAAAA9AAAALAAAACcAAAAjAAAAJwAAACcAAAAoAAAALwAA\n",
       "ACcAAAAUc3RjbwAAAAAAAAABAAAALAAAAGJ1ZHRhAAAAWm1ldGEAAAAAAAAAIWhkbHIAAAAAAAAA\n",
       "AG1kaXJhcHBsAAAAAAAAAAAAAAAALWlsc3QAAAAlqXRvbwAAAB1kYXRhAAAAAQAAAABMYXZmNTcu\n",
       "ODMuMTAw\n",
       "\">\n",
       "  Your browser does not support the video tag.\n",
       "</video>"
      ],
      "text/plain": [
       "<IPython.core.display.HTML object>"
      ]
     },
     "execution_count": 57,
     "metadata": {},
     "output_type": "execute_result"
    },
    {
     "data": {
      "image/png": "[encoded data removed]",
      "text/plain": [
       "<matplotlib.figure.Figure at 0x7f42f2644e80>"
      ]
     },
     "metadata": {},
     "output_type": "display_data"
    }
   ],
   "source": [
    "rewards_l = rewards_list\n",
    "vis_l = visualization_steps\n",
    "\n",
    "anim = create_system_animation(vis_l, sim_iterations)\n",
    "HTML(anim.to_html5_video())"
   ]
  },
  {
   "cell_type": "code",
   "execution_count": 58,
   "metadata": {},
   "outputs": [
    {
     "data": {
      "text/plain": [
       "-10"
      ]
     },
     "execution_count": 58,
     "metadata": {},
     "output_type": "execute_result"
    }
   ],
   "source": [
    "max(-np.inf,-10)"
   ]
  },
  {
   "cell_type": "code",
   "execution_count": 59,
   "metadata": {},
   "outputs": [
    {
     "ename": "KeyError",
     "evalue": "'0011011010010'",
     "output_type": "error",
     "traceback": [
      "\u001b[0;31m---------------------------------------------------------------------------\u001b[0m",
      "\u001b[0;31mKeyError\u001b[0m                                  Traceback (most recent call last)",
      "\u001b[0;32m<ipython-input-59-773aca355ce1>\u001b[0m in \u001b[0;36m<module>\u001b[0;34m()\u001b[0m\n\u001b[0;32m----> 1\u001b[0;31m \u001b[0mQ\u001b[0m\u001b[0;34m[\u001b[0m\u001b[0;34m'001101101'\u001b[0m\u001b[0;34m+\u001b[0m \u001b[0;34m'0010'\u001b[0m\u001b[0;34m]\u001b[0m\u001b[0;34m\u001b[0m\u001b[0m\n\u001b[0m",
      "\u001b[0;31mKeyError\u001b[0m: '0011011010010'"
     ]
    }
   ],
   "source": [
    "Q['001101101'+ '0010']\n"
   ]
  },
  {
   "cell_type": "code",
   "execution_count": null,
   "metadata": {},
   "outputs": [],
   "source": [
    "plt.plot([i for i in range(len(rewards_list))],rewards_list)\n",
    "plt.show()"
   ]
  },
  {
   "cell_type": "code",
   "execution_count": null,
   "metadata": {},
   "outputs": [],
   "source": [
    "Q\n"
   ]
  },
  {
   "cell_type": "code",
   "execution_count": null,
   "metadata": {
    "collapsed": true
   },
   "outputs": [],
   "source": [
    "a = -np.inf"
   ]
  },
  {
   "cell_type": "code",
   "execution_count": null,
   "metadata": {},
   "outputs": [],
   "source": [
    "a == -np.inf"
   ]
  },
  {
   "cell_type": "code",
   "execution_count": null,
   "metadata": {},
   "outputs": [],
   "source": [
    "len([key for key in list(Q) if key.startswith(s0)])"
   ]
  },
  {
   "cell_type": "code",
   "execution_count": null,
   "metadata": {},
   "outputs": [],
   "source": [
    "list(Q)"
   ]
  },
  {
   "cell_type": "code",
   "execution_count": null,
   "metadata": {
    "collapsed": true
   },
   "outputs": [],
   "source": []
  }
 ],
 "metadata": {
  "kernelspec": {
   "display_name": "Python 3",
   "language": "python",
   "name": "python3"
  },
  "language_info": {
   "codemirror_mode": {
    "name": "ipython",
    "version": 3
   },
   "file_extension": ".py",
   "mimetype": "text/x-python",
   "name": "python",
   "nbconvert_exporter": "python",
   "pygments_lexer": "ipython3",
   "version": "3.6.3"
  },
  "toc": {
   "nav_menu": {},
   "number_sections": true,
   "sideBar": true,
   "skip_h1_title": false,
   "title_cell": "Table of Contents",
   "title_sidebar": "Contents",
   "toc_cell": false,
   "toc_position": {},
   "toc_section_display": true,
   "toc_window_display": false
  }
 },
 "nbformat": 4,
 "nbformat_minor": 2
}
