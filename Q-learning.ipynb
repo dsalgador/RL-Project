{
 "cells": [
  {
   "cell_type": "code",
   "execution_count": 1,
   "metadata": {
    "collapsed": true
   },
   "outputs": [],
   "source": [
    "import model\n",
    "import numpy as np\n",
    "import random\n",
    "from utils import simple_graph\n",
    "import tank\n",
    "import truck\n",
    "\n",
    "\n",
    "import matplotlib.pyplot as plt\n",
    "from matplotlib import animation, rc\n",
    "from IPython.display import HTML"
   ]
  },
  {
   "cell_type": "code",
   "execution_count": 2,
   "metadata": {
    "collapsed": true
   },
   "outputs": [],
   "source": [
    "# Tanks' information\n",
    "n = 5 \n",
    "tank_ids = list(range(1,n+1))\n",
    "tank_max_loads =  np.array([100., 100., 200., 300., 400.])\n",
    "tank_current_loads =  np.array([50., 60., 120., 150., 300.])\n",
    "tank_consumption_rates =  np.array([10.] * n)\n",
    "\n",
    "n_discrete_load_levels = np.array([5,5,10,10,10])\n",
    "\n",
    "# Trucks' information\n",
    "k = 2\n",
    "truck_ids = list(range(k))\n",
    "truck_max_loads = np.array([20., 50.])\n",
    "truck_current_loads = truck_max_loads.copy()\n",
    "truck_current_positions =  np.array([0] * k)\n",
    "#truck_fractions_deliverable =  np.array([1.] * k) # we for now we only allow to deliver all the content of the truck\n",
    "truck_fractions_deliverable =  np.array([ np.array([0.5, 1.]), \n",
    "                                          np.array([0.5, 1.])\n",
    "                                        ]) # we for now we only allow to deliver all the content of the truck\n",
    "n_discrete_load_levels_trucks = np.array([2,2])\n",
    "\n",
    "# System's information\n",
    "def simple_graph(n: int):    \n",
    "    A = np.zeros((n,n))\n",
    "    A[0,0:n] = 1\n",
    "    A = A.astype(int)\n",
    "    return(A)\n",
    "\n",
    "graph = simple_graph(n+1)\n",
    "tanks = [tank.Tank( tank_id, current_load, max_load, consumption_rate, n_lvls) \n",
    "         for  tank_id, current_load, max_load, consumption_rate, n_lvls in \n",
    "         zip( tank_ids, tank_current_loads, tank_max_loads, tank_consumption_rates, n_discrete_load_levels)]\n",
    "trucks = [truck.Truck( truck_id, current_load, max_load, current_position, load_fractions_deliverable, n_lvls) \n",
    "         for  truck_id, current_load, max_load, current_position, load_fractions_deliverable, n_lvls in \n",
    "         zip(truck_ids, truck_current_loads, truck_max_loads, truck_current_positions, \n",
    "             truck_fractions_deliverable, n_discrete_load_levels_trucks)]\n",
    "\n",
    "def simple_weights(n: int, w: float):    \n",
    "    W = np.full((n,n), np.inf)\n",
    "    W[0,:] = w\n",
    "    return(W)\n",
    "w =  np.array([0, 20., 10., 30., 50.5, 45.])\n",
    "\n",
    "weights_matrix = simple_weights(n+1, w)\n",
    "\n",
    "\n"
   ]
  },
  {
   "cell_type": "code",
   "execution_count": 3,
   "metadata": {
    "collapsed": true
   },
   "outputs": [],
   "source": [
    "toy_system = model.System(tanks = tanks, trucks = trucks, adjacency_matrix = graph, weights_matrix = weights_matrix)"
   ]
  },
  {
   "cell_type": "code",
   "execution_count": 4,
   "metadata": {},
   "outputs": [
    {
     "name": "stdout",
     "output_type": "stream",
     "text": [
      "self.trucks [<truck.Truck object at 0x7f9bef455eb8>, <truck.Truck object at 0x7f9bef455ef0>]\n",
      "Final rewards:  -120.0\n",
      "self.trucks [<truck.Truck object at 0x7f9bef455eb8>, <truck.Truck object at 0x7f9bef455ef0>]\n",
      "Final rewards:  -55.0\n",
      "self.trucks [<truck.Truck object at 0x7f9bef455eb8>, <truck.Truck object at 0x7f9bef455ef0>]\n",
      "Final rewards:  -150.5\n",
      "self.trucks [<truck.Truck object at 0x7f9bef455eb8>, <truck.Truck object at 0x7f9bef455ef0>]\n",
      "Final rewards:  -110.0\n",
      "self.trucks [<truck.Truck object at 0x7f9bef455eb8>, <truck.Truck object at 0x7f9bef455ef0>]\n",
      "Final rewards:  -130.5\n",
      "self.trucks [<truck.Truck object at 0x7f9bef455eb8>, <truck.Truck object at 0x7f9bef455ef0>]\n",
      "Final rewards:  -65.0\n",
      "self.trucks [<truck.Truck object at 0x7f9bef455eb8>, <truck.Truck object at 0x7f9bef455ef0>]\n",
      "Final rewards:  -70.0\n",
      "self.trucks [<truck.Truck object at 0x7f9bef455eb8>, <truck.Truck object at 0x7f9bef455ef0>]\n",
      "Final rewards:  -75.0\n",
      "self.trucks [<truck.Truck object at 0x7f9bef455eb8>, <truck.Truck object at 0x7f9bef455ef0>]\n",
      "Final rewards:  -inf\n",
      "self.trucks [<truck.Truck object at 0x7f9bef455eb8>, <truck.Truck object at 0x7f9bef455ef0>]\n",
      "Final rewards:  -inf\n",
      "self.trucks [<truck.Truck object at 0x7f9bef455eb8>, <truck.Truck object at 0x7f9bef455ef0>]\n",
      "Final rewards:  -inf\n",
      "self.trucks [<truck.Truck object at 0x7f9bef455eb8>, <truck.Truck object at 0x7f9bef455ef0>]\n",
      "Final rewards:  -inf\n",
      "self.trucks [<truck.Truck object at 0x7f9bef455eb8>, <truck.Truck object at 0x7f9bef455ef0>]\n",
      "Final rewards:  -inf\n",
      "self.trucks [<truck.Truck object at 0x7f9bef455eb8>, <truck.Truck object at 0x7f9bef455ef0>]\n",
      "Final rewards:  -inf\n",
      "self.trucks [<truck.Truck object at 0x7f9bef455eb8>, <truck.Truck object at 0x7f9bef455ef0>]\n",
      "Final rewards:  -inf\n",
      "self.trucks [<truck.Truck object at 0x7f9bef455eb8>, <truck.Truck object at 0x7f9bef455ef0>]\n",
      "Final rewards:  -inf\n",
      "self.trucks [<truck.Truck object at 0x7f9bef455eb8>, <truck.Truck object at 0x7f9bef455ef0>]\n",
      "Final rewards:  -inf\n",
      "self.trucks [<truck.Truck object at 0x7f9bef455eb8>, <truck.Truck object at 0x7f9bef455ef0>]\n",
      "Final rewards:  -inf\n",
      "self.trucks [<truck.Truck object at 0x7f9bef455eb8>, <truck.Truck object at 0x7f9bef455ef0>]\n",
      "Final rewards:  -inf\n",
      "self.trucks [<truck.Truck object at 0x7f9bef455eb8>, <truck.Truck object at 0x7f9bef455ef0>]\n",
      "Final rewards:  -inf\n",
      "self.trucks [<truck.Truck object at 0x7f9bef455eb8>, <truck.Truck object at 0x7f9bef455ef0>]\n",
      "Final rewards:  -inf\n",
      "self.trucks [<truck.Truck object at 0x7f9bef455eb8>, <truck.Truck object at 0x7f9bef455ef0>]\n",
      "Final rewards:  -inf\n",
      "self.trucks [<truck.Truck object at 0x7f9bef455eb8>, <truck.Truck object at 0x7f9bef455ef0>]\n",
      "Final rewards:  -inf\n",
      "self.trucks [<truck.Truck object at 0x7f9bef455eb8>, <truck.Truck object at 0x7f9bef455ef0>]\n",
      "Final rewards:  -inf\n",
      "self.trucks [<truck.Truck object at 0x7f9bef455eb8>, <truck.Truck object at 0x7f9bef455ef0>]\n",
      "Final rewards:  -inf\n",
      "self.trucks [<truck.Truck object at 0x7f9bef455eb8>, <truck.Truck object at 0x7f9bef455ef0>]\n",
      "Final rewards:  -inf\n",
      "self.trucks [<truck.Truck object at 0x7f9bef455eb8>, <truck.Truck object at 0x7f9bef455ef0>]\n",
      "Final rewards:  -inf\n",
      "self.trucks [<truck.Truck object at 0x7f9bef455eb8>, <truck.Truck object at 0x7f9bef455ef0>]\n",
      "Final rewards:  -inf\n",
      "self.trucks [<truck.Truck object at 0x7f9bef455eb8>, <truck.Truck object at 0x7f9bef455ef0>]\n",
      "Final rewards:  -inf\n",
      "self.trucks [<truck.Truck object at 0x7f9bef455eb8>, <truck.Truck object at 0x7f9bef455ef0>]\n",
      "Final rewards:  -inf\n",
      "self.trucks [<truck.Truck object at 0x7f9bef455eb8>, <truck.Truck object at 0x7f9bef455ef0>]\n",
      "Final rewards:  -inf\n",
      "self.trucks [<truck.Truck object at 0x7f9bef455eb8>, <truck.Truck object at 0x7f9bef455ef0>]\n",
      "Final rewards:  -inf\n",
      "self.trucks [<truck.Truck object at 0x7f9bef455eb8>, <truck.Truck object at 0x7f9bef455ef0>]\n",
      "Final rewards:  -inf\n",
      "self.trucks [<truck.Truck object at 0x7f9bef455eb8>, <truck.Truck object at 0x7f9bef455ef0>]\n",
      "Final rewards:  -inf\n",
      "self.trucks [<truck.Truck object at 0x7f9bef455eb8>, <truck.Truck object at 0x7f9bef455ef0>]\n",
      "Final rewards:  -inf\n",
      "self.trucks [<truck.Truck object at 0x7f9bef455eb8>, <truck.Truck object at 0x7f9bef455ef0>]\n",
      "Final rewards:  -inf\n",
      "self.trucks [<truck.Truck object at 0x7f9bef455eb8>, <truck.Truck object at 0x7f9bef455ef0>]\n",
      "Final rewards:  -inf\n",
      "self.trucks [<truck.Truck object at 0x7f9bef455eb8>, <truck.Truck object at 0x7f9bef455ef0>]\n",
      "Final rewards:  -inf\n",
      "self.trucks [<truck.Truck object at 0x7f9bef455eb8>, <truck.Truck object at 0x7f9bef455ef0>]\n",
      "Final rewards:  -inf\n",
      "self.trucks [<truck.Truck object at 0x7f9bef455eb8>, <truck.Truck object at 0x7f9bef455ef0>]\n",
      "Final rewards:  -inf\n",
      "self.trucks [<truck.Truck object at 0x7f9bef455eb8>, <truck.Truck object at 0x7f9bef455ef0>]\n",
      "Final rewards:  -inf\n",
      "self.trucks [<truck.Truck object at 0x7f9bef455eb8>, <truck.Truck object at 0x7f9bef455ef0>]\n",
      "Final rewards:  -inf\n",
      "self.trucks [<truck.Truck object at 0x7f9bef455eb8>, <truck.Truck object at 0x7f9bef455ef0>]\n",
      "Final rewards:  -inf\n",
      "self.trucks [<truck.Truck object at 0x7f9bef455eb8>, <truck.Truck object at 0x7f9bef455ef0>]\n",
      "Final rewards:  -inf\n",
      "self.trucks [<truck.Truck object at 0x7f9bef455eb8>, <truck.Truck object at 0x7f9bef455ef0>]\n",
      "Final rewards:  -inf\n",
      "self.trucks [<truck.Truck object at 0x7f9bef455eb8>, <truck.Truck object at 0x7f9bef455ef0>]\n",
      "Final rewards:  -inf\n",
      "self.trucks [<truck.Truck object at 0x7f9bef455eb8>, <truck.Truck object at 0x7f9bef455ef0>]\n",
      "Final rewards:  -inf\n",
      "self.trucks [<truck.Truck object at 0x7f9bef455eb8>, <truck.Truck object at 0x7f9bef455ef0>]\n",
      "Final rewards:  -inf\n",
      "self.trucks [<truck.Truck object at 0x7f9bef455eb8>, <truck.Truck object at 0x7f9bef455ef0>]\n",
      "Final rewards:  -inf\n",
      "self.trucks [<truck.Truck object at 0x7f9bef455eb8>, <truck.Truck object at 0x7f9bef455ef0>]\n",
      "Final rewards:  -inf\n"
     ]
    },
    {
     "data": {
      "image/png": "[encoded data removed]",
      "text/plain": [
       "<matplotlib.figure.Figure at 0x7f9bef455940>"
      ]
     },
     "metadata": {},
     "output_type": "display_data"
    }
   ],
   "source": [
    "# Simulation\n",
    "%matplotlib inline\n",
    "\n",
    "seed = None \n",
    "\n",
    "iterations = 50\n",
    "visualization_steps = []\n",
    "rewards_list = []\n",
    "\n",
    "for it in range(iterations):\n",
    "    rewards = toy_system.random_action(seed);\n",
    "    rewards_list.append(rewards)\n",
    "    #print(toy_system.state())\n",
    "    print(\"Final rewards: \", rewards);\n",
    "    toy_system.reset_trucks_positions();\n",
    "    visualization_steps.append(toy_system.visualize());"
   ]
  },
  {
   "cell_type": "code",
   "execution_count": 5,
   "metadata": {},
   "outputs": [
    {
     "data": {
      "text/plain": [
       "[40.0, 70.0, 110.0, 190.0, 290.0]"
      ]
     },
     "execution_count": 5,
     "metadata": {},
     "output_type": "execute_result"
    }
   ],
   "source": [
    "visualization_steps[0][2]"
   ]
  },
  {
   "cell_type": "code",
   "execution_count": 6,
   "metadata": {},
   "outputs": [
    {
     "data": {
      "text/plain": [
       "array([1, 2, 3, 4, 5])"
      ]
     },
     "execution_count": 6,
     "metadata": {},
     "output_type": "execute_result"
    }
   ],
   "source": [
    "visualization_steps[0][0]+1"
   ]
  },
  {
   "cell_type": "code",
   "execution_count": 7,
   "metadata": {
    "collapsed": true
   },
   "outputs": [],
   "source": [
    "visualization_steps;"
   ]
  },
  {
   "cell_type": "code",
   "execution_count": null,
   "metadata": {
    "collapsed": true
   },
   "outputs": [],
   "source": []
  },
  {
   "cell_type": "code",
   "execution_count": 8,
   "metadata": {},
   "outputs": [
    {
     "data": {
      "text/html": [
       "<video width=\"432\" height=\"288\" controls autoplay>\n",
       "  <source type=\"video/mp4\" src=\"data:video/mp4;base64,AAAAHGZ0eXBNNFYgAAACAGlzb21pc28yYXZjMQAAAAhmcmVlAAAptG1kYXQAAAKuBgX//6rcRem9\n",
       "5tlIt5Ys2CDZI+7veDI2NCAtIGNvcmUgMTUyIHIyODU0IGU5YTU5MDMgLSBILjI2NC9NUEVHLTQg\n",
       "QVZDIGNvZGVjIC0gQ29weWxlZnQgMjAwMy0yMDE3IC0gaHR0cDovL3d3dy52aWRlb2xhbi5vcmcv\n",
       "eDI2NC5odG1sIC0gb3B0aW9uczogY2FiYWM9MSByZWY9MyBkZWJsb2NrPTE6MDowIGFuYWx5c2U9\n",
       "MHgzOjB4MTEzIG1lPWhleCBzdWJtZT03IHBzeT0xIHBzeV9yZD0xLjAwOjAuMDAgbWl4ZWRfcmVm\n",
       "PTEgbWVfcmFuZ2U9MTYgY2hyb21hX21lPTEgdHJlbGxpcz0xIDh4OGRjdD0xIGNxbT0wIGRlYWR6\n",
       "b25lPTIxLDExIGZhc3RfcHNraXA9MSBjaHJvbWFfcXBfb2Zmc2V0PS0yIHRocmVhZHM9OSBsb29r\n",
       "YWhlYWRfdGhyZWFkcz0xIHNsaWNlZF90aHJlYWRzPTAgbnI9MCBkZWNpbWF0ZT0xIGludGVybGFj\n",
       "ZWQ9MCBibHVyYXlfY29tcGF0PTAgY29uc3RyYWluZWRfaW50cmE9MCBiZnJhbWVzPTMgYl9weXJh\n",
       "bWlkPTIgYl9hZGFwdD0xIGJfYmlhcz0wIGRpcmVjdD0xIHdlaWdodGI9MSBvcGVuX2dvcD0wIHdl\n",
       "aWdodHA9MiBrZXlpbnQ9MjUwIGtleWludF9taW49MTAgc2NlbmVjdXQ9NDAgaW50cmFfcmVmcmVz\n",
       "aD0wIHJjX2xvb2thaGVhZD00MCByYz1jcmYgbWJ0cmVlPTEgY3JmPTIzLjAgcWNvbXA9MC42MCBx\n",
       "cG1pbj0wIHFwbWF4PTY5IHFwc3RlcD00IGlwX3JhdGlvPTEuNDAgYXE9MToxLjAwAIAAAAwXZYiE\n",
       "ABH//veIHzLLafk613IR560urR9Q7kZxXqS9/iAAAAMAFpyZQ/thx05aw0AARbX/wWH/EBLod4Q+\n",
       "dEX5hVkiZFWhw4guhBIDt9yUTxsLJ774e8gT8VEGjMGlSAA508C9IAwN3ed798oncPAo5aVLV65U\n",
       "jE6L0v6H/sDF813+6f+VTOhVkJFh47c5ahiGQDdf8rdJ4pCSggpoPIMuRaLF6I/rL93nt8BmcL+j\n",
       "aUnNkaSud46QdR1DvV0mXkwbBvzReBw/X/r6Vx+KrRcWLheW+lzQyq25uZY9BxAPrSMa6tkT6Kyb\n",
       "WoLCeMVuy3PMncRQyjzbKN7HkDHZEZfmD4Dk07556eYKz6mwznY6XZGUaOW/Io1Z4T/b6/aQAZqE\n",
       "8u2DA1JF1F4r0MJBBQPXjuUcdnWbQ1y3jF2s4vAVZwv0pquLVSt8VT5qeIav/nZPeFRo7cG+LnH0\n",
       "FMAowjqqjvxFRgNmRjVSK1/JYkIfFtiW2D+5rsjubByZ8IgwP5vZNxNFU7j4QqWPxjUxXdLtxPJZ\n",
       "2E1UHO+xeCfuXW4/8+mOyxC3I8ICG/H0SWa2Yi6sQ/7y6u6XuMbxf9pib5g3ddCfpLIzoEi0JXxp\n",
       "1rRAba6+AbExDLpjUpr/EdAZv+9cuS7FruvhRxEuwpITDv/84jK0WX0ZsNru8SezClJbTDssCofR\n",
       "Xw7XcniD5LN2tmyHXzLdPK27MdTHrmcojMdTv49GeHbVC9ZpuZkCuopTkcz4Ap54eY1QwAj7e1dz\n",
       "MySXxysvwyGi5JH7asNyM0ynJiSvWtYwcR9lvRd9qIXgV0f1qotBaDv5v+Fu+j1/96eVHB1YKt9d\n",
       "c9KW6EVWmD4XVBmVJACYY46vWmgmqDhaPbxe52hq4UUgNY655bI+A0NYX4GR8mHpmtTLGWtV4oZi\n",
       "tnbA76QgyFtWvTy9ACwDUb2uJK/Ts6HqYIQdLj4TqTh6s0YDWOiyoALath/uM2Hizfm0rerjDdWv\n",
       "mMTcNdnW/k+x67J0OYUGmnmRvCrUCIwBFs9rHS+fip2fnZIjgALG3fIPOBtybntEW1bbvGFcTHIm\n",
       "zRibFy2TtlPgVamLfwH3H0s+wN/f9hHCeIbMSl4i4fkBKPusoj9cHuFPoysM2diNDTx5cFGLwQ0r\n",
       "fPqP3/rcpzMwypAxGgs2ejU6LdjL5hpiS3On869pLyAZBJMUS2sklH1SypGhsyItWfhYuhoib/EK\n",
       "YjjBSTs+pACjiAKgTAGQPpA9DeGMY2A0cijRNwM+TBaHjhl6BdHdjvjhSm9yus6IonSKYDkfmjdw\n",
       "AVptDfKwdvEJbE/OtK0L4mFjLcGExo6g2vZVGZxQ7V8/GyF5OOsdXw85NPRTp710mUMZosngVzLU\n",
       "++GruJkhdml8LUayY24wgZuSQioDmSnay7CVuJ5/rAJ9defCI01An5fbGDXnQo0Lw6qvPDR33ZAA\n",
       "CSSinc5bmNkAAD8QU3DuWqy4MyD1GzW25C3xd/BPkyCZeX7dJPm7QEJFqH8KBe9nAgEmqXfxog4m\n",
       "6DGTES7+ABzz8Ic3hsHVAUjmWLSsXaXlvu5CrgPuZZHf6Zs8sK42VVFu8eO/1/WaUAssAGAvXfzs\n",
       "0nmsC+lXDotGhm3TE8qNk/xNnPEqjazKr2yuR5k0GSdQPp75zEzwR1QYyNayMDSLceUA+jqo8AGk\n",
       "rtGzemBY2VhHcdN57LcAABWs9LRwmlcJM3zLJVMuL6oXLr8tXAsrmCSnKK0D6YPjgASU57ru/sdw\n",
       "bPbxp6dA4NiIKvx1DWKtajX2OBY0uWKV7/2OSjVWIkm3RgJf/Ml/+/NHoBwSMbIagee5r5NuHnSa\n",
       "Yf3yi2RCAMO3B4nGI3g1eSBjm0gd9acnJa/uj/Bq5zVWadZEP1rKMQjKxP2bBC6LLUmHF/3w5+bQ\n",
       "gldza00ino89wejHCWrX2R4PoWf3otumgSFEELNPRArH0vxzSbWATpO24eKJU0QKMKWjevTO/Fiu\n",
       "qwdsDO2ltrWkLj6Ue6lHE8ySmBk8qrdoqzdHHo/ygiBQMVgAgGPRLEQGtSTUIHfLvz2P28lW55Wa\n",
       "Nc3+mTqrpKhWoWbVeEpcrdU/ZaPFek3vhPOKCK0YHPLOgn/9QIOESxkT164hsqIDlBM4tjoD4a0V\n",
       "g4/7UrZLM6tOWtTkftrmNr7a8tG7eHb48FDvc3ha2gxrkW95hmjMPF8baKMs323rwvLNpw+T1fd6\n",
       "cVaSUaoyjpn7CsJBWlAGGBbgR94n3z4xqFKCkVQmWiR5hwFqDRpv5oCR8yW0bfh1Df6ou2GLyFN/\n",
       "0iQGJM9zEjIGofvZJxffYhgoeXwPejLF38ep8idDQc6l1ET+enbjM/E+Rk/VdhPL6Yxt5se7HnZN\n",
       "7zWo6SVfgFVBElqnHFW22fpaMuqhH9ouFjbOF8MOYoW+2Y6CaEaPO/rhMWkMdyRXIf9ZN/ScDvXw\n",
       "u0CMYmy/UQYoM2WdlafjGPjrH3ET6pj9xKVKac5ivjLhEOm4BpnnM3AtPLCYGTyPErscdc0VOC/E\n",
       "f01XhO4SFeKaT/1ROd8d2xYK0QDbDrw5UsllM+z3Si58FJ5af3CLyrIwQjjj5ZjhyvNeuyUfA9s7\n",
       "OeRt2jS7c5I+0CW/pPeYjK7VBgSSNkoO0mHTYo+HcrxMWbrXc9LhWwlsStg/C8je4z442k3QSaOo\n",
       "yC+9qKET9Rzb5aiYEJ2aZYnvOYaaMF8Ulz5k+NjAboO4XcOKSqM/8OFFDjUOefdupJ9wiudVVLer\n",
       "tAH2KQNZTjQcMFc8bkbZSiL0ab0HjrJfrwHAd3Abtp1qGC3HLiFwJA4/zAQa4mBAnndK1jgKtJ+L\n",
       "ePhLFktjFd/MUMQP2bUJ9exBSqSPR91fa88vueXlaWNA1mH1Ua7FWAcw8VcvqpvFGaiosvMrjtbt\n",
       "ryF8MajZX41PRFgtDcKxxAO53BakLP6OeiXVVbOGjsXOVQfeJ2ePA8UssSCtcUN3z4b4mhTxvFcN\n",
       "jDtcN6Wq5vQpfRTMwYhNGIQnfYe4C0TC89SuNnZHl+j0HvvzF1WxEVd6WP9TOxqJo5wlkYtDPkb6\n",
       "eagTN8ad9nzacqiskCJYuGiVHucvzV3rIu+DUoCSp/0BFT//pno8cwS6ke8ShEi684qgVQUtqq8r\n",
       "0DkTRncDiVzcmb4HrwDNwAWNf2deqzOgMQ6WGsn+7cr/BFt8gvlaGKLnh1bhWsvfOkfR/+blc4p3\n",
       "7Acb+yBHLmf8ObufPi9Kd2B4Oj8WlacDyVjNDI9xni6Upfi/WI30wthGtjzXkb/G232l4//KERL4\n",
       "zc2hW/4tR8Aw061SPF2Aa0SqKSHvTI3HCkgGpfPVSnDlarcxz99rc80K6wQKeehOzs/ZeselF0EW\n",
       "ZxQEEaIn5zfqHbZ7MWOaJ2LCutVsjWkRrJDC24XLBNInf10UDZLwXfdtWrUf/PcI7Ye2LYg0d97Q\n",
       "X2c7tFKRbpgsXdsg8QndDm62/juw2N/ZjT3i2BSK8ZwD9BvVFKi6eZJw8uBvSyBU85OtLQO2M5t+\n",
       "ET/vO7W5/XwYZa4Y1Tly/Khc19ve9QFlDQZnqRploPgUge+plNkoT7O6QWWw3IQFUbwfiZQRczO6\n",
       "t6MeSfIc10uTcGoLoTe3Xqeinwsf7pb2txarkkHePwNKXas/6wqP5flKBExRri9ncESo3Duv0Hg6\n",
       "3w61OwCzplgir843Vvm5DtBZylTMavDj9u6LPISkyNikjmpQaGfePoRcG7TTltqA6nZUfKXarXzM\n",
       "9q3ZiyDLmxcCX+nYQEPieidAxdyE73WFzUGLkhMQH/+EPVqyCwtsXbOIH+/IAa5gp2r1NSc8CkVV\n",
       "Mhe/djf+sbRRl/tklOsGjnWdK04qe3Ne0+3mud1tf/YsL/i7qTkrTNWhnzq+LAH1K55ylG74Yr7q\n",
       "VG7xTz7KGeWGDo0XGZzIEfEet42eq97LzHwh8LeCt+6WtsHMlljm3ppmFtQZlDwwvBaVjioeRyHp\n",
       "h2UX6WZ53msNbEVDRW2fXq5rNiGhdLrb89Zijs+mZURfZQLFu+Vr72lOgPfpO8KWkUTLuJMZ9/cm\n",
       "2Sbz9U8NWF75HzB/mbpEeO9K4NU6F5ZMM0FsTeprWKMNr+WjXX0M/9RGDKu8kdiL5UyNmJV2ib0b\n",
       "uQ57IIpzpw0iv2gAAf8AAALUQZokbEEf/rUqgBKGQ8ADlnz0DEF6y5e/1b1yYz/y+7Pg4kUgVH0d\n",
       "dE9P9Uq6UfJR7dsaeQ2qec04UgAorDvX9Av+KAKuCIJ/vWpLheJu3MRZTDe/y0o802x8yLbaX1lO\n",
       "5g/IMr9hVuX8jNUJ7fKvA69/PEtBK/wQF5EmraFftRMPHrt55beeo/LGx0r4ekIpxJ4qbFD0iCbW\n",
       "Ux6oZIbk/7zYaN1amHQb4zjhX/ErylZM5J1oxQmagASc6zSG0y+h+ypwRWp3A0K7W3cIHp6BWWYM\n",
       "bg3uWDE0qobJrvuXoLjLB3Slv/G3Xq8g2NIa2EgBR51u/NihFpp78JnMrkSSTlMqGY+tPcSEnKYg\n",
       "Sow66qlK9iOyUysrQ0p+WPmF8sbpZvl+vmkAW8cf4dYY3NLVaVf40Qo163xzsrwuUup2EY/X+BMb\n",
       "tSCc6EXeEAizJx25iVsvcaqQWcVtYlXkvzIH2hfFiECEuCfqSHbNAwFVB5PbzOs1TlK6sZHRDkvG\n",
       "i2Z71O+psERVDt45ZIx7ehUTteGp0vy7pfpQnZBFMyK1TcFjkqQ/Wwbc+AZR4BnTXCJ6lOmhnBHS\n",
       "A+BcDDUlQuZT0cya0yPbkv5TCdY8e9itDSpQ6ltgMJ7dYsZKS5WHKwx+yGrIOwNbfpnTjcCTM3ml\n",
       "yjBQa/3KwgOSBpEokF8+BnLkUCORFU1aBnSDVGuXwH/CLAonGAPDC2Qt21pCxl1pPTyfp5qgD9Y4\n",
       "2Rlq/Xx4zHbQnNajSQt+/e+Cz0BV6fGJK62VlBEW4CKLCk4lCdxc+T2Y21tW+YTf3JrzPP2wB1LQ\n",
       "YtG0QlGU1L/TQ3GSlGzVQH8d5Mio6maI9zl6shDUNgfQ+849RU49od4LSa+QzLmVhqjxs8kkDXaW\n",
       "wRp9UstO5EUsH4qKhNsmT0kvxwX4lPYexZ4RAyMT5NLCC/461ab2pzUs2Y2RIYfUSjPG8C7Nmu5D\n",
       "wAAAAMhBnkJ4h38ASCddbACE6SoUjm+zogWsh5FO/1tZttZEw6TP0Ss8YGbd6CH71syl5TTOCqve\n",
       "/jlgCOobGqrcXQoz2nVCkiZuDZBRVhAeHbtf+yLvfOJQWQllClkYLOj81egIyS1YS2MgaU/F8VFJ\n",
       "zBS1hKlP7yFvhWnLkPYj/Oeiut9A8kPlV/HZO0fEUOtBvFf6MCVNpXT2mB6zsmXfmH599cNC9DD8\n",
       "S9chwylxNZruhogFdRS1QIlmG/Vq0ZWUFOvG6XIjN+mq+QAAAKQBnmF0Q38AZrrTE3YsPQqybjjK\n",
       "ztJR9JtY6eheP6HADDUu33pe7El8Z77mPTko8Z+EAHW7HFkjJN587yTKeJ0g/sohYOaxUPMw91Ws\n",
       "8P1RKRrMSbHT3ikemqxHAADvNbvSNMlnN0UPT5rjrjqlT9O+Jzt9NSu2vM0GILrJlXKtkg5pVbRT\n",
       "a1psPvyiC1HH8wQL9wN5i0uh77RUGNKvxevMifwBwQAAAJgBnmNqQ38AZsu5PWlc3Qaem952zoMw\n",
       "otnFd3i8f7i6Ryf+zEAHD5VAS2VMQTrn+Ghj+YmTeO2hag+dN77kcVjz4v9kfPWnFbmVcjjCoOG6\n",
       "gMmhs1LpVjcjJlvz/EJlrr5toJPKERJWuVDy+Jt1gIMOwQet/53B1XETnPkMQQaYXQaFgkAheI7f\n",
       "3AgPeI7Hvuh4W+0CRIyVgQAAAT9BmmhJqEFomUwII//+tSqAEoPdEAC+4wM7zJmqJUX/xSk9f97o\n",
       "e+PN9tTX1rOoPeYaNBOiOY0LCc2KN9zNPQdPeISe4j4Xg0UF9vGzINaO+PukxiTQknD51lzjZKDG\n",
       "acP8v01FAyiX/aH/R6bnkzuK1wgyJ+bH5nfwI1vJsykn/L+eUdxGH0y1689arEzZbVa9E8Yx5W0A\n",
       "W4re2/3ge3U5C+w69P8riM+3AwvuZY8CGlUCR3Qcbh4L2GD+R3tl6o+let+GTKZePOiU/gdZTvYa\n",
       "2M3Uac9m0RcLtOOZMwWR1TTgNpbUrJazoQphg1iFFl42g+kUUny4UZTdMarHPh+SNQshrnIKYCzf\n",
       "5v/oItlWpo0I/SSjbdFz/euN5FiWJZ46ycv8yqC/KB3POKRE11RphPuEF1B+RJ02V+0XLCwhAAAA\n",
       "6UGehkURLDv/AEgcp1b5rmCw/d/1fRPekYqRL2/IrTRlISvATjUCSke2HzgJxs+0iP8pFd92QqJL\n",
       "f1FY3YdAAJrcgGzR2RvDHMcdE6l4mtTG+hL0LKC6hKTbS+ghQyhcDbZ7ktLfQ1U28HDmfeGMrpxY\n",
       "05Q4Ivt3dWd73UfKHbHzAJdKo7zzwuqwXru6tsbaIRBzGHQPb+/0hnV3VVSADpY5ofpYiqnVjh7P\n",
       "7oJ4GNUmVgAYMtvLgRj/IOo0jKAPrcvCXXBHnt5yUA8nm6TIx74I0QC9HcPpL5pSUWdWq6ASSLPN\n",
       "XX+sgISBAAAAsgGepXRDfwBmuswDvY+Kdzw0Vf0BSsFwdBEDtJwZk/FG2MLfRqs4aKr7B+02H/lL\n",
       "mZEknnHM+Zv2vru3SDWDBFBmVrahvBIxAn2fW3eVcmuaSSqxywVepP6pqhLi3FPIGYyrn3WchJnC\n",
       "gbSZV4BTjOaRx8Af6zSsONOzelrQIwbDxuvxEEox6R45aN3hzFFpboWtdL8qO1gPBHmP6HvuG/hQ\n",
       "UabrnZdcQ/ONzvUPCrCypUEAAACmAZ6nakN/AFQehy7MvTIR8rT5c2l2pSE1B+uUQqJ2xumjWHJt\n",
       "6OAIXjJNpVNYT7rSbpThvNj4Z8cPG8Dg9UQl7akYAC3YYZkjJjSI4ndH6r5o8lFCrbOUZdSAfzCB\n",
       "z+9c2E1X0xXYC3Aqj9hbc47pDKm/SZATNUK53CHVQgr2UVzN57qecY7R3uCNljF2EtdJAe5y8Ja7\n",
       "0/vh4T89e1bHUR969nHXgAAAAMNBmqxJqEFsmUwII//+tSqAAlD1HzPigAM1SLR+u1Tj3qFrfJO9\n",
       "w0Nv+IzgRcKzz+IUXFcfJtroIAr3fUxTvusoDUfMhegjX3/SAr9ouhAUOA1XBnTWuBVPAnEcvXm5\n",
       "KUZ3349xsrfLk5CVtwAwtMq3O88YpefEe+IkxDl/1A/VRAGXAP/1aLAY/7g0ADP+rMTUcxX3t1XN\n",
       "f+w+799fkvS0lH6LzEGfnUeSKsrWZf/Q8qeSQN1vlkA2ZhKqROy4N3WvX8gAAAB9QZ7KRRUsO/8A\n",
       "OmRqbgLS3TxhC2as63P5czEF1pcBJSPbD5is42faRH+UwMY//VgCgAHSHrAmAAu0GW3lwI80oLeP\n",
       "ZUv+EQrZS9c13JApaUfdVWjBwmlpp+J/ZKkOj89NcRp4O0kxshJ/yeQbSx1nYu6fPJfu7WwiIem+\n",
       "GzMAAACdAZ7pdEN/AFQO/K0W3aVH3A7vABxJYTuUAu/94WW8VkwRc94g0PB325nasUPsxKUkRgI7\n",
       "Zpd7B+4TqqfNBvhO3KTyMWWkOgOzbYJOgPDzclsfrkhtYNxV3OE2RepOL7ej7QfhMlymrDLRHcwt\n",
       "KrBymqEQvzAagADIse22mplkMIicapaDFkWnqlmN8m1gHurtcdFnTQGpTdji/yOXpgAAAI8Bnutq\n",
       "Q38AVB6HLsy9MhHXvrlELmT7g8M7oASoRPnM6UyYq6+4mtjqnt1TcLCCyqlVtmttoclYWVfYiV3d\n",
       "oWLE4PzLbtj2rA7xyKiiQZmCluxwua1iAjk9d8X4otp5SosfDnUqCNxur6ThNKgM9OxT0MvjCz0g\n",
       "21ntlu2t0JrKkTpW0TFptePRN1WsIKzC8AAAAHFBmvBJqEFsmUwII//+tSqAAlNdBuBtmm1G8Za5\n",
       "vG5xwCa5gnINBpvRP1iq08211MSBPmdxCnWsmVcNNpFa8wmuArbi0gM9b4n2bP6nrsFskyAhzS62\n",
       "8j4+eF4uQgdd4rYB49FI2GNUL47i71uis4uZ4QAAAGhBnw5FFSw7/wA6ZGpuAtLc1XckfoWAI4G8\n",
       "/Kz7mjc9SX/YwuH1aeZWgiA2BRKVQb+wr428ITbr4MPw3N4anITfWxN4h4D5K08jLhWiDUf8cP/t\n",
       "zmrGrabcRSkCfYZtc/acNXxhQfKhwQAAAHIBny10Q38AVA78rRbdidXMuBI7Zf6o5lMbmfKlG6aN\n",
       "0wBV1Zhcwp81UfQAz1BRGOChz+JBFLgRhC2YTasC2mQ1sNKF2YUG5GKuvGW2fGaU2/f7QMZYCofD\n",
       "nl55EZdtWGzhXajknZGNbo+EiAftdOUTfBEAAABRAZ8vakN/AFQehy7MvSge/iPrGT29KQAciIT6\n",
       "x+F+c2MbkF1MRhgwbHgBTAKqo+f0gCJzayEsvhqot1q27FiIpXbbSTw9RFDTFtLZjD4b4a3AAAAA\n",
       "6UGbNEmoQWyZTAgh//6qVQAEoTiqjoANQ7/QS3T41NJDdeKB0DrmDRqdKOeNvqdroh/iE8MtLiL2\n",
       "vifWzCvnUUY/5WeKbm2jtz2bI7ErjhL6LT6EOr9AEcPqiKbTJACv/G7rvOFTtrrlbePxq5s8JJTJ\n",
       "4nI9Frx7PqOJS4k6y2YTrDsHz6CDB97T6oF+y/3n0JCU257SmEKpjBhf/jTXkIkuIs0LoviC2uU5\n",
       "RgVLZhNHds2CjGLA1+mKT5Sk6VBqlNz6N8zlI7IH+vo0kU69IMJgclWxIBLkw13PhmdcsColGugX\n",
       "SPJcTlBAAAAAhUGfUkUVLDv/ADpkam4C0t0aSkZq1QTNqoUGNbQTdtROIY3gldNQhn9VwwaidLav\n",
       "wf1GqOrQYCpeWAFxZP5WghhNo0DkTPTbf2wswxmbHRf1ZKZVGvTU2rFbtE+W0xL5cgsUliTsdN7S\n",
       "59aKcZGnbRhaIUUjDv4/7YQ7lp5q7a2+LsEwN0EAAABrAZ9xdEN/AFQO/K0W3aVH3B5PABt+UhV6\n",
       "KheAkxkiHFHm5wIVIPH6IN5jfL8nyXogAY/3XLjEBG3JQiwqsaJNOeETTdG0vsuFwd3Jgss/NDeI\n",
       "BzbOn1VC/CWsg18pL+0MEdZPzrMtNylivoAAAAB2AZ9zakN/AFQehy7MvTIR8qZTwAbgRZ9Y+/Z3\n",
       "x650IqPGQUUwwIL0jRUcJXFNyEJBQuDfz5TmtiHwbcb7FCCZOi3FyE9c/gQ+2rKOw9cm9edpEO6z\n",
       "i1fR5lcfrQ5KdyqhF93DtdM17M2qZfAslnaOr5bV/EfAXgAAAM1Bm3dJqEFsmUwIIf/+qlUABKFm\n",
       "ZWgJde58Gvzv3jOOXd2KvLnBvc3uICMc2YMZhI0nV4W1wylDiugJitsiVSobH8R/xfNn6PlYAFHP\n",
       "0a62jYnmPVX/8OgFxgUYRPJA5VT2thwPAfUTCpfW4pNmKClGT//XzKEZbwYF6J4v2+VtLpKDrKTN\n",
       "j6dTY39uNz4szfPgawUO4jl7WgTqDVFSkZSfEBfP/9PjRlHagEdN8iEBRUFMyHnTKcp5MZJ63BHr\n",
       "ANzjPgOfdh4vUki3oD7hAAAAckGflUUVLDf/AFQmCVgDL3/EmBIQ7+KgEddUGny+7VBX3+UYSUPU\n",
       "N4169/mraqgA5E7HHgW1/OWZc/TzKeln39i6pCId8lAAb4G3f+B4jqd+v+e5jZg0pwPRC4GQN334\n",
       "hOE/krkLkBhFYwFnfTy9Sv4RsAAAAGIBn7ZqQ38AVB6HLsy9MhHytNyuZmEJgBAzlI1Sjqkd8eBW\n",
       "pp6faHk+WoRf96NQRceVSi9V8XQwLlbmUEmTNcxnBHNhkvV7LG5uCIx0B7EZHWaDSugbHom6bLVE\n",
       "sA7y1VT8QQAAAMRBm7lJqEFsmUwUTD///qmWAAoR/3j8ACh0zjoyVVrfHlTBGvyJ4NAidX8CiPXw\n",
       "vfsjwHfwGRAbFVxUnZpHW+CB+G7Bi9yyd6Ej06Zw1IiDgh9/h28jvYxTsGOekIazNtxaOkaUI//0\n",
       "6yx8E1/rsw+W3B/6N7cmV9ijTYKO6S44TQ9vEfNJP/m3owtONoRxvkJlN9JtxEcYq9cSccDNRkWr\n",
       "52G9XpXjeISMFdHcpnHifW0qP7Yqskx1zbZNdqXHxU7AKZw5AAAAdQGf2GpDfwBUJglYAy9/xLy2\n",
       "rL3ABzkr5q7U92miKTR5dReZl+7MxTuNLYdNlLDXf7+72IDZMZaRBKoWTqzeeK+riRdvhyQeaChW\n",
       "iM4lgH4HOhneWT9IUVzOasrtI7iBy++5MBXLufd1p2R1xJykbuxT6/jwQAAAAFlBm9pJ4QpSZTAg\n",
       "h//+qlUAApajNVZiqThztnOoBJp29NhPLJrK2X6eiaHpw87/NfQ7LB1yvWfk6AGoAEd3739w1QRF\n",
       "aX/Pv9ED2Re+7+UByrysvjCT+mgoIQAAAFNBm/tJ4Q6JlMCCH/6qVQACloAG8lAAinzeQNmt5JvA\n",
       "FXovf48kihUL3dZgEjqMm5VHI9K55pn+LLVHt8iDiNzRLan/Db+WG60Smb2U7MFYGhsBiAAAAJdB\n",
       "mh1J4Q8mUwURPBD//qpVAAKT9cmABGJ4aTW/x2POY6WcknPksg5K0AYKJ5cVskszCMPxh4swZ/gs\n",
       "vTZpOL2jSB7KHsk3zSVaTN8RjAmkcmOYPSyeyRMrV/VP11r137MQTKQtRg+OaqHev9azqFxG6kx+\n",
       "zfXPyP62PGLH4l5YUb41v/ijTL8jKBH8FyBbSnuujm/rmW7BAAAARAGePGpDfwAHEmSx5ZjFw59k\n",
       "mi2okVJNr4dO2LlAVPSKRiMfEAL7q7PZ2W+UIWwxua4LhaqkG1UxJuN+Ldk1WZdMWdiBAAAAXEGa\n",
       "PknhDyZTAgj//rUqgAFLRs0E4WwHgAqGHrtojwSBkDiu4rosMuScwv2/GiwBACV953sB4SnfaKKM\n",
       "rq1H/FD6I4rftgfOdD1AmmpwPdIizWnW5NzyiEH8KGfAAAAAYUGaQEnhDyZTBRE8Ef/+tSqAAlNT\n",
       "kvg4gBB+OmTZr1F3g1EiCxtjw417+FT5xYQAl//+GQ6fgH3QuXuCOBKUUkkjPNijDIOP/4DK4MSe\n",
       "LOYhexd8/yaEk96KsKSXvOxW7zAAAABsAZ5/akN/AAziml1+AirjTMk2zraThKLmK7/IaUuZS5Om\n",
       "UpV+Dj0U9qk5oPa4jfBZzIMjXodBCSA5V/2d3xveDBJHfLYc9IPjSPA2dNtTdvIAEhLbsIITKxen\n",
       "pM+b/+Wm7UBj4hCXS+Uu4nMrAAAAkEGaZEnhDyZTAgj//rUqgAFLxODzDEALH7sU4bV3WvFEPsrj\n",
       "mVvaCDoTCRsjUo7QXykq/idtz6pv0Q7t761F285Q9jR1MlUL0dJcZF55lLs//pLIH2vQ6JkBRh9+\n",
       "USUnDcWvV+FBtNQLn5rRC7KT7spTvLdc4y/TH2rNHcPhNBscyF3pPbvaw4NXjOTLIdmftAAAAGFB\n",
       "noJFETw7/wA5ykCcZ5sNUPXH6MTjFPKfQE/YdCfXS4AgxekJh3Ffwl7iBHZf37I4sfZ2/+jHlwll\n",
       "VaKHkkmiPSjHnPVjYdLyB5G9A+NjeQBKYvXexywwAVXQMckEzlHVAAAAaQGeoXRDfwBUDvmisoj7\n",
       "grABt+VQZRlI31wWuTlj3KBHGuUjC/UScQy1XQyIA4SzWqd9WDSHxrwOtbf0fABT7gAy1b4PDtCx\n",
       "vnFpRDfLtYO/Y5gi7ITXGMG6N8rENTjtcwlhO/kd/Djo0AAAAFQBnqNqQ38AVB6FAsq6DXNYAN5c\n",
       "Gmz2EwcccU5L/uMlC/8BNHEn2hy8DIe08F0wNjMSlYmL/82yPLLcVT4WzsBvHIPxn/w0aXqzAhhO\n",
       "vmpFyuT4DtcAAAB6QZqoSahBaJlMCCH//qpVAASn5oCHV9dboXcxus10AGgFEXoID05uxsbm9L0N\n",
       "NRoJybiO1n6oCzn/23YAc8c/yJY9a+jUGBwfpwBmyCKdBEPSgORk3ph6elZQC944S4foI6Hd+aph\n",
       "g4gix11lY+1OWVD76OEgv9vHcsEAAABOQZ7GRREsO/8AOmRp+QYTTotA3Yska9qBCi2ABZMcwHrh\n",
       "S8jFHHIoD1cbK2/ISd3OLdmR0Ie84A2fmaIJhbXzp12eEvasdha4NrOokSDxAAAAQwGe5XRDfwBU\n",
       "Dvmisoj7grABt+VQZRlI31wWuTljdOBR6EqW6VKKMMZqz+f9Qh7yacu7FCZFi6JzCBom10ME9s7x\n",
       "sa0AAABRAZ7nakN/AFQehQLK40dIbdABvgAFw4TsF52GbjO5E4Mp8f1QM8WuUqFL5jGMkBfCD81g\n",
       "A/bG/yxxfZ/L4DdLKj8jwP0E0CBNlSgP8YXYjwaAAAAAWEGa7EmoQWyZTAgh//6qVQACU/IcesZk\n",
       "E4YaCDv+GBgAbWLs18vPZlUYEEYQbNZtOzk8WfsumjK5JPuTHrpnCEes4jlUR/zNL5esp6G0dr9U\n",
       "BuMf27gi5YAAAABKQZ8KRRUsO/8AOmRp+QYWQwwkxQlj38JhM2rhv4AWwsNl+2rX2ZpgoSq7LOfr\n",
       "N8od4sJSFfQYC5wMiQ+ndXv2myz/EX0msD22I4EAAABEAZ8pdEN/AFQO+aKyxoBD9jtRkUWi0Qqq\n",
       "C8mKf7fJ+zQA1inozbjZJsZ5hBh3wTLtYSGqMu/onDHIQkyDF26SWcw8YUYAAABLAZ8rakN/AFQe\n",
       "hQLK40dB6WC1VKqhGyAV8AM9FNHLv0G64hxwHBoFXpnDsIpvq8dymwrMnykPQpUSWbx2sL94LfVw\n",
       "pD6AxKPLRUJAAAAASUGbMEmoQWyZTAhv//6nhAAJt8EH5irsDIIqaj4eNdGgI8/3Vu3+xTWWhS7W\n",
       "kS9t3fV5AADrOTr0H+d1lv0TFELSUv2Q6w1H94EAAACnQZ9ORRUsO/8AOmRp+QYWQwv5mH0cwTjU\n",
       "Jyy3z9/zaKbzrbPgDVQeV5i0kFgA/Xhx3bgMh9Ordb7HLDcXYClb+bE9Dunrmfizg0neuaHy8DKE\n",
       "2rV8p302uUWL6VZKeZWTlbacC2H+az4pb0tNRh0yKnV1YzSG+dGit4dvqKkWRdZ8u4TTqcWWuhpW\n",
       "9/WJloNnoADSd1kmCazkXmjud/CB3JmvzCJp9W0AAABIAZ9tdEN/AFQO+aKyxoAw3WrKT8gTYq6y\n",
       "JhUNQwm1057R2q7bXqUAA3REelx08HaT/Fc4JwcXiE33Oz6863n7Q2Zzro7fRj6BAAAAcwGfb2pD\n",
       "fwBUHoUCyuNHQerchlkWiXAAuUrLpAIM+Xkp1RT8jvICo0BqQyNIXN8th4dpLPdN9yiL+ZkGgMJU\n",
       "sqsTizv8zT8++APOKlXcOqMQQDeT1dBjPZysqjKSbY5inay3VoY4aUj/rPW/XH9bNYnBDL8AAAVq\n",
       "bW9vdgAAAGxtdmhkAAAAAAAAAAAAAAAAAAAD6AAAEyQAAQAAAQAAAAAAAAAAAAAAAAEAAAAAAAAA\n",
       "AAAAAAAAAAABAAAAAAAAAAAAAAAAAABAAAAAAAAAAAAAAAAAAAAAAAAAAAAAAAAAAAAAAAAAAgAA\n",
       "BJR0cmFrAAAAXHRraGQAAAADAAAAAAAAAAAAAAABAAAAAAAAEyQAAAAAAAAAAAAAAAAAAAAAAAEA\n",
       "AAAAAAAAAAAAAAAAAAABAAAAAAAAAAAAAAAAAABAAAAAAbAAAAEgAAAAAAAkZWR0cwAAABxlbHN0\n",
       "AAAAAAAAAAEAABMkAAAIAAABAAAAAAQMbWRpYQAAACBtZGhkAAAAAAAAAAAAAAAAAAAoAAAAxABV\n",
       "xAAAAAAALWhkbHIAAAAAAAAAAHZpZGUAAAAAAAAAAAAAAABWaWRlb0hhbmRsZXIAAAADt21pbmYA\n",
       "AAAUdm1oZAAAAAEAAAAAAAAAAAAAACRkaW5mAAAAHGRyZWYAAAAAAAAAAQAAAAx1cmwgAAAAAQAA\n",
       "A3dzdGJsAAAAs3N0c2QAAAAAAAAAAQAAAKNhdmMxAAAAAAAAAAEAAAAAAAAAAAAAAAAAAAAAAbAB\n",
       "IABIAAAASAAAAAAAAAABAAAAAAAAAAAAAAAAAAAAAAAAAAAAAAAAAAAAAAAAAAAAGP//AAAAMWF2\n",
       "Y0MBZAAV/+EAGGdkABWs2UGwloQAAAMABAAAAwBQPFi2WAEABmjr48siwAAAABx1dWlka2hA8l8k\n",
       "T8W6OaUbzwMj8wAAAAAAAAAYc3R0cwAAAAAAAAABAAAAMQAABAAAAAAUc3RzcwAAAAAAAAABAAAA\n",
       "AQAAAYhjdHRzAAAAAAAAAC8AAAABAAAIAAAAAAEAABQAAAAAAQAACAAAAAABAAAAAAAAAAEAAAQA\n",
       "AAAAAQAAFAAAAAABAAAIAAAAAAEAAAAAAAAAAQAABAAAAAABAAAUAAAAAAEAAAgAAAAAAQAAAAAA\n",
       "AAABAAAEAAAAAAEAABQAAAAAAQAACAAAAAABAAAAAAAAAAEAAAQAAAAAAQAAFAAAAAABAAAIAAAA\n",
       "AAEAAAAAAAAAAQAABAAAAAABAAAQAAAAAAIAAAQAAAAAAQAADAAAAAABAAAEAAAAAAIAAAgAAAAA\n",
       "AQAADAAAAAABAAAEAAAAAAEAAAgAAAAAAQAADAAAAAABAAAEAAAAAAEAABQAAAAAAQAACAAAAAAB\n",
       "AAAAAAAAAAEAAAQAAAAAAQAAFAAAAAABAAAIAAAAAAEAAAAAAAAAAQAABAAAAAABAAAUAAAAAAEA\n",
       "AAgAAAAAAQAAAAAAAAABAAAEAAAAAAEAABQAAAAAAQAACAAAAAABAAAAAAAAAAEAAAQAAAAAHHN0\n",
       "c2MAAAAAAAAAAQAAAAEAAAAxAAAAAQAAANhzdHN6AAAAAAAAAAAAAAAxAAAOzQAAAtgAAADMAAAA\n",
       "qAAAAJwAAAFDAAAA7QAAALYAAACqAAAAxwAAAIEAAAChAAAAkwAAAHUAAABsAAAAdgAAAFUAAADt\n",
       "AAAAiQAAAG8AAAB6AAAA0QAAAHYAAABmAAAAyAAAAHkAAABdAAAAVwAAAJsAAABIAAAAYAAAAGUA\n",
       "AABwAAAAlAAAAGUAAABtAAAAWAAAAH4AAABSAAAARwAAAFUAAABcAAAATgAAAEgAAABPAAAATQAA\n",
       "AKsAAABMAAAAdwAAABRzdGNvAAAAAAAAAAEAAAAsAAAAYnVkdGEAAABabWV0YQAAAAAAAAAhaGRs\n",
       "cgAAAAAAAAAAbWRpcmFwcGwAAAAAAAAAAAAAAAAtaWxzdAAAACWpdG9vAAAAHWRhdGEAAAABAAAA\n",
       "AExhdmY1Ny44My4xMDA=\n",
       "\">\n",
       "  Your browser does not support the video tag.\n",
       "</video>"
      ],
      "text/plain": [
       "<IPython.core.display.HTML object>"
      ]
     },
     "execution_count": 8,
     "metadata": {},
     "output_type": "execute_result"
    },
    {
     "data": {
      "image/png": "[encoded data removed]",
      "text/plain": [
       "<matplotlib.figure.Figure at 0x7f9be74df198>"
      ]
     },
     "metadata": {},
     "output_type": "display_data"
    }
   ],
   "source": [
    "def barlist(n): \n",
    "    return visualization_steps[n][2]\n",
    "\n",
    "fig=plt.figure()\n",
    "\n",
    "N=iterations #Number of frames\n",
    "x=visualization_steps[0][0]+1\n",
    "\n",
    "plt.bar(x,visualization_steps[0][1], color = 'black')\n",
    "barcollection = plt.bar(x,barlist(0), color = 'blue')\n",
    "\n",
    "def animate(i):\n",
    "    y=barlist(i+1)\n",
    "    for i, b in enumerate(barcollection):\n",
    "        b.set_height(y[i])\n",
    "\n",
    "anim=animation.FuncAnimation(fig,animate,repeat=False,blit=False,frames=N-1,\n",
    "                             interval=100)\n",
    "HTML(anim.to_html5_video())\n",
    "#anim.save('mymovie.mp4',writer=animation.FFMpegWriter(fps=10))\n",
    "#plt.show()"
   ]
  },
  {
   "cell_type": "code",
   "execution_count": 9,
   "metadata": {
    "collapsed": true
   },
   "outputs": [],
   "source": [
    "#toy_system.visualize_step(visualization_steps[2]);"
   ]
  },
  {
   "cell_type": "code",
   "execution_count": 10,
   "metadata": {},
   "outputs": [
    {
     "data": {
      "text/plain": [
       "[<matplotlib.lines.Line2D at 0x7f9be6fbf198>]"
      ]
     },
     "execution_count": 10,
     "metadata": {},
     "output_type": "execute_result"
    },
    {
     "data": {
      "image/png": "[encoded data removed]",
      "text/plain": [
       "<matplotlib.figure.Figure at 0x7f9bef43f240>"
      ]
     },
     "metadata": {},
     "output_type": "display_data"
    }
   ],
   "source": [
    "%matplotlib inline\n",
    "plt.plot(range(iterations),rewards_list)"
   ]
  },
  {
   "cell_type": "code",
   "execution_count": 11,
   "metadata": {},
   "outputs": [
    {
     "data": {
      "text/plain": [
       "3600000"
      ]
     },
     "execution_count": 11,
     "metadata": {},
     "output_type": "execute_result"
    }
   ],
   "source": [
    "toy_system.n_states()"
   ]
  },
  {
   "cell_type": "code",
   "execution_count": 12,
   "metadata": {},
   "outputs": [
    {
     "data": {
      "text/plain": [
       "3600000"
      ]
     },
     "execution_count": 12,
     "metadata": {},
     "output_type": "execute_result"
    }
   ],
   "source": [
    "n_s = ((n+1)**k)\n",
    "a = np.prod(n_discrete_load_levels)\n",
    "b = np.prod(n_discrete_load_levels_trucks)\n",
    "n_s = n_s *a *b\n",
    "n_s"
   ]
  },
  {
   "cell_type": "code",
   "execution_count": null,
   "metadata": {
    "collapsed": true
   },
   "outputs": [],
   "source": []
  },
  {
   "cell_type": "code",
   "execution_count": null,
   "metadata": {
    "collapsed": true
   },
   "outputs": [],
   "source": []
  },
  {
   "cell_type": "code",
   "execution_count": null,
   "metadata": {
    "collapsed": true
   },
   "outputs": [],
   "source": []
  },
  {
   "cell_type": "code",
   "execution_count": null,
   "metadata": {
    "collapsed": true
   },
   "outputs": [],
   "source": [
    "\n"
   ]
  },
  {
   "cell_type": "code",
   "execution_count": null,
   "metadata": {
    "collapsed": true
   },
   "outputs": [],
   "source": []
  },
  {
   "cell_type": "code",
   "execution_count": null,
   "metadata": {
    "collapsed": true
   },
   "outputs": [],
   "source": []
  },
  {
   "cell_type": "code",
   "execution_count": null,
   "metadata": {
    "collapsed": true
   },
   "outputs": [],
   "source": []
  },
  {
   "cell_type": "markdown",
   "metadata": {},
   "source": [
    "# Small system to apply Q-learning algorithm\n"
   ]
  },
  {
   "cell_type": "code",
   "execution_count": 13,
   "metadata": {},
   "outputs": [
    {
     "data": {
      "text/plain": [
       "46080"
      ]
     },
     "execution_count": 13,
     "metadata": {},
     "output_type": "execute_result"
    }
   ],
   "source": [
    "# Tanks' information\n",
    "n = 5 \n",
    "tank_ids = list(range(1,n+1))\n",
    "tank_max_loads =  np.array([100., 100., 200., 300., 400.])\n",
    "tank_current_loads =  np.array([50., 60., 120., 150., 300.])\n",
    "tank_consumption_rates =  np.array([10.] * n)\n",
    "\n",
    "n_discrete_load_levels = np.array([2,2,2,2,2])\n",
    "\n",
    "# Trucks' information\n",
    "k = 2\n",
    "truck_ids = list(range(k))\n",
    "truck_max_loads = np.array([20., 50.])\n",
    "truck_current_loads = truck_max_loads.copy()\n",
    "truck_current_positions =  np.array([0] * k)\n",
    "#truck_fractions_deliverable =  np.array([1.] * k) # we for now we only allow to deliver all the content of the truck\n",
    "truck_fractions_deliverable =  np.array([ np.array([0.5, 1.]), \n",
    "                                          np.array([0.5, 1.])\n",
    "                                        ]) # we for now we only allow to deliver all the content of the truck\n",
    "n_discrete_load_levels_trucks = np.array([2,2])\n",
    "\n",
    "# System's information\n",
    "def simple_graph(n: int):    \n",
    "    A = np.zeros((n,n))\n",
    "    A[0,0:n] = 1\n",
    "    A = A.astype(int)\n",
    "    return(A)\n",
    "\n",
    "graph = simple_graph(n+1)\n",
    "tanks = [tank.Tank( tank_id, current_load, max_load, consumption_rate, n_lvls) \n",
    "         for  tank_id, current_load, max_load, consumption_rate, n_lvls in \n",
    "         zip( tank_ids, tank_current_loads, tank_max_loads, tank_consumption_rates, n_discrete_load_levels)]\n",
    "trucks = [truck.Truck( truck_id, current_load, max_load, current_position, load_fractions_deliverable, n_lvls) \n",
    "         for  truck_id, current_load, max_load, current_position, load_fractions_deliverable, n_lvls in \n",
    "         zip(truck_ids, truck_current_loads, truck_max_loads, truck_current_positions, \n",
    "             truck_fractions_deliverable, n_discrete_load_levels_trucks)]\n",
    "\n",
    "def simple_weights(n: int, w: float):    \n",
    "    W = np.full((n,n), np.inf)\n",
    "    W[0,:] = w\n",
    "    return(W)\n",
    "w =  np.array([0, 20., 10., 30., 50.5, 45.])\n",
    "\n",
    "weights_matrix = simple_weights(n+1, w)\n",
    "\n",
    "toy_system = model.System(tanks = tanks, trucks = trucks, adjacency_matrix = graph, weights_matrix = weights_matrix)\n",
    "\n",
    "a_s_dim = toy_system.states_dim * toy_system.actions_dim\n",
    "a_s_dim"
   ]
  },
  {
   "cell_type": "code",
   "execution_count": 14,
   "metadata": {},
   "outputs": [
    {
     "name": "stdout",
     "output_type": "stream",
     "text": [
      "self.trucks [<truck.Truck object at 0x7f9be6ff3a90>, <truck.Truck object at 0x7f9be6ff3ac8>]\n",
      "Final rewards:  -90.0\n"
     ]
    },
    {
     "data": {
      "text/plain": [
       "[[2, 2], [1, 1]]"
      ]
     },
     "execution_count": 14,
     "metadata": {},
     "output_type": "execute_result"
    }
   ],
   "source": [
    "toy_system.discrete_state()\n",
    "\n",
    "\n",
    "\n",
    "rewards = toy_system.random_action(seed);\n",
    "rewards_list.append(rewards)\n",
    "#prnt(toy_system.state())\n",
    "print(\"Final rewards: \", rewards);\n",
    "toy_system.reset_trucks_positions();\n",
    "\n",
    "toy_system.da"
   ]
  },
  {
   "cell_type": "code",
   "execution_count": 15,
   "metadata": {},
   "outputs": [
    {
     "data": {
      "text/plain": [
       "[[0, 0], [1, 1], [0, 1, 1, 0, 1]]"
      ]
     },
     "execution_count": 15,
     "metadata": {},
     "output_type": "execute_result"
    }
   ],
   "source": [
    "toy_system.ds"
   ]
  },
  {
   "cell_type": "code",
   "execution_count": null,
   "metadata": {
    "collapsed": true
   },
   "outputs": [],
   "source": []
  },
  {
   "cell_type": "code",
   "execution_count": 16,
   "metadata": {
    "collapsed": true
   },
   "outputs": [],
   "source": [
    "a = [[3, 4], [1, 1], [0, 0, 1, 0, 1]]\n",
    "aa= ''.join(str(''.join(str(y) for y in x)) for x in a)"
   ]
  },
  {
   "cell_type": "code",
   "execution_count": 17,
   "metadata": {},
   "outputs": [
    {
     "name": "stdout",
     "output_type": "stream",
     "text": [
      "[[0, 0], [1, 1], [0, 1, 1, 0, 1]]\n",
      "[[2, 2], [1, 1]]\n"
     ]
    }
   ],
   "source": [
    "print(toy_system.ds)\n",
    "print(toy_system.da)"
   ]
  },
  {
   "cell_type": "code",
   "execution_count": 18,
   "metadata": {},
   "outputs": [
    {
     "data": {
      "text/plain": [
       "'0011011012211'"
      ]
     },
     "execution_count": 18,
     "metadata": {},
     "output_type": "execute_result"
    }
   ],
   "source": [
    "sa_new = toy_system.state_action_to_string()\n",
    "sa_new"
   ]
  },
  {
   "cell_type": "code",
   "execution_count": 19,
   "metadata": {
    "collapsed": true
   },
   "outputs": [],
   "source": [
    "new_dict = {}\n",
    "new_dict[sa_new] = {\"qval\": 1}"
   ]
  },
  {
   "cell_type": "code",
   "execution_count": 20,
   "metadata": {},
   "outputs": [
    {
     "data": {
      "text/plain": [
       "1"
      ]
     },
     "execution_count": 20,
     "metadata": {},
     "output_type": "execute_result"
    }
   ],
   "source": [
    "new_dict[sa_new]['qval']"
   ]
  },
  {
   "cell_type": "markdown",
   "metadata": {},
   "source": [
    "## Off-policy algorithm"
   ]
  },
  {
   "cell_type": "code",
   "execution_count": 21,
   "metadata": {
    "collapsed": true
   },
   "outputs": [],
   "source": [
    "learning_rate0 = 0.05\n",
    "learning_rate_decay = 0.1\n",
    "n_iterations = 2\n",
    "discount_rate = 0.95\n",
    "\n",
    "toy_system = model.System(tanks = tanks, trucks = trucks, adjacency_matrix = graph, weights_matrix = weights_matrix)\n",
    "\n",
    "Q = {}\n",
    "\n",
    "def is_key(dic, key):\n",
    "    if key in dic:\n",
    "        return(True)\n",
    "    else: return(False)\n",
    "\n",
    "is_key(new_dict, sa_new)\n",
    "\n",
    "state_length = 2*k + n"
   ]
  },
  {
   "cell_type": "code",
   "execution_count": 22,
   "metadata": {
    "collapsed": true
   },
   "outputs": [],
   "source": [
    "import pickle\n",
    "\n",
    "def save_obj(obj, name ):\n",
    "    with open('obj/'+ name + '.pkl', 'wb') as f:\n",
    "        pickle.dump(obj, f, pickle.HIGHEST_PROTOCOL)\n",
    "\n",
    "def load_obj(name ):\n",
    "    with open('obj/' + name + '.pkl', 'rb') as f:\n",
    "        return pickle.load(f)"
   ]
  },
  {
   "cell_type": "code",
   "execution_count": 23,
   "metadata": {},
   "outputs": [
    {
     "name": "stdout",
     "output_type": "stream",
     "text": [
      "System state before,  [[0, 0], [1, 1], [0, 0, 1, 0, 1]]\n",
      "self.trucks [<truck.Truck object at 0x7f9be6ff3a90>, <truck.Truck object at 0x7f9be6ff3ac8>]\n",
      "System state after,  [[0, 0], [1, 1], [0, 0, 1, 0, 1]]\n",
      "System action after,  [[3, 0], [0, 1]]\n",
      "sa current,  0011001013001\n",
      "System state before,  [[0, 0], [1, 1], [1, 0, 1, 0, 1]]\n",
      "self.trucks [<truck.Truck object at 0x7f9be6ff3a90>, <truck.Truck object at 0x7f9be6ff3ac8>]\n",
      "System state after,  [[0, 0], [1, 1], [1, 0, 1, 0, 1]]\n",
      "System action after,  [[3, 2], [1, 0]]\n",
      "sa current,  0011101013210\n"
     ]
    }
   ],
   "source": [
    "# \"Train zone\". Q-values are being converging to the optimal, theoretically\n",
    "verbose = False\n",
    "for iteration in range(n_iterations):\n",
    "    toy_system.update_state() \n",
    "    \n",
    "    if verbose: print(\"System state before, \", toy_system.ds)\n",
    "    \n",
    "    reward = toy_system.random_action()\n",
    "    sa_current = toy_system.state_action_to_string()\n",
    "    \n",
    "    if is_key(Q, sa_current) == False:\n",
    "        Q[sa_current] = 0\n",
    "        \n",
    "    learning_rate = learning_rate0 / (1+iteration*learning_rate_decay)\n",
    "    \n",
    "    Q_max = max([Q[key] for key in Q.keys() if key.startswith(sa_current[0:state_length])])\n",
    "    \n",
    "    Q[sa_current] = ( (1-learning_rate) * Q[sa_current] \n",
    "                     + learning_rate* (reward + discount_rate * Q_max)\n",
    "                    )\n",
    "    \n",
    "    toy_system.reset_trucks_positions();\n",
    "    toy_system.reset_trucks_loads()\n",
    "    \n",
    "    if verbose:\n",
    "        print(\"System state after, \", toy_system.ds)\n",
    "        print(\"System action after, \", toy_system.da)\n",
    "        print(\"sa current, \", sa_current)\n",
    "\n",
    "\n",
    "\n",
    "    \n",
    "save_obj(Q, \"Q-dict\")   \n"
   ]
  },
  {
   "cell_type": "code",
   "execution_count": 24,
   "metadata": {},
   "outputs": [
    {
     "name": "stdout",
     "output_type": "stream",
     "text": [
      "dict_keys(['0011001013001', '0011101013210'])\n"
     ]
    },
    {
     "data": {
      "text/plain": [
       "[[3, 2], [1, 0]]"
      ]
     },
     "execution_count": 24,
     "metadata": {},
     "output_type": "execute_result"
    }
   ],
   "source": [
    "# Optimal policy using the Q values trained previously:\n",
    "Q = load_obj(\"Q-dict\")\n",
    "    \n",
    "print(Q.keys())\n",
    "\n",
    "toy_system.ds\n",
    "toy_system.da"
   ]
  },
  {
   "cell_type": "code",
   "execution_count": 25,
   "metadata": {
    "collapsed": true
   },
   "outputs": [],
   "source": [
    "\n",
    "\n",
    "new_keys = new_dict.keys()"
   ]
  },
  {
   "cell_type": "code",
   "execution_count": 26,
   "metadata": {},
   "outputs": [],
   "source": [
    "#[Q[key] for key in new_keys if key.startswith(sa_new[0:2])]"
   ]
  },
  {
   "cell_type": "code",
   "execution_count": 27,
   "metadata": {},
   "outputs": [
    {
     "data": {
      "text/plain": [
       "[[0, 0], [1, 1], [1, 0, 1, 0, 1]]"
      ]
     },
     "execution_count": 27,
     "metadata": {},
     "output_type": "execute_result"
    }
   ],
   "source": [
    "toy_system.ds"
   ]
  },
  {
   "cell_type": "code",
   "execution_count": 28,
   "metadata": {},
   "outputs": [
    {
     "data": {
      "text/plain": [
       "[[3, 2], [1, 0]]"
      ]
     },
     "execution_count": 28,
     "metadata": {},
     "output_type": "execute_result"
    }
   ],
   "source": [
    "toy_system.da"
   ]
  },
  {
   "cell_type": "code",
   "execution_count": 29,
   "metadata": {},
   "outputs": [
    {
     "data": {
      "text/plain": [
       "3"
      ]
     },
     "execution_count": 29,
     "metadata": {},
     "output_type": "execute_result"
    }
   ],
   "source": [
    "max([1,2,3])"
   ]
  },
  {
   "cell_type": "code",
   "execution_count": 30,
   "metadata": {},
   "outputs": [
    {
     "data": {
      "text/plain": [
       "[1, 2, 3]"
      ]
     },
     "execution_count": 30,
     "metadata": {},
     "output_type": "execute_result"
    }
   ],
   "source": [
    "[1,2,3][0:3]"
   ]
  },
  {
   "cell_type": "code",
   "execution_count": 31,
   "metadata": {},
   "outputs": [],
   "source": [
    "#Q['3311-1-1']"
   ]
  },
  {
   "cell_type": "code",
   "execution_count": 32,
   "metadata": {
    "collapsed": true
   },
   "outputs": [],
   "source": [
    "test_toy_system = model.System(tanks = tanks, trucks = trucks, adjacency_matrix = graph, weights_matrix = weights_matrix)\n"
   ]
  },
  {
   "cell_type": "markdown",
   "metadata": {},
   "source": [
    "### To do\n",
    "\n",
    "1. Función que permita aplicar una acción al sistema usando el código de números enteros (como en las keys de los dicts)\n",
    "\n",
    "2. Hacer una simulación que vaya aplicando, en cada estado, la accion con mayor Q-value en el diccionario Q.\n",
    "\n",
    "3. Visualizar como evoluciona el sistema con la optimal policy estimada con alguna random"
   ]
  },
  {
   "cell_type": "code",
   "execution_count": 33,
   "metadata": {},
   "outputs": [
    {
     "data": {
      "text/plain": [
       "5"
      ]
     },
     "execution_count": 33,
     "metadata": {},
     "output_type": "execute_result"
    }
   ],
   "source": [
    "test_toy_system.n"
   ]
  },
  {
   "cell_type": "code",
   "execution_count": 34,
   "metadata": {
    "collapsed": true
   },
   "outputs": [],
   "source": [
    "a = '1234'"
   ]
  },
  {
   "cell_type": "code",
   "execution_count": 35,
   "metadata": {},
   "outputs": [
    {
     "name": "stdout",
     "output_type": "stream",
     "text": [
      "1\n",
      "2\n",
      "3\n",
      "4\n"
     ]
    }
   ],
   "source": [
    "for element in a: \n",
    "    print(element)"
   ]
  },
  {
   "cell_type": "code",
   "execution_count": 36,
   "metadata": {},
   "outputs": [
    {
     "data": {
      "text/plain": [
       "'12'"
      ]
     },
     "execution_count": 36,
     "metadata": {},
     "output_type": "execute_result"
    }
   ],
   "source": [
    "a[0:2]"
   ]
  },
  {
   "cell_type": "markdown",
   "metadata": {},
   "source": [
    "### Testing deterministic_action function from System class"
   ]
  },
  {
   "cell_type": "code",
   "execution_count": 39,
   "metadata": {},
   "outputs": [
    {
     "data": {
      "text/plain": [
       "[[0, 0], [1, 1], [1, 0, 1, 0, 1]]"
      ]
     },
     "execution_count": 39,
     "metadata": {},
     "output_type": "execute_result"
    }
   ],
   "source": [
    "test_toy_system = model.System(tanks = tanks, trucks = trucks, adjacency_matrix = graph, weights_matrix = weights_matrix)\n",
    "test_toy_system.ds"
   ]
  },
  {
   "cell_type": "code",
   "execution_count": 38,
   "metadata": {
    "collapsed": true
   },
   "outputs": [],
   "source": [
    "s0 = '0011001013001'"
   ]
  },
  {
   "cell_type": "code",
   "execution_count": null,
   "metadata": {
    "collapsed": true
   },
   "outputs": [],
   "source": []
  }
 ],
 "metadata": {
  "kernelspec": {
   "display_name": "Python 3",
   "language": "python",
   "name": "python3"
  },
  "language_info": {
   "codemirror_mode": {
    "name": "ipython",
    "version": 3
   },
   "file_extension": ".py",
   "mimetype": "text/x-python",
   "name": "python",
   "nbconvert_exporter": "python",
   "pygments_lexer": "ipython3",
   "version": "3.6.3"
  },
  "toc": {
   "nav_menu": {},
   "number_sections": true,
   "sideBar": true,
   "skip_h1_title": false,
   "title_cell": "Table of Contents",
   "title_sidebar": "Contents",
   "toc_cell": false,
   "toc_position": {},
   "toc_section_display": true,
   "toc_window_display": false
  }
 },
 "nbformat": 4,
 "nbformat_minor": 2
}
