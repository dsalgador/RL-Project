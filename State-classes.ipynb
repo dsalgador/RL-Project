{
 "cells": [
  {
   "cell_type": "code",
   "execution_count": 3167,
   "metadata": {
    "collapsed": true
   },
   "outputs": [],
   "source": [
    "import numpy as np\n",
    "import math\n",
    "import networkx as nx\n",
    "import random\n",
    "\n",
    "import matplotlib.pyplot as plt"
   ]
  },
  {
   "cell_type": "code",
   "execution_count": null,
   "metadata": {
    "collapsed": true
   },
   "outputs": [],
   "source": [
    "\n",
    "    "
   ]
  },
  {
   "cell_type": "code",
   "execution_count": 3168,
   "metadata": {
    "collapsed": true
   },
   "outputs": [],
   "source": [
    "class Tank():\n",
    "    def __init__(self, tank_id, current_load, max_load, consumption_rate, n_discrete_load_levels):\n",
    "        self.id = tank_id\n",
    "        self.load = current_load\n",
    "        self.max_load = max_load\n",
    "        self.rate = consumption_rate\n",
    "        self.levels = np.linspace(0,self.max_load, n_discrete_load_levels+1)\n",
    "   \n",
    "    def fill(self):\n",
    "        self.load = self.max_load    \n",
    "        \n",
    "    def partial_fill(self, fill_percentage):\n",
    "        self.load = self.load + self.max_load * fill_percentage\n",
    "    \n",
    "    def tank_extra_capacity(self):\n",
    "        return(self.max_load - self.load)\n",
    "       \n",
    "    def is_empty(self):\n",
    "        if self.load <= 0:\n",
    "            return(True)\n",
    "        else:\n",
    "            return(False)\n",
    "       \n",
    "    def consume(self):\n",
    "        self.load = self.load - self.rate\n",
    "       \n",
    "    def load_to_lvl(self):\n",
    "        levels = self.levels\n",
    "        lvl = np.amin(np.where(np.isin(levels,levels[ (levels >= self.load) ])))-1\n",
    "        print(lvl)\n",
    "        return(lvl)\n",
    " "
   ]
  },
  {
   "cell_type": "code",
   "execution_count": 3169,
   "metadata": {
    "collapsed": true
   },
   "outputs": [],
   "source": [
    "class Truck():\n",
    "    def __init__(self, truck_id, current_load, max_load, current_position, load_fractions_deliverable,\n",
    "                n_discrete_load_levels):\n",
    "        self.id = truck_id\n",
    "        self.load = current_load\n",
    "        self.max_load = max_load\n",
    "        self.pos = current_position\n",
    "        self.fractions = load_fractions_deliverable\n",
    "        self.levels = np.linspace(0,self.max_load, n_discrete_load_levels+1)\n",
    "     \n",
    "    def fill(self):\n",
    "        self.load = self.max_load\n",
    "        \n",
    "    def deliver(self, fraction_id: int):\n",
    "        self.load = self.load - self.fractions[fraction_id] * self.max_load\n",
    "    \n",
    "    def possible_delivery_quantities(self, tank_extra_capacity):\n",
    "        all_delivery_quantities = self.load * self.fractions\n",
    "        return(all_delivery_quantities[ all_delivery_quantities <= tank_extra_capacity].astype(list))\n",
    "    \n",
    "    def load_to_lvl(self):\n",
    "        levels = self.levels\n",
    "        lvl = np.amin(np.where(np.isin(levels,levels[ (levels >= self.load) ])))-1\n",
    "        print(lvl)\n",
    "        return(lvl)\n",
    " "
   ]
  },
  {
   "cell_type": "code",
   "execution_count": 3170,
   "metadata": {},
   "outputs": [],
   "source": [
    "class System():\n",
    "    def __init__(self, tanks, trucks, adjacency_matrix, weights_matrix):\n",
    "        self.tanks = tanks\n",
    "        self.trucks = trucks\n",
    "        self.graph = adjacency_matrix\n",
    "        self.weights = weights_matrix\n",
    "        self.k = len(trucks)\n",
    "        self.n = len(tanks)\n",
    "        self.s = self.state()\n",
    "        self.ds = self.discrete_state()\n",
    "        \n",
    "        self.tanks_id = self.tank_ids()\n",
    "        self.trucks_id = self.truck_ids()\n",
    "        self.tanks_max_load = self.tank_max_loads()\n",
    "        self.trucks_max_load = self.truck_max_loads()\n",
    "        self.tanks_level = self.tank_levels()\n",
    "        self.trucks_level = self.truck_levels()\n",
    "        \n",
    "        #\n",
    "        self.actions_dim = self.n * self.k\n",
    "        self.states_dim = self.n_states()\n",
    "    \n",
    "    def n_states(self):\n",
    "        n_s = 1\n",
    "        possible_fractions_deliverable = [0] * self.k\n",
    "        for i,truck in enumerate(trucks):\n",
    "            possible_fractions_deliverable[i] = possible_fractions_deliverable[i] + len(truck.fractions)\n",
    "        \n",
    "        n_s = self.n**2 \n",
    "        for i in range(self.k):\n",
    "            n_s = n_s * (possible_fractions_deliverable[i] + 1)\n",
    "        \n",
    "        n_s = n_s * np.prod([len(self.tanks_level[i]) for i in range(self.n)])\n",
    "            \n",
    "        return(n_s)    \n",
    "               \n",
    "        \n",
    "    def truck_loads(self):\n",
    "        return([self.trucks[i].load for i in range(self.k)])\n",
    "    \n",
    "    def truck_max_loads(self):\n",
    "        return([self.trucks[i].max_load for i in range(self.k)])\n",
    "    \n",
    "    def truck_positions(self):\n",
    "        return([self.trucks[i].pos for i in range(self.k)])\n",
    "    \n",
    "    def truck_ids(self):\n",
    "        return([self.trucks[i].id for i in range(self.k)])\n",
    "    \n",
    "    def truck_levels(self):\n",
    "        return([self.trucks[i].levels for i in range(self.k)])\n",
    "    \n",
    "    \n",
    "    \n",
    "    \n",
    "    def tank_loads(self):\n",
    "        return([self.tanks[i].load for i in range(self.n)])\n",
    "    \n",
    "    def tank_max_loads(self):\n",
    "        return([self.tanks[i].max_load for i in range(self.n)])\n",
    "    \n",
    "    def tank_ids(self):\n",
    "        return([self.tanks[i].id for i in range(self.n)])\n",
    "    \n",
    "    def tank_levels(self):\n",
    "        return([self.tanks[i].levels for i in range(self.n)])\n",
    "\n",
    "    \n",
    "        \n",
    "    \n",
    "    def state(self):\n",
    "        #[ positions, truck-loads, tank-loads]\n",
    "        s = [self.truck_positions(), self.truck_loads(), self.tank_loads()]\n",
    "        return(s)\n",
    "    \n",
    "    def discrete_state(self):\n",
    "        ds = [[],[] ,[] ]\n",
    "        ds[0] = self.s[0]\n",
    "        \n",
    "        for i, truck in enumerate(self.trucks):\n",
    "            ds[1].append(truck.load_to_lvl())\n",
    "            \n",
    "            \n",
    "        for i, tank in enumerate(self.tanks):\n",
    "            ds[2].append(tank.load_to_lvl())\n",
    "            \n",
    "        return(ds)    \n",
    "            \n",
    "    \n",
    "    def update_state(self):\n",
    "        self.s = self.state()\n",
    "        self.ds = self.discrete_state()\n",
    "        \n",
    "    def visualize(self):\n",
    "            #s = self.state()\n",
    "            index = np.arange(self.n)\n",
    "            plt.bar(index, self.tanks_max_load, color = 'black')\n",
    "            plt.bar(index, self.tank_loads(), color = 'blue' )\n",
    "            plt.xlabel('Tank id', fontsize=10)\n",
    "            plt.ylabel('Current level', fontsize=10)\n",
    "            plt.xticks(index, self.tanks_id, fontsize=10, rotation=30)\n",
    "            plt.title('Current tanks state')\n",
    "            plt.show()\n",
    "                \n",
    "    \n",
    "    def is_some_tank_empty(self):\n",
    "        for tank in self.tanks:\n",
    "            if tank.is_empty():\n",
    "                return(True)\n",
    "        return(False)    \n",
    "    \n",
    "    def reset_trucks_positions(self):\n",
    "        for truck in trucks:\n",
    "            truck.pos = 0\n",
    "        \n",
    "    def random_action(self, seed = None, verbose = False):\n",
    "        if seed != None:\n",
    "            random.seed(seed)\n",
    "            \n",
    "        rewards = 0     \n",
    "            \n",
    "        # Choose a position for each truck randomly\n",
    "        \n",
    "        #CORRE GIR EL CODIGO, PLANTEAMIENTO PARA QUE FUNCIONE\n",
    "        #possible_positions_index = np.isin(self.graph, 1)\n",
    "        #possible_positions = np.where(possible_positions_index)\n",
    "        #print(\"possible_positions:\", possible_positions)\n",
    "        for i in range(self.k):\n",
    "            old_position = trucks[i].pos\n",
    "            if verbose: print(\"truck pos: \", old_position)\n",
    "            possible_positions_index = np.isin(self.graph[old_position], 1)\n",
    "            possible_positions = np.where(possible_positions_index)\n",
    "            #random.randint(0,len(possible_positions[0])-1)\n",
    "            if verbose: print(\"nº of possible positions\", len(possible_positions_index))\n",
    "            new_position = random.randrange(len(possible_positions_index)-1 )\n",
    "            if verbose: print(\"new position: \",new_position)\n",
    "            self.trucks[i].pos = new_position\n",
    "            if verbose: print(\"possible_positions:\", possible_positions)\n",
    "            \n",
    "            # Update rewards due to oil costs (transport/km)\n",
    "            rewards = rewards - self.weights[old_position][new_position]\n",
    "\n",
    "            \n",
    "            \n",
    "        # Choose a new (possible) load delivery for each truck to the new tank (position)\n",
    "        # and update the tank's load after deliverying the chosen quantity.\n",
    "        for i in range(self.k):\n",
    "                truck_pos = self.trucks[i].pos\n",
    "                print(\"truck_pos: \", truck_pos)\n",
    "\n",
    "                current_truck = trucks[i]\n",
    "                current_tank = tanks[truck_pos]\n",
    "                current_extra_tank_capacity = current_tank.tank_extra_capacity()\n",
    "                possible_delivery_quantities = current_truck.possible_delivery_quantities(current_extra_tank_capacity)\n",
    "                if verbose: print(\"Possible delivery quantities: \", possible_delivery_quantities)\n",
    "                if possible_delivery_quantities.size == 0:\n",
    "                    if verbose: print(f\"Truck {trucks[i].id} in tank {trucks[i].pos} does not deliver\")\n",
    "                else:\n",
    "                    delivery_quantity = np.random.choice(possible_delivery_quantities)\n",
    "                    current_tank.load = current_tank.load + delivery_quantity\n",
    "                    if verbose: print(f\"Truck {trucks[i].id} in tank {trucks[i].pos} delivers {delivery_quantity} units\")\n",
    "                \n",
    "                    rewards = rewards - delivery_quantity\n",
    "                    \n",
    "        #old_state = self.state()    \n",
    "        \n",
    "        # Update the loads of the tanks accordig to their consumption rates\n",
    "        for tank in self.tanks:           \n",
    "            tank.consume()\n",
    "            \n",
    "        #new_state = self.state()\n",
    "        \n",
    "        # Penalize infinitelly if some tank is empty\n",
    "        if self.is_some_tank_empty():\n",
    "            rewards = -np.inf\n",
    "            \n",
    "        self.update_state()    \n",
    "\n",
    "        return(rewards)\n",
    "            \n",
    "\n",
    "        \n",
    "        \n",
    "        \n",
    "        \n",
    "        \n",
    "   \n"
   ]
  },
  {
   "cell_type": "code",
   "execution_count": 3171,
   "metadata": {},
   "outputs": [
    {
     "name": "stdout",
     "output_type": "stream",
     "text": [
      "1.13.3\n"
     ]
    }
   ],
   "source": [
    "random.randint(0,100)\n",
    "print(np.__version__)\n",
    "\n"
   ]
  },
  {
   "cell_type": "code",
   "execution_count": 3172,
   "metadata": {},
   "outputs": [
    {
     "name": "stdout",
     "output_type": "stream",
     "text": [
      "[[1 1 1 1 1 1]\n",
      " [0 0 0 0 0 0]\n",
      " [0 0 0 0 0 0]\n",
      " [0 0 0 0 0 0]\n",
      " [0 0 0 0 0 0]\n",
      " [0 0 0 0 0 0]]\n",
      "[[1 1 1 1 1 1]\n",
      " [0 1 1 0 0 0]\n",
      " [1 1 1 1 1 1]\n",
      " [0 0 0 0 0 0]\n",
      " [0 0 0 0 0 0]\n",
      " [0 0 0 0 0 0]]\n"
     ]
    },
    {
     "data": {
      "text/plain": [
       "array([0, 1, 1, 0, 0, 0])"
      ]
     },
     "execution_count": 3172,
     "metadata": {},
     "output_type": "execute_result"
    }
   ],
   "source": [
    "# A simple system's adjacency matrix\n",
    "n = 5\n",
    "\n",
    "def simple_graph(n: int):    \n",
    "    A = np.zeros((n,n))\n",
    "    A[0,0:n] = 1\n",
    "    A = A.astype(int)\n",
    "    return(A)\n",
    "\n",
    "A = simple_graph(n+1)\n",
    "\n",
    "print(A)\n",
    "\n",
    "G = nx.from_numpy_matrix(np.array(A)) \n",
    "nx.draw(G, with_labels=True)\n",
    "\n",
    "A[1][1] = 1\n",
    "A[1][2] = 1\n",
    "A[2] = 1\n",
    "print(A)\n",
    "A[1]"
   ]
  },
  {
   "cell_type": "code",
   "execution_count": 3173,
   "metadata": {},
   "outputs": [
    {
     "name": "stdout",
     "output_type": "stream",
     "text": [
      "(array([1, 2]),) 1\n"
     ]
    }
   ],
   "source": [
    "possible_positions_index = np.isin(A[1], 1)\n",
    "possible_positions = np.where(possible_positions_index)\n",
    "print(possible_positions,random.randrange(len(possible_positions) +1 ) )"
   ]
  },
  {
   "cell_type": "code",
   "execution_count": 3174,
   "metadata": {},
   "outputs": [],
   "source": [
    "# Tanks' information\n",
    "n = 5 \n",
    "tank_ids = list(range(1,n+1))\n",
    "tank_max_loads =  np.array([100., 100., 200., 300., 400.])\n",
    "tank_current_loads =  np.array([50., 60., 120., 150., 300.])\n",
    "tank_consumption_rates =  np.array([10.] * n)\n",
    "\n",
    "n_discrete_load_levels = np.array([5,5,10,10,10])\n"
   ]
  },
  {
   "cell_type": "code",
   "execution_count": 3175,
   "metadata": {
    "collapsed": true
   },
   "outputs": [],
   "source": [
    "# Trucks' information\n",
    "k = 2\n",
    "truck_ids = list(range(k))\n",
    "truck_max_loads = np.array([20., 50.])\n",
    "truck_current_loads = truck_max_loads.copy()\n",
    "truck_current_positions =  np.array([0] * k)\n",
    "#truck_fractions_deliverable =  np.array([1.] * k) # we for now we only allow to deliver all the content of the truck\n",
    "truck_fractions_deliverable =  np.array([ np.array([0.5, 1.]), \n",
    "                                          np.array([0.5, 1.])\n",
    "                                        ]) # we for now we only allow to deliver all the content of the truck\n",
    "n_discrete_load_levels_trucks = np.array([2,2])\n"
   ]
  },
  {
   "cell_type": "code",
   "execution_count": 3176,
   "metadata": {},
   "outputs": [
    {
     "name": "stdout",
     "output_type": "stream",
     "text": [
      "1\n",
      "1\n",
      "2\n",
      "2\n",
      "5\n",
      "4\n",
      "7\n"
     ]
    }
   ],
   "source": [
    "# System's information\n",
    "graph = simple_graph(n+1)\n",
    "tanks = [Tank( tank_id, current_load, max_load, consumption_rate, n_lvls) \n",
    "         for  tank_id, current_load, max_load, consumption_rate, n_lvls in \n",
    "         zip( tank_ids, tank_current_loads, tank_max_loads, tank_consumption_rates, n_discrete_load_levels)]\n",
    "trucks = [Truck( truck_id, current_load, max_load, current_position, load_fractions_deliverable, n_lvls) \n",
    "         for  truck_id, current_load, max_load, current_position, load_fractions_deliverable, n_lvls in \n",
    "         zip(truck_ids, truck_current_loads, truck_max_loads, truck_current_positions, \n",
    "             truck_fractions_deliverable, n_discrete_load_levels_trucks)]\n",
    "\n",
    "def simple_weights(n:int, w: float):    \n",
    "    W = np.full((n,n), np.inf)\n",
    "    W[0,:] = w\n",
    "    return(W)\n",
    "w =  np.array([0, 20., 10., 30., 50.5, 45.])\n",
    "\n",
    "weights_matrix = simple_weights(n+1, w)\n",
    "\n",
    "toy_system = System(tanks, trucks, graph, weights_matrix)\n"
   ]
  },
  {
   "cell_type": "code",
   "execution_count": 3177,
   "metadata": {},
   "outputs": [
    {
     "name": "stdout",
     "output_type": "stream",
     "text": [
      "1\n",
      "2\n",
      "3\n",
      "4\n",
      "5\n",
      "[50.0, 60.0, 120.0, 150.0, 300.0]\n",
      "[0, 0]\n",
      "[[0, 0], [20.0, 50.0], [50.0, 60.0, 120.0, 150.0, 300.0]]\n",
      "[[  0.   20.   10.   30.   50.5  45. ]\n",
      " [  inf   inf   inf   inf   inf   inf]\n",
      " [  inf   inf   inf   inf   inf   inf]\n",
      " [  inf   inf   inf   inf   inf   inf]\n",
      " [  inf   inf   inf   inf   inf   inf]\n",
      " [  inf   inf   inf   inf   inf   inf]]\n"
     ]
    }
   ],
   "source": [
    "for i in range(n):\n",
    "    print(tanks[i].id) \n",
    "\n",
    "#print(toy_system.truck_loads())\n",
    "print(toy_system.tank_loads())\n",
    "print(toy_system.truck_positions())\n",
    "\n",
    "print(toy_system.state())\n",
    "print(toy_system.weights)\n",
    "#POSITION 'n' is the position of the Charge location (node 0 in the plot) ???? clarify notation and code"
   ]
  },
  {
   "cell_type": "code",
   "execution_count": 3178,
   "metadata": {},
   "outputs": [
    {
     "name": "stdout",
     "output_type": "stream",
     "text": [
      "5\n"
     ]
    }
   ],
   "source": [
    "print(len(tanks))"
   ]
  },
  {
   "cell_type": "code",
   "execution_count": 3179,
   "metadata": {},
   "outputs": [
    {
     "data": {
      "image/png": "[encoded data removed]",
      "text/plain": [
       "<matplotlib.figure.Figure at 0x7f0ef8b5ef98>"
      ]
     },
     "metadata": {},
     "output_type": "display_data"
    }
   ],
   "source": [
    "    index = np.arange(len(tank_ids))\n",
    "    plt.bar(index, tank_max_loads)\n",
    "    plt.bar(index, tank_current_loads)\n",
    "    plt.xlabel('Tank id', fontsize=10)\n",
    "    plt.ylabel('Current level', fontsize=10)\n",
    "    plt.xticks(index, tank_ids, fontsize=10, rotation=30)\n",
    "    plt.title('Current tanks state')\n",
    "    plt.show()"
   ]
  },
  {
   "cell_type": "code",
   "execution_count": 3180,
   "metadata": {},
   "outputs": [
    {
     "data": {
      "image/png": "[encoded data removed]",
      "text/plain": [
       "<matplotlib.figure.Figure at 0x7f0ef8b065c0>"
      ]
     },
     "metadata": {},
     "output_type": "display_data"
    }
   ],
   "source": [
    "            index = np.arange(toy_system.n)\n",
    "            plt.bar(index, toy_system.tank_max_loads())\n",
    "            plt.bar(index, toy_system.tank_loads())\n",
    "            plt.xlabel('Tank id', fontsize=10)\n",
    "            plt.ylabel('Current level', fontsize=10)\n",
    "            plt.xticks(index, toy_system.tank_ids(), fontsize=10, rotation=30)\n",
    "            plt.title('Current tanks state')\n",
    "            plt.show()\n",
    "\n",
    "\n",
    "#toy_system.visualize()"
   ]
  },
  {
   "cell_type": "code",
   "execution_count": 3181,
   "metadata": {
    "scrolled": true
   },
   "outputs": [],
   "source": [
    "# seed = None\n",
    "# print(toy_system.state())\n",
    "# rewards = toy_system.random_action(seed)\n",
    "# print(toy_system.state())\n",
    "# print(\"Final rewards: \", rewards)"
   ]
  },
  {
   "cell_type": "code",
   "execution_count": 3182,
   "metadata": {
    "scrolled": true
   },
   "outputs": [
    {
     "name": "stdout",
     "output_type": "stream",
     "text": [
      "truck_pos:  4\n",
      "truck_pos:  4\n",
      "1\n",
      "1\n",
      "1\n",
      "2\n",
      "5\n",
      "4\n",
      "8\n",
      "[[4, 4], [20.0, 50.0], [40.0, 50.0, 110.0, 140.0, 350.0]]\n",
      "Final rewards:  -161.0\n"
     ]
    },
    {
     "data": {
      "image/png": "[encoded data removed]",
      "text/plain": [
       "<matplotlib.figure.Figure at 0x7f0ef8bf8860>"
      ]
     },
     "metadata": {},
     "output_type": "display_data"
    }
   ],
   "source": [
    "# Simulation\n",
    "for it in range(1):\n",
    "    rewards = toy_system.random_action(seed)\n",
    "    print(toy_system.state())\n",
    "    print(\"Final rewards: \", rewards)\n",
    "    toy_system.reset_trucks_positions()\n",
    "    toy_system.visualize()"
   ]
  },
  {
   "cell_type": "code",
   "execution_count": 3183,
   "metadata": {},
   "outputs": [
    {
     "data": {
      "text/plain": [
       "array([[  0. ,  20. ,  10. ,  30. ,  50.5,  45. ],\n",
       "       [  inf,   inf,   inf,   inf,   inf,   inf],\n",
       "       [  inf,   inf,   inf,   inf,   inf,   inf],\n",
       "       [  inf,   inf,   inf,   inf,   inf,   inf],\n",
       "       [  inf,   inf,   inf,   inf,   inf,   inf],\n",
       "       [  inf,   inf,   inf,   inf,   inf,   inf]])"
      ]
     },
     "execution_count": 3183,
     "metadata": {},
     "output_type": "execute_result"
    }
   ],
   "source": [
    "toy_system.weights"
   ]
  },
  {
   "cell_type": "code",
   "execution_count": 3184,
   "metadata": {},
   "outputs": [
    {
     "name": "stdout",
     "output_type": "stream",
     "text": [
      "[[1 1 1 1 1 1]\n",
      " [0 0 0 0 0 0]\n",
      " [0 0 0 0 0 0]\n",
      " [0 0 0 0 0 0]\n",
      " [0 0 0 0 0 0]\n",
      " [0 0 0 0 0 0]]\n"
     ]
    }
   ],
   "source": [
    "print(toy_system.graph)"
   ]
  },
  {
   "cell_type": "code",
   "execution_count": 3185,
   "metadata": {},
   "outputs": [
    {
     "data": {
      "text/plain": [
       "[20.0, 50.0]"
      ]
     },
     "execution_count": 3185,
     "metadata": {},
     "output_type": "execute_result"
    }
   ],
   "source": [
    "[trucks[j].load for j in range(k)]"
   ]
  },
  {
   "cell_type": "code",
   "execution_count": 3186,
   "metadata": {},
   "outputs": [
    {
     "data": {
      "text/plain": [
       "2"
      ]
     },
     "execution_count": 3186,
     "metadata": {},
     "output_type": "execute_result"
    }
   ],
   "source": [
    "k"
   ]
  },
  {
   "cell_type": "code",
   "execution_count": 3187,
   "metadata": {},
   "outputs": [
    {
     "data": {
      "text/plain": [
       "array([0, 0])"
      ]
     },
     "execution_count": 3187,
     "metadata": {},
     "output_type": "execute_result"
    }
   ],
   "source": [
    "truck_current_positions "
   ]
  },
  {
   "cell_type": "code",
   "execution_count": 3188,
   "metadata": {},
   "outputs": [
    {
     "ename": "TypeError",
     "evalue": "possible_delivery_quantities() missing 1 required positional argument: 'tank_extra_capacity'",
     "output_type": "error",
     "traceback": [
      "\u001b[0;31m---------------------------------------------------------------------------\u001b[0m",
      "\u001b[0;31mTypeError\u001b[0m                                 Traceback (most recent call last)",
      "\u001b[0;32m<ipython-input-3188-0c1a00d35bde>\u001b[0m in \u001b[0;36m<module>\u001b[0;34m()\u001b[0m\n\u001b[1;32m      1\u001b[0m \u001b[0;34m\u001b[0m\u001b[0m\n\u001b[0;32m----> 2\u001b[0;31m \u001b[0mtrucks\u001b[0m\u001b[0;34m[\u001b[0m\u001b[0;36m0\u001b[0m\u001b[0;34m]\u001b[0m\u001b[0;34m.\u001b[0m\u001b[0mpossible_delivery_quantities\u001b[0m\u001b[0;34m(\u001b[0m\u001b[0;34m)\u001b[0m\u001b[0;34m\u001b[0m\u001b[0m\n\u001b[0m",
      "\u001b[0;31mTypeError\u001b[0m: possible_delivery_quantities() missing 1 required positional argument: 'tank_extra_capacity'"
     ]
    }
   ],
   "source": [
    "\n",
    "trucks[0].possible_delivery_quantities()"
   ]
  },
  {
   "cell_type": "code",
   "execution_count": null,
   "metadata": {
    "collapsed": true
   },
   "outputs": [],
   "source": [
    "l = [[1,2,3], [1,2\n",
    "              ]]"
   ]
  },
  {
   "cell_type": "code",
   "execution_count": null,
   "metadata": {},
   "outputs": [],
   "source": [
    "l\n"
   ]
  },
  {
   "cell_type": "code",
   "execution_count": null,
   "metadata": {},
   "outputs": [],
   "source": [
    "len(l)"
   ]
  },
  {
   "cell_type": "code",
   "execution_count": null,
   "metadata": {
    "collapsed": true
   },
   "outputs": [],
   "source": [
    "n_states = toy_system.n_states()"
   ]
  },
  {
   "cell_type": "code",
   "execution_count": null,
   "metadata": {},
   "outputs": [],
   "source": [
    "n_states"
   ]
  },
  {
   "cell_type": "code",
   "execution_count": null,
   "metadata": {},
   "outputs": [],
   "source": [
    "5*5*3*3*5*5*10**3"
   ]
  },
  {
   "cell_type": "code",
   "execution_count": null,
   "metadata": {
    "collapsed": true
   },
   "outputs": [],
   "source": [
    "0"
   ]
  },
  {
   "cell_type": "code",
   "execution_count": null,
   "metadata": {},
   "outputs": [],
   "source": [
    "levels = trucks[0].levels\n",
    "np.where(np.isin(levels, levels[ (levels <= trucks[0].load) & (levels >= trucks[0].load)]))[0]"
   ]
  },
  {
   "cell_type": "code",
   "execution_count": null,
   "metadata": {},
   "outputs": [],
   "source": [
    "np.linspace(0,100, 11)"
   ]
  },
  {
   "cell_type": "code",
   "execution_count": null,
   "metadata": {},
   "outputs": [],
   "source": [
    "levels"
   ]
  },
  {
   "cell_type": "code",
   "execution_count": null,
   "metadata": {},
   "outputs": [],
   "source": [
    "trucks[0].load\n"
   ]
  },
  {
   "cell_type": "code",
   "execution_count": null,
   "metadata": {},
   "outputs": [],
   "source": [
    "levels"
   ]
  },
  {
   "cell_type": "code",
   "execution_count": null,
   "metadata": {},
   "outputs": [],
   "source": [
    "levels = trucks[0].levels\n",
    "load = 5.\n",
    "np.where(np.isin(levels, levels[ (levels <= load) & (levels >= load)]))[0]"
   ]
  },
  {
   "cell_type": "code",
   "execution_count": null,
   "metadata": {},
   "outputs": [],
   "source": [
    "np.amin(np.where(np.isin(levels,levels[ (levels >= load) ])))-1"
   ]
  },
  {
   "cell_type": "code",
   "execution_count": 3189,
   "metadata": {},
   "outputs": [
    {
     "data": {
      "text/plain": [
       "[[4, 4], [1, 1], [1, 2, 5, 4, 8]]"
      ]
     },
     "execution_count": 3189,
     "metadata": {},
     "output_type": "execute_result"
    }
   ],
   "source": [
    "toy_system.ds"
   ]
  },
  {
   "cell_type": "code",
   "execution_count": null,
   "metadata": {
    "collapsed": true
   },
   "outputs": [],
   "source": []
  }
 ],
 "metadata": {
  "kernelspec": {
   "display_name": "Python 3",
   "language": "python",
   "name": "python3"
  },
  "language_info": {
   "codemirror_mode": {
    "name": "ipython",
    "version": 3
   },
   "file_extension": ".py",
   "mimetype": "text/x-python",
   "name": "python",
   "nbconvert_exporter": "python",
   "pygments_lexer": "ipython3",
   "version": "3.6.3"
  },
  "toc": {
   "nav_menu": {},
   "number_sections": true,
   "sideBar": true,
   "skip_h1_title": false,
   "title_cell": "Table of Contents",
   "title_sidebar": "Contents",
   "toc_cell": false,
   "toc_position": {},
   "toc_section_display": true,
   "toc_window_display": false
  }
 },
 "nbformat": 4,
 "nbformat_minor": 2
}
