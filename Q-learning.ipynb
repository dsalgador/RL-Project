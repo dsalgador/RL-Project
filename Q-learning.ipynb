{
 "cells": [
  {
   "cell_type": "code",
   "execution_count": 1,
   "metadata": {},
   "outputs": [],
   "source": [
    "import model\n",
    "import numpy as np\n",
    "import random\n",
    "from utils import simple_graph\n",
    "import tank\n",
    "import truck\n",
    "\n",
    "\n",
    "import matplotlib.pyplot as plt\n",
    "from matplotlib import animation, rc\n",
    "from IPython.display import HTML"
   ]
  },
  {
   "cell_type": "code",
   "execution_count": 2,
   "metadata": {},
   "outputs": [],
   "source": [
    "\n",
    "def initialize_system():\n",
    "    # Tanks' information\n",
    "    global n\n",
    "    n=5\n",
    "    tank_ids = list(range(1,n+1))\n",
    "    tank_max_loads =  np.array([100., 100., 200., 300., 400.])\n",
    "    tank_current_loads =  np.array([50., 60., 120., 150., 300.])\n",
    "    tank_consumption_rates =  np.array([10.] * n)\n",
    "    \n",
    "    global n_discrete_load_levels\n",
    "    n_discrete_load_levels = np.array([5,5,10,10,10])\n",
    "\n",
    "    # Trucks' information\n",
    "    global k\n",
    "    k=2\n",
    "    truck_ids = list(range(k))\n",
    "    truck_max_loads = np.array([20., 50.])\n",
    "    truck_current_loads = truck_max_loads.copy()\n",
    "    truck_current_positions =  np.array([0] * k)\n",
    "    #truck_fractions_deliverable =  np.array([1.] * k) # we for now we only allow to deliver all the content of the truck\n",
    "    truck_fractions_deliverable =  np.array([ np.array([0.5, 1.]), \n",
    "                                              np.array([0.5, 1.])\n",
    "                                            ]) # we for now we only allow to deliver all the content of the truck\n",
    "    global n_discrete_load_levels_trucks\n",
    "    n_discrete_load_levels_trucks = np.array([2,2])\n",
    "\n",
    "    # System's information\n",
    "    def simple_graph(n: int):    \n",
    "        A = np.zeros((n,n))\n",
    "        A[0,0:n] = 1\n",
    "        A = A.astype(int)\n",
    "        return(A)\n",
    "\n",
    "    graph = simple_graph(n+1)\n",
    "    tanks = [tank.Tank( tank_id, current_load, max_load, consumption_rate, n_lvls) \n",
    "             for  tank_id, current_load, max_load, consumption_rate, n_lvls in \n",
    "             zip( tank_ids, tank_current_loads, tank_max_loads, tank_consumption_rates, n_discrete_load_levels)]\n",
    "    trucks = [truck.Truck( truck_id, current_load, max_load, current_position, load_fractions_deliverable, n_lvls) \n",
    "             for  truck_id, current_load, max_load, current_position, load_fractions_deliverable, n_lvls in \n",
    "             zip(truck_ids, truck_current_loads, truck_max_loads, truck_current_positions, \n",
    "                 truck_fractions_deliverable, n_discrete_load_levels_trucks)]\n",
    "\n",
    "    def simple_weights(n: int, w: float):    \n",
    "        W = np.full((n,n), np.inf)\n",
    "        W[0,:] = w\n",
    "        return(W)\n",
    "    w =  np.array([0, 20., 10., 30., 50.5, 45.])\n",
    "\n",
    "    weights_matrix = simple_weights(n+1, w)\n",
    "    \n",
    "    return(tanks, trucks, graph, weights_matrix)\n",
    "\n",
    "\n"
   ]
  },
  {
   "cell_type": "code",
   "execution_count": 3,
   "metadata": {},
   "outputs": [],
   "source": [
    "tanks, trucks, graph, weights_matrix = initialize_system()\n",
    "toy_system = model.System(tanks = tanks, trucks = trucks, adjacency_matrix = graph, weights_matrix = weights_matrix)"
   ]
  },
  {
   "cell_type": "code",
   "execution_count": 4,
   "metadata": {},
   "outputs": [
    {
     "name": "stdout",
     "output_type": "stream",
     "text": [
      "Final rewards:  -65.0\n",
      "Final rewards:  -inf\n",
      "Final rewards:  -inf\n",
      "Final rewards:  -inf\n",
      "Final rewards:  -inf\n",
      "Final rewards:  -inf\n",
      "Final rewards:  -inf\n",
      "Final rewards:  -inf\n",
      "Final rewards:  -inf\n",
      "Final rewards:  -inf\n",
      "Final rewards:  -inf\n",
      "Final rewards:  -inf\n",
      "Final rewards:  -inf\n",
      "Final rewards:  -inf\n",
      "Final rewards:  -inf\n",
      "Final rewards:  -inf\n",
      "Final rewards:  -inf\n",
      "Final rewards:  -inf\n",
      "Final rewards:  -inf\n",
      "Final rewards:  -inf\n",
      "Final rewards:  -inf\n",
      "Final rewards:  -inf\n",
      "Final rewards:  -inf\n",
      "Final rewards:  -inf\n",
      "Final rewards:  -inf\n",
      "Final rewards:  -inf\n",
      "Final rewards:  -inf\n",
      "Final rewards:  -inf\n",
      "Final rewards:  -inf\n",
      "Final rewards:  -inf\n",
      "Final rewards:  -inf\n",
      "Final rewards:  -inf\n",
      "Final rewards:  -inf\n",
      "Final rewards:  -inf\n",
      "Final rewards:  -inf\n",
      "Final rewards:  -inf\n",
      "Final rewards:  -inf\n",
      "Final rewards:  -inf\n",
      "Final rewards:  -inf\n",
      "Final rewards:  -inf\n",
      "Final rewards:  -inf\n",
      "Final rewards:  -inf\n",
      "Final rewards:  -inf\n",
      "Final rewards:  -inf\n",
      "Final rewards:  -inf\n",
      "Final rewards:  -inf\n",
      "Final rewards:  -inf\n",
      "Final rewards:  -inf\n",
      "Final rewards:  -inf\n",
      "Final rewards:  -inf\n"
     ]
    },
    {
     "data": {
      "image/png": "[encoded data removed]",
      "text/plain": [
       "<matplotlib.figure.Figure at 0x7f809e2fdc18>"
      ]
     },
     "metadata": {},
     "output_type": "display_data"
    }
   ],
   "source": [
    "# Simulation\n",
    "%matplotlib inline\n",
    "\n",
    "seed = None \n",
    "\n",
    "iterations = 50\n",
    "visualization_steps = []\n",
    "rewards_list = []\n",
    "\n",
    "for it in range(iterations):\n",
    "    rewards = toy_system.random_action(seed);\n",
    "    rewards_list.append(rewards)\n",
    "    #print(toy_system.state())\n",
    "    print(\"Final rewards: \", rewards);\n",
    "    toy_system.reset_trucks_positions();\n",
    "    visualization_steps.append(toy_system.visualize());"
   ]
  },
  {
   "cell_type": "code",
   "execution_count": 5,
   "metadata": {},
   "outputs": [
    {
     "data": {
      "text/plain": [
       "[60.0, 75.0, 110.0, 140.0, 290.0]"
      ]
     },
     "execution_count": 5,
     "metadata": {},
     "output_type": "execute_result"
    }
   ],
   "source": [
    "visualization_steps[0][2]"
   ]
  },
  {
   "cell_type": "code",
   "execution_count": 6,
   "metadata": {},
   "outputs": [
    {
     "data": {
      "text/plain": [
       "array([1, 2, 3, 4, 5])"
      ]
     },
     "execution_count": 6,
     "metadata": {},
     "output_type": "execute_result"
    }
   ],
   "source": [
    "visualization_steps[0][0]+1"
   ]
  },
  {
   "cell_type": "code",
   "execution_count": 7,
   "metadata": {
    "collapsed": true
   },
   "outputs": [],
   "source": [
    "visualization_steps;"
   ]
  },
  {
   "cell_type": "code",
   "execution_count": null,
   "metadata": {
    "collapsed": true
   },
   "outputs": [],
   "source": []
  },
  {
   "cell_type": "code",
   "execution_count": 8,
   "metadata": {},
   "outputs": [],
   "source": [
    "def create_system_animation(visualization_steps, n_iterations, skip = 1):\n",
    "    \n",
    "    def barlist(n, visualization_steps = visualization_steps): \n",
    "        return visualization_steps[n][2]\n",
    "\n",
    "    fig=plt.figure()\n",
    "\n",
    "    N=int(n_iterations/skip) #Number of frames\n",
    "    x=visualization_steps[0][0]+1\n",
    "\n",
    "    plt.bar(x,visualization_steps[0][1], color = 'black')\n",
    "    barcollection = plt.bar(x,barlist(0), color = 'blue')\n",
    "\n",
    "    def animate(i):\n",
    "        y=barlist(i+1)\n",
    "        for i, b in enumerate(barcollection):\n",
    "            b.set_height(y[i])\n",
    "\n",
    "    anim=animation.FuncAnimation(fig,animate,repeat=False,blit=False,frames=N-1,\n",
    "                                 interval=100)\n",
    "    return(anim)\n",
    "    #anim.save('mymovie.mp4',writer=animation.FFMpegWriter(fps=10))\n",
    "    #plt.show()"
   ]
  },
  {
   "cell_type": "code",
   "execution_count": 9,
   "metadata": {
    "collapsed": true
   },
   "outputs": [],
   "source": [
    "#toy_system.visualize_step(visualization_steps[2]);"
   ]
  },
  {
   "cell_type": "code",
   "execution_count": 10,
   "metadata": {},
   "outputs": [
    {
     "data": {
      "text/plain": [
       "[<matplotlib.lines.Line2D at 0x7f8096023128>]"
      ]
     },
     "execution_count": 10,
     "metadata": {},
     "output_type": "execute_result"
    },
    {
     "data": {
      "image/png": "[encoded data removed]",
      "text/plain": [
       "<matplotlib.figure.Figure at 0x7f8096460be0>"
      ]
     },
     "metadata": {},
     "output_type": "display_data"
    }
   ],
   "source": [
    "%matplotlib inline\n",
    "plt.plot(range(iterations),rewards_list)"
   ]
  },
  {
   "cell_type": "code",
   "execution_count": 11,
   "metadata": {},
   "outputs": [
    {
     "data": {
      "text/plain": [
       "3600000"
      ]
     },
     "execution_count": 11,
     "metadata": {},
     "output_type": "execute_result"
    }
   ],
   "source": [
    "toy_system.n_states()"
   ]
  },
  {
   "cell_type": "code",
   "execution_count": 12,
   "metadata": {},
   "outputs": [
    {
     "data": {
      "text/plain": [
       "3600000"
      ]
     },
     "execution_count": 12,
     "metadata": {},
     "output_type": "execute_result"
    }
   ],
   "source": [
    "n_s = ((n+1)**k)\n",
    "a = np.prod(n_discrete_load_levels)\n",
    "b = np.prod(n_discrete_load_levels_trucks)\n",
    "n_s = n_s *a *b\n",
    "n_s"
   ]
  },
  {
   "cell_type": "code",
   "execution_count": null,
   "metadata": {
    "collapsed": true
   },
   "outputs": [],
   "source": []
  },
  {
   "cell_type": "code",
   "execution_count": null,
   "metadata": {
    "collapsed": true
   },
   "outputs": [],
   "source": []
  },
  {
   "cell_type": "code",
   "execution_count": null,
   "metadata": {
    "collapsed": true
   },
   "outputs": [],
   "source": []
  },
  {
   "cell_type": "code",
   "execution_count": null,
   "metadata": {
    "collapsed": true
   },
   "outputs": [],
   "source": [
    "\n"
   ]
  },
  {
   "cell_type": "code",
   "execution_count": null,
   "metadata": {
    "collapsed": true
   },
   "outputs": [],
   "source": []
  },
  {
   "cell_type": "code",
   "execution_count": null,
   "metadata": {
    "collapsed": true
   },
   "outputs": [],
   "source": []
  },
  {
   "cell_type": "code",
   "execution_count": null,
   "metadata": {
    "collapsed": true
   },
   "outputs": [],
   "source": []
  },
  {
   "cell_type": "markdown",
   "metadata": {},
   "source": [
    "# Small system to apply Q-learning algorithm\n"
   ]
  },
  {
   "cell_type": "code",
   "execution_count": 13,
   "metadata": {},
   "outputs": [
    {
     "name": "stdout",
     "output_type": "stream",
     "text": [
      "[[ inf  inf  inf  inf  inf  inf]\n",
      " [ inf  inf  inf  inf  inf  inf]\n",
      " [ inf  inf  inf  inf  inf  inf]\n",
      " [ inf  inf  inf  inf  inf  inf]\n",
      " [ inf  inf  inf  inf  inf  inf]\n",
      " [  0.  20.  20.  20.  20.  20.]]\n"
     ]
    },
    {
     "data": {
      "text/plain": [
       "1474560"
      ]
     },
     "execution_count": 13,
     "metadata": {},
     "output_type": "execute_result"
    }
   ],
   "source": [
    "def initialize_test_system():\n",
    "    \n",
    "    # Tanks' information\n",
    "    global n\n",
    "    n = 5 \n",
    "    tank_ids = list(range(1,n+1))\n",
    "    tank_max_loads =  np.array([100., 100., 200., 300., 400.])\n",
    "    #tank_current_loads =  np.array([50., 60., 120., 150., 300.])\n",
    "    tank_current_loads = tank_max_loads.copy()\n",
    "    tank_consumption_rates =  np.array([5.] * n)\n",
    "    \n",
    "    global n_discrete_load_levels\n",
    "    n_discrete_load_levels = np.array([4,4,4,4,4])\n",
    "\n",
    "    # Trucks' information\n",
    "    global k\n",
    "    k = 2\n",
    "    truck_ids = list(range(k))\n",
    "    truck_max_loads = np.array([20., 50.])\n",
    "    truck_current_loads = truck_max_loads.copy()\n",
    "    truck_current_positions =  np.array([5] * k)\n",
    "    #truck_fractions_deliverable =  np.array([1.] * k) # we for now we only allow to deliver all the content of the truck\n",
    "    truck_fractions_deliverable =  np.array([ np.array([0.5, 1.]), \n",
    "                                              np.array([0.5, 1.])\n",
    "                                            ]) # we for now we only allow to deliver all the content of the truck\n",
    "    global n_discrete_load_levels_trucks\n",
    "    n_discrete_load_levels_trucks = np.array([2,2])\n",
    "\n",
    "    # System's information\n",
    "    def simple_graph(n: int):    \n",
    "        A = np.zeros((n,n))\n",
    "        A[(n-1),0:n] = 1\n",
    "        A = A.astype(int)\n",
    "        return(A)\n",
    "\n",
    "    graph = simple_graph(n+1)\n",
    "    tanks = [tank.Tank( tank_id, current_load, max_load, consumption_rate, n_lvls) \n",
    "             for  tank_id, current_load, max_load, consumption_rate, n_lvls in \n",
    "             zip( tank_ids, tank_current_loads, tank_max_loads, tank_consumption_rates, n_discrete_load_levels)]\n",
    "    trucks = [truck.Truck( truck_id, current_load, max_load, current_position, load_fractions_deliverable, n_lvls) \n",
    "             for  truck_id, current_load, max_load, current_position, load_fractions_deliverable, n_lvls in \n",
    "             zip(truck_ids, truck_current_loads, truck_max_loads, truck_current_positions, \n",
    "                 truck_fractions_deliverable, n_discrete_load_levels_trucks)]\n",
    "\n",
    "    def simple_weights(n: int, w: float):    \n",
    "        W = np.full((n,n), np.inf)\n",
    "        W[(n-1),:] = w\n",
    "        return(W)\n",
    "    #w =  np.array([0, 20., 10., 30., 50.5, 45.])\n",
    "    w =  np.array([0., 20., 20., 20., 20., 20.])\n",
    "\n",
    "    weights_matrix = simple_weights(n+1, w)\n",
    "    \n",
    "    return(tanks, trucks, graph, weights_matrix)\n",
    "\n",
    "tanks, trucks, graph, weights_matrix = initialize_test_system()\n",
    "toy_system = model.System(tanks = tanks, trucks = trucks, adjacency_matrix = graph, weights_matrix = weights_matrix)\n",
    "\n",
    "print(toy_system.weights)\n",
    "\n",
    "a_s_dim = toy_system.states_dim * toy_system.actions_dim\n",
    "a_s_dim"
   ]
  },
  {
   "cell_type": "code",
   "execution_count": 14,
   "metadata": {},
   "outputs": [
    {
     "data": {
      "text/plain": [
       "array([1, 1, 1, 1, 1, 1])"
      ]
     },
     "execution_count": 14,
     "metadata": {},
     "output_type": "execute_result"
    }
   ],
   "source": [
    "toy_system.graph[5]"
   ]
  },
  {
   "cell_type": "code",
   "execution_count": 15,
   "metadata": {},
   "outputs": [
    {
     "name": "stdout",
     "output_type": "stream",
     "text": [
      "Final rewards:  -inf\n"
     ]
    },
    {
     "data": {
      "text/plain": [
       "[[5, 1], [0, 1]]"
      ]
     },
     "execution_count": 15,
     "metadata": {},
     "output_type": "execute_result"
    }
   ],
   "source": [
    "toy_system.discrete_state()\n",
    "\n",
    "\n",
    "\n",
    "rewards = toy_system.random_action(seed);\n",
    "rewards_list.append(rewards)\n",
    "#prnt(toy_system.state())\n",
    "print(\"Final rewards: \", rewards);\n",
    "toy_system.reset_trucks_positions();\n",
    "\n",
    "toy_system.da"
   ]
  },
  {
   "cell_type": "code",
   "execution_count": 16,
   "metadata": {},
   "outputs": [
    {
     "data": {
      "text/plain": [
       "[[5, 5], [1, 1], [3, 3, 3, 3, 3]]"
      ]
     },
     "execution_count": 16,
     "metadata": {},
     "output_type": "execute_result"
    }
   ],
   "source": [
    "toy_system.ds"
   ]
  },
  {
   "cell_type": "code",
   "execution_count": null,
   "metadata": {
    "collapsed": true
   },
   "outputs": [],
   "source": []
  },
  {
   "cell_type": "code",
   "execution_count": 17,
   "metadata": {
    "collapsed": true
   },
   "outputs": [],
   "source": [
    "a = [[3, 4], [1, 1], [0, 0, 1, 0, 1]]\n",
    "aa= ''.join(str(''.join(str(y) for y in x)) for x in a)"
   ]
  },
  {
   "cell_type": "code",
   "execution_count": 18,
   "metadata": {},
   "outputs": [
    {
     "name": "stdout",
     "output_type": "stream",
     "text": [
      "[[5, 5], [1, 1], [3, 3, 3, 3, 3]]\n",
      "[[5, 1], [0, 1]]\n"
     ]
    }
   ],
   "source": [
    "print(toy_system.ds)\n",
    "print(toy_system.da)"
   ]
  },
  {
   "cell_type": "code",
   "execution_count": 19,
   "metadata": {},
   "outputs": [
    {
     "data": {
      "text/plain": [
       "'5511333335101'"
      ]
     },
     "execution_count": 19,
     "metadata": {},
     "output_type": "execute_result"
    }
   ],
   "source": [
    "sa_new = toy_system.state_action_to_string()\n",
    "sa_new"
   ]
  },
  {
   "cell_type": "code",
   "execution_count": 20,
   "metadata": {
    "collapsed": true
   },
   "outputs": [],
   "source": [
    "new_dict = {}\n",
    "new_dict[sa_new] = {\"qval\": 1}"
   ]
  },
  {
   "cell_type": "code",
   "execution_count": 21,
   "metadata": {},
   "outputs": [
    {
     "data": {
      "text/plain": [
       "1"
      ]
     },
     "execution_count": 21,
     "metadata": {},
     "output_type": "execute_result"
    }
   ],
   "source": [
    "new_dict[sa_new]['qval']"
   ]
  },
  {
   "cell_type": "markdown",
   "metadata": {},
   "source": [
    "## Off-policy algorithm (Train)"
   ]
  },
  {
   "cell_type": "code",
   "execution_count": 22,
   "metadata": {},
   "outputs": [],
   "source": [
    "learning_rate0 = 0.05\n",
    "learning_rate_decay = 0.1\n",
    "n_iterations = 100\n",
    "discount_rate = 0.8\n",
    "\n",
    "tanks, trucks, graph, weights_matrix = initialize_test_system()\n",
    "toy_system = model.System(tanks = tanks, trucks = trucks, adjacency_matrix = graph, weights_matrix = weights_matrix)\n",
    "\n",
    "Q = {}\n",
    "\n",
    "def is_key(dic, key):\n",
    "    if key in dic:\n",
    "        return(True)\n",
    "    else: return(False)\n",
    "\n",
    "is_key(new_dict, sa_new)\n",
    "\n",
    "state_length = 2*k + n"
   ]
  },
  {
   "cell_type": "code",
   "execution_count": 23,
   "metadata": {
    "collapsed": true
   },
   "outputs": [],
   "source": [
    "import pickle\n",
    "\n",
    "def save_obj(obj, name ):\n",
    "    with open('obj/'+ name + '.pkl', 'wb') as f:\n",
    "        pickle.dump(obj, f, pickle.HIGHEST_PROTOCOL)\n",
    "\n",
    "def load_obj(name ):\n",
    "    with open('obj/' + name + '.pkl', 'rb') as f:\n",
    "        return pickle.load(f)"
   ]
  },
  {
   "cell_type": "code",
   "execution_count": null,
   "metadata": {
    "collapsed": true
   },
   "outputs": [],
   "source": []
  },
  {
   "cell_type": "code",
   "execution_count": 24,
   "metadata": {},
   "outputs": [
    {
     "name": "stdout",
     "output_type": "stream",
     "text": [
      "Iteration  0\n",
      "s, a [[5, 5], [20.0, 50.0], [100.0, 100.0, 200.0, 300.0, 400.0]] [[3, 2], [0, 0]]\n",
      "ds, da [[5, 5], [1, 1], [3, 3, 3, 3, 3]] [[3, 2], [1, 1]]\n"
     ]
    },
    {
     "data": {
      "image/png": "[encoded data removed]",
      "text/plain": [
       "<matplotlib.figure.Figure at 0x7f8095ebdf98>"
      ]
     },
     "metadata": {},
     "output_type": "display_data"
    }
   ],
   "source": [
    "# \"Train zone\". Q-values are being converging to the optimal, theoretically\n",
    "\n",
    "train = True\n",
    "if train:\n",
    "\n",
    "    visualization_steps = []\n",
    "    rewards_list = []\n",
    "\n",
    "    verbose = False\n",
    "    verbose_info = True\n",
    "\n",
    "    for iteration in range(n_iterations):\n",
    "        toy_system.update_state() \n",
    "\n",
    "        if verbose: print(\"System state before, \", toy_system.ds)\n",
    "\n",
    "        reward = toy_system.random_action(seed = None, verbose = verbose)\n",
    "        sa_current = toy_system.state_action_to_string()\n",
    "\n",
    "        if is_key(Q, sa_current) == False:\n",
    "            Q[sa_current] = 0\n",
    "\n",
    "        learning_rate = learning_rate0 / (1+iteration*learning_rate_decay)\n",
    "\n",
    "        Q_max = max([Q[key] for key in Q.keys() if key.startswith(sa_current[0:state_length])])\n",
    "        \n",
    "        if Q[sa_current] != -np.inf:\n",
    "            Q[sa_current] = ( (1-learning_rate) * Q[sa_current] \n",
    "                             + learning_rate* (reward + discount_rate * Q_max)\n",
    "                            )\n",
    "        if verbose:\n",
    "            print(\"System state after, \", toy_system.ds)\n",
    "            print(\"System action after, \", toy_system.da)\n",
    "            print(\"sa current, \", sa_current)\n",
    "\n",
    "        toy_system.reset_trucks_positions();\n",
    "        toy_system.reset_trucks_loads();\n",
    "\n",
    "        if iteration % 10000 == 0:\n",
    "            print(\"Iteration \", iteration)\n",
    "            if verbose_info:\n",
    "                print(\"s, a\", toy_system.s, toy_system.a)\n",
    "                print(\"ds, da\", toy_system.ds, toy_system.da)\n",
    "                \n",
    "            #Save visualization and rewards\n",
    "            rewards_list.append(rewards);\n",
    "            visualization_steps.append(toy_system.visualize());    \n",
    "\n",
    "            save_obj(Q, \"Q-dict-test-\" + f\"{iteration}\")   \n",
    "            save_obj(visualization_steps, \"vis/vis-train-test-\" + f\"{iteration}\")   \n",
    "            save_obj(rewards_list, \"rewards/rew-train-test-\" + f\"{iteration}\")   \n",
    "\n",
    "\n",
    "\n",
    "\n",
    "    save_obj(Q, \"Q-dict-test-\" + f\"{iteration}\")   \n",
    "    save_obj(visualization_steps, \"vis-train-test-\" + f\"{iteration}\")   \n",
    "    save_obj(rewards_list, \"rew-train-test-\" + f\"{iteration}\")   \n"
   ]
  },
  {
   "cell_type": "code",
   "execution_count": 25,
   "metadata": {},
   "outputs": [
    {
     "data": {
      "text/plain": [
       "inf"
      ]
     },
     "execution_count": 25,
     "metadata": {},
     "output_type": "execute_result"
    }
   ],
   "source": [
    "(0.1)*np.inf\n",
    "#[key for key in list(Q) if key.startswith('5')]"
   ]
  },
  {
   "cell_type": "code",
   "execution_count": 26,
   "metadata": {},
   "outputs": [],
   "source": [
    "# Optimal policy using the Q values trained previously:\n",
    "# Q = load_obj(\"Q-dict-test-\"+f'{n_iterations-1}')\n",
    "# #print(Q.keys())\n",
    "\n",
    "# rewards_l = load_obj('rewards/rew-train-test'+f'{n_iterations}')\n",
    "# vis_l = load_obj('vis/vis-train-test-'+f'{n_iterations}')\n",
    "\n",
    "# anim = create_system_animation(vis_l, n_iterations)\n",
    "# HTML(anim.to_html5_video())"
   ]
  },
  {
   "cell_type": "code",
   "execution_count": 27,
   "metadata": {
    "collapsed": true
   },
   "outputs": [],
   "source": [
    "\n",
    "\n",
    "new_keys = new_dict.keys()"
   ]
  },
  {
   "cell_type": "code",
   "execution_count": 28,
   "metadata": {},
   "outputs": [],
   "source": [
    "#[Q[key] for key in new_keys if key.startswith(sa_new[0:2])]"
   ]
  },
  {
   "cell_type": "code",
   "execution_count": 29,
   "metadata": {},
   "outputs": [
    {
     "data": {
      "text/plain": [
       "[[5, 5], [1, 1], [1, 2, 3, 3, 3]]"
      ]
     },
     "execution_count": 29,
     "metadata": {},
     "output_type": "execute_result"
    }
   ],
   "source": [
    "toy_system.ds"
   ]
  },
  {
   "cell_type": "code",
   "execution_count": 30,
   "metadata": {},
   "outputs": [
    {
     "data": {
      "text/plain": [
       "[[4, 1], [1, 0]]"
      ]
     },
     "execution_count": 30,
     "metadata": {},
     "output_type": "execute_result"
    }
   ],
   "source": [
    "toy_system.da"
   ]
  },
  {
   "cell_type": "code",
   "execution_count": 31,
   "metadata": {},
   "outputs": [
    {
     "data": {
      "text/plain": [
       "3"
      ]
     },
     "execution_count": 31,
     "metadata": {},
     "output_type": "execute_result"
    }
   ],
   "source": [
    "max([1,2,3])"
   ]
  },
  {
   "cell_type": "code",
   "execution_count": 32,
   "metadata": {},
   "outputs": [
    {
     "data": {
      "text/plain": [
       "[1, 2, 3]"
      ]
     },
     "execution_count": 32,
     "metadata": {},
     "output_type": "execute_result"
    }
   ],
   "source": [
    "[1,2,3][0:3]"
   ]
  },
  {
   "cell_type": "code",
   "execution_count": 33,
   "metadata": {},
   "outputs": [],
   "source": [
    "#Q['3311-1-1']"
   ]
  },
  {
   "cell_type": "code",
   "execution_count": 34,
   "metadata": {},
   "outputs": [],
   "source": [
    "test_toy_system = model.System(tanks = tanks, trucks = trucks, adjacency_matrix = graph, weights_matrix = weights_matrix)\n"
   ]
  },
  {
   "cell_type": "markdown",
   "metadata": {},
   "source": [
    "### To do\n",
    "\n",
    "1. Función que permita aplicar una acción al sistema usando el código de números enteros (como en las keys de los dicts)\n",
    "\n",
    "2. Hacer una simulación que vaya aplicando, en cada estado, la accion con mayor Q-value en el diccionario Q.\n",
    "\n",
    "3. Visualizar como evoluciona el sistema con la optimal policy estimada con alguna random"
   ]
  },
  {
   "cell_type": "code",
   "execution_count": 35,
   "metadata": {},
   "outputs": [
    {
     "data": {
      "text/plain": [
       "5"
      ]
     },
     "execution_count": 35,
     "metadata": {},
     "output_type": "execute_result"
    }
   ],
   "source": [
    "test_toy_system.n"
   ]
  },
  {
   "cell_type": "code",
   "execution_count": 36,
   "metadata": {
    "collapsed": true
   },
   "outputs": [],
   "source": [
    "a = '1234'"
   ]
  },
  {
   "cell_type": "code",
   "execution_count": 37,
   "metadata": {},
   "outputs": [
    {
     "name": "stdout",
     "output_type": "stream",
     "text": [
      "1\n",
      "2\n",
      "3\n",
      "4\n"
     ]
    }
   ],
   "source": [
    "for element in a: \n",
    "    print(element)"
   ]
  },
  {
   "cell_type": "code",
   "execution_count": 38,
   "metadata": {},
   "outputs": [
    {
     "data": {
      "text/plain": [
       "'12'"
      ]
     },
     "execution_count": 38,
     "metadata": {},
     "output_type": "execute_result"
    }
   ],
   "source": [
    "a[0:2]"
   ]
  },
  {
   "cell_type": "markdown",
   "metadata": {},
   "source": [
    "### Testing deterministic_action function from System class"
   ]
  },
  {
   "cell_type": "code",
   "execution_count": 39,
   "metadata": {},
   "outputs": [
    {
     "data": {
      "text/plain": [
       "[[5, 5], [1, 1], [3, 3, 3, 3, 3]]"
      ]
     },
     "execution_count": 39,
     "metadata": {},
     "output_type": "execute_result"
    }
   ],
   "source": [
    "tanks, trucks, graph, weights_matrix = initialize_test_system()\n",
    "test_toy_system = model.System(tanks = tanks, trucks = trucks, adjacency_matrix = graph, weights_matrix = weights_matrix)\n",
    "test_toy_system.ds"
   ]
  },
  {
   "cell_type": "code",
   "execution_count": 40,
   "metadata": {
    "collapsed": true
   },
   "outputs": [],
   "source": [
    "# Test example:\n",
    "# System state before,  [[0, 0], [1, 1], [0, 0, 1, 0, 1]]\n",
    "# System state after,  [[0, 0], [1, 1], [0, 0, 1, 0, 1]]\n",
    "# System action after,  [[3, 0], [0, 1]]\n",
    "# sa current,  0011001013001\n",
    "\n",
    "s0 = '001100101'\n",
    "a0 = '3001'"
   ]
  },
  {
   "cell_type": "code",
   "execution_count": 41,
   "metadata": {},
   "outputs": [
    {
     "data": {
      "text/plain": [
       "1"
      ]
     },
     "execution_count": 41,
     "metadata": {},
     "output_type": "execute_result"
    }
   ],
   "source": [
    "int('1')"
   ]
  },
  {
   "cell_type": "code",
   "execution_count": 42,
   "metadata": {},
   "outputs": [
    {
     "data": {
      "text/plain": [
       "[[0, 0], [1, 1], [0, 0, 1, 0, 1]]"
      ]
     },
     "execution_count": 42,
     "metadata": {},
     "output_type": "execute_result"
    }
   ],
   "source": [
    "test_toy_system.set_discrete_state(s0)\n",
    "test_toy_system.ds"
   ]
  },
  {
   "cell_type": "code",
   "execution_count": 43,
   "metadata": {},
   "outputs": [
    {
     "data": {
      "text/plain": [
       "-20.0"
      ]
     },
     "execution_count": 43,
     "metadata": {},
     "output_type": "execute_result"
    }
   ],
   "source": [
    "test_toy_system.deterministic_action(a0)"
   ]
  },
  {
   "cell_type": "code",
   "execution_count": 44,
   "metadata": {},
   "outputs": [],
   "source": [
    "toy_system.update_state() \n"
   ]
  },
  {
   "cell_type": "code",
   "execution_count": 45,
   "metadata": {},
   "outputs": [
    {
     "data": {
      "text/plain": [
       "[[3, 0], [0, 1]]"
      ]
     },
     "execution_count": 45,
     "metadata": {},
     "output_type": "execute_result"
    }
   ],
   "source": [
    "test_toy_system.da"
   ]
  },
  {
   "cell_type": "code",
   "execution_count": 46,
   "metadata": {},
   "outputs": [
    {
     "data": {
      "text/plain": [
       "[[0, 0], [1, 1], [0, 0, 1, 0, 1]]"
      ]
     },
     "execution_count": 46,
     "metadata": {},
     "output_type": "execute_result"
    }
   ],
   "source": [
    "\n",
    "test_toy_system.ds"
   ]
  },
  {
   "cell_type": "code",
   "execution_count": 47,
   "metadata": {},
   "outputs": [
    {
     "data": {
      "text/plain": [
       "55.55555555555556"
      ]
     },
     "execution_count": 47,
     "metadata": {},
     "output_type": "execute_result"
    }
   ],
   "source": [
    "200000/3600"
   ]
  },
  {
   "cell_type": "markdown",
   "metadata": {},
   "source": [
    "### Visualize simulation of 900 train steps"
   ]
  },
  {
   "cell_type": "code",
   "execution_count": 48,
   "metadata": {},
   "outputs": [],
   "source": [
    "verbose_vis = False\n",
    "\n",
    "if verbose_vis:\n",
    "\n",
    "    n_iterations = 900\n",
    "\n",
    "    Q = load_obj(\"Q-dict-test-\"+f'{n_iterations}')\n",
    "    #print(Q.keys())\n",
    "\n",
    "    rewards_l = load_obj('rewards/rew-train-test-'+f'{n_iterations}')\n",
    "    vis_l = load_obj('vis/vis-train-test-'+f'{n_iterations}')\n",
    "\n",
    "    anim = create_system_animation(vis_l, n_iterations)\n",
    "    HTML(anim.to_html5_video())"
   ]
  },
  {
   "cell_type": "code",
   "execution_count": 49,
   "metadata": {
    "scrolled": true
   },
   "outputs": [],
   "source": [
    "#each 9 frames\n",
    "if verbose_vis:\n",
    "    anim = create_system_animation(vis_l, n_iterations, 9)\n",
    "    HTML(anim.to_html5_video())"
   ]
  },
  {
   "cell_type": "markdown",
   "metadata": {},
   "source": [
    "## Off-policy algorithm (Optimal policy from the trained Q-values)"
   ]
  },
  {
   "cell_type": "code",
   "execution_count": 50,
   "metadata": {},
   "outputs": [
    {
     "name": "stdout",
     "output_type": "stream",
     "text": [
      "551133333\n",
      "[[5, 5], [1, 1], [3, 3, 3, 3, 3]]\n",
      "551133333\n",
      "[[3, 0], [0, 1]]\n",
      "3001\n",
      "5511333333001\n"
     ]
    }
   ],
   "source": [
    "# Initialize system\n",
    "tanks, trucks, graph, weights_matrix = initialize_test_system()\n",
    "\n",
    "# Load trained Q-values\n",
    "n_iterations = 900\n",
    "Q = load_obj(\"Q-dict-test-\"+f'{n_iterations}')\n",
    "\n",
    "test_toy_system = model.System(tanks = tanks, trucks = trucks, adjacency_matrix = graph, weights_matrix = weights_matrix)\n",
    "a0 = '3001'\n",
    "s0 = test_toy_system.state_to_string()\n",
    "print(s0)\n",
    "test_toy_system.deterministic_action(a0)\n",
    "\n",
    "print(test_toy_system.ds)\n",
    "print(test_toy_system.state_to_string())\n",
    "print(test_toy_system.da)\n",
    "print(test_toy_system.action_to_string())\n",
    "\n",
    "print(test_toy_system.state_action_to_string())"
   ]
  },
  {
   "cell_type": "code",
   "execution_count": 51,
   "metadata": {},
   "outputs": [
    {
     "data": {
      "text/plain": [
       "-0.066500000000000004"
      ]
     },
     "execution_count": 51,
     "metadata": {},
     "output_type": "execute_result"
    }
   ],
   "source": [
    "# Way to access to the keys of the dictionary Q\n",
    "key_index = 0\n",
    "i = list(Q)[key_index]\n",
    "#Q value:\n",
    "Q[i]"
   ]
  },
  {
   "cell_type": "code",
   "execution_count": 52,
   "metadata": {},
   "outputs": [
    {
     "data": {
      "text/plain": [
       "[]"
      ]
     },
     "execution_count": 52,
     "metadata": {},
     "output_type": "execute_result"
    }
   ],
   "source": [
    "s0_keys = [key for key in list(Q) if key.startswith(s0)][1:10]\n",
    "s0_keys"
   ]
  },
  {
   "cell_type": "code",
   "execution_count": 53,
   "metadata": {},
   "outputs": [
    {
     "name": "stdout",
     "output_type": "stream",
     "text": [
      "[]\n"
     ]
    },
    {
     "ename": "ValueError",
     "evalue": "max() arg is an empty sequence",
     "output_type": "error",
     "traceback": [
      "\u001b[0;31m---------------------------------------------------------------------------\u001b[0m",
      "\u001b[0;31mValueError\u001b[0m                                Traceback (most recent call last)",
      "\u001b[0;32m<ipython-input-53-4b358c5cc78b>\u001b[0m in \u001b[0;36m<module>\u001b[0;34m()\u001b[0m\n\u001b[1;32m      1\u001b[0m \u001b[0ms0_q\u001b[0m \u001b[0;34m=\u001b[0m \u001b[0;34m[\u001b[0m\u001b[0mQ\u001b[0m\u001b[0;34m[\u001b[0m\u001b[0ms0_key\u001b[0m\u001b[0;34m]\u001b[0m \u001b[0;32mfor\u001b[0m \u001b[0ms0_key\u001b[0m \u001b[0;32min\u001b[0m \u001b[0ms0_keys\u001b[0m\u001b[0;34m]\u001b[0m\u001b[0;34m\u001b[0m\u001b[0m\n\u001b[1;32m      2\u001b[0m \u001b[0mprint\u001b[0m\u001b[0;34m(\u001b[0m\u001b[0ms0_q\u001b[0m\u001b[0;34m)\u001b[0m\u001b[0;34m\u001b[0m\u001b[0m\n\u001b[0;32m----> 3\u001b[0;31m \u001b[0mprint\u001b[0m\u001b[0;34m(\u001b[0m\u001b[0ms0_q\u001b[0m \u001b[0;34m==\u001b[0m \u001b[0mmax\u001b[0m\u001b[0;34m(\u001b[0m\u001b[0ms0_q\u001b[0m\u001b[0;34m)\u001b[0m\u001b[0;34m)\u001b[0m\u001b[0;34m\u001b[0m\u001b[0m\n\u001b[0m\u001b[1;32m      4\u001b[0m \u001b[0moptimal_key_index\u001b[0m \u001b[0;34m=\u001b[0m \u001b[0mnp\u001b[0m\u001b[0;34m.\u001b[0m\u001b[0mwhere\u001b[0m\u001b[0;34m(\u001b[0m\u001b[0mnp\u001b[0m\u001b[0;34m.\u001b[0m\u001b[0misin\u001b[0m\u001b[0;34m(\u001b[0m\u001b[0ms0_q\u001b[0m\u001b[0;34m,\u001b[0m \u001b[0mmax\u001b[0m\u001b[0;34m(\u001b[0m\u001b[0ms0_q\u001b[0m\u001b[0;34m)\u001b[0m\u001b[0;34m)\u001b[0m\u001b[0;34m)\u001b[0m\u001b[0;34m[\u001b[0m\u001b[0;36m0\u001b[0m\u001b[0;34m]\u001b[0m\u001b[0;34m[\u001b[0m\u001b[0;36m0\u001b[0m\u001b[0;34m]\u001b[0m\u001b[0;34m\u001b[0m\u001b[0m\n\u001b[1;32m      5\u001b[0m \u001b[0moptimal_key\u001b[0m \u001b[0;34m=\u001b[0m \u001b[0ms0_keys\u001b[0m\u001b[0;34m[\u001b[0m\u001b[0moptimal_key_index\u001b[0m\u001b[0;34m]\u001b[0m\u001b[0;34m\u001b[0m\u001b[0m\n",
      "\u001b[0;31mValueError\u001b[0m: max() arg is an empty sequence"
     ]
    }
   ],
   "source": [
    "s0_q = [Q[s0_key] for s0_key in s0_keys]\n",
    "print(s0_q)\n",
    "print(s0_q == max(s0_q))\n",
    "optimal_key_index = np.where(np.isin(s0_q, max(s0_q)))[0][0]\n",
    "optimal_key = s0_keys[optimal_key_index]\n",
    "print(optimal_key)\n",
    "\n",
    "optimal_action = optimal_key[toy_system.state_length:]\n"
   ]
  },
  {
   "cell_type": "code",
   "execution_count": 54,
   "metadata": {},
   "outputs": [],
   "source": [
    "# Given a state, returns the action that has the highest Q-value.\n",
    "\n",
    "def optimal_policy(state, Q):\n",
    "    \"\"\"\n",
    "    state must be in the string-integers code\n",
    "    \"\"\"\n",
    "    state_keys = [key for key in list(Q) if key.startswith(s0)]\n",
    "    if len(state_keys) == 0:\n",
    "        return(None)\n",
    "    \n",
    "    state_q = [Q[state_key] for state_key in state_keys]\n",
    "    \n",
    "    #print(\"state_q \", state_q[1:min(10,len(state_q))])\n",
    "    \n",
    "    max_q = max(state_q)\n",
    "    #print(\"max_q\", max_q)\n",
    "    optimal_key_index = np.where(np.isin(state_q, max_q ))[0][0]\n",
    "   #print(\"optimal_key_index\", optimal_key_index)\n",
    "    optimal_key = state_keys[optimal_key_index]\n",
    "    #print(\"optimal_key\", optimal_key)\n",
    "    \n",
    "    optimal_action = optimal_key[toy_system.state_length:]\n",
    "    \n",
    "    return(optimal_action)\n",
    "    "
   ]
  },
  {
   "cell_type": "code",
   "execution_count": 55,
   "metadata": {},
   "outputs": [],
   "source": [
    "optimal_policy(s0, Q)"
   ]
  },
  {
   "cell_type": "markdown",
   "metadata": {},
   "source": [
    "### Test optimal policy with a small simulation"
   ]
  },
  {
   "cell_type": "code",
   "execution_count": 56,
   "metadata": {},
   "outputs": [],
   "source": [
    "# Initialize system\n",
    "tanks, trucks, graph, weights_matrix = initialize_test_system()\n",
    "\n",
    "# Load trained Q-values\n",
    "n_iterations = 900\n",
    "Q = load_obj(\"Q-dict-test-\"+f'{n_iterations}')\n",
    "\n",
    "\n",
    "# 20k\n",
    "#Q = load_obj(\"Q-dict-test-20k\")\n",
    "#n_iterations = 20000\n",
    "\n",
    "sim_iterations = 400\n",
    "test_toy_system = model.System(tanks = tanks, trucks = trucks, adjacency_matrix = graph, weights_matrix = weights_matrix)"
   ]
  },
  {
   "cell_type": "code",
   "execution_count": 57,
   "metadata": {},
   "outputs": [
    {
     "name": "stdout",
     "output_type": "stream",
     "text": [
      "Random action is performed, because the current state is unknown for the trained Q\n",
      "Random action is performed, because the current state is unknown for the trained Q\n",
      "Random action is performed, because the current state is unknown for the trained Q\n",
      "Random action is performed, because the current state is unknown for the trained Q\n",
      "Random action is performed, because the current state is unknown for the trained Q\n",
      "Random action is performed, because the current state is unknown for the trained Q\n",
      "Random action is performed, because the current state is unknown for the trained Q\n",
      "Random action is performed, because the current state is unknown for the trained Q\n",
      "Random action is performed, because the current state is unknown for the trained Q\n",
      "Random action is performed, because the current state is unknown for the trained Q\n",
      "Random action is performed, because the current state is unknown for the trained Q\n",
      "Random action is performed, because the current state is unknown for the trained Q\n",
      "Random action is performed, because the current state is unknown for the trained Q\n",
      "Random action is performed, because the current state is unknown for the trained Q\n",
      "Random action is performed, because the current state is unknown for the trained Q\n",
      "Random action is performed, because the current state is unknown for the trained Q\n",
      "Random action is performed, because the current state is unknown for the trained Q\n",
      "Random action is performed, because the current state is unknown for the trained Q\n",
      "Random action is performed, because the current state is unknown for the trained Q\n",
      "Random action is performed, because the current state is unknown for the trained Q\n",
      "Random action is performed, because the current state is unknown for the trained Q\n",
      "Random action is performed, because the current state is unknown for the trained Q\n",
      "Random action is performed, because the current state is unknown for the trained Q\n",
      "Random action is performed, because the current state is unknown for the trained Q\n",
      "Random action is performed, because the current state is unknown for the trained Q\n",
      "Random action is performed, because the current state is unknown for the trained Q\n",
      "Random action is performed, because the current state is unknown for the trained Q\n",
      "Random action is performed, because the current state is unknown for the trained Q\n",
      "Random action is performed, because the current state is unknown for the trained Q\n",
      "Random action is performed, because the current state is unknown for the trained Q\n",
      "Random action is performed, because the current state is unknown for the trained Q\n",
      "Random action is performed, because the current state is unknown for the trained Q\n",
      "Random action is performed, because the current state is unknown for the trained Q\n",
      "Random action is performed, because the current state is unknown for the trained Q\n",
      "Random action is performed, because the current state is unknown for the trained Q\n",
      "Random action is performed, because the current state is unknown for the trained Q\n",
      "Random action is performed, because the current state is unknown for the trained Q\n",
      "Random action is performed, because the current state is unknown for the trained Q\n",
      "Random action is performed, because the current state is unknown for the trained Q\n",
      "Random action is performed, because the current state is unknown for the trained Q\n",
      "Random action is performed, because the current state is unknown for the trained Q\n",
      "Random action is performed, because the current state is unknown for the trained Q\n",
      "Random action is performed, because the current state is unknown for the trained Q\n",
      "Random action is performed, because the current state is unknown for the trained Q\n",
      "Random action is performed, because the current state is unknown for the trained Q\n",
      "Random action is performed, because the current state is unknown for the trained Q\n",
      "Random action is performed, because the current state is unknown for the trained Q\n",
      "Random action is performed, because the current state is unknown for the trained Q\n",
      "Random action is performed, because the current state is unknown for the trained Q\n",
      "Random action is performed, because the current state is unknown for the trained Q\n",
      "Random action is performed, because the current state is unknown for the trained Q\n",
      "Random action is performed, because the current state is unknown for the trained Q\n",
      "Random action is performed, because the current state is unknown for the trained Q\n",
      "Random action is performed, because the current state is unknown for the trained Q\n",
      "Random action is performed, because the current state is unknown for the trained Q\n",
      "Random action is performed, because the current state is unknown for the trained Q\n",
      "Random action is performed, because the current state is unknown for the trained Q\n",
      "Random action is performed, because the current state is unknown for the trained Q\n",
      "Random action is performed, because the current state is unknown for the trained Q\n",
      "Random action is performed, because the current state is unknown for the trained Q\n",
      "Random action is performed, because the current state is unknown for the trained Q\n",
      "Random action is performed, because the current state is unknown for the trained Q\n",
      "Random action is performed, because the current state is unknown for the trained Q\n",
      "Random action is performed, because the current state is unknown for the trained Q\n",
      "Random action is performed, because the current state is unknown for the trained Q\n",
      "Random action is performed, because the current state is unknown for the trained Q\n",
      "Random action is performed, because the current state is unknown for the trained Q\n",
      "Random action is performed, because the current state is unknown for the trained Q\n",
      "Random action is performed, because the current state is unknown for the trained Q\n",
      "Random action is performed, because the current state is unknown for the trained Q\n",
      "Random action is performed, because the current state is unknown for the trained Q\n",
      "Random action is performed, because the current state is unknown for the trained Q\n",
      "Random action is performed, because the current state is unknown for the trained Q\n",
      "Random action is performed, because the current state is unknown for the trained Q\n",
      "Random action is performed, because the current state is unknown for the trained Q\n",
      "Random action is performed, because the current state is unknown for the trained Q\n",
      "Random action is performed, because the current state is unknown for the trained Q\n",
      "Random action is performed, because the current state is unknown for the trained Q\n",
      "Random action is performed, because the current state is unknown for the trained Q\n",
      "Random action is performed, because the current state is unknown for the trained Q\n",
      "Random action is performed, because the current state is unknown for the trained Q\n",
      "Random action is performed, because the current state is unknown for the trained Q\n",
      "Random action is performed, because the current state is unknown for the trained Q\n",
      "Random action is performed, because the current state is unknown for the trained Q\n",
      "Random action is performed, because the current state is unknown for the trained Q\n",
      "Random action is performed, because the current state is unknown for the trained Q\n",
      "Random action is performed, because the current state is unknown for the trained Q\n",
      "Random action is performed, because the current state is unknown for the trained Q\n",
      "Random action is performed, because the current state is unknown for the trained Q\n",
      "Random action is performed, because the current state is unknown for the trained Q\n",
      "Random action is performed, because the current state is unknown for the trained Q\n",
      "Random action is performed, because the current state is unknown for the trained Q\n",
      "Random action is performed, because the current state is unknown for the trained Q\n",
      "Random action is performed, because the current state is unknown for the trained Q\n",
      "Random action is performed, because the current state is unknown for the trained Q\n",
      "Random action is performed, because the current state is unknown for the trained Q\n",
      "Random action is performed, because the current state is unknown for the trained Q\n",
      "Random action is performed, because the current state is unknown for the trained Q\n",
      "Random action is performed, because the current state is unknown for the trained Q\n",
      "Random action is performed, because the current state is unknown for the trained Q\n",
      "Random action is performed, because the current state is unknown for the trained Q\n",
      "Random action is performed, because the current state is unknown for the trained Q\n",
      "Random action is performed, because the current state is unknown for the trained Q\n",
      "Random action is performed, because the current state is unknown for the trained Q\n",
      "Random action is performed, because the current state is unknown for the trained Q\n",
      "Random action is performed, because the current state is unknown for the trained Q\n",
      "Random action is performed, because the current state is unknown for the trained Q\n",
      "Random action is performed, because the current state is unknown for the trained Q\n"
     ]
    },
    {
     "name": "stdout",
     "output_type": "stream",
     "text": [
      "Random action is performed, because the current state is unknown for the trained Q\n",
      "Random action is performed, because the current state is unknown for the trained Q\n",
      "Random action is performed, because the current state is unknown for the trained Q\n",
      "Random action is performed, because the current state is unknown for the trained Q\n",
      "Random action is performed, because the current state is unknown for the trained Q\n",
      "Random action is performed, because the current state is unknown for the trained Q\n",
      "Random action is performed, because the current state is unknown for the trained Q\n",
      "Random action is performed, because the current state is unknown for the trained Q\n",
      "Random action is performed, because the current state is unknown for the trained Q\n",
      "Random action is performed, because the current state is unknown for the trained Q\n",
      "Random action is performed, because the current state is unknown for the trained Q\n",
      "Random action is performed, because the current state is unknown for the trained Q\n",
      "Random action is performed, because the current state is unknown for the trained Q\n",
      "Random action is performed, because the current state is unknown for the trained Q\n",
      "Random action is performed, because the current state is unknown for the trained Q\n",
      "Random action is performed, because the current state is unknown for the trained Q\n",
      "Random action is performed, because the current state is unknown for the trained Q\n",
      "Random action is performed, because the current state is unknown for the trained Q\n",
      "Random action is performed, because the current state is unknown for the trained Q\n",
      "Random action is performed, because the current state is unknown for the trained Q\n",
      "Random action is performed, because the current state is unknown for the trained Q\n",
      "Random action is performed, because the current state is unknown for the trained Q\n",
      "Random action is performed, because the current state is unknown for the trained Q\n",
      "Random action is performed, because the current state is unknown for the trained Q\n",
      "Random action is performed, because the current state is unknown for the trained Q\n",
      "Random action is performed, because the current state is unknown for the trained Q\n",
      "Random action is performed, because the current state is unknown for the trained Q\n",
      "Random action is performed, because the current state is unknown for the trained Q\n",
      "Random action is performed, because the current state is unknown for the trained Q\n",
      "Random action is performed, because the current state is unknown for the trained Q\n",
      "Random action is performed, because the current state is unknown for the trained Q\n",
      "Random action is performed, because the current state is unknown for the trained Q\n",
      "Random action is performed, because the current state is unknown for the trained Q\n",
      "Random action is performed, because the current state is unknown for the trained Q\n",
      "Random action is performed, because the current state is unknown for the trained Q\n",
      "Random action is performed, because the current state is unknown for the trained Q\n",
      "Random action is performed, because the current state is unknown for the trained Q\n",
      "Random action is performed, because the current state is unknown for the trained Q\n",
      "Random action is performed, because the current state is unknown for the trained Q\n",
      "Random action is performed, because the current state is unknown for the trained Q\n",
      "Random action is performed, because the current state is unknown for the trained Q\n",
      "Random action is performed, because the current state is unknown for the trained Q\n",
      "Random action is performed, because the current state is unknown for the trained Q\n",
      "Random action is performed, because the current state is unknown for the trained Q\n",
      "Random action is performed, because the current state is unknown for the trained Q\n",
      "Random action is performed, because the current state is unknown for the trained Q\n",
      "Random action is performed, because the current state is unknown for the trained Q\n",
      "Random action is performed, because the current state is unknown for the trained Q\n",
      "Random action is performed, because the current state is unknown for the trained Q\n",
      "Random action is performed, because the current state is unknown for the trained Q\n",
      "Random action is performed, because the current state is unknown for the trained Q\n",
      "Random action is performed, because the current state is unknown for the trained Q\n",
      "Random action is performed, because the current state is unknown for the trained Q\n",
      "Random action is performed, because the current state is unknown for the trained Q\n",
      "Random action is performed, because the current state is unknown for the trained Q\n",
      "Random action is performed, because the current state is unknown for the trained Q\n",
      "Random action is performed, because the current state is unknown for the trained Q\n",
      "Random action is performed, because the current state is unknown for the trained Q\n",
      "Random action is performed, because the current state is unknown for the trained Q\n",
      "Random action is performed, because the current state is unknown for the trained Q\n",
      "Random action is performed, because the current state is unknown for the trained Q\n",
      "Random action is performed, because the current state is unknown for the trained Q\n",
      "Random action is performed, because the current state is unknown for the trained Q\n",
      "Random action is performed, because the current state is unknown for the trained Q\n",
      "Random action is performed, because the current state is unknown for the trained Q\n",
      "Random action is performed, because the current state is unknown for the trained Q\n",
      "Random action is performed, because the current state is unknown for the trained Q\n",
      "Random action is performed, because the current state is unknown for the trained Q\n",
      "Random action is performed, because the current state is unknown for the trained Q\n",
      "Random action is performed, because the current state is unknown for the trained Q\n",
      "Random action is performed, because the current state is unknown for the trained Q\n",
      "Random action is performed, because the current state is unknown for the trained Q\n",
      "Random action is performed, because the current state is unknown for the trained Q\n",
      "Random action is performed, because the current state is unknown for the trained Q\n",
      "Random action is performed, because the current state is unknown for the trained Q\n",
      "Random action is performed, because the current state is unknown for the trained Q\n",
      "Random action is performed, because the current state is unknown for the trained Q\n",
      "Random action is performed, because the current state is unknown for the trained Q\n",
      "Random action is performed, because the current state is unknown for the trained Q\n",
      "Random action is performed, because the current state is unknown for the trained Q\n",
      "Random action is performed, because the current state is unknown for the trained Q\n",
      "Random action is performed, because the current state is unknown for the trained Q\n",
      "Random action is performed, because the current state is unknown for the trained Q\n",
      "Random action is performed, because the current state is unknown for the trained Q\n",
      "Random action is performed, because the current state is unknown for the trained Q\n",
      "Random action is performed, because the current state is unknown for the trained Q\n",
      "Random action is performed, because the current state is unknown for the trained Q\n",
      "Random action is performed, because the current state is unknown for the trained Q\n",
      "Random action is performed, because the current state is unknown for the trained Q\n",
      "Random action is performed, because the current state is unknown for the trained Q\n",
      "Random action is performed, because the current state is unknown for the trained Q\n",
      "Random action is performed, because the current state is unknown for the trained Q\n",
      "Random action is performed, because the current state is unknown for the trained Q\n",
      "Random action is performed, because the current state is unknown for the trained Q\n",
      "Random action is performed, because the current state is unknown for the trained Q\n",
      "Random action is performed, because the current state is unknown for the trained Q\n",
      "Random action is performed, because the current state is unknown for the trained Q\n",
      "Random action is performed, because the current state is unknown for the trained Q\n",
      "Random action is performed, because the current state is unknown for the trained Q\n",
      "Random action is performed, because the current state is unknown for the trained Q\n",
      "Random action is performed, because the current state is unknown for the trained Q\n",
      "Random action is performed, because the current state is unknown for the trained Q\n",
      "Random action is performed, because the current state is unknown for the trained Q\n"
     ]
    },
    {
     "name": "stdout",
     "output_type": "stream",
     "text": [
      "Random action is performed, because the current state is unknown for the trained Q\n",
      "Random action is performed, because the current state is unknown for the trained Q\n",
      "Random action is performed, because the current state is unknown for the trained Q\n",
      "Random action is performed, because the current state is unknown for the trained Q\n",
      "Random action is performed, because the current state is unknown for the trained Q\n",
      "Random action is performed, because the current state is unknown for the trained Q\n",
      "Random action is performed, because the current state is unknown for the trained Q\n",
      "Random action is performed, because the current state is unknown for the trained Q\n",
      "Random action is performed, because the current state is unknown for the trained Q\n",
      "Random action is performed, because the current state is unknown for the trained Q\n",
      "Random action is performed, because the current state is unknown for the trained Q\n",
      "Random action is performed, because the current state is unknown for the trained Q\n",
      "Random action is performed, because the current state is unknown for the trained Q\n",
      "Random action is performed, because the current state is unknown for the trained Q\n",
      "Random action is performed, because the current state is unknown for the trained Q\n",
      "Random action is performed, because the current state is unknown for the trained Q\n",
      "Random action is performed, because the current state is unknown for the trained Q\n",
      "Random action is performed, because the current state is unknown for the trained Q\n",
      "Random action is performed, because the current state is unknown for the trained Q\n",
      "Random action is performed, because the current state is unknown for the trained Q\n",
      "Random action is performed, because the current state is unknown for the trained Q\n",
      "Random action is performed, because the current state is unknown for the trained Q\n",
      "Random action is performed, because the current state is unknown for the trained Q\n",
      "Random action is performed, because the current state is unknown for the trained Q\n",
      "Random action is performed, because the current state is unknown for the trained Q\n",
      "Random action is performed, because the current state is unknown for the trained Q\n",
      "Random action is performed, because the current state is unknown for the trained Q\n",
      "Random action is performed, because the current state is unknown for the trained Q\n",
      "Random action is performed, because the current state is unknown for the trained Q\n",
      "Random action is performed, because the current state is unknown for the trained Q\n",
      "Random action is performed, because the current state is unknown for the trained Q\n",
      "Random action is performed, because the current state is unknown for the trained Q\n",
      "Random action is performed, because the current state is unknown for the trained Q\n",
      "Random action is performed, because the current state is unknown for the trained Q\n",
      "Random action is performed, because the current state is unknown for the trained Q\n",
      "Random action is performed, because the current state is unknown for the trained Q\n",
      "Random action is performed, because the current state is unknown for the trained Q\n",
      "Random action is performed, because the current state is unknown for the trained Q\n",
      "Random action is performed, because the current state is unknown for the trained Q\n",
      "Random action is performed, because the current state is unknown for the trained Q\n",
      "Random action is performed, because the current state is unknown for the trained Q\n",
      "Random action is performed, because the current state is unknown for the trained Q\n",
      "Random action is performed, because the current state is unknown for the trained Q\n",
      "Random action is performed, because the current state is unknown for the trained Q\n",
      "Random action is performed, because the current state is unknown for the trained Q\n",
      "Random action is performed, because the current state is unknown for the trained Q\n",
      "Random action is performed, because the current state is unknown for the trained Q\n",
      "Random action is performed, because the current state is unknown for the trained Q\n",
      "Random action is performed, because the current state is unknown for the trained Q\n",
      "Random action is performed, because the current state is unknown for the trained Q\n",
      "Random action is performed, because the current state is unknown for the trained Q\n",
      "Random action is performed, because the current state is unknown for the trained Q\n",
      "Random action is performed, because the current state is unknown for the trained Q\n",
      "Random action is performed, because the current state is unknown for the trained Q\n",
      "Random action is performed, because the current state is unknown for the trained Q\n",
      "Random action is performed, because the current state is unknown for the trained Q\n",
      "Random action is performed, because the current state is unknown for the trained Q\n",
      "Random action is performed, because the current state is unknown for the trained Q\n",
      "Random action is performed, because the current state is unknown for the trained Q\n",
      "Random action is performed, because the current state is unknown for the trained Q\n",
      "Random action is performed, because the current state is unknown for the trained Q\n",
      "Random action is performed, because the current state is unknown for the trained Q\n",
      "Random action is performed, because the current state is unknown for the trained Q\n",
      "Random action is performed, because the current state is unknown for the trained Q\n",
      "Random action is performed, because the current state is unknown for the trained Q\n",
      "Random action is performed, because the current state is unknown for the trained Q\n",
      "Random action is performed, because the current state is unknown for the trained Q\n",
      "Random action is performed, because the current state is unknown for the trained Q\n",
      "Random action is performed, because the current state is unknown for the trained Q\n",
      "Random action is performed, because the current state is unknown for the trained Q\n",
      "Random action is performed, because the current state is unknown for the trained Q\n",
      "Random action is performed, because the current state is unknown for the trained Q\n",
      "Random action is performed, because the current state is unknown for the trained Q\n",
      "Random action is performed, because the current state is unknown for the trained Q\n",
      "Random action is performed, because the current state is unknown for the trained Q\n",
      "Random action is performed, because the current state is unknown for the trained Q\n",
      "Random action is performed, because the current state is unknown for the trained Q\n",
      "Random action is performed, because the current state is unknown for the trained Q\n",
      "Random action is performed, because the current state is unknown for the trained Q\n",
      "Random action is performed, because the current state is unknown for the trained Q\n",
      "Random action is performed, because the current state is unknown for the trained Q\n",
      "Random action is performed, because the current state is unknown for the trained Q\n",
      "Random action is performed, because the current state is unknown for the trained Q\n",
      "Random action is performed, because the current state is unknown for the trained Q\n",
      "Random action is performed, because the current state is unknown for the trained Q\n",
      "Random action is performed, because the current state is unknown for the trained Q\n",
      "Random action is performed, because the current state is unknown for the trained Q\n",
      "Random action is performed, because the current state is unknown for the trained Q\n",
      "Random action is performed, because the current state is unknown for the trained Q\n",
      "Random action is performed, because the current state is unknown for the trained Q\n",
      "Random action is performed, because the current state is unknown for the trained Q\n",
      "Random action is performed, because the current state is unknown for the trained Q\n",
      "Random action is performed, because the current state is unknown for the trained Q\n",
      "Random action is performed, because the current state is unknown for the trained Q\n",
      "Random action is performed, because the current state is unknown for the trained Q\n",
      "Random action is performed, because the current state is unknown for the trained Q\n",
      "Random action is performed, because the current state is unknown for the trained Q\n",
      "Random action is performed, because the current state is unknown for the trained Q\n",
      "Random action is performed, because the current state is unknown for the trained Q\n",
      "Random action is performed, because the current state is unknown for the trained Q\n"
     ]
    },
    {
     "name": "stdout",
     "output_type": "stream",
     "text": [
      "Random action is performed, because the current state is unknown for the trained Q\n",
      "Random action is performed, because the current state is unknown for the trained Q\n",
      "Random action is performed, because the current state is unknown for the trained Q\n",
      "Random action is performed, because the current state is unknown for the trained Q\n",
      "Random action is performed, because the current state is unknown for the trained Q\n",
      "Random action is performed, because the current state is unknown for the trained Q\n",
      "Random action is performed, because the current state is unknown for the trained Q\n"
     ]
    },
    {
     "ename": "KeyboardInterrupt",
     "evalue": "",
     "output_type": "error",
     "traceback": [
      "\u001b[0;31m---------------------------------------------------------------------------\u001b[0m",
      "\u001b[0;31mKeyboardInterrupt\u001b[0m                         Traceback (most recent call last)",
      "\u001b[0;32m<ipython-input-57-c7c9cc7beb29>\u001b[0m in \u001b[0;36m<module>\u001b[0;34m()\u001b[0m\n\u001b[1;32m      8\u001b[0m         \u001b[0;31m#print(\"state\", test_toy_system.s, test_toy_system.ds)\u001b[0m\u001b[0;34m\u001b[0m\u001b[0;34m\u001b[0m\u001b[0m\n\u001b[1;32m      9\u001b[0m         \u001b[0mtest_toy_system\u001b[0m\u001b[0;34m.\u001b[0m\u001b[0mupdate_state\u001b[0m\u001b[0;34m(\u001b[0m\u001b[0;34m)\u001b[0m\u001b[0;34m\u001b[0m\u001b[0m\n\u001b[0;32m---> 10\u001b[0;31m         \u001b[0mvisualization_steps\u001b[0m\u001b[0;34m.\u001b[0m\u001b[0mappend\u001b[0m\u001b[0;34m(\u001b[0m\u001b[0mtest_toy_system\u001b[0m\u001b[0;34m.\u001b[0m\u001b[0mvisualize\u001b[0m\u001b[0;34m(\u001b[0m\u001b[0;34m)\u001b[0m\u001b[0;34m)\u001b[0m\u001b[0;34m;\u001b[0m\u001b[0;34m\u001b[0m\u001b[0m\n\u001b[0m\u001b[1;32m     11\u001b[0m \u001b[0;34m\u001b[0m\u001b[0m\n\u001b[1;32m     12\u001b[0m         \u001b[0ms0\u001b[0m \u001b[0;34m=\u001b[0m \u001b[0mtest_toy_system\u001b[0m\u001b[0;34m.\u001b[0m\u001b[0mstate_to_string\u001b[0m\u001b[0;34m(\u001b[0m\u001b[0;34m)\u001b[0m\u001b[0;34m\u001b[0m\u001b[0m\n",
      "\u001b[0;32m~/Dropbox/Master/AIA/RL-Project/model.py\u001b[0m in \u001b[0;36mvisualize\u001b[0;34m(self, show)\u001b[0m\n\u001b[1;32m    153\u001b[0m             \u001b[0mtanks_id\u001b[0m \u001b[0;34m=\u001b[0m \u001b[0mself\u001b[0m\u001b[0;34m.\u001b[0m\u001b[0mtanks_id\u001b[0m\u001b[0;34m\u001b[0m\u001b[0m\n\u001b[1;32m    154\u001b[0m \u001b[0;34m\u001b[0m\u001b[0m\n\u001b[0;32m--> 155\u001b[0;31m             \u001b[0mplt\u001b[0m\u001b[0;34m.\u001b[0m\u001b[0mbar\u001b[0m\u001b[0;34m(\u001b[0m\u001b[0mindex\u001b[0m\u001b[0;34m,\u001b[0m \u001b[0mtanks_max_load\u001b[0m\u001b[0;34m,\u001b[0m \u001b[0mcolor\u001b[0m \u001b[0;34m=\u001b[0m \u001b[0;34m'black'\u001b[0m\u001b[0;34m)\u001b[0m\u001b[0;34m\u001b[0m\u001b[0m\n\u001b[0m\u001b[1;32m    156\u001b[0m             \u001b[0mplt\u001b[0m\u001b[0;34m.\u001b[0m\u001b[0mbar\u001b[0m\u001b[0;34m(\u001b[0m\u001b[0mindex\u001b[0m\u001b[0;34m,\u001b[0m \u001b[0mtank_loads\u001b[0m\u001b[0;34m,\u001b[0m \u001b[0mcolor\u001b[0m \u001b[0;34m=\u001b[0m \u001b[0;34m'blue'\u001b[0m \u001b[0;34m)\u001b[0m\u001b[0;34m\u001b[0m\u001b[0m\n\u001b[1;32m    157\u001b[0m             \u001b[0mplt\u001b[0m\u001b[0;34m.\u001b[0m\u001b[0mxlabel\u001b[0m\u001b[0;34m(\u001b[0m\u001b[0;34m'Tank id'\u001b[0m\u001b[0;34m,\u001b[0m \u001b[0mfontsize\u001b[0m\u001b[0;34m=\u001b[0m\u001b[0;36m10\u001b[0m\u001b[0;34m)\u001b[0m\u001b[0;34m\u001b[0m\u001b[0m\n",
      "\u001b[0;32m~/anaconda3/lib/python3.6/site-packages/matplotlib/pyplot.py\u001b[0m in \u001b[0;36mbar\u001b[0;34m(*args, **kwargs)\u001b[0m\n\u001b[1;32m   2625\u001b[0m                       mplDeprecation)\n\u001b[1;32m   2626\u001b[0m     \u001b[0;32mtry\u001b[0m\u001b[0;34m:\u001b[0m\u001b[0;34m\u001b[0m\u001b[0m\n\u001b[0;32m-> 2627\u001b[0;31m         \u001b[0mret\u001b[0m \u001b[0;34m=\u001b[0m \u001b[0max\u001b[0m\u001b[0;34m.\u001b[0m\u001b[0mbar\u001b[0m\u001b[0;34m(\u001b[0m\u001b[0;34m*\u001b[0m\u001b[0margs\u001b[0m\u001b[0;34m,\u001b[0m \u001b[0;34m**\u001b[0m\u001b[0mkwargs\u001b[0m\u001b[0;34m)\u001b[0m\u001b[0;34m\u001b[0m\u001b[0m\n\u001b[0m\u001b[1;32m   2628\u001b[0m     \u001b[0;32mfinally\u001b[0m\u001b[0;34m:\u001b[0m\u001b[0;34m\u001b[0m\u001b[0m\n\u001b[1;32m   2629\u001b[0m         \u001b[0max\u001b[0m\u001b[0;34m.\u001b[0m\u001b[0m_hold\u001b[0m \u001b[0;34m=\u001b[0m \u001b[0mwashold\u001b[0m\u001b[0;34m\u001b[0m\u001b[0m\n",
      "\u001b[0;32m~/anaconda3/lib/python3.6/site-packages/matplotlib/__init__.py\u001b[0m in \u001b[0;36minner\u001b[0;34m(ax, *args, **kwargs)\u001b[0m\n\u001b[1;32m   1708\u001b[0m                     warnings.warn(msg % (label_namer, func.__name__),\n\u001b[1;32m   1709\u001b[0m                                   RuntimeWarning, stacklevel=2)\n\u001b[0;32m-> 1710\u001b[0;31m             \u001b[0;32mreturn\u001b[0m \u001b[0mfunc\u001b[0m\u001b[0;34m(\u001b[0m\u001b[0max\u001b[0m\u001b[0;34m,\u001b[0m \u001b[0;34m*\u001b[0m\u001b[0margs\u001b[0m\u001b[0;34m,\u001b[0m \u001b[0;34m**\u001b[0m\u001b[0mkwargs\u001b[0m\u001b[0;34m)\u001b[0m\u001b[0;34m\u001b[0m\u001b[0m\n\u001b[0m\u001b[1;32m   1711\u001b[0m         \u001b[0mpre_doc\u001b[0m \u001b[0;34m=\u001b[0m \u001b[0minner\u001b[0m\u001b[0;34m.\u001b[0m\u001b[0m__doc__\u001b[0m\u001b[0;34m\u001b[0m\u001b[0m\n\u001b[1;32m   1712\u001b[0m         \u001b[0;32mif\u001b[0m \u001b[0mpre_doc\u001b[0m \u001b[0;32mis\u001b[0m \u001b[0;32mNone\u001b[0m\u001b[0;34m:\u001b[0m\u001b[0;34m\u001b[0m\u001b[0m\n",
      "\u001b[0;32m~/anaconda3/lib/python3.6/site-packages/matplotlib/axes/_axes.py\u001b[0m in \u001b[0;36mbar\u001b[0;34m(self, *args, **kwargs)\u001b[0m\n\u001b[1;32m   2154\u001b[0m             \u001b[0;32melif\u001b[0m \u001b[0morientation\u001b[0m \u001b[0;34m==\u001b[0m \u001b[0;34m'horizontal'\u001b[0m\u001b[0;34m:\u001b[0m\u001b[0;34m\u001b[0m\u001b[0m\n\u001b[1;32m   2155\u001b[0m                 \u001b[0mr\u001b[0m\u001b[0;34m.\u001b[0m\u001b[0msticky_edges\u001b[0m\u001b[0;34m.\u001b[0m\u001b[0mx\u001b[0m\u001b[0;34m.\u001b[0m\u001b[0mappend\u001b[0m\u001b[0;34m(\u001b[0m\u001b[0ml\u001b[0m\u001b[0;34m)\u001b[0m\u001b[0;34m\u001b[0m\u001b[0m\n\u001b[0;32m-> 2156\u001b[0;31m             \u001b[0mself\u001b[0m\u001b[0;34m.\u001b[0m\u001b[0madd_patch\u001b[0m\u001b[0;34m(\u001b[0m\u001b[0mr\u001b[0m\u001b[0;34m)\u001b[0m\u001b[0;34m\u001b[0m\u001b[0m\n\u001b[0m\u001b[1;32m   2157\u001b[0m             \u001b[0mpatches\u001b[0m\u001b[0;34m.\u001b[0m\u001b[0mappend\u001b[0m\u001b[0;34m(\u001b[0m\u001b[0mr\u001b[0m\u001b[0;34m)\u001b[0m\u001b[0;34m\u001b[0m\u001b[0m\n\u001b[1;32m   2158\u001b[0m \u001b[0;34m\u001b[0m\u001b[0m\n",
      "\u001b[0;32m~/anaconda3/lib/python3.6/site-packages/matplotlib/axes/_base.py\u001b[0m in \u001b[0;36madd_patch\u001b[0;34m(self, p)\u001b[0m\n\u001b[1;32m   1832\u001b[0m         \u001b[0;32mif\u001b[0m \u001b[0mp\u001b[0m\u001b[0;34m.\u001b[0m\u001b[0mget_clip_path\u001b[0m\u001b[0;34m(\u001b[0m\u001b[0;34m)\u001b[0m \u001b[0;32mis\u001b[0m \u001b[0;32mNone\u001b[0m\u001b[0;34m:\u001b[0m\u001b[0;34m\u001b[0m\u001b[0m\n\u001b[1;32m   1833\u001b[0m             \u001b[0mp\u001b[0m\u001b[0;34m.\u001b[0m\u001b[0mset_clip_path\u001b[0m\u001b[0;34m(\u001b[0m\u001b[0mself\u001b[0m\u001b[0;34m.\u001b[0m\u001b[0mpatch\u001b[0m\u001b[0;34m)\u001b[0m\u001b[0;34m\u001b[0m\u001b[0m\n\u001b[0;32m-> 1834\u001b[0;31m         \u001b[0mself\u001b[0m\u001b[0;34m.\u001b[0m\u001b[0m_update_patch_limits\u001b[0m\u001b[0;34m(\u001b[0m\u001b[0mp\u001b[0m\u001b[0;34m)\u001b[0m\u001b[0;34m\u001b[0m\u001b[0m\n\u001b[0m\u001b[1;32m   1835\u001b[0m         \u001b[0mself\u001b[0m\u001b[0;34m.\u001b[0m\u001b[0mpatches\u001b[0m\u001b[0;34m.\u001b[0m\u001b[0mappend\u001b[0m\u001b[0;34m(\u001b[0m\u001b[0mp\u001b[0m\u001b[0;34m)\u001b[0m\u001b[0;34m\u001b[0m\u001b[0m\n\u001b[1;32m   1836\u001b[0m         \u001b[0mp\u001b[0m\u001b[0;34m.\u001b[0m\u001b[0m_remove_method\u001b[0m \u001b[0;34m=\u001b[0m \u001b[0;32mlambda\u001b[0m \u001b[0mh\u001b[0m\u001b[0;34m:\u001b[0m \u001b[0mself\u001b[0m\u001b[0;34m.\u001b[0m\u001b[0mpatches\u001b[0m\u001b[0;34m.\u001b[0m\u001b[0mremove\u001b[0m\u001b[0;34m(\u001b[0m\u001b[0mh\u001b[0m\u001b[0;34m)\u001b[0m\u001b[0;34m\u001b[0m\u001b[0m\n",
      "\u001b[0;32m~/anaconda3/lib/python3.6/site-packages/matplotlib/axes/_base.py\u001b[0m in \u001b[0;36m_update_patch_limits\u001b[0;34m(self, patch)\u001b[0m\n\u001b[1;32m   1852\u001b[0m         \u001b[0mvertices\u001b[0m \u001b[0;34m=\u001b[0m \u001b[0mpatch\u001b[0m\u001b[0;34m.\u001b[0m\u001b[0mget_path\u001b[0m\u001b[0;34m(\u001b[0m\u001b[0;34m)\u001b[0m\u001b[0;34m.\u001b[0m\u001b[0mvertices\u001b[0m\u001b[0;34m\u001b[0m\u001b[0m\n\u001b[1;32m   1853\u001b[0m         \u001b[0;32mif\u001b[0m \u001b[0mvertices\u001b[0m\u001b[0;34m.\u001b[0m\u001b[0msize\u001b[0m \u001b[0;34m>\u001b[0m \u001b[0;36m0\u001b[0m\u001b[0;34m:\u001b[0m\u001b[0;34m\u001b[0m\u001b[0m\n\u001b[0;32m-> 1854\u001b[0;31m             \u001b[0mxys\u001b[0m \u001b[0;34m=\u001b[0m \u001b[0mpatch\u001b[0m\u001b[0;34m.\u001b[0m\u001b[0mget_patch_transform\u001b[0m\u001b[0;34m(\u001b[0m\u001b[0;34m)\u001b[0m\u001b[0;34m.\u001b[0m\u001b[0mtransform\u001b[0m\u001b[0;34m(\u001b[0m\u001b[0mvertices\u001b[0m\u001b[0;34m)\u001b[0m\u001b[0;34m\u001b[0m\u001b[0m\n\u001b[0m\u001b[1;32m   1855\u001b[0m             \u001b[0;32mif\u001b[0m \u001b[0mpatch\u001b[0m\u001b[0;34m.\u001b[0m\u001b[0mget_data_transform\u001b[0m\u001b[0;34m(\u001b[0m\u001b[0;34m)\u001b[0m \u001b[0;34m!=\u001b[0m \u001b[0mself\u001b[0m\u001b[0;34m.\u001b[0m\u001b[0mtransData\u001b[0m\u001b[0;34m:\u001b[0m\u001b[0;34m\u001b[0m\u001b[0m\n\u001b[1;32m   1856\u001b[0m                 patch_to_data = (patch.get_data_transform() -\n",
      "\u001b[0;32m~/anaconda3/lib/python3.6/site-packages/matplotlib/patches.py\u001b[0m in \u001b[0;36mget_patch_transform\u001b[0;34m(self)\u001b[0m\n\u001b[1;32m    720\u001b[0m \u001b[0;34m\u001b[0m\u001b[0m\n\u001b[1;32m    721\u001b[0m     \u001b[0;32mdef\u001b[0m \u001b[0mget_patch_transform\u001b[0m\u001b[0;34m(\u001b[0m\u001b[0mself\u001b[0m\u001b[0;34m)\u001b[0m\u001b[0;34m:\u001b[0m\u001b[0;34m\u001b[0m\u001b[0m\n\u001b[0;32m--> 722\u001b[0;31m         \u001b[0mself\u001b[0m\u001b[0;34m.\u001b[0m\u001b[0m_update_patch_transform\u001b[0m\u001b[0;34m(\u001b[0m\u001b[0;34m)\u001b[0m\u001b[0;34m\u001b[0m\u001b[0m\n\u001b[0m\u001b[1;32m    723\u001b[0m         \u001b[0;32mreturn\u001b[0m \u001b[0mself\u001b[0m\u001b[0;34m.\u001b[0m\u001b[0m_rect_transform\u001b[0m\u001b[0;34m\u001b[0m\u001b[0m\n\u001b[1;32m    724\u001b[0m \u001b[0;34m\u001b[0m\u001b[0m\n",
      "\u001b[0;32m~/anaconda3/lib/python3.6/site-packages/matplotlib/patches.py\u001b[0m in \u001b[0;36m_update_patch_transform\u001b[0;34m(self)\u001b[0m\n\u001b[1;32m    715\u001b[0m         \u001b[0mbbox\u001b[0m \u001b[0;34m=\u001b[0m \u001b[0mtransforms\u001b[0m\u001b[0;34m.\u001b[0m\u001b[0mBbox\u001b[0m\u001b[0;34m.\u001b[0m\u001b[0mfrom_bounds\u001b[0m\u001b[0;34m(\u001b[0m\u001b[0mx\u001b[0m\u001b[0;34m,\u001b[0m \u001b[0my\u001b[0m\u001b[0;34m,\u001b[0m \u001b[0mwidth\u001b[0m\u001b[0;34m,\u001b[0m \u001b[0mheight\u001b[0m\u001b[0;34m)\u001b[0m\u001b[0;34m\u001b[0m\u001b[0m\n\u001b[1;32m    716\u001b[0m         \u001b[0mrot_trans\u001b[0m \u001b[0;34m=\u001b[0m \u001b[0mtransforms\u001b[0m\u001b[0;34m.\u001b[0m\u001b[0mAffine2D\u001b[0m\u001b[0;34m(\u001b[0m\u001b[0;34m)\u001b[0m\u001b[0;34m\u001b[0m\u001b[0m\n\u001b[0;32m--> 717\u001b[0;31m         \u001b[0mrot_trans\u001b[0m\u001b[0;34m.\u001b[0m\u001b[0mrotate_deg_around\u001b[0m\u001b[0;34m(\u001b[0m\u001b[0mx\u001b[0m\u001b[0;34m,\u001b[0m \u001b[0my\u001b[0m\u001b[0;34m,\u001b[0m \u001b[0mself\u001b[0m\u001b[0;34m.\u001b[0m\u001b[0mangle\u001b[0m\u001b[0;34m)\u001b[0m\u001b[0;34m\u001b[0m\u001b[0m\n\u001b[0m\u001b[1;32m    718\u001b[0m         \u001b[0mself\u001b[0m\u001b[0;34m.\u001b[0m\u001b[0m_rect_transform\u001b[0m \u001b[0;34m=\u001b[0m \u001b[0mtransforms\u001b[0m\u001b[0;34m.\u001b[0m\u001b[0mBboxTransformTo\u001b[0m\u001b[0;34m(\u001b[0m\u001b[0mbbox\u001b[0m\u001b[0;34m)\u001b[0m\u001b[0;34m\u001b[0m\u001b[0m\n\u001b[1;32m    719\u001b[0m         \u001b[0mself\u001b[0m\u001b[0;34m.\u001b[0m\u001b[0m_rect_transform\u001b[0m \u001b[0;34m+=\u001b[0m \u001b[0mrot_trans\u001b[0m\u001b[0;34m\u001b[0m\u001b[0m\n",
      "\u001b[0;32m~/anaconda3/lib/python3.6/site-packages/matplotlib/transforms.py\u001b[0m in \u001b[0;36mrotate_deg_around\u001b[0;34m(self, x, y, degrees)\u001b[0m\n\u001b[1;32m   2036\u001b[0m         \u001b[0;31m# Cast to float to avoid wraparound issues with uint8's\u001b[0m\u001b[0;34m\u001b[0m\u001b[0;34m\u001b[0m\u001b[0m\n\u001b[1;32m   2037\u001b[0m         \u001b[0mx\u001b[0m\u001b[0;34m,\u001b[0m \u001b[0my\u001b[0m \u001b[0;34m=\u001b[0m \u001b[0mfloat\u001b[0m\u001b[0;34m(\u001b[0m\u001b[0mx\u001b[0m\u001b[0;34m)\u001b[0m\u001b[0;34m,\u001b[0m \u001b[0mfloat\u001b[0m\u001b[0;34m(\u001b[0m\u001b[0my\u001b[0m\u001b[0;34m)\u001b[0m\u001b[0;34m\u001b[0m\u001b[0m\n\u001b[0;32m-> 2038\u001b[0;31m         \u001b[0;32mreturn\u001b[0m \u001b[0mself\u001b[0m\u001b[0;34m.\u001b[0m\u001b[0mtranslate\u001b[0m\u001b[0;34m(\u001b[0m\u001b[0;34m-\u001b[0m\u001b[0mx\u001b[0m\u001b[0;34m,\u001b[0m \u001b[0;34m-\u001b[0m\u001b[0my\u001b[0m\u001b[0;34m)\u001b[0m\u001b[0;34m.\u001b[0m\u001b[0mrotate_deg\u001b[0m\u001b[0;34m(\u001b[0m\u001b[0mdegrees\u001b[0m\u001b[0;34m)\u001b[0m\u001b[0;34m.\u001b[0m\u001b[0mtranslate\u001b[0m\u001b[0;34m(\u001b[0m\u001b[0mx\u001b[0m\u001b[0;34m,\u001b[0m \u001b[0my\u001b[0m\u001b[0;34m)\u001b[0m\u001b[0;34m\u001b[0m\u001b[0m\n\u001b[0m\u001b[1;32m   2039\u001b[0m \u001b[0;34m\u001b[0m\u001b[0m\n\u001b[1;32m   2040\u001b[0m     \u001b[0;32mdef\u001b[0m \u001b[0mtranslate\u001b[0m\u001b[0;34m(\u001b[0m\u001b[0mself\u001b[0m\u001b[0;34m,\u001b[0m \u001b[0mtx\u001b[0m\u001b[0;34m,\u001b[0m \u001b[0mty\u001b[0m\u001b[0;34m)\u001b[0m\u001b[0;34m:\u001b[0m\u001b[0;34m\u001b[0m\u001b[0m\n",
      "\u001b[0;32m~/anaconda3/lib/python3.6/site-packages/matplotlib/transforms.py\u001b[0m in \u001b[0;36mrotate_deg\u001b[0;34m(self, degrees)\u001b[0m\n\u001b[1;32m   2014\u001b[0m         \u001b[0;32mand\u001b[0m \u001b[0;34m:\u001b[0m\u001b[0mmeth\u001b[0m\u001b[0;34m:\u001b[0m\u001b[0;31m`\u001b[0m\u001b[0mscale\u001b[0m\u001b[0;31m`\u001b[0m\u001b[0;34m.\u001b[0m\u001b[0;34m\u001b[0m\u001b[0m\n\u001b[1;32m   2015\u001b[0m         \"\"\"\n\u001b[0;32m-> 2016\u001b[0;31m         \u001b[0;32mreturn\u001b[0m \u001b[0mself\u001b[0m\u001b[0;34m.\u001b[0m\u001b[0mrotate\u001b[0m\u001b[0;34m(\u001b[0m\u001b[0mdegrees\u001b[0m \u001b[0;34m*\u001b[0m \u001b[0mnp\u001b[0m\u001b[0;34m.\u001b[0m\u001b[0mpi\u001b[0m \u001b[0;34m/\u001b[0m \u001b[0;36m180.\u001b[0m\u001b[0;34m)\u001b[0m\u001b[0;34m\u001b[0m\u001b[0m\n\u001b[0m\u001b[1;32m   2017\u001b[0m \u001b[0;34m\u001b[0m\u001b[0m\n\u001b[1;32m   2018\u001b[0m     \u001b[0;32mdef\u001b[0m \u001b[0mrotate_around\u001b[0m\u001b[0;34m(\u001b[0m\u001b[0mself\u001b[0m\u001b[0;34m,\u001b[0m \u001b[0mx\u001b[0m\u001b[0;34m,\u001b[0m \u001b[0my\u001b[0m\u001b[0;34m,\u001b[0m \u001b[0mtheta\u001b[0m\u001b[0;34m)\u001b[0m\u001b[0;34m:\u001b[0m\u001b[0;34m\u001b[0m\u001b[0m\n",
      "\u001b[0;32m~/anaconda3/lib/python3.6/site-packages/matplotlib/transforms.py\u001b[0m in \u001b[0;36mrotate\u001b[0;34m(self, theta)\u001b[0m\n\u001b[1;32m   1998\u001b[0m         \u001b[0;32mand\u001b[0m \u001b[0;34m:\u001b[0m\u001b[0mmeth\u001b[0m\u001b[0;34m:\u001b[0m\u001b[0;31m`\u001b[0m\u001b[0mscale\u001b[0m\u001b[0;31m`\u001b[0m\u001b[0;34m.\u001b[0m\u001b[0;34m\u001b[0m\u001b[0m\n\u001b[1;32m   1999\u001b[0m         \"\"\"\n\u001b[0;32m-> 2000\u001b[0;31m         \u001b[0ma\u001b[0m \u001b[0;34m=\u001b[0m \u001b[0mnp\u001b[0m\u001b[0;34m.\u001b[0m\u001b[0mcos\u001b[0m\u001b[0;34m(\u001b[0m\u001b[0mtheta\u001b[0m\u001b[0;34m)\u001b[0m\u001b[0;34m\u001b[0m\u001b[0m\n\u001b[0m\u001b[1;32m   2001\u001b[0m         \u001b[0mb\u001b[0m \u001b[0;34m=\u001b[0m \u001b[0mnp\u001b[0m\u001b[0;34m.\u001b[0m\u001b[0msin\u001b[0m\u001b[0;34m(\u001b[0m\u001b[0mtheta\u001b[0m\u001b[0;34m)\u001b[0m\u001b[0;34m\u001b[0m\u001b[0m\n\u001b[1;32m   2002\u001b[0m         rotate_mtx = np.array([[a, -b, 0.0], [b, a, 0.0], [0.0, 0.0, 1.0]],\n",
      "\u001b[0;31mKeyboardInterrupt\u001b[0m: "
     ]
    },
    {
     "data": {
      "image/png": "[encoded data removed]",
      "text/plain": [
       "<matplotlib.figure.Figure at 0x7f8095ec26a0>"
      ]
     },
     "metadata": {},
     "output_type": "display_data"
    }
   ],
   "source": [
    "test = True\n",
    "visualization_steps = []\n",
    "rewards_list = []\n",
    "\n",
    "\n",
    "if test:\n",
    "    for i in range(sim_iterations):\n",
    "        #print(\"state\", test_toy_system.s, test_toy_system.ds)\n",
    "        test_toy_system.update_state()\n",
    "        visualization_steps.append(test_toy_system.visualize());\n",
    "    \n",
    "        s0 = test_toy_system.state_to_string()\n",
    "        best_action = optimal_policy(s0, Q)\n",
    "        #print(\"best_action\", best_action)\n",
    "        \n",
    "        if best_action == None:\n",
    "            print(\"Random action is performed, because the current state is unknown for the trained Q\")\n",
    "            test_toy_system.random_action()\n",
    "        \n",
    "        else:\n",
    "            reward = test_toy_system.deterministic_action(best_action)\n",
    "            print(i,reward, best_action)\n",
    "        \n",
    "        test_toy_system.reset_trucks_positions();\n",
    "        test_toy_system.reset_trucks_loads();\n",
    "\n",
    "        \n",
    "        \n",
    "        #Save visualization and rewards\n",
    "        rewards_list.append(reward);\n"
   ]
  },
  {
   "cell_type": "code",
   "execution_count": null,
   "metadata": {},
   "outputs": [],
   "source": [
    "rewards_l = rewards_list\n",
    "vis_l = visualization_steps\n",
    "\n",
    "anim = create_system_animation(vis_l, sim_iterations,1)\n",
    "HTML(anim.to_html5_video())"
   ]
  },
  {
   "cell_type": "code",
   "execution_count": null,
   "metadata": {},
   "outputs": [],
   "source": [
    "max(-np.inf,-10)"
   ]
  },
  {
   "cell_type": "code",
   "execution_count": null,
   "metadata": {},
   "outputs": [],
   "source": [
    "Q['001101101'+ '0010']\n"
   ]
  },
  {
   "cell_type": "code",
   "execution_count": null,
   "metadata": {},
   "outputs": [],
   "source": [
    "plt.plot([i for i in range(len(rewards_list))],rewards_list)\n",
    "plt.show()"
   ]
  },
  {
   "cell_type": "code",
   "execution_count": null,
   "metadata": {},
   "outputs": [],
   "source": [
    "Q\n"
   ]
  },
  {
   "cell_type": "code",
   "execution_count": null,
   "metadata": {
    "collapsed": true
   },
   "outputs": [],
   "source": [
    "a = -np.inf"
   ]
  },
  {
   "cell_type": "code",
   "execution_count": null,
   "metadata": {},
   "outputs": [],
   "source": [
    "a == -np.inf"
   ]
  },
  {
   "cell_type": "code",
   "execution_count": null,
   "metadata": {},
   "outputs": [],
   "source": [
    "len([key for key in list(Q) if key.startswith(s0)])"
   ]
  },
  {
   "cell_type": "code",
   "execution_count": null,
   "metadata": {},
   "outputs": [],
   "source": [
    "list(Q)"
   ]
  },
  {
   "cell_type": "code",
   "execution_count": null,
   "metadata": {},
   "outputs": [],
   "source": [
    "np.linspace(0,3,3)"
   ]
  },
  {
   "cell_type": "code",
   "execution_count": null,
   "metadata": {
    "scrolled": false
   },
   "outputs": [],
   "source": [
    "#list(Q)"
   ]
  },
  {
   "cell_type": "code",
   "execution_count": null,
   "metadata": {},
   "outputs": [],
   "source": [
    "old_position = 5\n",
    "possible_positions_index = np.isin(test_toy_system.graph[old_position], 1)\n",
    "possible_positions = np.where(possible_positions_index)\n",
    "possible_positions"
   ]
  },
  {
   "cell_type": "code",
   "execution_count": null,
   "metadata": {},
   "outputs": [],
   "source": [
    "new_position = random.randrange(len(possible_positions_index)-1 )\n",
    "new_position\n",
    "len(possible_positions_index)-1"
   ]
  },
  {
   "cell_type": "code",
   "execution_count": null,
   "metadata": {},
   "outputs": [],
   "source": []
  },
  {
   "cell_type": "code",
   "execution_count": 59,
   "metadata": {},
   "outputs": [
    {
     "data": {
      "text/plain": [
       "40960.0"
      ]
     },
     "execution_count": 59,
     "metadata": {},
     "output_type": "execute_result"
    }
   ],
   "source": [
    "1474560/(n+1)**k"
   ]
  },
  {
   "cell_type": "code",
   "execution_count": null,
   "metadata": {
    "collapsed": true
   },
   "outputs": [],
   "source": []
  }
 ],
 "metadata": {
  "kernelspec": {
   "display_name": "Python 3",
   "language": "python",
   "name": "python3"
  },
  "language_info": {
   "codemirror_mode": {
    "name": "ipython",
    "version": 3
   },
   "file_extension": ".py",
   "mimetype": "text/x-python",
   "name": "python",
   "nbconvert_exporter": "python",
   "pygments_lexer": "ipython3",
   "version": "3.6.3"
  },
  "toc": {
   "nav_menu": {},
   "number_sections": true,
   "sideBar": true,
   "skip_h1_title": false,
   "title_cell": "Table of Contents",
   "title_sidebar": "Contents",
   "toc_cell": false,
   "toc_position": {},
   "toc_section_display": true,
   "toc_window_display": false
  }
 },
 "nbformat": 4,
 "nbformat_minor": 2
}
