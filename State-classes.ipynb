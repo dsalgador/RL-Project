{
 "cells": [
  {
   "cell_type": "code",
   "execution_count": 139,
   "metadata": {
    "collapsed": true
   },
   "outputs": [],
   "source": [
    "import numpy as np\n",
    "import math\n",
    "import networkx as nx\n",
    "import random"
   ]
  },
  {
   "cell_type": "code",
   "execution_count": 140,
   "metadata": {
    "collapsed": true
   },
   "outputs": [],
   "source": [
    "class Tank():\n",
    "    def __init__(self, tank_id, current_load, max_load, consumption_rate):\n",
    "        self.id = tank_id\n",
    "        self.load = current_load\n",
    "        self.max_load = max_load\n",
    "        self.rate = consumption_rate\n",
    "   \n",
    "    def fill(self):\n",
    "        self.load = self.max_load    \n",
    "        \n",
    "    def partial_fill(self, fill_percentage):\n",
    "        self.load = self.load + self.max_load * fill_percentage\n",
    "    \n",
    "    def tank_extra_capacity(self):\n",
    "        return(self.max_load - self.load)\n",
    "        \n",
    "       \n",
    "        "
   ]
  },
  {
   "cell_type": "code",
   "execution_count": 141,
   "metadata": {
    "collapsed": true
   },
   "outputs": [],
   "source": [
    "class Truck():\n",
    "    def __init__(self, truck_id, current_load, max_load, current_position, load_fractions_deliverable):\n",
    "        self.id = truck_id\n",
    "        self.load = current_load\n",
    "        self.max_load = max_load\n",
    "        self.pos = current_position\n",
    "        self.fractions = load_fractions_deliverable\n",
    "        \n",
    "    def fill(self):\n",
    "        self.load = self.max_load\n",
    "        \n",
    "    def deliver(self, fraction_id: int):\n",
    "        self.load = self.load - self.fractions[fraction_id] * self.max_load\n",
    "    \n",
    "    def possible_delivery_quantities(self, tank_extra_capacity):\n",
    "        all_delivery_quantities = self.load * self.fractions\n",
    "        return(all_delivery_quantities[ all_delivery_quantities <= tank_extra_capacity])\n",
    "       \n",
    "    "
   ]
  },
  {
   "cell_type": "code",
   "execution_count": 142,
   "metadata": {
    "collapsed": false
   },
   "outputs": [],
   "source": [
    "class System():\n",
    "    def __init__(self, tanks, trucks, adjacency_matrix, weights_matrix):\n",
    "        self.tanks = tanks\n",
    "        self.trucks = trucks\n",
    "        self.graph = adjacency_matrix\n",
    "        self.weights = weights_matrix\n",
    "        self.k = len(trucks)\n",
    "        self.n = len(tanks)\n",
    "        self.s = self.state()\n",
    "        \n",
    "    def truck_loads(self):\n",
    "        return([self.trucks[i].load for i in range(self.k)])\n",
    "    \n",
    "    def truck_positions(self):\n",
    "        return([self.trucks[i].pos for i in range(self.k)])\n",
    "    \n",
    "    def tank_loads(self):\n",
    "        return([self.tanks[i].load for i in range(self.n)])\n",
    "    \n",
    "    def state(self):\n",
    "        #[ positions, truck-loads, tank-loads]\n",
    "        s = [self.truck_positions(), self.truck_loads(), self.tank_loads()]\n",
    "        return(s)\n",
    "    \n",
    "    def update_state(self):\n",
    "        self.s = self.state()\n",
    "        \n",
    "    def random_action(self, seed = None):\n",
    "        if seed != None:\n",
    "            random.seed(42)\n",
    "        # Choose a position for each truck randomly\n",
    "        \n",
    "        #CORRE GIR EL CODIGO, PLANTEAMIENTO PARA QUE FUNCIONE\n",
    "        possible_positions_index = np.isin(self.graph, 1)\n",
    "        possible_positions = np.where(possible_positions_index)\n",
    "        print(\"possible_positions:\", possible_positions)\n",
    "        for i in range(self.k):\n",
    "            random.randint(len(possible_positions[0]))\n",
    "            new_position = random.choice(zip(possible_positions), 1)\n",
    "            print(\"new position: \",new_position)\n",
    "            self.trucks[i].pos = new_position\n",
    "            \n",
    "        # Choose a new (possible) load delivery for each truck to the new tank (position)\n",
    "        # and update the tank's load after deliverying the chosen quantity.\n",
    "        for i in range(self.k):\n",
    "            truck_pos = self.trucks[i].pos\n",
    "            print(truck_pos)\n",
    "            if truck_pos == self.n:\n",
    "                continue;\n",
    "            else:\n",
    "                current_truck = trucks[i]\n",
    "                current_tank = tanks[truck_pos]\n",
    "                current_extra_tank_capacity = current_tank.tank_extra_capacity()\n",
    "                possible_delivery_quantities = current_truck(current_extra_tank_capacity)\n",
    "                delivery_quantity = np.random.choice(possible_delivery_quantities)\n",
    "                current_tank.load = current_tank.load + delivery_quantity\n",
    "            \n",
    "        self.update_state()\n",
    "        \n",
    "            \n",
    "\n",
    "            \n"
   ]
  },
  {
   "cell_type": "code",
   "execution_count": 143,
   "metadata": {
    "collapsed": false
   },
   "outputs": [
    {
     "name": "stdout",
     "output_type": "stream",
     "text": [
      "1.13.1\n"
     ]
    }
   ],
   "source": [
    "random.randint(0,100)\n",
    "print(np.__version__)\n",
    "\n"
   ]
  },
  {
   "cell_type": "code",
   "execution_count": 144,
   "metadata": {
    "collapsed": false
   },
   "outputs": [
    {
     "name": "stdout",
     "output_type": "stream",
     "text": [
      "[[1 1 1 1 1 1]\n",
      " [0 0 0 0 0 0]\n",
      " [0 0 0 0 0 0]\n",
      " [0 0 0 0 0 0]\n",
      " [0 0 0 0 0 0]\n",
      " [0 0 0 0 0 0]]\n"
     ]
    },
    {
     "name": "stderr",
     "output_type": "stream",
     "text": [
      "C:\\Users\\Daniel\\Anaconda3\\lib\\site-packages\\networkx\\drawing\\nx_pylab.py:126: MatplotlibDeprecationWarning: pyplot.hold is deprecated.\n",
      "    Future behavior will be consistent with the long-time default:\n",
      "    plot commands add elements without first clearing the\n",
      "    Axes and/or Figure.\n",
      "  b = plt.ishold()\n",
      "C:\\Users\\Daniel\\Anaconda3\\lib\\site-packages\\networkx\\drawing\\nx_pylab.py:138: MatplotlibDeprecationWarning: pyplot.hold is deprecated.\n",
      "    Future behavior will be consistent with the long-time default:\n",
      "    plot commands add elements without first clearing the\n",
      "    Axes and/or Figure.\n",
      "  plt.hold(b)\n",
      "C:\\Users\\Daniel\\Anaconda3\\lib\\site-packages\\matplotlib\\__init__.py:917: UserWarning: axes.hold is deprecated. Please remove it from your matplotlibrc and/or style files.\n",
      "  warnings.warn(self.msg_depr_set % key)\n",
      "C:\\Users\\Daniel\\Anaconda3\\lib\\site-packages\\matplotlib\\rcsetup.py:152: UserWarning: axes.hold is deprecated, will be removed in 3.0\n",
      "  warnings.warn(\"axes.hold is deprecated, will be removed in 3.0\")\n"
     ]
    }
   ],
   "source": [
    "# A simple system's adjacency matrix\n",
    "n = 5\n",
    "\n",
    "def simple_graph(n: int):    \n",
    "    A = np.zeros((n,n))\n",
    "    A[0,0:n] = 1\n",
    "    A = A.astype(int)\n",
    "    return(A)\n",
    "\n",
    "A = simple_graph(n+1)\n",
    "\n",
    "print(A)\n",
    "\n",
    "G = nx.from_numpy_matrix(np.array(A)) \n",
    "nx.draw(G, with_labels=True)\n",
    "\n"
   ]
  },
  {
   "cell_type": "code",
   "execution_count": 145,
   "metadata": {
    "collapsed": false
   },
   "outputs": [
    {
     "data": {
      "text/plain": [
       "(array([0, 0, 0, 0, 0, 0], dtype=int64),\n",
       " array([0, 1, 2, 3, 4, 5], dtype=int64))"
      ]
     },
     "execution_count": 145,
     "metadata": {},
     "output_type": "execute_result"
    }
   ],
   "source": [
    "possible_positions_index = np.isin(A, 1)\n",
    "possible_positions = np.where(possible_positions_index)\n",
    "possible_positions"
   ]
  },
  {
   "cell_type": "code",
   "execution_count": 146,
   "metadata": {
    "collapsed": true
   },
   "outputs": [],
   "source": [
    "# Tanks' information\n",
    "n = 5 \n",
    "tank_ids = list(range(n))\n",
    "tank_max_loads =  np.array([100, 100., 200., 300., 400.])\n",
    "tank_current_loads =  np.array([50, 60., 120., 150., 300.])\n",
    "tank_consumption_rates =  np.array([2] * n)\n"
   ]
  },
  {
   "cell_type": "code",
   "execution_count": 147,
   "metadata": {
    "collapsed": true
   },
   "outputs": [],
   "source": [
    "# Trucks' information\n",
    "k = 2\n",
    "truck_ids = list(range(k))\n",
    "truck_max_loads = np.array([20., 50.])\n",
    "truck_current_loads = truck_max_loads.copy()\n",
    "truck_current_positions =  np.array([n] * k)\n",
    "truck_fractions_deliverable =  np.array([1.] * k) # we for now we only allow to deliver all the content of the truck\n"
   ]
  },
  {
   "cell_type": "code",
   "execution_count": 148,
   "metadata": {
    "collapsed": false
   },
   "outputs": [],
   "source": [
    "# System's information\n",
    "graph = simple_graph(n+1)\n",
    "tanks = [Tank( tank_id, current_load, max_load, consumption_rate ) \n",
    "         for  tank_id, current_load, max_load, consumption_rate in \n",
    "         zip( tank_ids, tank_current_loads, tank_max_loads, tank_consumption_rates)]\n",
    "trucks = [Truck( truck_id, current_load, max_load, current_position, load_fractions_deliverable ) \n",
    "         for  truck_id, current_load, max_load, current_position, load_fractions_deliverable in \n",
    "         zip(truck_ids, truck_current_loads, truck_max_loads, truck_current_positions, \n",
    "             truck_fractions_deliverable)]\n",
    "\n",
    "def simple_weights(n:int, w: float):    \n",
    "    W = np.full((n,n), np.inf)\n",
    "    W[0,:] = w\n",
    "    return(W)\n",
    "w =  np.array([0, -20., -10., -30., -50.5, -45.])\n",
    "\n",
    "weights_matrix = simple_weights(n+1, w)\n",
    "\n",
    "toy_system = System(tanks, trucks, graph, weights_matrix)\n"
   ]
  },
  {
   "cell_type": "code",
   "execution_count": 149,
   "metadata": {
    "collapsed": false
   },
   "outputs": [
    {
     "name": "stdout",
     "output_type": "stream",
     "text": [
      "0\n",
      "1\n",
      "2\n",
      "3\n",
      "4\n",
      "[50.0, 60.0, 120.0, 150.0, 300.0]\n",
      "[5, 5]\n",
      "[[5, 5], [20.0, 50.0], [50.0, 60.0, 120.0, 150.0, 300.0]]\n",
      "[[  0.  -20.  -10.  -30.  -50.5 -45. ]\n",
      " [  inf   inf   inf   inf   inf   inf]\n",
      " [  inf   inf   inf   inf   inf   inf]\n",
      " [  inf   inf   inf   inf   inf   inf]\n",
      " [  inf   inf   inf   inf   inf   inf]\n",
      " [  inf   inf   inf   inf   inf   inf]]\n"
     ]
    }
   ],
   "source": [
    "for i in range(n):\n",
    "    print(tanks[i].id) \n",
    "\n",
    "#print(toy_system.truck_loads())\n",
    "print(toy_system.tank_loads())\n",
    "print(toy_system.truck_positions())\n",
    "\n",
    "print(toy_system.state())\n",
    "print(toy_system.weights)\n",
    "#POSITION 'n' is the position of the Charge location (node 0 in the plot) ???? clarify notation and code"
   ]
  },
  {
   "cell_type": "code",
   "execution_count": 150,
   "metadata": {
    "collapsed": false
   },
   "outputs": [
    {
     "name": "stdout",
     "output_type": "stream",
     "text": [
      "possible_positions: (array([0, 0, 0, 0, 0, 0], dtype=int64), array([0, 1, 2, 3, 4, 5], dtype=int64))\n"
     ]
    },
    {
     "ename": "TypeError",
     "evalue": "choice() takes 2 positional arguments but 3 were given",
     "output_type": "error",
     "traceback": [
      "\u001b[0;31m-------------------------------------------------------------------------\u001b[0m",
      "\u001b[0;31mTypeError\u001b[0m                               Traceback (most recent call last)",
      "\u001b[0;32m<ipython-input-150-873845b12170>\u001b[0m in \u001b[0;36m<module>\u001b[0;34m()\u001b[0m\n\u001b[0;32m----> 1\u001b[0;31m \u001b[0mtoy_system\u001b[0m\u001b[1;33m.\u001b[0m\u001b[0mrandom_action\u001b[0m\u001b[1;33m(\u001b[0m\u001b[1;33m)\u001b[0m\u001b[1;33m\u001b[0m\u001b[0m\n\u001b[0m\u001b[1;32m      2\u001b[0m \u001b[0mprint\u001b[0m\u001b[1;33m(\u001b[0m\u001b[0mtoy_system\u001b[0m\u001b[1;33m.\u001b[0m\u001b[0mstate\u001b[0m\u001b[1;33m(\u001b[0m\u001b[1;33m)\u001b[0m\u001b[1;33m)\u001b[0m\u001b[1;33m\u001b[0m\u001b[0m\n",
      "\u001b[0;32m<ipython-input-142-1fc5a20e7b64>\u001b[0m in \u001b[0;36mrandom_action\u001b[0;34m(self, seed)\u001b[0m\n\u001b[1;32m     34\u001b[0m         \u001b[0mprint\u001b[0m\u001b[1;33m(\u001b[0m\u001b[1;34m\"possible_positions:\"\u001b[0m\u001b[1;33m,\u001b[0m \u001b[0mpossible_positions\u001b[0m\u001b[1;33m)\u001b[0m\u001b[1;33m\u001b[0m\u001b[0m\n\u001b[1;32m     35\u001b[0m         \u001b[1;32mfor\u001b[0m \u001b[0mi\u001b[0m \u001b[1;32min\u001b[0m \u001b[0mrange\u001b[0m\u001b[1;33m(\u001b[0m\u001b[0mself\u001b[0m\u001b[1;33m.\u001b[0m\u001b[0mk\u001b[0m\u001b[1;33m)\u001b[0m\u001b[1;33m:\u001b[0m\u001b[1;33m\u001b[0m\u001b[0m\n\u001b[0;32m---> 36\u001b[0;31m             \u001b[0mnew_position\u001b[0m \u001b[1;33m=\u001b[0m \u001b[0mrandom\u001b[0m\u001b[1;33m.\u001b[0m\u001b[0mchoice\u001b[0m\u001b[1;33m(\u001b[0m\u001b[0mzip\u001b[0m\u001b[1;33m(\u001b[0m\u001b[0mpossible_positions\u001b[0m\u001b[1;33m)\u001b[0m\u001b[1;33m,\u001b[0m \u001b[1;36m1\u001b[0m\u001b[1;33m)\u001b[0m\u001b[1;33m\u001b[0m\u001b[0m\n\u001b[0m\u001b[1;32m     37\u001b[0m             \u001b[0mprint\u001b[0m\u001b[1;33m(\u001b[0m\u001b[1;34m\"new position: \"\u001b[0m\u001b[1;33m,\u001b[0m\u001b[0mnew_position\u001b[0m\u001b[1;33m)\u001b[0m\u001b[1;33m\u001b[0m\u001b[0m\n\u001b[1;32m     38\u001b[0m             \u001b[0mself\u001b[0m\u001b[1;33m.\u001b[0m\u001b[0mtrucks\u001b[0m\u001b[1;33m[\u001b[0m\u001b[0mi\u001b[0m\u001b[1;33m]\u001b[0m\u001b[1;33m.\u001b[0m\u001b[0mpos\u001b[0m \u001b[1;33m=\u001b[0m \u001b[0mnew_position\u001b[0m\u001b[1;33m\u001b[0m\u001b[0m\n",
      "\u001b[0;31mTypeError\u001b[0m: choice() takes 2 positional arguments but 3 were given"
     ]
    }
   ],
   "source": [
    "toy_system.random_action()\n",
    "print(toy_system.state())"
   ]
  },
  {
   "cell_type": "code",
   "execution_count": null,
   "metadata": {
    "collapsed": false
   },
   "outputs": [],
   "source": [
    "print(toy_system.graph)"
   ]
  },
  {
   "cell_type": "code",
   "execution_count": null,
   "metadata": {
    "collapsed": false
   },
   "outputs": [],
   "source": [
    "[trucks[j].load for j in range(k)]"
   ]
  },
  {
   "cell_type": "code",
   "execution_count": null,
   "metadata": {
    "collapsed": false
   },
   "outputs": [],
   "source": [
    "k"
   ]
  },
  {
   "cell_type": "code",
   "execution_count": null,
   "metadata": {
    "collapsed": false
   },
   "outputs": [],
   "source": [
    "truck_current_positions "
   ]
  },
  {
   "cell_type": "code",
   "execution_count": null,
   "metadata": {
    "collapsed": false
   },
   "outputs": [],
   "source": [
    "\n",
    "trucks[0].possible_delivery_quantities()"
   ]
  },
  {
   "cell_type": "code",
   "execution_count": null,
   "metadata": {
    "collapsed": true
   },
   "outputs": [],
   "source": []
  }
 ],
 "metadata": {
  "kernelspec": {
   "display_name": "Python 3",
   "language": "python",
   "name": "python3"
  },
  "language_info": {
   "codemirror_mode": {
    "name": "ipython",
    "version": 3
   },
   "file_extension": ".py",
   "mimetype": "text/x-python",
   "name": "python",
   "nbconvert_exporter": "python",
   "pygments_lexer": "ipython3",
   "version": "3.6.0"
  },
  "toc": {
   "nav_menu": {},
   "number_sections": true,
   "sideBar": true,
   "skip_h1_title": false,
   "title_cell": "Table of Contents",
   "title_sidebar": "Contents",
   "toc_cell": false,
   "toc_position": {},
   "toc_section_display": true,
   "toc_window_display": false
  }
 },
 "nbformat": 4,
 "nbformat_minor": 2
}
