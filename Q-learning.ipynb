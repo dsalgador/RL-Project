{
 "cells": [
  {
   "cell_type": "code",
   "execution_count": 1,
   "metadata": {
    "collapsed": true
   },
   "outputs": [],
   "source": [
    "import model\n",
    "import numpy as np\n",
    "import random\n",
    "from utils import simple_graph\n",
    "import tank\n",
    "import truck\n",
    "\n",
    "\n",
    "import matplotlib.pyplot as plt\n",
    "from matplotlib import animation, rc\n",
    "from IPython.display import HTML"
   ]
  },
  {
   "cell_type": "code",
   "execution_count": 2,
   "metadata": {},
   "outputs": [],
   "source": [
    "# Tanks' information\n",
    "n = 5 \n",
    "tank_ids = list(range(1,n+1))\n",
    "tank_max_loads =  np.array([100., 100., 200., 300., 400.])\n",
    "tank_current_loads =  np.array([50., 60., 120., 150., 300.])\n",
    "tank_consumption_rates =  np.array([10.] * n)\n",
    "\n",
    "n_discrete_load_levels = np.array([5,5,10,10,10])\n",
    "\n",
    "# Trucks' information\n",
    "k = 2\n",
    "truck_ids = list(range(k))\n",
    "truck_max_loads = np.array([20., 50.])\n",
    "truck_current_loads = truck_max_loads.copy()\n",
    "truck_current_positions =  np.array([0] * k)\n",
    "#truck_fractions_deliverable =  np.array([1.] * k) # we for now we only allow to deliver all the content of the truck\n",
    "truck_fractions_deliverable =  np.array([ np.array([0.5, 1.]), \n",
    "                                          np.array([0.5, 1.])\n",
    "                                        ]) # we for now we only allow to deliver all the content of the truck\n",
    "n_discrete_load_levels_trucks = np.array([2,2])\n",
    "\n",
    "# System's information\n",
    "def simple_graph(n: int):    \n",
    "    A = np.zeros((n,n))\n",
    "    A[0,0:n] = 1\n",
    "    A = A.astype(int)\n",
    "    return(A)\n",
    "\n",
    "graph = simple_graph(n+1)\n",
    "tanks = [tank.Tank( tank_id, current_load, max_load, consumption_rate, n_lvls) \n",
    "         for  tank_id, current_load, max_load, consumption_rate, n_lvls in \n",
    "         zip( tank_ids, tank_current_loads, tank_max_loads, tank_consumption_rates, n_discrete_load_levels)]\n",
    "trucks = [truck.Truck( truck_id, current_load, max_load, current_position, load_fractions_deliverable, n_lvls) \n",
    "         for  truck_id, current_load, max_load, current_position, load_fractions_deliverable, n_lvls in \n",
    "         zip(truck_ids, truck_current_loads, truck_max_loads, truck_current_positions, \n",
    "             truck_fractions_deliverable, n_discrete_load_levels_trucks)]\n",
    "\n",
    "def simple_weights(n: int, w: float):    \n",
    "    W = np.full((n,n), np.inf)\n",
    "    W[0,:] = w\n",
    "    return(W)\n",
    "w =  np.array([0, 20., 10., 30., 50.5, 45.])\n",
    "\n",
    "weights_matrix = simple_weights(n+1, w)\n",
    "\n",
    "\n"
   ]
  },
  {
   "cell_type": "code",
   "execution_count": 3,
   "metadata": {},
   "outputs": [],
   "source": [
    "toy_system = model.System(tanks = tanks, trucks = trucks, adjacency_matrix = graph, weights_matrix = weights_matrix)"
   ]
  },
  {
   "cell_type": "code",
   "execution_count": 4,
   "metadata": {},
   "outputs": [
    {
     "name": "stdout",
     "output_type": "stream",
     "text": [
      "self.trucks [<truck.Truck object at 0x7f380637fef0>, <truck.Truck object at 0x7f380637ff28>]\n",
      "Final rewards:  -110.0\n",
      "self.trucks [<truck.Truck object at 0x7f380637fef0>, <truck.Truck object at 0x7f380637ff28>]\n",
      "Final rewards:  -60.0\n",
      "self.trucks [<truck.Truck object at 0x7f380637fef0>, <truck.Truck object at 0x7f380637ff28>]\n",
      "Final rewards:  -120.5\n",
      "self.trucks [<truck.Truck object at 0x7f380637fef0>, <truck.Truck object at 0x7f380637ff28>]\n",
      "Final rewards:  -95.0\n",
      "self.trucks [<truck.Truck object at 0x7f380637fef0>, <truck.Truck object at 0x7f380637ff28>]\n",
      "Final rewards:  -95.5\n",
      "self.trucks [<truck.Truck object at 0x7f380637fef0>, <truck.Truck object at 0x7f380637ff28>]\n",
      "Final rewards:  -130.5\n",
      "self.trucks [<truck.Truck object at 0x7f380637fef0>, <truck.Truck object at 0x7f380637ff28>]\n",
      "Final rewards:  -65.0\n",
      "self.trucks [<truck.Truck object at 0x7f380637fef0>, <truck.Truck object at 0x7f380637ff28>]\n",
      "Final rewards:  -90.0\n",
      "self.trucks [<truck.Truck object at 0x7f380637fef0>, <truck.Truck object at 0x7f380637ff28>]\n",
      "Final rewards:  -110.0\n",
      "self.trucks [<truck.Truck object at 0x7f380637fef0>, <truck.Truck object at 0x7f380637ff28>]\n",
      "Final rewards:  -55.0\n",
      "self.trucks [<truck.Truck object at 0x7f380637fef0>, <truck.Truck object at 0x7f380637ff28>]\n",
      "Final rewards:  -85.5\n",
      "self.trucks [<truck.Truck object at 0x7f380637fef0>, <truck.Truck object at 0x7f380637ff28>]\n",
      "Final rewards:  -inf\n",
      "self.trucks [<truck.Truck object at 0x7f380637fef0>, <truck.Truck object at 0x7f380637ff28>]\n",
      "Final rewards:  -90.0\n",
      "self.trucks [<truck.Truck object at 0x7f380637fef0>, <truck.Truck object at 0x7f380637ff28>]\n",
      "Final rewards:  -161.0\n",
      "self.trucks [<truck.Truck object at 0x7f380637fef0>, <truck.Truck object at 0x7f380637ff28>]\n",
      "Final rewards:  -65.0\n",
      "self.trucks [<truck.Truck object at 0x7f380637fef0>, <truck.Truck object at 0x7f380637ff28>]\n",
      "Final rewards:  -95.0\n",
      "self.trucks [<truck.Truck object at 0x7f380637fef0>, <truck.Truck object at 0x7f380637ff28>]\n",
      "Final rewards:  -80.0\n",
      "self.trucks [<truck.Truck object at 0x7f380637fef0>, <truck.Truck object at 0x7f380637ff28>]\n",
      "Final rewards:  -45.0\n",
      "self.trucks [<truck.Truck object at 0x7f380637fef0>, <truck.Truck object at 0x7f380637ff28>]\n",
      "Final rewards:  -65.0\n",
      "self.trucks [<truck.Truck object at 0x7f380637fef0>, <truck.Truck object at 0x7f380637ff28>]\n",
      "Final rewards:  -85.0\n",
      "self.trucks [<truck.Truck object at 0x7f380637fef0>, <truck.Truck object at 0x7f380637ff28>]\n",
      "Final rewards:  -95.0\n",
      "self.trucks [<truck.Truck object at 0x7f380637fef0>, <truck.Truck object at 0x7f380637ff28>]\n",
      "Final rewards:  -115.5\n",
      "self.trucks [<truck.Truck object at 0x7f380637fef0>, <truck.Truck object at 0x7f380637ff28>]\n",
      "Final rewards:  -85.0\n",
      "self.trucks [<truck.Truck object at 0x7f380637fef0>, <truck.Truck object at 0x7f380637ff28>]\n",
      "Final rewards:  -120.5\n",
      "self.trucks [<truck.Truck object at 0x7f380637fef0>, <truck.Truck object at 0x7f380637ff28>]\n",
      "Final rewards:  -105.5\n",
      "self.trucks [<truck.Truck object at 0x7f380637fef0>, <truck.Truck object at 0x7f380637ff28>]\n",
      "Final rewards:  -85.0\n",
      "self.trucks [<truck.Truck object at 0x7f380637fef0>, <truck.Truck object at 0x7f380637ff28>]\n",
      "Final rewards:  -80.0\n",
      "self.trucks [<truck.Truck object at 0x7f380637fef0>, <truck.Truck object at 0x7f380637ff28>]\n",
      "Final rewards:  -120.0\n",
      "self.trucks [<truck.Truck object at 0x7f380637fef0>, <truck.Truck object at 0x7f380637ff28>]\n",
      "Final rewards:  -120.5\n",
      "self.trucks [<truck.Truck object at 0x7f380637fef0>, <truck.Truck object at 0x7f380637ff28>]\n",
      "Final rewards:  -75.0\n",
      "self.trucks [<truck.Truck object at 0x7f380637fef0>, <truck.Truck object at 0x7f380637ff28>]\n",
      "Final rewards:  -140.5\n",
      "self.trucks [<truck.Truck object at 0x7f380637fef0>, <truck.Truck object at 0x7f380637ff28>]\n",
      "Final rewards:  -90.0\n",
      "self.trucks [<truck.Truck object at 0x7f380637fef0>, <truck.Truck object at 0x7f380637ff28>]\n",
      "Final rewards:  -75.0\n",
      "self.trucks [<truck.Truck object at 0x7f380637fef0>, <truck.Truck object at 0x7f380637ff28>]\n",
      "Final rewards:  -inf\n",
      "self.trucks [<truck.Truck object at 0x7f380637fef0>, <truck.Truck object at 0x7f380637ff28>]\n",
      "Final rewards:  -inf\n",
      "self.trucks [<truck.Truck object at 0x7f380637fef0>, <truck.Truck object at 0x7f380637ff28>]\n",
      "Final rewards:  -inf\n",
      "self.trucks [<truck.Truck object at 0x7f380637fef0>, <truck.Truck object at 0x7f380637ff28>]\n",
      "Final rewards:  -75.0\n",
      "self.trucks [<truck.Truck object at 0x7f380637fef0>, <truck.Truck object at 0x7f380637ff28>]\n",
      "Final rewards:  -inf\n",
      "self.trucks [<truck.Truck object at 0x7f380637fef0>, <truck.Truck object at 0x7f380637ff28>]\n",
      "Final rewards:  -inf\n",
      "self.trucks [<truck.Truck object at 0x7f380637fef0>, <truck.Truck object at 0x7f380637ff28>]\n",
      "Final rewards:  -inf\n",
      "self.trucks [<truck.Truck object at 0x7f380637fef0>, <truck.Truck object at 0x7f380637ff28>]\n",
      "Final rewards:  -inf\n",
      "self.trucks [<truck.Truck object at 0x7f380637fef0>, <truck.Truck object at 0x7f380637ff28>]\n",
      "Final rewards:  -inf\n",
      "self.trucks [<truck.Truck object at 0x7f380637fef0>, <truck.Truck object at 0x7f380637ff28>]\n",
      "Final rewards:  -inf\n",
      "self.trucks [<truck.Truck object at 0x7f380637fef0>, <truck.Truck object at 0x7f380637ff28>]\n",
      "Final rewards:  -inf\n",
      "self.trucks [<truck.Truck object at 0x7f380637fef0>, <truck.Truck object at 0x7f380637ff28>]\n",
      "Final rewards:  -inf\n",
      "self.trucks [<truck.Truck object at 0x7f380637fef0>, <truck.Truck object at 0x7f380637ff28>]\n",
      "Final rewards:  -inf\n",
      "self.trucks [<truck.Truck object at 0x7f380637fef0>, <truck.Truck object at 0x7f380637ff28>]\n",
      "Final rewards:  -inf\n",
      "self.trucks [<truck.Truck object at 0x7f380637fef0>, <truck.Truck object at 0x7f380637ff28>]\n",
      "Final rewards:  -inf\n",
      "self.trucks [<truck.Truck object at 0x7f380637fef0>, <truck.Truck object at 0x7f380637ff28>]\n",
      "Final rewards:  -inf\n",
      "self.trucks [<truck.Truck object at 0x7f380637fef0>, <truck.Truck object at 0x7f380637ff28>]\n",
      "Final rewards:  -inf\n"
     ]
    },
    {
     "data": {
      "image/png": "[encoded data removed]",
      "text/plain": [
       "<matplotlib.figure.Figure at 0x7f380637f748>"
      ]
     },
     "metadata": {},
     "output_type": "display_data"
    }
   ],
   "source": [
    "# Simulation\n",
    "%matplotlib inline\n",
    "\n",
    "seed = None \n",
    "\n",
    "iterations = 50\n",
    "visualization_steps = []\n",
    "rewards_list = []\n",
    "\n",
    "for it in range(iterations):\n",
    "    rewards = toy_system.random_action(seed);\n",
    "    rewards_list.append(rewards)\n",
    "    #print(toy_system.state())\n",
    "    print(\"Final rewards: \", rewards);\n",
    "    toy_system.reset_trucks_positions();\n",
    "    visualization_steps.append(toy_system.visualize());"
   ]
  },
  {
   "cell_type": "code",
   "execution_count": 5,
   "metadata": {},
   "outputs": [
    {
     "data": {
      "text/plain": [
       "[40.0, 60.0, 110.0, 190.0, 290.0]"
      ]
     },
     "execution_count": 5,
     "metadata": {},
     "output_type": "execute_result"
    }
   ],
   "source": [
    "visualization_steps[0][2]"
   ]
  },
  {
   "cell_type": "code",
   "execution_count": 6,
   "metadata": {},
   "outputs": [
    {
     "data": {
      "text/plain": [
       "array([1, 2, 3, 4, 5])"
      ]
     },
     "execution_count": 6,
     "metadata": {},
     "output_type": "execute_result"
    }
   ],
   "source": [
    "visualization_steps[0][0]+1"
   ]
  },
  {
   "cell_type": "code",
   "execution_count": 7,
   "metadata": {},
   "outputs": [],
   "source": [
    "visualization_steps;"
   ]
  },
  {
   "cell_type": "code",
   "execution_count": null,
   "metadata": {},
   "outputs": [],
   "source": []
  },
  {
   "cell_type": "code",
   "execution_count": 8,
   "metadata": {},
   "outputs": [
    {
     "data": {
      "text/html": [
       "<video width=\"432\" height=\"288\" controls autoplay>\n",
       "  <source type=\"video/mp4\" src=\"data:video/mp4;base64,AAAAHGZ0eXBNNFYgAAACAGlzb21pc28yYXZjMQAAAAhmcmVlAAAp/m1kYXQAAAKuBgX//6rcRem9\n",
       "5tlIt5Ys2CDZI+7veDI2NCAtIGNvcmUgMTUyIHIyODU0IGU5YTU5MDMgLSBILjI2NC9NUEVHLTQg\n",
       "QVZDIGNvZGVjIC0gQ29weWxlZnQgMjAwMy0yMDE3IC0gaHR0cDovL3d3dy52aWRlb2xhbi5vcmcv\n",
       "eDI2NC5odG1sIC0gb3B0aW9uczogY2FiYWM9MSByZWY9MyBkZWJsb2NrPTE6MDowIGFuYWx5c2U9\n",
       "MHgzOjB4MTEzIG1lPWhleCBzdWJtZT03IHBzeT0xIHBzeV9yZD0xLjAwOjAuMDAgbWl4ZWRfcmVm\n",
       "PTEgbWVfcmFuZ2U9MTYgY2hyb21hX21lPTEgdHJlbGxpcz0xIDh4OGRjdD0xIGNxbT0wIGRlYWR6\n",
       "b25lPTIxLDExIGZhc3RfcHNraXA9MSBjaHJvbWFfcXBfb2Zmc2V0PS0yIHRocmVhZHM9OSBsb29r\n",
       "YWhlYWRfdGhyZWFkcz0xIHNsaWNlZF90aHJlYWRzPTAgbnI9MCBkZWNpbWF0ZT0xIGludGVybGFj\n",
       "ZWQ9MCBibHVyYXlfY29tcGF0PTAgY29uc3RyYWluZWRfaW50cmE9MCBiZnJhbWVzPTMgYl9weXJh\n",
       "bWlkPTIgYl9hZGFwdD0xIGJfYmlhcz0wIGRpcmVjdD0xIHdlaWdodGI9MSBvcGVuX2dvcD0wIHdl\n",
       "aWdodHA9MiBrZXlpbnQ9MjUwIGtleWludF9taW49MTAgc2NlbmVjdXQ9NDAgaW50cmFfcmVmcmVz\n",
       "aD0wIHJjX2xvb2thaGVhZD00MCByYz1jcmYgbWJ0cmVlPTEgY3JmPTIzLjAgcWNvbXA9MC42MCBx\n",
       "cG1pbj0wIHFwbWF4PTY5IHFwc3RlcD00IGlwX3JhdGlvPTEuNDAgYXE9MToxLjAwAIAAAAuqZYiE\n",
       "ABH//veIHzLLafk613IR560urR9Q7kZxXqS9/iAAAAMAFpyZQ/thx05aw0AARbX/wWH/EBLod4Q+\n",
       "dEX5hVkiZFWhw4guhBIDt9yUTxsLJ774e8gT8VEGjMGlSAA508C9IAwN3ed798oncPAo5aVLV65U\n",
       "jE6L0v6H/sDF813+6f+VTOhVkJFh47c5ahiGQDdf8rdJ4pCSggpoPIMuRaLF6I/rL93nt8BmcL+j\n",
       "aUnNkaSud46QdR1DvV0mXkwbBvzReBw/X/r6Vx+KrRcWLheW+lzQyq25uZY9BxAPrSMa6tkT6Kyb\n",
       "WoLCeMVuy3PMncRQyjzbKN7HkDHZEZfmD4Dk07556eYKz6mwznY6XZGUaOW/Io1Z4T/b6/aQAZqE\n",
       "8u2DA1JF1F4r0MJBBQPXjuUcdnWbQ1y3jF2s4vAVZwv0pquLVSt8VT5qeIav/nZPeFRo7cG+LnH0\n",
       "FMAowjqqjvxFRgNmRjVSK1/JYkIfFtiW2D+5rsjubByZ8IgwP5vZNxNFU7j4QqWPxjUxXdLtxPJZ\n",
       "2E1UHO+xeCfuXW4/8+mOyxC3I8ICG/H0SWa2Yi6sQ/7y6u6XuMbxf9pib5g3ddCfpLIzoEi0JXxp\n",
       "1rRAba6+AbExDLpjUpr/EdAZv+9cuS7FruvhRxEuwpITDv/84jK0WX0ZsNru8SezClJbTDssCofR\n",
       "Xw7XcniD5LN2tmyHXzLdPK27MdTHrmcojMdTv49GeHbVC9ZpuZkCuopTkcz4Ap54eY1QwAj7e1dz\n",
       "MySXxysvwyGi5JH7asNyM0ynJiSvWtYwcR9lvRd9qIXgV0f1qotBaDv5v+Fu+j1/96eVHB1YKt9d\n",
       "c9KW6EVWmD4XVBmVJACYY46vWmgmqDhaPbxe52hq4UUgNY655bI+A0NYX4GR8mHpmtTLGWtV4oZi\n",
       "tnbA76QgyFtWvTy9ACwDUb2uJK/Ts6HqYIQdLj4TqTh6s0YDWOiyoALath/uM2Hizfm0rerjDdWv\n",
       "mMTcNdnW/k+x67J0OYUGmnmRvCrUCIwBFs9rHS+fip2fnZIjgALG3fIPOBtybntEW1bbvGFcTHIm\n",
       "zRibFy2TtlPgVamL9wbe+5qKAb+/7CNr2eLUdUvEXD8HV6ZU0J62JtGIv6btXMo9XpmNljKkqx9J\n",
       "NLMdRdnuRiO+P3j9A82mTJTEAra8g8/5HOn869pLyAZBJMUS2sklH1SypGhsyItWfhYuhoib/EKY\n",
       "kLVXMa4QZVn/d0nAmAMgfSB6G8MYxsBo5FGibgZ8mC0PHDL0C6O7HfHClN7ldZ0RROkUwHI/NG7g\n",
       "ArTaG+Vg7eIS2J+daVoXxMLGW4MJjR1BteyqMzih2r5+NkLycdY6vh5yaeinT3rpMoYzRZPArmWp\n",
       "98NXcTJC7NL4Wo1kxtxhAzckhFQHMlO1l65jQKWxWqOTxbkH/ajNnIgXmCHnQo0Lw6q+L0zVdaAA\n",
       "JJKKdzltYeAAAZ0rMHtupE6mo2baavl2C/qZY03ZvcAb8ofTOBn5Ud1es0j2dRuc77kem/CH2gYY\n",
       "4rdWu7ssXnJMPzLQUxfBolezR3EU+kgXbziKqkcKq9vaLB/3Cj+AKE7Kqi3ePHf6/rNKAWWADAXr\n",
       "v52aTzWBfSrh0WjQzbpieVGyf4mzniVRtZlV7ZXI8yaDJOoH0985iZ4I6oMZGtZGBpFuPKAfR1Ue\n",
       "ADSV2jZvTAsbKwjuOm89luAAArWeltqjQMNr+HSkN2A8XAXLr8tXAsrmCSnKHIJcg3vhNId6X7Tb\n",
       "pRo18Txp6dA4NiIu7IZgAUJgD0Q1OnagooqGFfrrXXKo2Edx+/tWiNVOf+e1K5oJaCPdFcyYXwOG\n",
       "tInwNZLCkpVlURvSYrhNhy7QHo5NL+xU6hIppGHU3tuFVlN9a0sB4hZbnjHpSZRWkZJm6OA8oyc/\n",
       "s/xppFPS1xAOvtL7ant0R7iCETAA3VBYafqmzY7F4+l+OaTawCdJ23DxRKqQNYxR7VgqZOLrzd0h\n",
       "X8hDyAZMAq8fmjXUo4nn8PdxcYzokaW8BpJf7KCIFAxWACAY9EsVkZg13bSbvXmxj0G1ppX0+g9D\n",
       "h1BCb+e//zasX7KWnzXUtbwfZXg9Xdi+pUC4mNvuVPpp1xCYPbpvNKEBWygUQ5QV2LY6A+GtFYOP\n",
       "+1cPPxrxXntuPBWSZANQiZ8fCSK8jOrC75XvC1sacR3ybzDNGYeL421Tzs8ey0ymZKFW+f/+X2yl\n",
       "ETL7kFtQAh3ZOcoJgCT/zMoOxcZBDMk83YQSUVBvDvSEIFJFwRcRe9F9ScA+Zotjor/X/8nOKtts\n",
       "/TVK0nSP7RcLG2cL4YkBho9sx0E0I0ed/XCVQFP/GdPwm9nBgacDvXwu0CMYmy/UQXhJ2WdlafjG\n",
       "PjrH3EScpj9xKVKac5ivjKCwrNn+JnnM3AupTs4vJFc/nL8cuXXnBfiP6UDd7cWBgyL5X8Em7bfS\n",
       "Hz92Vdh8vbLanJSUM8gdpkC30tjdfg9MUQ69VFgBzbG1UNG4zQ+krxIYAAtlHJloJCruiQ3Ggnbt\n",
       "NTeVoqLlSiyP2LEK67+zw6AE3RBl7rhonDg9nUtwEEjyZlkOIO2QDR0R0pG6IsgiLhDY+obZktLH\n",
       "Y4mvu487NXlTMF1AQp+5S3tEjWW+qqHUL+ik+3wjQxoLaAdzRYrZjrX4mYF08w6XM/EuQmc+ie7k\n",
       "pX1j8NMKCv58wD9YX0jfyEfYPIb7WGym1Snrx5pFjsDys3XS5P1oxNubpdgTWvwrtMmyYa9GsWG3\n",
       "56UpzdLCbrXg6dMMNqvtKakQlu4AuvrOnFUjXAkw+B1mqx/epzj0bDnyNVTb7UE7ozAtedKaugqZ\n",
       "PCzYt4yUlX73de204oYycvE7l+j3jMZH9hvgUuUxThbGn6z0K0eWN/NtUrqF8I5q3h4m9h0iuguS\n",
       "muwHynEuNqxzvGugQII9oakFU3pYJwOme4fISXvcEzfGnfZ82nKorJAiWLholR7nL81d6yLvg1KA\n",
       "t/UJHsl9bX0Eok76ElysQM6co7xphDnBJ+5LZRY9krbi6XpMIe3Z3ghvDD2vv3q/XphsAklMM3ss\n",
       "d6Q2pyHrd08FNlD7VAOKGM+FXF4YiQKP/TCho3o+uaA0yPrJrlbb+/fGd8kGOfFHGClsiU4FBe86\n",
       "DGrtlybfkIZpGSfVNdWRQeqvbtQjBfWgF67w/DFADp9qBwHsw9wAAhMopq6WpjRN7zlTo04qN0UW\n",
       "mZjzlNgvBcWredMpwvnrBsbbqMwq1qXxB0oTGDuLTSoiWu+Ao1tkig7OIFz2pFgAia6m/yAAHer1\n",
       "0EvC7xBe6QaIa70J6B5grXrkeRxbx5XcATH2mh8K4BFGN3mwQ5yb+0W7EXgAHb0uYDakl+5e77MR\n",
       "sj3ctC4mS+K252Ionw58ljNiIz17PUQ9o0iwmJOP+18lbWcG9t4nJpw2KMDZvGEf688KzRqg/X19\n",
       "mIQG+EVJ/7BfUF1zeeZSV1x4h1dVH8XcI5pHgazkLF7GI7bRcpHYAArT7KZeORP14NMImKNcXs7g\n",
       "h9dDkZ9sQblIGxNMJyygIxV+cbqiPch2guUPDvefS3hzrxoZihS7jMkpnDepsLxdS0L6SsljbB9y\n",
       "T6vijP3W94t5MbpdP+aG0T1/MlfiI1YFMI/oWWebqc4P+KoztTLz/zAqJmiltBMZpJ5LE/n8ixUo\n",
       "PlJgEhYV+iRLEGPwzmCQZLU8NiTS2rV6BUYtLd1AV1KSrlDP3hz66k2jR2HZC+jv6kLOY4XcTZ7P\n",
       "jwJit5Rsl5yADV459sSRB6cYWcq4BJ/kqyEnwAntHYJpoUgjeN0XnEX1NzELZOdNMwtqEZ6qGF4L\n",
       "SscVECOQ9MOyi/SzPO81nm+Nq0Vtn16ua2Pz1//V/KMiZjUvguCNNbztsGtt5H575+R66oIG6LR1\n",
       "lIqz4oHoorO7++VQJWo0SrbmtFGINA1BXcr9mr+/OeWccPl7Bxoi8/URgyrvKats8Hdib4VX7G9G\n",
       "7kPD87Q41PdjtJ0CFQAAAwBIQQAAAcVBmiNsQR/+tSqAEoZDwAOWfPQMQXrLl7/VvXJjP/L7s+Di\n",
       "RSBUfR10T0/1SrpR7zXCs7uVXjtRUZAKKw71/Mv/FAFXBEE/3rUlwvE3bmIsphvf5aUgINt0Gu0g\n",
       "FsTDXwzdbJrnpVX4NSIG0PUIfeDs02v55MgFFr8ykc8qi09yYcymqo2am2+I1ms8eEj8RgCsBMQY\n",
       "Zwg0cOQ2TT73/6jeeph3eXk4/o6UaUlPtpKP44zSm/zZpD8Tn8aCD69f6CgGmNHuR22nLjjfbhSx\n",
       "sfpSb+KoQ683hu35CLJEbtmITaEjq9ja184hWmN4d5j5Xro8onqhgXY+b9E6SriwtTlaYRu0vEA/\n",
       "///GcvSIIABjxPGkeEmUWNsJWDHk+YLeTAGv7x/2S4TGAfWTbMoyeekSFFXcojnfgPRorsrC5Cg2\n",
       "HGU0kj/MnWUZcavI86QXbKjR1jKuZv3fACXdJjpc5RDFr9jzVHD1xCSa96MUDLZLmz1SShTut3I8\n",
       "4w6jB4U4YtrafmvC3oRvff4mpKq0k3aJ+sB4ye8SxPBMzBLabPcToeWLv4wi4c3tFDKpE+vOmjnh\n",
       "c1ZGFi8dVduW3bYd4pglxZ4kOiAAAACqQZ5BeIb/AGbRsrgBCdDQDYBG0aoFWARvw4YRVh/DFGQE\n",
       "cXwpggvfiPJgj/leq4IRQCVyE5wmGlHtMcH7eOSrnEMQ0w8Ms6ZODKh78JP/njQsJaIfeGKhbLCq\n",
       "1u5fUhbXjmtL3kXkCZYknXxKanR3t73HTyGEGoQPHMQs6VHUrDS7qWDYK/VTQ+m8RcdjNdwg1cO2\n",
       "2HFRBAu1C555x1dQEBtB+UpHO38q0YUAAABnAZ5iakN/AGbLuT1pXN0GoBGYXaYz/ESxadKLfdhW\n",
       "PwAcLYPI1Ortl8D7LjrrFIUPB2PT21kDMcl0+b6IvVNf+lfykc1n6UC4BlDLBw2qzO/jeqEkCv8o\n",
       "8tuqsG/sJ/hj9V7zt+NcnAAAANFBmmVJqEFomUwU8Ef//rUqgBKD3RAAvqa8TAkFdF5AAyb16/7w\n",
       "hAeyaxCgRL4UgyNc3hB7Gyx5+Iuj6DLNNncc9bgogvqxtKAquJI636VHkwo6COpaHx7b/pxKUaH6\n",
       "GNCOUXWNd6iF9ytMXxYmP5hx5r6TMs+jPC3zTo1weuf4YVmFWI9VgBA9zzgbmriPbxzTz9dOWstG\n",
       "GEajc3bizoAqSzms9JzoZVabz4G46+lLNgjIxHEfk7rnGyXP9+F9zfDDpjhwy1XrvNOcJaOyp892\n",
       "oQAAAJEBnoRqQ38AZsA13tG2JGvKVq/KYAOPAUWjO5QWvDOLBIbz7yLIXgxbxxJa3wIr8V+Gw1Ds\n",
       "7D0wiutLtQvfNZc6gZRHx/v2pXUjmLn+Cq/GVdqHj2fqc/nykXv1/kLaKU53get40Sfu/y10443g\n",
       "n4710dN8Qp2VATIuyLWWxBrqBrIwf47K6GZlNY1KJ4YHs/VZAAABCUGaiUnhClJlMCCP//61KoAJ\n",
       "Qi5R2D8/IAUr+tZ1CcvimM+tk8XG1m+qzT76clh12GxcW1kwXZiXczIJ0j/MqM5obZx//Ct/T+H8\n",
       "3ebkVE9Kk5YnT1FrX/Yn1vvfSxdNuvh1/hGeT4Wb8NR+fPZvJCzEyLpTZXOOLLxPi85s9jrXtcPf\n",
       "Djw0WehCF8+OqGVyyWAocVQQQt1/IPhk7dnxk48EvFYq6/P8B9I49rBLVE3as86neW32wcgCGmqo\n",
       "9vwPP/mq5reM4N658XFjQ5n3EcNtbCguSOP0UV9ROqO3/91QjGxU20zYfPn1XUBbvOPG9e7B838T\n",
       "psvPUG9H4KiKEcx+NY+77kJ+feEAAACpQZ6nRTRMO/8AOcpA0XqvRDH05KQX4qn+qLoAPPvjLSLN\n",
       "QhJ8nPqnrPZWLt6o+jXOm0gfuo7tYhH5pgnbxSWNLXqTuEsyJYJjgfJdhJxzlKPhyGk65jroAWC6\n",
       "fKNZghFNwdE0bLPxhUyqctVxo0iNwlmOY4rEAOT1Hb6T6UOTFdApKJu7mQ7Gx99IlseRVZxqglTN\n",
       "GnqqG0nvC7G1bhsspl0T7G/GMDmzzwAAAIYBnsZ0Q38AVA78YPD1yANvwUrBcHQQqdpODlMRQxqS\n",
       "AsPS83NwwgeCnhgJszt2gn8oPaeI4Rdu85UMRJCP+J+6XovB15iamf0OmJLwe+CBMzuSQ982/vnB\n",
       "KaUx40ZGQSa6MUL09xK3TVMMyMT2shdIx6fL5B8A4g4I24wBLsRU+GJNha8soAAAAKMBnshqQ38A\n",
       "VB6E0CClkMRE51hEgAr6JdJNFv+jqG2w+B6bDhC/q0vc+7TWhr67kZIeCRxbjEX9oYf2mkab0xhN\n",
       "aZ1SFfw5YTjWXgF0bO2Lop+0YfyWXZm74BXBaXhscCvqlGg6FPtgMN0Bvtok/nGbGEt8k6+muQRw\n",
       "Vjfx1yMI3O7vr7KheQfVnBvasWm6vjcAB5we++6EKUG2XWgHz/mg9LSAAAAAnkGazUmoQWiZTAgj\n",
       "//61KoACUPUNap1fjcbkXU78t0r/KhCFW8Z/ZjT/45qxg0Ew7Ln69AA3mIlpWL0dnVp/NUR1Zr4C\n",
       "EygVFQPrhC7o896DjxHpxfK5NKMGsOk6srK5SZs5AG2JGeCJr3cIQ/oIckkK97nUwX+XFbq/or4C\n",
       "qUEqyhkk2MpaAvxZ9bOJ3nUVk/8FQPqNZwIdPHNbhsmBAAAAdkGe60URLDv/ADpkafh3p23+Mx8f\n",
       "+ibSoAuk3pnj17+SOFQ/zEG7xJdN9ZDE8mGx1fapKzkzj/hNiNLP3ClHBwrQyW8+pZrsIBZFZr8A\n",
       "72DZC0Q1u7fES0LS0EpvywNdr9gvCovuS3RCOdwdycxlwaAZLHuBuSgAAACIAZ8KdEN/AFQO+Vkx\n",
       "33JcQAtXR8M5xwSeb+vrIb7reQGMloR4mp9rygc90QEOpVReOkuEAmjsz8oZkcd+aMnK970w30I0\n",
       "NiZ9hbcnC4wYSU5M2QLv9i6il2m/ubvKLEXG8zGw8Jhd/sP4NEnOAQvgZL+mVkmOHzamqmwfdDDg\n",
       "pT174NPrPjXqpgAAAGQBnwxqQ38AVB6FAEE2hAAC3ek/HMmEFMbKdR3vgdI1xkoilgJa7vp9vgu1\n",
       "ka46UKi3kbjaFHdz19/T6KRa5pBupZoibTNcL1e9YtSJwBy9GBlsdk+a7r+qmNhWu2zDLNverDch\n",
       "AAAAgEGbEUmoQWyZTAgh//6qVQAEoWZlaAlwvI1mITj5+BWaLNxna9sB6ufLz32XGv2Vh3GnCmCn\n",
       "nJs40miRIAOXqeXSkSsh92BJd8SXDUsADn518s+yZRx1h9JWxZEPL7D9sj8zGQ0MAprzwz9LmJbI\n",
       "dLqfiDG5EEtRz9vJgvzd6Gb/AAAAoEGfL0UVLDv/ADpkafhxkHi6iksjx4G7ACvY5gQ14flLf3TI\n",
       "o7wGPpHUyXTGEZC1lMIeST6zBUuHowk0nShaN77fysrFqb6MJcueozMpvpdnfZEB/e9LkIKPqNcz\n",
       "varLGA1mr4XZP2MyVGX7nwo6F0gLQcuUMU9UDncvL6La+lRNhXpWspgOHvgM2BBH7QlBIvhVhcLM\n",
       "mpwD26xAMqokIqEAAACtAZ9OdEN/AFQO+Z7smQMAAto+GeFs/mFkJzVi6B/DgAulR0sMFhNl3qTU\n",
       "VUaIVSVFmGCJOuvbX0e7DwuM5P2s3muu4nc2waOykKRTZWy1pVOKPD/UqOhAdYKKxDSBiY4db9Oh\n",
       "sC0QAZ+6DlmHxhIvBCbnCaKBkKnXPhL+yIlPHRWIZTsItemMKLyKfBTBGZP1BCY4SmR2p5ZTqWsk\n",
       "CweaNyxcjgdkeYKfdBTPdtAAAABbAZ9QakN/AFQehPuMxFVgTp9ACVD63zMiO8Tm0ndI9ufUEEsF\n",
       "JycikyCDW6V//BlJluIpbx6Q1qIiXdNThmrcVN0Qg/3K6BOEhtaSbVIQYmYmiSZ5WHd+yVAUkAAA\n",
       "AHJBm1JJqEFsmUwII//+tSqAASn6qclmG0t3aOWiwTQyZBqrOmYEWXuDeZHxvL1r9tJ1p7omG97T\n",
       "2jfTigALazve/yY7Z6/36S1Srxz+OWnWPCxaudXf1GshR7nIPB6gWo0wndIg3zANuwqG3pRuRcOq\n",
       "LTUAAAB2QZt2SeEKUmUwII///rUqgAEpqctUpxACZUA0a7HoQh1iOdLrylsxhMipliiCv/L77QUh\n",
       "n3Q9KhOh6MYL+GzxGYikFr1aEA/SS0zO8ycySm9UUT3FhKua+QrlL5GwyVLGez7lS4RXoRga4+7U\n",
       "Z4ml0sl7t4ilQAAAAINBn5RFNEw7/wA6YhwawLPi/xmG+g4FT7epgaWuNYSkV3ABQ+VDF2uzcarB\n",
       "izlc9pVw66FrVbsU01DzzMviVTgW8Gj+3MdpK3BBwP7sB0VxyRbAT8uGBbT7i9DQyMwggeSsK2kd\n",
       "iuE2yBba+QUQ7QY2Wo0SZn7AZLDGeSDqTFs/sPVTGwAAAG0Bn7N0Q38AVA75Nqyahk0JfNt5fHEW\n",
       "khou8AG8iE+sfhc0SXdyC6mIYDPM0I3E5rwEcVYLn0qH1X8x2hbJ9722m+ZiLzMgn6SWQAYbu25O\n",
       "/uwFm3loJ+Xuz9zwUOPUWjFvmKpRwTOJ78TU5Aj5AAAAUAGftWpDfwBUHoTQJV73kEnbUZNS4AHC\n",
       "4+d1tF8DwiSVod46f0dWpgaO+6rCzWq53WSRnubhzvgA2VybCvXseEK2awFwlP58Eov8cXQrlxm4\n",
       "AAAAc0GbuUmoQWiZTAgj//61KoABKHp09DDwNDbwc4m9Lv+GmVwTCLtq77Wk2oH4NsHXGbo94XYV\n",
       "6FA/dL/+CFKotge6L0xOcZy54g3s4EWXC+/iwAVtnFtsOZUIW6CJS7nNZ2q3QRW67skKVBsSE0Wv\n",
       "gRg5V80AAABaQZ/XRREsN/8AVCYIKBBUHVTFwAOHvILGhPuiAEMLXHepl4qEJhtwxWiUCRniWCeh\n",
       "sMLy3ZyAoLvicoAFV0jQdCO3I2VEUbG9zEsk9hZ5MeQ3QunbrEncs6+JAAAAeAGf+GpDfwBUHoTQ\n",
       "LDgbV/aGeAm+HlegBKhF01jFCfOadh4nUj8MrtEnhFa/aukMoKdkaBW4xXLL/uvq21hkb3pj0UkW\n",
       "gnXfJLAegnwDhYHXsVoJFESzvHCKArSLV+GMghvKH9pMlm6YRWi+Bp2BgvhEOTQamp46gAAAANlB\n",
       "m/1JqEFsmUwII//+tSqAAUopHIAWweD21N22Lr9xOTkopclnugZptqBa0+eRVLMwjRvawf+r/4LH\n",
       "0j4XNxQi1Y0uVELYPzFlRol0sMZ4AbHSq9SvyV6p+bNfB/ZeagD/dLvTIiXNXrNqW1m5dvuYMZ8k\n",
       "/c3SQoChqPS+OYvn2O9uTeG4sIXwC8qihHVhV2jdTGtIx4TLOZQV0l5aIWYe1ljCjHYGCAhqRVN3\n",
       "tQCKcpTmEYnPpwcKDEvQ1x7O+stml6JwVyG3IXbfgw3WIV6VWXLQhTnTXZd1AAAAWkGeG0UVLDv/\n",
       "ADpkae9b07b/GJ9YX1wtSGHj7kACwAkZKMKkGF1J4b+af5XpxHZKompbJTelZ2HWQRxQ4m4MelKa\n",
       "7rHgmm/+FRehTd3S54OSYNPkNvFTT1piwAAAAIUBnjp0Q38AVA75WKOWOnVpezvvSOjM8AC6gW+t\n",
       "wpAkIzBaMejQGGrZVHoENortQ3mZEIW0XZAG0A/T+QZbkxx+ErUd++JhLfInFHw2oOYJIfZizsmC\n",
       "DMnj4bnBtFcQ60Feznfia4beqkczyKi3V31zqseL3YSkllKG/OMOym2ElPezxMJBAAAAewGePGpD\n",
       "fwBUHoTVJV73kB8Cwoxo9t0FIu6opl6A9zIgAAt9dJOL5rK61ae2ifbQMj8fQ7nKjaS+fUIbubvC\n",
       "c98KR/n0trsOn60X8I0k5Yaka2SCwnliTl/bYRsJfCFZhRacYhxJqm5MPXoY8WbDOlVT6CGZ6nj2\n",
       "eXa/JQAAASpBmiBJqEFsmUwII//+tSqAAUnqMPGkpTDL7QBzXIAZ7Sklsnh+iDEJQn0B7cC5TAiE\n",
       "yE4gps1nLpncz1gyu3vXZ/wbka+5hnqMQMhdX1DTDEUIN8gTu17owe3jqAF69gSo7KCprNgLCV77\n",
       "F35QDjqdV1viLDUQhJQmQhdxL3TCce/UjR2D/Kjev+LmBYWvnkWaT2DlLYVfFOc1OVPF39Qns+K/\n",
       "Y19R3srpGv2eJtuVno765nZKzm3yH/UQ5hpo3tc5GhWMp0Fjlg/z0vnP//aGiz7jKJ8v6tpOC6dK\n",
       "qZV3FALhtg5EGzZr8zPfE+RCfNEmZx5fl6448wPrcq8ymc79HIXe/8cow7Z2cq36ro9Bdlm+XF/5\n",
       "nBA7jCDi3gzwou5Cx5x2X4HZbIOQAAAAikGeXkUVLDf/AFQmCCqNgx9BW1xCuQFgBarZ6M2aCMQw\n",
       "Pv72LXJvv/ryHOco82HWjs6Bj9Kwwx5P30mDnhfz8vAhP97RH+ptDAFmVLOylsw+7wv5flFg5ge/\n",
       "J9qPbcXchc4AKZvpCAp8928oriKgmGk6a2xQZz2H2DeyqRIBfV3as2oxetwmrA7M4AAAAFoBnn9q\n",
       "Q38AVB6E1Qr6GvBdMF0sIAHOHtRe87YyQ9GYEkOQyYPMssWJIflLAsKkR1kfD3JtNvuSEOVMotZp\n",
       "tcmeOPSrTtdag+9/MggsFwMJZZ5ZY0hX0ACTVuEAAADfQZpkSahBbJlMCCH//qpVAAJQnH0cidEK\n",
       "ZE5wc0NGn1cIA3JGxWB9r3NoJ/gycV55vinYTqp1qiT9nyG8k1QeJR8wyUgL3s3EvokbmgHaef/4\n",
       "I55hKr4j8pYi9FLLpgOMzNaLAzhNOy4fLCLZzn2t/NKBbCivCz3G20uP1v/uftTk59AA/0FDKKwr\n",
       "TpzwQEv+gIGmgWzMYv/lfZzwvK6CVhTtZPRMhq24BxO/0kj1UlgSkyIyjKhfRvCnmPV0/RA/0D0L\n",
       "5C/OSlvkH7Jz+DquTrg6k8qARaey/vEPFptW5gAAAF9BnoJFFSw7/wA6ZGn4c1aJJhjNWJXzYoL9\n",
       "4qFdAbwMZpAB4kawmg4GHh3lrdvP45xIfoprL1gqboUAHD3Ve/wkr6+y6V8Mtv9LbYCtmXsBD5zv\n",
       "NUy2Ehy0HtPljWLgwQAAAI0BnqF0Q38AVA75nuGEgqNn6ZxgAcPlUG4c03xLCKPofxQOJDbM2qlJ\n",
       "Z+VjFIMfloRB1KHMsP4+fgzazJUT4oSRyXAcp+IqY8Q1y1VJ3PWzpsHRglf33bCUAw2moqr7dD2H\n",
       "QcS9jIN33uEIZCI/vbO3tmDAEg5f9ecu81gl3+VYzfS4g0mjr4ir3Z7UukAAAAC6AZ6jakN/AFQe\n",
       "hQBBNoQAAtnQkr65SODWRJj9W/sflPX1ZXAHKnQfyuwLyUA4nuzOq6+YWlCFi1fhkVDTfpUH88HP\n",
       "zreUbAzLBP7wYfqT2/CIiZLy7RBvNNcIimHlUVWqJLonhz7l2xsnLh+D/EswfJLOkW/Sdny3I6r3\n",
       "xXkyrmZEhGyStXjGrwB+7qxiu6L/gAuDXdcNoHwxLUPr02yhmQrE1GNqwDa2i7q5fokiZpG03aO+\n",
       "NGN46rdhAAAAlUGapkmoQWyZTBRMEf/+tSqAAlD1Hs6gAJ8EvK4ZLlfjXq4KTLJ9E7k3MgMTB/T/\n",
       "nRrTzK5V/HI2Tj96j/qaj/fZ/O/TgQxMD5ARbKiBiG0Kbwatu+GijlVMEoTKQvER4WQEPZyoIZE8\n",
       "tVC5NGTCMWk6keFVPdoTCyotO8mPvZE+zQJRO+x2UuniSx4K9xJUSa2yadFJAAAAbQGexWpDfwBU\n",
       "JghwQTZUhD/CAKirdcAbDy6D38zIR+KALOjZrxPYU8omkC8rSNpHPhnxFKYRYZ0sHTkaM3Ga1sFP\n",
       "VS6NeefQafEdL7mPpzTWEH1BEDiNuq2z9MaXX2x/dih/+YIveHqNkEAXhcUAAADJQZrKSeEKUmUw\n",
       "IIf//qpVAAShZmVoCXC8jpJxvUPjegxNaJ4VVJPovQgCvWUgne/NiIoeULL5f4NzGqAU01DcYbL7\n",
       "UwCes0nItU4he9ZnJivoUMdrV6X9HbP0RkZFfgeb89m76AkIv5MAnhfN8WpkhdMIX6jwNwSxBOST\n",
       "72wRJxN5fUBarzrWTtp6Q/e3+1O45IDixdcC2H5eZaJ/1Vmb4+vx3cdX+8PMJ8FWtgI8nhvA57E7\n",
       "yn423Hn0wBrhF/JBW1op0SUiZcTdAAAAakGe6EU0TDv/ADpiHCH+ZokNQ85AEMlIOrTq2tfHDUdZ\n",
       "5watNKLLhasFGbfxBJkU37jfhCrnyBZ6lQPaXgColBU4b52n4f6d4Wlm3SR92s0HmIms4u46mulc\n",
       "VJvOs3xXxITyIdAcaaJpCtgAAABXAZ8HdEN/AFQO+Z7slyVEU8pHPlfYCEyNdyjx164AKk14RL4q\n",
       "HwOFsxiemQ+Vwzsc+bDzFBNSDwgbLGr2dl4ecw7ksgKXkrBzqh27Z5R9kfjAuLiLAgGTAAAAngGf\n",
       "CWpDfwBUHoUANgx9CHfFu4kAArNcCyAeJ3h3C8DKy3fxg9sUsaNVkat/bOQRCNRAp0clzLMFmgOm\n",
       "hfAOBmFqDi2pd7Sm6R+sQCNVROl9HiiXer4f7b7iTilE3BxOJa/2ybfCXc3/Uq41KrvYb0yHkE8F\n",
       "bs+pKJSH+UNwztxby5jstaGiaa4oi0yTR7ot/oUf2wmGo8ZgPbOtbejpAAAAe0GbDkmoQWiZTAh/\n",
       "//6plgAJD8xLiOZ37+pvi/eSwuQn/5dVbkhakz99aACLa34cVYJaug8ymUsNe7BzuSY5bBV3QhIb\n",
       "aiopbWxIx/OrdEG/z59wQEP4goFxrYjVaZF7+XctsrgkY24xaVwIlUkVUI0+DzeHlM91U56YIAAA\n",
       "AHlBnyxFESw7/wA6ZGnuOMg8XU3ipj5lRYSWfLm9zlshUAJZhZWGLYCz4/vdEH+vDCisWjtXJ4or\n",
       "i7cy4dj1oVT4N3/Y9lSZ+SrGjPhzb984APZFluz9CpH+xTCv8T/xyhoKxgS4AjCuyie7vn4m+k13\n",
       "FB4rWIJvyy6YAAAAUgGfS3RDfwBUDvlZdk7puOghAEMlckf3/hGhSISYdTtgX+yFBmjYKkC6Ftjg\n",
       "KQqk+XZjtJIQ/F0l7S4JCOr+mluP1EhYk1iGCoXsaLGd8xeJ/VUAAABXAZ9NakN/AFQehLqNg6LB\n",
       "SymFHHPrVu/jLk1gPBKPyNpGL39IYwDJ8IdvLwlFpdYq9wCLh8+LeCVKWFmKz0UC86e1NZ9lG/Ye\n",
       "k1xVkouDE3lANKkt77o5AAAASEGbUEmoQWyZTBRMN//+p4QAEepgnZAML1NcANJJ6NEOWEZENaUt\n",
       "fzX+wLN2d8/C+6TYQM/nhZ8jtnzNGS7vJZYmUjBo4/NQeQAAAFkBn29qQ38AVCYIKBJnWbMexlGm\n",
       "kqj4ADPRTRzIpkdL8nXe2xdqGHxcTpXCzEMhct97f8emreXF86R0deThgrBiI8X9aPtA2xhJLq0t\n",
       "VpBR6NyLNsUw8TcHkgAABWJtb292AAAAbG12aGQAAAAAAAAAAAAAAAAAAAPoAAATJAABAAABAAAA\n",
       "AAAAAAAAAAAAAQAAAAAAAAAAAAAAAAAAAAEAAAAAAAAAAAAAAAAAAEAAAAAAAAAAAAAAAAAAAAAA\n",
       "AAAAAAAAAAAAAAAAAAACAAAEjHRyYWsAAABcdGtoZAAAAAMAAAAAAAAAAAAAAAEAAAAAAAATJAAA\n",
       "AAAAAAAAAAAAAAAAAAAAAQAAAAAAAAAAAAAAAAAAAAEAAAAAAAAAAAAAAAAAAEAAAAABsAAAASAA\n",
       "AAAAACRlZHRzAAAAHGVsc3QAAAAAAAAAAQAAEyQAAAgAAAEAAAAABARtZGlhAAAAIG1kaGQAAAAA\n",
       "AAAAAAAAAAAAACgAAADEAFXEAAAAAAAtaGRscgAAAAAAAAAAdmlkZQAAAAAAAAAAAAAAAFZpZGVv\n",
       "SGFuZGxlcgAAAAOvbWluZgAAABR2bWhkAAAAAQAAAAAAAAAAAAAAJGRpbmYAAAAcZHJlZgAAAAAA\n",
       "AAABAAAADHVybCAAAAABAAADb3N0YmwAAACzc3RzZAAAAAAAAAABAAAAo2F2YzEAAAAAAAAAAQAA\n",
       "AAAAAAAAAAAAAAAAAAABsAEgAEgAAABIAAAAAAAAAAEAAAAAAAAAAAAAAAAAAAAAAAAAAAAAAAAA\n",
       "AAAAAAAAAAAY//8AAAAxYXZjQwFkABX/4QAYZ2QAFazZQbCWhAAAAwAEAAADAFA8WLZYAQAGaOvj\n",
       "yyLAAAAAHHV1aWRraEDyXyRPxbo5pRvPAyPzAAAAAAAAABhzdHRzAAAAAAAAAAEAAAAxAAAEAAAA\n",
       "ABRzdHNzAAAAAAAAAAEAAAABAAABgGN0dHMAAAAAAAAALgAAAAEAAAgAAAAAAQAAEAAAAAACAAAE\n",
       "AAAAAAEAAAwAAAAAAQAABAAAAAABAAAUAAAAAAEAAAgAAAAAAQAAAAAAAAABAAAEAAAAAAEAABQA\n",
       "AAAAAQAACAAAAAABAAAAAAAAAAEAAAQAAAAAAQAAFAAAAAABAAAIAAAAAAEAAAAAAAAAAQAABAAA\n",
       "AAABAAAIAAAAAAEAABQAAAAAAQAACAAAAAABAAAAAAAAAAEAAAQAAAAAAQAAEAAAAAACAAAEAAAA\n",
       "AAEAABQAAAAAAQAACAAAAAABAAAAAAAAAAEAAAQAAAAAAQAAEAAAAAACAAAEAAAAAAEAABQAAAAA\n",
       "AQAACAAAAAABAAAAAAAAAAEAAAQAAAAAAQAADAAAAAABAAAEAAAAAAEAABQAAAAAAQAACAAAAAAB\n",
       "AAAAAAAAAAEAAAQAAAAAAQAAFAAAAAABAAAIAAAAAAEAAAAAAAAAAQAABAAAAAABAAAMAAAAAAEA\n",
       "AAQAAAAAHHN0c2MAAAAAAAAAAQAAAAEAAAAxAAAAAQAAANhzdHN6AAAAAAAAAAAAAAAxAAAOYAAA\n",
       "AckAAACuAAAAawAAANUAAACVAAABDQAAAK0AAACKAAAApwAAAKIAAAB6AAAAjAAAAGgAAACEAAAA\n",
       "pAAAALEAAABfAAAAdgAAAHoAAACHAAAAcQAAAFQAAAB3AAAAXgAAAHwAAADdAAAAXgAAAIkAAAB/\n",
       "AAABLgAAAI4AAABeAAAA4wAAAGMAAACRAAAAvgAAAJkAAABxAAAAzQAAAG4AAABbAAAAogAAAH8A\n",
       "AAB9AAAAVgAAAFsAAABMAAAAXQAAABRzdGNvAAAAAAAAAAEAAAAsAAAAYnVkdGEAAABabWV0YQAA\n",
       "AAAAAAAhaGRscgAAAAAAAAAAbWRpcmFwcGwAAAAAAAAAAAAAAAAtaWxzdAAAACWpdG9vAAAAHWRh\n",
       "dGEAAAABAAAAAExhdmY1Ny44My4xMDA=\n",
       "\">\n",
       "  Your browser does not support the video tag.\n",
       "</video>"
      ],
      "text/plain": [
       "<IPython.core.display.HTML object>"
      ]
     },
     "execution_count": 8,
     "metadata": {},
     "output_type": "execute_result"
    },
    {
     "data": {
      "image/png": "[encoded data removed]",
      "text/plain": [
       "<matplotlib.figure.Figure at 0x7f37fe40a5f8>"
      ]
     },
     "metadata": {},
     "output_type": "display_data"
    }
   ],
   "source": [
    "def barlist(n): \n",
    "    return visualization_steps[n][2]\n",
    "\n",
    "fig=plt.figure()\n",
    "\n",
    "N=iterations #Number of frames\n",
    "x=visualization_steps[0][0]+1\n",
    "\n",
    "plt.bar(x,visualization_steps[0][1], color = 'black')\n",
    "barcollection = plt.bar(x,barlist(0), color = 'blue')\n",
    "\n",
    "def animate(i):\n",
    "    y=barlist(i+1)\n",
    "    for i, b in enumerate(barcollection):\n",
    "        b.set_height(y[i])\n",
    "\n",
    "anim=animation.FuncAnimation(fig,animate,repeat=False,blit=False,frames=N-1,\n",
    "                             interval=100)\n",
    "HTML(anim.to_html5_video())\n",
    "#anim.save('mymovie.mp4',writer=animation.FFMpegWriter(fps=10))\n",
    "#plt.show()"
   ]
  },
  {
   "cell_type": "code",
   "execution_count": 9,
   "metadata": {},
   "outputs": [],
   "source": [
    "#toy_system.visualize_step(visualization_steps[2]);"
   ]
  },
  {
   "cell_type": "code",
   "execution_count": 10,
   "metadata": {},
   "outputs": [
    {
     "data": {
      "text/plain": [
       "[<matplotlib.lines.Line2D at 0x7f37fdef5080>]"
      ]
     },
     "execution_count": 10,
     "metadata": {},
     "output_type": "execute_result"
    },
    {
     "data": {
      "image/png": "[encoded data removed]",
      "text/plain": [
       "<matplotlib.figure.Figure at 0x7f37fe4da0f0>"
      ]
     },
     "metadata": {},
     "output_type": "display_data"
    }
   ],
   "source": [
    "%matplotlib inline\n",
    "plt.plot(range(iterations),rewards_list)"
   ]
  },
  {
   "cell_type": "code",
   "execution_count": 11,
   "metadata": {},
   "outputs": [
    {
     "data": {
      "text/plain": [
       "3600000"
      ]
     },
     "execution_count": 11,
     "metadata": {},
     "output_type": "execute_result"
    }
   ],
   "source": [
    "toy_system.n_states()"
   ]
  },
  {
   "cell_type": "code",
   "execution_count": 12,
   "metadata": {},
   "outputs": [
    {
     "data": {
      "text/plain": [
       "3600000"
      ]
     },
     "execution_count": 12,
     "metadata": {},
     "output_type": "execute_result"
    }
   ],
   "source": [
    "n_s = ((n+1)**k)\n",
    "a = np.prod(n_discrete_load_levels)\n",
    "b = np.prod(n_discrete_load_levels_trucks)\n",
    "n_s = n_s *a *b\n",
    "n_s"
   ]
  },
  {
   "cell_type": "code",
   "execution_count": null,
   "metadata": {},
   "outputs": [],
   "source": []
  },
  {
   "cell_type": "code",
   "execution_count": null,
   "metadata": {},
   "outputs": [],
   "source": []
  },
  {
   "cell_type": "code",
   "execution_count": null,
   "metadata": {},
   "outputs": [],
   "source": []
  },
  {
   "cell_type": "code",
   "execution_count": null,
   "metadata": {},
   "outputs": [],
   "source": [
    "\n"
   ]
  },
  {
   "cell_type": "code",
   "execution_count": null,
   "metadata": {},
   "outputs": [],
   "source": []
  },
  {
   "cell_type": "code",
   "execution_count": null,
   "metadata": {},
   "outputs": [],
   "source": []
  },
  {
   "cell_type": "code",
   "execution_count": null,
   "metadata": {},
   "outputs": [],
   "source": []
  },
  {
   "cell_type": "markdown",
   "metadata": {},
   "source": [
    "# Small system to apply Q-learning algorithm\n"
   ]
  },
  {
   "cell_type": "code",
   "execution_count": 13,
   "metadata": {},
   "outputs": [
    {
     "data": {
      "text/plain": [
       "46080"
      ]
     },
     "execution_count": 13,
     "metadata": {},
     "output_type": "execute_result"
    }
   ],
   "source": [
    "# Tanks' information\n",
    "n = 5 \n",
    "tank_ids = list(range(1,n+1))\n",
    "tank_max_loads =  np.array([100., 100., 200., 300., 400.])\n",
    "tank_current_loads =  np.array([50., 60., 120., 150., 300.])\n",
    "tank_consumption_rates =  np.array([10.] * n)\n",
    "\n",
    "n_discrete_load_levels = np.array([2,2,2,2,2])\n",
    "\n",
    "# Trucks' information\n",
    "k = 2\n",
    "truck_ids = list(range(k))\n",
    "truck_max_loads = np.array([20., 50.])\n",
    "truck_current_loads = truck_max_loads.copy()\n",
    "truck_current_positions =  np.array([0] * k)\n",
    "#truck_fractions_deliverable =  np.array([1.] * k) # we for now we only allow to deliver all the content of the truck\n",
    "truck_fractions_deliverable =  np.array([ np.array([0.5, 1.]), \n",
    "                                          np.array([0.5, 1.])\n",
    "                                        ]) # we for now we only allow to deliver all the content of the truck\n",
    "n_discrete_load_levels_trucks = np.array([2,2])\n",
    "\n",
    "# System's information\n",
    "def simple_graph(n: int):    \n",
    "    A = np.zeros((n,n))\n",
    "    A[0,0:n] = 1\n",
    "    A = A.astype(int)\n",
    "    return(A)\n",
    "\n",
    "graph = simple_graph(n+1)\n",
    "tanks = [tank.Tank( tank_id, current_load, max_load, consumption_rate, n_lvls) \n",
    "         for  tank_id, current_load, max_load, consumption_rate, n_lvls in \n",
    "         zip( tank_ids, tank_current_loads, tank_max_loads, tank_consumption_rates, n_discrete_load_levels)]\n",
    "trucks = [truck.Truck( truck_id, current_load, max_load, current_position, load_fractions_deliverable, n_lvls) \n",
    "         for  truck_id, current_load, max_load, current_position, load_fractions_deliverable, n_lvls in \n",
    "         zip(truck_ids, truck_current_loads, truck_max_loads, truck_current_positions, \n",
    "             truck_fractions_deliverable, n_discrete_load_levels_trucks)]\n",
    "\n",
    "def simple_weights(n: int, w: float):    \n",
    "    W = np.full((n,n), np.inf)\n",
    "    W[0,:] = w\n",
    "    return(W)\n",
    "w =  np.array([0, 20., 10., 30., 50.5, 45.])\n",
    "\n",
    "weights_matrix = simple_weights(n+1, w)\n",
    "\n",
    "toy_system = model.System(tanks = tanks, trucks = trucks, adjacency_matrix = graph, weights_matrix = weights_matrix)\n",
    "\n",
    "a_s_dim = toy_system.states_dim * toy_system.actions_dim\n",
    "a_s_dim"
   ]
  },
  {
   "cell_type": "code",
   "execution_count": 14,
   "metadata": {},
   "outputs": [
    {
     "name": "stdout",
     "output_type": "stream",
     "text": [
      "self.trucks [<truck.Truck object at 0x7f37fdecc518>, <truck.Truck object at 0x7f37fdecc550>]\n",
      "Final rewards:  -110.0\n"
     ]
    },
    {
     "data": {
      "text/plain": [
       "[[2, 3], [1, 1]]"
      ]
     },
     "execution_count": 14,
     "metadata": {},
     "output_type": "execute_result"
    }
   ],
   "source": [
    "toy_system.discrete_state()\n",
    "\n",
    "\n",
    "\n",
    "rewards = toy_system.random_action(seed);\n",
    "rewards_list.append(rewards)\n",
    "#prnt(toy_system.state())\n",
    "print(\"Final rewards: \", rewards);\n",
    "toy_system.reset_trucks_positions();\n",
    "\n",
    "toy_system.da"
   ]
  },
  {
   "cell_type": "code",
   "execution_count": 15,
   "metadata": {},
   "outputs": [
    {
     "data": {
      "text/plain": [
       "[[2, 3], [1, 1], [0, 0, 1, 1, 1]]"
      ]
     },
     "execution_count": 15,
     "metadata": {},
     "output_type": "execute_result"
    }
   ],
   "source": [
    "toy_system.ds"
   ]
  },
  {
   "cell_type": "code",
   "execution_count": null,
   "metadata": {},
   "outputs": [],
   "source": []
  },
  {
   "cell_type": "code",
   "execution_count": 16,
   "metadata": {},
   "outputs": [],
   "source": [
    "a = [[3, 4], [1, 1], [0, 0, 1, 0, 1]]\n",
    "aa= ''.join(str(''.join(str(y) for y in x)) for x in a)"
   ]
  },
  {
   "cell_type": "code",
   "execution_count": 17,
   "metadata": {},
   "outputs": [
    {
     "name": "stdout",
     "output_type": "stream",
     "text": [
      "[[2, 3], [1, 1], [0, 0, 1, 1, 1]]\n",
      "[[2, 3], [1, 1]]\n"
     ]
    }
   ],
   "source": [
    "print(toy_system.ds)\n",
    "print(toy_system.da)"
   ]
  },
  {
   "cell_type": "code",
   "execution_count": 18,
   "metadata": {},
   "outputs": [
    {
     "data": {
      "text/plain": [
       "'2311001112311'"
      ]
     },
     "execution_count": 18,
     "metadata": {},
     "output_type": "execute_result"
    }
   ],
   "source": [
    "sa_new = toy_system.state_action_to_string()\n",
    "sa_new"
   ]
  },
  {
   "cell_type": "code",
   "execution_count": 19,
   "metadata": {},
   "outputs": [],
   "source": [
    "new_dict = {}\n",
    "new_dict[sa_new] = {\"qval\": 1}"
   ]
  },
  {
   "cell_type": "code",
   "execution_count": 20,
   "metadata": {},
   "outputs": [
    {
     "data": {
      "text/plain": [
       "1"
      ]
     },
     "execution_count": 20,
     "metadata": {},
     "output_type": "execute_result"
    }
   ],
   "source": [
    "new_dict[sa_new]['qval']"
   ]
  },
  {
   "cell_type": "markdown",
   "metadata": {},
   "source": [
    "## Off-policy algorithm"
   ]
  },
  {
   "cell_type": "code",
   "execution_count": 32,
   "metadata": {},
   "outputs": [],
   "source": [
    "learning_rate0 = 0.05\n",
    "learning_rate_decay = 0.1\n",
    "n_iterations = 2\n",
    "discount_rate = 0.95\n",
    "\n",
    "toy_system = model.System(tanks = tanks, trucks = trucks, adjacency_matrix = graph, weights_matrix = weights_matrix)\n",
    "\n",
    "Q = {}\n",
    "\n",
    "def is_key(dic, key):\n",
    "    if key in dic:\n",
    "        return(True)\n",
    "    else: return(False)\n",
    "\n",
    "is_key(new_dict, sa_new)\n",
    "\n",
    "state_length = 2*k + n"
   ]
  },
  {
   "cell_type": "code",
   "execution_count": 35,
   "metadata": {
    "collapsed": true
   },
   "outputs": [],
   "source": [
    "import pickle\n",
    "\n",
    "def save_obj(obj, name ):\n",
    "    with open('obj/'+ name + '.pkl', 'wb') as f:\n",
    "        pickle.dump(obj, f, pickle.HIGHEST_PROTOCOL)\n",
    "\n",
    "def load_obj(name ):\n",
    "    with open('obj/' + name + '.pkl', 'rb') as f:\n",
    "        return pickle.load(f)"
   ]
  },
  {
   "cell_type": "code",
   "execution_count": 36,
   "metadata": {},
   "outputs": [
    {
     "name": "stdout",
     "output_type": "stream",
     "text": [
      "self.trucks [<truck.Truck object at 0x7f37fdecc518>, <truck.Truck object at 0x7f37fdecc550>]\n",
      "self.trucks [<truck.Truck object at 0x7f37fdecc518>, <truck.Truck object at 0x7f37fdecc550>]\n"
     ]
    }
   ],
   "source": [
    "# \"Train zone\". Q-values are being converging to the optimal, theoretically\n",
    "\n",
    "for iteration in range(n_iterations):\n",
    "    reward = toy_system.random_action()\n",
    "    sa_current = toy_system.state_action_to_string()\n",
    "    \n",
    "    if is_key(Q, sa_current) == False:\n",
    "        Q[sa_current] = 0\n",
    "        \n",
    "    learning_rate = learning_rate0 / (1+iteration*learning_rate_decay)\n",
    "    \n",
    "    Q_max = max([Q[key] for key in Q.keys() if key.startswith(sa_current[0:state_length])])\n",
    "    \n",
    "    Q[sa_current] = ( (1-learning_rate) * Q[sa_current] \n",
    "                     + learning_rate* (reward + discount_rate * Q_max)\n",
    "                    )\n",
    "    \n",
    "    toy_system.reset_trucks_positions();\n",
    "\n",
    "    \n",
    "save_obj(Q, \"Q-dict\")   \n"
   ]
  },
  {
   "cell_type": "code",
   "execution_count": 37,
   "metadata": {},
   "outputs": [
    {
     "data": {
      "text/plain": [
       "[[0, 4], [1, 0]]"
      ]
     },
     "execution_count": 37,
     "metadata": {},
     "output_type": "execute_result"
    }
   ],
   "source": [
    "# Optimal policy using the Q values trained previously:\n",
    "Q = load_obj(\"Q-dict\")\n",
    "    \n",
    "Q.keys()\n",
    "\n",
    "toy_system.ds\n",
    "toy_system.da"
   ]
  },
  {
   "cell_type": "code",
   "execution_count": 24,
   "metadata": {},
   "outputs": [],
   "source": [
    "\n",
    "\n",
    "new_keys = new_dict.keys()"
   ]
  },
  {
   "cell_type": "code",
   "execution_count": 25,
   "metadata": {},
   "outputs": [
    {
     "ename": "KeyError",
     "evalue": "'2311001112311'",
     "output_type": "error",
     "traceback": [
      "\u001b[0;31m---------------------------------------------------------------------------\u001b[0m",
      "\u001b[0;31mKeyError\u001b[0m                                  Traceback (most recent call last)",
      "\u001b[0;32m<ipython-input-25-95be14a3f520>\u001b[0m in \u001b[0;36m<module>\u001b[0;34m()\u001b[0m\n\u001b[0;32m----> 1\u001b[0;31m \u001b[0;34m[\u001b[0m\u001b[0mQ\u001b[0m\u001b[0;34m[\u001b[0m\u001b[0mkey\u001b[0m\u001b[0;34m]\u001b[0m \u001b[0;32mfor\u001b[0m \u001b[0mkey\u001b[0m \u001b[0;32min\u001b[0m \u001b[0mnew_keys\u001b[0m \u001b[0;32mif\u001b[0m \u001b[0mkey\u001b[0m\u001b[0;34m.\u001b[0m\u001b[0mstartswith\u001b[0m\u001b[0;34m(\u001b[0m\u001b[0msa_new\u001b[0m\u001b[0;34m[\u001b[0m\u001b[0;36m0\u001b[0m\u001b[0;34m:\u001b[0m\u001b[0;36m2\u001b[0m\u001b[0;34m]\u001b[0m\u001b[0;34m)\u001b[0m\u001b[0;34m]\u001b[0m\u001b[0;34m\u001b[0m\u001b[0m\n\u001b[0m",
      "\u001b[0;32m<ipython-input-25-95be14a3f520>\u001b[0m in \u001b[0;36m<listcomp>\u001b[0;34m(.0)\u001b[0m\n\u001b[0;32m----> 1\u001b[0;31m \u001b[0;34m[\u001b[0m\u001b[0mQ\u001b[0m\u001b[0;34m[\u001b[0m\u001b[0mkey\u001b[0m\u001b[0;34m]\u001b[0m \u001b[0;32mfor\u001b[0m \u001b[0mkey\u001b[0m \u001b[0;32min\u001b[0m \u001b[0mnew_keys\u001b[0m \u001b[0;32mif\u001b[0m \u001b[0mkey\u001b[0m\u001b[0;34m.\u001b[0m\u001b[0mstartswith\u001b[0m\u001b[0;34m(\u001b[0m\u001b[0msa_new\u001b[0m\u001b[0;34m[\u001b[0m\u001b[0;36m0\u001b[0m\u001b[0;34m:\u001b[0m\u001b[0;36m2\u001b[0m\u001b[0;34m]\u001b[0m\u001b[0;34m)\u001b[0m\u001b[0;34m]\u001b[0m\u001b[0;34m\u001b[0m\u001b[0m\n\u001b[0m",
      "\u001b[0;31mKeyError\u001b[0m: '2311001112311'"
     ]
    }
   ],
   "source": [
    "[Q[key] for key in new_keys if key.startswith(sa_new[0:2])]"
   ]
  },
  {
   "cell_type": "code",
   "execution_count": null,
   "metadata": {},
   "outputs": [],
   "source": [
    "toy_system.ds"
   ]
  },
  {
   "cell_type": "code",
   "execution_count": null,
   "metadata": {},
   "outputs": [],
   "source": [
    "toy_system.da"
   ]
  },
  {
   "cell_type": "code",
   "execution_count": null,
   "metadata": {},
   "outputs": [],
   "source": [
    "max([1,2,3])"
   ]
  },
  {
   "cell_type": "code",
   "execution_count": null,
   "metadata": {},
   "outputs": [],
   "source": [
    "[1,2,3][0:3]"
   ]
  },
  {
   "cell_type": "code",
   "execution_count": null,
   "metadata": {},
   "outputs": [],
   "source": [
    "Q['3311-1-1']\n",
    "\n",
    "#ESTA MAL LO DE DISCRETIZAR LAS CAPACITIES"
   ]
  },
  {
   "cell_type": "code",
   "execution_count": null,
   "metadata": {},
   "outputs": [],
   "source": [
    "test_toy_system = model.System(tanks = tanks, trucks = trucks, adjacency_matrix = graph, weights_matrix = weights_matrix)\n"
   ]
  },
  {
   "cell_type": "markdown",
   "metadata": {},
   "source": [
    "### To do\n",
    "\n",
    "1. Función que permita aplicar una acción al sistema usando el godigo de números enteros (como en las keys de los dicts)\n",
    "\n",
    "2. Hacer una simulación que vaya aplicando, en cada estado, la accion con mayor Q-value en el diccionario Q.\n",
    "\n",
    "3. Visualizar como evoluciona el sistema con la optimal policy estimada con alguna random"
   ]
  },
  {
   "cell_type": "code",
   "execution_count": null,
   "metadata": {
    "collapsed": true
   },
   "outputs": [],
   "source": []
  }
 ],
 "metadata": {
  "kernelspec": {
   "display_name": "Python 3",
   "language": "python",
   "name": "python3"
  },
  "language_info": {
   "codemirror_mode": {
    "name": "ipython",
    "version": 3
   },
   "file_extension": ".py",
   "mimetype": "text/x-python",
   "name": "python",
   "nbconvert_exporter": "python",
   "pygments_lexer": "ipython3",
   "version": "3.6.3"
  },
  "toc": {
   "nav_menu": {},
   "number_sections": true,
   "sideBar": true,
   "skip_h1_title": false,
   "title_cell": "Table of Contents",
   "title_sidebar": "Contents",
   "toc_cell": false,
   "toc_position": {},
   "toc_section_display": true,
   "toc_window_display": false
  }
 },
 "nbformat": 4,
 "nbformat_minor": 2
}
