{
 "cells": [
  {
   "cell_type": "code",
   "execution_count": 1,
   "metadata": {},
   "outputs": [],
   "source": [
    "import model\n",
    "import numpy as np\n",
    "import random\n",
    "from utils import simple_graph\n",
    "import tank\n",
    "import truck\n",
    "\n",
    "\n",
    "import matplotlib.pyplot as plt\n",
    "from matplotlib import animation, rc\n",
    "from IPython.display import HTML"
   ]
  },
  {
   "cell_type": "code",
   "execution_count": 2,
   "metadata": {},
   "outputs": [],
   "source": [
    "\n",
    "def initialize_system():\n",
    "    # Tanks' information\n",
    "    global n\n",
    "    n=5\n",
    "    tank_ids = list(range(1,n+1))\n",
    "    tank_max_loads =  np.array([100., 100., 200., 300., 400.])\n",
    "    tank_current_loads =  np.array([50., 60., 120., 150., 300.])\n",
    "    tank_consumption_rates =  np.array([10.] * n)\n",
    "    \n",
    "    global n_discrete_load_levels\n",
    "    n_discrete_load_levels = np.array([5,5,10,10,10])\n",
    "\n",
    "    # Trucks' information\n",
    "    global k\n",
    "    k=2\n",
    "    truck_ids = list(range(k))\n",
    "    truck_max_loads = np.array([20., 50.])\n",
    "    truck_current_loads = truck_max_loads.copy()\n",
    "    truck_current_positions =  np.array([0] * k)\n",
    "    #truck_fractions_deliverable =  np.array([1.] * k) # we for now we only allow to deliver all the content of the truck\n",
    "    truck_fractions_deliverable =  np.array([ np.array([0.5, 1.]), \n",
    "                                              np.array([0.5, 1.])\n",
    "                                            ]) # we for now we only allow to deliver all the content of the truck\n",
    "    global n_discrete_load_levels_trucks\n",
    "    n_discrete_load_levels_trucks = np.array([2,2])\n",
    "\n",
    "    # System's information\n",
    "    def simple_graph(n: int):    \n",
    "        A = np.zeros((n,n))\n",
    "        A[0,0:n] = 1\n",
    "        A = A.astype(int)\n",
    "        return(A)\n",
    "\n",
    "    graph = simple_graph(n+1)\n",
    "    tanks = [tank.Tank( tank_id, current_load, max_load, consumption_rate, n_lvls) \n",
    "             for  tank_id, current_load, max_load, consumption_rate, n_lvls in \n",
    "             zip( tank_ids, tank_current_loads, tank_max_loads, tank_consumption_rates, n_discrete_load_levels)]\n",
    "    trucks = [truck.Truck( truck_id, current_load, max_load, current_position, load_fractions_deliverable, n_lvls) \n",
    "             for  truck_id, current_load, max_load, current_position, load_fractions_deliverable, n_lvls in \n",
    "             zip(truck_ids, truck_current_loads, truck_max_loads, truck_current_positions, \n",
    "                 truck_fractions_deliverable, n_discrete_load_levels_trucks)]\n",
    "\n",
    "    def simple_weights(n: int, w: float):    \n",
    "        W = np.full((n,n), np.inf)\n",
    "        W[0,:] = w\n",
    "        return(W)\n",
    "    w =  np.array([0, 20., 10., 30., 50.5, 45.])\n",
    "\n",
    "    weights_matrix = simple_weights(n+1, w)\n",
    "    \n",
    "    return(tanks, trucks, graph, weights_matrix)\n",
    "\n",
    "\n"
   ]
  },
  {
   "cell_type": "code",
   "execution_count": 3,
   "metadata": {},
   "outputs": [],
   "source": [
    "tanks, trucks, graph, weights_matrix = initialize_system()\n",
    "toy_system = model.System(tanks = tanks, trucks = trucks, adjacency_matrix = graph, weights_matrix = weights_matrix)"
   ]
  },
  {
   "cell_type": "code",
   "execution_count": 4,
   "metadata": {},
   "outputs": [
    {
     "name": "stdout",
     "output_type": "stream",
     "text": [
      "self.trucks [<truck.Truck object at 0x7fafa2981908>, <truck.Truck object at 0x7fafa2981b00>]\n",
      "Final rewards:  -100.0\n",
      "self.trucks [<truck.Truck object at 0x7fafa2981908>, <truck.Truck object at 0x7fafa2981b00>]\n",
      "Final rewards:  -100.0\n",
      "self.trucks [<truck.Truck object at 0x7fafa2981908>, <truck.Truck object at 0x7fafa2981b00>]\n",
      "Final rewards:  -75.0\n",
      "self.trucks [<truck.Truck object at 0x7fafa2981908>, <truck.Truck object at 0x7fafa2981b00>]\n",
      "Final rewards:  -95.0\n",
      "self.trucks [<truck.Truck object at 0x7fafa2981908>, <truck.Truck object at 0x7fafa2981b00>]\n",
      "Final rewards:  -95.0\n",
      "self.trucks [<truck.Truck object at 0x7fafa2981908>, <truck.Truck object at 0x7fafa2981b00>]\n",
      "Final rewards:  -75.0\n",
      "self.trucks [<truck.Truck object at 0x7fafa2981908>, <truck.Truck object at 0x7fafa2981b00>]\n",
      "Final rewards:  -inf\n",
      "self.trucks [<truck.Truck object at 0x7fafa2981908>, <truck.Truck object at 0x7fafa2981b00>]\n",
      "Final rewards:  -65.0\n",
      "self.trucks [<truck.Truck object at 0x7fafa2981908>, <truck.Truck object at 0x7fafa2981b00>]\n",
      "Final rewards:  -inf\n",
      "self.trucks [<truck.Truck object at 0x7fafa2981908>, <truck.Truck object at 0x7fafa2981b00>]\n",
      "Final rewards:  -80.0\n",
      "self.trucks [<truck.Truck object at 0x7fafa2981908>, <truck.Truck object at 0x7fafa2981b00>]\n",
      "Final rewards:  -40.0\n",
      "self.trucks [<truck.Truck object at 0x7fafa2981908>, <truck.Truck object at 0x7fafa2981b00>]\n",
      "Final rewards:  -65.0\n",
      "self.trucks [<truck.Truck object at 0x7fafa2981908>, <truck.Truck object at 0x7fafa2981b00>]\n",
      "Final rewards:  -55.0\n",
      "self.trucks [<truck.Truck object at 0x7fafa2981908>, <truck.Truck object at 0x7fafa2981b00>]\n",
      "Final rewards:  -120.5\n",
      "self.trucks [<truck.Truck object at 0x7fafa2981908>, <truck.Truck object at 0x7fafa2981b00>]\n",
      "Final rewards:  -130.5\n",
      "self.trucks [<truck.Truck object at 0x7fafa2981908>, <truck.Truck object at 0x7fafa2981b00>]\n",
      "Final rewards:  -55.0\n",
      "self.trucks [<truck.Truck object at 0x7fafa2981908>, <truck.Truck object at 0x7fafa2981b00>]\n",
      "Final rewards:  -45.0\n",
      "self.trucks [<truck.Truck object at 0x7fafa2981908>, <truck.Truck object at 0x7fafa2981b00>]\n",
      "Final rewards:  -105.5\n",
      "self.trucks [<truck.Truck object at 0x7fafa2981908>, <truck.Truck object at 0x7fafa2981b00>]\n",
      "Final rewards:  -140.5\n",
      "self.trucks [<truck.Truck object at 0x7fafa2981908>, <truck.Truck object at 0x7fafa2981b00>]\n",
      "Final rewards:  -inf\n",
      "self.trucks [<truck.Truck object at 0x7fafa2981908>, <truck.Truck object at 0x7fafa2981b00>]\n",
      "Final rewards:  -inf\n",
      "self.trucks [<truck.Truck object at 0x7fafa2981908>, <truck.Truck object at 0x7fafa2981b00>]\n",
      "Final rewards:  -inf\n",
      "self.trucks [<truck.Truck object at 0x7fafa2981908>, <truck.Truck object at 0x7fafa2981b00>]\n",
      "Final rewards:  -inf\n",
      "self.trucks [<truck.Truck object at 0x7fafa2981908>, <truck.Truck object at 0x7fafa2981b00>]\n",
      "Final rewards:  -inf\n",
      "self.trucks [<truck.Truck object at 0x7fafa2981908>, <truck.Truck object at 0x7fafa2981b00>]\n",
      "Final rewards:  -inf\n",
      "self.trucks [<truck.Truck object at 0x7fafa2981908>, <truck.Truck object at 0x7fafa2981b00>]\n",
      "Final rewards:  -inf\n",
      "self.trucks [<truck.Truck object at 0x7fafa2981908>, <truck.Truck object at 0x7fafa2981b00>]\n",
      "Final rewards:  -60.0\n",
      "self.trucks [<truck.Truck object at 0x7fafa2981908>, <truck.Truck object at 0x7fafa2981b00>]\n",
      "Final rewards:  -95.0\n",
      "self.trucks [<truck.Truck object at 0x7fafa2981908>, <truck.Truck object at 0x7fafa2981b00>]\n",
      "Final rewards:  -85.0\n",
      "self.trucks [<truck.Truck object at 0x7fafa2981908>, <truck.Truck object at 0x7fafa2981b00>]\n",
      "Final rewards:  -80.0\n",
      "self.trucks [<truck.Truck object at 0x7fafa2981908>, <truck.Truck object at 0x7fafa2981b00>]\n",
      "Final rewards:  -85.5\n",
      "self.trucks [<truck.Truck object at 0x7fafa2981908>, <truck.Truck object at 0x7fafa2981b00>]\n",
      "Final rewards:  -100.0\n",
      "self.trucks [<truck.Truck object at 0x7fafa2981908>, <truck.Truck object at 0x7fafa2981b00>]\n",
      "Final rewards:  -85.0\n",
      "self.trucks [<truck.Truck object at 0x7fafa2981908>, <truck.Truck object at 0x7fafa2981b00>]\n",
      "Final rewards:  -115.5\n",
      "self.trucks [<truck.Truck object at 0x7fafa2981908>, <truck.Truck object at 0x7fafa2981b00>]\n",
      "Final rewards:  -115.5\n",
      "self.trucks [<truck.Truck object at 0x7fafa2981908>, <truck.Truck object at 0x7fafa2981b00>]\n",
      "Final rewards:  -85.5\n",
      "self.trucks [<truck.Truck object at 0x7fafa2981908>, <truck.Truck object at 0x7fafa2981b00>]\n",
      "Final rewards:  -100.0\n",
      "self.trucks [<truck.Truck object at 0x7fafa2981908>, <truck.Truck object at 0x7fafa2981b00>]\n",
      "Final rewards:  -50.0\n",
      "self.trucks [<truck.Truck object at 0x7fafa2981908>, <truck.Truck object at 0x7fafa2981b00>]\n",
      "Final rewards:  -inf\n",
      "self.trucks [<truck.Truck object at 0x7fafa2981908>, <truck.Truck object at 0x7fafa2981b00>]\n",
      "Final rewards:  -inf\n",
      "self.trucks [<truck.Truck object at 0x7fafa2981908>, <truck.Truck object at 0x7fafa2981b00>]\n",
      "Final rewards:  -inf\n",
      "self.trucks [<truck.Truck object at 0x7fafa2981908>, <truck.Truck object at 0x7fafa2981b00>]\n",
      "Final rewards:  -110.5\n",
      "self.trucks [<truck.Truck object at 0x7fafa2981908>, <truck.Truck object at 0x7fafa2981b00>]\n",
      "Final rewards:  -90.0\n",
      "self.trucks [<truck.Truck object at 0x7fafa2981908>, <truck.Truck object at 0x7fafa2981b00>]\n",
      "Final rewards:  -30.0\n",
      "self.trucks [<truck.Truck object at 0x7fafa2981908>, <truck.Truck object at 0x7fafa2981b00>]\n",
      "Final rewards:  -45.0\n",
      "self.trucks [<truck.Truck object at 0x7fafa2981908>, <truck.Truck object at 0x7fafa2981b00>]\n",
      "Final rewards:  -85.0\n",
      "self.trucks [<truck.Truck object at 0x7fafa2981908>, <truck.Truck object at 0x7fafa2981b00>]\n",
      "Final rewards:  -125.5\n",
      "self.trucks [<truck.Truck object at 0x7fafa2981908>, <truck.Truck object at 0x7fafa2981b00>]\n",
      "Final rewards:  -75.0\n",
      "self.trucks [<truck.Truck object at 0x7fafa2981908>, <truck.Truck object at 0x7fafa2981b00>]\n",
      "Final rewards:  -100.0\n",
      "self.trucks [<truck.Truck object at 0x7fafa2981908>, <truck.Truck object at 0x7fafa2981b00>]\n",
      "Final rewards:  -125.5\n"
     ]
    },
    {
     "data": {
      "image/png": "[encoded data removed]",
      "text/plain": [
       "<matplotlib.figure.Figure at 0x7fafa2d20320>"
      ]
     },
     "metadata": {},
     "output_type": "display_data"
    }
   ],
   "source": [
    "# Simulation\n",
    "%matplotlib inline\n",
    "\n",
    "seed = None \n",
    "\n",
    "iterations = 50\n",
    "visualization_steps = []\n",
    "rewards_list = []\n",
    "\n",
    "for it in range(iterations):\n",
    "    rewards = toy_system.random_action(seed);\n",
    "    rewards_list.append(rewards)\n",
    "    #print(toy_system.state())\n",
    "    print(\"Final rewards: \", rewards);\n",
    "    toy_system.reset_trucks_positions();\n",
    "    visualization_steps.append(toy_system.visualize());"
   ]
  },
  {
   "cell_type": "code",
   "execution_count": 5,
   "metadata": {},
   "outputs": [
    {
     "data": {
      "text/plain": [
       "[40.0, 50.0, 120.0, 190.0, 290.0]"
      ]
     },
     "execution_count": 5,
     "metadata": {},
     "output_type": "execute_result"
    }
   ],
   "source": [
    "visualization_steps[0][2]"
   ]
  },
  {
   "cell_type": "code",
   "execution_count": 6,
   "metadata": {},
   "outputs": [
    {
     "data": {
      "text/plain": [
       "array([1, 2, 3, 4, 5])"
      ]
     },
     "execution_count": 6,
     "metadata": {},
     "output_type": "execute_result"
    }
   ],
   "source": [
    "visualization_steps[0][0]+1"
   ]
  },
  {
   "cell_type": "code",
   "execution_count": 7,
   "metadata": {
    "collapsed": true
   },
   "outputs": [],
   "source": [
    "visualization_steps;"
   ]
  },
  {
   "cell_type": "code",
   "execution_count": null,
   "metadata": {
    "collapsed": true
   },
   "outputs": [],
   "source": []
  },
  {
   "cell_type": "code",
   "execution_count": 8,
   "metadata": {},
   "outputs": [],
   "source": [
    "def create_system_animation(visualization_steps, n_iterations, skip = 1):\n",
    "    \n",
    "    def barlist(n, visualization_steps = visualization_steps): \n",
    "        return visualization_steps[n][2]\n",
    "\n",
    "    fig=plt.figure()\n",
    "\n",
    "    N=int(n_iterations/skip) #Number of frames\n",
    "    x=visualization_steps[0][0]+1\n",
    "\n",
    "    plt.bar(x,visualization_steps[0][1], color = 'black')\n",
    "    barcollection = plt.bar(x,barlist(0), color = 'blue')\n",
    "\n",
    "    def animate(i):\n",
    "        y=barlist(i+1)\n",
    "        for i, b in enumerate(barcollection):\n",
    "            b.set_height(y[i])\n",
    "\n",
    "    anim=animation.FuncAnimation(fig,animate,repeat=False,blit=False,frames=N-1,\n",
    "                                 interval=100)\n",
    "    return(anim)\n",
    "    #anim.save('mymovie.mp4',writer=animation.FFMpegWriter(fps=10))\n",
    "    #plt.show()"
   ]
  },
  {
   "cell_type": "code",
   "execution_count": 9,
   "metadata": {
    "collapsed": true
   },
   "outputs": [],
   "source": [
    "#toy_system.visualize_step(visualization_steps[2]);"
   ]
  },
  {
   "cell_type": "code",
   "execution_count": 10,
   "metadata": {},
   "outputs": [
    {
     "data": {
      "text/plain": [
       "[<matplotlib.lines.Line2D at 0x7faf9a61e3c8>]"
      ]
     },
     "execution_count": 10,
     "metadata": {},
     "output_type": "execute_result"
    },
    {
     "data": {
      "image/png": "[encoded data removed]",
      "text/plain": [
       "<matplotlib.figure.Figure at 0x7faf9aa6a6d8>"
      ]
     },
     "metadata": {},
     "output_type": "display_data"
    }
   ],
   "source": [
    "%matplotlib inline\n",
    "plt.plot(range(iterations),rewards_list)"
   ]
  },
  {
   "cell_type": "code",
   "execution_count": 11,
   "metadata": {},
   "outputs": [
    {
     "data": {
      "text/plain": [
       "3600000"
      ]
     },
     "execution_count": 11,
     "metadata": {},
     "output_type": "execute_result"
    }
   ],
   "source": [
    "toy_system.n_states()"
   ]
  },
  {
   "cell_type": "code",
   "execution_count": 12,
   "metadata": {},
   "outputs": [
    {
     "data": {
      "text/plain": [
       "3600000"
      ]
     },
     "execution_count": 12,
     "metadata": {},
     "output_type": "execute_result"
    }
   ],
   "source": [
    "n_s = ((n+1)**k)\n",
    "a = np.prod(n_discrete_load_levels)\n",
    "b = np.prod(n_discrete_load_levels_trucks)\n",
    "n_s = n_s *a *b\n",
    "n_s"
   ]
  },
  {
   "cell_type": "code",
   "execution_count": null,
   "metadata": {
    "collapsed": true
   },
   "outputs": [],
   "source": []
  },
  {
   "cell_type": "code",
   "execution_count": null,
   "metadata": {
    "collapsed": true
   },
   "outputs": [],
   "source": []
  },
  {
   "cell_type": "code",
   "execution_count": null,
   "metadata": {
    "collapsed": true
   },
   "outputs": [],
   "source": []
  },
  {
   "cell_type": "code",
   "execution_count": null,
   "metadata": {
    "collapsed": true
   },
   "outputs": [],
   "source": [
    "\n"
   ]
  },
  {
   "cell_type": "code",
   "execution_count": null,
   "metadata": {
    "collapsed": true
   },
   "outputs": [],
   "source": []
  },
  {
   "cell_type": "code",
   "execution_count": null,
   "metadata": {
    "collapsed": true
   },
   "outputs": [],
   "source": []
  },
  {
   "cell_type": "code",
   "execution_count": null,
   "metadata": {
    "collapsed": true
   },
   "outputs": [],
   "source": []
  },
  {
   "cell_type": "markdown",
   "metadata": {},
   "source": [
    "# Small system to apply Q-learning algorithm\n"
   ]
  },
  {
   "cell_type": "code",
   "execution_count": 13,
   "metadata": {},
   "outputs": [
    {
     "data": {
      "text/plain": [
       "46080"
      ]
     },
     "execution_count": 13,
     "metadata": {},
     "output_type": "execute_result"
    }
   ],
   "source": [
    "def initialize_test_system():\n",
    "    \n",
    "    # Tanks' information\n",
    "    global n\n",
    "    n = 5 \n",
    "    tank_ids = list(range(1,n+1))\n",
    "    tank_max_loads =  np.array([100., 100., 200., 300., 400.])\n",
    "    tank_current_loads =  np.array([50., 60., 120., 150., 300.])\n",
    "    tank_consumption_rates =  np.array([10.] * n)\n",
    "    \n",
    "    global n_discrete_load_levels\n",
    "    n_discrete_load_levels = np.array([2,2,2,2,2])\n",
    "\n",
    "    # Trucks' information\n",
    "    global k\n",
    "    k = 2\n",
    "    truck_ids = list(range(k))\n",
    "    truck_max_loads = np.array([20., 50.])\n",
    "    truck_current_loads = truck_max_loads.copy()\n",
    "    truck_current_positions =  np.array([0] * k)\n",
    "    #truck_fractions_deliverable =  np.array([1.] * k) # we for now we only allow to deliver all the content of the truck\n",
    "    truck_fractions_deliverable =  np.array([ np.array([0.5, 1.]), \n",
    "                                              np.array([0.5, 1.])\n",
    "                                            ]) # we for now we only allow to deliver all the content of the truck\n",
    "    global n_discrete_load_levels_trucks\n",
    "    n_discrete_load_levels_trucks = np.array([2,2])\n",
    "\n",
    "    # System's information\n",
    "    def simple_graph(n: int):    \n",
    "        A = np.zeros((n,n))\n",
    "        A[0,0:n] = 1\n",
    "        A = A.astype(int)\n",
    "        return(A)\n",
    "\n",
    "    graph = simple_graph(n+1)\n",
    "    tanks = [tank.Tank( tank_id, current_load, max_load, consumption_rate, n_lvls) \n",
    "             for  tank_id, current_load, max_load, consumption_rate, n_lvls in \n",
    "             zip( tank_ids, tank_current_loads, tank_max_loads, tank_consumption_rates, n_discrete_load_levels)]\n",
    "    trucks = [truck.Truck( truck_id, current_load, max_load, current_position, load_fractions_deliverable, n_lvls) \n",
    "             for  truck_id, current_load, max_load, current_position, load_fractions_deliverable, n_lvls in \n",
    "             zip(truck_ids, truck_current_loads, truck_max_loads, truck_current_positions, \n",
    "                 truck_fractions_deliverable, n_discrete_load_levels_trucks)]\n",
    "\n",
    "    def simple_weights(n: int, w: float):    \n",
    "        W = np.full((n,n), np.inf)\n",
    "        W[0,:] = w\n",
    "        return(W)\n",
    "    #w =  np.array([0, 20., 10., 30., 50.5, 45.])\n",
    "    w =  np.array([0, 1.33, 1.33, 1.33, 1.33, 1.33])\n",
    "\n",
    "\n",
    "    weights_matrix = simple_weights(n+1, w)\n",
    "    \n",
    "    return(tanks, trucks, graph, weights_matrix)\n",
    "\n",
    "tanks, trucks, graph, weights_matrix = initialize_test_system()\n",
    "toy_system = model.System(tanks = tanks, trucks = trucks, adjacency_matrix = graph, weights_matrix = weights_matrix)\n",
    "\n",
    "a_s_dim = toy_system.states_dim * toy_system.actions_dim\n",
    "a_s_dim"
   ]
  },
  {
   "cell_type": "code",
   "execution_count": 14,
   "metadata": {},
   "outputs": [
    {
     "name": "stdout",
     "output_type": "stream",
     "text": [
      "self.trucks [<truck.Truck object at 0x7faf9a599668>, <truck.Truck object at 0x7faf9a5996a0>]\n",
      "Final rewards:  -37.66\n"
     ]
    },
    {
     "data": {
      "text/plain": [
       "[[2, 2], [0, 0]]"
      ]
     },
     "execution_count": 14,
     "metadata": {},
     "output_type": "execute_result"
    }
   ],
   "source": [
    "toy_system.discrete_state()\n",
    "\n",
    "\n",
    "\n",
    "rewards = toy_system.random_action(seed);\n",
    "rewards_list.append(rewards)\n",
    "#prnt(toy_system.state())\n",
    "print(\"Final rewards: \", rewards);\n",
    "toy_system.reset_trucks_positions();\n",
    "\n",
    "toy_system.da"
   ]
  },
  {
   "cell_type": "code",
   "execution_count": 15,
   "metadata": {},
   "outputs": [
    {
     "data": {
      "text/plain": [
       "[[0, 0], [2, 2], [1, 2, 2, 1, 2]]"
      ]
     },
     "execution_count": 15,
     "metadata": {},
     "output_type": "execute_result"
    }
   ],
   "source": [
    "toy_system.ds"
   ]
  },
  {
   "cell_type": "code",
   "execution_count": null,
   "metadata": {
    "collapsed": true
   },
   "outputs": [],
   "source": []
  },
  {
   "cell_type": "code",
   "execution_count": 16,
   "metadata": {
    "collapsed": true
   },
   "outputs": [],
   "source": [
    "a = [[3, 4], [1, 1], [0, 0, 1, 0, 1]]\n",
    "aa= ''.join(str(''.join(str(y) for y in x)) for x in a)"
   ]
  },
  {
   "cell_type": "code",
   "execution_count": 17,
   "metadata": {},
   "outputs": [
    {
     "name": "stdout",
     "output_type": "stream",
     "text": [
      "[[0, 0], [2, 2], [1, 2, 2, 1, 2]]\n",
      "[[2, 2], [0, 0]]\n"
     ]
    }
   ],
   "source": [
    "print(toy_system.ds)\n",
    "print(toy_system.da)"
   ]
  },
  {
   "cell_type": "code",
   "execution_count": 18,
   "metadata": {},
   "outputs": [
    {
     "data": {
      "text/plain": [
       "'0022122122200'"
      ]
     },
     "execution_count": 18,
     "metadata": {},
     "output_type": "execute_result"
    }
   ],
   "source": [
    "sa_new = toy_system.state_action_to_string()\n",
    "sa_new"
   ]
  },
  {
   "cell_type": "code",
   "execution_count": 19,
   "metadata": {
    "collapsed": true
   },
   "outputs": [],
   "source": [
    "new_dict = {}\n",
    "new_dict[sa_new] = {\"qval\": 1}"
   ]
  },
  {
   "cell_type": "code",
   "execution_count": 20,
   "metadata": {},
   "outputs": [
    {
     "data": {
      "text/plain": [
       "1"
      ]
     },
     "execution_count": 20,
     "metadata": {},
     "output_type": "execute_result"
    }
   ],
   "source": [
    "new_dict[sa_new]['qval']"
   ]
  },
  {
   "cell_type": "markdown",
   "metadata": {},
   "source": [
    "## Off-policy algorithm (Train)"
   ]
  },
  {
   "cell_type": "code",
   "execution_count": 21,
   "metadata": {},
   "outputs": [],
   "source": [
    "learning_rate0 = 0.05\n",
    "learning_rate_decay = 0.1\n",
    "n_iterations = 1000\n",
    "discount_rate = 0.8\n",
    "\n",
    "tanks, trucks, graph, weights_matrix = initialize_test_system()\n",
    "toy_system = model.System(tanks = tanks, trucks = trucks, adjacency_matrix = graph, weights_matrix = weights_matrix)\n",
    "\n",
    "Q = {}\n",
    "\n",
    "def is_key(dic, key):\n",
    "    if key in dic:\n",
    "        return(True)\n",
    "    else: return(False)\n",
    "\n",
    "is_key(new_dict, sa_new)\n",
    "\n",
    "state_length = 2*k + n"
   ]
  },
  {
   "cell_type": "code",
   "execution_count": 22,
   "metadata": {
    "collapsed": true
   },
   "outputs": [],
   "source": [
    "import pickle\n",
    "\n",
    "def save_obj(obj, name ):\n",
    "    with open('obj/'+ name + '.pkl', 'wb') as f:\n",
    "        pickle.dump(obj, f, pickle.HIGHEST_PROTOCOL)\n",
    "\n",
    "def load_obj(name ):\n",
    "    with open('obj/' + name + '.pkl', 'rb') as f:\n",
    "        return pickle.load(f)"
   ]
  },
  {
   "cell_type": "code",
   "execution_count": null,
   "metadata": {
    "collapsed": true
   },
   "outputs": [],
   "source": []
  },
  {
   "cell_type": "code",
   "execution_count": 23,
   "metadata": {},
   "outputs": [],
   "source": [
    "# \"Train zone\". Q-values are being converging to the optimal, theoretically\n",
    "\n",
    "train = False\n",
    "if train:\n",
    "\n",
    "    visualization_steps = []\n",
    "    rewards_list = []\n",
    "\n",
    "    verbose = False\n",
    "    verbose_info = True\n",
    "\n",
    "    for iteration in range(n_iterations):\n",
    "        toy_system.update_state() \n",
    "\n",
    "        if verbose: print(\"System state before, \", toy_system.ds)\n",
    "\n",
    "        reward = toy_system.random_action()\n",
    "        sa_current = toy_system.state_action_to_string()\n",
    "\n",
    "        if is_key(Q, sa_current) == False:\n",
    "            Q[sa_current] = 0\n",
    "\n",
    "        learning_rate = learning_rate0 / (1+iteration*learning_rate_decay)\n",
    "\n",
    "        Q_max = max([Q[key] for key in Q.keys() if key.startswith(sa_current[0:state_length])])\n",
    "        \n",
    "        if Q[sa_current] != -np.inf:\n",
    "            Q[sa_current] = ( (1-learning_rate) * Q[sa_current] \n",
    "                             + learning_rate* (reward + discount_rate * Q_max)\n",
    "                            )\n",
    "        if verbose:\n",
    "            print(\"System state after, \", toy_system.ds)\n",
    "            print(\"System action after, \", toy_system.da)\n",
    "            print(\"sa current, \", sa_current)\n",
    "\n",
    "        toy_system.reset_trucks_positions();\n",
    "        toy_system.reset_trucks_loads();\n",
    "\n",
    "        #Save visualization and rewards\n",
    "        rewards_list.append(rewards);\n",
    "        visualization_steps.append(toy_system.visualize());\n",
    "\n",
    "        if iteration % 100 == 0:\n",
    "            print(\"Iteration \", iteration)\n",
    "            if verbose_info:\n",
    "                print(\"s, a\", toy_system.s, toy_system.a)\n",
    "                print(\"ds, da\", toy_system.ds, toy_system.da)\n",
    "\n",
    "            save_obj(Q, \"Q-dict-test-\" + f\"{iteration}\")   \n",
    "            save_obj(visualization_steps, \"vis/vis-train-test-\" + f\"{iteration}\")   \n",
    "            save_obj(rewards_list, \"rewards/rew-train-test-\" + f\"{iteration}\")   \n",
    "\n",
    "\n",
    "\n",
    "\n",
    "    save_obj(Q, \"Q-dict-test-\" + f\"{iteration}\")   \n",
    "    save_obj(visualization_steps, \"vis-train-test-\" + f\"{iteration}\")   \n",
    "    save_obj(rewards_list, \"rew-train-test-\" + f\"{iteration}\")   \n"
   ]
  },
  {
   "cell_type": "code",
   "execution_count": 24,
   "metadata": {},
   "outputs": [
    {
     "data": {
      "text/plain": [
       "inf"
      ]
     },
     "execution_count": 24,
     "metadata": {},
     "output_type": "execute_result"
    }
   ],
   "source": [
    "(0.1)*np.inf"
   ]
  },
  {
   "cell_type": "code",
   "execution_count": 25,
   "metadata": {},
   "outputs": [],
   "source": [
    "# Optimal policy using the Q values trained previously:\n",
    "# Q = load_obj(\"Q-dict-test-\"+f'{n_iterations-1}')\n",
    "# #print(Q.keys())\n",
    "\n",
    "# rewards_l = load_obj('rewards/rew-train-test'+f'{n_iterations}')\n",
    "# vis_l = load_obj('vis/vis-train-test-'+f'{n_iterations}')\n",
    "\n",
    "# anim = create_system_animation(vis_l, n_iterations)\n",
    "# HTML(anim.to_html5_video())"
   ]
  },
  {
   "cell_type": "code",
   "execution_count": 26,
   "metadata": {
    "collapsed": true
   },
   "outputs": [],
   "source": [
    "\n",
    "\n",
    "new_keys = new_dict.keys()"
   ]
  },
  {
   "cell_type": "code",
   "execution_count": 27,
   "metadata": {},
   "outputs": [],
   "source": [
    "#[Q[key] for key in new_keys if key.startswith(sa_new[0:2])]"
   ]
  },
  {
   "cell_type": "code",
   "execution_count": 28,
   "metadata": {},
   "outputs": [
    {
     "data": {
      "text/plain": [
       "[[0, 0], [2, 2], [1, 2, 2, 1, 2]]"
      ]
     },
     "execution_count": 28,
     "metadata": {},
     "output_type": "execute_result"
    }
   ],
   "source": [
    "toy_system.ds"
   ]
  },
  {
   "cell_type": "code",
   "execution_count": 29,
   "metadata": {},
   "outputs": [],
   "source": [
    "toy_system.da"
   ]
  },
  {
   "cell_type": "code",
   "execution_count": 30,
   "metadata": {},
   "outputs": [
    {
     "data": {
      "text/plain": [
       "3"
      ]
     },
     "execution_count": 30,
     "metadata": {},
     "output_type": "execute_result"
    }
   ],
   "source": [
    "max([1,2,3])"
   ]
  },
  {
   "cell_type": "code",
   "execution_count": 31,
   "metadata": {},
   "outputs": [
    {
     "data": {
      "text/plain": [
       "[1, 2, 3]"
      ]
     },
     "execution_count": 31,
     "metadata": {},
     "output_type": "execute_result"
    }
   ],
   "source": [
    "[1,2,3][0:3]"
   ]
  },
  {
   "cell_type": "code",
   "execution_count": 32,
   "metadata": {},
   "outputs": [],
   "source": [
    "#Q['3311-1-1']"
   ]
  },
  {
   "cell_type": "code",
   "execution_count": 33,
   "metadata": {},
   "outputs": [],
   "source": [
    "test_toy_system = model.System(tanks = tanks, trucks = trucks, adjacency_matrix = graph, weights_matrix = weights_matrix)\n"
   ]
  },
  {
   "cell_type": "markdown",
   "metadata": {},
   "source": [
    "### To do\n",
    "\n",
    "1. Función que permita aplicar una acción al sistema usando el código de números enteros (como en las keys de los dicts)\n",
    "\n",
    "2. Hacer una simulación que vaya aplicando, en cada estado, la accion con mayor Q-value en el diccionario Q.\n",
    "\n",
    "3. Visualizar como evoluciona el sistema con la optimal policy estimada con alguna random"
   ]
  },
  {
   "cell_type": "code",
   "execution_count": 34,
   "metadata": {},
   "outputs": [
    {
     "data": {
      "text/plain": [
       "5"
      ]
     },
     "execution_count": 34,
     "metadata": {},
     "output_type": "execute_result"
    }
   ],
   "source": [
    "test_toy_system.n"
   ]
  },
  {
   "cell_type": "code",
   "execution_count": 35,
   "metadata": {
    "collapsed": true
   },
   "outputs": [],
   "source": [
    "a = '1234'"
   ]
  },
  {
   "cell_type": "code",
   "execution_count": 36,
   "metadata": {},
   "outputs": [
    {
     "name": "stdout",
     "output_type": "stream",
     "text": [
      "1\n",
      "2\n",
      "3\n",
      "4\n"
     ]
    }
   ],
   "source": [
    "for element in a: \n",
    "    print(element)"
   ]
  },
  {
   "cell_type": "code",
   "execution_count": 37,
   "metadata": {},
   "outputs": [
    {
     "data": {
      "text/plain": [
       "'12'"
      ]
     },
     "execution_count": 37,
     "metadata": {},
     "output_type": "execute_result"
    }
   ],
   "source": [
    "a[0:2]"
   ]
  },
  {
   "cell_type": "markdown",
   "metadata": {},
   "source": [
    "### Testing deterministic_action function from System class"
   ]
  },
  {
   "cell_type": "code",
   "execution_count": 38,
   "metadata": {},
   "outputs": [
    {
     "data": {
      "text/plain": [
       "[[0, 0], [2, 2], [1, 2, 2, 1, 2]]"
      ]
     },
     "execution_count": 38,
     "metadata": {},
     "output_type": "execute_result"
    }
   ],
   "source": [
    "tanks, trucks, graph, weights_matrix = initialize_test_system()\n",
    "test_toy_system = model.System(tanks = tanks, trucks = trucks, adjacency_matrix = graph, weights_matrix = weights_matrix)\n",
    "test_toy_system.ds"
   ]
  },
  {
   "cell_type": "code",
   "execution_count": 39,
   "metadata": {
    "collapsed": true
   },
   "outputs": [],
   "source": [
    "# Test example:\n",
    "# System state before,  [[0, 0], [1, 1], [0, 0, 1, 0, 1]]\n",
    "# System state after,  [[0, 0], [1, 1], [0, 0, 1, 0, 1]]\n",
    "# System action after,  [[3, 0], [0, 1]]\n",
    "# sa current,  0011001013001\n",
    "\n",
    "s0 = '001100101'\n",
    "a0 = '3001'"
   ]
  },
  {
   "cell_type": "code",
   "execution_count": 40,
   "metadata": {},
   "outputs": [
    {
     "data": {
      "text/plain": [
       "1"
      ]
     },
     "execution_count": 40,
     "metadata": {},
     "output_type": "execute_result"
    }
   ],
   "source": [
    "int('1')"
   ]
  },
  {
   "cell_type": "code",
   "execution_count": 41,
   "metadata": {},
   "outputs": [
    {
     "data": {
      "text/plain": [
       "[[0, 0], [1, 1], [0, 0, 1, 0, 1]]"
      ]
     },
     "execution_count": 41,
     "metadata": {},
     "output_type": "execute_result"
    }
   ],
   "source": [
    "test_toy_system.set_discrete_state(s0)\n",
    "test_toy_system.ds"
   ]
  },
  {
   "cell_type": "code",
   "execution_count": 42,
   "metadata": {},
   "outputs": [
    {
     "data": {
      "text/plain": [
       "-26.329999999999998"
      ]
     },
     "execution_count": 42,
     "metadata": {},
     "output_type": "execute_result"
    }
   ],
   "source": [
    "test_toy_system.deterministic_action(a0)"
   ]
  },
  {
   "cell_type": "code",
   "execution_count": 43,
   "metadata": {},
   "outputs": [],
   "source": [
    "toy_system.update_state() \n"
   ]
  },
  {
   "cell_type": "code",
   "execution_count": 44,
   "metadata": {},
   "outputs": [
    {
     "data": {
      "text/plain": [
       "[[3, 0], [0, 1]]"
      ]
     },
     "execution_count": 44,
     "metadata": {},
     "output_type": "execute_result"
    }
   ],
   "source": [
    "test_toy_system.da"
   ]
  },
  {
   "cell_type": "code",
   "execution_count": 45,
   "metadata": {},
   "outputs": [
    {
     "data": {
      "text/plain": [
       "[[0, 0], [1, 1], [0, 0, 1, 0, 1]]"
      ]
     },
     "execution_count": 45,
     "metadata": {},
     "output_type": "execute_result"
    }
   ],
   "source": [
    "\n",
    "test_toy_system.ds"
   ]
  },
  {
   "cell_type": "code",
   "execution_count": 46,
   "metadata": {},
   "outputs": [
    {
     "data": {
      "text/plain": [
       "55.55555555555556"
      ]
     },
     "execution_count": 46,
     "metadata": {},
     "output_type": "execute_result"
    }
   ],
   "source": [
    "200000/3600"
   ]
  },
  {
   "cell_type": "markdown",
   "metadata": {},
   "source": [
    "### Visualize simulation of 900 train steps"
   ]
  },
  {
   "cell_type": "code",
   "execution_count": 47,
   "metadata": {},
   "outputs": [],
   "source": [
    "verbose_vis = False\n",
    "\n",
    "if verbose_vis:\n",
    "\n",
    "    n_iterations = 900\n",
    "\n",
    "    Q = load_obj(\"Q-dict-test-\"+f'{n_iterations}')\n",
    "    #print(Q.keys())\n",
    "\n",
    "    rewards_l = load_obj('rewards/rew-train-test-'+f'{n_iterations}')\n",
    "    vis_l = load_obj('vis/vis-train-test-'+f'{n_iterations}')\n",
    "\n",
    "    anim = create_system_animation(vis_l, n_iterations)\n",
    "    HTML(anim.to_html5_video())"
   ]
  },
  {
   "cell_type": "code",
   "execution_count": 48,
   "metadata": {
    "scrolled": true
   },
   "outputs": [],
   "source": [
    "#each 9 frames\n",
    "if verbose_vis:\n",
    "    anim = create_system_animation(vis_l, n_iterations, 9)\n",
    "    HTML(anim.to_html5_video())"
   ]
  },
  {
   "cell_type": "markdown",
   "metadata": {},
   "source": [
    "## Off-policy algorithm (Optimal policy from the trained Q-values)"
   ]
  },
  {
   "cell_type": "code",
   "execution_count": 49,
   "metadata": {},
   "outputs": [
    {
     "name": "stdout",
     "output_type": "stream",
     "text": [
      "002212212\n",
      "[[0, 0], [2, 2], [1, 2, 2, 1, 2]]\n",
      "002212212\n",
      "[[3, 0], [0, 1]]\n",
      "3001\n",
      "0022122123001\n"
     ]
    }
   ],
   "source": [
    "# Initialize system\n",
    "tanks, trucks, graph, weights_matrix = initialize_test_system()\n",
    "\n",
    "# Load trained Q-values\n",
    "n_iterations = 900\n",
    "Q = load_obj(\"Q-dict-test-\"+f'{n_iterations}')\n",
    "\n",
    "test_toy_system = model.System(tanks = tanks, trucks = trucks, adjacency_matrix = graph, weights_matrix = weights_matrix)\n",
    "a0 = '3001'\n",
    "s0 = test_toy_system.state_to_string()\n",
    "print(s0)\n",
    "test_toy_system.deterministic_action(a0)\n",
    "\n",
    "print(test_toy_system.ds)\n",
    "print(test_toy_system.state_to_string())\n",
    "print(test_toy_system.da)\n",
    "print(test_toy_system.action_to_string())\n",
    "\n",
    "print(test_toy_system.state_action_to_string())"
   ]
  },
  {
   "cell_type": "code",
   "execution_count": 50,
   "metadata": {},
   "outputs": [
    {
     "data": {
      "text/plain": [
       "-3.633"
      ]
     },
     "execution_count": 50,
     "metadata": {},
     "output_type": "execute_result"
    }
   ],
   "source": [
    "# Way to access to the keys of the dictionary Q\n",
    "key_index = 0\n",
    "i = list(Q)[key_index]\n",
    "#Q value:\n",
    "Q[i]"
   ]
  },
  {
   "cell_type": "code",
   "execution_count": 51,
   "metadata": {},
   "outputs": [
    {
     "data": {
      "text/plain": [
       "['0022122124110',\n",
       " '0022122120010',\n",
       " '0022122121112',\n",
       " '0022122122010',\n",
       " '0022122123110',\n",
       " '0022122123011',\n",
       " '0022122122200',\n",
       " '0022122124300',\n",
       " '0022122121010']"
      ]
     },
     "execution_count": 51,
     "metadata": {},
     "output_type": "execute_result"
    }
   ],
   "source": [
    "s0_keys = [key for key in list(Q) if key.startswith(s0)][1:10]\n",
    "s0_keys"
   ]
  },
  {
   "cell_type": "code",
   "execution_count": 52,
   "metadata": {},
   "outputs": [
    {
     "name": "stdout",
     "output_type": "stream",
     "text": [
      "[-inf, -0.064102564102564111, -0.032187500000000001, -0.065623229461756361, -0.062219321148825064, -0.085119331742243426, -0.037361111111111109, -0.068660847772277225, -0.04569033530571992]\n",
      "[False False  True False False False False False False]\n",
      "0022122121112\n"
     ]
    }
   ],
   "source": [
    "s0_q = [Q[s0_key] for s0_key in s0_keys]\n",
    "print(s0_q)\n",
    "print(s0_q == max(s0_q))\n",
    "optimal_key_index = np.where(np.isin(s0_q, max(s0_q)))[0][0]\n",
    "optimal_key = s0_keys[optimal_key_index]\n",
    "print(optimal_key)\n",
    "\n",
    "optimal_action = optimal_key[toy_system.state_length:]\n"
   ]
  },
  {
   "cell_type": "code",
   "execution_count": 53,
   "metadata": {},
   "outputs": [],
   "source": [
    "# Given a state, returns the action that has the highest Q-value.\n",
    "\n",
    "def optimal_policy(state, Q):\n",
    "    \"\"\"\n",
    "    state must be in the string-integers code\n",
    "    \"\"\"\n",
    "    state_keys = [key for key in list(Q) if key.startswith(s0)]\n",
    "    if len(state_keys) == 0:\n",
    "        print(\"Random action is performed, because the current state is unknown for the trained Q\")\n",
    "        return(None)\n",
    "    \n",
    "    state_q = [Q[state_key] for state_key in state_keys]\n",
    "    \n",
    "    #print(\"state_q \", state_q[1:min(10,len(state_q))])\n",
    "    \n",
    "    max_q = max(state_q)\n",
    "    #print(\"max_q\", max_q)\n",
    "    optimal_key_index = np.where(np.isin(state_q, max_q ))[0][0]\n",
    "   #print(\"optimal_key_index\", optimal_key_index)\n",
    "    optimal_key = state_keys[optimal_key_index]\n",
    "    #print(\"optimal_key\", optimal_key)\n",
    "    \n",
    "    optimal_action = optimal_key[toy_system.state_length:]\n",
    "    \n",
    "    return(optimal_action)\n",
    "    "
   ]
  },
  {
   "cell_type": "code",
   "execution_count": 54,
   "metadata": {},
   "outputs": [
    {
     "data": {
      "text/plain": [
       "'1112'"
      ]
     },
     "execution_count": 54,
     "metadata": {},
     "output_type": "execute_result"
    }
   ],
   "source": [
    "optimal_policy(s0, Q)"
   ]
  },
  {
   "cell_type": "markdown",
   "metadata": {},
   "source": [
    "### Test optimal policy with a small simulation"
   ]
  },
  {
   "cell_type": "code",
   "execution_count": 62,
   "metadata": {},
   "outputs": [],
   "source": [
    "# Initialize system\n",
    "tanks, trucks, graph, weights_matrix = initialize_test_system()\n",
    "\n",
    "# Load trained Q-values\n",
    "n_iterations = 900\n",
    "Q = load_obj(\"Q-dict-test-\"+f'{n_iterations}')\n",
    "\n",
    "\n",
    "# 20k\n",
    "Q = load_obj(\"Q-dict-test-20k\")\n",
    "n_iterations = 20000\n",
    "\n",
    "sim_iterations = 100\n",
    "test_toy_system = model.System(tanks = tanks, trucks = trucks, adjacency_matrix = graph, weights_matrix = weights_matrix)"
   ]
  },
  {
   "cell_type": "code",
   "execution_count": 63,
   "metadata": {},
   "outputs": [
    {
     "name": "stdout",
     "output_type": "stream",
     "text": [
      "Random action is performed, because the current state is unknown for the trained Q\n",
      "self.trucks [<truck.Truck object at 0x7faf99eb6208>, <truck.Truck object at 0x7faf99eb6550>]\n",
      "Random action is performed, because the current state is unknown for the trained Q\n",
      "self.trucks [<truck.Truck object at 0x7faf99eb6208>, <truck.Truck object at 0x7faf99eb6550>]\n",
      "Random action is performed, because the current state is unknown for the trained Q\n",
      "self.trucks [<truck.Truck object at 0x7faf99eb6208>, <truck.Truck object at 0x7faf99eb6550>]\n",
      "Random action is performed, because the current state is unknown for the trained Q\n",
      "self.trucks [<truck.Truck object at 0x7faf99eb6208>, <truck.Truck object at 0x7faf99eb6550>]\n",
      "Random action is performed, because the current state is unknown for the trained Q\n",
      "self.trucks [<truck.Truck object at 0x7faf99eb6208>, <truck.Truck object at 0x7faf99eb6550>]\n",
      "Random action is performed, because the current state is unknown for the trained Q\n",
      "self.trucks [<truck.Truck object at 0x7faf99eb6208>, <truck.Truck object at 0x7faf99eb6550>]\n",
      "Random action is performed, because the current state is unknown for the trained Q\n",
      "self.trucks [<truck.Truck object at 0x7faf99eb6208>, <truck.Truck object at 0x7faf99eb6550>]\n",
      "Random action is performed, because the current state is unknown for the trained Q\n",
      "self.trucks [<truck.Truck object at 0x7faf99eb6208>, <truck.Truck object at 0x7faf99eb6550>]\n",
      "Random action is performed, because the current state is unknown for the trained Q\n",
      "self.trucks [<truck.Truck object at 0x7faf99eb6208>, <truck.Truck object at 0x7faf99eb6550>]\n",
      "Random action is performed, because the current state is unknown for the trained Q\n",
      "self.trucks [<truck.Truck object at 0x7faf99eb6208>, <truck.Truck object at 0x7faf99eb6550>]\n",
      "Random action is performed, because the current state is unknown for the trained Q\n",
      "self.trucks [<truck.Truck object at 0x7faf99eb6208>, <truck.Truck object at 0x7faf99eb6550>]\n",
      "Random action is performed, because the current state is unknown for the trained Q\n",
      "self.trucks [<truck.Truck object at 0x7faf99eb6208>, <truck.Truck object at 0x7faf99eb6550>]\n",
      "Random action is performed, because the current state is unknown for the trained Q\n",
      "self.trucks [<truck.Truck object at 0x7faf99eb6208>, <truck.Truck object at 0x7faf99eb6550>]\n",
      "Random action is performed, because the current state is unknown for the trained Q\n",
      "self.trucks [<truck.Truck object at 0x7faf99eb6208>, <truck.Truck object at 0x7faf99eb6550>]\n",
      "Random action is performed, because the current state is unknown for the trained Q\n",
      "self.trucks [<truck.Truck object at 0x7faf99eb6208>, <truck.Truck object at 0x7faf99eb6550>]\n",
      "Random action is performed, because the current state is unknown for the trained Q\n",
      "self.trucks [<truck.Truck object at 0x7faf99eb6208>, <truck.Truck object at 0x7faf99eb6550>]\n",
      "Random action is performed, because the current state is unknown for the trained Q\n",
      "self.trucks [<truck.Truck object at 0x7faf99eb6208>, <truck.Truck object at 0x7faf99eb6550>]\n",
      "Random action is performed, because the current state is unknown for the trained Q\n",
      "self.trucks [<truck.Truck object at 0x7faf99eb6208>, <truck.Truck object at 0x7faf99eb6550>]\n",
      "Random action is performed, because the current state is unknown for the trained Q\n",
      "self.trucks [<truck.Truck object at 0x7faf99eb6208>, <truck.Truck object at 0x7faf99eb6550>]\n",
      "Random action is performed, because the current state is unknown for the trained Q\n",
      "self.trucks [<truck.Truck object at 0x7faf99eb6208>, <truck.Truck object at 0x7faf99eb6550>]\n",
      "Random action is performed, because the current state is unknown for the trained Q\n",
      "self.trucks [<truck.Truck object at 0x7faf99eb6208>, <truck.Truck object at 0x7faf99eb6550>]\n",
      "Random action is performed, because the current state is unknown for the trained Q\n",
      "self.trucks [<truck.Truck object at 0x7faf99eb6208>, <truck.Truck object at 0x7faf99eb6550>]\n",
      "Random action is performed, because the current state is unknown for the trained Q\n",
      "self.trucks [<truck.Truck object at 0x7faf99eb6208>, <truck.Truck object at 0x7faf99eb6550>]\n",
      "Random action is performed, because the current state is unknown for the trained Q\n",
      "self.trucks [<truck.Truck object at 0x7faf99eb6208>, <truck.Truck object at 0x7faf99eb6550>]\n",
      "Random action is performed, because the current state is unknown for the trained Q\n",
      "self.trucks [<truck.Truck object at 0x7faf99eb6208>, <truck.Truck object at 0x7faf99eb6550>]\n",
      "Random action is performed, because the current state is unknown for the trained Q\n",
      "self.trucks [<truck.Truck object at 0x7faf99eb6208>, <truck.Truck object at 0x7faf99eb6550>]\n",
      "Random action is performed, because the current state is unknown for the trained Q\n",
      "self.trucks [<truck.Truck object at 0x7faf99eb6208>, <truck.Truck object at 0x7faf99eb6550>]\n",
      "Random action is performed, because the current state is unknown for the trained Q\n",
      "self.trucks [<truck.Truck object at 0x7faf99eb6208>, <truck.Truck object at 0x7faf99eb6550>]\n",
      "Random action is performed, because the current state is unknown for the trained Q\n",
      "self.trucks [<truck.Truck object at 0x7faf99eb6208>, <truck.Truck object at 0x7faf99eb6550>]\n",
      "Random action is performed, because the current state is unknown for the trained Q\n",
      "self.trucks [<truck.Truck object at 0x7faf99eb6208>, <truck.Truck object at 0x7faf99eb6550>]\n",
      "Random action is performed, because the current state is unknown for the trained Q\n",
      "self.trucks [<truck.Truck object at 0x7faf99eb6208>, <truck.Truck object at 0x7faf99eb6550>]\n",
      "Random action is performed, because the current state is unknown for the trained Q\n",
      "self.trucks [<truck.Truck object at 0x7faf99eb6208>, <truck.Truck object at 0x7faf99eb6550>]\n",
      "Random action is performed, because the current state is unknown for the trained Q\n",
      "self.trucks [<truck.Truck object at 0x7faf99eb6208>, <truck.Truck object at 0x7faf99eb6550>]\n",
      "Random action is performed, because the current state is unknown for the trained Q\n",
      "self.trucks [<truck.Truck object at 0x7faf99eb6208>, <truck.Truck object at 0x7faf99eb6550>]\n",
      "Random action is performed, because the current state is unknown for the trained Q\n",
      "self.trucks [<truck.Truck object at 0x7faf99eb6208>, <truck.Truck object at 0x7faf99eb6550>]\n",
      "Random action is performed, because the current state is unknown for the trained Q\n",
      "self.trucks [<truck.Truck object at 0x7faf99eb6208>, <truck.Truck object at 0x7faf99eb6550>]\n",
      "Random action is performed, because the current state is unknown for the trained Q\n",
      "self.trucks [<truck.Truck object at 0x7faf99eb6208>, <truck.Truck object at 0x7faf99eb6550>]\n",
      "Random action is performed, because the current state is unknown for the trained Q\n",
      "self.trucks [<truck.Truck object at 0x7faf99eb6208>, <truck.Truck object at 0x7faf99eb6550>]\n",
      "Random action is performed, because the current state is unknown for the trained Q\n",
      "self.trucks [<truck.Truck object at 0x7faf99eb6208>, <truck.Truck object at 0x7faf99eb6550>]\n",
      "Random action is performed, because the current state is unknown for the trained Q\n",
      "self.trucks [<truck.Truck object at 0x7faf99eb6208>, <truck.Truck object at 0x7faf99eb6550>]\n",
      "Random action is performed, because the current state is unknown for the trained Q\n",
      "self.trucks [<truck.Truck object at 0x7faf99eb6208>, <truck.Truck object at 0x7faf99eb6550>]\n",
      "Random action is performed, because the current state is unknown for the trained Q\n",
      "self.trucks [<truck.Truck object at 0x7faf99eb6208>, <truck.Truck object at 0x7faf99eb6550>]\n",
      "Random action is performed, because the current state is unknown for the trained Q\n",
      "self.trucks [<truck.Truck object at 0x7faf99eb6208>, <truck.Truck object at 0x7faf99eb6550>]\n",
      "Random action is performed, because the current state is unknown for the trained Q\n",
      "self.trucks [<truck.Truck object at 0x7faf99eb6208>, <truck.Truck object at 0x7faf99eb6550>]\n",
      "Random action is performed, because the current state is unknown for the trained Q\n",
      "self.trucks [<truck.Truck object at 0x7faf99eb6208>, <truck.Truck object at 0x7faf99eb6550>]\n",
      "Random action is performed, because the current state is unknown for the trained Q\n",
      "self.trucks [<truck.Truck object at 0x7faf99eb6208>, <truck.Truck object at 0x7faf99eb6550>]\n",
      "Random action is performed, because the current state is unknown for the trained Q\n",
      "self.trucks [<truck.Truck object at 0x7faf99eb6208>, <truck.Truck object at 0x7faf99eb6550>]\n",
      "Random action is performed, because the current state is unknown for the trained Q\n",
      "self.trucks [<truck.Truck object at 0x7faf99eb6208>, <truck.Truck object at 0x7faf99eb6550>]\n",
      "Random action is performed, because the current state is unknown for the trained Q\n",
      "self.trucks [<truck.Truck object at 0x7faf99eb6208>, <truck.Truck object at 0x7faf99eb6550>]\n",
      "Random action is performed, because the current state is unknown for the trained Q\n",
      "self.trucks [<truck.Truck object at 0x7faf99eb6208>, <truck.Truck object at 0x7faf99eb6550>]\n",
      "Random action is performed, because the current state is unknown for the trained Q\n",
      "self.trucks [<truck.Truck object at 0x7faf99eb6208>, <truck.Truck object at 0x7faf99eb6550>]\n",
      "Random action is performed, because the current state is unknown for the trained Q\n",
      "self.trucks [<truck.Truck object at 0x7faf99eb6208>, <truck.Truck object at 0x7faf99eb6550>]\n",
      "Random action is performed, because the current state is unknown for the trained Q\n",
      "self.trucks [<truck.Truck object at 0x7faf99eb6208>, <truck.Truck object at 0x7faf99eb6550>]\n",
      "Random action is performed, because the current state is unknown for the trained Q\n",
      "self.trucks [<truck.Truck object at 0x7faf99eb6208>, <truck.Truck object at 0x7faf99eb6550>]\n",
      "Random action is performed, because the current state is unknown for the trained Q\n",
      "self.trucks [<truck.Truck object at 0x7faf99eb6208>, <truck.Truck object at 0x7faf99eb6550>]\n",
      "Random action is performed, because the current state is unknown for the trained Q\n",
      "self.trucks [<truck.Truck object at 0x7faf99eb6208>, <truck.Truck object at 0x7faf99eb6550>]\n",
      "Random action is performed, because the current state is unknown for the trained Q\n",
      "self.trucks [<truck.Truck object at 0x7faf99eb6208>, <truck.Truck object at 0x7faf99eb6550>]\n",
      "Random action is performed, because the current state is unknown for the trained Q\n",
      "self.trucks [<truck.Truck object at 0x7faf99eb6208>, <truck.Truck object at 0x7faf99eb6550>]\n",
      "Random action is performed, because the current state is unknown for the trained Q\n",
      "self.trucks [<truck.Truck object at 0x7faf99eb6208>, <truck.Truck object at 0x7faf99eb6550>]\n",
      "Random action is performed, because the current state is unknown for the trained Q\n",
      "self.trucks [<truck.Truck object at 0x7faf99eb6208>, <truck.Truck object at 0x7faf99eb6550>]\n",
      "Random action is performed, because the current state is unknown for the trained Q\n",
      "self.trucks [<truck.Truck object at 0x7faf99eb6208>, <truck.Truck object at 0x7faf99eb6550>]\n",
      "Random action is performed, because the current state is unknown for the trained Q\n",
      "self.trucks [<truck.Truck object at 0x7faf99eb6208>, <truck.Truck object at 0x7faf99eb6550>]\n",
      "Random action is performed, because the current state is unknown for the trained Q\n",
      "self.trucks [<truck.Truck object at 0x7faf99eb6208>, <truck.Truck object at 0x7faf99eb6550>]\n",
      "Random action is performed, because the current state is unknown for the trained Q\n",
      "self.trucks [<truck.Truck object at 0x7faf99eb6208>, <truck.Truck object at 0x7faf99eb6550>]\n",
      "Random action is performed, because the current state is unknown for the trained Q\n",
      "self.trucks [<truck.Truck object at 0x7faf99eb6208>, <truck.Truck object at 0x7faf99eb6550>]\n",
      "Random action is performed, because the current state is unknown for the trained Q\n",
      "self.trucks [<truck.Truck object at 0x7faf99eb6208>, <truck.Truck object at 0x7faf99eb6550>]\n"
     ]
    },
    {
     "name": "stdout",
     "output_type": "stream",
     "text": [
      "Random action is performed, because the current state is unknown for the trained Q\n",
      "self.trucks [<truck.Truck object at 0x7faf99eb6208>, <truck.Truck object at 0x7faf99eb6550>]\n",
      "Random action is performed, because the current state is unknown for the trained Q\n",
      "self.trucks [<truck.Truck object at 0x7faf99eb6208>, <truck.Truck object at 0x7faf99eb6550>]\n",
      "Random action is performed, because the current state is unknown for the trained Q\n",
      "self.trucks [<truck.Truck object at 0x7faf99eb6208>, <truck.Truck object at 0x7faf99eb6550>]\n",
      "Random action is performed, because the current state is unknown for the trained Q\n",
      "self.trucks [<truck.Truck object at 0x7faf99eb6208>, <truck.Truck object at 0x7faf99eb6550>]\n",
      "Random action is performed, because the current state is unknown for the trained Q\n",
      "self.trucks [<truck.Truck object at 0x7faf99eb6208>, <truck.Truck object at 0x7faf99eb6550>]\n",
      "Random action is performed, because the current state is unknown for the trained Q\n",
      "self.trucks [<truck.Truck object at 0x7faf99eb6208>, <truck.Truck object at 0x7faf99eb6550>]\n",
      "Random action is performed, because the current state is unknown for the trained Q\n",
      "self.trucks [<truck.Truck object at 0x7faf99eb6208>, <truck.Truck object at 0x7faf99eb6550>]\n",
      "Random action is performed, because the current state is unknown for the trained Q\n",
      "self.trucks [<truck.Truck object at 0x7faf99eb6208>, <truck.Truck object at 0x7faf99eb6550>]\n",
      "Random action is performed, because the current state is unknown for the trained Q\n",
      "self.trucks [<truck.Truck object at 0x7faf99eb6208>, <truck.Truck object at 0x7faf99eb6550>]\n",
      "Random action is performed, because the current state is unknown for the trained Q\n",
      "self.trucks [<truck.Truck object at 0x7faf99eb6208>, <truck.Truck object at 0x7faf99eb6550>]\n",
      "Random action is performed, because the current state is unknown for the trained Q\n",
      "self.trucks [<truck.Truck object at 0x7faf99eb6208>, <truck.Truck object at 0x7faf99eb6550>]\n",
      "Random action is performed, because the current state is unknown for the trained Q\n",
      "self.trucks [<truck.Truck object at 0x7faf99eb6208>, <truck.Truck object at 0x7faf99eb6550>]\n",
      "Random action is performed, because the current state is unknown for the trained Q\n",
      "self.trucks [<truck.Truck object at 0x7faf99eb6208>, <truck.Truck object at 0x7faf99eb6550>]\n",
      "Random action is performed, because the current state is unknown for the trained Q\n",
      "self.trucks [<truck.Truck object at 0x7faf99eb6208>, <truck.Truck object at 0x7faf99eb6550>]\n",
      "Random action is performed, because the current state is unknown for the trained Q\n",
      "self.trucks [<truck.Truck object at 0x7faf99eb6208>, <truck.Truck object at 0x7faf99eb6550>]\n",
      "Random action is performed, because the current state is unknown for the trained Q\n",
      "self.trucks [<truck.Truck object at 0x7faf99eb6208>, <truck.Truck object at 0x7faf99eb6550>]\n",
      "Random action is performed, because the current state is unknown for the trained Q\n",
      "self.trucks [<truck.Truck object at 0x7faf99eb6208>, <truck.Truck object at 0x7faf99eb6550>]\n",
      "Random action is performed, because the current state is unknown for the trained Q\n",
      "self.trucks [<truck.Truck object at 0x7faf99eb6208>, <truck.Truck object at 0x7faf99eb6550>]\n",
      "Random action is performed, because the current state is unknown for the trained Q\n",
      "self.trucks [<truck.Truck object at 0x7faf99eb6208>, <truck.Truck object at 0x7faf99eb6550>]\n",
      "Random action is performed, because the current state is unknown for the trained Q\n",
      "self.trucks [<truck.Truck object at 0x7faf99eb6208>, <truck.Truck object at 0x7faf99eb6550>]\n",
      "Random action is performed, because the current state is unknown for the trained Q\n",
      "self.trucks [<truck.Truck object at 0x7faf99eb6208>, <truck.Truck object at 0x7faf99eb6550>]\n",
      "Random action is performed, because the current state is unknown for the trained Q\n",
      "self.trucks [<truck.Truck object at 0x7faf99eb6208>, <truck.Truck object at 0x7faf99eb6550>]\n",
      "Random action is performed, because the current state is unknown for the trained Q\n",
      "self.trucks [<truck.Truck object at 0x7faf99eb6208>, <truck.Truck object at 0x7faf99eb6550>]\n",
      "Random action is performed, because the current state is unknown for the trained Q\n",
      "self.trucks [<truck.Truck object at 0x7faf99eb6208>, <truck.Truck object at 0x7faf99eb6550>]\n",
      "Random action is performed, because the current state is unknown for the trained Q\n",
      "self.trucks [<truck.Truck object at 0x7faf99eb6208>, <truck.Truck object at 0x7faf99eb6550>]\n",
      "Random action is performed, because the current state is unknown for the trained Q\n",
      "self.trucks [<truck.Truck object at 0x7faf99eb6208>, <truck.Truck object at 0x7faf99eb6550>]\n",
      "Random action is performed, because the current state is unknown for the trained Q\n",
      "self.trucks [<truck.Truck object at 0x7faf99eb6208>, <truck.Truck object at 0x7faf99eb6550>]\n",
      "Random action is performed, because the current state is unknown for the trained Q\n",
      "self.trucks [<truck.Truck object at 0x7faf99eb6208>, <truck.Truck object at 0x7faf99eb6550>]\n",
      "Random action is performed, because the current state is unknown for the trained Q\n",
      "self.trucks [<truck.Truck object at 0x7faf99eb6208>, <truck.Truck object at 0x7faf99eb6550>]\n",
      "Random action is performed, because the current state is unknown for the trained Q\n",
      "self.trucks [<truck.Truck object at 0x7faf99eb6208>, <truck.Truck object at 0x7faf99eb6550>]\n",
      "Random action is performed, because the current state is unknown for the trained Q\n",
      "self.trucks [<truck.Truck object at 0x7faf99eb6208>, <truck.Truck object at 0x7faf99eb6550>]\n",
      "Random action is performed, because the current state is unknown for the trained Q\n",
      "self.trucks [<truck.Truck object at 0x7faf99eb6208>, <truck.Truck object at 0x7faf99eb6550>]\n",
      "Random action is performed, because the current state is unknown for the trained Q\n",
      "self.trucks [<truck.Truck object at 0x7faf99eb6208>, <truck.Truck object at 0x7faf99eb6550>]\n",
      "Random action is performed, because the current state is unknown for the trained Q\n",
      "self.trucks [<truck.Truck object at 0x7faf99eb6208>, <truck.Truck object at 0x7faf99eb6550>]\n"
     ]
    },
    {
     "data": {
      "image/png": "[encoded data removed]",
      "text/plain": [
       "<matplotlib.figure.Figure at 0x7faf99e60668>"
      ]
     },
     "metadata": {},
     "output_type": "display_data"
    }
   ],
   "source": [
    "test = True\n",
    "visualization_steps = []\n",
    "rewards_list = []\n",
    "\n",
    "\n",
    "if test:\n",
    "    for i in range(sim_iterations):\n",
    "        #print(\"state\", test_toy_system.s, test_toy_system.ds)\n",
    "        test_toy_system.update_state()\n",
    "        visualization_steps.append(test_toy_system.visualize());\n",
    "    \n",
    "        s0 = test_toy_system.state_to_string()\n",
    "        best_action = optimal_policy(s0, Q)\n",
    "        #print(\"best_action\", best_action)\n",
    "        \n",
    "        if best_action == None:\n",
    "            test_toy_system.random_action()\n",
    "        \n",
    "        else:\n",
    "            reward = test_toy_system.deterministic_action(best_action)\n",
    "            #print(reward)\n",
    "        \n",
    "        test_toy_system.reset_trucks_positions();\n",
    "        test_toy_system.reset_trucks_loads();\n",
    "\n",
    "        \n",
    "        \n",
    "        #Save visualization and rewards\n",
    "        rewards_list.append(reward);\n"
   ]
  },
  {
   "cell_type": "code",
   "execution_count": 57,
   "metadata": {},
   "outputs": [
    {
     "data": {
      "text/html": [
       "<video width=\"432\" height=\"288\" controls autoplay>\n",
       "  <source type=\"video/mp4\" src=\"data:video/mp4;base64,AAAAHGZ0eXBNNFYgAAACAGlzb21pc28yYXZjMQAAAAhmcmVlAABRBW1kYXQAAAKuBgX//6rcRem9\n",
       "5tlIt5Ys2CDZI+7veDI2NCAtIGNvcmUgMTUyIHIyODU0IGU5YTU5MDMgLSBILjI2NC9NUEVHLTQg\n",
       "QVZDIGNvZGVjIC0gQ29weWxlZnQgMjAwMy0yMDE3IC0gaHR0cDovL3d3dy52aWRlb2xhbi5vcmcv\n",
       "eDI2NC5odG1sIC0gb3B0aW9uczogY2FiYWM9MSByZWY9MyBkZWJsb2NrPTE6MDowIGFuYWx5c2U9\n",
       "MHgzOjB4MTEzIG1lPWhleCBzdWJtZT03IHBzeT0xIHBzeV9yZD0xLjAwOjAuMDAgbWl4ZWRfcmVm\n",
       "PTEgbWVfcmFuZ2U9MTYgY2hyb21hX21lPTEgdHJlbGxpcz0xIDh4OGRjdD0xIGNxbT0wIGRlYWR6\n",
       "b25lPTIxLDExIGZhc3RfcHNraXA9MSBjaHJvbWFfcXBfb2Zmc2V0PS0yIHRocmVhZHM9OSBsb29r\n",
       "YWhlYWRfdGhyZWFkcz0xIHNsaWNlZF90aHJlYWRzPTAgbnI9MCBkZWNpbWF0ZT0xIGludGVybGFj\n",
       "ZWQ9MCBibHVyYXlfY29tcGF0PTAgY29uc3RyYWluZWRfaW50cmE9MCBiZnJhbWVzPTMgYl9weXJh\n",
       "bWlkPTIgYl9hZGFwdD0xIGJfYmlhcz0wIGRpcmVjdD0xIHdlaWdodGI9MSBvcGVuX2dvcD0wIHdl\n",
       "aWdodHA9MiBrZXlpbnQ9MjUwIGtleWludF9taW49MTAgc2NlbmVjdXQ9NDAgaW50cmFfcmVmcmVz\n",
       "aD0wIHJjX2xvb2thaGVhZD00MCByYz1jcmYgbWJ0cmVlPTEgY3JmPTIzLjAgcWNvbXA9MC42MCBx\n",
       "cG1pbj0wIHFwbWF4PTY5IHFwc3RlcD00IGlwX3JhdGlvPTEuNDAgYXE9MToxLjAwAIAAAAvHZYiE\n",
       "ABD//veBvzLLXyK6yXH5530srM885DxyXYmuuNAAAAMADN2InuDwrXQ9FeAAIdqvwV2uIDqXrquN\n",
       "zJ1tPau74qcM5RR2E15ZnGQCl0TATtVkqAvwkvAHcLIr7Eun3p7OyUfCgSE33yidw8CjlJgC57lS\n",
       "MTovS/obyicMJv14cMm8z5WITI9ivwA3Z+E5NpAh184H6ADjeTlCIvs5RWBA+L+qrU3E+3dstZP+\n",
       "EeAo+SH1v2c3Xse8Ltwf6KGwb80Xf8PxL5gv0pqJ+tbOTtQS1NXGjVP3oxcMucBLA1cgLSJtbWXu\n",
       "FBqpLYviFeLLQIoZR5dlGRjxtYrRGX5g+A5NO+eem2C0+kN852Ol2RlGjlvyHtJkWrfPkd0YdcD/\n",
       "3tckcY7zX1L0MJBBQPXjuUcdjy0m1y3jF2s4vAVZwh03sJ8wW+D/Akoeoav/nZPeFRo7cJuD24bW\n",
       "QDVJQ7be/Eivw2ZGNVIrX8liQcLNX1QoP7muyO5sFkXwiDA/m9k3E0VTuPhCpY/GSS+GsYTE8lnY\n",
       "TVQa77F4J+5dbj/zZc/xSPutWUJeLyNB7Uqmocj9i0+jb/aUoCvzW0mvmDdW7rVlKxnQJD8z/jTr\n",
       "WiA21171eJiGXTGpTX+I6AprD0JkTthDjngYUw0e6TJ9F8PC0yq4FkZsNru8SezClJbTCssCofRX\n",
       "w7XcniD6NKnPMyHXzLdPK296JtAc2U4/RXPdwN73TWHSkTCJYDpXUUpyOZ8AUqtjetzwATiHbO6m\n",
       "YbD45WX4ZDRckj9tWG5GaZTkxNXiIsYOI+y3ou+1ELvW6P61UWgtB383/C3dp6/+9PKjg6sFW+uu\n",
       "GlLdCKrTB8LqgzKkgBPcW4XrTmTVBwtHt4vc7Q1cJaQGsdc8tkfAaGsL8DI+TD0zQpljLWq8UMxW\n",
       "ztgc9IQZC2rXp5ebBYBqN7XElfpAdD1MEIOlx8J1JthWaMBrHRZUAANWw/3GbDxZjzaVvVxhurXz\n",
       "JJuGuzrfyfY9tk6HMKDTTzHZj9g4wRgxc+dJ7XjSOdn52SI4kRQsMQoQCsTWsYj6tmw8N0+DI5E2\n",
       "XsTYuWydsp8CrUxxSY88eEpTSrRyOdjwPLcK6WjjLpuJnw1pZflG94vzD3dGviBjEa6P2fG291un\n",
       "L40YvJnQSwnsI9iGFyprWlo1l2kejWtEACNKDGsAKutFcWbe3jXpoF1jlfeQPp0jK3DCH1VFUuE+\n",
       "FjK97LaoNg0wWYkaACf3RGzLVq+tmTQAapUf/1zIYo3nnlp1oIrd/d9fgD1nNPcZ5mhGrGSqvljm\n",
       "aughzdv4VqZDfKwwG5Od6p6lagIiM/L3nJoiP1WDYcDWiJIXMB3WTyuNSn9vw85NPRTp710R0Tpp\n",
       "LngVzLU++ij4g9F54l8LUayY24yYZuSQioDmSnay74nWEcT1gE+uvPhILQIex+qOm6cdCzbQ6XXm\n",
       "sDFyTfJ660xG5CVoh2AACUoKFtGmwOHxBl88Mi9nUlHvCvn/puU0YU87upYaS/wwLjGxRqs4vJsA\n",
       "Z5ErPFeoXs+IdVF0fSDQNQv+091pWSxQjbK/uY93XeboJhGrKsdM7xPVYm0nee3/nowQvYinEglF\n",
       "W2o0eRvG+DXkDS86SAwcyVlPc76xfqowkdC6nfgpNzedIaVEbYnZ0mlfYcPt3xmfENcvRc6rf1bC\n",
       "O8hXiqGXdd3W+yNPzjn/Azpwwp06AAADAx186QkaOzxpN+Yg7/N4wVFrEvN03gCe+66WwbfO8/KL\n",
       "kzMfqohUaaS9T3HFnTtbtS30uN6Lu9A9GbLLudR0S8BecjZmXukxC/iSu0Ap0iTHdxPXK2TJfC01\n",
       "WSy/MDxqKrEIEVkTItbB6zXREw6OASd7ZUEXL3PMYPUCp35KtypxoW3M5+1Fwm+85TfMQpeZFssp\n",
       "jRek0ZkokU9q/gpKg+ycL4o8ZWor1CsXD1+wQ2phkcf/2PVihjRvuyCDuVpO1J+wrFaZFsDksEBs\n",
       "WOs27UuBaJ4Zr52zR90FK35vnePr0Lh5EGzcjfR921bmSoK9GK6aCzplhl9fN5u7Y98mZysdyIDe\n",
       "m6bsd2Kahf+FZ6JJC1Z7jcN/idSL/Mjs/+DCdUI8wcWZrcOeC6+ZVIKHPQ4Hbewvh6GkNNwJZDnz\n",
       "U8moginzeu5nAN0cuWCWHszlVF3vcguju43JEhthW9uV1Mh6HH5gwCllmtFA40jsV5JMb+hOv/h1\n",
       "TueKlQjhhOY43FQdyznM7IpfnAzp7SbDD+Fmx1gzggMhfx9tg9G5RfbFkA1vLkiuQ/6yb9ZGH0vh\n",
       "doEYxNl+ogzJ/pGzQ1UAsAZrCeYp3VdmV2J5yHyAetOCrxUUF5GKZuBcekRdmkVz+cvxy5pO6TJc\n",
       "TeUS4E897KShGTPCJzoPyovdCPr8+4kHx1bWQwewQ5ePRkzeSBTHiAiRx7vcYc1Ofry8gA76nuz3\n",
       "Fu+fUWQNpm8MzTK+wwNyzp92p/3opZe5DM6GQbghO9Sp8kh4tESgQZYM6nsFgZI8vPL+9BcLmzo9\n",
       "PwFFJykrv20V1b4sDD/QTiWTCwRZiOf7aKhqOc+sbOaNAmg0HoNWcKqI5R8MsCgEm91L5cKSzv4y\n",
       "Wb3PVCewP7NX/5W95r96Zy1bTciMH0+12XBEJG2dv6KPy6wFZlbauE04g+sbZ/S7nClMTZIRVhQK\n",
       "foyvTvZw00F/LMoFyf69wlPM5AdGmo2ZqqPsE2nVmm/HGqMJRzXOQy+4YTiqBb6s0+Y2cpaFkZuP\n",
       "T4bl+z/xxPgmQOpPh4xt/8CFDtjNpBIk5WlRlbX7zQhaGawXdBT+n4xtPJIcpcPoPjWfSJ47bTRP\n",
       "LX80Z+rEjeDne9E7VSFnc2cDOWhgQy3YaX6ILR71i9fn4ZmMtdJBNZQAnxtsNCtLgqJg2I//+yce\n",
       "Y9+kSx9BFORQUE5pXcKhccDxlVmkcMHiUpqnBm2SPqengQY9x3553ilhFSlmI2Z1ScXtlbBWm4I1\n",
       "zd/xrfVACgXTZgcChmbhM45DSSt0kSXOX5q71kXfBqUBGoH7FNCTXF5GYZq8eZ0qGPksKSAYRyVb\n",
       "/qFZDkX/TKIpHzQ3BXFHToeNeQkK7IA/wp94vM1LBlKC4JBL8uGcw/keJMcsbYwYq1G5sef/GIpr\n",
       "lKvXcdVnjLg2m4MqwNS2S2Hvokz6P0kTS+kRbpM+4yxRkoVvNS+fRyp2Wu0bMwG7DE7BEt/wLoJz\n",
       "p1yJ44QDvI3IfTAqrwIr/PGzRsJTRcyLywUxYY09BtviIs3AzWbugbFkwKsFXWCmUUUZyk3vkcUe\n",
       "uDB2JeKv0fHKp2u5yGJwXdiz2Yci2AC4aFpcA6BcBwXVzJYlpn/IhbZwFcPYVLLQTO02du9tyKk1\n",
       "elhpDk6+/9WapNkEF5PlS4q+E2xaepEi2G7HFKZ9ErPiCV9b+Ie+O8HiYNbxT/shwCaS/V6ydm/6\n",
       "5CEcf62W4KmQwAAbQmXhgMGWx8HdKq3t9JJIXIH0vrnZAPZiHSY8BMewEetv02KY7wOCeFOuSX0d\n",
       "cpO4BMwshESeZS3tbi1W3AEQ82gcfqWerLoGjIPhijXF7O4IcN9dqHUZj68pBrP50WsQHfCtdQW5\n",
       "z3M/+QMntWWt4OzDsi4L8HesQzJKZwxkSKuGosHy1567A0dxaKaO7fYobVf5XvoPrCyk8FXMqvO5\n",
       "Ga2pgilEdM4aEECso4XLdfDbZPLC0k6KTDjVxvSRTGiM8GDyar32uL5mtaVftTgYRhH9ATPrRPq4\n",
       "l7IVRzHh5OOhffPQ0CIS9KZLxpT5Xs9Yqi1eeTI5a4H0DkhuUrQ3ybKFogkdYZs+9FGXOEYKn4xy\n",
       "4QH6Lf0OzbXfRntkYAeEynlppiSQ7HBIxsJnEnN7eQs8Y6WL7BSkCENN2tc6LmohELe/yuHgenU7\n",
       "oSQhWr8yVt+esxR2fTFMzGIsP6YU5Cdx/TSDZt1QQN0WjrJLyBYNNGPbg8j5g857pSqFlyaB87q4\n",
       "bdDCvw//lPh5Zxw+SvTGiLz9RGDKu8kkbRK/Kk5i4AxucrIz0GCSFdiOs8z4AAGlAAACeEGaImxB\n",
       "D/6qVQAlC/rgCgHmdg3F6y5c9UQJNGQgFiLElChin4DwSiI3b6pVoHp5dr1JqhBDeH0ZAKKw70lp\n",
       "D8GjfTOloWEfSS4XiU+JrEUw3v8tKIMPu+X67x4g0oPN5w+15JDMIVaYAKsBOFGhBoP+dyUfYVHa\n",
       "BoCi0QaSzXH/7F3mdnDjFBIQv2XHDAKJSHobrWQKfS7ird8EkiyO6z/YR0UKOv+26mL6aZ2ezrFV\n",
       "Hv8zAFasWJjfKmxs7/HUjuh86CWqRFx4l4LcTIn/+wYJyodROUo2ZL0Xil6jrpffAZx+Qa01CT8u\n",
       "h2cW5RE00C0w+n/C6FU7wlCoEk8cr65Z7V8gqqJMh3yO8SY0XMohF3Arf/K26GOyMU/oEkxIaU5R\n",
       "hnQp8gqGz6B6TKqEcS4DEUo8mLAQjVs/FtzfR5t/rPl/8U+/iM5Di9UPreBxwjV6F/MoLtVIBJ2O\n",
       "C5EUb/2TaOuKAXXvH3/w43wtHMpu/thlar1NZI9oLVJ/s1fw5vszrFmNqhixDqrLbV00BmAGEr5k\n",
       "eyr/ZRnv3QEB62J0GbS/6RjoYEiqbWc+FWJ0gtAt09MCYEXZgFMnLFUw2DPFNF2rpgDx3iMMCOba\n",
       "Iv0E0tmRreFQ6lMDzZhPOsl/YqhpUqYg6rIi23xV1q+4JZIB0ygHNHSW+KSAZhXAFwPAY3ZIB28M\n",
       "0pLJLvYDrqNf+0y6E8kx6Ohpd1THHtFEwcimAsRKvwUx0Gu119hS+QMYpKpgkZ2Ivppw0waiDfQ3\n",
       "2S8nV8peRofYAxnqTEnMzXCzKLW2YsclMja1HiYGMLKiyDralZvgZbKT2tUzodlQ6W1WHHlDe684\n",
       "AAAAhwGeQXkN/wBm0bK4AObLC93Kfpw98Z8FJvn2h70wHxuOS6apl0fp+MGrPzYw2S3b3/MS0/tv\n",
       "SlF4y8iNpTxgUaNSBz8kdkeNXsWOzFjXwGBEXf3nTwo5t1iFLhmbwJfvFWI+Xxtm4ybahL3sDOFD\n",
       "oIXbYJlZdSDWWj/unCv2g8Tm5oWgGyX06QAAAMpBmkM8IZMphBH//rUqgBKD3RAAvx89AxBesuXv\n",
       "9W9cmM/8uHfIfZlA9jxoRBi0S8tpfviN2Py6IM8CtliCmjQjWZ83oyqPA0r4qo3tm28jeRkDW9Ob\n",
       "76BAeGlI4IdOiW2ggS/A/f5WJ9+WSgFg5Kf2xkWOgwSDpqOGtpf7vUfqpb6dqmKK+ew5nqDQ3HAU\n",
       "sIidLullFJQU1Ean9kxrAybDl5bMLBovaOh8ydSma1G7+BQwkknCJJ5gGcqxSAXX/g2Trd92lgwl\n",
       "dDKaAAAAyUGaZUnhDyZTBTwR//61KoAJj9m6lG9pASn57t4BQCOkvOR0+8+3MTLcadOX+Rui0WDf\n",
       "nOgWILMsT7ZDx7Dt/T8Jw4+jBmYDHSreC9CqobNz7IDf0+U3cfllOHjRJJIT09lxR9krstHoQOuL\n",
       "OwfIgTOgQJtSvqkCASHZQM/9LoqJfYqEhZk1R/C08BZv65BRIqqO2zLaavzzOgvEEh8Hs+RZ+IHM\n",
       "7MRXa4WWdf0c+uUTC6kvVu2EMb3H9ecB/T7qO3FaHBS5PIm9fwAAAK0BnoRqQ38ANMAYXkBA4ewX\n",
       "wdSHA4caC8nBNOj+Q/DFmDbh2cC0ByKMw/k0TNhbSZV5gBcSbgkSS+mY3TGOo+4m63RIIYCRGRca\n",
       "vCMNZgJFml1jOEjUqDufbOJyNKQmMyTPsLb9znvRA4Bi1bCraWNNy2xeTC5J3m9sXmYxznbrgrCe\n",
       "QnZwcYUKxIU3dudrSKwMvqJ/3+C0PHUu81BaTXNvIMhZEtrq0zVM/ipjoQAAAThBmolJ4Q8mUwII\n",
       "//61KoAAkCD+Ugv1Dnz8VPe7ldx//etvb8Q5MZ8DQJvnuO5Ec7gjjYg7GhJgp7xY0M48nQACGw8g\n",
       "6edrK2kZ9TzsjZI4XlPoBG11AfjRINDK4v4NnZ1iI3O+QgmHOyh1GFs1ryIYRQKlk8wq37sS6UBZ\n",
       "g/EO6pm//vXwinyL0kFsKB7Emwm7MZmeUuHhFnEV3r1AnNJEsueN536/9G2jiirCn35bBgqlGAwD\n",
       "tN5UpKLFTtik14w0YvGMEA0tONHCygGmZXZBG3UVGoEoI4SHPcMoDIb0BXaJMJAFniek72TG5eaL\n",
       "9RTtMNznvtgcTDgzwnPL1lrdEhgec4j7bw2llr1WSCZq1Om3TD2Gg45SvKM4uvnf0YGA5akm/swg\n",
       "qdXbNneu9/dD37sYQqoQ44EAAACUQZ6nRRE8O/8AOcpAlH1FNIqxHtLpG0/ne9mIds+ANyz9E2YT\n",
       "81BLSLzujKnZwYlN+VXC2z0sAQYg1O1qJh0hKsYPWUC0oXmz1jK7rqHItIelndNr9eIaRzSChqjp\n",
       "nsOwPQGEIpCkGiZO9VAJltzFWx2lW5ICVyJ9UOkDDmX1DwuE1/F3U6bib8vNH0BrAupBAJl+8wAA\n",
       "AFcBnsZ0Q38AVA75NcXXVcGEzAjImIQbu4YtMoPXSrSKaKwaXQAtgODi6JqEClWoD/WZF0ZgaqLl\n",
       "+ImKvrGArc0v1h4CcEd7AS2Q//8MSjAE83AOy4Cj4BgAAACEAZ7IakN/AFQehLMK2E8eNOAhYAj0\n",
       "YFGuWsn6lgIHxean1bSepWCB7y5f21n6zMjIvO/CssA3e5lbpAuHYBrjpG5+pYADpFzZUdRsw809\n",
       "mdQ9fffTWoRwPuVlYoZqZSrbyxud6SeVKYryjhTjif656XiZ624eQDuXOjlfcMlxDFPMsqHAAAAA\n",
       "00GazUmoQWiZTAgj//61KoAASh6bRLUAGv0FaGK61xNGBKu3QvR/upHDHfNPyj2a2kJyWK2iR3te\n",
       "VGk92reEXEsWHEC6cFsCFmPDDE3f26dI6gGYqQWQyCLVmmiwlPTe0DxWs6oHLZeX3uL9l/9tqyid\n",
       "r2AnyT7Tltp37+U/hjBgSRxSwlIDMTY7Dv/6HVaCDbrfVJ674TnXVlF880N2kOFYrVhVimf3dhxv\n",
       "A8gCqwWfpKuK8Ao8brbqz2o2EJ6DQI+iIfMoPh5Q7cygO2o4GDX0PKEAAABRQZ7rRREsO/8AOmRp\n",
       "5/gFisqjsySJndHGQuROahWwJoVNJzo39Wu6pupzjvzMAHSUMN3CD3UdlsRtHKPnnsf3RQ0h1LmP\n",
       "ELbFHDeZ9/DTSE8gAAAAcQGfCnRDfwBUDvk1x3ARW+TFAjf+au7nqhtbVtEq0dyh5xclGW0LlE+2\n",
       "0HD3AFUneUdvEHIESjAV2ufqVK6U+l3xskm13KQ9POOZhm6qvwssPkwoK9olpoFEQGvmvnRoN1YE\n",
       "z1uaQAfY82bOnKdbkiIgAAAAWQGfDGpDfwBUHoSzCthPHjo2ADb8qgJbKjWC+ATjpV4/uM1ON7Od\n",
       "tBeXFBlLYS1kljQj+3EIOa1mzb9PNs8dzu+qKNa3jBKNgHsVL7Hy7ccgDP98Dx/YbOthAAABMUGb\n",
       "D0moQWyZTBRMEf/+tSqAAlKGsBtX5xvpSUhAAHIxExGD6aOy8OrxN31Me243k9kHrGvxGVUzDhOk\n",
       "b7CDuB0fnAIltXGES4Kwq53CxjD//3tsyD++wW/Tb1MnuNyNfAMM+B9R5BCJuF8aWHebiJXzsT8h\n",
       "d5Vvpx8DghyAYNHXu8YaxF4aUFxwAJYDloKz+wEqfoDAB1i3Qi6YpL4MSsB1Bl8l5BWp/QyTjL34\n",
       "2Y55KiBtKQjVtZ5Y1PvJnLybOdFNcm310IlgB7cPrNFcz2jRevKMlVwiaui828QSm29bacKk+QQn\n",
       "mlc7UVMupT0ceC8g1LbzcjbA0hv1G4qYHBuS+lJ/sOgA3t3lzov3kUffjQuvTeFsbVoiY078tNXE\n",
       "3xwGZiJ1HqIEqDLfIB5EEqaBAAAAoAGfLmpDfwBUJggZhqYP8xi3njri7/qXaWAByIhPrH4YJ3/Y\n",
       "iLefOmysGx4AUI//sQOuOVTGL7eL0OpmDagZ+bjzoeqsuvLQCjPoXLKpVCfvSGxrkCI3iVu+lXm2\n",
       "phzfEmT/2ZBOX8oz953WcIfKwMUa9vlVu7APrpP9MEKZTjQufXAIFPU9OflWhLPyUxnkXeK/ww1B\n",
       "+q4hd9UQ0rmP6KEAAAGaQZszSeEKUmUwII///rUqgASlDWAbmE1lKGnttv4NKYUawQVh2/kxfGue\n",
       "zOdNWL5s7zlvQknal2LqdBkpF+/Zn/I/Y5gaR9uFGBGlesmuBW93BKv77nqLD4xyDv43fAtiEFjY\n",
       "fp/7RvhNIqt7nKi0WqkKEkRYolO5EhgZnQB9wuX4EGqG05/1QSq2co7sro5rrcrlhlHVqymCd4TK\n",
       "5DEiZv/5xADyycfKhb0Jn3REdhagbzsyY+tRJNhr83uEXznz6rYSVZbiyWqxf1Gdz8BhYjndvRX/\n",
       "VgnkPxmjTWfp5qg178mfJkfYX6/PjpF8h92nzoCFqAQfhBkalW2+TfTjpF1PhswbtrC8QmiktKma\n",
       "U06CRLnr5sxmvxo6PJ4/ZkDnKVTMx0hz1m/rFZNatXK71vIGbbaZx3FC6RD4iK2BcJW0TI+3xbn/\n",
       "YVvUrIrFRuLI8UTcgV9xPszbBVNHFWmUjYcJMIqi0d2XbBx9MEE2EBYTdXi/zlFLajZvSqJYcB2C\n",
       "uuZw4JLfncaKJcD6o6+K5Qj3K/yj7pkAUGAAAADNQZ9RRTRMO/8AOmIcFwrRjxViPLkMNeuSRp9r\n",
       "e/CNVHzk/5GQyxrnNb2Ba3Zb96VXJevKAAHW+09SwyIwMAl/n+3INryogCAg0vxQpohiXpCJYZjX\n",
       "NcQ63R8DbNm0BxSnFTgXahBdaa3+UWi3YF/X02YFEBBy3ABKd9IMtjxar7sGhyRcnCbehzGvpyJP\n",
       "BI2kpKsbAEHCu3ebaiKx6WS/gJrjCe+WRNk9savWQOfFhAXYAprmHY8icLxZW3aHHARHMcTnitfe\n",
       "Zzevu+IxnQAAAH0Bn3B0Q38AVA75L5tolrR2gAvQo+dyy+ZZREzXk1FxUFOLok+3g72JyOeqm7h9\n",
       "bSX2fX/NqeBr/yaMmLFzTIIaGKX7YuUyYbowBZ3Ew/Epa0h9UqWmh4L+HzMLhjXYX4FKLI36jh5G\n",
       "DxaExhSauDCATgGxx1ZOb8ljTyNTQQAAAHYBn3JqQ38AVB6Et4DFquDFJcb/h6FSncT1Xs3DLhGi\n",
       "jWiADlQkOAr/LFQ1LA3LqbkihvTwq0dgHoPBIAF06Zv+zpjCJvFlfdF0MJDqWOOXz12t2bprk6p/\n",
       "LRb834c+g+IGQBCUis8m2lvvhMIkx4R1XCWmq74gAAAAh0Gbd0moQWiZTAgj//61KoAJRn1gNq3X\n",
       "Rm5IRRO1PngAgQhj7KZo29xul7NjZXHaauTfIiiMQnAfqJsVF7C+AXGbme679y8LPBPlqS1VcAYk\n",
       "HRobQwrf8eS8KTjjFKojQDYxskaCtMx/74T7phlT2ZWNMAFIj6oAGGVFOirAWyWjCeth1MBPQAAA\n",
       "ALRBn5VFESw7/wA6ZGnt9dAJhUM1CfAzd/5kJjkmHQrflylCEho19gwzCumHBDUTC5n1YnHaHNQl\n",
       "GrIzxwLKraP6kjfX6HHPnz2pr4UK1va4iCCpYMG+8IpzBi1FKGCm5ky8KJYVEwAKdOom9QqvBhBB\n",
       "pCPV/8a0c10U/4Q5V2DGH+7mJ3aVZHFKjhtCOajZTa1WK5+BRztC3YczRd/VAdOlv+IYDrNSmH5p\n",
       "yvZptk0DLVvVFdEAAACRAZ+0dEN/AFQO+Vld6yMqLgAXKVl0hNutLX5FOWMZIR9O0Bp9wIYAXXpY\n",
       "s/1lFEovaAGlBh/Uw/SKmj0tdOfYZZQpZ7yuFAEcF8g/rlEmw7Sm3zbcarDebHm+SRuthj1nsUY6\n",
       "+o2dG9piwiqq7qgyxMt+nJ330ASMkh6t4wfQoXRsnGDB4D7HpfTiKKJyLFoEugAAAEoBn7ZqQ38A\n",
       "VB6EzwGLbGij/4T+HoVNzKeq9m3b4M3fXCpCD92BlZATS8G17qb/gCoyO91n1vBxRagp7hNgAK/c\n",
       "gtO77hbV44p+MQAAAG1Bm7tJqEFsmUwII//+tSqAAJT9eU9x+00B9p9/0dGliIpigJw2vrM3G6G8\n",
       "82hfl85ZMQ3nbJAvJ8vTRFDtXaBx+eyQiQYt1IgJmWEpaKpKqUZc8fqHYlGADe7gXQ8eGjQW57l2\n",
       "t3oiGQYIANTRAAAAtUGf2UUVLDv/ADpkaekcZB4urrmxAO0SAIt2bU3ItI9hrCj6XAAQF3sk4eCA\n",
       "f76kYxyMZcjI7NoIRDqRxeHgRBm3OuOqUxEZ8AosjoxUsYt2UD9waAAzj44upBP1KT0xLCKnK6Xg\n",
       "FCUtsccASqkEJe3+IWtyBCzjf5DZj5fOLsNd8fGFs3LpqA+/dCk2tWdAYyv3BAQ0HOXxvr4o/NNv\n",
       "yAXfdjU/odK1YwG4+QkKoRBauBprK0IAAABnAZ/4dEN/AFQO+TasmslgpZTCjjn1q3Twy5NYDwSc\n",
       "gTe4C2Bk+EO3X/tLOIDYE6UOYdCibF/hBgbeBwHuzKiTnrzQ+Yr0wgcoE5Mo1+ZExnAv+i+czDLF\n",
       "AALNzPE9lKBj8QHmkXdTgQAAAIkBn/pqQ38AVB6EswrYUCUkywAbflUBLZUZwd7lscvXG5PyWSKI\n",
       "DcPiC2R6m8PcKDjhGBCCrwwwXk4XiUi8JEXBs3H+0D5ktu9gByeskj4L9SNw8i2N6FbpSjPn3ncd\n",
       "8uPs/We+V63HdRegP4gvcEbJYcLwqe3UHXpjBxvVG/l1ZD6YzizGQwC0wAAAALhBm/5JqEFsmUwI\n",
       "I//+tSqAAEp+zcy9mwdXDSyMc/XfHgYuJxP4LDKS+j98muPtwwA/ZawGy1rqcDCgD/CtI6Q47Wd7\n",
       "sl1HBzeN6sOwoQ8kvzBWgVgia++RO4QJfUTY4zL7BXrn/7Afc0FDUv4tZ+0CO7uXjel6r+CbYR8A\n",
       "IkCQ6ojKTtFGx72SNhKpcDOhO056gRmd1nAWaYkql9fbtLUZBLqgL75Y19Q6R84yoAAdGVLCmg/n\n",
       "Df0xAAAAZEGeHEUVLDf/AFQmCBmGphOaM2994ebwS/wAft6z6x+FmQJ8ba9T+JODb8x9o/lm1VFF\n",
       "5QiMQI4MBINRHNWx5AAALucAlIehEhWOUc/tX5mju8S5uRx6r/VCqrGqQ2Mcq6B9ZdkAAADeAZ49\n",
       "akN/AFQehLMK1xjeXc6vFwYz4FP9odRocALWTys6S3PF03jImF4hIjxnkqV06IBgA5yfqd2H3f4U\n",
       "wx+tbB4RP6AMNTHffAhgKvq8msg7MOPN7r4+gPfA7Xb+iZz18IgpsSex0HO0GARgWdNQqUZpkT27\n",
       "9DjI1Z6yLtgYLUxpxkozwdi7mrEIAgpVnWXryOrN/4h4SNZZyqq3BMO1LnJ7po5aDdzhVjpXBiO6\n",
       "rAMj8H0gMQ62DHjbWbROti9S00WpVCgsxWnwF3HfLREvfE5q61gHdsRBnKikycHnAAAAskGaIkmo\n",
       "QWyZTAgj//61KoAAKUbJomo+/j6gM2L0hY4ASO9FdD8sZhdyfEaVRZeIUlhkffodKX/l/ihIRk7A\n",
       "amm7pwbCT+Us5XVGvO28aUmcoFMLqa0r5/9EascIH/7V4zNzkyka6jPb0FjolDakf9RhnbrsASRX\n",
       "nrDngay6ZfT7yZdBGsvMgzraj/976NZlTCiesjv50k2caFyHvzT0RfpSt6iQE5vd825jwEOKBwsn\n",
       "vYAAAAB1QZ5ARRUsO/8AOmRp5/gFa+vwcuo7nhnq89U4Cg19LakZoVvNSRSPhIpa8Cz9KrIC9CZl\n",
       "4czyhWi+OpBptvjWZgO24OR0UIvF+KD56vAByQaEFBBZIfKdrseIGmbbdseWdAgVvR11abOC6eLD\n",
       "G5unqhpvmocJAAAAiQGef3RDfwBUDvkvm2YxTnKW3q/2HIAFv6wrwG1IQGOuxCxl33UXgJoXDTDs\n",
       "osWOhjnfZ6O5eQqwr7gX12RINBRWvTj+UIE6zxTcYLneAoHza/IFalvr04gMA+cRIw8uPjsEpW60\n",
       "rMzzgPuoT2xl/ugcnZkBNLPEcmZOa2xIOowhDrXmd61qnYYkAAAAsAGeYWpDfwBUHoSzCtcYwmHG\n",
       "4ANwIs+sffkn+pFNA9xkgw9IjqSGkMrsdWre6GYeckoWOzi6jxu+Yt8n3tSEI8IVh6XEsigN/gW5\n",
       "7ME9rcXygrVRVfl76p66SfrJ5bMHhy84gaxrw6WmGur4QrlZwsHUUjVaY9a2UwD8JknY0Uf6DpM6\n",
       "EwXBXdioiAa5IZ4LkWyKwQeISygBZYiIkUc9eoZ2CebaRxC7P6VdEVg6e/kTAAABC0GaZkmoQWyZ\n",
       "TAgj//61KoAAUo2S/o3XAz4B8mT+7cRAAZNJq72Ov2AVCY4noQB+aKWBhp/be3pSe8ZOkmwnv14W\n",
       "9mdt+5QGFc8zKUV/xZa9oF8wUJCmRXwQRfxgf/VXb0eLsSw7XVT0JVjzFmRNbOq772/YNHK9hSsa\n",
       "mKE5TPmZ9ZUBBjnIfTcFA4T/FyBOt0qN01n3RLcJNrDUNP15Erczoc6+tZ3wGdOV7ZyTZ8oNbbCH\n",
       "VaR8egZt4zS6Cf3E3vFQiPoAQ21R6aLyWomjLsM5ANr6qfj45pA2vlhlhZ0NAvnUwt1sWLfPXRac\n",
       "+toHHdWK8EdnmIbltLZzrnUkKPTAUppTGlkgLtiHDgAAAKVBnoRFFSw7/wA6ZGnn+AVrnC79IwSy\n",
       "WLZu+EV8BM1P0MABGS8vOMqqWRUG8dEzLG+Q3Bds1JrFezndcVWnQWNsAQwtD7d9byZU9Ayw0w9O\n",
       "Wc6pUGEoUmRpEJ+/pXgu/oWdz9uy38yVTtKHuV5L27s5fkotJM+OJ+hjAt30q9kOCbkdL+NdE9jh\n",
       "MwS0iVgGD/9WMf50qKZzutIrw+EAf/nZjY9Y+XcAAACTAZ6jdEN/AFQO+S+bZZNMzHkYw94bMM2F\n",
       "YBR1Q3QHKdMuOt6G3AB2k/U7sPu/wphj9a2Dwf/8xiks7cGSP5fdbiFzRySBtSINkHUmMo+2qPUe\n",
       "sEXlqG1NBAkhaljo9rriwhZq4EAPL7crGCvvH8l2AMNX7e3mDzYpF9RZPDLhPolT6/xIax08zYzm\n",
       "dljckk4+FOmBAAAAXwGepWpDfwBUHoSzCtbJnKu3cww6QQTjRNirrIl/1PzJdLJMQY8nTkvE5JYv\n",
       "L5M61YALhp2qA+seaGYnTqDEBT7r7s13y2jFDoaEFn6ZTErgYAgLiVJTP5LT+/BxPhf5AAAA+EGa\n",
       "qkmoQWyZTAgh//6qVQABSgGE9UXj33P2vLgO4VBShrGEXT5L3GHjFgVbJELF9eN6L+TBpfRgKPAy\n",
       "8jkK3E1nMXu5qXyeACGJK+FufobyilldawJMM/B57E5UvFyNEWbiCD1RIHe12FskWwySZD5inhBG\n",
       "MsG3N4PoXJCZNIyG6jlwCp30meJZHjJoogpoSR8ce8QkEE0ifWtySyaTpP4pk/fHH6+PPtg55IXP\n",
       "ium17nP/4y2JcCAIJpOEUoKTs0KyuKAcYLLt1BplsL+W4GegZB5fvEQ6y63ZeqckaKLXIMP/6kUN\n",
       "+jOL0hpjSLTBDxVIXThUClyXAAAARUGeyEUVLDv/ADpkaef4BWQY2/ZAy2UEsOdmgZ3vSCI8wC9s\n",
       "OhMPdh/4yNMYWl/SvQvm4sV+Lbb2Oj4dN5Sb7nfFzB21cQAAAH0Bnud0Q38AVA75L5tlk12h2lAB\n",
       "enFgPELSgbtKc9MPWM7Bjhw0b4ugiFJRAhJQP/zY/ROw9hLRxi1P0moge7tTxr8GERYTh0AmmcSr\n",
       "3i+l/zm5a9szF7Tx7wW0fbeDGLylyNxvPdBKy3+K3L0Tr6/ErChu2XwBpWOq51TG4AAAAIkBnulq\n",
       "Q38AVB6EswrWyYaEogTzBcHQQ2+McGeW8+3SDlIeEVrBJOBMBQrhhFIygGumWEtacxGVhEna3WLF\n",
       "/+bH6J2CSrsCRU/7PKIJdgCsSarCI0q3qGooqVe8X0k3cF/BDiqoy7H8Letw8FL6/gC3nusyy3+U\n",
       "jzahUzTOX1DYS/Eg7zEASQ1xZQAAAONBmutJqEFsmUwII//+tSqAABKHqCBTG0uadbq8Sa6fmnC+\n",
       "//4+oBaxHVRgXKheTI7ip0GNvVmZfeh7bRKqKifaXZXFSpAY25LYnOpMJvoYcGL1Bp7KmdbQN9OL\n",
       "HgP2aSiTkfTv/3XOz/wFBioAsSPj+R3r1l4t5/o64+pW1swQSlrcvjtbt7SytmvicailtVMiJ+Ye\n",
       "qY3/7XgQjkGHpJXsl/vHIboN7tepFc6rE+r+hnGQLg65PasUrmvLHxfkL6kTzWZHuTCfGS5o4Afq\n",
       "7F6zdDfmgWt6u7u0eJGGPYsJepd9YwAAAP5Bmw9J4QpSZTAgh//+qlUAACULMytAS6v91MkpUTBu\n",
       "BROcs53Iog1FHhxZxM2yizlAgsx2AP3WW4n0Oc9QAF1797ApRhXKZyVpP/DQoApqFEwOlxgQlWug\n",
       "emNxluX/d1D1T//one0svz6hqcEbOAQK9ttj/r2H8tra5ftNRDjKzRhnpEU/n8/VFjHwWDP+Ftbv\n",
       "2AmRt5i2UNUP77/GlGzEo8vEWgUgTvWgJ/4HAOge/5tfHnPlxmSevmPazKihjuhzmD9G5B8FNfxz\n",
       "FNK/W7rm5qj1Cci+8GGROSvmdGPFjsv0UpijxS5ovKbbOOv9LpQ72AQGzYhYVAyvk8xIoAAAAH1B\n",
       "ny1FNEw7/wA6YhwWaIsbSvwH4bAqcQAATjX+wUot5yNsxKn3zc8JVajbgsd2YPHErtwe/wMh8Jom\n",
       "bd2GNBiv0qZSJsc3AeIR+YiAkaJC+sfl/tS1P59oGmE0fev7U+QjN/wY/exIXRwccy/i5ekfroze\n",
       "oFqLVNLh8W91oQAAAGsBn0x0Q38AVA75L5tlkv+T3gLwP1wp7HEXFes4KQYMcqVXvp7ElaV0vqtk\n",
       "bL9JAnssfnhiwxiAFCzdAvGbNJlSZxL1RLVPHBMSAoXJWkgpUk3rRZElmOOnzjwaG0E1TggBW76A\n",
       "S1S2CfoJNQAAAGEBn05qQ38AVB6EswrWx5d4KVguDoLcNZetUS/Vl8pa5llZFPhQcj1gH3vIiTu6\n",
       "xtJD+ZFPAl+9kvmj+fs2B3yuvqwdlgVX1yDoZ33vILRp7jxs3cOqRlC17mMWuF44Oh0ZAAAAlEGb\n",
       "UEmoQWiZTAgj//61KoAAEpqcl8HEAGU4ruc58mFBo2UOd9Xeli3E2dQdgDn/2ftKXZ6kZO1+bNmY\n",
       "1LFJSwHof/d027f+mqfpU6gohPLXc6alwF+/8Q6/h7lHh87ie8JNnfwLpPlGrK6faQLJ2u6iSCLJ\n",
       "FOEGUnRbO/ml6q3yotOV8SSA/P7RQc5zYDysVr1pVXEAAAEoQZtySeEKUmUwURLBH/61KoAAJD+6\n",
       "KAPmM3hSvZtmIZdOVXji/pfSc3gAcU3oYSzNbhbujWPsMirLx/vk2leh6/veevR52sqm8zhkpqSX\n",
       "yntxMyCLzvVQHv0432ApX3eg9AkdSBsTOY7f7pAoyd9uNwY274eCuLN43C/6IQ80ovpwZKORpRkz\n",
       "+91Tj/sMXsFM5fVyBCiXxpwVpFAPKmLTLdlyZErmxAIJfb6NgXaq8gR4dO/CNqGYk2Sqwj8SmALV\n",
       "Bn2NgLMKkqi//+9mwOdfBLL/NlogDjZjfhPrs0UkQSuUh+MtRcEUNZW/nure4m2exzOHr0TDIpdH\n",
       "UWjc3vW9Z4kQ5qYiLuV1IShIMLctNhCXZk50H3PGwdoUz1DGd5H7lacNGvSyMIAAAACQAZ+RakN/\n",
       "AADOC4NhoAHEEWfWPv0v46RlPn//wYekSUgM6m752e4CMkTTAqERtrS+V+qt/v3Fh5WO8lPYgpdu\n",
       "lT4kRx8IAV+lNBVBtJIgVph0zQA/GvxOnjJ+XUwLk4yx4DArdXXPmSO71HK/hL0r6D4n/gnx0+ur\n",
       "D+mjJyFocObeUF44KmTut82TGp4atvspAAAAxkGblUnhDomUwII//rUqgAAkB59WDFe4m1AOgDw3\n",
       "1h3Vese7iZDIOxMhb1p7UmlfIkcfNhOZ9cP5a+AwtTTvt/Thuf+DcOXeet/kb97N1n/XOEmFZjZ9\n",
       "DF6L36vFH3rA+lVgeXv+EWWgfpWBodxsfmQ/hYv347MNri2QkXKihrbyaidGmrh6Hrm9MkIobXh5\n",
       "GOWpuaFznSlpyEvOJKqsRFtOr/HFmZqqiHT//pD0v4dJA3oj8c14A2UyKYLMthCDq7B8IvioaAAA\n",
       "ALNBn7NFFTw3/wAAyTp4ZWCj0xypiiWN4FJ7XNvzPXJf2zysCNVJey+/4GO2KTSmpNAk0jgBHKSA\n",
       "nu6yVc0PdRlPDF7cMlaW03pxaJASjIM7CJ++f/+JVf9gEstPhCG84L/IntZZ5GuT46JY0L0P4d0g\n",
       "3IoW9l2465GH/V+ZqZ8N9lMpgL6MYPxDBsuhg6cgm/7eO7tzFME8FpeL2GhIxmPoUdyEDGYu+xix\n",
       "L106NQCd3TutvgAAAGgBn9RqQ38AAGcFwbDQAOIIs+sffpfx0jKfP//gw9IksnhV6piYm2w0Xo8k\n",
       "CJIDrHkmSER+wt1ldVX07r/fmpRrpTcFA0o1yYElrOYlmXqNYMw66lkNmNX74b9hoPBvJXSMuitN\n",
       "Ji7psQAAAGhBm9lJqEFomUwII//+tSqAABKVHZqmgwielU4X/kSHqLPGtaDk/gAIWcSCl6yUiP7y\n",
       "sIHQuyVTqjFH2RPy7GqSFz3B2U7vAr9C1Wus3VtYlqUs1X2BKZzSeVt80KsD+CfR3J2GJZ1tYAAA\n",
       "AKlBn/dFESw7/wA5ykCT93FfPx/sVy0lLCEyu8W/iS5A3IGgKnHEkYkFCm3f5f5iuuP/AhmnLdeB\n",
       "tJ+wAnZonjhnTdiSidioxWjPcuTiM0DTQ3Wfn6BFLKZj+9FrBENKf1Hxng2GcLNtY8QBD1hpMGV7\n",
       "ytBqPtbrPBivcWdZTzWcp0vnRrmPDG2MF2nRPAFq2cjP0dERYgApEpx+Jo55TrR5F2d4KZR73MaN\n",
       "AAAAZgGeFnRDfwBUDvkvm2WPKA+ZNHb+UeoiofKHyQAW/9t7B5qt3Uo2ImzYNKsY963JvZIy1fdm\n",
       "78e9g+F0K38R0hX7cgByTEaB/AMlgxQ4KRlsxFb//Rd9Jo9gj5y2LP3CewA+2pvKuQAAAH4Bnhhq\n",
       "Q38AVB6EswrWyZyrt3LgojAfjBT6+TFAjf+Za/94sF8fk8a+9uk4qAnF26wKptM9Ci34VjGkThgS\n",
       "HTWCC2UqWxHj3xSMoIKKlzLbdYAboPNtlEEqOuv5b5AlENuOGPQjEe5BQ4x29nmZHrc9reA2QoUf\n",
       "hL+s6mAfTygAAAEqQZodSahBbJlMCCH//qpVAABKE49DROah2stPl7WlBDuSLvJ+9NxWHZOAluWj\n",
       "5kBWKxHHhKYwD5pOilYEwUH5AEM5n/A0K9cjK+b0sU84Ijq/q/gxuJJyMEPC3ajH+ECqfgiwnz3Q\n",
       "jOGq10xkO6GhZ+Eu202Aw/BoD3pgd5N9uIJPigfEiVhFJI1qmMzX9DZT4D3Znv/+8MpO2acmegRc\n",
       "k7k9XC2Mq6ke2v8FMPkWIk56HTTxSEx29lEAdmUUWxz+1k35vMxvqjdFpQP3K7TlwEp4fqzOAXmE\n",
       "w1WIaIpFPAOfPQYgp8KsoU7cm+SETBB9dO/FidCa13Y17B/ktkxKD5Jp/z0urN0uHqn2uTC2Line\n",
       "RA7wIG+zY605r0gKbXyp/xrt+f5Kz0EEvQAAANdBnjtFFSw7/wA6ZGnn+AVr7U3qH8Ms48/FSJqA\n",
       "h8z1qM9YPtvVeolhpRWfxuMXdlIurH7vdOmt/D/dP0RXYFk1hfl0/T/K+s4uLkSMpJtHGxp/Ix+c\n",
       "nZW0gF634krBGKVtC/dx/FfERhH5shL/Nj8VdOqRYF9uClmXmVUQWwoy0RJOJyVjDiCqqUVWiSnn\n",
       "LwB2btV9r3GV7rjISzKEWXAGTEZTk7QbWfXe8DSLeWt1L/B3uZmER6ZOLLWxxcC7B1okNnZAwVPs\n",
       "sL9BZ47xbP7xBncPy4rVwAAAAH8Bnlp0Q38AVA75L5tmMcWY8jAbxugAC2g0K8BtAc+OXTbluoQY\n",
       "ekSTiHexSGABDIdXaorGXqfCTSq0knvTpdntBJxk5qkAxAulR+28Fb6zGhViRwQVLUkppUhwhLnN\n",
       "r9FF4c8vIQOj+IV4gOEofKbVfChGK0OWpvbuSycHPAuhAAAAugGeXGpDfwBUHoSzCtcYwmHG4AN4\n",
       "YUBLZWBb54KtlHXeB7jGwp2peE9X4TUhGOhbFyx6uHr6wzpuZd/NWlYGXFAv9dRAYORsav20CcnP\n",
       "qX7a0P2da7z67YuP6+RtGde6HuZmGpYJIsWXOEoS5ljfgtQnyzGydEWbqwCe4yWjmiaWs+8Sdg3r\n",
       "SJYOjIymAfhMk6Cz6M1TE2YJvfxGFEWWN7ht1K5w2UaeIrsyJRmYLsOnqFiuuj/GvGmqwQAAANVB\n",
       "ml9JqEFsmUwUTBH//rUqgAAlCLlBIYAKSFlGCYdMQZxHpoGBDg9zOEosJ9a7gHZs2/yPrQVuz2pp\n",
       "dd+U5iwV9Oi+pA5TY4fePT1nKGKHdj9VV5gzEuXSxclBL9B+5gDUwREfzaQ3CQej+nHJ79XsZQ0Y\n",
       "I27PJO7x3z///0wHj0FEofMRIclGUU8LQuCaOUTLKLi6uHf6mjoQSx47g5dMGCjK6THJSbQxO2Sv\n",
       "YkdPOMOGHrzPl3CnLYY/s5MumAkGLI/yyDN6qySkb//l5NUWiR+PKqAAAACIAZ5+akN/AFQmCBmG\n",
       "pcYwmHG4ANwIs+sffkn+pFNA9xkgw9Ijpa8SDeIEcrlCWDETAX8EkSo86twKo/xNxaDdpFvg0vLc\n",
       "Rx//cVOqhUH4ZVd7DenZRmjbInbEgTDhMOtinVei2AhFCMO1y+mLS8c6ftqHglIrNtnzF55e+TvI\n",
       "k+M2mVKPQ0A5YAAAAPNBmmFJ4QpSZTBSwR/+tSqAACQ/VTkszezbSHeAAjgal/cSjw/prSfv1AR/\n",
       "hh2qHlOJJSHfVfG7S0pom7QcPoCFGotxZx9Hzvc4CZqob7q3a6wuQQOAGfAd18aGDYlglUXdt55y\n",
       "4ASPxqyP4Mxf29cwyxmlY4sn8vjEfTILWmfXr/8NRxoG+VC/B4IDzqfdybvI0zEtsv+rJlMdR7Hi\n",
       "3mrgmyOVYS0MS4Uj9KoAMlXDoISYT9mjuhQlmI0kQ+Xk0++jvyxKZm3kQlfAW2+W3szyRsEVZNPW\n",
       "awNgOwnAZPGuV4zkZjQETNxnZncMB1UvADhvpR8AAACNAZ6AakN/AADJOnYaBRxz61cC56EqG1tW\n",
       "sry/wwG+ApXVzR7S4oYiXvQIoWk88UAA7SUV2bEaERAZBTZf/DvHWXl3DGKHl4gMcjWBQUgkOPzK\n",
       "q6wEOqA88VeJIU+0oFknuUzHaW+F9xVjiCYZyINw/IZw3q98XI9YuPsB265lJXjpJvv6yVwVaIpu\n",
       "KiDAAAABQ0GahUnhDomUwII//rUqgAASmp0YBW6GMEvCOoU7rw2syVvXkP+IX7D0YbrWsorBBpCv\n",
       "b0BSduShefh23uh6MQfXb+bkLscok8KelYdhlGgxjFpJ26MnR2nXRryg999ZI3X//YU87nfjDDV9\n",
       "9F9w0nmg49z9WuOqKb9/haB1ZCA661T8/+hHDm3VYU+YrOLHmj5sAwjx3SL28mZPUdAk6sn+Sc+v\n",
       "SawABjYA5GQ19hKd1Oh0ND5+RE1U1bP83w8BSWjXWfmlTRXsKrBtCem2LA5E+ZCIiamg8xt4EkCc\n",
       "bET9nyt9989plDykLanwTCS7dR0oRnWI2c2qxezk+TFPmvXI56l4133+JTehhPsXGl4UzWQgbJXj\n",
       "ovzcaBhGolgvAk1gqHWjOGkSzCu+9Kb15CwFZvuNM76RrySH6v4Y9+LMxUBjAAAA0kGeo0UVPDv/\n",
       "ADnKQJP3cV89PDJFw4gvJUThFH6c15j3iHJHdEbQhKTUbfK9+DAAQPTt3oIfvWmcEcXj6PZpXKFp\n",
       "4KyuPetIr4AWh1p7QD7DnXuJizcyp2VLvQWWg7cAR0hnINPbMuxq2RDzxY0ooUxgZH1eQ1Du8B6N\n",
       "HRDj44/y0dAFJAZKWOUC3fq9v5/6nsE8OQE0+ASfoL+v/bOPqVP2YdHSD7gey1uXQ3OOPNx03DeA\n",
       "BecFKkwNWNPmurM7AgOc0GvRmwEvNA0uf21f3MBIQAAAAMQBnsJ0Q38AVA75L5tlkv+XQgTzBcHQ\n",
       "QqdpODOCV7eS66PtB+EyU5GVLVEEe5isyJeFVdxe3uTSqF/8kYum4/tChQkzu77GsHWs2zZ1dok0\n",
       "C5/+DQV+Di1UJdwwt3W3v8gGF7LBheIf5b+MRq3oJ+veBHX8eyHoHlJaIl1MQA8QSzrLZB3sZ0NR\n",
       "rRACbulSEA5/eUt62ZcJW5Qhu6UuPm+XMRe5gyiVt7GOoVpP34RuCvzumNlK3Qf8YRar6K/PS0Gt\n",
       "W8DBAAAA4AGexGpDfwBUHoSzCtbJnKu3cutYj8h2oAEbcfRKxdIjbGAipLcICd76yRRTbCzkjevK\n",
       "OYGYdrfVrNDSIm7AUhdw19RdfJAXFrj35vDTA0tFxC6CHvzv7ik8pS4agUJE9/vM84ZVVm2Ao4YU\n",
       "QpB4AySYUf2CePsOokIx5gAbhd1Z1INdx3xpy0I5P3xOYfZnDhp1+moWEIa8F0vR5eqwUfdGMVVq\n",
       "XmTAladk9bOkvqgnsuTGGqr2BGmoCFcZERVLqFYvZyVNaBbkYET44a+dgugX7Pj3q1lKeyYwAoF0\n",
       "gvDpAAAA3UGayEmoQWiZTAgj//61KoAAEoRcR5tHZ/z++8pn7rQEUN9AEkeiK6LqsSErs9ivoBJ5\n",
       "/mrNGqkekAADU+7KafmfGRvnL/+Gu1QkYmmXsARIjCgn5fMWZ0o5w9wzhq24wf/8KZPJ8yILdkBy\n",
       "esPfXSAc4FKqFvy/NR+0G671ya9MmfJ8OrF5JPfOG1sVpguISuFjkNuqMOUpyT2nTDotvZGFdlJR\n",
       "9ltmzOd+ttEZuvbgRuJoIjkOYsMOz8UWgMsWvObHV1GrQI1e2iZ8DjiMWzEOpr2eDVls6YJzheTB\n",
       "AAAAfkGe5kURLDf/AFQmCBmGpbJniuX08fbOj7r2Kejwb6gZcvrwAC4bOfxzpsL5t0CObHbn6NA7\n",
       "zPNkHJ2ceyymF8JYjE/uzqIATAGfb336Kiq4I4RZTHM09Bfr3azmYUOJT9AkIuiZURl2x4zPowzF\n",
       "UurgMsffgc0KH1mKevowMwAAAGIBnwdqQ38AVB6EswrWyZHjtAAA6zd2ydBv7sUTznsQInrNkIck\n",
       "BkJa7X7u4Lm80EGC/bJi0yZHwe11NqX1hDlGsDG3TDzvnb0U3tYW9nnpa2LbSWvCRNfnIq+tAwq5\n",
       "e1ADgAAAARxBmwxJqEFsmUwII//+tSqAAlB59tnokS/wMaIBrrim8fQbYQbNNv/j/Y+YABlr3IdQ\n",
       "4mezGS+Av1PdUECeigcX/VLaHZTq5Wf1aRT592peEhu5/gcNEwMcC3f/egpPPlw7blCSMWVJ+2U5\n",
       "Davp0Xtjjow5W8knSvnIA2o+MOqu3UpijjTAgR25e4imV/8fril1Q0mxwPk5uyFTXKY4EhBDQtHI\n",
       "rR3r71C/+E8u8rEOMrVErmxoSSf9JocZnebihfinSgJqfstyD3F8TcKNC8Rw+UiKK1Wv57pmsu7Y\n",
       "yIwfDbmemeBXhLX0OOmD+TYy6oLeciE6uVfJvW2ILrb3ar4z10PWUPGLG5eDapnX9zD5TM5CUGGZ\n",
       "85aiL3KOQAAAAJ5BnypFFSw7/wA6ZGnn+AVr6/Afhr5nns3AZmgNqQAEdpxZyp+E9Qe/nsrho93x\n",
       "ACD8w5xp+rWftfvzkaoTmkz/Yjv4vGaRCCAvBJUMcwZd4AWxTNlOrELsCPrvuipDSYsehExNDyD4\n",
       "uzyeP8gbQN3iYiilDstPFsx7HYDhk2qSBbNX1zqp7nd/CrVg8K4VGD+1m57qQpxM3iX/eNt1dQAA\n",
       "AFYBn0l0Q38AVA75L5tmMWVHaAAB1m1weIWTe3ZswvWtEkv1yn78ADBvYyMmwdmjgm3yt8LvE22m\n",
       "ch9FuJm9GOKHKBikWCstKUZ/Pt+0lRp9+85YbS4KyAAAAFsBn0tqQ38AVB6EswrXGMJh2lABem6d\n",
       "EkWVPYonnRR3TfXCYv8bgqL1vHHNtmAnrUN4krVsjxTOQnzIMxZtfwUBx8Gko0oNyc+KJ7rjtQTD\n",
       "FvrZth8HfMzlqWLCAAAA8UGbUEmoQWyZTAgj//61KoACU01Pip30Fx1jF3Kl1JlwB0BLsgQjrtvy\n",
       "2YZK7c/QmIcbTMujOLzT9AYiNT8/EeerJGcfxR0keIciFSEqTv/buDwu/l4fuFMm5EyZrb1beqy4\n",
       "lyszNGgqJaK2SysA28AjAyAT07EIEcvuHGrP9n9VyBVgNdfJXRGOESQVqMeeiYkIGK2KJugRxNrp\n",
       "KXvTM7mDbhcC3CO3YRUKiUZ8pR6W1WuQCc1XAQELYyxD7Nj2eVJ1nIIkn76iIQN97vyWywst8XXw\n",
       "zh/ZO9p2Y/s9M78q/lrXyuZwI+L9Oh8tUiyK2q8AAAFUQZ9uRRUsO/8AOmRp5/gFa/G37IGasI78\n",
       "meW1FtuZsVc8A0SMflku7smPAT0aBpIZz5qA/lSysLsbJRNwAYdQEAtcSLKAtk9XCrcoofH7a4w2\n",
       "9JFVwjLTyI8DqADChvZI8nLbujB8dQACeF2k/DP19sSAz85OHZgRUHDMDiaCvkJjZrombJDW8NgY\n",
       "49J7eOCBhY9TgUjyRAx0rp8Bdb5sPazun9OYliExXmW9Rsuo3vTTAVKVHP34sp/qt+fX8VREtAYy\n",
       "l4mTnrsNS42CLsXN4IS+uug42qpHxSyDiQ8x8i9RgWHMAiibc2d3mrcUJUusFCBXxy4Ysyem68RH\n",
       "2oLetZb/OUHkc7yj7T8b10Om25fdhmzM7aw3JmJodF2y4J0q/KZoPqAcFrJqELHVsN870oEqjP7C\n",
       "CzMLFEd5iz7+pRZIobfwXFepDZR/HyQLGU9levW1mQAAAHIBn410Q38AVA75L5tmMedDtKAC9OLA\n",
       "eIWlA3aU56ZGQ82qE3RNhZqQ0OUq4lwxnk0lb6Ex7oOHbOuTh5rYgbx4ij9432vf7d5qV8zYAtp0\n",
       "r3AwR0EvkWUVpqsL3icDJMugoc+Dl0kgCtF0fr4F2hqqOcEAAAB3AZ+PakN/AFQehLMK1xixYa4K\n",
       "VguDoIbfGODPQh4WuDy3kiak2fSJn242S2mEPlaOQcu/4k4xhYCgV9zKQADun90Q/Fe/ycZ+lTo5\n",
       "bC1Q+pmZzzyFZ/7nN4OFIaPnUXueER55BeefaHehxH5z86mMZZPQz+cfqHAAAADBQZuUSahBbJlM\n",
       "CCP//rUqgAJTTU+KmlViZGXPdnqpNWWOqa7JLuBN3rSEw8kRgpvv8308LC0dJ01PzkRITGf+R+v6\n",
       "sADRufatrfLlKaFJJyk4fRPrX11MfzD+I7ozd7StQ59rz7MRDxdIW1o93cQow9y2+7qg7PGS+xDx\n",
       "2iI7M1ZM27XxcjkdKhgr8uiAvEQorEVoz8bKONGgEvXhRhgC1GMJYrKL3m4PJSR4tuglahmFMnzX\n",
       "XjkkIMcJ5fVMz4rYoAAAAItBn7JFFSw7/wA6ZGnn+AVr8bfsgZqwjvyZ5bUW25mxVzwDRIx+ZR9d\n",
       "ABycHLwIgZ/fGBNl8uevzCrYnKEWihavpx82IRK2U8sgiNhlyg5A6CsaokjZYbPUiqhXkgLg2+UH\n",
       "i6MAHR9uEGeqIS5EQ5iFEr2ZNvh2I/iV68xvZHD1o13ze6IrCzHSh5y7AAAAdwGf0XRDfwBUDvkv\n",
       "m2Yx54LWEWNtl5q4urNv4dgOo6opnahd5VxZTRUCdEMEjFWuel9mceh5nPGUU9RFhW3WaPLKZAgC\n",
       "Clq6BqXtyjQfMTOjTPoF2dAMbowGkwUySHcMDIoDkifzqAhb6kycdB6MThuJ9D7PQzHJAAAAtgGf\n",
       "02pDfwBUHoSzCtcYwmHaUAF6bp0SRZU9iiec9iBFCTqP9VeE7Fgy0gshlirXKz1fbgkb30ri4WEw\n",
       "4Oz8wa2NC9D+HdLxtQwBnEvy9v7i6ghb/G7g5Pqxn7AX7TYTCmhkwZYqkgHNRE9VL91zene/uQg5\n",
       "PZR2cM8VOPpS9rpAqFO5J3qRGL4Xil7WoYvbdrcNg131+DpyD4DiQZ1DyDVBxlOUb+P/qVJzqs+j\n",
       "oYZvQcIb3+0JAAABBUGb2EmoQWyZTAgj//61KoACU01PjLSIV/fUyqoPEJ47f37a+VUNbLjTNdty\n",
       "vWWvq5qABcWGPxF4E9ww9MzT/IIzdTc5HYU4qMsnIMdPuZZat497qJG2DaoP0T/ux7/75fMBgiyK\n",
       "YH+bb9lbCw/DcZlXkrzeym++0Q3FUqsKe7EyrwiuOklYI16Ls5HEm5kduxjxDqEGC14hASXZt1Xz\n",
       "BI+T+ZTt9pPVyrccsxejk3aElmGmXpEXSjC0kDcK81dx5VM4jVZQZz7axM2yASm2YSsn5MHe83Cy\n",
       "HeS1UnTdTDz7/l/w70sFw0zvvpS7eMlPvVROdvaAieTsQYQI5jbR1tOVypSAsQAAAJVBn/ZFFSw7\n",
       "/wA6ZGnn+AWK9FMFF61hM+1D9VUlnZiqJ5bYzAR2GrgwUh+1+FakdLYIRUAH8nIuOAhT35rfkBUc\n",
       "wjSR1uDNjeFHZ6w4h3DuCDPh2nJ7MERZjWSlo/x/RKWmxS+j+5TZh9iyOFPFTvE+qfIVtbknv9Or\n",
       "dK8/tcpYUck2y5MjlH8RFz9K6ZTKhpXfqKJWYAAAAKQBnhV0Q38AVA75L5tonQoW3ghsQBUVeagB\n",
       "arbOlv2M7A7YJnq4K4m5z8J8cLrv9Sbidm7qGK+wNy+sTyMJBbhtp2xsgog5hFzkMgOeNBMtX9JC\n",
       "9dT+7JFEG8JbqqMDTnkyAmy6CVskXfxcxHCtLfMrKvYdF6QgjYi+H3aX1zSBb3sRLc3v0Uvo1l8+\n",
       "LMiZyvscbq2qWJJoHMtYnEFaNH7ZApMflQAAAGEBnhdqQ38AVB6EswrYTx5Fs+obEAVFWaIAWq2z\n",
       "q9qIdrtr17cfCxL8b9hna1rZhMtt2Bu3xh2LVojw6whKJllxdiaQPRlnsGe6PK6XS0Y4zwbcbMeJ\n",
       "icMqFRoHuETselUlAAAA6UGaHEmoQWyZTAgh//6qVQACU6Wv4nbn88AGxxuG5ZfLx3gK6gW6iP5Z\n",
       "uWkY447wuE2/4hxHXtboqcNUA8XJyEH0jttjZ7C2I/yGD4eje3zTo5srCqJ7xNrbmey2w7G4rXNv\n",
       "3FnUEVUXADHzWfZ+oWDxqIvZHL4TZI2iIEnwrlme4Q76JE80VPVOktx7L0r2WNBY6GuKy0f16eTD\n",
       "k0pVv/YX/6N9DAw0MhgF84Xdi87HRe0C5q1RlSWSq2IX4o3Ghs0jBzTFhExwPaaTXLKM+aJ8xiwv\n",
       "ZtNpFyX0G1VRR96w51Vxoh6rJo0tAAAAe0GeOkUVLDv/ADpkae4707b/GYrkKNHtYsAM+fWE8/1V\n",
       "Vx1TmFXE5n8178PdM+nSKrFnF+ifXAhcmfnpIPX9Okavz7CyXXM7yXgUOF00pAmog18KjhsXSJQr\n",
       "vYkVi78frQL0J7jfsc5QaeuN5Lw1NBuVz1mchqCcbdGT5QAAAGgBnll0Q38AVA75Nq73Pu8SGJe/\n",
       "7dBav+FrFkcEtoPrVwAOnsRW2hZcI4xCfgqHhcZe/9wSbPMcEyBfLPr3TwHQzooAYOp8HymBJ2Hx\n",
       "QL88q6BS6P36PCXCCrpGWi8tu1L7tKYnuOUFbAAAAGkBnltqQ38AVB6E0CVe95BKSzpQFLKYUcc+\n",
       "tXDIsuTWA8FRCG6/ZtfZKrvPMldoqrOIEOfrvFlP18/6N9q26BOoy4TFs7IWlCBynjOlLCrYIhO9\n",
       "5qeFI5rtqeh+6JJmLofAfbfkAEeB9jEAAACAQZpASahBbJlMCH///qmWABIT3toB4JO2jQx3ZQEh\n",
       "Od3AdeN4+f5jDC2qoJ/VPq83weXsujjwKwQrV2V+uOO2oPx88Tr57de80RWiMGVpanch8XsDrSM5\n",
       "fHND/ThyUA6E6iqaA5GG9GUy1pdU0luivdu8EN1U5pCRho4t6vJ9p00AAADKQZ5+RRUsO/8AOmRp\n",
       "9+qT0kJ3Am23M0Z0HANEjH5vbL2gD+NcAbn8NbpPA/jv7VnPSnX/KpGaJqWqulS+1yly/efFtTaP\n",
       "+N/s8F3gIYWPTI+/XF96nh+8CFILyXKxppHW6GtTkp9bgKUFUMVuparFXGDzLGFDeMKBx38QNWSo\n",
       "aC4tDCzVDHc8LoC7C7G+tzupER48T8PpnpJrS9S/NLqvdAqCQsZI8KUMPyLgSXxNeMNx/hGbdYXl\n",
       "h0avogh3NOOl6+Cz8vfG47IniAAAAE4Bnp10Q38AVA75WVk1ksFLKYUcc+tW6eGXJrAeCTgS6Ud4\n",
       "T4Q7dsmqs4gMYXLSG/rATDNbItpzuTlR0X4mLVVm4ebDScfRucAJKCeUyIIAAABhAZ6fakN/AFQe\n",
       "hP4DB8mHYDqOqM6XIXeVcUoMMIKjbwmCaliGu+Fl1jxCWnuTjoK6Bm+9TlgAyuSyJRR9Q3KSs8c5\n",
       "UarDc4yiqWKUwh+ogb3OJ+8HpD9OBI8cOz7f8LyYEQAAAIdBmoJJqEFsmUwUTDf//qeEACLfBB8J\n",
       "57G//WBmHtrMdckODZ8z/6NAB2Xl1dGMbrqGs0Sk3BnY5quGO4tOA6u/ke8Ot3OuvTSJS5LjbM4d\n",
       "++PG70O8AOjIVSOHpt+6U4+kOx4EQF9rI5YkKejWaQcLm2RovA7SYXLoFdJ9yyVSkCJrxW0bF2cA\n",
       "AABTAZ6hakN/AFQmCD8Bg+TDsB1HVGdLkLvKuKUC/WJQAORPB5hLfbnTeEDR5TWXHWMQ/M4nA9F2\n",
       "e6ShfKuqhQATanNhZGgVBJfRik6mgGKL0B44h4EAAAe6bW9vdgAAAGxtdmhkAAAAAAAAAAAAAAAA\n",
       "AAAD6AAAJqwAAQAAAQAAAAAAAAAAAAAAAAEAAAAAAAAAAAAAAAAAAAABAAAAAAAAAAAAAAAAAABA\n",
       "AAAAAAAAAAAAAAAAAAAAAAAAAAAAAAAAAAAAAAAAAgAABuR0cmFrAAAAXHRraGQAAAADAAAAAAAA\n",
       "AAAAAAABAAAAAAAAJqwAAAAAAAAAAAAAAAAAAAAAAAEAAAAAAAAAAAAAAAAAAAABAAAAAAAAAAAA\n",
       "AAAAAABAAAAAAbAAAAEgAAAAAAAkZWR0cwAAABxlbHN0AAAAAAAAAAEAACasAAAIAAABAAAAAAZc\n",
       "bWRpYQAAACBtZGhkAAAAAAAAAAAAAAAAAAAoAAABjABVxAAAAAAALWhkbHIAAAAAAAAAAHZpZGUA\n",
       "AAAAAAAAAAAAAABWaWRlb0hhbmRsZXIAAAAGB21pbmYAAAAUdm1oZAAAAAEAAAAAAAAAAAAAACRk\n",
       "aW5mAAAAHGRyZWYAAAAAAAAAAQAAAAx1cmwgAAAAAQAABcdzdGJsAAAAs3N0c2QAAAAAAAAAAQAA\n",
       "AKNhdmMxAAAAAAAAAAEAAAAAAAAAAAAAAAAAAAAAAbABIABIAAAASAAAAAAAAAABAAAAAAAAAAAA\n",
       "AAAAAAAAAAAAAAAAAAAAAAAAAAAAAAAAGP//AAAAMWF2Y0MBZAAV/+EAGGdkABWs2UGwloQAAAMA\n",
       "BAAAAwBQPFi2WAEABmjr48siwAAAABx1dWlka2hA8l8kT8W6OaUbzwMj8wAAAAAAAAAYc3R0cwAA\n",
       "AAAAAAABAAAAYwAABAAAAAAUc3RzcwAAAAAAAAABAAAAAQAAAxBjdHRzAAAAAAAAAGAAAAABAAAI\n",
       "AAAAAAEAAAwAAAAAAQAABAAAAAABAAAIAAAAAAEAAAwAAAAAAQAABAAAAAABAAAUAAAAAAEAAAgA\n",
       "AAAAAQAAAAAAAAABAAAEAAAAAAEAABQAAAAAAQAACAAAAAABAAAAAAAAAAEAAAQAAAAAAQAADAAA\n",
       "AAABAAAEAAAAAAEAABQAAAAAAQAACAAAAAABAAAAAAAAAAEAAAQAAAAAAQAAFAAAAAABAAAIAAAA\n",
       "AAEAAAAAAAAAAQAABAAAAAABAAAUAAAAAAEAAAgAAAAAAQAAAAAAAAABAAAEAAAAAAEAABAAAAAA\n",
       "AgAABAAAAAABAAAUAAAAAAEAAAgAAAAAAQAAAAAAAAABAAAEAAAAAAEAABQAAAAAAQAACAAAAAAB\n",
       "AAAAAAAAAAEAAAQAAAAAAQAAFAAAAAABAAAIAAAAAAEAAAAAAAAAAQAABAAAAAABAAAIAAAAAAEA\n",
       "ABQAAAAAAQAACAAAAAABAAAAAAAAAAEAAAQAAAAAAQAACAAAAAABAAAMAAAAAAEAAAQAAAAAAQAA\n",
       "EAAAAAACAAAEAAAAAAEAABQAAAAAAQAACAAAAAABAAAAAAAAAAEAAAQAAAAAAQAAFAAAAAABAAAI\n",
       "AAAAAAEAAAAAAAAAAQAABAAAAAABAAAMAAAAAAEAAAQAAAAAAQAADAAAAAABAAAEAAAAAAEAABQA\n",
       "AAAAAQAACAAAAAABAAAAAAAAAAEAAAQAAAAAAQAAEAAAAAACAAAEAAAAAAEAABQAAAAAAQAACAAA\n",
       "AAABAAAAAAAAAAEAAAQAAAAAAQAAFAAAAAABAAAIAAAAAAEAAAAAAAAAAQAABAAAAAABAAAUAAAA\n",
       "AAEAAAgAAAAAAQAAAAAAAAABAAAEAAAAAAEAABQAAAAAAQAACAAAAAABAAAAAAAAAAEAAAQAAAAA\n",
       "AQAAFAAAAAABAAAIAAAAAAEAAAAAAAAAAQAABAAAAAABAAAUAAAAAAEAAAgAAAAAAQAAAAAAAAAB\n",
       "AAAEAAAAAAEAAAwAAAAAAQAABAAAAAAcc3RzYwAAAAAAAAABAAAAAQAAAGMAAAABAAABoHN0c3oA\n",
       "AAAAAAAAAAAAAGMAAA59AAACfAAAAIsAAADOAAAAzQAAALEAAAE8AAAAmAAAAFsAAACIAAAA1wAA\n",
       "AFUAAAB1AAAAXQAAATUAAACkAAABngAAANEAAACBAAAAegAAAIsAAAC4AAAAlQAAAE4AAABxAAAA\n",
       "uQAAAGsAAACNAAAAvAAAAGgAAADiAAAAtgAAAHkAAACNAAAAtAAAAQ8AAACpAAAAlwAAAGMAAAD8\n",
       "AAAASQAAAIEAAACNAAAA5wAAAQIAAACBAAAAbwAAAGUAAACYAAABLAAAAJQAAADKAAAAtwAAAGwA\n",
       "AABsAAAArQAAAGoAAACCAAABLgAAANsAAACDAAAAvgAAANkAAACMAAAA9wAAAJEAAAFHAAAA1gAA\n",
       "AMgAAADkAAAA4QAAAIIAAABmAAABIAAAAKIAAABaAAAAXwAAAPUAAAFYAAAAdgAAAHsAAADFAAAA\n",
       "jwAAAHsAAAC6AAABCQAAAJkAAACoAAAAZQAAAO0AAAB/AAAAbAAAAG0AAACEAAAAzgAAAFIAAABl\n",
       "AAAAiwAAAFcAAAAUc3RjbwAAAAAAAAABAAAALAAAAGJ1ZHRhAAAAWm1ldGEAAAAAAAAAIWhkbHIA\n",
       "AAAAAAAAAG1kaXJhcHBsAAAAAAAAAAAAAAAALWlsc3QAAAAlqXRvbwAAAB1kYXRhAAAAAQAAAABM\n",
       "YXZmNTcuODMuMTAw\n",
       "\">\n",
       "  Your browser does not support the video tag.\n",
       "</video>"
      ],
      "text/plain": [
       "<IPython.core.display.HTML object>"
      ]
     },
     "execution_count": 57,
     "metadata": {},
     "output_type": "execute_result"
    },
    {
     "data": {
      "image/png": "[encoded data removed]",
      "text/plain": [
       "<matplotlib.figure.Figure at 0x7faf9a52c668>"
      ]
     },
     "metadata": {},
     "output_type": "display_data"
    }
   ],
   "source": [
    "rewards_l = rewards_list\n",
    "vis_l = visualization_steps\n",
    "\n",
    "anim = create_system_animation(vis_l, sim_iterations)\n",
    "HTML(anim.to_html5_video())"
   ]
  },
  {
   "cell_type": "code",
   "execution_count": 58,
   "metadata": {},
   "outputs": [
    {
     "data": {
      "text/plain": [
       "-10"
      ]
     },
     "execution_count": 58,
     "metadata": {},
     "output_type": "execute_result"
    }
   ],
   "source": [
    "max(-np.inf,-10)"
   ]
  },
  {
   "cell_type": "code",
   "execution_count": 59,
   "metadata": {},
   "outputs": [
    {
     "ename": "KeyError",
     "evalue": "'0011011010010'",
     "output_type": "error",
     "traceback": [
      "\u001b[0;31m---------------------------------------------------------------------------\u001b[0m",
      "\u001b[0;31mKeyError\u001b[0m                                  Traceback (most recent call last)",
      "\u001b[0;32m<ipython-input-59-773aca355ce1>\u001b[0m in \u001b[0;36m<module>\u001b[0;34m()\u001b[0m\n\u001b[0;32m----> 1\u001b[0;31m \u001b[0mQ\u001b[0m\u001b[0;34m[\u001b[0m\u001b[0;34m'001101101'\u001b[0m\u001b[0;34m+\u001b[0m \u001b[0;34m'0010'\u001b[0m\u001b[0;34m]\u001b[0m\u001b[0;34m\u001b[0m\u001b[0m\n\u001b[0m",
      "\u001b[0;31mKeyError\u001b[0m: '0011011010010'"
     ]
    }
   ],
   "source": [
    "Q['001101101'+ '0010']\n"
   ]
  },
  {
   "cell_type": "code",
   "execution_count": null,
   "metadata": {},
   "outputs": [],
   "source": [
    "plt.plot([i for i in range(len(rewards_list))],rewards_list)\n",
    "plt.show()"
   ]
  },
  {
   "cell_type": "code",
   "execution_count": null,
   "metadata": {},
   "outputs": [],
   "source": [
    "Q\n"
   ]
  },
  {
   "cell_type": "code",
   "execution_count": null,
   "metadata": {
    "collapsed": true
   },
   "outputs": [],
   "source": [
    "a = -np.inf"
   ]
  },
  {
   "cell_type": "code",
   "execution_count": null,
   "metadata": {},
   "outputs": [],
   "source": [
    "a == -np.inf"
   ]
  },
  {
   "cell_type": "code",
   "execution_count": null,
   "metadata": {},
   "outputs": [],
   "source": [
    "len([key for key in list(Q) if key.startswith(s0)])"
   ]
  },
  {
   "cell_type": "code",
   "execution_count": null,
   "metadata": {
    "collapsed": true
   },
   "outputs": [],
   "source": []
  }
 ],
 "metadata": {
  "kernelspec": {
   "display_name": "Python 3",
   "language": "python",
   "name": "python3"
  },
  "language_info": {
   "codemirror_mode": {
    "name": "ipython",
    "version": 3
   },
   "file_extension": ".py",
   "mimetype": "text/x-python",
   "name": "python",
   "nbconvert_exporter": "python",
   "pygments_lexer": "ipython3",
   "version": "3.6.3"
  },
  "toc": {
   "nav_menu": {},
   "number_sections": true,
   "sideBar": true,
   "skip_h1_title": false,
   "title_cell": "Table of Contents",
   "title_sidebar": "Contents",
   "toc_cell": false,
   "toc_position": {},
   "toc_section_display": true,
   "toc_window_display": false
  }
 },
 "nbformat": 4,
 "nbformat_minor": 2
}
