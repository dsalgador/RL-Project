{
 "cells": [
  {
   "cell_type": "code",
   "execution_count": 1,
   "metadata": {
    "collapsed": true
   },
   "outputs": [],
   "source": [
    "import model\n",
    "import numpy as np\n",
    "import random\n",
    "from utils import simple_graph\n",
    "import tank\n",
    "import truck\n",
    "\n",
    "\n",
    "import matplotlib.pyplot as plt\n",
    "from matplotlib import animation, rc\n",
    "from IPython.display import HTML"
   ]
  },
  {
   "cell_type": "code",
   "execution_count": 2,
   "metadata": {
    "collapsed": true
   },
   "outputs": [],
   "source": [
    "# Tanks' information\n",
    "n = 5 \n",
    "tank_ids = list(range(1,n+1))\n",
    "tank_max_loads =  np.array([100., 100., 200., 300., 400.])\n",
    "tank_current_loads =  np.array([50., 60., 120., 150., 300.])\n",
    "tank_consumption_rates =  np.array([10.] * n)\n",
    "\n",
    "n_discrete_load_levels = np.array([5,5,10,10,10])\n",
    "\n",
    "# Trucks' information\n",
    "k = 2\n",
    "truck_ids = list(range(k))\n",
    "truck_max_loads = np.array([20., 50.])\n",
    "truck_current_loads = truck_max_loads.copy()\n",
    "truck_current_positions =  np.array([0] * k)\n",
    "#truck_fractions_deliverable =  np.array([1.] * k) # we for now we only allow to deliver all the content of the truck\n",
    "truck_fractions_deliverable =  np.array([ np.array([0.5, 1.]), \n",
    "                                          np.array([0.5, 1.])\n",
    "                                        ]) # we for now we only allow to deliver all the content of the truck\n",
    "n_discrete_load_levels_trucks = np.array([2,2])\n",
    "\n",
    "# System's information\n",
    "def simple_graph(n: int):    \n",
    "    A = np.zeros((n,n))\n",
    "    A[0,0:n] = 1\n",
    "    A = A.astype(int)\n",
    "    return(A)\n",
    "\n",
    "graph = simple_graph(n+1)\n",
    "tanks = [tank.Tank( tank_id, current_load, max_load, consumption_rate, n_lvls) \n",
    "         for  tank_id, current_load, max_load, consumption_rate, n_lvls in \n",
    "         zip( tank_ids, tank_current_loads, tank_max_loads, tank_consumption_rates, n_discrete_load_levels)]\n",
    "trucks = [truck.Truck( truck_id, current_load, max_load, current_position, load_fractions_deliverable, n_lvls) \n",
    "         for  truck_id, current_load, max_load, current_position, load_fractions_deliverable, n_lvls in \n",
    "         zip(truck_ids, truck_current_loads, truck_max_loads, truck_current_positions, \n",
    "             truck_fractions_deliverable, n_discrete_load_levels_trucks)]\n",
    "\n",
    "def simple_weights(n: int, w: float):    \n",
    "    W = np.full((n,n), np.inf)\n",
    "    W[0,:] = w\n",
    "    return(W)\n",
    "w =  np.array([0, 20., 10., 30., 50.5, 45.])\n",
    "\n",
    "weights_matrix = simple_weights(n+1, w)\n",
    "\n",
    "\n"
   ]
  },
  {
   "cell_type": "code",
   "execution_count": 3,
   "metadata": {
    "collapsed": true
   },
   "outputs": [],
   "source": [
    "toy_system = model.System(tanks = tanks, trucks = trucks, adjacency_matrix = graph, weights_matrix = weights_matrix)"
   ]
  },
  {
   "cell_type": "code",
   "execution_count": 4,
   "metadata": {},
   "outputs": [
    {
     "name": "stdout",
     "output_type": "stream",
     "text": [
      "self.trucks [<truck.Truck object at 0x7fcc6c648f98>, <truck.Truck object at 0x7fcc6c648fd0>]\n",
      "Final rewards:  -140.5\n",
      "self.trucks [<truck.Truck object at 0x7fcc6c648f98>, <truck.Truck object at 0x7fcc6c648fd0>]\n",
      "Final rewards:  -130.0\n",
      "self.trucks [<truck.Truck object at 0x7fcc6c648f98>, <truck.Truck object at 0x7fcc6c648fd0>]\n",
      "Final rewards:  -70.0\n",
      "self.trucks [<truck.Truck object at 0x7fcc6c648f98>, <truck.Truck object at 0x7fcc6c648fd0>]\n",
      "Final rewards:  -75.0\n",
      "self.trucks [<truck.Truck object at 0x7fcc6c648f98>, <truck.Truck object at 0x7fcc6c648fd0>]\n",
      "Final rewards:  -30.0\n",
      "self.trucks [<truck.Truck object at 0x7fcc6c648f98>, <truck.Truck object at 0x7fcc6c648fd0>]\n",
      "Final rewards:  -120.0\n",
      "self.trucks [<truck.Truck object at 0x7fcc6c648f98>, <truck.Truck object at 0x7fcc6c648fd0>]\n",
      "Final rewards:  -120.0\n",
      "self.trucks [<truck.Truck object at 0x7fcc6c648f98>, <truck.Truck object at 0x7fcc6c648fd0>]\n",
      "Final rewards:  -65.0\n",
      "self.trucks [<truck.Truck object at 0x7fcc6c648f98>, <truck.Truck object at 0x7fcc6c648fd0>]\n",
      "Final rewards:  -65.0\n",
      "self.trucks [<truck.Truck object at 0x7fcc6c648f98>, <truck.Truck object at 0x7fcc6c648fd0>]\n",
      "Final rewards:  -70.0\n",
      "self.trucks [<truck.Truck object at 0x7fcc6c648f98>, <truck.Truck object at 0x7fcc6c648fd0>]\n",
      "Final rewards:  -110.0\n",
      "self.trucks [<truck.Truck object at 0x7fcc6c648f98>, <truck.Truck object at 0x7fcc6c648fd0>]\n",
      "Final rewards:  -146.0\n",
      "self.trucks [<truck.Truck object at 0x7fcc6c648f98>, <truck.Truck object at 0x7fcc6c648fd0>]\n",
      "Final rewards:  -95.5\n",
      "self.trucks [<truck.Truck object at 0x7fcc6c648f98>, <truck.Truck object at 0x7fcc6c648fd0>]\n",
      "Final rewards:  -95.5\n",
      "self.trucks [<truck.Truck object at 0x7fcc6c648f98>, <truck.Truck object at 0x7fcc6c648fd0>]\n",
      "Final rewards:  -65.0\n",
      "self.trucks [<truck.Truck object at 0x7fcc6c648f98>, <truck.Truck object at 0x7fcc6c648fd0>]\n",
      "Final rewards:  -110.0\n",
      "self.trucks [<truck.Truck object at 0x7fcc6c648f98>, <truck.Truck object at 0x7fcc6c648fd0>]\n",
      "Final rewards:  -130.5\n",
      "self.trucks [<truck.Truck object at 0x7fcc6c648f98>, <truck.Truck object at 0x7fcc6c648fd0>]\n",
      "Final rewards:  -110.0\n",
      "self.trucks [<truck.Truck object at 0x7fcc6c648f98>, <truck.Truck object at 0x7fcc6c648fd0>]\n",
      "Final rewards:  -110.0\n",
      "self.trucks [<truck.Truck object at 0x7fcc6c648f98>, <truck.Truck object at 0x7fcc6c648fd0>]\n",
      "Final rewards:  -100.0\n",
      "self.trucks [<truck.Truck object at 0x7fcc6c648f98>, <truck.Truck object at 0x7fcc6c648fd0>]\n",
      "Final rewards:  -150.5\n",
      "self.trucks [<truck.Truck object at 0x7fcc6c648f98>, <truck.Truck object at 0x7fcc6c648fd0>]\n",
      "Final rewards:  -150.5\n",
      "self.trucks [<truck.Truck object at 0x7fcc6c648f98>, <truck.Truck object at 0x7fcc6c648fd0>]\n",
      "Final rewards:  -70.0\n",
      "self.trucks [<truck.Truck object at 0x7fcc6c648f98>, <truck.Truck object at 0x7fcc6c648fd0>]\n",
      "Final rewards:  -45.0\n",
      "self.trucks [<truck.Truck object at 0x7fcc6c648f98>, <truck.Truck object at 0x7fcc6c648fd0>]\n",
      "Final rewards:  -130.5\n",
      "self.trucks [<truck.Truck object at 0x7fcc6c648f98>, <truck.Truck object at 0x7fcc6c648fd0>]\n",
      "Final rewards:  -115.5\n",
      "self.trucks [<truck.Truck object at 0x7fcc6c648f98>, <truck.Truck object at 0x7fcc6c648fd0>]\n",
      "Final rewards:  -115.5\n",
      "self.trucks [<truck.Truck object at 0x7fcc6c648f98>, <truck.Truck object at 0x7fcc6c648fd0>]\n",
      "Final rewards:  -80.5\n",
      "self.trucks [<truck.Truck object at 0x7fcc6c648f98>, <truck.Truck object at 0x7fcc6c648fd0>]\n",
      "Final rewards:  -80.0\n",
      "self.trucks [<truck.Truck object at 0x7fcc6c648f98>, <truck.Truck object at 0x7fcc6c648fd0>]\n",
      "Final rewards:  -95.5\n",
      "self.trucks [<truck.Truck object at 0x7fcc6c648f98>, <truck.Truck object at 0x7fcc6c648fd0>]\n",
      "Final rewards:  -80.5\n",
      "self.trucks [<truck.Truck object at 0x7fcc6c648f98>, <truck.Truck object at 0x7fcc6c648fd0>]\n",
      "Final rewards:  -55.0\n",
      "self.trucks [<truck.Truck object at 0x7fcc6c648f98>, <truck.Truck object at 0x7fcc6c648fd0>]\n",
      "Final rewards:  -105.5\n",
      "self.trucks [<truck.Truck object at 0x7fcc6c648f98>, <truck.Truck object at 0x7fcc6c648fd0>]\n",
      "Final rewards:  -110.0\n",
      "self.trucks [<truck.Truck object at 0x7fcc6c648f98>, <truck.Truck object at 0x7fcc6c648fd0>]\n",
      "Final rewards:  -105.5\n",
      "self.trucks [<truck.Truck object at 0x7fcc6c648f98>, <truck.Truck object at 0x7fcc6c648fd0>]\n",
      "Final rewards:  -100.0\n",
      "self.trucks [<truck.Truck object at 0x7fcc6c648f98>, <truck.Truck object at 0x7fcc6c648fd0>]\n",
      "Final rewards:  -85.5\n",
      "self.trucks [<truck.Truck object at 0x7fcc6c648f98>, <truck.Truck object at 0x7fcc6c648fd0>]\n",
      "Final rewards:  -inf\n",
      "self.trucks [<truck.Truck object at 0x7fcc6c648f98>, <truck.Truck object at 0x7fcc6c648fd0>]\n",
      "Final rewards:  -100.0\n",
      "self.trucks [<truck.Truck object at 0x7fcc6c648f98>, <truck.Truck object at 0x7fcc6c648fd0>]\n",
      "Final rewards:  -inf\n",
      "self.trucks [<truck.Truck object at 0x7fcc6c648f98>, <truck.Truck object at 0x7fcc6c648fd0>]\n",
      "Final rewards:  -inf\n",
      "self.trucks [<truck.Truck object at 0x7fcc6c648f98>, <truck.Truck object at 0x7fcc6c648fd0>]\n",
      "Final rewards:  -120.0\n",
      "self.trucks [<truck.Truck object at 0x7fcc6c648f98>, <truck.Truck object at 0x7fcc6c648fd0>]\n",
      "Final rewards:  -136.0\n",
      "self.trucks [<truck.Truck object at 0x7fcc6c648f98>, <truck.Truck object at 0x7fcc6c648fd0>]\n",
      "Final rewards:  -65.0\n",
      "self.trucks [<truck.Truck object at 0x7fcc6c648f98>, <truck.Truck object at 0x7fcc6c648fd0>]\n",
      "Final rewards:  -inf\n",
      "self.trucks [<truck.Truck object at 0x7fcc6c648f98>, <truck.Truck object at 0x7fcc6c648fd0>]\n",
      "Final rewards:  -inf\n",
      "self.trucks [<truck.Truck object at 0x7fcc6c648f98>, <truck.Truck object at 0x7fcc6c648fd0>]\n",
      "Final rewards:  -inf\n",
      "self.trucks [<truck.Truck object at 0x7fcc6c648f98>, <truck.Truck object at 0x7fcc6c648fd0>]\n",
      "Final rewards:  -inf\n",
      "self.trucks [<truck.Truck object at 0x7fcc6c648f98>, <truck.Truck object at 0x7fcc6c648fd0>]\n",
      "Final rewards:  -inf\n",
      "self.trucks [<truck.Truck object at 0x7fcc6c648f98>, <truck.Truck object at 0x7fcc6c648fd0>]\n",
      "Final rewards:  -inf\n"
     ]
    },
    {
     "data": {
      "image/png": "[encoded data removed]",
      "text/plain": [
       "<matplotlib.figure.Figure at 0x7fcc6c648390>"
      ]
     },
     "metadata": {},
     "output_type": "display_data"
    }
   ],
   "source": [
    "# Simulation\n",
    "%matplotlib inline\n",
    "\n",
    "seed = None \n",
    "\n",
    "iterations = 50\n",
    "visualization_steps = []\n",
    "rewards_list = []\n",
    "\n",
    "for it in range(iterations):\n",
    "    rewards = toy_system.random_action(seed);\n",
    "    rewards_list.append(rewards)\n",
    "    #print(toy_system.state())\n",
    "    print(\"Final rewards: \", rewards);\n",
    "    toy_system.reset_trucks_positions();\n",
    "    visualization_steps.append(toy_system.visualize());"
   ]
  },
  {
   "cell_type": "code",
   "execution_count": 5,
   "metadata": {},
   "outputs": [
    {
     "data": {
      "text/plain": [
       "[40.0, 50.0, 110.0, 150.0, 340.0]"
      ]
     },
     "execution_count": 5,
     "metadata": {},
     "output_type": "execute_result"
    }
   ],
   "source": [
    "visualization_steps[0][2]"
   ]
  },
  {
   "cell_type": "code",
   "execution_count": 6,
   "metadata": {},
   "outputs": [
    {
     "data": {
      "text/plain": [
       "array([1, 2, 3, 4, 5])"
      ]
     },
     "execution_count": 6,
     "metadata": {},
     "output_type": "execute_result"
    }
   ],
   "source": [
    "visualization_steps[0][0]+1"
   ]
  },
  {
   "cell_type": "code",
   "execution_count": 7,
   "metadata": {
    "collapsed": true
   },
   "outputs": [],
   "source": [
    "visualization_steps;"
   ]
  },
  {
   "cell_type": "code",
   "execution_count": null,
   "metadata": {
    "collapsed": true
   },
   "outputs": [],
   "source": []
  },
  {
   "cell_type": "code",
   "execution_count": 8,
   "metadata": {},
   "outputs": [
    {
     "data": {
      "text/html": [
       "<video width=\"432\" height=\"288\" controls autoplay>\n",
       "  <source type=\"video/mp4\" src=\"data:video/mp4;base64,AAAAHGZ0eXBNNFYgAAACAGlzb21pc28yYXZjMQAAAAhmcmVlAAAssW1kYXQAAAKuBgX//6rcRem9\n",
       "5tlIt5Ys2CDZI+7veDI2NCAtIGNvcmUgMTUyIHIyODU0IGU5YTU5MDMgLSBILjI2NC9NUEVHLTQg\n",
       "QVZDIGNvZGVjIC0gQ29weWxlZnQgMjAwMy0yMDE3IC0gaHR0cDovL3d3dy52aWRlb2xhbi5vcmcv\n",
       "eDI2NC5odG1sIC0gb3B0aW9uczogY2FiYWM9MSByZWY9MyBkZWJsb2NrPTE6MDowIGFuYWx5c2U9\n",
       "MHgzOjB4MTEzIG1lPWhleCBzdWJtZT03IHBzeT0xIHBzeV9yZD0xLjAwOjAuMDAgbWl4ZWRfcmVm\n",
       "PTEgbWVfcmFuZ2U9MTYgY2hyb21hX21lPTEgdHJlbGxpcz0xIDh4OGRjdD0xIGNxbT0wIGRlYWR6\n",
       "b25lPTIxLDExIGZhc3RfcHNraXA9MSBjaHJvbWFfcXBfb2Zmc2V0PS0yIHRocmVhZHM9OSBsb29r\n",
       "YWhlYWRfdGhyZWFkcz0xIHNsaWNlZF90aHJlYWRzPTAgbnI9MCBkZWNpbWF0ZT0xIGludGVybGFj\n",
       "ZWQ9MCBibHVyYXlfY29tcGF0PTAgY29uc3RyYWluZWRfaW50cmE9MCBiZnJhbWVzPTMgYl9weXJh\n",
       "bWlkPTIgYl9hZGFwdD0xIGJfYmlhcz0wIGRpcmVjdD0xIHdlaWdodGI9MSBvcGVuX2dvcD0wIHdl\n",
       "aWdodHA9MiBrZXlpbnQ9MjUwIGtleWludF9taW49MTAgc2NlbmVjdXQ9NDAgaW50cmFfcmVmcmVz\n",
       "aD0wIHJjX2xvb2thaGVhZD00MCByYz1jcmYgbWJ0cmVlPTEgY3JmPTIzLjAgcWNvbXA9MC42MCBx\n",
       "cG1pbj0wIHFwbWF4PTY5IHFwc3RlcD00IGlwX3JhdGlvPTEuNDAgYXE9MToxLjAwAIAAAAvQZYiE\n",
       "ABH//veIHzLLafk613IR560urR9Q7kZxXqS9/iAAAAMAFpyZQ/thx05aw0AARbX/wWH/EBLod4Q+\n",
       "dEX5hVkiZFWhw4guhBIDt9yUTxsLJ774e8gT8VEGjMGlSAA508C9IAwN3ed798oncPAo5aVLV65U\n",
       "jE6L0v6H/sDF813+6f+VTOhVkJFh47c5ahiGQDdf8rdJ4pCSggpoPIMuRaLF6I/rL93nt8BmcL+j\n",
       "aUnNkaSud46QdR1DvV0mXkwbBvzReBw/X/r6Vx+KrRcWLheW+lzQyq25uZY9BxAPrSMa6tkT6Kyb\n",
       "WoLCeMVuy3PMncRQyjzbKN7HkDHZEZfmD4Dk07556eYKz6mwznY6XZGUaOW/Io1Z4T/b6/aQAZqE\n",
       "8u2DA1JF1F4r0MJBBQPXjuUcdnWbQ1y3jF2s4vAVZwv0pquLVSt8VT5qeIav/nZPeFRo7cG+LnH0\n",
       "FMAowjqqjvxFRgNmRjVSK1/JYkIfFtiW2D+5rsjubByZ8IgwP5vZNxNFU7j4QqWPxjUxXdLtxPJZ\n",
       "2E1UHO+xeCfuXW4/8+mOyxC3I8ICG/H0SWa2Yi6sQ/7y6u6XuMbxf9pib5g3ddCfpLIzoEi0JXxp\n",
       "1rRAba6+AbExDLpjUpr/EdAZv+9cuS7FruvhRxEuwpITDv/84jK0WX0ZsNru8SezClJbTDssCofR\n",
       "Xw7XcniD5LN2tmyHXzLdPK27MdTHrmcojMdTv49GeHbVC9ZpuZkCuopTkcz4Ap54eY1QwAyFhiCE\n",
       "7tT9apmGDaGOrOQXqxWCqy/DIaLkkftqw3IzTKce1CAQ2hg4j7Lei77UQvAro/rVRaC0Hfzf8Ld9\n",
       "Hr/708qODqwVb6656Ut0IqtMHwuqDMp7AB1sam/2tcvUjqxw/xHJ1xTPsh3HQJ4hQP4Qd3Zv2dJr\n",
       "qST15mblNmc7aPUMZ5T+8ZudaGm2+gzgQ7AdjwQzCMtInXZM1cCRoxOCMc6VkfkjNEu0jalCDRO3\n",
       "iwkyJvxUgNY655bI+A0NYX4e31L60e62rH3uheKGYrZ2qGCnFT0y/MMfDoM8dNG9riSvU6DOShow\n",
       "DdBCZIBYO3mjAax0WU/Z3VsP9xmw8Mltx89dJQEXeGsJoSnqggn8JF5GTocwoNNO1AqHFsCiSzFz\n",
       "50nteFTd1iWQ0uA6qZD4H3ania1TSCDvp7yPiylNKMHkmsUEnpDoWSMTYuWydsp8CrU75Cxyvnf6\n",
       "6Z/rPMJ7476mxOhAYPLL9blTuZJAoVTvQTPJaMizgeeHCdnx/8TBc0Rb7Jd8icCHLTXyRuCo+qWV\n",
       "IvTu6Idn4WLoaIm/xCmI0CYaiucHFabaugfN6tAEG19FGrjGwGjkUaJqWUJH3bUcMvQLo3oDEfgK\n",
       "b3K6wIildWerrB+aN3ABWky6HJMOyeQ3qnqVqAayxoLc5NER+qwbDfl4ZNi5gO6yeVxqUi0PirT5\n",
       "GAFRO9icnBmiyeBXMtT706EiD0XniXwtRrJja5ABm5JCKgOZKdrLkSxFRk9YBPrrz4VJ8FVD/Y2E\n",
       "nnQo0Lw6q+enImX/fhKUUxG5CVxIAAAe6wvD/tV3qXaVcMUTbHfVvv6goOJeBNi3JYT2XO7esPmi\n",
       "hybsVNkQTL4ni///tZfMoKAk8oAQ6JuT46lfIIVJe0xVRvLLgNop9+JXGBV2LOo1NZeubc08nEIw\n",
       "zzfoACe3tFRg8Vq/TzeYT9xr7VRtN/r+s0oBZYAMBeu/nZpPNYF9KuHRaNDNumJ5UbJ/ibOeJVG1\n",
       "mVXtlXr5QJiVQPR0bYEuE6oMZGuhPivWFnAh98Lit8gAbovZpJRf5CLrEwfwjmAAER6XumnWWNWG\n",
       "0yMsabrsBDSJEFImrgWVzBJTlBD3vwrxy2dfgGzsFZLqKw3H5GGWnYoFvJ/Pl9ujUPstgmK8RBw6\n",
       "YBbZy5fezWt5Urq9mgmWvlgB3/2zM3PYJRSTKvXw7+9Lmm/uabOZpE79wQsXSZqxwHyLt3PDMrVi\n",
       "zG+VA680ySH61ukZ1FjNmTOA7Zy2kcxCcsgR/4+peDb00inom0QDr7S+2p7dEe4Qc2qAG6oLDT9U\n",
       "2bHYVGJpZz1kRX/Zok8L6XcCeH7HZAO9VH8LlBXSFayEPIBkvdOrbn+C/afJ18B3y5q3aKs3Rxl5\n",
       "0shKN8jddl0GOLylO3VcHJbyTHZTMOXbbAgKXO5sce85FfK5AiZouJ4q7hDp+05QHHGBH00S3Z/u\n",
       "GK71dpn7gV7p+LM3SF1EG3rSFNZd2Utr2EVsosvTwKx6s5rHVxol+e45h1cbfTkfX/+FErldtmjr\n",
       "1agNLd90qd9lB2LjIIZknm7CCSiMN4d6QhApIuCLiL5DT0eOwTlc0Eh61rt/k3CLrJxCStJ0j+0X\n",
       "CxtnC+GIaYaPbMdBNCNHnf1wkABT/xnT8JvZwYVnA718LtAjGJsv1EGD4v1BbCvZRXomdaljM8Am\n",
       "ZXYnnIfIB60by3NRQXkYpm4FpLXhV+JLn85fjlyw84L8R/SgbvbiwQa3xQrZk50H5UXugOlgJH9d\n",
       "wCzWKvAQzv+L6HpyDug3YellQl5o9o18mgbVKG34aq+aYQ5f5dPo2xSbO5aEfIBSV9LIbAk9kNwK\n",
       "2jSUIphmciljOBsIqLnk1olEzyOIDPLrer/NKm9FWe4K3jHfoI6UjdEVQRFwhsfUNsyWlNRWtPfH\n",
       "Pcd/Ozvz5e5beCDuFoGiP+1TDq2BbCE98cgkrEmxZx9v4uwkDXv40FmKgTDtPBCrVvF4k3rspsIl\n",
       "8GUo6/GpCN92I/xRrnPrOdzcz1YHj1HA3N3/y2PwcDzEXeaiosuqm3tbtryF8MXoOhzkeiLBaG4V\n",
       "pAXTPuPguX9Kha6ui90Y+5eAOOu8wslm+K7jyTE7SVXiT2GRcYSf74bUhE+qBRB1VJGyfd02hxq+\n",
       "16fsccKl458bWfauhnHhm1Lu2/bD0ID9lMdM83jZr4Ob/OODWk9OUaD3ua1yNwjEzQlR0NjSOioC\n",
       "TrRPxOMDk+dZ01KU7CU81Amb4wFkKdUvPF3CLH1l9RFoskt3l35vz7/gI+5Ev6iv7P+DoN3VHYRQ\n",
       "UkP7waMdy2hbcVEFLKa4rd8PVNwEcgrFWcuu0HwtAbhGapbkYayWH1nzhhXATcZ4TLN9RuCo34tP\n",
       "TSl2Asth8o/7QMmsMPyI5WT8qYK/stS3DbH0olZoPRlsWEZQzPrzE7gjYFN0StOWaakjQUsoupGK\n",
       "dNVoVSQKX2kc/BeeATjFjymNdN8egAZNcOjkNU6kFhkOsZSAV4AGCW9nrLIlT2SyTFz9jFgHua7i\n",
       "gwJm4SxFh4j62A/jH2SsuyVGB7bw7QEAlsohntRfAGuuSkZhNdViGYZxcObsUIo2w6G6OR1cJPns\n",
       "5/XKco9xAPWf+B5wCVDWrsT66pcBTL4bRbsReAAa4nsxKfQc75bZZ1lMyVFBkoPry8DXv8gMOLDN\n",
       "rJ7qen34ODjhd4shtDFO8um7ZW6+W70Y4/SioDXEAXZ6NUH8eHsxCoAmu0pdgR3Ro6SlNIPmfquA\n",
       "OPHscKSoo4p5vG6KhP1zDsVuLVbcAfg215nbS7gdWQJusAetDAm8NXzSL1vguO8HW+HWp1+R/Hqf\n",
       "7TzPzoj3IdoKc1NNL8ph2caGYoUu4zJKZxk1V/mLI8ZXYpAVF21AdTsqPlLQsHcD6YvnjhgfDIZp\n",
       "ofqsWSFM+2Vu0pmUPdYfJkui4HzLz/51Jyy1NNBUDecU+X0WAuSCBvasdaA/+RRVUyGHTVaIra+E\n",
       "IMoElOsGjnWdK04qnZse0+3mud1tf/YsL/jNlEFqW1TBnzrDJAH1K55ylG74YrluLjVvwG7X1jb4\n",
       "ghqd8wz91ut42eq97LzSNXvas7474XJrmSyxzb00zC2jK5qoYXgtKxxUdI5D0w7KL9LM87zVNb42\n",
       "rRW2fXq5rSwy//9X8oyJmNS+Bo1KiQyUYVPLYiZdxJjPv7k2yvjordnR7cHkfMHv1qNEq25rRRiE\n",
       "kZRV3K/D/+U+HlnHD5cgcaIvP1EYMq7yR4bPB32tl8DwB8CZlt0h5zV3b2YE+kriDsTxAAADAJeB\n",
       "AAACQkGaJGxBH/61KoAShkPAA5Z89AxBesuXv9W9cmM/8vuz4OJFIFR9HXRPT/VKulHyUe3bGnkN\n",
       "qnnNOFIAKKw71/QL/igCrgiCf71qS4XibtzEWUw3v8tKO839k8mdxZn+ffv+7Z1CL7Dcvqtsk7sP\n",
       "h5hxc/B8bUcX9yxuqNgnUS2v6Gb9khLFgG2lYAAD3i14ZIwNr4pocBapHWR3a/xqvLa/YgYLa9gJ\n",
       "MQSn5gekkqE6+hRMKuagbAQsACz1cCCSS1EcCL2iOg1VU9CszIP71KNie/T5JoNFHqjSNkrdMJ8T\n",
       "5ryk/m43vat2M9Bln2CyGowC6DXL+u6e9JVXNtNzf0AUss16eDH56qGU+dXasxRLW5+JzBtkhxFi\n",
       "W4ELhBtl60amJL3MDehkZTFqO9B8IMV+dEUmZVhMvvAI10CZZwmBTzDYJBtkg1+Jtq+Kom0LG5aa\n",
       "A4S72YcCZqKgT4DZ9XQ2De2KLvbbFVv5YTKWPHhnLHGKnZx4wecfqRcIzGZ7l5jEA3B6yykG2t0e\n",
       "3Pd6pIMiyw5qtrxsXy0yOv/96mmIUjT6slT45R3SnDUAS+ds8wcwd0tJVv0CRjOYQ27vqQUqTpWi\n",
       "FFTye1u90Uo/XeujGqDsCXWre64fcxC/PqXjnELx+msMM9TAFZNxldLrCbhjv/MIfMCG3ypcyQMe\n",
       "wZlkzu3llqoOset8RAgoofHaok7sEP6A0gIo8BM2OTt5n//LwJKRUeYaV8WxKxMscng3IlXEgMJN\n",
       "UvO/8VsW6BmGEnBQAAAAyUGeQniHfwBIJ11sAITpKhSOb7OiBayHkU7/Wt98kCOCe5Kf/QldYqpy\n",
       "iMBUdIElPAbPeJqzC9tsHfZdBNY5Y4dwUr3U9Di79ekZlBedej7pelWpVpkMi9ksrAX/YuSESX7O\n",
       "QT7VWnmwuBA9grSPbWjAsbKvRu3IpvS3YjXfkRfXXV2wFu/F/M0hlByoahLrUAWyqGXTfDWzw4dY\n",
       "IZms5Cm6uaqGi8DXB9IjrCLSAm2Eka6g8FQyC5aNWChzSznCKJoABhiDAzOORQAAAJMBnmF0Q38A\n",
       "ZrrTE3YsPQqybjjK0cQWgE7k9f8Wfn0D0WBOvYAOlUrZrzbtV1LUPAbYmY1fnMV2jxBijGhJz8Vb\n",
       "pJ24XODRmGscw9BIJ6VxjplfyICC6MnuHtMNtwBbGG1NxHhLG0Zl2CwclcrWqwdNsqi5WYNukaIi\n",
       "UwkHBzpwbx+E0ECIvkauZ79Ab2dfz85xO4AAAACLAZ5jakN/AGbLuT1pXN0GoBFdSzxagTzBcHQU\n",
       "zbScGyYvgUKbWhKUaXMxCuqF9PtceO+i8ttzTApuNoH3VOUoMeRk2V0oeEzNWDZ6hyJsB9KWgtDS\n",
       "ADReXuiUNsbQ6LF1DSMfiu5bZacy3wnAl+kbFoDQEY9BM2JMgOrYNPNl0t29twTFmyi6j3qAgQAA\n",
       "AJ5BmmhJqEFomUwII//+tSqAEoPdEAC+4wM7zJmqJUX/xSk9f97oe+PN96BY0q0Hfes48dOmgale\n",
       "/yeIa5owrWXD8PHxG74N6FmTsprEc4DAnuvs5vDOTPMfQPsLQuJigqdc/xHuoD1O6gtpW7uD5Y+w\n",
       "QJi3ahHf1wukqAADApheqN0UaoIdsNeXWJG9qqfB3r3/i0+ljoG4A1purw1HTQAAAKtBnoZFESw7\n",
       "/wBIHKdW+a5gsP06Me5abAH/v1T+fBqiSmJvfi+j+WX9/YUoCPT1UFhYSYpt+QUqQVmo7W2fplJ+\n",
       "QKV6IGpoWTHtOh5zYefZgfAquBX/x6c+xiUplXBEufmvzm+p/Nv9JDBEE/H1/MwJxjc0VwJBv2IA\n",
       "kdOB39d8yreofB92vvEZITDRk+oAvP4gKW/2OEUeH9cfEMVtmLZTWBxRZh7K8AfGDcEAAAC7AZ6l\n",
       "dEN/AGa6zAO9j4p3QflraurMmFgBKvyXSDSPZU6605wDCO2I+rht843dICASo+iIGaEKfn3NSewF\n",
       "4i3X0WZHaNNs1vbsN8YLJV4Q7awsJQ19fPtE8UW08o3EBocxwTImSWk8H8X/jhq+wIGo/VAWLkRO\n",
       "riKqRhOetPBGoiveg/8cWZpHVQcK18EsgfqrN1b480d+TOGIC9RLSg+gurglUw6bIBfX2elrKZek\n",
       "1Gdg+fB1zIVJt/RLwQAAAJ0BnqdqQ38AVB6HLszLUA4nG6aNYcCRumNTBp5cWHACKCn+AFw2BidG\n",
       "0BnzeBeqHWK4RT3Tz1x2bs9Bolm3SxwEgyfvBBpJ8UW08o1vAnwWO9D3ziCaUnjOY2pr1NhX2dmC\n",
       "9UBYuRE8yM1DZYsgRU5eHNsFD4ACkieR6wPZPpT98/h7L/NQQRaclxJ3ipiE4Wx3Y9RQF4avGXm4\n",
       "l++IAAAAuEGarEmoQWyZTAgj//61KoACU/BqAH11PxzvowIDgYZtrjnHSoMcNxHkyz/FuJNxsA/V\n",
       "lbUog0ZSYY0En2i0ir2ZXezTJRHySitrIv9j2WNFT2pH9nGGrC7qjogDZWAb8pXGuEsR9NtxRGst\n",
       "BzLq1z/ZYKrj6mcNaF2qyqDHfgZWcphTcrodo1+GhZwz+kM+k4ahwBHtAdfZGSUK1KtrSzs4vk/U\n",
       "nK84QFUQMueX0i8RjSF2WaS8sqgAAAB+QZ7KRRUsO/8AOmRqbgLUpe2UM1CWSxbN3wivgJmp+hgA\n",
       "IyXl5xlXHfOT/wrWWu2sAAJcaOQ8nq0eLlZn3z2GSKI1inhW4besK5ESRrb0+PnEG9iKL4xLmyI2\n",
       "UxT7zvPUzfsAHR7h7NTQ94hzjN1jmULPCj2vG7c7OkYq8HSfAAAAlQGe6XRDfwBUDvytFwpcWY8j\n",
       "IBNTAaNDQSNbfxQI3/maOXc2F3utQXKvJMsdinM2oBlsgeUHL0OdrXBtcmjjMb9/Ij0txhxJZLoU\n",
       "FOwxfnRxEEA02Hfo01c8JX3OnOKVmRfSZSgQ+a9wiQR65lfzQxPf1fdWIHhd1wzdl7rja0QrLymq\n",
       "k3o3PfAyFizf0hgCnwKiZyqgAAAAmgGe62pDfwBUHocuzNKgHH0kUcc+tW4SchKhtbVngLNTawcD\n",
       "wm+90XmrYOHVHnTa/MAk13OgAvtAlyzf22i84PRccx7LssLoUA1GbMk0EYJ+YSsz5Ql4qoleENCi\n",
       "K/DqtBhViPfJEOpi2R4onvy1IZdJmJHztEfZrSCkr7wBd/zEZR3+9EsyN45KZq0tel/5g4F0t4fT\n",
       "AYizzCQAAADfQZrwSahBbJlMCCH//qpVAASl4t+jn6GDqahgsbx/iTTCDso6eSh32QgRFv1ne0cw\n",
       "b/nR7R0beLo0333GFNR9w3j59m9wETKiZovrvmGCMphHC3We6Nrb/rEHI8cUBzs898hL2U3Pr7g9\n",
       "IZz6cumtLfw2zuEVsPtsHOUIXuKz2xAwD4LX2iRnOKXC6yW3OJf+Cz4l0hKkXKXFBtQgsAVhTeJP\n",
       "WZwBif+TlfoKeuNbdxwkGeUYkzT0mpswh9kXamxcwWD9iNLXkm15EhmrYvFNJfFm5lcp+6o3DQFP\n",
       "rUxD0wAAAJFBnw5FFSw7/wA6ZGpuAtSuhbCXUdzwz1eeqcBQa+KnyM0K3mpIpHwKAEERpVtADTm6\n",
       "rvtxVDSy93MpZEjKxOEY4V75fsL5CHNLZRSwMbcTVNBHwqjaJlRfA+8cCNO0cqrgej9kHLr6YwAm\n",
       "dBIYNHetD8+XRomw0Gx6h5bKPTK4z0byRZSH1S28av49nT9P5TUNAAAAZwGfLXRDfwBUDvytFxtK\n",
       "C8pIo459atwk5CVDa2rPAFcjyhf3Srx46XXY0Vtb+tKoswEXG3oPpwAbzcyqC2C3x4PjzwCM+98D\n",
       "dtn7cAA2Sgpvpe3NxE8ORa3d9NA+31jRMARbiBgOoW8AAAB/AZ8vakN/AFQehy7M0u6H5s4j/VhV\n",
       "2+o7dP4pwgrzn0qVfXZtmhgAdbR9oPwmSfYEHWOJLNOXlgFBL/14UwUj9jQFkn0C25Cc195GhTXq\n",
       "+LWcMPD/LnoXfW4n3RAIixbLazOFHN6qWkiDiW/Ummr2QrtEctT+jh9hxZQRK99w5gAAALtBmzFJ\n",
       "qEFsmUwII//+tSqAAlB50GIM0zeyBSwAS7l8P5kRHhj046Z30FkYxVSlcAya+UrFuGwqpb/PxRqA\n",
       "BfMHB471KK53tX5peRnB+0QL0j/ay1HLZJlkPbtm2NTJZF/7mWKN5a2xPu9FKWbRanoKWbq9+Nkz\n",
       "IpV+BLSBjmrlumbAPxUahTBId4vjbZ1GTV6/Us2yKfLgCGTj/f/3VVl2sLDxlX1T4XDTEzJiAM4M\n",
       "PGddZxQrly3qCBGzAAAAk0GbVUnhClJlMCCP//61KoAEoepEqbLQwC1hZRkrzGh3KQKqJ3wBzymj\n",
       "1ArkSZLtK1y/Y6RvuH//bAlpgs4up0G8dME5Lq+xwvWWt7GOnXgmwv7QodrAyggoyglYHKvDsiUR\n",
       "S//X9Bf3IKWXwAAkTf294xVE2/7Oc41XP28U9CB4j8u3ln9r+kKfE6cldFrsFbJxHwAAAHNBn3NF\n",
       "NEw7/wA6Yhx0g7aLlH5SMEsli2bvhFfATNT9C/rrpWQa1v2oPUS9QPoHCUxhx0B5QgfWs4wtU/Kp\n",
       "Eq4bfkALKTb0Q7uKXgRof1yfQ+dr7mQ5i3XyJQJvkduZ7Hpewys6sERjIbQUeQf/byhQ4zOAAAAA\n",
       "2QGfknRDfwBUDvytFxtKDGKWikVhW1UGcoSyBonE429qJUp6aOFyABdnuciWoRptgurJqSX+h3X+\n",
       "I96xiG22sVsSiZIJT9B2CjIbAB0ZqeU9Exew5eDCRZY7O7Cg+4uZmcMpHsNjWZiSLf+wPgXT3T2e\n",
       "ncGfrwE9sj/PT9pTx8W4/E8YI+dI/uY5GP0dJir7NNh7zkQAivgxfYQd0OHimze0WEiRutFztw4G\n",
       "L5bcFNcxcmGloxz0WZRlq/iugSD5m54N32XOVG8iMucGfJI704Uoa0dnTD/wYsAAAAB8AZ+UakN/\n",
       "AFQehy7M4jWXxzgA49tmhYaaWeNsDELgUOhuOjEPabrBWvJQJ+6YhYAMuHxnfSczvyers/s1RDrF\n",
       "1W2eHQDltuOdmloq90RWYimAvj7Xg7eEYKrR+GNEL4OJk7tEMHxPktHD4i+xSka/r8XpxwgukgxX\n",
       "oaTfMQAAAL1Bm5hJqEFomUwII//+tSqACUaQnb9LXmADVylRsP3+eflUbAqrC+Aod0zHauX9mXBu\n",
       "3HvHR404LrXM48giX3EXKQ73a+Q/9bsEktaMaMTQE49yQZN6pf1w0FRmIxQjL6tnxI9lw4pGqF52\n",
       "IBw40nbnELWmal/L0oTun3BN2Ag0JMzlmxEdaZwdg6+jKFOkQ5xbHs85HtmiJZ9bb7MyDZUnRboH\n",
       "nSInoCHISTxdDJG14zYZsUslqfVtV46qyoAAAACKQZ+2RREsN/8AVCYJWAJ8mz7gFVs9jJS0UisK\n",
       "2qgzo3HIGicTjb2okqf4QcUJCjACYGpw5YxvEUyVPVbjNwrAyGvQpW6qilJ8aNAztSN2XcLTmODP\n",
       "ChWg4x+U8NleCJJOxdTJzgU2bau7LiLQndhRAGIiF5eEyY66cC3PwjZIutbgEDZGHAQs6LYhAAAA\n",
       "dwGf12pDfwBUHocuyX5arFwV7V7KLuRYAgJYz3uRByQZIFLMTUCLvjWN0CxyXDcK6of4FzWkuIef\n",
       "DKj+Ucwt/m49kH9iCM3ydFzhzh7mTaEgC9XPtC6NT0wLNREqtCGajbyzgpXsNOPmUtb6/i+3jsoe\n",
       "bOwD3afxAAAAqEGb20moQWyZTAgj//61KoAJQ9U8ObGuSw3sq5MF0CWdJFerLfgqSxYyQWbuLCF+\n",
       "DRJ4AEgukUV1NDqk+gNNQhUw/NV6DK6ISWrWPnqjltG9QtK/wsQqGnSy8V5b4oGbgtpd/7LnkQQm\n",
       "jFxhcOy/9WZb3zGyPyAGdu94HFd0A0QpLaBayWG+YUox22J/7cGaJkSV3lHd+LyEVWBSb14f8Wcj\n",
       "eEGO4e896AAAAF5Bn/lFFSw3/wBUJglYAkn/S3Srj5ke/sNSyANSWatcAXNsYt3zT32qwgt/w0CB\n",
       "3yYoEb/zHB3amsB4FnQmx3vdAFaZFzdVZxAAf3LbPwSmQkEVuI4U+ag2RflkK9yBAAAAfgGeGmpD\n",
       "fwBUHocuyScdoAAHWcb9hZBB7RwxnBb3amHr/+rZyOmr/Mv8fWPxxt5wPcPG+O3v7+/v2zDbTdS+\n",
       "cc6iwh7RUacTOcnBul8/UAwMJUukc9HFQEJPy/p2KUvwu5UXPMvLXWvt7cmU8/yHhZJKmiygCBfF\n",
       "SAXdi8iCgAAAAFVBmh9JqEFsmUwIIf/+qlUAEpbg9TGNaADYuztFYt41py5SL+PoAKSdWK+N/uw+\n",
       "emhp8RcMgv5nyGvuWBDrYv6EgcOEHA36QBLlpNbTcZufNa/sf0nBAAAAeUGePUUVLDv/ADpkam4C\n",
       "g3C3AAcSkvnNPXC+h+6GYbMZp7V/2SHtVL1geI0VZWzI5aMue0HncRwcmgtR+nyMV0hUQ9w2K7wh\n",
       "9QpzBluEVjvKiJm22aRg36jc58VnhNKpyHZ102n/ut9Zz1y9XjTQ49wZpPGNNtjB+WEAAACGAZ5c\n",
       "dEN/AFQO/IvEG7jnVXw4bnT7rOw0jwjHZ7QAXeAp7PgmG8qXThD4Sr1zVHatQMKNB0lzMI/IqCiV\n",
       "EJ9ApzyYcHQQeS4PG4Vm5e0YnKfMPcHJ6YiOkMUYbKRZJhQu5s9Zq+696rpDTDCjgusH8TwJ3Wky\n",
       "Uqg1hVjZKP1aZMWBgeLMFJAAAACFAZ5eakN/AFQehxY9quIGaWKcmAKurUGE6ThD8nPTNrONk/p/\n",
       "ZbJM/iukStySkoH59xAe7xx1q1OrDvqLRdQQ0T+PqXHf/Eam4wo/zS12jSly/2GF5SrN7V50uBdM\n",
       "qA7tEM79FTLWI4Y3M9/+lZPCbYwxIwEoG64C83okahJkaSk5tVEIzAAAANpBmkJJqEFsmUwIIf/+\n",
       "qlUAEoWXYFfEKzUUZfAAH1NwoMLakzrWm4lDnsnDrbzx6B7cvn3+9Ti/g/htvT5TIiTg0jE+v1GQ\n",
       "lziayRTZBk/v5Gf4iVhzfcakyAs69CdbXli//3Z5sfpxZX++IxXRHcxZVse8MqchZPwOfOcCjpU8\n",
       "jKIlBdrZojI4Zo9joa2SXMrEvkrZ3LsKy+O92GzSRG58mAXXOda+ojDAKeKxIDAuVDV/dye/j8ow\n",
       "5Qly17oizysreMXPnG3DRCm+XOAalHhLT/KyzFb2O3ZmQQAAAEdBnmBFFSw3/wBUJglLHuA547xU\n",
       "GQu1M9ZLTvENnBWdYDzT1t2m1vbq0vY74AC1/EiTwLTs41zWSsLTfoGxbMTMzbBsaed5dQAAAIEB\n",
       "noFqQ38AVB6HLsoV8GbSlH3Onzyb9WEADRteES+Kh8DhbMYnpkPlcNJ1IqNpy2ZqQeEDZY1epT8V\n",
       "eAPx0J6FqOznkJX3C201jNQTbPwcVMtQ4XAMAzZ6SCrbmMsYku17sgClXCGSVOsBWuyquM6zE45M\n",
       "gAvIZQY+oVSIqbml5vcAAABLQZqDSahBbJlMCCH//qpVAAAtw8IgfUthOZC9APnu4FY7q9ep71hV\n",
       "KEEmLixxXU7dUjxfHgZAfgAFxY8jkxX4xPz8go2LVs7n/+mAAAAA5UGapUnhClJlMFFSwQ/+qlUA\n",
       "Ep+aAh1fXW6BAgWgBahuh59f+/z9pwH6+Arq4jqUGaS8pfvAacOYRgfyrCM5eGBuwD7UojrTRXFj\n",
       "y/v1hMkV1kPShnMSrEU+qpfvGhqZtyoFW/jh5dKY8PBpyc/mwL+d+YkRNDhebHdiWT3b680dyvga\n",
       "ZhGjHXdZSXAIi1Bn9X2yAp6npvRz8FpQY4yhASXnwVFB0hcPlwcWE/YcbexAAtIqGtFDGCHXfHhs\n",
       "+epeSeh9OZONO6dRft/GmxPbK9OIkmgn8fEVCx1hWGj7QBPNkAeEjQkAAACTAZ7EakN/ADOC4N1I\n",
       "BYAj0YKJvl5UC8qUyqkob3oEuSMoBJgjnzFdukfd/UwLEGPzutGTZ6yl684ssoWFsB61nRtVOIrj\n",
       "2FJG3DqZKn484O0IeB/yg2h/DulOQuMD+UQU43kQ+5EFxDQArku60mXC/MsChXwU3e6OMl8hoSmQ\n",
       "el23GX9amOYoOyFsH9YSf/UPJjZhAAAAyEGaxknhDomUwII//rUqgAAt6DnyygAJq2BfFRazR7YA\n",
       "NufiWtsflHJV8ir1SXz6ZVQ/bizmQkT2Wm1X6nIfeY9Rq8zXFpV+910L8K7JegA7z5uAdApAq7s2\n",
       "bAfvUhueKPIm5dimXBi605RkkIuzY30btIXfCmVpKWc5/+b2np/mYBip17zuVdzE9/0TWcidhJBb\n",
       "luZrxnH/6E8tZOhT0K8M8YQwIVV5ybPlPQy8QHjGdk6TNEQe5ZYmlJhePu4450HNGitfFOQhAAAA\n",
       "YkGa6knhDyZTAgh//qpVAAlCcopJEGZZ6GUY7u5Iuw1ixl9IU9GXe0QA12x/3AchnxVsxBSpiJP4\n",
       "AL/8zVf928b/1wGCQtGEOd4Ro2ddmsWmq/Cp2GCY6RtUAspMkwBLhZTxAAAA5EGfCEURPDv/ADnK\n",
       "QNS1r3jvkTSxKwA4z7mMo7W4jtcvz65DNH851W1HrWdgCOzQKu6ezcnDrrppHtkkpbSVOUMUb9ot\n",
       "/xbJ0foFzerQy8GOHw9K3vwpQ67Sw+vAiZLTvWGcmn+sfodNqgPzUzLgOPNvwi4Iwi3Q4XWwjP9l\n",
       "Dt3nbi9GulnDW2v3+GFdSmf4W08wFYPsJpZ9gROXkARUvABMLmtsSMQ3lsn9Sq0q0Wq8Wv2DswJw\n",
       "ldZzPdR410hlIhfZO7nSl78TKGDsZT6GbPj15Mc9tx5XhGFNzov+22g5QDmf2gAAAHgBnyd0Q38A\n",
       "VA78rRc/pmY8jF9HKc44OMkYEvssv2+KQAcchuLSrybZq7uhtK+y+ZOwaylOr46R78LZeeaVBul7\n",
       "6BaOZDgBcKDXJRMN9cJGBeyytJtlKpe8FgcKC+XUl5bTeQrhK/hbk4Hlozv4XEjoe+4erJKCDoAA\n",
       "AAB1AZ8pakN/AFQehy7JJ1fwpF5stKLWB0dTEP6ruO82zfuowicv2PLBoR+UkUcc+tW7bchKhtbV\n",
       "noOPahCIAwIALbvQcgVse6fEXZstNq7Ldn7g1WZBpUlXRN10Gz+YASR9voXKMrsKl/Pz2UhheLkn\n",
       "M3xVWLKBAAAAo0GbLkmoQWiZTAh///6plgAkDHghoHHDLD3qmWhId2LpljWJYJPp/qeiggEcMYZD\n",
       "p7Ca7FxpoYV78J17OYDwciADlh+dvdT9Ve/kMjNtOTiyj7utXTk1Ulptxbg1k0Bp+HSNPdNUMifo\n",
       "a1BGfsus15AgnLn+ZznTtZLjiq9zB0rULeVCizdNMfiw1vEkLiVqkOTdXffoOjBPR8gLPa/Pc0y5\n",
       "/IAAAABcQZ9MRREsO/8AOmRqbgKULaCjy8gDAj0hp8UB9kWu9fBVQ0UTGo1N632cFnp5OABrLKBh\n",
       "6alIgVz0Bx5w9PLUYOs0Y/YjsOxZSIX+IuNAPMszUDU7cMh3EnFGiogAAABlAZ9rdEN/AFQO/K0P\n",
       "7qxD9PvOpgCxQAlTqwGklK7tpJXaKRd4+du3brTOMVyxLLCTBMxv18/XRVvvqpIBahIfLcXKEYCI\n",
       "8INAhuZ1RG+Lzx+JyvCLN4dhR9DaTThvzSjEaj5xNskAAACCAZ9takN/AFQehy7KFWTwYkAKuwUT\n",
       "fLy+9HYTm4nJwWQNGIFv2HqQWOJYT0iB4neqXTrTteES+KhjxruxTTZ1obm0vp3QjKC++yNWn94v\n",
       "yd1r7hphtwEAAATCY3umP+bBm3wnjwLRaTmmBWmk7xDXhJTqnFgS+QIEgBs9KLVvNlVvgQAAAOdB\n",
       "m3BJqEFsmUwUTDf//qeEAI6f44wrhYAj0YKJvl5tpg4dfbibck3oEuSOOAOaAsf39eCI4vJybp2+\n",
       "bn61399VR25nlO7aWA51J1hD5fs8msoQH2Q/LChyy5XOyNIm4VyhDo8+zYP1wjeJJgec3NC0wiSr\n",
       "KfsUTgE3M+A54qCSowF1VS/Mmsp8nuOROzai47TnLzYRlsNws848tcJd6UBSHZu1Pg9wfHnCm5/w\n",
       "oChWPfRsy8AbNNXle8/H6DeqdS2FJZfp5H2Z7VmwJ2G9pPEZi8O7StHUGevKhMzJS2DO9uHtAL7D\n",
       "jxkAAACAAZ+PakN/AFQmCVgCfJs+4BVb9jUDD4A3CpTnvcAHOSfUpH/jE+G9pTxwZcpSAPoku3s0\n",
       "0bytIiSY+NyI3ISBaIUZLOzu7a1qj57xJK8SZQJWAlZ6+vE9kh+Gkh5RKDjIrk0yIKcH0OLyMdiw\n",
       "DVGiP+reU4XgTlo961lRraejSTgAAAVibW9vdgAAAGxtdmhkAAAAAAAAAAAAAAAAAAAD6AAAEyQA\n",
       "AQAAAQAAAAAAAAAAAAAAAAEAAAAAAAAAAAAAAAAAAAABAAAAAAAAAAAAAAAAAABAAAAAAAAAAAAA\n",
       "AAAAAAAAAAAAAAAAAAAAAAAAAAAAAgAABIx0cmFrAAAAXHRraGQAAAADAAAAAAAAAAAAAAABAAAA\n",
       "AAAAEyQAAAAAAAAAAAAAAAAAAAAAAAEAAAAAAAAAAAAAAAAAAAABAAAAAAAAAAAAAAAAAABAAAAA\n",
       "AbAAAAEgAAAAAAAkZWR0cwAAABxlbHN0AAAAAAAAAAEAABMkAAAIAAABAAAAAAQEbWRpYQAAACBt\n",
       "ZGhkAAAAAAAAAAAAAAAAAAAoAAAAxABVxAAAAAAALWhkbHIAAAAAAAAAAHZpZGUAAAAAAAAAAAAA\n",
       "AABWaWRlb0hhbmRsZXIAAAADr21pbmYAAAAUdm1oZAAAAAEAAAAAAAAAAAAAACRkaW5mAAAAHGRy\n",
       "ZWYAAAAAAAAAAQAAAAx1cmwgAAAAAQAAA29zdGJsAAAAs3N0c2QAAAAAAAAAAQAAAKNhdmMxAAAA\n",
       "AAAAAAEAAAAAAAAAAAAAAAAAAAAAAbABIABIAAAASAAAAAAAAAABAAAAAAAAAAAAAAAAAAAAAAAA\n",
       "AAAAAAAAAAAAAAAAAAAAGP//AAAAMWF2Y0MBZAAV/+EAGGdkABWs2UGwloQAAAMABAAAAwBQPFi2\n",
       "WAEABmjr48siwAAAABx1dWlka2hA8l8kT8W6OaUbzwMj8wAAAAAAAAAYc3R0cwAAAAAAAAABAAAA\n",
       "MQAABAAAAAAUc3RzcwAAAAAAAAABAAAAAQAAAYBjdHRzAAAAAAAAAC4AAAABAAAIAAAAAAEAABQA\n",
       "AAAAAQAACAAAAAABAAAAAAAAAAEAAAQAAAAAAQAAFAAAAAABAAAIAAAAAAEAAAAAAAAAAQAABAAA\n",
       "AAABAAAUAAAAAAEAAAgAAAAAAQAAAAAAAAABAAAEAAAAAAEAABQAAAAAAQAACAAAAAABAAAAAAAA\n",
       "AAEAAAQAAAAAAQAACAAAAAABAAAUAAAAAAEAAAgAAAAAAQAAAAAAAAABAAAEAAAAAAEAABAAAAAA\n",
       "AgAABAAAAAABAAAQAAAAAAIAAAQAAAAAAQAAFAAAAAABAAAIAAAAAAEAAAAAAAAAAQAABAAAAAAB\n",
       "AAAQAAAAAAIAAAQAAAAAAQAACAAAAAABAAAMAAAAAAEAAAQAAAAAAQAACAAAAAABAAAUAAAAAAEA\n",
       "AAgAAAAAAQAAAAAAAAABAAAEAAAAAAEAABQAAAAAAQAACAAAAAABAAAAAAAAAAEAAAQAAAAAAQAA\n",
       "DAAAAAABAAAEAAAAABxzdHNjAAAAAAAAAAEAAAABAAAAMQAAAAEAAADYc3RzegAAAAAAAAAAAAAA\n",
       "MQAADoYAAAJGAAAAzQAAAJcAAACPAAAAogAAAK8AAAC/AAAAoQAAALwAAACCAAAAmQAAAJ4AAADj\n",
       "AAAAlQAAAGsAAACDAAAAvwAAAJcAAAB3AAAA3QAAAIAAAADBAAAAjgAAAHsAAACsAAAAYgAAAIIA\n",
       "AABZAAAAfQAAAIoAAACJAAAA3gAAAEsAAACFAAAATwAAAOkAAACXAAAAzAAAAGYAAADoAAAAfAAA\n",
       "AHkAAACnAAAAYAAAAGkAAACGAAAA6wAAAIQAAAAUc3RjbwAAAAAAAAABAAAALAAAAGJ1ZHRhAAAA\n",
       "Wm1ldGEAAAAAAAAAIWhkbHIAAAAAAAAAAG1kaXJhcHBsAAAAAAAAAAAAAAAALWlsc3QAAAAlqXRv\n",
       "bwAAAB1kYXRhAAAAAQAAAABMYXZmNTcuODMuMTAw\n",
       "\">\n",
       "  Your browser does not support the video tag.\n",
       "</video>"
      ],
      "text/plain": [
       "<IPython.core.display.HTML object>"
      ]
     },
     "execution_count": 8,
     "metadata": {},
     "output_type": "execute_result"
    },
    {
     "data": {
      "image/png": "[encoded data removed]",
      "text/plain": [
       "<matplotlib.figure.Figure at 0x7fcc646c54e0>"
      ]
     },
     "metadata": {},
     "output_type": "display_data"
    }
   ],
   "source": [
    "def barlist(n): \n",
    "    return visualization_steps[n][2]\n",
    "\n",
    "fig=plt.figure()\n",
    "\n",
    "N=iterations #Number of frames\n",
    "x=visualization_steps[0][0]+1\n",
    "\n",
    "plt.bar(x,visualization_steps[0][1], color = 'black')\n",
    "barcollection = plt.bar(x,barlist(0), color = 'blue')\n",
    "\n",
    "def animate(i):\n",
    "    y=barlist(i+1)\n",
    "    for i, b in enumerate(barcollection):\n",
    "        b.set_height(y[i])\n",
    "\n",
    "anim=animation.FuncAnimation(fig,animate,repeat=False,blit=False,frames=N-1,\n",
    "                             interval=100)\n",
    "HTML(anim.to_html5_video())\n",
    "#anim.save('mymovie.mp4',writer=animation.FFMpegWriter(fps=10))\n",
    "#plt.show()"
   ]
  },
  {
   "cell_type": "code",
   "execution_count": 9,
   "metadata": {
    "collapsed": true
   },
   "outputs": [],
   "source": [
    "#toy_system.visualize_step(visualization_steps[2]);"
   ]
  },
  {
   "cell_type": "code",
   "execution_count": 10,
   "metadata": {},
   "outputs": [
    {
     "data": {
      "text/plain": [
       "[<matplotlib.lines.Line2D at 0x7fcc6422dd30>]"
      ]
     },
     "execution_count": 10,
     "metadata": {},
     "output_type": "execute_result"
    },
    {
     "data": {
      "image/png": "[encoded data removed]",
      "text/plain": [
       "<matplotlib.figure.Figure at 0x7fcc6ca585c0>"
      ]
     },
     "metadata": {},
     "output_type": "display_data"
    }
   ],
   "source": [
    "%matplotlib inline\n",
    "plt.plot(range(iterations),rewards_list)"
   ]
  },
  {
   "cell_type": "code",
   "execution_count": 11,
   "metadata": {},
   "outputs": [
    {
     "data": {
      "text/plain": [
       "3600000"
      ]
     },
     "execution_count": 11,
     "metadata": {},
     "output_type": "execute_result"
    }
   ],
   "source": [
    "toy_system.n_states()"
   ]
  },
  {
   "cell_type": "code",
   "execution_count": 12,
   "metadata": {},
   "outputs": [
    {
     "data": {
      "text/plain": [
       "3600000"
      ]
     },
     "execution_count": 12,
     "metadata": {},
     "output_type": "execute_result"
    }
   ],
   "source": [
    "n_s = ((n+1)**k)\n",
    "a = np.prod(n_discrete_load_levels)\n",
    "b = np.prod(n_discrete_load_levels_trucks)\n",
    "n_s = n_s *a *b\n",
    "n_s"
   ]
  },
  {
   "cell_type": "code",
   "execution_count": null,
   "metadata": {
    "collapsed": true
   },
   "outputs": [],
   "source": []
  },
  {
   "cell_type": "code",
   "execution_count": null,
   "metadata": {
    "collapsed": true
   },
   "outputs": [],
   "source": []
  },
  {
   "cell_type": "code",
   "execution_count": null,
   "metadata": {
    "collapsed": true
   },
   "outputs": [],
   "source": []
  },
  {
   "cell_type": "code",
   "execution_count": null,
   "metadata": {
    "collapsed": true
   },
   "outputs": [],
   "source": [
    "\n"
   ]
  },
  {
   "cell_type": "code",
   "execution_count": null,
   "metadata": {
    "collapsed": true
   },
   "outputs": [],
   "source": []
  },
  {
   "cell_type": "code",
   "execution_count": null,
   "metadata": {
    "collapsed": true
   },
   "outputs": [],
   "source": []
  },
  {
   "cell_type": "code",
   "execution_count": null,
   "metadata": {
    "collapsed": true
   },
   "outputs": [],
   "source": []
  },
  {
   "cell_type": "markdown",
   "metadata": {},
   "source": [
    "# Small system to apply Q-learning algorithm\n"
   ]
  },
  {
   "cell_type": "code",
   "execution_count": 13,
   "metadata": {},
   "outputs": [
    {
     "data": {
      "text/plain": [
       "46080"
      ]
     },
     "execution_count": 13,
     "metadata": {},
     "output_type": "execute_result"
    }
   ],
   "source": [
    "# Tanks' information\n",
    "n = 5 \n",
    "tank_ids = list(range(1,n+1))\n",
    "tank_max_loads =  np.array([100., 100., 200., 300., 400.])\n",
    "tank_current_loads =  np.array([50., 60., 120., 150., 300.])\n",
    "tank_consumption_rates =  np.array([10.] * n)\n",
    "\n",
    "n_discrete_load_levels = np.array([2,2,2,2,2])\n",
    "\n",
    "# Trucks' information\n",
    "k = 2\n",
    "truck_ids = list(range(k))\n",
    "truck_max_loads = np.array([20., 50.])\n",
    "truck_current_loads = truck_max_loads.copy()\n",
    "truck_current_positions =  np.array([0] * k)\n",
    "#truck_fractions_deliverable =  np.array([1.] * k) # we for now we only allow to deliver all the content of the truck\n",
    "truck_fractions_deliverable =  np.array([ np.array([0.5, 1.]), \n",
    "                                          np.array([0.5, 1.])\n",
    "                                        ]) # we for now we only allow to deliver all the content of the truck\n",
    "n_discrete_load_levels_trucks = np.array([2,2])\n",
    "\n",
    "# System's information\n",
    "def simple_graph(n: int):    \n",
    "    A = np.zeros((n,n))\n",
    "    A[0,0:n] = 1\n",
    "    A = A.astype(int)\n",
    "    return(A)\n",
    "\n",
    "graph = simple_graph(n+1)\n",
    "tanks = [tank.Tank( tank_id, current_load, max_load, consumption_rate, n_lvls) \n",
    "         for  tank_id, current_load, max_load, consumption_rate, n_lvls in \n",
    "         zip( tank_ids, tank_current_loads, tank_max_loads, tank_consumption_rates, n_discrete_load_levels)]\n",
    "trucks = [truck.Truck( truck_id, current_load, max_load, current_position, load_fractions_deliverable, n_lvls) \n",
    "         for  truck_id, current_load, max_load, current_position, load_fractions_deliverable, n_lvls in \n",
    "         zip(truck_ids, truck_current_loads, truck_max_loads, truck_current_positions, \n",
    "             truck_fractions_deliverable, n_discrete_load_levels_trucks)]\n",
    "\n",
    "def simple_weights(n: int, w: float):    \n",
    "    W = np.full((n,n), np.inf)\n",
    "    W[0,:] = w\n",
    "    return(W)\n",
    "w =  np.array([0, 20., 10., 30., 50.5, 45.])\n",
    "\n",
    "weights_matrix = simple_weights(n+1, w)\n",
    "\n",
    "toy_system = model.System(tanks = tanks, trucks = trucks, adjacency_matrix = graph, weights_matrix = weights_matrix)\n",
    "\n",
    "a_s_dim = toy_system.states_dim * toy_system.actions_dim\n",
    "a_s_dim"
   ]
  },
  {
   "cell_type": "code",
   "execution_count": 14,
   "metadata": {},
   "outputs": [
    {
     "name": "stdout",
     "output_type": "stream",
     "text": [
      "self.trucks [<truck.Truck object at 0x7fcc641f0eb8>, <truck.Truck object at 0x7fcc641f0ef0>]\n",
      "Final rewards:  -110.0\n"
     ]
    },
    {
     "data": {
      "text/plain": [
       "[[1, 3], [0, 1]]"
      ]
     },
     "execution_count": 14,
     "metadata": {},
     "output_type": "execute_result"
    }
   ],
   "source": [
    "toy_system.discrete_state()\n",
    "\n",
    "\n",
    "\n",
    "rewards = toy_system.random_action(seed);\n",
    "rewards_list.append(rewards)\n",
    "#prnt(toy_system.state())\n",
    "print(\"Final rewards: \", rewards);\n",
    "toy_system.reset_trucks_positions();\n",
    "\n",
    "toy_system.da"
   ]
  },
  {
   "cell_type": "code",
   "execution_count": 15,
   "metadata": {},
   "outputs": [
    {
     "data": {
      "text/plain": [
       "[[0, 0], [1, 1], [0, 1, 1, 0, 1]]"
      ]
     },
     "execution_count": 15,
     "metadata": {},
     "output_type": "execute_result"
    }
   ],
   "source": [
    "toy_system.ds"
   ]
  },
  {
   "cell_type": "code",
   "execution_count": null,
   "metadata": {
    "collapsed": true
   },
   "outputs": [],
   "source": []
  },
  {
   "cell_type": "code",
   "execution_count": 16,
   "metadata": {
    "collapsed": true
   },
   "outputs": [],
   "source": [
    "a = [[3, 4], [1, 1], [0, 0, 1, 0, 1]]\n",
    "aa= ''.join(str(''.join(str(y) for y in x)) for x in a)"
   ]
  },
  {
   "cell_type": "code",
   "execution_count": 17,
   "metadata": {},
   "outputs": [
    {
     "name": "stdout",
     "output_type": "stream",
     "text": [
      "[[0, 0], [1, 1], [0, 1, 1, 0, 1]]\n",
      "[[1, 3], [0, 1]]\n"
     ]
    }
   ],
   "source": [
    "print(toy_system.ds)\n",
    "print(toy_system.da)"
   ]
  },
  {
   "cell_type": "code",
   "execution_count": 18,
   "metadata": {},
   "outputs": [
    {
     "data": {
      "text/plain": [
       "'0011011011301'"
      ]
     },
     "execution_count": 18,
     "metadata": {},
     "output_type": "execute_result"
    }
   ],
   "source": [
    "sa_new = toy_system.state_action_to_string()\n",
    "sa_new"
   ]
  },
  {
   "cell_type": "code",
   "execution_count": 19,
   "metadata": {
    "collapsed": true
   },
   "outputs": [],
   "source": [
    "new_dict = {}\n",
    "new_dict[sa_new] = {\"qval\": 1}"
   ]
  },
  {
   "cell_type": "code",
   "execution_count": 20,
   "metadata": {},
   "outputs": [
    {
     "data": {
      "text/plain": [
       "1"
      ]
     },
     "execution_count": 20,
     "metadata": {},
     "output_type": "execute_result"
    }
   ],
   "source": [
    "new_dict[sa_new]['qval']"
   ]
  },
  {
   "cell_type": "markdown",
   "metadata": {},
   "source": [
    "## Off-policy algorithm"
   ]
  },
  {
   "cell_type": "code",
   "execution_count": 21,
   "metadata": {
    "collapsed": true
   },
   "outputs": [],
   "source": [
    "learning_rate0 = 0.05\n",
    "learning_rate_decay = 0.1\n",
    "n_iterations = 2\n",
    "discount_rate = 0.95\n",
    "\n",
    "toy_system = model.System(tanks = tanks, trucks = trucks, adjacency_matrix = graph, weights_matrix = weights_matrix)\n",
    "\n",
    "Q = {}\n",
    "\n",
    "def is_key(dic, key):\n",
    "    if key in dic:\n",
    "        return(True)\n",
    "    else: return(False)\n",
    "\n",
    "is_key(new_dict, sa_new)\n",
    "\n",
    "state_length = 2*k + n"
   ]
  },
  {
   "cell_type": "code",
   "execution_count": 22,
   "metadata": {
    "collapsed": true
   },
   "outputs": [],
   "source": [
    "import pickle\n",
    "\n",
    "def save_obj(obj, name ):\n",
    "    with open('obj/'+ name + '.pkl', 'wb') as f:\n",
    "        pickle.dump(obj, f, pickle.HIGHEST_PROTOCOL)\n",
    "\n",
    "def load_obj(name ):\n",
    "    with open('obj/' + name + '.pkl', 'rb') as f:\n",
    "        return pickle.load(f)"
   ]
  },
  {
   "cell_type": "code",
   "execution_count": 23,
   "metadata": {},
   "outputs": [
    {
     "name": "stdout",
     "output_type": "stream",
     "text": [
      "System state before,  [[0, 0], [1, 1], [0, 1, 1, 1, 1]]\n",
      "self.trucks [<truck.Truck object at 0x7fcc641f0eb8>, <truck.Truck object at 0x7fcc641f0ef0>]\n",
      "System state after,  [[0, 0], [1, 1], [0, 1, 1, 1, 1]]\n",
      "System action after,  [[2, 1], [1, 0]]\n",
      "sa current,  0011011112110\n",
      "System state before,  [[0, 0], [1, 1], [0, 1, 1, 1, 1]]\n",
      "self.trucks [<truck.Truck object at 0x7fcc641f0eb8>, <truck.Truck object at 0x7fcc641f0ef0>]\n",
      "System state after,  [[0, 0], [1, 1], [0, 1, 1, 1, 1]]\n",
      "System action after,  [[3, 0], [1, 0]]\n",
      "sa current,  0011011113010\n"
     ]
    }
   ],
   "source": [
    "# \"Train zone\". Q-values are being converging to the optimal, theoretically\n",
    "verbose = True\n",
    "\n",
    "for iteration in range(n_iterations):\n",
    "    toy_system.update_state() \n",
    "    \n",
    "    if verbose: print(\"System state before, \", toy_system.ds)\n",
    "    \n",
    "    reward = toy_system.random_action()\n",
    "    sa_current = toy_system.state_action_to_string()\n",
    "    \n",
    "    if is_key(Q, sa_current) == False:\n",
    "        Q[sa_current] = 0\n",
    "        \n",
    "    learning_rate = learning_rate0 / (1+iteration*learning_rate_decay)\n",
    "    \n",
    "    Q_max = max([Q[key] for key in Q.keys() if key.startswith(sa_current[0:state_length])])\n",
    "    \n",
    "    Q[sa_current] = ( (1-learning_rate) * Q[sa_current] \n",
    "                     + learning_rate* (reward + discount_rate * Q_max)\n",
    "                    )\n",
    "    if verbose:\n",
    "        print(\"System state after, \", toy_system.ds)\n",
    "        print(\"System action after, \", toy_system.da)\n",
    "        print(\"sa current, \", sa_current)\n",
    "        \n",
    "    toy_system.reset_trucks_positions();\n",
    "    toy_system.reset_trucks_loads()\n",
    "\n",
    "\n",
    "    \n",
    "save_obj(Q, \"Q-dict\")   \n"
   ]
  },
  {
   "cell_type": "code",
   "execution_count": 24,
   "metadata": {},
   "outputs": [
    {
     "name": "stdout",
     "output_type": "stream",
     "text": [
      "dict_keys(['0011011112110', '0011011113010'])\n"
     ]
    },
    {
     "data": {
      "text/plain": [
       "[[3, 0], [1, 0]]"
      ]
     },
     "execution_count": 24,
     "metadata": {},
     "output_type": "execute_result"
    }
   ],
   "source": [
    "# Optimal policy using the Q values trained previously:\n",
    "Q = load_obj(\"Q-dict\")\n",
    "    \n",
    "print(Q.keys())\n",
    "\n",
    "toy_system.ds\n",
    "toy_system.da"
   ]
  },
  {
   "cell_type": "code",
   "execution_count": 25,
   "metadata": {
    "collapsed": true
   },
   "outputs": [],
   "source": [
    "\n",
    "\n",
    "new_keys = new_dict.keys()"
   ]
  },
  {
   "cell_type": "code",
   "execution_count": 26,
   "metadata": {},
   "outputs": [],
   "source": [
    "#[Q[key] for key in new_keys if key.startswith(sa_new[0:2])]"
   ]
  },
  {
   "cell_type": "code",
   "execution_count": 27,
   "metadata": {},
   "outputs": [
    {
     "data": {
      "text/plain": [
       "[[0, 0], [1, 1], [0, 1, 1, 1, 1]]"
      ]
     },
     "execution_count": 27,
     "metadata": {},
     "output_type": "execute_result"
    }
   ],
   "source": [
    "toy_system.ds"
   ]
  },
  {
   "cell_type": "code",
   "execution_count": 28,
   "metadata": {},
   "outputs": [
    {
     "data": {
      "text/plain": [
       "[[3, 0], [1, 0]]"
      ]
     },
     "execution_count": 28,
     "metadata": {},
     "output_type": "execute_result"
    }
   ],
   "source": [
    "toy_system.da"
   ]
  },
  {
   "cell_type": "code",
   "execution_count": 29,
   "metadata": {},
   "outputs": [
    {
     "data": {
      "text/plain": [
       "3"
      ]
     },
     "execution_count": 29,
     "metadata": {},
     "output_type": "execute_result"
    }
   ],
   "source": [
    "max([1,2,3])"
   ]
  },
  {
   "cell_type": "code",
   "execution_count": 30,
   "metadata": {},
   "outputs": [
    {
     "data": {
      "text/plain": [
       "[1, 2, 3]"
      ]
     },
     "execution_count": 30,
     "metadata": {},
     "output_type": "execute_result"
    }
   ],
   "source": [
    "[1,2,3][0:3]"
   ]
  },
  {
   "cell_type": "code",
   "execution_count": 31,
   "metadata": {},
   "outputs": [],
   "source": [
    "#Q['3311-1-1']"
   ]
  },
  {
   "cell_type": "code",
   "execution_count": 32,
   "metadata": {
    "collapsed": true
   },
   "outputs": [],
   "source": [
    "test_toy_system = model.System(tanks = tanks, trucks = trucks, adjacency_matrix = graph, weights_matrix = weights_matrix)\n"
   ]
  },
  {
   "cell_type": "markdown",
   "metadata": {},
   "source": [
    "### To do\n",
    "\n",
    "1. Función que permita aplicar una acción al sistema usando el código de números enteros (como en las keys de los dicts)\n",
    "\n",
    "2. Hacer una simulación que vaya aplicando, en cada estado, la accion con mayor Q-value en el diccionario Q.\n",
    "\n",
    "3. Visualizar como evoluciona el sistema con la optimal policy estimada con alguna random"
   ]
  },
  {
   "cell_type": "code",
   "execution_count": 33,
   "metadata": {},
   "outputs": [
    {
     "data": {
      "text/plain": [
       "5"
      ]
     },
     "execution_count": 33,
     "metadata": {},
     "output_type": "execute_result"
    }
   ],
   "source": [
    "test_toy_system.n"
   ]
  },
  {
   "cell_type": "code",
   "execution_count": 34,
   "metadata": {
    "collapsed": true
   },
   "outputs": [],
   "source": [
    "a = '1234'"
   ]
  },
  {
   "cell_type": "code",
   "execution_count": 35,
   "metadata": {},
   "outputs": [
    {
     "name": "stdout",
     "output_type": "stream",
     "text": [
      "1\n",
      "2\n",
      "3\n",
      "4\n"
     ]
    }
   ],
   "source": [
    "for element in a: \n",
    "    print(element)"
   ]
  },
  {
   "cell_type": "code",
   "execution_count": 36,
   "metadata": {},
   "outputs": [
    {
     "data": {
      "text/plain": [
       "'12'"
      ]
     },
     "execution_count": 36,
     "metadata": {},
     "output_type": "execute_result"
    }
   ],
   "source": [
    "a[0:2]"
   ]
  },
  {
   "cell_type": "markdown",
   "metadata": {},
   "source": [
    "### Testing deterministic_action function from System class"
   ]
  },
  {
   "cell_type": "code",
   "execution_count": 37,
   "metadata": {},
   "outputs": [
    {
     "data": {
      "text/plain": [
       "[[0, 0], [1, 1], [0, 1, 1, 1, 1]]"
      ]
     },
     "execution_count": 37,
     "metadata": {},
     "output_type": "execute_result"
    }
   ],
   "source": [
    "test_toy_system = model.System(tanks = tanks, trucks = trucks, adjacency_matrix = graph, weights_matrix = weights_matrix)\n",
    "test_toy_system.ds"
   ]
  },
  {
   "cell_type": "code",
   "execution_count": 38,
   "metadata": {
    "collapsed": true
   },
   "outputs": [],
   "source": [
    "# Test example:\n",
    "# System state before,  [[0, 0], [1, 1], [0, 0, 1, 0, 1]]\n",
    "# System state after,  [[0, 0], [1, 1], [0, 0, 1, 0, 1]]\n",
    "# System action after,  [[3, 0], [0, 1]]\n",
    "# sa current,  0011001013001\n",
    "\n",
    "s0 = '001100101'\n",
    "a0 = '3001'"
   ]
  },
  {
   "cell_type": "code",
   "execution_count": 39,
   "metadata": {},
   "outputs": [
    {
     "data": {
      "text/plain": [
       "1"
      ]
     },
     "execution_count": 39,
     "metadata": {},
     "output_type": "execute_result"
    }
   ],
   "source": [
    "int('1')"
   ]
  },
  {
   "cell_type": "code",
   "execution_count": 40,
   "metadata": {},
   "outputs": [
    {
     "data": {
      "text/plain": [
       "[[0, 0], [1, 1], [0, 0, 1, 0, 1]]"
      ]
     },
     "execution_count": 40,
     "metadata": {},
     "output_type": "execute_result"
    }
   ],
   "source": [
    "test_toy_system.set_discrete_state(s0)\n",
    "test_toy_system.ds"
   ]
  },
  {
   "cell_type": "code",
   "execution_count": 44,
   "metadata": {},
   "outputs": [
    {
     "data": {
      "text/plain": [
       "-inf"
      ]
     },
     "execution_count": 44,
     "metadata": {},
     "output_type": "execute_result"
    }
   ],
   "source": [
    "test_toy_system.deterministic_action(a0)"
   ]
  },
  {
   "cell_type": "code",
   "execution_count": 45,
   "metadata": {
    "collapsed": true
   },
   "outputs": [],
   "source": [
    "toy_system.update_state() \n"
   ]
  },
  {
   "cell_type": "code",
   "execution_count": 42,
   "metadata": {},
   "outputs": [
    {
     "data": {
      "text/plain": [
       "[[3, 0], [0, 1]]"
      ]
     },
     "execution_count": 42,
     "metadata": {},
     "output_type": "execute_result"
    }
   ],
   "source": [
    "test_toy_system.da"
   ]
  },
  {
   "cell_type": "code",
   "execution_count": 43,
   "metadata": {},
   "outputs": [
    {
     "data": {
      "text/plain": [
       "[[0, 0], [1, 1], [0, 0, 1, 0, 1]]"
      ]
     },
     "execution_count": 43,
     "metadata": {},
     "output_type": "execute_result"
    }
   ],
   "source": [
    "\n",
    "test_toy_system.ds"
   ]
  },
  {
   "cell_type": "code",
   "execution_count": null,
   "metadata": {
    "collapsed": true
   },
   "outputs": [],
   "source": []
  }
 ],
 "metadata": {
  "kernelspec": {
   "display_name": "Python 3",
   "language": "python",
   "name": "python3"
  },
  "language_info": {
   "codemirror_mode": {
    "name": "ipython",
    "version": 3
   },
   "file_extension": ".py",
   "mimetype": "text/x-python",
   "name": "python",
   "nbconvert_exporter": "python",
   "pygments_lexer": "ipython3",
   "version": "3.6.3"
  },
  "toc": {
   "nav_menu": {},
   "number_sections": true,
   "sideBar": true,
   "skip_h1_title": false,
   "title_cell": "Table of Contents",
   "title_sidebar": "Contents",
   "toc_cell": false,
   "toc_position": {},
   "toc_section_display": true,
   "toc_window_display": false
  }
 },
 "nbformat": 4,
 "nbformat_minor": 2
}
