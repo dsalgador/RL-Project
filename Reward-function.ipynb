{
 "cells": [
  {
   "cell_type": "code",
   "execution_count": 7,
   "metadata": {
    "collapsed": true
   },
   "outputs": [],
   "source": [
    "import numpy as np\n",
    "import matplotlib.pyplot as plt\n",
    "import matplotlib as mpl"
   ]
  },
  {
   "cell_type": "code",
   "execution_count": 10,
   "metadata": {},
   "outputs": [
    {
     "data": {
      "text/plain": [
       "[<matplotlib.lines.Line2D at 0x7ff532c41630>]"
      ]
     },
     "execution_count": 10,
     "metadata": {},
     "output_type": "execute_result"
    },
    {
     "data": {
      "image/png": "[encoded data removed]",
      "text/plain": [
       "<matplotlib.figure.Figure at 0x7ff532d8c320>"
      ]
     },
     "metadata": {},
     "output_type": "display_data"
    }
   ],
   "source": [
    "%matplotlib inline\n",
    "x = np.linspace(-10,10)\n",
    "f = np.piecewise(x, [x < 0, x >= 0], [lambda x: -x, lambda x: x])\n",
    "\n",
    "plt.plot(x,f)"
   ]
  },
  {
   "cell_type": "code",
   "execution_count": 138,
   "metadata": {},
   "outputs": [
    {
     "data": {
      "text/plain": [
       "[<matplotlib.lines.Line2D at 0x7ff530b536d8>]"
      ]
     },
     "execution_count": 138,
     "metadata": {},
     "output_type": "execute_result"
    },
    {
     "data": {
      "image/png": "[encoded data removed]",
      "text/plain": [
       "<matplotlib.figure.Figure at 0x7ff530b7d080>"
      ]
     },
     "metadata": {},
     "output_type": "display_data"
    }
   ],
   "source": [
    "x = np.linspace(0.16,5.95, 100)\n",
    "\n",
    "f1 = np.piecewise(x, [(x < 1) &  (x>0.01) ,(x>=1) & (x<5) ,(x >= 5) & (x<6)], [lambda x: -np.exp(1/((x)))-50, \n",
    "                                                                               0,\n",
    "                                                                        lambda x: -np.exp(-1/((x-6.1)))-50])\n",
    "plt.plot(x,f1)"
   ]
  },
  {
   "cell_type": "markdown",
   "metadata": {},
   "source": [
    "# Rewards for the tank's levels"
   ]
  },
  {
   "cell_type": "code",
   "execution_count": 208,
   "metadata": {
    "collapsed": true
   },
   "outputs": [],
   "source": [
    "#########\n",
    "\n",
    "b = 0.2\n",
    "c = 0.61\n",
    "e = 0.9\n",
    "\n",
    "p0 = 0.7\n",
    "\n",
    "M = 10\n",
    "P = 3\n",
    "\n",
    "######\n",
    "\n",
    "\n",
    "a = b/10\n",
    "f = 1-(1-e)/10\n",
    "d = p0*e+(1-p0)*c\n",
    "\n",
    "\n",
    "\n",
    "def str_line1(x):\n",
    "    m = 1\n",
    "    n = -c\n",
    "    return((m*x+n)/(c-b))\n",
    "\n",
    "def str_line2(x):\n",
    "    m = 1\n",
    "    n = -c\n",
    "    return(M*(m*x+n)/(d-c))\n",
    "\n",
    "def str_line3(x):\n",
    "    m = 1\n",
    "    n = -e\n",
    "    return(M*(m*x+n)/(d-e))\n",
    "\n",
    "def exp1(x):\n",
    "    A = 10**(-P/b * (1/a-1/b)**(-1))\n",
    "    l1 = P*(1/a-1/b)**(-1) * np.log(10)\n",
    "    return(-A*np.exp(l1/x))\n",
    "\n",
    "def exp2(x):\n",
    "    B = 10**(-P/(1-e) * (1/(1-f)-1/(1-e))**(-1))\n",
    "    l2= P*(1/(1-f)-1/(1-e))**(-1) * np.log(10)\n",
    "    return(-B * np.exp(l2/(1-x)) ) \n",
    "\n",
    "    "
   ]
  },
  {
   "cell_type": "code",
   "execution_count": 209,
   "metadata": {},
   "outputs": [
    {
     "data": {
      "text/plain": [
       "[<matplotlib.lines.Line2D at 0x7ff5307dccc0>]"
      ]
     },
     "execution_count": 209,
     "metadata": {},
     "output_type": "execute_result"
    },
    {
     "data": {
      "image/png": "[encoded data removed]",
      "text/plain": [
       "<matplotlib.figure.Figure at 0x7ff530841278>"
      ]
     },
     "metadata": {},
     "output_type": "display_data"
    }
   ],
   "source": [
    "x = np.linspace(0,1, 1000)\n",
    "conditions = [(x>=0) & (x < a),\n",
    "              (x>=a) & (x<b),\n",
    "              (x>=b) & (x<c),\n",
    "              (x>=c) & (x<d),\n",
    "              (x>=d) & (x<e),\n",
    "              (x>=e) & (x<f),\n",
    "              (x>f) & (x<=1)]\n",
    "\n",
    "functions = [-10**P,\n",
    "             lambda x: exp1(x),\n",
    "             lambda x: str_line1(x),\n",
    "             lambda x: str_line2(x),\n",
    "             lambda x: str_line3(x),\n",
    "             lambda x: exp2(x),\n",
    "             -10**P]\n",
    "R = np.piecewise(x,conditions , functions)\n",
    "plt.plot(x,R)"
   ]
  },
  {
   "cell_type": "code",
   "execution_count": 185,
   "metadata": {
    "collapsed": true
   },
   "outputs": [],
   "source": [
    "def R_levels(x, C_max):\n",
    "    if(x>C_max):\n",
    "        raise Exception(\"Load x is greater than C_max in R_levels.\")\n",
    "    x = x/C_max\n",
    "    \n",
    "    conditions = [(x>=0) & (x < a),\n",
    "              (x>=a) & (x<b),\n",
    "              (x>=b) & (x<c),\n",
    "              (x>=c) & (x<d),\n",
    "              (x>=d) & (x<e),\n",
    "              (x>=e) & (x<f),\n",
    "              (x>f) & (x<=1)]\n",
    "\n",
    "    functions = [-10**P,\n",
    "             lambda x: exp1(x),\n",
    "             lambda x: str_line1(x),\n",
    "             lambda x: str_line2(x),\n",
    "             lambda x: str_line3(x),\n",
    "             lambda x: exp2(x),\n",
    "             -10**P]\n",
    "    \n",
    "    return(np.piecewise(x,conditions, functions))"
   ]
  },
  {
   "cell_type": "code",
   "execution_count": 202,
   "metadata": {},
   "outputs": [
    {
     "data": {
      "text/plain": [
       "[<matplotlib.lines.Line2D at 0x7ff53089c048>]"
      ]
     },
     "execution_count": 202,
     "metadata": {},
     "output_type": "execute_result"
    },
    {
     "data": {
      "image/png": "[encoded data removed]",
      "text/plain": [
       "<matplotlib.figure.Figure at 0x7ff530ac5dd8>"
      ]
     },
     "metadata": {},
     "output_type": "display_data"
    }
   ],
   "source": [
    "x = np.linspace(60,90, 100)\n",
    "y = np.array([R_levels(i, 100) for i in x]) * 100.0\n",
    "plt.plot(x,y)"
   ]
  },
  {
   "cell_type": "markdown",
   "metadata": {},
   "source": [
    "# Rewards for the transport, and costful things"
   ]
  },
  {
   "cell_type": "code",
   "execution_count": 203,
   "metadata": {},
   "outputs": [],
   "source": [
    "t=6\n",
    "truck_size = 1  # 0 is small, 1 is big\n",
    "\n",
    "if truck_size == 0:\n",
    "    tf = 1.32 # transport factor\n",
    "else:\n",
    "    tf = 1\n",
    "\n",
    "if t%7 == 0:\n",
    "    hf = 1.25 # holidays factor\n",
    "else:\n",
    "    hf = 1\n",
    "    \n",
    "coeff = 0.0075 * 580/1000 * 11.86\n",
    "tcf = coeff * tf * hf  # truck cost factor\n",
    "w = np.array([60,150]) # distances from depot to tanks\n",
    "u = np.array([70,130]) # truck unload quantities"
   ]
  },
  {
   "cell_type": "code",
   "execution_count": 204,
   "metadata": {
    "collapsed": true
   },
   "outputs": [],
   "source": [
    "def R_transport(tcf, w, u):\n",
    "    return(np.sum(tcf * w * u))"
   ]
  },
  {
   "cell_type": "code",
   "execution_count": 205,
   "metadata": {},
   "outputs": [
    {
     "data": {
      "text/plain": [
       "1222.7066999999997"
      ]
     },
     "execution_count": 205,
     "metadata": {},
     "output_type": "execute_result"
    }
   ],
   "source": [
    "R_transport(tcf, w, u)"
   ]
  },
  {
   "cell_type": "code",
   "execution_count": null,
   "metadata": {},
   "outputs": [],
   "source": [
    "\n"
   ]
  },
  {
   "cell_type": "code",
   "execution_count": null,
   "metadata": {
    "collapsed": true
   },
   "outputs": [],
   "source": []
  }
 ],
 "metadata": {
  "kernelspec": {
   "display_name": "Python 3",
   "language": "python",
   "name": "python3"
  },
  "language_info": {
   "codemirror_mode": {
    "name": "ipython",
    "version": 3
   },
   "file_extension": ".py",
   "mimetype": "text/x-python",
   "name": "python",
   "nbconvert_exporter": "python",
   "pygments_lexer": "ipython3",
   "version": "3.6.3"
  },
  "toc": {
   "nav_menu": {},
   "number_sections": true,
   "sideBar": true,
   "skip_h1_title": false,
   "title_cell": "Table of Contents",
   "title_sidebar": "Contents",
   "toc_cell": false,
   "toc_position": {},
   "toc_section_display": true,
   "toc_window_display": false
  }
 },
 "nbformat": 4,
 "nbformat_minor": 2
}
